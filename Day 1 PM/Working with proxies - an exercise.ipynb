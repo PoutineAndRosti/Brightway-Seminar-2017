{
 "cells": [
  {
   "cell_type": "markdown",
   "metadata": {
    "deletable": true,
    "editable": true
   },
   "source": [
    "# Brightway2 seminar\n",
    "Chris Mutel ([PSI](https://www.psi.ch/)), Pascal Lesage ([CIRAIG](http://www.ciraig.org/en/))"
   ]
  },
  {
   "cell_type": "markdown",
   "metadata": {
    "deletable": true,
    "editable": true
   },
   "source": [
    "## Day 1, afternoon  \n",
    "Session on working with `Activity` and ` Exchange` proxies "
   ]
  },
  {
   "cell_type": "markdown",
   "metadata": {
    "deletable": true,
    "editable": true
   },
   "source": [
    "### Learning objectives  \n",
    "  - Work with `Activity` and ` Exchange` proxies (copy, add, modify, delete)  \n",
    "  - (OPTIONAL - CHRIS?) Calculate uncertainty based on Pedigree  "
   ]
  },
  {
   "cell_type": "markdown",
   "metadata": {
    "deletable": true,
    "editable": true
   },
   "source": [
    "**Exercise**: Create a new activity for offset printing in Quebec (CA-QC) that is based on a copy of the activity `'offset printing, per kg printed paper' (kilogram, CH, None)`. It is to have the following modifications:  \n",
    "  - Its location is to be changed to \"CA-QC\"  \n",
    "  - Its source of electricity is to be changed to electricity from the market for low-voltage electricity in CA-QC  \n",
    "  - Suppose the printing generates no waste. Its paper input needs to be set to 1kg, and its waste paper output needs to be deleted. \n",
    "\n",
    "CHRIS: this may be fun, but probably would take too long.\n",
    "  - The Pedigree matrix scores for the exchanges are to be modified  \n",
    "  - The uncertainty is to be modified based on these modified Pedigree scores"
   ]
  },
  {
   "cell_type": "markdown",
   "metadata": {
    "deletable": true,
    "editable": true
   },
   "source": [
    "**Step 1**: Import Brightway as bw, open the seminar project and make a copy of the ecoinvent v3.3 database (this step can be long, let's do it before the break)."
   ]
  },
  {
   "cell_type": "code",
   "execution_count": 1,
   "metadata": {
    "collapsed": false,
    "deletable": true,
    "editable": true
   },
   "outputs": [
    {
     "name": "stderr",
     "output_type": "stream",
     "text": [
      "Warning: Interpreting naive datetime as local 2017-03-27 23:36:15.705243. Please add timezone info to timestamps.\n"
     ]
    }
   ],
   "source": [
    "import brightway2 as bw"
   ]
  },
  {
   "cell_type": "code",
   "execution_count": 2,
   "metadata": {
    "collapsed": false,
    "deletable": true,
    "editable": true
   },
   "outputs": [
    {
     "name": "stderr",
     "output_type": "stream",
     "text": [
      "Warning: Interpreting naive datetime as local 2017-03-27 23:36:17.424522. Please add timezone info to timestamps.\n"
     ]
    }
   ],
   "source": [
    "# bw.projects.set_current('bw2_seminar_2017')\n",
    "bw.projects.set_current(\"bw2 seminar 2017 😄\")"
   ]
  },
  {
   "cell_type": "code",
   "execution_count": 3,
   "metadata": {
    "collapsed": false,
    "deletable": true,
    "editable": true
   },
   "outputs": [
    {
     "name": "stderr",
     "output_type": "stream",
     "text": [
      "Writing activities to SQLite3 database:\n",
      "0%                          100%\n",
      "[##############################] | ETA: 00:00:00\n",
      "Total time elapsed: 00:00:26\n"
     ]
    },
    {
     "name": "stdout",
     "output_type": "stream",
     "text": [
      "Title: Writing activities to SQLite3 database:\n",
      "  Started: 03/27/2017 23:37:23\n",
      "  Finished: 03/27/2017 23:37:49\n",
      "  Total time elapsed: 00:00:26\n",
      "  CPU %: 97.20\n",
      "  Memory %: 3.03\n"
     ]
    },
    {
     "name": "stderr",
     "output_type": "stream",
     "text": [
      "Warning: Interpreting naive datetime as local 2017-03-27 23:37:10.232763. Please add timezone info to timestamps.\n"
     ]
    }
   ],
   "source": [
    "if 'ecoinvent copy' not in bw.databases:\n",
    "    bw.Database('ecoinvent').copy('ecoinvent copy')\n",
    "else:\n",
    "    print('A copy already exists')\n",
    "eidb = bw.Database('ecoinvent copy')"
   ]
  },
  {
   "cell_type": "markdown",
   "metadata": {
    "deletable": true,
    "editable": true
   },
   "source": [
    "**Step 2**: Create a copy of the activity `'offset printing, per kg printed paper' (kilogram, CH, None)` and assign it to a variable.  "
   ]
  },
  {
   "cell_type": "code",
   "execution_count": 23,
   "metadata": {
    "collapsed": false,
    "deletable": true,
    "editable": true
   },
   "outputs": [
    {
     "data": {
      "text/plain": [
       "['production of carton board boxes, gravure printing, at plant' (kilogram, CH, ['paper & cardboard', 'cardboard & corrugated board']),\n",
       " 'printed wiring board, surface mount, at plant' (square meter, GLO, ['electronics', 'module']),\n",
       " 'printed wiring board, mixed mounted, unspec., solder mix, at plant' (kilogram, GLO, ['electronics', 'module']),\n",
       " 'printer, laser jet, colour, at plant' (unit, GLO, ['electronics', 'devices']),\n",
       " 'paper, newsprint, at regional storage' (kilogram, RER, ['paper & cardboard', 'graphic paper']),\n",
       " 'dismantling, printer, laser, mechanically, at plant' (kilogram, GLO, ['waste management', 'recycling']),\n",
       " 'Fe fraction, mechanical treatment, printer, laser, at plant' (kilogram, GLO, ['waste management', 'recycling']),\n",
       " 'production of carton board boxes, offset printing, at plant' (kilogram, CH, ['paper & cardboard', 'cardboard & corrugated board']),\n",
       " 'printed wiring board, through-hole, lead-containing surface, at plant' (square meter, GLO, ['electronics', 'module']),\n",
       " 'disposal, residues, mechanical treatment, laser printer, in MSWI' (kilogram, CH, ['waste management', 'municipal incineration']),\n",
       " 'printed wiring board, mounted, Laptop PC mainboard, Pb free, at plant' (kilogram, GLO, ['electronics', 'module']),\n",
       " 'disposal, treatment of printed wiring boards' (kilogram, GLO, ['waste management', 'recycling']),\n",
       " 'printed wiring board, power supply unit desktop PC, Pb containing, at plant' (kilogram, GLO, ['electronics', 'module']),\n",
       " 'printed wiring board, surface mounted, unspec., Pb containing, at plant' (kilogram, GLO, ['electronics', 'module']),\n",
       " 'production of carton board boxes, offset printing, at plant' (kilogram, CA-QC, ['paper & cardboard', 'cardboard & corrugated board']),\n",
       " 'Al fraction, mechanical treatment, printer, laser, at plant' (kilogram, GLO, ['waste management', 'recycling']),\n",
       " 'printed wiring board mounting plant' (unit, GLO, ['electronics', 'module']),\n",
       " 'disposal, printer, laser jet, colour, to WEEE treatment' (unit, CH, ['waste management', 'recycling']),\n",
       " 'dismantling, printer, laser, manually, at plant' (kilogram, CH, ['waste management', 'recycling']),\n",
       " 'printed wiring board, mounted, Desktop PC mainboard, Pb free, at plant' (kilogram, GLO, ['electronics', 'module']),\n",
       " 'paper, newsprint, 0% DIP, at plant' (kilogram, RER, ['paper & cardboard', 'graphic paper']),\n",
       " 'printed wiring board, mounted, Laptop PC mainboard, at plant' (kilogram, GLO, ['electronics', 'module']),\n",
       " 'use, printer, laser jet, b/w, printing per h' (hour, RER, ['electronics', 'services']),\n",
       " 'printed wiring board mounting facilities, SMT type' (unit, GLO, ['electronics', 'module']),\n",
       " 'use, printer, laser jet, colour, per kg printed paper' (kilogram, CH, ['electronics', 'services']),\n",
       " 'printed wiring board, through-hole mounted, unspec., Pb free, at plant' (kilogram, GLO, ['electronics', 'module']),\n",
       " 'use, printer, laser jet, colour, printing per h' (hour, CH, ['electronics', 'services']),\n",
       " 'printed wiring board, through-hole mounted, unspec., solder mix, at plant' (kilogram, GLO, ['electronics', 'module']),\n",
       " 'printed wiring board mounting facilities, THT type' (unit, GLO, ['electronics', 'module']),\n",
       " 'printed wiring board, surface mount, lead-free surface, at plant' (square meter, GLO, ['electronics', 'module']),\n",
       " 'printed wiring board, surface mount, lead-containing surface, at plant' (square meter, GLO, ['electronics', 'module']),\n",
       " 'printed wiring board, power supply unit desktop PC, Pb free, at plant' (kilogram, GLO, ['electronics', 'module']),\n",
       " 'use, printer, laser jet, b/w, per kg printed paper' (kilogram, CH, ['electronics', 'services']),\n",
       " 'toner, colour, used for printing' (kilogram, RER, ['electronics', 'module']),\n",
       " 'paper, newsprint, at regional storage' (kilogram, CH, ['paper & cardboard', 'graphic paper']),\n",
       " 'printed wiring board, surface mounted, unspec., Pb free, at plant' (kilogram, GLO, ['electronics', 'module']),\n",
       " 'plugs, inlet and outlet, for printer cable, at plant' (unit, GLO, ['electronics', 'component']),\n",
       " 'printed wiring board, mounted, Desktop PC mainboard, at plant' (kilogram, GLO, ['electronics', 'module']),\n",
       " 'printed wiring board, power supply unit desktop PC, solder mix, at plant' (kilogram, GLO, ['electronics', 'module']),\n",
       " 'printed wiring board, surface mounted, unspec., solder mix, at plant' (kilogram, GLO, ['electronics', 'module']),\n",
       " 'printer, laser jet, b/w, at plant' (unit, GLO, ['electronics', 'devices']),\n",
       " 'printing colour, rotogravure, 55% toluene, at plant' (kilogram, RER, ['paintings', 'production']),\n",
       " 'printed wiring board, mounted, Laptop PC mainboard, Pb containing, at plant' (kilogram, GLO, ['electronics', 'module']),\n",
       " 'printed wiring board, through-hole, at plant' (square meter, GLO, ['electronics', 'module']),\n",
       " 'toner, black, used for printing' (kilogram, RER, ['electronics', 'module']),\n",
       " 'printed wiring board, through-hole mounted, unspec., Pb containing, at plant' (kilogram, GLO, ['electronics', 'module']),\n",
       " 'use, printer, laser jet, b/w, per kg printed paper' (kilogram, RER, ['electronics', 'services']),\n",
       " 'use, printer, laser jet, colour, per kg printed paper' (kilogram, RER, ['electronics', 'services']),\n",
       " 'printed wiring board, through-hole, lead-free surface, at plant' (square meter, GLO, ['electronics', 'module']),\n",
       " 'paper, newsprint, DIP containing, at plant' (kilogram, RER, ['paper & cardboard', 'graphic paper']),\n",
       " 'use, printer, laser jet, b/w, printing per h' (hour, CH, ['electronics', 'services']),\n",
       " 'disposal, printer, laser jet, b/w, to WEEE treatment' (unit, CH, ['waste management', 'recycling']),\n",
       " 'use, printer, laser jet, colour, printing per h' (hour, RER, ['electronics', 'services']),\n",
       " 'paper, newsprint, at plant' (kilogram, CH, ['paper & cardboard', 'graphic paper']),\n",
       " 'printing colour, offset, 47.5% solvent, at plant' (kilogram, RER, ['paintings', 'production']),\n",
       " 'printed wiring board, mounted, Desktop PC mainboard, Pb containing, at plant' (kilogram, GLO, ['electronics', 'module']),\n",
       " 'Cu fraction, mechanical treatment, printer, laser, at plant' (kilogram, GLO, ['waste management', 'recycling']),\n",
       " 'cable, printer cable, without plugs, at plant' (meter, GLO, ['electronics', 'component'])]"
      ]
     },
     "execution_count": 23,
     "metadata": {},
     "output_type": "execute_result"
    },
    {
     "name": "stderr",
     "output_type": "stream",
     "text": [
      "Warning: Interpreting naive datetime as local 2017-03-27 23:45:49.988082. Please add timezone info to timestamps.\n"
     ]
    }
   ],
   "source": [
    "# Solution\n",
    "CH_printing = [act for act in eidb if \"print\" in act['name']]\n",
    "# QC_printing = CH_printing.copy()\n",
    "CH_printing"
   ]
  },
  {
   "cell_type": "markdown",
   "metadata": {
    "deletable": true,
    "editable": true
   },
   "source": [
    "**Step 3**: Just a check: make sure that the key of the activities are not the same"
   ]
  },
  {
   "cell_type": "code",
   "execution_count": 5,
   "metadata": {
    "collapsed": false,
    "deletable": true,
    "editable": true
   },
   "outputs": [
    {
     "data": {
      "text/plain": [
       "False"
      ]
     },
     "execution_count": 5,
     "metadata": {},
     "output_type": "execute_result"
    },
    {
     "name": "stderr",
     "output_type": "stream",
     "text": [
      "Warning: Interpreting naive datetime as local 2017-03-27 23:38:14.755623. Please add timezone info to timestamps.\n"
     ]
    }
   ],
   "source": [
    "CH_printing.key == QC_printing.key"
   ]
  },
  {
   "cell_type": "markdown",
   "metadata": {
    "deletable": true,
    "editable": true
   },
   "source": [
    "**Step 4**: Change the QC activity's location to \"CA-QC\""
   ]
  },
  {
   "cell_type": "code",
   "execution_count": 6,
   "metadata": {
    "collapsed": false,
    "deletable": true,
    "editable": true
   },
   "outputs": [
    {
     "name": "stderr",
     "output_type": "stream",
     "text": [
      "Warning: Interpreting naive datetime as local 2017-03-27 23:38:14.773608. Please add timezone info to timestamps.\n"
     ]
    }
   ],
   "source": [
    "QC_printing['location']=\"CA-QC\"\n",
    "QC_printing.save()"
   ]
  },
  {
   "cell_type": "markdown",
   "metadata": {
    "deletable": true,
    "editable": true
   },
   "source": [
    "**Step 5**: Find the electricity exchange to be replaced in the Quebec printing activity."
   ]
  },
  {
   "cell_type": "code",
   "execution_count": 7,
   "metadata": {
    "collapsed": false,
    "deletable": true,
    "editable": true
   },
   "outputs": [
    {
     "data": {
      "text/plain": [
       "Exchange: 0.325 kilowatt hour 'electricity, medium voltage, at grid' (kilowatt hour, CH, ['electricity', 'supply mix']) to 'production of carton board boxes, offset printing, at plant' (kilogram, CA-QC, ['paper & cardboard', 'cardboard & corrugated board'])>"
      ]
     },
     "execution_count": 7,
     "metadata": {},
     "output_type": "execute_result"
    },
    {
     "name": "stderr",
     "output_type": "stream",
     "text": [
      "Warning: Interpreting naive datetime as local 2017-03-27 23:38:14.839274. Please add timezone info to timestamps.\n"
     ]
    }
   ],
   "source": [
    "electricity_input_exchange = [exc for exc in QC_printing.technosphere() if \"electricity\" in exc['name']][0]\n",
    "electricity_input_exchange"
   ]
  },
  {
   "cell_type": "markdown",
   "metadata": {
    "deletable": true,
    "editable": true
   },
   "source": [
    "**Step 6**: Find the activity that this exchange needs to be relinked to."
   ]
  },
  {
   "cell_type": "code",
   "execution_count": 12,
   "metadata": {
    "collapsed": false,
    "deletable": true,
    "editable": true
   },
   "outputs": [
    {
     "data": {
      "text/plain": [
       "'electricity, low voltage, production BR, at grid' (kilowatt hour, BR, ['electricity', 'production mix'])"
      ]
     },
     "execution_count": 12,
     "metadata": {},
     "output_type": "execute_result"
    },
    {
     "name": "stderr",
     "output_type": "stream",
     "text": [
      "Warning: Interpreting naive datetime as local 2017-03-27 23:41:13.824329. Please add timezone info to timestamps.\n"
     ]
    }
   ],
   "source": [
    "qc_elect=[act for act in eidb \n",
    "    if 'electricity' in act['name']\n",
    "    and 'low voltage' in act['name']\n",
    "    and act['location'] == 'BR'  # QC not in 2.2\n",
    "][0]"
   ]
  },
  {
   "cell_type": "code",
   "execution_count": null,
   "metadata": {
    "collapsed": false,
    "deletable": true,
    "editable": true
   },
   "outputs": [],
   "source": [
    "qc_elect"
   ]
  },
  {
   "cell_type": "markdown",
   "metadata": {
    "deletable": true,
    "editable": true
   },
   "source": [
    "**Step 7**: Relink the electricity input exchange to the QC electricity:"
   ]
  },
  {
   "cell_type": "code",
   "execution_count": 13,
   "metadata": {
    "collapsed": false,
    "deletable": true,
    "editable": true
   },
   "outputs": [
    {
     "name": "stderr",
     "output_type": "stream",
     "text": [
      "Warning: Interpreting naive datetime as local 2017-03-27 23:41:36.331638. Please add timezone info to timestamps.\n"
     ]
    }
   ],
   "source": [
    "electricity_input_exchange.input = qc_elect\n",
    "electricity_input_exchange.save()"
   ]
  },
  {
   "cell_type": "markdown",
   "metadata": {
    "deletable": true,
    "editable": true
   },
   "source": [
    "**Step 8**: Delete the waste paper output.\n",
    "\n",
    "# TODO: Update for 2.2"
   ]
  },
  {
   "cell_type": "code",
   "execution_count": 14,
   "metadata": {
    "collapsed": false,
    "deletable": true,
    "editable": true
   },
   "outputs": [
    {
     "ename": "IndexError",
     "evalue": "list index out of range",
     "output_type": "error",
     "traceback": [
      "\u001b[0;31m---------------------------------------------------------------------------\u001b[0m",
      "\u001b[0;31mIndexError\u001b[0m                                Traceback (most recent call last)",
      "\u001b[0;32m<ipython-input-14-9b66d4ad748d>\u001b[0m in \u001b[0;36m<module>\u001b[0;34m()\u001b[0m\n\u001b[0;32m----> 1\u001b[0;31m \u001b[0mwaste_paper_output\u001b[0m \u001b[0;34m=\u001b[0m \u001b[0;34m[\u001b[0m\u001b[0mexc\u001b[0m \u001b[0;32mfor\u001b[0m \u001b[0mexc\u001b[0m \u001b[0;32min\u001b[0m \u001b[0mQC_printing\u001b[0m\u001b[0;34m.\u001b[0m\u001b[0mtechnosphere\u001b[0m\u001b[0;34m(\u001b[0m\u001b[0;34m)\u001b[0m \u001b[0;32mif\u001b[0m \u001b[0;34m\"paper\"\u001b[0m \u001b[0;32min\u001b[0m \u001b[0mexc\u001b[0m\u001b[0;34m[\u001b[0m\u001b[0;34m'name'\u001b[0m\u001b[0;34m]\u001b[0m \u001b[0;32mif\u001b[0m \u001b[0mexc\u001b[0m\u001b[0;34m[\u001b[0m\u001b[0;34m'amount'\u001b[0m\u001b[0;34m]\u001b[0m\u001b[0;34m<\u001b[0m\u001b[0;36m0\u001b[0m\u001b[0;34m]\u001b[0m\u001b[0;34m[\u001b[0m\u001b[0;36m0\u001b[0m\u001b[0;34m]\u001b[0m\u001b[0;34m\u001b[0m\u001b[0m\n\u001b[0m\u001b[1;32m      2\u001b[0m \u001b[0mwaste_paper_output\u001b[0m\u001b[0;34m\u001b[0m\u001b[0m\n",
      "\u001b[0;31mIndexError\u001b[0m: list index out of range"
     ]
    },
    {
     "name": "stderr",
     "output_type": "stream",
     "text": [
      "Warning: Interpreting naive datetime as local 2017-03-27 23:41:43.309951. Please add timezone info to timestamps.\n"
     ]
    }
   ],
   "source": [
    "waste_paper_output = [exc for exc in QC_printing.technosphere() if \"paper\" in exc['name'] and exc['amount'] < 0][0]\n",
    "waste_paper_output"
   ]
  },
  {
   "cell_type": "code",
   "execution_count": 12,
   "metadata": {
    "collapsed": true,
    "deletable": true,
    "editable": true
   },
   "outputs": [],
   "source": [
    "waste_paper_output.delete()"
   ]
  },
  {
   "cell_type": "markdown",
   "metadata": {
    "deletable": true,
    "editable": true
   },
   "source": [
    "**Step 9**: Change the paper input amount to 1 kg."
   ]
  },
  {
   "cell_type": "code",
   "execution_count": 16,
   "metadata": {
    "collapsed": false,
    "deletable": true,
    "editable": true
   },
   "outputs": [
    {
     "data": {
      "text/plain": [
       "Exchange: 0.0543 kilogram 'paper, woodfree, coated, at regional storage' (kilogram, RER, ['paper & cardboard', 'graphic paper']) to 'production of carton board boxes, offset printing, at plant' (kilogram, CA-QC, ['paper & cardboard', 'cardboard & corrugated board'])>"
      ]
     },
     "execution_count": 16,
     "metadata": {},
     "output_type": "execute_result"
    },
    {
     "name": "stderr",
     "output_type": "stream",
     "text": [
      "Warning: Interpreting naive datetime as local 2017-03-27 23:42:58.161006. Please add timezone info to timestamps.\n"
     ]
    }
   ],
   "source": [
    "paper_input = [exc for exc in QC_printing.technosphere() if \"paper, woodfree\" in exc['name']][0]\n",
    "paper_input"
   ]
  },
  {
   "cell_type": "code",
   "execution_count": 18,
   "metadata": {
    "collapsed": false
   },
   "outputs": [
    {
     "data": {
      "text/plain": [
       "'production of carton board boxes, offset printing, at plant' (kilogram, CA-QC, ['paper & cardboard', 'cardboard & corrugated board'])"
      ]
     },
     "execution_count": 18,
     "metadata": {},
     "output_type": "execute_result"
    },
    {
     "name": "stderr",
     "output_type": "stream",
     "text": [
      "Warning: Interpreting naive datetime as local 2017-03-27 23:44:14.362899. Please add timezone info to timestamps.\n"
     ]
    }
   ],
   "source": [
    "QC_printing"
   ]
  },
  {
   "cell_type": "code",
   "execution_count": 14,
   "metadata": {
    "collapsed": true,
    "deletable": true,
    "editable": true
   },
   "outputs": [],
   "source": [
    "paper_input['amount']=1\n",
    "paper_input.save()"
   ]
  },
  {
   "cell_type": "code",
   "execution_count": 15,
   "metadata": {
    "collapsed": true,
    "deletable": true,
    "editable": true
   },
   "outputs": [],
   "source": [
    "QC_printing.save()"
   ]
  },
  {
   "cell_type": "markdown",
   "metadata": {
    "deletable": true,
    "editable": true
   },
   "source": [
    "**Final result:** "
   ]
  },
  {
   "cell_type": "code",
   "execution_count": 25,
   "metadata": {
    "collapsed": false,
    "deletable": true,
    "editable": true
   },
   "outputs": [
    {
     "name": "stdout",
     "output_type": "stream",
     "text": [
      "chemicals organic, at plant 0.00023 kilogram\n",
      "lubricating oil, at plant 0.0002 kilogram\n",
      "rosin size, in paper production, at plant 0.0052 kilogram\n",
      "solvents, organic, unspecified, at plant 0.0022 kilogram\n",
      "electricity, low voltage, production BR, at grid 0.325 kilowatt hour\n",
      "natural gas, burned in industrial furnace >100kW 1.19 megajoule\n",
      "propane/ butane, at refinery 0.0001 kilogram\n",
      "light fuel oil, burned in industrial furnace 1MW, non-modulating 0.682 megajoule\n",
      "printing colour, offset, 47.5% solvent, at plant 0.0183 kilogram\n",
      "packaging box production unit 1.43e-09 unit\n",
      "production of carton board boxes, offset printing, at plant 1.0 kilogram\n",
      "paper, woodfree, coated, at regional storage 0.0543 kilogram\n",
      "polyethylene, HDPE, granulate, at plant 0.0108 kilogram\n",
      "transport, lorry >16t, fleet average 0.00369 ton kilometer\n",
      "transport, van <3.5t 0.00621 ton kilometer\n",
      "transport, freight, rail 0.0222 ton kilometer\n",
      "disposal, bilge oil, 90% water, to hazardous waste incineration 0.00016 kilogram\n",
      "disposal, municipal solid waste, 22.9% water, to sanitary landfill 0.038 kilogram\n",
      "disposal, hazardous waste, 0% water, to underground deposit 0.00105 kilogram\n",
      "Ammonia 7.1e-05 kilogram\n",
      "Heat, waste 1.17 megajoule\n",
      "NMVOC, non-methane volatile organic compounds, unspecified origin 0.00134 kilogram\n",
      "Water, unspecified natural origin 2.5e-06 cubic meter\n",
      "TOC, Total Organic Carbon 3.5e-05 kilogram\n"
     ]
    },
    {
     "name": "stderr",
     "output_type": "stream",
     "text": [
      "Warning: Interpreting naive datetime as local 2017-03-27 23:52:18.264203. Please add timezone info to timestamps.\n"
     ]
    }
   ],
   "source": [
    "for exc in QC_printing.exchanges():\n",
    "    print(exc.input['name'], exc['amount'], exc['unit'])"
   ]
  },
  {
   "cell_type": "code",
   "execution_count": null,
   "metadata": {
    "collapsed": false,
    "deletable": true,
    "editable": true
   },
   "outputs": [],
   "source": [
    "for exc in CH_printing.exchanges():\n",
    "    print(exc.input['name'], exc['amount'], exc['unit'])"
   ]
  },
  {
   "cell_type": "code",
   "execution_count": null,
   "metadata": {
    "collapsed": true,
    "deletable": true,
    "editable": true
   },
   "outputs": [],
   "source": []
  }
 ],
 "metadata": {
  "kernelspec": {
   "display_name": "Python 3",
   "language": "python",
   "name": "python3"
  },
  "language_info": {
   "codemirror_mode": {
    "name": "ipython",
    "version": 3
   },
   "file_extension": ".py",
   "mimetype": "text/x-python",
   "name": "python",
   "nbconvert_exporter": "python",
   "pygments_lexer": "ipython3",
   "version": "3.6.1"
  },
  "toc": {
   "colors": {
    "hover_highlight": "#DAA520",
    "running_highlight": "#FF0000",
    "selected_highlight": "#FFD700"
   },
   "moveMenuLeft": true,
   "nav_menu": {
    "height": "83px",
    "width": "252px"
   },
   "navigate_menu": true,
   "number_sections": true,
   "sideBar": true,
   "threshold": 4,
   "toc_cell": false,
   "toc_section_display": "block",
   "toc_window_display": false,
   "widenNotebook": false
  },
  "widgets": {
   "state": {},
   "version": "1.1.2"
  }
 },
 "nbformat": 4,
 "nbformat_minor": 0
}
