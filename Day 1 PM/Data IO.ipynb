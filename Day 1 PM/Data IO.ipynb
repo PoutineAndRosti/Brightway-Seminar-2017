{
 "cells": [
  {
   "cell_type": "markdown",
   "metadata": {
    "deletable": true,
    "editable": true
   },
   "source": [
    "# Brightway2 seminar\n",
    "Chris Mutel ([PSI](https://www.psi.ch/)), Pascal Lesage ([CIRAIG](http://www.ciraig.org/en/))"
   ]
  },
  {
   "cell_type": "markdown",
   "metadata": {
    "deletable": true,
    "editable": true
   },
   "source": [
    "## Day 1, afternoon\n",
    "### Session on data input/output"
   ]
  },
  {
   "cell_type": "markdown",
   "metadata": {
    "deletable": true,
    "editable": true
   },
   "source": [
    "### Learning objectives  \n",
    "  - Learn how to input LCI data to Brightway in different ways:  \n",
    "    - Programmatically, via dictionaries created directly in Python  \n",
    "    - Excel/cvs importers  \n",
    "    - SimaPro csv\n",
    "      - Two unit-process example\n",
    "      - Agribalyse\n",
    "    - Importing ecoSpold, ecoSpold2"
   ]
  },
  {
   "cell_type": "markdown",
   "metadata": {
    "deletable": true,
    "editable": true
   },
   "source": [
    "## Standard inputs and setup"
   ]
  },
  {
   "cell_type": "code",
   "execution_count": 1,
   "metadata": {
    "collapsed": false,
    "deletable": true,
    "editable": true
   },
   "outputs": [
    {
     "name": "stderr",
     "output_type": "stream",
     "text": [
      "Warning: Interpreting naive datetime as local 2017-03-29 07:33:37.582317. Please add timezone info to timestamps.\n"
     ]
    }
   ],
   "source": [
    "import brightway2 as bw"
   ]
  },
  {
   "cell_type": "markdown",
   "metadata": {
    "deletable": true,
    "editable": true
   },
   "source": [
    "Setting the project"
   ]
  },
  {
   "cell_type": "code",
   "execution_count": 2,
   "metadata": {
    "collapsed": false,
    "deletable": true,
    "editable": true
   },
   "outputs": [
    {
     "name": "stderr",
     "output_type": "stream",
     "text": [
      "Warning: Interpreting naive datetime as local 2017-03-29 07:33:39.161623. Please add timezone info to timestamps.\n"
     ]
    }
   ],
   "source": [
    "bw.projects.set_current('bw2_seminar_2017')"
   ]
  },
  {
   "cell_type": "markdown",
   "metadata": {
    "deletable": true,
    "editable": true
   },
   "source": [
    "Assigning our database to a variable"
   ]
  },
  {
   "cell_type": "code",
   "execution_count": 6,
   "metadata": {
    "collapsed": false,
    "deletable": true,
    "editable": true
   },
   "outputs": [
    {
     "name": "stderr",
     "output_type": "stream",
     "text": [
      "Warning: Interpreting naive datetime as local 2017-03-29 07:36:52.479518. Please add timezone info to timestamps.\n"
     ]
    }
   ],
   "source": [
    "eidb = bw.Database('ecoinvent 2.2')"
   ]
  },
  {
   "cell_type": "markdown",
   "metadata": {
    "deletable": true,
    "editable": true
   },
   "source": [
    "## Context"
   ]
  },
  {
   "cell_type": "markdown",
   "metadata": {
    "deletable": true,
    "editable": true
   },
   "source": [
    "Performing LCA generally requires:\n",
    "  - Background LCI data (e.g. an LCI database)  \n",
    "  - Foreground LCI data  \n",
    "  - Sets of characterization factors.    \n",
    "This section will deal with the way data is input to Brightway"
   ]
  },
  {
   "cell_type": "markdown",
   "metadata": {
    "deletable": true,
    "editable": true
   },
   "source": [
    "Useful documentation about what a database in Brightway is can be found [here](http://nbviewer.jupyter.org/urls/bitbucket.org/cmutel/brightway2/raw/default/notebooks/Databases.ipynb) and [here](https://docs.brightwaylca.org/intro.html#inventory-databases)."
   ]
  },
  {
   "cell_type": "markdown",
   "metadata": {
    "deletable": true,
    "editable": true
   },
   "source": [
    "## 1) Creating a database programmatically"
   ]
  },
  {
   "cell_type": "markdown",
   "metadata": {
    "deletable": true,
    "editable": true
   },
   "source": [
    "One can create a database via a database. This database would include activities that would contain information about the activities themselves as well as information about the exchanges that are output to this activity (although these get seperated out when the data is written to the actual `database.db`). Let's look at the components of a database for a random activity:"
   ]
  },
  {
   "cell_type": "code",
   "execution_count": 7,
   "metadata": {
    "collapsed": false,
    "deletable": true,
    "editable": true
   },
   "outputs": [
    {
     "name": "stderr",
     "output_type": "stream",
     "text": [
      "Warning: Interpreting naive datetime as local 2017-03-29 07:36:55.871532. Please add timezone info to timestamps.\n"
     ]
    }
   ],
   "source": [
    "random_act = eidb.random()"
   ]
  },
  {
   "cell_type": "code",
   "execution_count": 8,
   "metadata": {
    "collapsed": false,
    "deletable": true,
    "editable": true
   },
   "outputs": [
    {
     "data": {
      "text/plain": [
       "{'authors': [{'address': 'Reckenholzstr.191, 8046 Zürich',\n",
       "   'company': 'ART',\n",
       "   'country': 'CH',\n",
       "   'email': 'art@ecoinvent.org',\n",
       "   'name': 'Sebastiano Meier'}],\n",
       " 'categories': ['agricultural means of production', 'seed'],\n",
       " 'code': '43dc021644399e95cfcd10fdfb94a27e',\n",
       " 'comment': \"Refers to 1 kg of rye seed (fresh weight), with a maximum water content of 15%\\nThe seed produced at the farm is transported to the processing centre, treated (pre-cleaning, cleaning, eventually drying, chemical dressing (for integrated production) and bag filling), stored and afterwards transported to the regional storage centre. No data on wastewater production were available. \\nTechnology:  Refers to average seed processing\\nTime period:  Date of the major data sources.\\nProduction volume:  Consumption of rye seed in Switzerland is 1'149 t/year, 62% imported\\nSampling:  Data based on a literature, expert information and enquiry of seed processing plants.\\nExtrapolations:  Production of imported seed is approximated by seed produced in Switzerland.\",\n",
       " 'database': 'ecoinvent 2.2',\n",
       " 'filename': '/Users/cmutel/Documents/LCA Documents/Ecoinvent/2.2/processes/00147.XML',\n",
       " 'location': 'CH',\n",
       " 'name': 'rye seed IP, at regional storehouse',\n",
       " 'production amount': 1.0,\n",
       " 'type': 'process',\n",
       " 'unit': 'kilogram'}"
      ]
     },
     "execution_count": 8,
     "metadata": {},
     "output_type": "execute_result"
    },
    {
     "name": "stderr",
     "output_type": "stream",
     "text": [
      "Warning: Interpreting naive datetime as local 2017-03-29 07:36:57.578641. Please add timezone info to timestamps.\n"
     ]
    }
   ],
   "source": [
    "# Information about activities themselves:\n",
    "random_act.as_dict()"
   ]
  },
  {
   "cell_type": "code",
   "execution_count": 9,
   "metadata": {
    "collapsed": false,
    "deletable": true,
    "editable": true
   },
   "outputs": [
    {
     "data": {
      "text/plain": [
       "{'amount': 0.024,\n",
       " 'categories': ('electricity', 'supply mix'),\n",
       " 'comment': '(2,3,1,1,1,5)',\n",
       " 'input': ('ecoinvent 2.2', '261fb14cc1671ff51389716f4bc0d7b2'),\n",
       " 'loc': -3.7297014486341915,\n",
       " 'location': 'CH',\n",
       " 'name': 'electricity, low voltage, at grid',\n",
       " 'negative': False,\n",
       " 'output': ('ecoinvent 2.2', '43dc021644399e95cfcd10fdfb94a27e'),\n",
       " 'scale': 0.09116077839697724,\n",
       " 'type': 'technosphere',\n",
       " 'uncertainty type': 2,\n",
       " 'unit': 'kilowatt hour'}"
      ]
     },
     "execution_count": 9,
     "metadata": {},
     "output_type": "execute_result"
    },
    {
     "name": "stderr",
     "output_type": "stream",
     "text": [
      "Warning: Interpreting naive datetime as local 2017-03-29 07:37:02.471231. Please add timezone info to timestamps.\n"
     ]
    }
   ],
   "source": [
    "# Information associated with the exchanges of this activity:\n",
    "[exc for exc in random_act.exchanges()][1].as_dict()"
   ]
  },
  {
   "cell_type": "markdown",
   "metadata": {
    "deletable": true,
    "editable": true
   },
   "source": [
    "Let's create one for our simple LCA:"
   ]
  },
  {
   "cell_type": "code",
   "execution_count": 10,
   "metadata": {
    "collapsed": false,
    "deletable": true,
    "editable": true
   },
   "outputs": [
    {
     "name": "stderr",
     "output_type": "stream",
     "text": [
      "Warning: Interpreting naive datetime as local 2017-03-29 07:37:07.790261. Please add timezone info to timestamps.\n"
     ]
    }
   ],
   "source": [
    "database_as_dictionary = bw.Database(\"Database as dict\")\n",
    "\n",
    "water_bottle_data = {\n",
    "    (\"Database as dict\", \"Some code for the bottle production\"): {\n",
    "        \"name\": \"Water bottle production\",\n",
    "        'unit': 'unit',\n",
    "        'location': 'CH',\n",
    "        'categories': (\"Some made up\", \"category here\"),\n",
    "        \"exchanges\": [{\n",
    "            \"amount\": 0.33,\n",
    "            \"input\": ('ecoinvent 2.2', 'c028a331b2ce1cd30ce326c3ba284a62'), #Aluminium\n",
    "            \"type\": \"technosphere\",\n",
    "            \"uncertainty type\":0,\n",
    "            \"unit=\": \"kg\"},\n",
    "                      {\n",
    "            \"amount\": 0.33,\n",
    "            \"input\": ('ecoinvent 2.2', 'ea5e562ab50994b90b7b3e0a3cd0e498'), #Deformation stroke\n",
    "            \"type\": \"technosphere\",\n",
    "            \"uncertainty type\":0,\n",
    "            \"unit=\": \"kg\"}\n",
    "        ],\n",
    "        },\n",
    "    (\"Database as dict\", \"Some code for drinking a bottle full of water\"): {\n",
    "        \"name\": \"Water drinking\",\n",
    "        'unit': 'liter',\n",
    "        'location': 'CH',\n",
    "        'categories': (\"Another made up\", \"category here\"),\n",
    "        \"exchanges\": [{\n",
    "            \"amount\": 1,\n",
    "            \"input\": (\"Database as dict\", \"Some code for the bottle production\"), #Our water bottle\n",
    "            \"type\": \"technosphere\",\n",
    "            \"uncertainty type\":5,\n",
    "            \"loc\":0.005,\n",
    "            \"minimum\":0.0005,\n",
    "            \"maximum\":0.05,\n",
    "            \"unit\": \"kg\"},\n",
    "                      {\n",
    "            \"amount\": 1,\n",
    "            \"input\": ('ecoinvent 2.2', 'b80ba272db9a3202e07a29d7574cff80'), #Water\n",
    "            \"type\": \"technosphere\",\n",
    "            \"uncertainty type\":0,\n",
    "            \"unit=\": \"kg\"}],\n",
    "        }\n",
    "}"
   ]
  },
  {
   "cell_type": "code",
   "execution_count": 11,
   "metadata": {
    "collapsed": false,
    "deletable": true,
    "editable": true
   },
   "outputs": [
    {
     "name": "stderr",
     "output_type": "stream",
     "text": [
      "Writing activities to SQLite3 database:\n",
      "0%  100%\n",
      "[##] | ETA: 00:00:00\n",
      "Total time elapsed: 00:00:00\n"
     ]
    },
    {
     "name": "stdout",
     "output_type": "stream",
     "text": [
      "Title: Writing activities to SQLite3 database:\n",
      "  Started: 03/29/2017 07:37:33\n",
      "  Finished: 03/29/2017 07:37:33\n",
      "  Total time elapsed: 00:00:00\n",
      "  CPU %: 118.60\n",
      "  Memory %: 2.06\n"
     ]
    },
    {
     "name": "stderr",
     "output_type": "stream",
     "text": [
      "Warning: Interpreting naive datetime as local 2017-03-29 07:37:33.598713. Please add timezone info to timestamps.\n"
     ]
    }
   ],
   "source": [
    "database_as_dictionary.write(water_bottle_data)"
   ]
  },
  {
   "cell_type": "code",
   "execution_count": 14,
   "metadata": {
    "collapsed": false,
    "deletable": true,
    "editable": true
   },
   "outputs": [
    {
     "data": {
      "text/plain": [
       "2"
      ]
     },
     "execution_count": 14,
     "metadata": {},
     "output_type": "execute_result"
    },
    {
     "name": "stderr",
     "output_type": "stream",
     "text": [
      "Warning: Interpreting naive datetime as local 2017-03-29 07:38:31.106710. Please add timezone info to timestamps.\n"
     ]
    }
   ],
   "source": [
    "len(database_as_dictionary)"
   ]
  },
  {
   "cell_type": "code",
   "execution_count": 15,
   "metadata": {
    "collapsed": false,
    "deletable": true,
    "editable": true
   },
   "outputs": [
    {
     "data": {
      "text/plain": [
       "'Water drinking' (liter, CH, ('Another made up', 'category here'))"
      ]
     },
     "execution_count": 15,
     "metadata": {},
     "output_type": "execute_result"
    },
    {
     "name": "stderr",
     "output_type": "stream",
     "text": [
      "Warning: Interpreting naive datetime as local 2017-03-29 07:39:00.752816. Please add timezone info to timestamps.\n"
     ]
    }
   ],
   "source": [
    "drinking_act = [act for act in database_as_dictionary if \"drinking\" in act['name']][0]\n",
    "drinking_act"
   ]
  },
  {
   "cell_type": "code",
   "execution_count": 16,
   "metadata": {
    "collapsed": false
   },
   "outputs": [
    {
     "name": "stderr",
     "output_type": "stream",
     "text": [
      "Warning: Interpreting naive datetime as local 2017-03-29 07:40:08.109959. Please add timezone info to timestamps.\n"
     ]
    }
   ],
   "source": [
    "lca = bw.LCA({drinking_act:1}, ('IPCC 2013', 'climate change', 'GWP 100a'))\n",
    "lca.load_lci_data()"
   ]
  },
  {
   "cell_type": "code",
   "execution_count": 18,
   "metadata": {
    "collapsed": false
   },
   "outputs": [
    {
     "data": {
      "text/plain": [
       "(4089, 4089)"
      ]
     },
     "execution_count": 18,
     "metadata": {},
     "output_type": "execute_result"
    },
    {
     "name": "stderr",
     "output_type": "stream",
     "text": [
      "Warning: Interpreting naive datetime as local 2017-03-29 07:40:43.387689. Please add timezone info to timestamps.\n"
     ]
    }
   ],
   "source": [
    "lca.technosphere_matrix.shape"
   ]
  },
  {
   "cell_type": "code",
   "execution_count": 19,
   "metadata": {
    "collapsed": false
   },
   "outputs": [
    {
     "data": {
      "text/plain": [
       "array([[ 1.,  0.,  0.],\n",
       "       [ 0.,  1., -1.],\n",
       "       [ 0.,  0.,  1.]])"
      ]
     },
     "execution_count": 19,
     "metadata": {},
     "output_type": "execute_result"
    },
    {
     "name": "stderr",
     "output_type": "stream",
     "text": [
      "Warning: Interpreting naive datetime as local 2017-03-29 07:41:21.962579. Please add timezone info to timestamps.\n"
     ]
    }
   ],
   "source": [
    "lca.technosphere_matrix.toarray()[4086:, 4086:]"
   ]
  },
  {
   "cell_type": "code",
   "execution_count": 20,
   "metadata": {
    "collapsed": false,
    "deletable": true,
    "editable": true
   },
   "outputs": [
    {
     "name": "stderr",
     "output_type": "stream",
     "text": [
      "Warning: Interpreting naive datetime as local 2017-03-29 07:41:44.849220. Please add timezone info to timestamps.\n"
     ]
    }
   ],
   "source": [
    "water_bottle_LCA_from_dict_input = bw.LCA({drinking_act:1}, ('IPCC 2013', 'climate change', 'GWP 100a'))"
   ]
  },
  {
   "cell_type": "code",
   "execution_count": 21,
   "metadata": {
    "collapsed": false,
    "deletable": true,
    "editable": true
   },
   "outputs": [
    {
     "data": {
      "text/plain": [
       "0.565134555796863"
      ]
     },
     "execution_count": 21,
     "metadata": {},
     "output_type": "execute_result"
    },
    {
     "name": "stderr",
     "output_type": "stream",
     "text": [
      "Warning: Interpreting naive datetime as local 2017-03-29 07:41:46.487240. Please add timezone info to timestamps.\n"
     ]
    }
   ],
   "source": [
    "water_bottle_LCA_from_dict_input.lci()\n",
    "water_bottle_LCA_from_dict_input.lcia()\n",
    "water_bottle_LCA_from_dict_input.score"
   ]
  },
  {
   "cell_type": "markdown",
   "metadata": {
    "deletable": true,
    "editable": true
   },
   "source": [
    "# Chris - not solving..."
   ]
  },
  {
   "cell_type": "markdown",
   "metadata": {
    "deletable": true,
    "editable": true
   },
   "source": [
    "## Approach 2: from an Excel spreadsheet"
   ]
  },
  {
   "cell_type": "markdown",
   "metadata": {
    "deletable": true,
    "editable": true
   },
   "source": [
    "See spreadsheet on Github."
   ]
  },
  {
   "cell_type": "code",
   "execution_count": 24,
   "metadata": {
    "collapsed": false,
    "deletable": true,
    "editable": true
   },
   "outputs": [
    {
     "name": "stderr",
     "output_type": "stream",
     "text": [
      "Warning: Interpreting naive datetime as local 2017-03-29 07:46:05.472703. Please add timezone info to timestamps.\n"
     ]
    }
   ],
   "source": [
    "import os"
   ]
  },
  {
   "cell_type": "code",
   "execution_count": 26,
   "metadata": {
    "collapsed": false,
    "deletable": true,
    "editable": true
   },
   "outputs": [
    {
     "name": "stdout",
     "output_type": "stream",
     "text": [
      "Extracted 3 worksheets in 0.01 seconds\n",
      "Applying strategy: csv_restore_tuples\n",
      "Applying strategy: csv_restore_booleans\n",
      "Applying strategy: csv_numerize\n",
      "Applying strategy: csv_drop_unknown\n",
      "Applying strategy: normalize_units\n",
      "Applying strategy: normalize_biosphere_categories\n",
      "Applying strategy: normalize_biosphere_names\n",
      "Applying strategy: strip_biosphere_exc_locations\n",
      "Applying strategy: set_code_by_activity_hash\n",
      "Applying strategy: link_iterable_by_fields\n",
      "Applying strategy: assign_only_product_as_production\n",
      "Applying strategy: link_technosphere_by_activity_hash\n",
      "Applying strategy: drop_falsey_uncertainty_fields_but_keep_zeros\n",
      "Applying strategy: convert_uncertainty_types_to_integers\n",
      "Applied 14 strategies in 0.30 seconds\n",
      "Applying strategy: link_iterable_by_fields\n",
      "2 datasets\n",
      "6 exchanges\n",
      "5 unlinked exchanges\n",
      "  Type production: 2 unique unlinked exchanges\n",
      "  Type technosphere: 3 unique unlinked exchanges\n"
     ]
    },
    {
     "data": {
      "text/plain": [
       "(2, 6, 5)"
      ]
     },
     "execution_count": 26,
     "metadata": {},
     "output_type": "execute_result"
    },
    {
     "name": "stderr",
     "output_type": "stream",
     "text": [
      "Warning: Interpreting naive datetime as local 2017-03-29 07:52:17.867036. Please add timezone info to timestamps.\n"
     ]
    }
   ],
   "source": [
    "imp = bw.ExcelImporter(join(\"files\", \"excel_importer_example.xlsx\"))\n",
    "imp.apply_strategies()\n",
    "imp.match_database(\"ecoinvent 2.2\", fields=('name', 'unit', 'location'))\n",
    "imp.statistics()"
   ]
  },
  {
   "cell_type": "markdown",
   "metadata": {
    "deletable": true,
    "editable": true
   },
   "source": [
    "# Failure #2!"
   ]
  },
  {
   "cell_type": "markdown",
   "metadata": {
    "collapsed": true,
    "deletable": true,
    "editable": true
   },
   "source": [
    "## Approach 3: From SimaPro csv"
   ]
  },
  {
   "cell_type": "markdown",
   "metadata": {
    "deletable": true,
    "editable": true
   },
   "source": [
    "AgriBalyse\n",
    "ecoSpold1\n",
    "ecoSpold2"
   ]
  },
  {
   "cell_type": "code",
   "execution_count": null,
   "metadata": {
    "collapsed": true,
    "deletable": true,
    "editable": true
   },
   "outputs": [],
   "source": []
  }
 ],
 "metadata": {
  "kernelspec": {
   "display_name": "Python 3",
   "language": "python",
   "name": "python3"
  },
  "language_info": {
   "codemirror_mode": {
    "name": "ipython",
    "version": 3
   },
   "file_extension": ".py",
   "mimetype": "text/x-python",
   "name": "python",
   "nbconvert_exporter": "python",
   "pygments_lexer": "ipython3",
   "version": "3.6.1"
  },
  "toc": {
   "colors": {
    "hover_highlight": "#DAA520",
    "running_highlight": "#FF0000",
    "selected_highlight": "#FFD700"
   },
   "moveMenuLeft": true,
   "nav_menu": {
    "height": "208px",
    "width": "252px"
   },
   "navigate_menu": true,
   "number_sections": true,
   "sideBar": true,
   "threshold": 4,
   "toc_cell": false,
   "toc_section_display": "block",
   "toc_window_display": false,
   "widenNotebook": false
  }
 },
 "nbformat": 4,
 "nbformat_minor": 2
}
