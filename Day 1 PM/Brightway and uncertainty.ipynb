{
 "cells": [
  {
   "cell_type": "markdown",
   "metadata": {},
   "source": [
    "# Brightway2 seminar\n",
    "Chris Mutel ([PSI](https://www.psi.ch/)), Pascal Lesage ([CIRAIG](http://www.ciraig.org/en/))"
   ]
  },
  {
   "cell_type": "markdown",
   "metadata": {},
   "source": [
    "## Day 1, afternoon\n",
    "### Session on uncertainty in Brightway"
   ]
  },
  {
   "cell_type": "markdown",
   "metadata": {},
   "source": [
    "### Learning objectives  \n",
    "  - Learn how uncertainty is represented in exchanges  \n",
    "  - Learn how to carry out a MonteCarloLCA  "
   ]
  },
  {
   "cell_type": "markdown",
   "metadata": {},
   "source": [
    "Standard inputs"
   ]
  },
  {
   "cell_type": "code",
   "execution_count": 5,
   "metadata": {
    "collapsed": true
   },
   "outputs": [],
   "source": [
    "import brightway2 as bw\n",
    "import numpy as np"
   ]
  },
  {
   "cell_type": "markdown",
   "metadata": {},
   "source": [
    "Open the seminar project:"
   ]
  },
  {
   "cell_type": "code",
   "execution_count": 2,
   "metadata": {
    "collapsed": false
   },
   "outputs": [],
   "source": [
    "bw.projects.set_current('bw2_seminar_2017')"
   ]
  },
  {
   "cell_type": "markdown",
   "metadata": {},
   "source": [
    "### 1) Uncertainty information in Brightway exchanges"
   ]
  },
  {
   "cell_type": "markdown",
   "metadata": {},
   "source": [
    "Uncertainty is stored at the level of the exchanges.  \n",
    "\n",
    "**Sample exchange from ecoinvent v3.3 (`lognormal`**)   \n",
    "Let's look at a random exchange from ecoinvent 3.3, from which we removed some fields that were not necessary for the purpose of discussing uncertainty :"
   ]
  },
  {
   "cell_type": "code",
   "execution_count": 3,
   "metadata": {
    "collapsed": false
   },
   "outputs": [],
   "source": [
    "some_exc_from_ecoinvent = {'name': 'ethylene, average',\n",
    "                           'type': 'technosphere',\n",
    "                           'amount': 0.23244,\n",
    "                           'unit': 'kilogram',\n",
    "                           'input': ('ecoinvent 3.3 cutoff', '14db59eea64e46a1e8332973f714a3ef'),\n",
    "                           'output': ('ecoinvent 3.3 cutoff', 'df875d1e65cd48bc1ac69b960e172e85'),\n",
    "                           'uncertainty type': 2,\n",
    "                           'loc': -1.459123151775232,\n",
    "                           'scale without pedigree': 0.1414213562373095,\n",
    "                           'scale': 0.2,\n",
    "                           'pedigree': {\n",
    "                               'completeness': 5,\n",
    "                               'further technological correlation': 1,\n",
    "                               'geographical correlation': 5,\n",
    "                               'reliability': 4,\n",
    "                               'temporal correlation': 3\n",
    "                           }\n",
    "                          }"
   ]
  },
  {
   "cell_type": "markdown",
   "metadata": {},
   "source": [
    "In this *specific* case, the *necessary* uncertainty of the exchange are described in the following fields:  \n",
    "  - **'uncertainty type'** : type of probability distribution function that the exchange follows. In this case, the exchange has an uncertainty type = 2, indicating it is a `lognormal`  distribution.  \n",
    "  - **'loc', 'scale'**: parameters of the lognormal distribution function, which are respectively the mean $\\mu$ and the standard deviation $\\sigma$ of the underlying normal distribution (more on this later).  \n",
    "  \n",
    "Other probability distributions functions (e.g. normal, triangular, etc.) can also be modelled, and will each have their own specific paramters (more on this later). \n",
    "\n",
    "Some *additional* uncertainty related information ('scale without pedigree', 'pedigree') are also there, but are not directly used in the calculation of the uncertainty. They are also specific to ecoinvent. "
   ]
  },
  {
   "cell_type": "markdown",
   "metadata": {},
   "source": [
    "Uncertainty in Brightway is dealt with using a Python package called `stats_arrays` (see [here](http://stats-arrays.readthedocs.io/en/latest/)), developed by Chris Mutel in the context of the development of Brightway but applicable to any stochastic model in Python. Let's import it. "
   ]
  },
  {
   "cell_type": "code",
   "execution_count": 4,
   "metadata": {
    "collapsed": true
   },
   "outputs": [],
   "source": [
    "import stats_arrays"
   ]
  },
  {
   "cell_type": "markdown",
   "metadata": {},
   "source": [
    "Before delving into the details of ` stats_arrays`, let's have a quick look at the uncertainty information above. \n",
    "As a reminder:   \n",
    "  - a random variable $X$ is a lognormal if its natural logarithm $ln(X)$ is normally distributed  \n",
    "  - the natural logarithm of the *median* of the lognormal distribution is equal to the median (=mean) of the underlying distribution  \n",
    "\n",
    "Taking the deterministic amount `amount` to be the median, we should have `loc` = `ln('amount')`. "
   ]
  },
  {
   "cell_type": "code",
   "execution_count": 9,
   "metadata": {
    "collapsed": false
   },
   "outputs": [
    {
     "data": {
      "text/plain": [
       "True"
      ]
     },
     "execution_count": 9,
     "metadata": {},
     "output_type": "execute_result"
    }
   ],
   "source": [
    "some_exc_from_ecoinvent['loc'] == np.log(some_exc_from_ecoinvent['amount'])"
   ]
  },
  {
   "cell_type": "markdown",
   "metadata": {},
   "source": [
    "The link between the geometric standard deviation ($GSD$) of $X$ and the standard deviation of $ln(X)$ ($/mu$) is:  $GSD=e^{\\mu}$. The $GSD^2$ og the sample exchange above is therefore:"
   ]
  },
  {
   "cell_type": "code",
   "execution_count": 11,
   "metadata": {
    "collapsed": false
   },
   "outputs": [
    {
     "data": {
      "text/plain": [
       "1.4918246976412703"
      ]
     },
     "execution_count": 11,
     "metadata": {},
     "output_type": "execute_result"
    }
   ],
   "source": [
    "GSD2 = np.exp(some_exc_from_ecoinvent['scale'])**2\n",
    "GSD2"
   ]
  },
  {
   "cell_type": "markdown",
   "metadata": {},
   "source": [
    "Approximately 95% of the values for the lognormally distributed parameter $X$ are between $median/GSD^2$ and $median*GSD^2$. In the example:  "
   ]
  },
  {
   "cell_type": "code",
   "execution_count": 18,
   "metadata": {
    "collapsed": false
   },
   "outputs": [
    {
     "name": "stdout",
     "output_type": "stream",
     "text": [
      "Approx. 95% of the values are in the range [0.155809191500524, 0.34675973271973687]\n"
     ]
    }
   ],
   "source": [
    "print(\"Approx. 95% of the values are in the range [{}, {}]\".format(some_exc_from_ecoinvent['amount']/GSD2, some_exc_from_ecoinvent['amount']*GSD2))"
   ]
  },
  {
   "cell_type": "markdown",
   "metadata": {},
   "source": [
    "In a Monte Carlo simulation, we would want to sample a large number of values for many random variables and recalculate results using these randomly sampled values. This is where `stats_arrays` comes in.  "
   ]
  },
  {
   "cell_type": "markdown",
   "metadata": {},
   "source": [
    "The `stats_arrays` methods requires parameter arrays for the random variables. These parameter arrays contain exactly seven paramters per random variable, and are stored as a Numpy structured array. These seven parameters are:  \n",
    " - 'loc' (first shape parameter of the distribution, related to the central tendency  \n",
    " - 'scale' (second shape parameter, related to the dispersion of the paramter)  \n",
    " - 'shape' (third shape parameter, related to the dispersion's skewness)  \n",
    " - 'minimum' (lower limit to the values that can be sampled. This can be a core parameter of the distribution (e.g. for the uniform distribution) of an optional parameter (e.g. for normal distributions for which negatove values are excluded).  \n",
    " - 'maximum' (upper limit to the values that can be sampled - see 'minimum'.  \n",
    " - 'negative' (an indication of whether the random variable is negative. useful for generating e.g. \"negative lognormals\".\n",
    " - 'uncertainty_type' Type of uncertainty (normal, lognormal, triangular, etc.)  \n",
    "\n",
    "The following table, taken from [here](http://stats-arrays.readthedocs.io/en/latest/), that states which paramters are required, which are optional and which are not relevant for the distribution functions explicitly modeled now in `stats_arrays`  \n",
    "<img src=\"images/stats_arrays_table.JPG\">"
   ]
  },
  {
   "cell_type": "markdown",
   "metadata": {},
   "source": [
    "One can create a stats array using the class method `stats_arrays.UncertaintyBase.from_dicts' "
   ]
  },
  {
   "cell_type": "code",
   "execution_count": 26,
   "metadata": {
    "collapsed": false
   },
   "outputs": [
    {
     "data": {
      "text/plain": [
       "array([(-1.45912315,  0.2,  nan,  nan,  nan, False, 2),\n",
       "       ( 2.        ,  0.5,  nan,  nan,  nan, False, 3),\n",
       "       ( 1.5       ,  nan,  nan,   0.,  10., False, 5)], \n",
       "      dtype=[('loc', '<f8'), ('scale', '<f8'), ('shape', '<f8'), ('minimum', '<f8'), ('maximum', '<f8'), ('negative', '?'), ('uncertainty_type', 'u1')])"
      ]
     },
     "execution_count": 26,
     "metadata": {},
     "output_type": "execute_result"
    }
   ],
   "source": [
    "# Creating a stats array for three random variables. \n",
    "my_uncertain_variables = stats_arrays.UncertaintyBase.from_dicts(\n",
    "    {'loc': some_exc_from_ecoinvent['loc'], \n",
    "     'scale': some_exc_from_ecoinvent['scale'], \n",
    "     'uncertainty_type': some_exc_from_ecoinvent['uncertainty type']},\n",
    "    {'loc': 2, 'scale': 0.5, 'uncertainty_type': stats_arrays.NormalUncertainty.id},\n",
    "    {'loc': 1.5, 'minimum': 0, 'maximum': 10, 'uncertainty_type': stats_arrays.TriangularUncertainty.id}\n",
    ")\n",
    "my_uncertain_variables"
   ]
  },
  {
   "cell_type": "markdown",
   "metadata": {},
   "source": [
    "One can then use the `stats_arrays.MCRandomNumberGenerator` to generate samples for the differnt variables, which is a generator for which we can use the `next` command:"
   ]
  },
  {
   "cell_type": "code",
   "execution_count": 48,
   "metadata": {
    "collapsed": true
   },
   "outputs": [],
   "source": [
    "my_rng = stats_arrays.MCRandomNumberGenerator(my_uncertain_variables)"
   ]
  },
  {
   "cell_type": "code",
   "execution_count": 49,
   "metadata": {
    "collapsed": false
   },
   "outputs": [
    {
     "data": {
      "text/plain": [
       "array([ 0.29666699,  1.16691997,  4.42700975])"
      ]
     },
     "execution_count": 49,
     "metadata": {},
     "output_type": "execute_result"
    }
   ],
   "source": [
    "# Using `next`:\n",
    "next(my_rng)"
   ]
  },
  {
   "cell_type": "code",
   "execution_count": 50,
   "metadata": {
    "collapsed": false
   },
   "outputs": [
    {
     "data": {
      "text/plain": [
       "array([[ 0.25736467,  2.19696566,  1.16556844],\n",
       "       [ 0.26461269,  2.66602054,  3.99102199],\n",
       "       [ 0.27751033,  1.29639883,  3.94880135],\n",
       "       [ 0.28552087,  2.50509276,  3.10439448],\n",
       "       [ 0.19507183,  2.04155515,  4.127155  ],\n",
       "       [ 0.17594805,  1.71756024,  5.99113623],\n",
       "       [ 0.19115472,  1.56258351,  5.69921973],\n",
       "       [ 0.28000925,  1.83493566,  2.22506036],\n",
       "       [ 0.28510989,  2.1160002 ,  7.77394375],\n",
       "       [ 0.28510989,  2.1160002 ,  7.77394375]])"
      ]
     },
     "execution_count": 50,
     "metadata": {},
     "output_type": "execute_result"
    }
   ],
   "source": [
    "# Using `next` in a loop:\n",
    "np.array([rng.next() for _ in range(10)])"
   ]
  },
  {
   "cell_type": "markdown",
   "metadata": {},
   "source": [
    "## 2) Monte Carlo calculations in Brightway"
   ]
  },
  {
   "cell_type": "markdown",
   "metadata": {},
   "source": [
    "### General syntax"
   ]
  },
  {
   "cell_type": "code",
   "execution_count": 52,
   "metadata": {
    "collapsed": false
   },
   "outputs": [
    {
     "data": {
      "text/plain": [
       "'soybean methyl ester, production US, at service station' (kilogram, CH, ['biomass', 'fuels'])"
      ]
     },
     "execution_count": 52,
     "metadata": {},
     "output_type": "execute_result"
    }
   ],
   "source": [
    "random_act = bw.Database('ecoinvent 2.2').random()\n",
    "random_act"
   ]
  },
  {
   "cell_type": "code",
   "execution_count": 54,
   "metadata": {
    "collapsed": false
   },
   "outputs": [
    {
     "data": {
      "text/plain": [
       "[1.1706241632075627,\n",
       " 1.3682146388006031,\n",
       " 1.5845670676861614,\n",
       " 1.3320895426544892,\n",
       " 1.1765512430486047,\n",
       " 1.366758878086722,\n",
       " 1.361414611405248,\n",
       " 1.2099967961537306,\n",
       " 1.4448611177777781,\n",
       " 1.2664083790827274]"
      ]
     },
     "execution_count": 54,
     "metadata": {},
     "output_type": "execute_result"
    }
   ],
   "source": [
    "myFirstMonteCarlo = bw.MonteCarloLCA({random_act:1},  ('IPCC 2013', 'climate change', 'GWP 100a'))\n",
    "scores = [next(myFirstMonteCarlo) for _ in range(10)]\n",
    "scores"
   ]
  },
  {
   "cell_type": "markdown",
   "metadata": {},
   "source": [
    "### How it works  \n",
    "  - Matrices are built as in standard LCA (using the approach seen this morning `builder`)  \n",
    "  - The `MCRandomNumberGenerator` generates new values for all paramters in the $A$ and $B$ matrices (and for characterization factors if the LCA has an LCIA component, i.e. if `MonteCarloLCA` was instantiatied with a method).  \n",
    "  - For every subsequent iteration, matrices are rebuilt with new sampled values BUT same indices, cutting down on matrix building time  \n",
    "  - Rather than solving the system of linear equations directly, an *iterative solver* is used. This takes as an initial guess the solution found with the paramter values from the first Monte Carlo iteration.  \n",
    "  ## - CHRIS PLEASE CONFIRM THE FORMER THE DEFAULT IN THE MonteCarloLCA - I thought so, but can't tell from the source code.\n",
    "  "
   ]
  },
  {
   "cell_type": "markdown",
   "metadata": {},
   "source": [
    "### Monte Carlo using multiple impact assessment methods (no uncertainty on characterization factors)\n",
    "There is presently no method in Brightway that does MonteCarlo iterationswith multiple LCIA methods. This can be annoying since the results obtained for different impact categories are correlated (they depend on some of the same paramters from the $A$ and, to a smaller extent, $B$ matrix), but this correlation is lost when you need to do Monte Carlo simulations sequentially. \n",
    "There are two obvious solutions (and probably many other, not so obvious solutions):  "
   ]
  },
  {
   "cell_type": "markdown",
   "metadata": {},
   "source": [
    "**Solution 1**: One can store the $A$ and $B$ matrix values and reuse them. This is possible using the `ParameterVectorLCA` class of Monte Carlo, which generates a single array with all these parameters as well as sampled characterization factors. While not implemented, it would be possible to concatenate many such vectors (one per MonteCarlo iteration) and recalculate LCIA scores using matrices built using `ParameterVectorLCA.rebuild_all`."
   ]
  },
  {
   "cell_type": "markdown",
   "metadata": {},
   "source": [
    "**Solution 2**: If there is no uncertainy associated with the characterization factors, one can instead store characterization matrices and multiply the inventory resulting from MonteCarloLCA for each iteration.  "
   ]
  },
  {
   "cell_type": "markdown",
   "metadata": {
    "solution2": "hidden",
    "solution2_first": true
   },
   "source": [
    "**Exercise**: Write a function that uses MonteCarloLCA and calculates arrays of scores for multiple impact categories. Test your function with a functional unit = {random_act:1}, list of methods = all ILCD methods (with long term emissions) and 1000 MOnte Carlo iterations.\n",
    "\n",
    "Step 1) Create a MonteCarloLCA object with some functional unit but no method. Run `.lci` to build the $A$ and $B$ matrices (and hence fix the indices of our matrices)  \n",
    "Step 2) Create a 'C_matrices' dictionary (empty for now), that will collect characterization factor matrices (C matrices). Keys will be the tuple representing the method name, and the values will be the actual matrices.  \n",
    "Step 3) Write a `for` loop that iterates over a list of method names and stores the method_name:C_matrix in the dictionary. Use `switch_method` to do this.  \n",
    "Once this dictionary is built:  \n",
    "Step 4): Create an empty array (`np.empty`) of dimension equal to the number of methods that will be considered (rows) by the number of iterations required (columns).  \n",
    "Step 5) Populate this array using a `for` loop over the number of MonteCarlo iterations required (use `next` to rebuild the $A$ and $B$ matrices). Include a nested `for` loop over the methods and multiply the characterization matrix with the inventory.  \n",
    "Step 6) Take all this code and structure it in a function that takes as arguments (1) the functional unit, (2) a list of method names and (3) the number of iterations."
   ]
  },
  {
   "cell_type": "code",
   "execution_count": 68,
   "metadata": {
    "collapsed": true,
    "solution2": "hidden"
   },
   "outputs": [],
   "source": [
    "def multiImpactMonteCarloLCA(functional_unit, list_methods, iterations):\n",
    "    # Step 1\n",
    "    MC_lca = bw.MonteCarloLCA(functional_unit)\n",
    "    MC_lca.lci()\n",
    "    # Step 2\n",
    "    C_matrices = {}\n",
    "    # Step 3\n",
    "    for method in list_methods:\n",
    "        MC_lca.switch_method(method)\n",
    "        C_matrices[method] = MC_lca.characterization_matrix\n",
    "    # Step 4\n",
    "    results = np.empty((len(list_methods), iterations))\n",
    "    # Step 5\n",
    "    for iteration in range(iterations):\n",
    "        next(MC_lca)\n",
    "        for method_index, method in enumerate(list_methods):\n",
    "            results[method_index, iteration] = (C_matrices[method]*MC_lca.inventory).sum()\n",
    "    return results"
   ]
  },
  {
   "cell_type": "code",
   "execution_count": 62,
   "metadata": {
    "collapsed": true,
    "solution2": "hidden"
   },
   "outputs": [],
   "source": [
    "ILCD = [method for method in bw.methods if \"ILCD\" in str(method) and \"no LT\" not in str(method)]\n",
    "fu = {random_act:1}\n",
    "iterations = 100"
   ]
  },
  {
   "cell_type": "code",
   "execution_count": 69,
   "metadata": {
    "collapsed": false,
    "solution2": "hidden"
   },
   "outputs": [],
   "source": [
    "test_results = multiImpactMonteCarloLCA(fu, ILCD, iterations)"
   ]
  },
  {
   "cell_type": "code",
   "execution_count": 70,
   "metadata": {
    "collapsed": false,
    "solution2": "hidden"
   },
   "outputs": [
    {
     "data": {
      "text/plain": [
       "array([[  1.13342404e+00,   1.18007044e+00,   1.48454903e+00, ...,\n",
       "          1.11038821e+00,   1.42487355e+00,   1.28508097e+00],\n",
       "       [  1.02924251e-03,   9.72600621e-04,   1.04048818e-03, ...,\n",
       "          8.77505680e-04,   1.46729939e-03,   1.13511586e-03],\n",
       "       [  5.80484929e+00,   1.19983961e+01,   5.26334387e+00, ...,\n",
       "          2.74226221e+00,   8.41831101e+00,   1.55299517e+01],\n",
       "       ..., \n",
       "       [  8.55066182e-08,   1.10786040e-07,   1.28906601e-07, ...,\n",
       "          1.06863289e-07,   1.21667911e-07,   1.45760330e-07],\n",
       "       [  3.91987641e-07,   2.50497337e-07,   2.45303470e-07, ...,\n",
       "          2.20911414e-07,   3.72427451e-07,   5.41403488e-07],\n",
       "       [  1.18968842e-02,   1.27351605e-02,   1.37002713e-02, ...,\n",
       "          1.07569110e-02,   1.24859416e-02,   2.93620049e-02]])"
      ]
     },
     "execution_count": 70,
     "metadata": {},
     "output_type": "execute_result"
    }
   ],
   "source": [
    "test_results"
   ]
  }
 ],
 "metadata": {
  "kernelspec": {
   "display_name": "Python 3",
   "language": "python",
   "name": "python3"
  },
  "language_info": {
   "codemirror_mode": {
    "name": "ipython",
    "version": 3
   },
   "file_extension": ".py",
   "mimetype": "text/x-python",
   "name": "python",
   "nbconvert_exporter": "python",
   "pygments_lexer": "ipython3",
   "version": "3.6.1"
  }
 },
 "nbformat": 4,
 "nbformat_minor": 2
}
