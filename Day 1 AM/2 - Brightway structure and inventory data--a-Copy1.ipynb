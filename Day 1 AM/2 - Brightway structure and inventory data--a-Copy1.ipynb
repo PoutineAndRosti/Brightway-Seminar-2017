{
 "cells": [
  {
   "cell_type": "markdown",
   "metadata": {
    "deletable": true,
    "editable": true
   },
   "source": [
    "# Brightway2 seminar\n",
    "Chris Mutel ([PSI](https://www.psi.ch/)), Pascal Lesage ([CIRAIG](http://www.ciraig.org/en/))"
   ]
  },
  {
   "cell_type": "markdown",
   "metadata": {},
   "source": [
    "## Day 1, AM:\n",
    "\n",
    "#### Getting started:  \n",
    "  - Setting up  \n",
    "    * Downloading and installing Brightway  \n",
    "    * Accessing Brightway\n",
    "  - Projects  \n",
    "    * Concept  \n",
    "    * Contents  \n",
    "    * Creation  \n",
    "  - bw2_setup()  \n",
    "    * biosphere3 database  \n",
    "    * Methods  \n",
    "    * Looking up elementary flows (list comprehensions, search)  \n",
    "    * Searching for methods  \n",
    "    * Nice display of data in methods \n",
    "  - LCI databases  \n",
    "    - Importing (succinct)  \n",
    "    - Activities, exchanges\n",
    "\n",
    "#### Our first LCA - simplest case:  \n",
    "  - The `bw.LCA` object  \n",
    "  - Defining the functional unit  \n",
    "  - `.lci()` method  \n",
    "    * Demand array  \n",
    "    * Indices and activity_dict, biosphere_dict and product_dict  \n",
    "    * $A$ and $B$ matrices, (CSR, COO)  \n",
    "    * Reverse dictionaries  \n",
    "    * Nice layout of information in Pandas series  \n",
    "  - `.lcia()` method  \n",
    "  - Simple contribution analysis  \n",
    "  \n",
    "#### Our second LCA - comparative LCA:\n",
    "  - Different approaches:  \n",
    "    * Comparing two LCA objects  \n",
    "    * Creating a \"comparison\" activity\n",
    "    * MultiLCA \n",
    "  - Presenting the results\n",
    "    \n",
    "#### Our third LCA - Multiple LCIA impact categories\n",
    "  - Different approaches:  \n",
    "    * `for` loop  \n",
    "    * MultiLCA   \n",
    "    * Working directly with the characterization factors  \n",
    "  - Presenting the results"
   ]
  },
  {
   "cell_type": "markdown",
   "metadata": {
    "deletable": true,
    "editable": true
   },
   "source": [
    "## Getting started"
   ]
  },
  {
   "cell_type": "markdown",
   "metadata": {
    "deletable": true,
    "editable": true
   },
   "source": [
    "Status (2017-02-22): \n",
    "  - As used in intro session at CIRAIG/CRVMR\n",
    "  - Needs clean-up (e.g. header levels)\n",
    "  - Need to remove ecoinvent v3.3 examples.\n",
    "  - Need a rearead with rested head."
   ]
  },
  {
   "cell_type": "markdown",
   "metadata": {
    "deletable": true,
    "editable": true
   },
   "source": [
    "### Setting up"
   ]
  },
  {
   "cell_type": "markdown",
   "metadata": {
    "deletable": true,
    "editable": true
   },
   "source": [
    "#### Installation"
   ]
  },
  {
   "cell_type": "markdown",
   "metadata": {
    "deletable": true,
    "editable": true
   },
   "source": [
    "*Windows*  \n",
    "The easiest way to install Brightway2 is to download the [Brightway2 Windows installation package](https://brightwaylca.org/data/bw2-python-windows.7z), and extract to the C:\\ drive. This will create the directory C:\\bw2-python\\.  \n",
    "\n",
    "*Mac, Linux*  \n",
    "Please follow instructions [here](https://brightwaylca.org/dev-docs/installation.html). "
   ]
  },
  {
   "cell_type": "markdown",
   "metadata": {
    "deletable": true,
    "editable": true
   },
   "source": [
    "#### Accessing Brightway2 libraries"
   ]
  },
  {
   "cell_type": "markdown",
   "metadata": {
    "deletable": true,
    "editable": true
   },
   "source": [
    "The different modules in Brightway2 are Python libraries. This means that, to use them, you can use any environment from which you normally use Python (Idle, command prompt, Spyder or, as is the case today, Jupyter Notebooks).  \n",
    "\n",
    "We will favour Jupyter Notebooks in this seminar because it allows us to integrate code and text. It will also allow us to provide code snippets for you to complete.  \n",
    "\n",
    "Note that the [Brightway2 installation package](https://docs.brightwaylca.org/installation.html) installs Brightway2 in a separate [Conda environment](https://conda.io/docs/using/using.html). This isolates Brightway2 from your other Python installations. It however requires you to activate the bw2 environment. You can do this the same way you [normally activate Conda environments](https://conda.io/docs/using/envs.html#change-environments-activate-deactivate), or by executing the bw2-env.bat batch file installed in your `bw2-python` directory (located at `C:\\bw2-python`in Windows).  \n",
    "\n",
    "The `bw2-python` directory also offers two other ways to run Brightway2: via IPython (run the `bw2-ipython.bat` file) or via Jupyter Notebooks (`bw2-notebook.bat`).  "
   ]
  },
  {
   "cell_type": "markdown",
   "metadata": {
    "deletable": true,
    "editable": true
   },
   "source": [
    "For this course, you should run `bw2-notebook.bat` and open the Notebooks (such as this one), allowing you to directly run the code and get some hands-on experience. "
   ]
  },
  {
   "cell_type": "markdown",
   "metadata": {
    "deletable": true,
    "editable": true
   },
   "source": [
    "Like all other Python packages, you need to `import` Brightway2 modules. We will here import everything from Brightway2:"
   ]
  },
  {
   "cell_type": "code",
   "execution_count": 1,
   "metadata": {
    "collapsed": false,
    "deletable": true,
    "editable": true
   },
   "outputs": [],
   "source": [
    "import brightway2 as bw"
   ]
  },
  {
   "cell_type": "markdown",
   "metadata": {
    "deletable": true,
    "editable": true
   },
   "source": [
    "### Projects, set-up"
   ]
  },
  {
   "cell_type": "markdown",
   "metadata": {
    "deletable": true,
    "editable": true
   },
   "source": [
    "The top-level containent in Brightway2 is the project (see [here](https://docs.brightwaylca.org/intro.html#projects) for a description and [here](https://docs.brightwaylca.org/technical/bw2data.html#projects) for the docs). A project contains LCI databases, LCIA methods and other less often used objects. Objects from one project do not interract with objects within other projects. By analogy, projects are like databases in openLCA and SimePro.  \n",
    "When you first launch Brightway2, you will be in the `default` project. You can check this using the `current` property of the `projects` object: "
   ]
  },
  {
   "cell_type": "code",
   "execution_count": 2,
   "metadata": {
    "collapsed": false,
    "deletable": true,
    "editable": true
   },
   "outputs": [
    {
     "data": {
      "text/plain": [
       "'default'"
      ]
     },
     "execution_count": 2,
     "metadata": {},
     "output_type": "execute_result"
    }
   ],
   "source": [
    "bw.projects.current"
   ]
  },
  {
   "cell_type": "markdown",
   "metadata": {
    "deletable": true,
    "editable": true
   },
   "source": [
    "Let's create a new project for this seminar, unsurprisingly called \"bw2_seminar_2017\". There are two ways of doing this:  \n",
    "* `projects.create_project('bw2_seminar_2017')` will create the project, but you will remain in your current project.\n",
    "* `projects.set_current('bw2_seminar_2017')` will switch you to the project passed as argument, and create it first if it doesn't exist.  Let's do the latter:"
   ]
  },
  {
   "cell_type": "code",
   "execution_count": 3,
   "metadata": {
    "collapsed": false,
    "deletable": true,
    "editable": true
   },
   "outputs": [],
   "source": [
    "# The name of the project is entered as string; \n",
    "# it doesn't really have any restrictions, so can include spaces, \n",
    "# special characters, other languages, or even emoji.\n",
    "\n",
    "bw.projects.set_current('bw2_seminar_2017') "
   ]
  },
  {
   "cell_type": "markdown",
   "metadata": {
    "deletable": true,
    "editable": true
   },
   "source": [
    "You can always see what projects you have on your computer by running `list(bw.projects)`. Unless you have worked with Brightway2 before on your computer, your list should contain two projects: 'default' and 'bw2_seminar_2017'."
   ]
  },
  {
   "cell_type": "code",
   "execution_count": null,
   "metadata": {
    "collapsed": true,
    "deletable": true,
    "editable": true
   },
   "outputs": [],
   "source": [
    "# Exercise: list the projects on your computer.\n"
   ]
  },
  {
   "cell_type": "markdown",
   "metadata": {
    "deletable": true,
    "editable": true
   },
   "source": [
    "Like in all Python modules, you can get additionnal information on the `projects` object and associated properties and methods by typing `help(projects)`. The [docs](https://docs.brightwaylca.org/technical/bw2data.html#projects) are of course more verbose."
   ]
  },
  {
   "cell_type": "markdown",
   "metadata": {
    "deletable": true,
    "editable": true
   },
   "source": [
    "One property of `projects` is its location, given by `projects.dir`:"
   ]
  },
  {
   "cell_type": "code",
   "execution_count": 4,
   "metadata": {
    "collapsed": false,
    "deletable": true,
    "editable": true
   },
   "outputs": [
    {
     "data": {
      "text/plain": [
       "'C:\\\\Users\\\\pasca\\\\AppData\\\\Local\\\\pylca\\\\Brightway3\\\\bw2_seminar_2017.058cb6360ae51ecc25fe811e209c8b06'"
      ]
     },
     "execution_count": 4,
     "metadata": {},
     "output_type": "execute_result"
    }
   ],
   "source": [
    "bw.projects.dir"
   ]
  },
  {
   "cell_type": "markdown",
   "metadata": {
    "deletable": true,
    "editable": true
   },
   "source": [
    "Looking at what is inside:  \n",
    "<img src=\"project_folder_before_setup.JPG\">"
   ]
  },
  {
   "cell_type": "markdown",
   "metadata": {
    "deletable": true,
    "editable": true
   },
   "source": [
    "All the directories are empty except the `lci` directory, which contains an empty database:"
   ]
  },
  {
   "cell_type": "markdown",
   "metadata": {
    "deletable": true,
    "editable": true
   },
   "source": [
    "All in all, the project takes up 4KB.  \n",
    "Its now time to start populating the project."
   ]
  },
  {
   "cell_type": "markdown",
   "metadata": {
    "deletable": true,
    "editable": true
   },
   "source": [
    "The first thing you should do is add flow and LCIA methods. This is done by running the `bw2setup` function:"
   ]
  },
  {
   "cell_type": "code",
   "execution_count": 6,
   "metadata": {
    "collapsed": false,
    "deletable": true,
    "editable": true
   },
   "outputs": [
    {
     "name": "stdout",
     "output_type": "stream",
     "text": [
      "Biosphere database already present!!! No setup is needed\n"
     ]
    }
   ],
   "source": [
    "bw.bw2setup()"
   ]
  },
  {
   "cell_type": "markdown",
   "metadata": {
    "deletable": true,
    "editable": true
   },
   "source": [
    "The output tells us that bw2_setup created some very useful things:  \n",
    "  - Created a database called \"biosphere3\": this database contains elementary flows (called biosphere exchanges in Brightway2)  \n",
    "  - 718 impact assessment methods  \n",
    "  \n",
    "It also created some a `mapping` between the imported exchanges and some integer: more on this later.  \n",
    "The whole directory now takes up 125MB."
   ]
  },
  {
   "cell_type": "markdown",
   "metadata": {
    "deletable": true,
    "editable": true
   },
   "source": [
    "Looking at the contents of the `databases.db` database, we see we have imported 4029 exchanges:  \n",
    "<img src=\"database_after_setup_data.JPG\">"
   ]
  },
  {
   "cell_type": "markdown",
   "metadata": {
    "deletable": true,
    "editable": true
   },
   "source": [
    "While not impossible to interact with the data at this level, you probably never will unless you are developping some funky program. Instead, it is strongly recommended to learn to work with `abstractions`. Let's explore some now:"
   ]
  },
  {
   "cell_type": "markdown",
   "metadata": {
    "deletable": true,
    "editable": true
   },
   "source": [
    "#### Biosphere database  \n",
    "The data in Brightway is stored in databases. When you run `bw2_setup()`, the first database that is created is the 'biosphere' database, as mentionned above.  \n",
    "You can always list the databases inside a project by simply typing 'databases'. This accesses the 'database.json' file in your 'project.dir' (I learned the latter by typing `databases?`, you should try it too.)"
   ]
  },
  {
   "cell_type": "code",
   "execution_count": 8,
   "metadata": {
    "collapsed": false,
    "deletable": true,
    "editable": true
   },
   "outputs": [
    {
     "data": {
      "text/plain": [
       "Databases dictionary with 3 object(s):\n",
       "\tbiosphere3\n",
       "\tecoinvent 2.2\n",
       "\tecoinvent 3.3 cutoff"
      ]
     },
     "execution_count": 8,
     "metadata": {},
     "output_type": "execute_result"
    }
   ],
   "source": [
    "bw.databases"
   ]
  },
  {
   "cell_type": "markdown",
   "metadata": {
    "deletable": true,
    "editable": true
   },
   "source": [
    "To actually access a database, you need to use the `Database' method` (again, you can type `Database?` for more information - this is the last I'll mention this."
   ]
  },
  {
   "cell_type": "code",
   "execution_count": 10,
   "metadata": {
    "collapsed": false,
    "deletable": true,
    "editable": true
   },
   "outputs": [
    {
     "data": {
      "text/plain": [
       "Brightway2 SQLiteBackend: biosphere3"
      ]
     },
     "execution_count": 10,
     "metadata": {},
     "output_type": "execute_result"
    }
   ],
   "source": [
    "bw.Database('biosphere3')"
   ]
  },
  {
   "cell_type": "markdown",
   "metadata": {
    "deletable": true,
    "editable": true
   },
   "source": [
    "It doesn't actually return anything other than information about the Backend.  \n",
    "However, there are many properties and functions associated with this database object.  These are found [here](https://docs.brightwaylca.org/technical/bw2data.html). We can also have a look through the autocomplete. Let's assign the database to a variable:"
   ]
  },
  {
   "cell_type": "code",
   "execution_count": 11,
   "metadata": {
    "collapsed": true,
    "deletable": true,
    "editable": true
   },
   "outputs": [],
   "source": [
    "my_bio = bw.Database('biosphere3')"
   ]
  },
  {
   "cell_type": "markdown",
   "metadata": {
    "deletable": true,
    "editable": true
   },
   "source": [
    "Let's check the my_bio `type`:"
   ]
  },
  {
   "cell_type": "code",
   "execution_count": 12,
   "metadata": {
    "collapsed": false,
    "deletable": true,
    "editable": true
   },
   "outputs": [
    {
     "data": {
      "text/plain": [
       "bw2data.backends.peewee.database.SQLiteBackend"
      ]
     },
     "execution_count": 12,
     "metadata": {},
     "output_type": "execute_result"
    }
   ],
   "source": [
    "type(my_bio)"
   ]
  },
  {
   "cell_type": "markdown",
   "metadata": {
    "deletable": true,
    "editable": true
   },
   "source": [
    "Let's check its length:"
   ]
  },
  {
   "cell_type": "code",
   "execution_count": 13,
   "metadata": {
    "collapsed": false,
    "deletable": true,
    "editable": true
   },
   "outputs": [
    {
     "data": {
      "text/plain": [
       "4029"
      ]
     },
     "execution_count": 13,
     "metadata": {},
     "output_type": "execute_result"
    }
   ],
   "source": [
    "len(my_bio)"
   ]
  },
  {
   "cell_type": "markdown",
   "metadata": {
    "deletable": true,
    "editable": true
   },
   "source": [
    "This is exactly the number of items we saw had been added to databases.db"
   ]
  },
  {
   "cell_type": "markdown",
   "metadata": {
    "deletable": true,
    "editable": true
   },
   "source": [
    "If you type `my_bio.` and click on tab, you should get a list of properties and methods associated with database objects. Try this now:"
   ]
  },
  {
   "cell_type": "code",
   "execution_count": null,
   "metadata": {
    "collapsed": true,
    "deletable": true,
    "editable": true
   },
   "outputs": [],
   "source": [
    "my_bio.        #Type my_bio. and click tab. Have a look at the different properties and objects"
   ]
  },
  {
   "cell_type": "markdown",
   "metadata": {
    "deletable": true,
    "editable": true
   },
   "source": [
    "Some of the more basic ones we will be using now are :  \n",
    "  - `random()` - returns a random activity in the database\n",
    "  - `get(*valid_exchange_tuple*)` - returns an activity, but you must know the activity key\n",
    "  - `load()` - loads the whole database as a dictionary.\n",
    "  - `make_searchable` - allows searching of the database (by default, it is already searchable)\n",
    "  - `search` - search the database  \n",
    "  \n",
    "Lets start with random:"
   ]
  },
  {
   "cell_type": "code",
   "execution_count": 14,
   "metadata": {
    "collapsed": false,
    "deletable": true,
    "editable": true
   },
   "outputs": [
    {
     "data": {
      "text/plain": [
       "'Imazamox' (kilogram, None, ('air', 'non-urban air or from high stacks'))"
      ]
     },
     "execution_count": 14,
     "metadata": {},
     "output_type": "execute_result"
    }
   ],
   "source": [
    "my_bio.random()"
   ]
  },
  {
   "cell_type": "markdown",
   "metadata": {
    "deletable": true,
    "editable": true
   },
   "source": [
    "This returns a biosphere activity, but without assigning it to a variable, there is not much we can do with it directly.  \n",
    "Let's assign it to a variable:"
   ]
  },
  {
   "cell_type": "code",
   "execution_count": 15,
   "metadata": {
    "collapsed": false,
    "deletable": true,
    "editable": true
   },
   "outputs": [
    {
     "data": {
      "text/plain": [
       "'Methane, dichloro-, HCC-30' (kilogram, None, ('water', 'surface water'))"
      ]
     },
     "execution_count": 15,
     "metadata": {},
     "output_type": "execute_result"
    }
   ],
   "source": [
    "random_biosphere = my_bio.random()\n",
    "random_biosphere"
   ]
  },
  {
   "cell_type": "code",
   "execution_count": 16,
   "metadata": {
    "collapsed": false,
    "deletable": true,
    "editable": true
   },
   "outputs": [
    {
     "data": {
      "text/plain": [
       "bw2data.backends.peewee.proxies.Activity"
      ]
     },
     "execution_count": 16,
     "metadata": {},
     "output_type": "execute_result"
    }
   ],
   "source": [
    "type(random_biosphere)"
   ]
  },
  {
   "cell_type": "markdown",
   "metadata": {
    "deletable": true,
    "editable": true
   },
   "source": [
    "To see what it contains, we can load convert it to a dictionary:"
   ]
  },
  {
   "cell_type": "code",
   "execution_count": 17,
   "metadata": {
    "collapsed": false,
    "deletable": true,
    "editable": true
   },
   "outputs": [
    {
     "data": {
      "text/plain": [
       "{'categories': ('water', 'surface water'),\n",
       " 'code': '1b6a35b8-f6c8-404d-9c0e-e09b8fdb2d9e',\n",
       " 'database': 'biosphere3',\n",
       " 'name': 'Methane, dichloro-, HCC-30',\n",
       " 'type': 'emission',\n",
       " 'unit': 'kilogram'}"
      ]
     },
     "execution_count": 17,
     "metadata": {},
     "output_type": "execute_result"
    }
   ],
   "source": [
    "random_biosphere.as_dict()"
   ]
  },
  {
   "cell_type": "markdown",
   "metadata": {
    "deletable": true,
    "editable": true
   },
   "source": [
    "We can see that the activities in the biosphere3 database have unique codes, which we can use with the `get` function:"
   ]
  },
  {
   "cell_type": "code",
   "execution_count": 18,
   "metadata": {
    "collapsed": false,
    "deletable": true,
    "editable": true
   },
   "outputs": [
    {
     "data": {
      "text/plain": [
       "'Methane, dichloro-, HCC-30' (kilogram, None, ('water', 'surface water'))"
      ]
     },
     "execution_count": 18,
     "metadata": {},
     "output_type": "execute_result"
    }
   ],
   "source": [
    "my_bio.get(random_biosphere['code'])"
   ]
  },
  {
   "cell_type": "markdown",
   "metadata": {
    "deletable": true,
    "editable": true
   },
   "source": [
    "Activities can also be \"gotten\" via `get_activity`, but the argument is the activity **key**, consisting of a tuple with two elements: the database name, and the activity code."
   ]
  },
  {
   "cell_type": "code",
   "execution_count": 19,
   "metadata": {
    "collapsed": false,
    "deletable": true,
    "editable": true
   },
   "outputs": [
    {
     "data": {
      "text/plain": [
       "'Aniline' (kilogram, None, ('air',))"
      ]
     },
     "execution_count": 19,
     "metadata": {},
     "output_type": "execute_result"
    }
   ],
   "source": [
    "bw.get_activity((                         #Enter a tuple consisting of the database name (as string) and activity code"
   ]
  },
  {
   "cell_type": "markdown",
   "metadata": {},
   "source": [
    "You can always find (or return) the key to an activity using the `.key` property."
   ]
  },
  {
   "cell_type": "code",
   "execution_count": 20,
   "metadata": {
    "collapsed": false,
    "deletable": true,
    "editable": true
   },
   "outputs": [
    {
     "data": {
      "text/plain": [
       "('biosphere3', '1b6a35b8-f6c8-404d-9c0e-e09b8fdb2d9e')"
      ]
     },
     "execution_count": 20,
     "metadata": {},
     "output_type": "execute_result"
    }
   ],
   "source": [
    "random_biosphere.key"
   ]
  },
  {
   "cell_type": "markdown",
   "metadata": {
    "deletable": true,
    "editable": true
   },
   "source": [
    "Let's say we are looking for a specific elementary flow, we can use search:"
   ]
  },
  {
   "cell_type": "code",
   "execution_count": 21,
   "metadata": {
    "collapsed": false,
    "deletable": true,
    "editable": true
   },
   "outputs": [
    {
     "data": {
      "text/plain": [
       "['Carbon dioxide, fossil' (kilogram, None, ('air', 'low population density, long-term')),\n",
       " 'Carbon dioxide, in air' (kilogram, None, ('natural resource', 'in air')),\n",
       " 'Carbon dioxide, fossil' (kilogram, None, ('air', 'non-urban air or from high stacks')),\n",
       " 'Carbon dioxide, fossil' (kilogram, None, ('air', 'lower stratosphere + upper troposphere')),\n",
       " 'Carbon dioxide, fossil' (kilogram, None, ('air', 'urban air close to ground')),\n",
       " 'Carbon dioxide, fossil' (kilogram, None, ('air',)),\n",
       " 'Carbon dioxide, non-fossil' (kilogram, None, ('air', 'urban air close to ground')),\n",
       " 'Carbon dioxide, non-fossil' (kilogram, None, ('air',)),\n",
       " 'Carbon dioxide, non-fossil' (kilogram, None, ('air', 'lower stratosphere + upper troposphere')),\n",
       " 'Carbon dioxide, non-fossil' (kilogram, None, ('air', 'non-urban air or from high stacks')),\n",
       " 'Carbon dioxide, non-fossil' (kilogram, None, ('air', 'low population density, long-term')),\n",
       " 'Carbon dioxide, to soil or biomass stock' (kilogram, None, ('soil',)),\n",
       " 'Carbon dioxide, from soil or biomass stock' (kilogram, None, ('air', 'indoor')),\n",
       " 'Carbon dioxide, from soil or biomass stock' (kilogram, None, ('air', 'low population density, long-term')),\n",
       " 'Carbon dioxide, non-fossil, from calcination' (kilogram, None, ['air']),\n",
       " 'Carbon dioxide, to soil or biomass stock' (kilogram, None, ('soil', 'forestry')),\n",
       " 'Carbon dioxide, from soil or biomass stock' (kilogram, None, ('air',)),\n",
       " 'Carbon dioxide, from soil or biomass stock' (kilogram, None, ('air', 'urban air close to ground')),\n",
       " 'Carbon dioxide, from soil or biomass stock' (kilogram, None, ('air', 'lower stratosphere + upper troposphere')),\n",
       " 'Carbon dioxide, from soil or biomass stock' (kilogram, None, ('air', 'non-urban air or from high stacks')),\n",
       " 'Carbon dioxide, to soil or biomass stock' (kilogram, None, ('soil', 'agricultural')),\n",
       " 'Carbon dioxide, to soil or biomass stock' (kilogram, None, ('soil', 'industrial'))]"
      ]
     },
     "execution_count": 21,
     "metadata": {},
     "output_type": "execute_result"
    }
   ],
   "source": [
    "bw.Database('biosphere3').search('carbon dioxide')"
   ]
  },
  {
   "cell_type": "markdown",
   "metadata": {
    "deletable": true,
    "editable": true
   },
   "source": [
    "The database object is also iterable, allowing \"home-made\" searches through list comprehensions."
   ]
  },
  {
   "cell_type": "code",
   "execution_count": 22,
   "metadata": {
    "collapsed": false,
    "deletable": true,
    "editable": true
   },
   "outputs": [
    {
     "data": {
      "text/plain": [
       "['Carbon dioxide, non-fossil' (kilogram, None, ('air', 'non-urban air or from high stacks')),\n",
       " 'Carbon dioxide, non-fossil' (kilogram, None, ('air', 'urban air close to ground')),\n",
       " 'Carbon dioxide, fossil' (kilogram, None, ('air', 'non-urban air or from high stacks')),\n",
       " 'Carbon dioxide, fossil' (kilogram, None, ('air', 'urban air close to ground'))]"
      ]
     },
     "execution_count": 22,
     "metadata": {},
     "output_type": "execute_result"
    }
   ],
   "source": [
    "[act for act in my_bio if 'Carbon dioxide' in act['name'] \n",
    "                                            and 'fossil' in act['name']\n",
    "                                            and 'urban air' in str(act['categories'])\n",
    "         ]"
   ]
  },
  {
   "cell_type": "code",
   "execution_count": 23,
   "metadata": {
    "collapsed": true,
    "deletable": true,
    "editable": true
   },
   "outputs": [],
   "source": [
    "act_I_want = [act for act in my_bio if 'Carbon dioxide' in act['name'] \n",
    "                                            and 'fossil' in act['name']\n",
    "                                            and 'urban air' in str(act['categories'])\n",
    "         ][0]"
   ]
  },
  {
   "cell_type": "code",
   "execution_count": 24,
   "metadata": {
    "collapsed": false,
    "deletable": true,
    "editable": true
   },
   "outputs": [
    {
     "data": {
      "text/plain": [
       "'d6235194-e4e6-4548-bfa3-ac095131aef4'"
      ]
     },
     "execution_count": 24,
     "metadata": {},
     "output_type": "execute_result"
    }
   ],
   "source": [
    "act_I_want.as_dict()['code']"
   ]
  },
  {
   "cell_type": "code",
   "execution_count": null,
   "metadata": {
    "collapsed": true,
    "deletable": true,
    "editable": true
   },
   "outputs": [],
   "source": [
    "# Exercise: look for and assign to a variable an emission of nitrous oxide emitted to air in the \"urban air\" subcompartment."
   ]
  },
  {
   "cell_type": "markdown",
   "metadata": {
    "deletable": true,
    "editable": true
   },
   "source": [
    "Let's leave the biosphere database here for now."
   ]
  },
  {
   "cell_type": "markdown",
   "metadata": {
    "deletable": true,
    "editable": true
   },
   "source": [
    "#### Methods"
   ]
  },
  {
   "cell_type": "markdown",
   "metadata": {
    "deletable": true,
    "editable": true
   },
   "source": [
    "bw2_setup() also installed LCIA methods."
   ]
  },
  {
   "cell_type": "code",
   "execution_count": 25,
   "metadata": {
    "collapsed": false,
    "deletable": true,
    "editable": true
   },
   "outputs": [
    {
     "data": {
      "text/plain": [
       "Methods dictionary with 718 objects, including:\n",
       "\t('CML 2001', 'acidification potential', 'average European')\n",
       "\t('CML 2001', 'acidification potential', 'generic')\n",
       "\t('CML 2001', 'climate change', 'GWP 100a')\n",
       "\t('CML 2001', 'climate change', 'GWP 20a')\n",
       "\t('CML 2001', 'climate change', 'GWP 500a')\n",
       "\t('CML 2001', 'climate change', 'lower limit of net GWP')\n",
       "\t('CML 2001', 'climate change', 'upper limit of net GWP')\n",
       "\t('CML 2001', 'eutrophication potential', 'average European')\n",
       "\t('CML 2001', 'eutrophication potential', 'generic')\n",
       "\t('CML 2001', 'freshwater aquatic ecotoxicity', 'FAETP 100a')\n",
       "Use `list(this object)` to get the complete list."
      ]
     },
     "execution_count": 25,
     "metadata": {},
     "output_type": "execute_result"
    }
   ],
   "source": [
    "bw.methods"
   ]
  },
  {
   "cell_type": "markdown",
   "metadata": {
    "deletable": true,
    "editable": true
   },
   "source": [
    "One can load a random method:"
   ]
  },
  {
   "cell_type": "code",
   "execution_count": 26,
   "metadata": {
    "collapsed": false,
    "deletable": true,
    "editable": true
   },
   "outputs": [
    {
     "data": {
      "text/plain": [
       "('CML 2001 w/o LT', 'photochemical oxidation w/o LT', 'high NOx POCP w/o LT')"
      ]
     },
     "execution_count": 26,
     "metadata": {},
     "output_type": "execute_result"
    }
   ],
   "source": [
    "bw.methods.random()"
   ]
  },
  {
   "cell_type": "code",
   "execution_count": 28,
   "metadata": {
    "collapsed": false,
    "deletable": true,
    "editable": true
   },
   "outputs": [
    {
     "data": {
      "text/plain": [
       "tuple"
      ]
     },
     "execution_count": 28,
     "metadata": {},
     "output_type": "execute_result"
    }
   ],
   "source": [
    "type(bw.methods.random())"
   ]
  },
  {
   "cell_type": "markdown",
   "metadata": {
    "deletable": true,
    "editable": true
   },
   "source": [
    "Here, the random method returns the tuple by which the method is identified. To get to an actual method, the following syntax is used:"
   ]
  },
  {
   "cell_type": "code",
   "execution_count": 30,
   "metadata": {
    "collapsed": false,
    "deletable": true,
    "editable": true
   },
   "outputs": [
    {
     "data": {
      "text/plain": [
       "Brightway2 Method: CML 2001: freshwater aquatic ecotoxicity: FAETP 100a"
      ]
     },
     "execution_count": 30,
     "metadata": {},
     "output_type": "execute_result"
    }
   ],
   "source": [
    "bw.Method(bw.methods.random())"
   ]
  },
  {
   "cell_type": "markdown",
   "metadata": {
    "deletable": true,
    "editable": true
   },
   "source": [
    "Of course, a random method is probably not useful except to play around. To find an actual method, one can again use list comprehensions. Let's say I am interested in using the IPCC2013 100 years method:"
   ]
  },
  {
   "cell_type": "code",
   "execution_count": 31,
   "metadata": {
    "collapsed": false,
    "deletable": true,
    "editable": true
   },
   "outputs": [
    {
     "data": {
      "text/plain": [
       "[('IPCC 2013 no LT', 'climate change', 'GTP 100a'),\n",
       " ('IPCC 2013 no LT', 'climate change', 'GWP 100a'),\n",
       " ('IPCC 2013', 'climate change', 'GTP 100a'),\n",
       " ('IPCC 2013', 'climate change', 'GWP 100a')]"
      ]
     },
     "execution_count": 31,
     "metadata": {},
     "output_type": "execute_result"
    }
   ],
   "source": [
    "[m for m in bw.methods if \"IPCC\" in str(m) and (\"2013\") in str(m) and \"100\" in str(m)]"
   ]
  },
  {
   "cell_type": "markdown",
   "metadata": {
    "deletable": true,
    "editable": true
   },
   "source": [
    "I am interested in the last of these, and will assign it to a variable"
   ]
  },
  {
   "cell_type": "code",
   "execution_count": 32,
   "metadata": {
    "collapsed": false,
    "deletable": true,
    "editable": true
   },
   "outputs": [
    {
     "data": {
      "text/plain": [
       "('IPCC 2013', 'climate change', 'GTP 100a')"
      ]
     },
     "execution_count": 32,
     "metadata": {},
     "output_type": "execute_result"
    }
   ],
   "source": [
    "ipcc2013_name = [m for m in bw.methods if \"IPCC\" in str(m) and (\"2013\") in str(m) and \"100\" in str(m)][2]\n",
    "ipcc2013_name"
   ]
  },
  {
   "cell_type": "code",
   "execution_count": 33,
   "metadata": {
    "collapsed": false,
    "deletable": true,
    "editable": true
   },
   "outputs": [
    {
     "data": {
      "text/plain": [
       "tuple"
      ]
     },
     "execution_count": 33,
     "metadata": {},
     "output_type": "execute_result"
    }
   ],
   "source": [
    "type(ipcc2013_name)"
   ]
  },
  {
   "cell_type": "code",
   "execution_count": 34,
   "metadata": {
    "collapsed": true,
    "deletable": true,
    "editable": true
   },
   "outputs": [],
   "source": [
    "ipcc_2013_method = bw.Method(ipcc2013_name)"
   ]
  },
  {
   "cell_type": "code",
   "execution_count": 35,
   "metadata": {
    "collapsed": false,
    "deletable": true,
    "editable": true
   },
   "outputs": [
    {
     "data": {
      "text/plain": [
       "bw2data.method.Method"
      ]
     },
     "execution_count": 35,
     "metadata": {},
     "output_type": "execute_result"
    }
   ],
   "source": [
    "type(ipcc_2013_method)"
   ]
  },
  {
   "cell_type": "markdown",
   "metadata": {
    "deletable": true,
    "editable": true
   },
   "source": [
    "Again, there are a bunch of methods associated with a method object. You can access these by typing ipcc_2013_method. and clicking tab.  \n",
    "For example, metadata:"
   ]
  },
  {
   "cell_type": "code",
   "execution_count": 36,
   "metadata": {
    "collapsed": false,
    "deletable": true,
    "editable": true
   },
   "outputs": [
    {
     "data": {
      "text/plain": [
       "('IPCC 2013', 'climate change', 'GTP 100a')"
      ]
     },
     "execution_count": 36,
     "metadata": {},
     "output_type": "execute_result"
    }
   ],
   "source": [
    "ipcc_2013_method.name"
   ]
  },
  {
   "cell_type": "code",
   "execution_count": 37,
   "metadata": {
    "collapsed": false,
    "deletable": true,
    "editable": true
   },
   "outputs": [
    {
     "data": {
      "text/plain": [
       "{'abbreviation': 'ipcc-2013cg.855daa796b755d97aa0c7a7c5444642e',\n",
       " 'description': '',\n",
       " 'filename': 'LCIA_implementation_3.3.xlsx',\n",
       " 'num_cfs': 206,\n",
       " 'unit': 'kg CO2-Eq'}"
      ]
     },
     "execution_count": 37,
     "metadata": {},
     "output_type": "execute_result"
    }
   ],
   "source": [
    "ipcc_2013_method.metadata"
   ]
  },
  {
   "cell_type": "code",
   "execution_count": 38,
   "metadata": {
    "collapsed": false,
    "deletable": true,
    "editable": true
   },
   "outputs": [
    {
     "data": {
      "text/plain": [
       "'kg CO2-Eq'"
      ]
     },
     "execution_count": 38,
     "metadata": {},
     "output_type": "execute_result"
    }
   ],
   "source": [
    "ipcc_2013_method.metadata['unit']"
   ]
  },
  {
   "cell_type": "markdown",
   "metadata": {
    "deletable": true,
    "editable": true
   },
   "source": [
    "Let's use the `load` method to see what is in the object:"
   ]
  },
  {
   "cell_type": "code",
   "execution_count": 39,
   "metadata": {
    "collapsed": false,
    "deletable": true,
    "editable": true
   },
   "outputs": [
    {
     "data": {
      "text/plain": [
       "[(('biosphere3', 'e259263c-d1f1-449f-bb9b-73c6d0a32a00'), 1.0),\n",
       " (('biosphere3', '16eeda8a-1ea2-408e-ab37-2648495058dd'), 1.0),\n",
       " (('biosphere3', 'aa7cac3a-3625-41d4-bc54-33e2cf11ec46'), 1.0),\n",
       " (('biosphere3', '349b29d1-3e58-4c66-98b9-9d1a076efd2e'), 1.0),\n",
       " (('biosphere3', 'f9749677-9c9f-4678-ab55-c607dfdc2cb9'), 1.0),\n",
       " (('biosphere3', 'e1c597cc-14cb-4ebb-af07-7a93a5b77d34'), 1.0),\n",
       " (('biosphere3', '6d89125e-e9b7-4d7e-a1fc-ada45dbd8815'), 1.0),\n",
       " (('biosphere3', '78eb1859-abd9-44c6-9ce3-f3b5b33d619c'), 1.0),\n",
       " (('biosphere3', 'e4e9febc-07c1-403d-8d3a-6707bb4d96e6'), 1.0),\n",
       " (('biosphere3', 'e8787b5e-d927-446d-81a9-f56977bbfeb4'), 1.0),\n",
       " (('biosphere3', '259cf8d6-6ea8-4ccf-84b7-23c930a5b2b3'), -1.0),\n",
       " (('biosphere3', '8ae4d8bb-3e4b-4825-8325-94696d7a64fd'), -1.0),\n",
       " (('biosphere3', '60d424f7-d5a9-4549-9540-da06684bc3bb'), -1.0),\n",
       " (('biosphere3', '375bc95e-6596-4aa1-9716-80ff51b9da77'), -1.0),\n",
       " (('biosphere3', '49c594c6-b6a8-42a3-95c5-cca812fda80b'), 1.9578),\n",
       " (('biosphere3', 'a3beb5ac-5149-47f6-a035-53fc5030f10a'), 1.9578),\n",
       " (('biosphere3', '099b36ab-4c03-4587-87f4-2f81e337afb8'), 1.9578),\n",
       " (('biosphere3', 'ba2f3f82-c93a-47a5-822a-37ec97495275'), 1.9578),\n",
       " (('biosphere3', '6edcc2df-88a3-48e1-83d8-ffc38d31c35b'), 1.9578),\n",
       " (('biosphere3', 'bd086aa3-312a-47af-a7b2-04fddbf8f01e'), 1.9578),\n",
       " (('biosphere3', 'e1da7e11-cc2c-4ea2-a42a-bf558150014b'), 1.9578),\n",
       " (('biosphere3', '68b9b577-90cf-49e4-88bb-a55d80f3ac5d'), 1.9578),\n",
       " (('biosphere3', '69a6c884-39be-444f-a67c-7436a5e66de2'), 1.9578),\n",
       " (('biosphere3', '51c58d09-0699-4d51-80b3-a1bb2b9313e4'), 1.9578),\n",
       " (('biosphere3', '588356df-f3b4-43a7-a76e-c47175a7eae0'), 0.3864),\n",
       " (('biosphere3', '968495ec-1000-438a-9e11-467776ebb54e'), 0.3864),\n",
       " (('biosphere3', 'b821ad93-ba6a-4d74-b6ae-ca12cd9563d7'), 0.3864),\n",
       " (('biosphere3', '2cb2333c-1599-46cf-8435-3dffce627524'), 0.3864),\n",
       " (('biosphere3', '9afa0173-ecbd-4f2c-9c5c-b3128a032812'), 0.3864),\n",
       " (('biosphere3', '78259cf2-1bb2-41ec-941c-9d70909df094'), 2.26099103),\n",
       " (('biosphere3', '98af3079-fb76-488d-8afe-713814e14d36'), 2.26099103),\n",
       " (('biosphere3', 'fa9b9736-6de8-4bd6-ba22-1bd78c798373'), 2.26099103),\n",
       " (('biosphere3', 'fbf6ab3a-74e3-4cbe-b61d-959728bdce46'), 2.26099103),\n",
       " (('biosphere3', '4cadbc9f-0472-4bb9-a942-df5b90e37878'), 2.26099103),\n",
       " (('biosphere3', '81305cda-63f1-4c1a-99c6-2c2568550ec4'), 234.2),\n",
       " (('biosphere3', '473826ae-125a-4b02-8c8e-c84322491d80'), 234.2),\n",
       " (('biosphere3', 'afd6d670-bbb0-4625-9730-04088a5b035e'), 234.2),\n",
       " (('biosphere3', '20185046-64bb-4c09-a8e7-e8a9e144ca98'), 234.2),\n",
       " (('biosphere3', '6dc1b46f-ee89-4495-95c4-b8a637bcd6cb'), 234.2),\n",
       " (('biosphere3', '647ae26f-f2fe-44cb-ac81-39bb7736f28e'), 200.74820021),\n",
       " (('biosphere3', '75fe1a2c-49fa-49e4-90f1-8f102508a96d'), 200.74820021),\n",
       " (('biosphere3', '16fcd4f9-0bb8-4b84-8334-3ffb1a17aa74'), 200.74820021),\n",
       " (('biosphere3', 'e87f039d-d9ce-4242-ac18-c9284cc80f3d'), 200.74820021),\n",
       " (('biosphere3', 'fa0c2bee-8dd9-4f8a-8489-b1f3b43de958'), 200.74820021),\n",
       " (('biosphere3', 'f8ee4881-a003-4e18-aa2a-d9daf97d76f7'), 22.33931669),\n",
       " (('biosphere3', '9e7d019f-c8c0-4631-9bbb-ced3e081c90d'), 22.33931669),\n",
       " (('biosphere3', '99585564-bfce-4845-9aaa-2f24b8f26a41'), 22.33931669),\n",
       " (('biosphere3', 'ce6294f5-2ed7-46ee-a967-33e265e34455'), 22.33931669),\n",
       " (('biosphere3', '818cee9e-231c-4b53-8ed2-47a0001802d5'), 22.33931669),\n",
       " (('biosphere3', 'bf580c6b-1b4d-429d-bed7-1e335920941f'), 2504.54117161),\n",
       " (('biosphere3', '5eb2d548-1694-496d-b3bd-a439984fca7d'), 2504.54117161),\n",
       " (('biosphere3', '5253e322-7de5-42aa-9167-daf22ff44031'), 2504.54117161),\n",
       " (('biosphere3', 'e86bfec2-1025-4fa2-90b1-81e35e621e91'), 2504.54117161),\n",
       " (('biosphere3', 'f43b2b80-f5a6-4d31-9980-0754305a978d'), 2504.54117161),\n",
       " (('biosphere3', 'd2025041-20ee-41bb-b2c8-47631e839ff0'), 4473.62844371),\n",
       " (('biosphere3', '53b87932-00c8-4bf4-b519-ecd3c401ed4d'), 4473.62844371),\n",
       " (('biosphere3', '47c12d99-c2dc-41cf-bad1-cd31c2fe0421'), 4473.62844371),\n",
       " (('biosphere3', 'cacfd448-6c2d-4061-9363-fd506b979f25'), 4473.62844371),\n",
       " (('biosphere3', '9b132374-dce2-4ce0-86aa-53201b30f617'), 4473.62844371),\n",
       " (('biosphere3', 'b018c97d-8fea-4258-b4d3-6a65669c77f4'), 111.36886022),\n",
       " (('biosphere3', '8c193650-c4ae-4e9a-b25b-eaa7b2b9ea2d'), 111.36886022),\n",
       " (('biosphere3', '416eedbd-a7b4-4693-8031-9bfaa2f20ebc'), 111.36886022),\n",
       " (('biosphere3', '843fd145-61ac-4fa7-a608-ce4ac4d88d49'), 111.36886022),\n",
       " (('biosphere3', '033d3a16-e1a2-4ce8-8769-f4ea867801ca'), 111.36886022),\n",
       " (('biosphere3', '94ca9e00-5268-4663-a0cd-25026c7c6b53'), 19.01534578),\n",
       " (('biosphere3', 'fff3d2db-2784-4044-a6a2-2bc7242456ee'), 19.01534578),\n",
       " (('biosphere3', '1c4a106a-53bc-40f5-bcae-d30ab191dbfe'), 19.01534578),\n",
       " (('biosphere3', '9cf9bf0e-86fe-42c0-90cc-bfed96fbdc8f'), 19.01534578),\n",
       " (('biosphere3', '393d0862-04cc-45ae-8d08-9dc2a4461b35'), 19.01534578),\n",
       " (('biosphere3', 'ba3120e9-7412-4517-812c-752edeac5472'), 0.12375371),\n",
       " (('biosphere3', 'cab70244-9e25-42d3-b31e-ddabfd3eeb67'), 0.12375371),\n",
       " (('biosphere3', '89324b2f-1e73-4eb1-9716-96b9be0349ac'), 0.12375371),\n",
       " (('biosphere3', '03758df7-503a-400e-bc7b-ec05825761a5'), 0.12375371),\n",
       " (('biosphere3', '468bebea-17ee-49d3-b11d-c603d91c67c8'), 0.12375371),\n",
       " (('biosphere3', '1e060d5a-cd41-4f30-9c93-272403b7e004'), 8553.18565655),\n",
       " (('biosphere3', '7d05319a-1260-45e0-8872-d5ff1712ea7e'), 8553.18565655),\n",
       " (('biosphere3', '1584734d-c5c8-42a5-aa51-0f6a92a9cc0d'), 8553.18565655),\n",
       " (('biosphere3', '8a3a44e4-e2f1-476d-9e9e-a90fda263fe3'), 8553.18565655),\n",
       " (('biosphere3', '3b30d058-02ef-4ed2-b357-5fc1a45c63e7'), 8553.18565655),\n",
       " (('biosphere3', '50432644-8568-444e-b7e7-8e37a7e1f3e3'), 355.70904262),\n",
       " (('biosphere3', '1652c2e3-c6c5-49e1-9ad1-34c188087ca6'), 355.70904262),\n",
       " (('biosphere3', '95b6f6da-49f9-413d-8ff5-5342d6cff588'), 355.70904262),\n",
       " (('biosphere3', 'ba781ac6-cdf1-4a09-86b5-76b19ed3438b'), 355.70904262),\n",
       " (('biosphere3', '400be66e-4383-482a-93e3-c005e96de261'), 355.70904262),\n",
       " (('biosphere3', 'f322122f-3059-4cfb-8754-efc82548e7f0'), 10.96555186),\n",
       " (('biosphere3', '2fff3bda-1eec-4166-9969-bc9e757c8e8e'), 10.96555186),\n",
       " (('biosphere3', '2cbc6042-2cee-4668-8017-d7f805d9029e'), 10.96555186),\n",
       " (('biosphere3', '050da0cd-2957-45a9-ae7a-ace372083fe5'), 10.96555186),\n",
       " (('biosphere3', 'db907ff7-6cf0-4f88-9376-116262dfad6d'), 10.96555186),\n",
       " (('biosphere3', '0bf92802-8b5e-43f5-a261-95c06bd5c551'), 73.67421685),\n",
       " (('biosphere3', '9b7e5cbf-e1eb-420d-ad43-248df23457ee'), 73.67421685),\n",
       " (('biosphere3', '71a6ea76-6642-4573-bed2-c1884e6792fd'), 73.67421685),\n",
       " (('biosphere3', '60268f3d-468b-487e-acb1-24d7250cb6b3'), 73.67421685),\n",
       " (('biosphere3', '27f61651-96a5-45c7-9873-832626cf6905'), 73.67421685),\n",
       " (('biosphere3', '4925cde1-9f43-43d3-bcf1-4865b8de6634'), 8977.01466873),\n",
       " (('biosphere3', '30533fd3-b19c-44fc-9a88-fb6b12409b47'), 8977.01466873),\n",
       " (('biosphere3', '6f8ce7a4-d66a-4593-9314-51778aa09d4b'), 8977.01466873),\n",
       " (('biosphere3', 'ec8789e5-d140-4ca8-b7ef-b3abfd044414'), 8977.01466873),\n",
       " (('biosphere3', '15e54d5b-aba2-40a6-9aa8-aa2b8c432129'), 8977.01466873),\n",
       " (('biosphere3', 'b7e0bddf-7b8a-43f4-9319-6f4b3d9fa65a'), 13455.6328537),\n",
       " (('biosphere3', '7f62f535-e81a-476c-9c39-4d59f289db1a'), 13455.6328537),\n",
       " (('biosphere3', '8f3e0579-d07d-48c9-b41a-fb559728f9c0'), 13455.6328537),\n",
       " (('biosphere3', 'acc39720-dda7-4b3a-80c7-c6394cad4191'), 13455.6328537),\n",
       " (('biosphere3', 'df5dd437-2e12-4af6-8f7a-9c8224857dc5'), 13455.6328537),\n",
       " (('biosphere3', 'dc9520c7-6e4a-42fb-b1f6-9fa8f34667a4'), 967.40161765),\n",
       " (('biosphere3', '40022b1f-8906-4c54-a074-bf1a3fc9b13f'), 967.40161765),\n",
       " (('biosphere3', '84386543-b148-465b-9265-ad638c12e263'), 967.40161765),\n",
       " (('biosphere3', '281e1011-f121-4d5b-ad4d-22d562b2c2cd'), 967.40161765),\n",
       " (('biosphere3', '5d1701c5-c4ef-49c7-8a68-ce7c255eee9f'), 967.40161765),\n",
       " (('biosphere3', 'b53d3744-3629-4219-be20-980865e54031'), 5.7),\n",
       " (('biosphere3', '09e231fa-b1c2-4d63-9c57-7ea0e2210858'), 0.32489627),\n",
       " (('biosphere3', '6bdb666d-e227-4f57-9b1d-d25009d3c44b'), 0.32489627),\n",
       " (('biosphere3', '701cda28-4722-431c-b52f-05a735ef5ed3'), 0.32489627),\n",
       " (('biosphere3', '8c283de2-50d3-40c8-8bff-1e172c3398f8'), 0.32489627),\n",
       " (('biosphere3', '4bf1c333-419b-4278-ac14-247c8bf563d6'), 0.32489627),\n",
       " (('biosphere3', '06a4fedf-dab4-4ef1-90df-1d0ce8fe6477'), 296.86626879),\n",
       " (('biosphere3', '50f528ca-45e7-42d0-b399-998ea63ddabf'), 296.86626879),\n",
       " (('biosphere3', '494eb62d-3e16-4a81-b344-6d6dfd9fd4e2'), 296.86626879),\n",
       " (('biosphere3', 'ee31ac2a-9336-4ed6-8077-9663003bc2f9'), 296.86626879),\n",
       " (('biosphere3', '816c43d1-bc30-4a72-81db-08cb6be4da4f'), 296.86626879),\n",
       " (('biosphere3', '96b52062-5e2f-40de-921a-f443c08862e4'), 4167.51900477),\n",
       " (('biosphere3', 'cf719b78-9834-4649-a1dd-8554c366c83f'), 4167.51900477),\n",
       " (('biosphere3', '82957257-07f3-4536-ac8b-175cb2353c75'), 4167.51900477),\n",
       " (('biosphere3', '4ac2ffc3-312e-4e2d-88c4-2630d4a73d8c'), 4167.51900477),\n",
       " (('biosphere3', '18ddd879-5496-4419-8ab7-e0d3864d977d'), 4167.51900477),\n",
       " (('biosphere3', '9b505d7c-4239-40e0-9dbe-55d38f3b85b3'), 261.70622477),\n",
       " (('biosphere3', '26991da1-c263-4707-9f85-78685acc94dc'), 261.70622477),\n",
       " (('biosphere3', '56b7d3b6-83d7-42b0-a65b-5ad23e29db47'), 261.70622477),\n",
       " (('biosphere3', '18c582fe-7336-4138-8797-2db8b7a754c7'), 261.70622477),\n",
       " (('biosphere3', '8ca6c84b-7f56-47e6-8d17-4f2dbc49a943'), 261.70622477),\n",
       " (('biosphere3', '5dfb74d2-fa15-4f2d-bf7c-5aa45a41ec7f'), 15922.8156897),\n",
       " (('biosphere3', 'b9c1ac70-e2eb-4fcd-bc63-befa92866af5'), 15922.8156897),\n",
       " (('biosphere3', '23a9f33d-dbab-4fcc-8f49-1df731b0b827'), 15922.8156897),\n",
       " (('biosphere3', 'e06e2e1e-ad87-49e2-a184-f2d1c48b7b46'), 15922.8156897),\n",
       " (('biosphere3', '43bc4fc0-bfeb-46d6-b3de-f69c3ccd622a'), 15922.8156897),\n",
       " (('biosphere3', 'f903c2fb-71bf-4568-99fc-6aa7ed7bc922'), 1.22891799),\n",
       " (('biosphere3', 'b328d33e-9a9f-407d-a767-5c64ccdc163f'), 1.22891799),\n",
       " (('biosphere3', 'd4b61c6c-a620-4a91-afc6-ca87ef97b55a'), 1.22891799),\n",
       " (('biosphere3', '432a3326-73f8-4752-bc4d-06b7b4b1243c'), 1.22891799),\n",
       " (('biosphere3', '2716807d-0266-48ff-bb7a-6e6c5fbfd5c5'), 1.22891799),\n",
       " (('biosphere3', '31f8976a-6f7d-487e-a850-eb495dbf0351'), 8448.35132681),\n",
       " (('biosphere3', '1013b9ec-a7b5-459c-be3d-74f61b9ce06e'), 8448.35132681),\n",
       " (('biosphere3', 'e93ba406-3df8-4e34-be54-0d556b2bb629'), 8448.35132681),\n",
       " (('biosphere3', 'c0e8ec60-a5ae-432e-97a5-cf76b6247a00'), 8448.35132681),\n",
       " (('biosphere3', '31a3e44c-4098-461e-aba2-f79540e05087'), 8448.35132681),\n",
       " (('biosphere3', '34de4196-871a-4db8-a182-589ab780a935'), 20.42224025),\n",
       " (('biosphere3', 'de8d76cb-7216-4e6f-8bf2-8cdf76e99902'), 20.42224025),\n",
       " (('biosphere3', '727835b8-c650-4d46-882f-35b2a366b559'), 20.42224025),\n",
       " (('biosphere3', '04a6edb8-624a-484e-8f85-d771657adae7'), 20.42224025),\n",
       " (('biosphere3', '3c8af80d-7ff8-43f4-b1a7-cef73b1b4682'), 20.42224025),\n",
       " (('biosphere3', '33a791a2-a1e7-446b-b25a-b3be6159bae4'), 94.49366841),\n",
       " (('biosphere3', '20d0fc73-b9ce-4001-ac15-893b30ed10a3'), 94.49366841),\n",
       " (('biosphere3', '8fbe2c56-c213-4501-b95e-ff57a76fbd6f'), 94.49366841),\n",
       " (('biosphere3', '151212b4-079b-43a2-96d5-a6eef59166ac'), 94.49366841),\n",
       " (('biosphere3', 'c9028b09-c12d-421b-9944-7d145e196ebc'), 94.49366841),\n",
       " (('biosphere3', 'f3bd723a-5276-4ae8-9860-b89537351a90'), 5.7),\n",
       " (('biosphere3', '6b1b495b-70ee-4be6-b1c2-3031aa4d6add'), 5.7),\n",
       " (('biosphere3', '70ef743b-3ed5-4a6d-b192-fb6d62378555'), 5.7),\n",
       " (('biosphere3', '0795345f-c7ae-410c-ad25-1845784c75f5'), 5.7),\n",
       " (('biosphere3', '5f7aad3d-566c-4d0d-ad59-e765f971aa0f'), 5.7),\n",
       " (('biosphere3', 'f757365c-c6fd-41fe-ad32-3594ccd97ef0'), 5.7),\n",
       " (('biosphere3', 'ef4566f0-60d5-4bbe-a2cb-7268a81fecd4'), 5.7),\n",
       " (('biosphere3', '9541a975-800f-4fed-9edf-28f6e411a015'), 5.7),\n",
       " (('biosphere3', '7f0ba7c9-341e-413d-80f6-8753727d65d1'), 5.7),\n",
       " (('biosphere3', '299c6564-426e-48c3-b516-fdf301d12127'), 5.7),\n",
       " (('biosphere3', '246c87af-4495-4977-8d39-eae397c1c8f1'), 1.68197775),\n",
       " (('biosphere3', '0f70e720-127e-44dc-bb85-438158235ab6'), 1.68197775),\n",
       " (('biosphere3', 'ed63abd0-7cc6-4825-8759-b367e560fe95'), 1.68197775),\n",
       " (('biosphere3', '18ea247b-edc2-43fe-89bd-cedd04102bcc'), 1.68197775),\n",
       " (('biosphere3', '370447a7-70d1-47bd-8577-0a32c4f53570'), 1.68197775),\n",
       " (('biosphere3', '6c977009-5c4e-4901-a4c1-ab20389cb972'), 4.3),\n",
       " (('biosphere3', '258263a0-6be3-4439-bd84-efee0498b849'), 4.3),\n",
       " (('biosphere3', '57bdb443-d4a6-423d-8024-959b8261d02e'), 4.3),\n",
       " (('biosphere3', 'da1157e2-7593-4dfd-80dd-a3449b37a4d8'), 4.3),\n",
       " (('biosphere3', 'baf58fc9-573c-419c-8c16-831ac03203b9'), 4.3),\n",
       " (('biosphere3', 'ba5c9458-44df-4d93-a7c3-9389f65166d8'), 479.24856328),\n",
       " (('biosphere3', '6c833956-6302-47c3-8abc-7ecae92266fb'), 479.24856328),\n",
       " (('biosphere3', '0f9f3e17-eb81-4adb-8170-049bc6b66728'), 479.24856328),\n",
       " (('biosphere3', '86d12e70-0c64-4ecf-ba52-114fa0c5d402'), 479.24856328),\n",
       " (('biosphere3', '5c97dd6c-aaa5-4477-aaf8-dbd0674499c4'), 479.24856328),\n",
       " (('biosphere3', 'e59a199f-d4ed-4d43-82b1-71c4a8fae867'), 8038.40372143),\n",
       " (('biosphere3', '6d023c39-c04e-4305-b2e4-adc89b53e708'), 8038.40372143),\n",
       " (('biosphere3', 'b353e7d2-5b94-4b6e-a3e5-de0a10bef851'), 8038.40372143),\n",
       " (('biosphere3', '33681770-a0e1-4ce8-93c3-941fd607fa5f'), 8038.40372143),\n",
       " (('biosphere3', 'dfe1da1e-7756-4f7e-a393-6d5e2342a962'), 8038.40372143),\n",
       " (('biosphere3', '3feb6415-ae50-4bb7-b9d1-c18d99f8a87f'), 2335.19186209),\n",
       " (('biosphere3', '6e61b542-5681-44f4-afcb-e30368bca420'), 2335.19186209),\n",
       " (('biosphere3', 'a916ca1b-4ece-4630-a563-ae3253efc04f'), 2335.19186209),\n",
       " (('biosphere3', '51e99a55-bcdb-4d18-9484-6de4b142e09d'), 2335.19186209),\n",
       " (('biosphere3', '33a69662-583b-45b8-8cb9-94f59fca9133'), 2335.19186209),\n",
       " (('biosphere3', 'dc78690a-2b0a-49fc-8272-b811fb25ff6c'), 12708.8560352),\n",
       " (('biosphere3', 'a3724600-89c1-4f35-97c9-0de3adbadc8b'), 12708.8560352),\n",
       " (('biosphere3', '5e2e1740-1bb9-4157-b816-6cb5aa006437'), 12708.8560352),\n",
       " (('biosphere3', 'e5ba3517-a93f-422e-9ce2-f1007fcf6c06'), 12708.8560352),\n",
       " (('biosphere3', '8f87dcf1-0177-4d62-bea0-a5dd8647ef8c'), 12708.8560352),\n",
       " (('biosphere3', '4c097625-506e-4dfc-a170-75fda90cf7cb'), 18118.7853998),\n",
       " (('biosphere3', 'fdf090d7-ee05-4f33-8b7f-5504c718c3cd'), 18118.7853998),\n",
       " (('biosphere3', 'f8cf5fd7-9f94-4870-9e6a-768deae9b766'), 18118.7853998),\n",
       " (('biosphere3', 'e79e03c3-5b19-45f6-b3f3-bf710c6663d2'), 18118.7853998),\n",
       " (('biosphere3', '1fdc280a-34d3-4513-b110-3f526b17c443'), 18118.7853998),\n",
       " (('biosphere3', 'e2ccc98a-6d4e-443b-b11f-d16f32782833'), 10284.2818),\n",
       " (('biosphere3', 'acbae70a-5450-448f-9038-c403cb496e1a'), 28214.8093027),\n",
       " (('biosphere3', '44e4d1ce-fa79-4ed5-93f9-445c4ff8df2e'), 28214.8093027),\n",
       " (('biosphere3', 'c7c769bb-89b9-4459-afed-e3acecd39339'), 28214.8093027),\n",
       " (('biosphere3', '35d1dff5-b535-4628-9826-4a8fce08a1f2'), 28214.8093027),\n",
       " (('biosphere3', '856c9aa2-c20c-49a8-9417-c71bdb5f17b0'), 28214.8093027)]"
      ]
     },
     "execution_count": 39,
     "metadata": {},
     "output_type": "execute_result"
    }
   ],
   "source": [
    "ipcc_2013_method.load()"
   ]
  },
  {
   "cell_type": "markdown",
   "metadata": {
    "deletable": true,
    "editable": true
   },
   "source": [
    "This contains tuples with (elementary flow, characterization factors). This can be made more human readable by using the `bw.get_activity`, the 'name' `key` and a list comprehension. Try it:"
   ]
  },
  {
   "cell_type": "code",
   "execution_count": 40,
   "metadata": {
    "collapsed": false,
    "deletable": true,
    "editable": true
   },
   "outputs": [],
   "source": [
    "# [(Some code to generate a valid activity key for each elementary flow) for ef in ipcc_2013_method.load()]"
   ]
  },
  {
   "cell_type": "code",
   "execution_count": null,
   "metadata": {
    "collapsed": true
   },
   "outputs": [],
   "source": [
    "# Solution:\n",
    "[(get_activity(ef[0])['name'], ef[1]) for ef in ipcc_2013_method.load()]"
   ]
  },
  {
   "cell_type": "markdown",
   "metadata": {
    "deletable": true,
    "editable": true
   },
   "source": [
    "Enough said for now about methods."
   ]
  },
  {
   "cell_type": "markdown",
   "metadata": {
    "deletable": true,
    "editable": true
   },
   "source": [
    "### LCI datases"
   ]
  },
  {
   "cell_type": "markdown",
   "metadata": {
    "deletable": true,
    "editable": true
   },
   "source": [
    "There is much information on the structure of LCI databases in Brightway2 [here](https://docs.brightwaylca.org/intro.html#inventory-databases), [here](http://nbviewer.jupyter.org/urls/bitbucket.org/cmutel/brightway2/raw/default/notebooks/Databases.ipynb) and [here](https://docs.brightwaylca.org/technical/bw2data.html#databases).  Probably the easiest way to learn about them, however, is to import one and have a look.  "
   ]
  },
  {
   "cell_type": "markdown",
   "metadata": {
    "deletable": true,
    "editable": true
   },
   "source": [
    "Here is the code to import the ecoinvent v3.3 database. Don't do it though, not now: it takes too long, we're better off working with a smaller database and getting more done."
   ]
  },
  {
   "cell_type": "code",
   "execution_count": null,
   "metadata": {
    "collapsed": false,
    "deletable": true,
    "editable": true
   },
   "outputs": [],
   "source": [
    "fpei33 = \"enter your path to the datasets e.g. r'C:\\FolderWith\\LotsOf\\ecoSpold2\\Files'\""
   ]
  },
  {
   "cell_type": "markdown",
   "metadata": {},
   "source": [
    "Next, execute the following code. It will import the ecoinvent database. We will look in detail in another Notebook at what this code actually does."
   ]
  },
  {
   "cell_type": "code",
   "execution_count": 44,
   "metadata": {
    "collapsed": false,
    "deletable": true,
    "editable": true
   },
   "outputs": [
    {
     "name": "stdout",
     "output_type": "stream",
     "text": [
      "Database has already been imported\n"
     ]
    }
   ],
   "source": [
    "if 'ecoinvent 3.3 cutoff' in bw.databases:\n",
    "    print(\"Database has already been imported\")\n",
    "else:\n",
    "    ei33 = bw.SingleOutputEcospold2Importer(fpei33, 'ecoinvent 3.3 cutoff')\n",
    "    ei33.apply_strategies()\n",
    "    ei33.statistics()"
   ]
  },
  {
   "cell_type": "markdown",
   "metadata": {},
   "source": [
    "The database needs to be written to disk:"
   ]
  },
  {
   "cell_type": "code",
   "execution_count": null,
   "metadata": {
    "collapsed": false,
    "deletable": true,
    "editable": true
   },
   "outputs": [],
   "source": [
    "ei33.write_database()"
   ]
  },
  {
   "cell_type": "markdown",
   "metadata": {
    "deletable": true,
    "editable": true
   },
   "source": [
    "Let's instead import **ecoinvent v2.2**:"
   ]
  },
  {
   "cell_type": "code",
   "execution_count": null,
   "metadata": {
    "collapsed": true,
    "deletable": true,
    "editable": true
   },
   "outputs": [],
   "source": [
    "fpei22 =  \"enter your path to the datasets e.g. r'C:\\FolderWith\\LotsOf\\ecoSpold2\\Files'\""
   ]
  },
  {
   "cell_type": "code",
   "execution_count": null,
   "metadata": {
    "collapsed": false,
    "deletable": true,
    "editable": true
   },
   "outputs": [],
   "source": [
    "if 'ecoinvent 2.2 cutoff' in bw.databases:\n",
    "    print(\"Database has already been imported\")\n",
    "else:\n",
    "    ei22 = SingleOutputEcospold1Importer(fpei22, 'ecoinvent 2.2')\n",
    "    ei22.apply_strategies()\n",
    "    ei22.statistics()"
   ]
  },
  {
   "cell_type": "code",
   "execution_count": null,
   "metadata": {
    "collapsed": true
   },
   "outputs": [],
   "source": [
    "ei22.write_database()"
   ]
  },
  {
   "cell_type": "markdown",
   "metadata": {
    "deletable": true,
    "editable": true
   },
   "source": [
    "Other code to import LCI databases in other formats are found [here](https://bitbucket.org/cmutel/brightway2-io/src/211f748e7b9987aef452a1ead1f483cc0b4bc25c/bw2io/importers/?at=default). We'll explore this later."
   ]
  },
  {
   "cell_type": "markdown",
   "metadata": {
    "deletable": true,
    "editable": true
   },
   "source": [
    "If you check that the database has actually been added to your project: "
   ]
  },
  {
   "cell_type": "code",
   "execution_count": 45,
   "metadata": {
    "collapsed": false,
    "deletable": true,
    "editable": true
   },
   "outputs": [
    {
     "data": {
      "text/plain": [
       "Databases dictionary with 3 object(s):\n",
       "\tbiosphere3\n",
       "\tecoinvent 2.2\n",
       "\tecoinvent 3.3 cutoff"
      ]
     },
     "execution_count": 45,
     "metadata": {},
     "output_type": "execute_result"
    }
   ],
   "source": [
    "bw.databases"
   ]
  },
  {
   "cell_type": "markdown",
   "metadata": {
    "deletable": true,
    "editable": true
   },
   "source": [
    "Note: the ei22 (or ei33) object created above is not the actual database, but actually an object used strictly for importing. "
   ]
  },
  {
   "cell_type": "code",
   "execution_count": null,
   "metadata": {
    "collapsed": false,
    "deletable": true,
    "editable": true
   },
   "outputs": [],
   "source": [
    "type(ei22)"
   ]
  },
  {
   "cell_type": "markdown",
   "metadata": {
    "deletable": true,
    "editable": true
   },
   "source": [
    "To access the actual database, you need to use the Database method: "
   ]
  },
  {
   "cell_type": "code",
   "execution_count": 46,
   "metadata": {
    "collapsed": false,
    "deletable": true,
    "editable": true
   },
   "outputs": [
    {
     "data": {
      "text/plain": [
       "Brightway2 SQLiteBackend: ecoinvent 2.2"
      ]
     },
     "execution_count": 46,
     "metadata": {},
     "output_type": "execute_result"
    }
   ],
   "source": [
    "#Uncomment the one you actually imported. \n",
    "\n",
    "bw.Database('ecoinvent 2.2')\n",
    "# bw.Database('ecoinvent 3.3 cutoff')"
   ]
  },
  {
   "cell_type": "markdown",
   "metadata": {
    "deletable": true,
    "editable": true
   },
   "source": [
    "This is a more advanced topic, but note that there are alternative backends. See [here](https://docs.brightwaylca.org/technical/bw2data.html#inventory-data-backends)."
   ]
  },
  {
   "cell_type": "markdown",
   "metadata": {
    "deletable": true,
    "editable": true
   },
   "source": [
    "Let's assign the database to a variable and see what we can do:"
   ]
  },
  {
   "cell_type": "code",
   "execution_count": 48,
   "metadata": {
    "collapsed": false,
    "deletable": true,
    "editable": true
   },
   "outputs": [],
   "source": [
    "#Uncomment the one you actually imported. \n",
    "\n",
    "eidb = bw.Database('ecoinvent 2.2')\n",
    "# eidb = bw.Database('ecoinvent 3.3 cutoff')"
   ]
  },
  {
   "cell_type": "code",
   "execution_count": 49,
   "metadata": {
    "collapsed": false,
    "deletable": true,
    "editable": true
   },
   "outputs": [
    {
     "data": {
      "text/plain": [
       "4087"
      ]
     },
     "execution_count": 49,
     "metadata": {},
     "output_type": "execute_result"
    }
   ],
   "source": [
    "# Check the length of the database:\n",
    "len(eidb)"
   ]
  },
  {
   "cell_type": "markdown",
   "metadata": {
    "deletable": true,
    "editable": true
   },
   "source": [
    "Again, we can get an idea of useful methods and attributes by typing eidb. and Tab. Do this now."
   ]
  },
  {
   "cell_type": "code",
   "execution_count": null,
   "metadata": {
    "collapsed": true,
    "deletable": true,
    "editable": true
   },
   "outputs": [],
   "source": [
    "eidb. #Press tab!"
   ]
  },
  {
   "cell_type": "markdown",
   "metadata": {
    "deletable": true,
    "editable": true
   },
   "source": [
    "One can again load the entire database to iterate over activities or exchanges within the database. This is quite a big object, but your computers can take it."
   ]
  },
  {
   "cell_type": "code",
   "execution_count": 50,
   "metadata": {
    "collapsed": false,
    "deletable": true,
    "editable": true
   },
   "outputs": [],
   "source": [
    "eidb_loaded = eidb.load()"
   ]
  },
  {
   "cell_type": "markdown",
   "metadata": {
    "deletable": true,
    "editable": true
   },
   "source": [
    "However, you often will not need to do that at all. The most common interaction with the database object is to access activities, add activities, save, etc. although this really depends on what you are doing with Brightway2..."
   ]
  },
  {
   "cell_type": "markdown",
   "metadata": {
    "deletable": true,
    "editable": true
   },
   "source": [
    "#### Activities and exchanges"
   ]
  },
  {
   "cell_type": "markdown",
   "metadata": {
    "deletable": true,
    "editable": true
   },
   "source": [
    "In the context of LCI databases, activities are the nodes \"within the technosphere\". They are therefore the columns in the technosphere matrix $A$.  \n",
    "There are different ways to get access to an activity. Let's use the `random()` method for now to explore a rendom activity in the ecoinvent database."
   ]
  },
  {
   "cell_type": "code",
   "execution_count": 51,
   "metadata": {
    "collapsed": true,
    "deletable": true,
    "editable": true
   },
   "outputs": [],
   "source": [
    "random_act = eidb.random()"
   ]
  },
  {
   "cell_type": "code",
   "execution_count": 52,
   "metadata": {
    "collapsed": false,
    "deletable": true,
    "editable": true
   },
   "outputs": [
    {
     "data": {
      "text/plain": [
       "'drilling, CNC, brass' (kilogram, RER, ['metals', 'chipping'])"
      ]
     },
     "execution_count": 52,
     "metadata": {},
     "output_type": "execute_result"
    }
   ],
   "source": [
    "random_act"
   ]
  },
  {
   "cell_type": "code",
   "execution_count": 53,
   "metadata": {
    "collapsed": false,
    "deletable": true,
    "editable": true
   },
   "outputs": [
    {
     "data": {
      "text/plain": [
       "bw2data.backends.peewee.proxies.Activity"
      ]
     },
     "execution_count": 53,
     "metadata": {},
     "output_type": "execute_result"
    }
   ],
   "source": [
    "type(random_act)"
   ]
  },
  {
   "cell_type": "markdown",
   "metadata": {
    "deletable": true,
    "editable": true
   },
   "source": [
    "To see what is stored in an activity object, let's convert our random act in a dictionary: "
   ]
  },
  {
   "cell_type": "code",
   "execution_count": 54,
   "metadata": {
    "collapsed": false,
    "deletable": true,
    "editable": true
   },
   "outputs": [
    {
     "data": {
      "text/plain": [
       "{'authors': [{'address': 'Kanzleistrasse 4, 8610 Uster',\n",
       "   'company': 'ESU',\n",
       "   'country': 'CH',\n",
       "   'email': 'esu-services@ecoinvent.org',\n",
       "   'name': 'Roland Steiner'}],\n",
       " 'categories': ['metals', 'chipping'],\n",
       " 'code': '1d0e0446b60e0da5ee95be61a3c2fdbb',\n",
       " 'comment': 'The reference for drilling is 1 kg of metal removed by drilling. As there is a large variation from factory to factory with regard to the LCI, it is advised that in case this dataset becomes important in the results, it has to be investigated further if the rough estimations made are applicable or not. \\nThis dataset encompasses the direct electricity consumption of the machine. In the case of CNC drilling compressed air and lubricant oil (incl. disposal) are accounted for. Furthermore, the metal removed is already included. Machine as well as factory infrastructure and operation are considered as well. The metal removed is assumed to be recycled. Maintenance and tool (bit) replacements are not included. Degreasing is not included and has to be added if necessary.\\nLocation:  Geographical coverage encompasses the industrialised countries.\\nTechnology:  Average technology\\nProduction volume:  unknown\\nSampling:  unknown\\nExtrapolations:  none\\nUncertainty:  none',\n",
       " 'database': 'ecoinvent 2.2',\n",
       " 'filename': 'E:\\\\datasets\\\\08322.XML',\n",
       " 'location': 'RER',\n",
       " 'name': 'drilling, CNC, brass',\n",
       " 'production amount': 1.0,\n",
       " 'type': 'process',\n",
       " 'unit': 'kilogram'}"
      ]
     },
     "execution_count": 54,
     "metadata": {},
     "output_type": "execute_result"
    }
   ],
   "source": [
    "random_act.as_dict()"
   ]
  },
  {
   "cell_type": "markdown",
   "metadata": {
    "deletable": true,
    "editable": true
   },
   "source": [
    "Notice one important thing: no exchanges!  "
   ]
  },
  {
   "cell_type": "markdown",
   "metadata": {
    "deletable": true,
    "editable": true
   },
   "source": [
    "**Exchanges are the edges between nodes.**  \n",
    "These can be:  \n",
    "  - an edge between two activities within the technosphere (an element $a_{ij}$ of matrix $A$)  \n",
    "  - edges between an activity in the technosphere and an activity in the \"biosphere\" (an element $b_{kj}$ of the biosphere matrix $B$)."
   ]
  },
  {
   "cell_type": "markdown",
   "metadata": {
    "deletable": true,
    "editable": true
   },
   "source": [
    "One can however iterate through the exchanges. At this point, it is actually the best way to get to an exchange:"
   ]
  },
  {
   "cell_type": "code",
   "execution_count": 55,
   "metadata": {
    "collapsed": false,
    "deletable": true,
    "editable": true
   },
   "outputs": [
    {
     "data": {
      "text/plain": [
       "[Exchange: 1.0 kilogram 'drilling, CNC, brass' (kilogram, RER, ['metals', 'chipping']) to 'drilling, CNC, brass' (kilogram, RER, ['metals', 'chipping'])>,\n",
       " Exchange: 0.0625 kilowatt hour 'electricity, low voltage, production UCTE, at grid' (kilowatt hour, UCTE, ['electricity', 'production mix']) to 'drilling, CNC, brass' (kilogram, RER, ['metals', 'chipping'])>,\n",
       " Exchange: 1.28 cubic meter 'compressed air, average installation, >30kW, 7 bar gauge, at supply network' (cubic meter, RER, ['mechanical engineering', 'compressed air supply']) to 'drilling, CNC, brass' (kilogram, RER, ['metals', 'chipping'])>,\n",
       " Exchange: 0.00382 kilogram 'lubricating oil, at plant' (kilogram, RER, ['chemicals', 'organics']) to 'drilling, CNC, brass' (kilogram, RER, ['metals', 'chipping'])>,\n",
       " Exchange: 0.00382 kilogram 'disposal, used mineral oil, 10% water, to hazardous waste incineration' (kilogram, CH, ['waste management', 'hazardous waste incineration']) to 'drilling, CNC, brass' (kilogram, RER, ['metals', 'chipping'])>,\n",
       " Exchange: 3.95e-05 kilogram 'metal working machine, unspecified, at plant' (kilogram, RER, ['metals', 'general manufacturing']) to 'drilling, CNC, brass' (kilogram, RER, ['metals', 'chipping'])>,\n",
       " Exchange: 2.02e-09 unit 'metal working factory' (unit, RER, ['metals', 'general manufacturing']) to 'drilling, CNC, brass' (kilogram, RER, ['metals', 'chipping'])>,\n",
       " Exchange: 4.41 kilogram 'metal working factory operation, average heat energy' (kilogram, RER, ['metals', 'general manufacturing']) to 'drilling, CNC, brass' (kilogram, RER, ['metals', 'chipping'])>,\n",
       " Exchange: 1.0 kilogram 'brass, at plant' (kilogram, CH, ['metals', 'extraction']) to 'drilling, CNC, brass' (kilogram, RER, ['metals', 'chipping'])>,\n",
       " Exchange: 0.225 megajoule 'Heat, waste' (megajoule, None, ('air', 'urban air close to ground')) to 'drilling, CNC, brass' (kilogram, RER, ['metals', 'chipping'])>]"
      ]
     },
     "execution_count": 55,
     "metadata": {},
     "output_type": "execute_result"
    }
   ],
   "source": [
    "# All exchanges:\n",
    "[exc for exc in random_act.exchanges()]"
   ]
  },
  {
   "cell_type": "markdown",
   "metadata": {
    "deletable": true,
    "editable": true
   },
   "source": [
    "One could also decide to only iterate through the biosphere exchanges, biosphere exchanges or production exchanges using, respectively, `random_act.technosphere`, `random_act.biosphere` and `random_act.production`.  "
   ]
  },
  {
   "cell_type": "code",
   "execution_count": null,
   "metadata": {
    "collapsed": true,
    "deletable": true,
    "editable": true
   },
   "outputs": [],
   "source": [
    "# Try this: \n",
    "# Biosphere exchanges (i.e. elementary flows)\n",
    "\n",
    "# Production exchanges\n",
    "\n",
    "# Technosphere exchanges"
   ]
  },
  {
   "cell_type": "markdown",
   "metadata": {
    "deletable": true,
    "editable": true
   },
   "source": [
    "Let's look at one of these exchanges by assigning one to a variable and exploring it:"
   ]
  },
  {
   "cell_type": "code",
   "execution_count": 56,
   "metadata": {
    "collapsed": true,
    "deletable": true,
    "editable": true
   },
   "outputs": [],
   "source": [
    "random_exchange = [exc for exc in random_act.exchanges()][2]"
   ]
  },
  {
   "cell_type": "code",
   "execution_count": 57,
   "metadata": {
    "collapsed": false,
    "deletable": true,
    "editable": true
   },
   "outputs": [
    {
     "data": {
      "text/plain": [
       "bw2data.backends.peewee.proxies.Exchange"
      ]
     },
     "execution_count": 57,
     "metadata": {},
     "output_type": "execute_result"
    }
   ],
   "source": [
    "type(random_exchange)"
   ]
  },
  {
   "cell_type": "markdown",
   "metadata": {
    "deletable": true,
    "editable": true
   },
   "source": [
    "Again, you can have an idea of what is readily accessible in terms of methods and attributes by typing `random_exchange.` + Tab."
   ]
  },
  {
   "cell_type": "code",
   "execution_count": 58,
   "metadata": {
    "collapsed": false,
    "deletable": true,
    "editable": true
   },
   "outputs": [
    {
     "data": {
      "text/plain": [
       "{'amount': 1.28,\n",
       " 'categories': ('mechanical engineering', 'compressed air supply'),\n",
       " 'comment': '(3,5,4,5,3,5); estimated',\n",
       " 'input': ('ecoinvent 2.2', '4c133e9f80ad92007e3006fef6a0957b'),\n",
       " 'loc': 0.24686007793152581,\n",
       " 'location': 'RER',\n",
       " 'name': 'compressed air, average installation, >30kW, 7 bar gauge, at supply network',\n",
       " 'negative': False,\n",
       " 'output': ('ecoinvent 2.2', '1d0e0446b60e0da5ee95be61a3c2fdbb'),\n",
       " 'scale': 0.19602104388801175,\n",
       " 'type': 'technosphere',\n",
       " 'uncertainty type': 2,\n",
       " 'unit': 'cubic meter'}"
      ]
     },
     "execution_count": 58,
     "metadata": {},
     "output_type": "execute_result"
    }
   ],
   "source": [
    "random_exchange. # Tab."
   ]
  },
  {
   "cell_type": "markdown",
   "metadata": {
    "deletable": true,
    "editable": true
   },
   "source": [
    "Let's see what makes up an exchange by converting our random exchange to a dictionary."
   ]
  },
  {
   "cell_type": "code",
   "execution_count": 59,
   "metadata": {
    "collapsed": false,
    "deletable": true,
    "editable": true
   },
   "outputs": [
    {
     "data": {
      "text/plain": [
       "{'amount': 1.28,\n",
       " 'categories': ('mechanical engineering', 'compressed air supply'),\n",
       " 'comment': '(3,5,4,5,3,5); estimated',\n",
       " 'input': ('ecoinvent 2.2', '4c133e9f80ad92007e3006fef6a0957b'),\n",
       " 'loc': 0.24686007793152581,\n",
       " 'location': 'RER',\n",
       " 'name': 'compressed air, average installation, >30kW, 7 bar gauge, at supply network',\n",
       " 'negative': False,\n",
       " 'output': ('ecoinvent 2.2', '1d0e0446b60e0da5ee95be61a3c2fdbb'),\n",
       " 'scale': 0.19602104388801175,\n",
       " 'type': 'technosphere',\n",
       " 'uncertainty type': 2,\n",
       " 'unit': 'cubic meter'}"
      ]
     },
     "execution_count": 59,
     "metadata": {},
     "output_type": "execute_result"
    }
   ],
   "source": [
    "random_exchange.as_dict()"
   ]
  },
  {
   "cell_type": "markdown",
   "metadata": {
    "deletable": true,
    "editable": true
   },
   "source": [
    "Of prime interest to identify the exchange:  \n",
    "  - The `input` is the activity the exchange is originating from\n",
    "  - The `output` is the activity the exchange is terminating in  \n",
    "    - If `input` == `output`, the exchange is actually the reference flow (production exchange)  \n",
    "    - If the exchange is a \"biosphere exchange\" (i.e. an elementary flow), then its `output` will be in the biosphere database."
   ]
  },
  {
   "cell_type": "markdown",
   "metadata": {
    "deletable": true,
    "editable": true
   },
   "source": [
    "#### Our first LCA!"
   ]
  },
  {
   "cell_type": "markdown",
   "metadata": {
    "deletable": true,
    "editable": true
   },
   "source": [
    "Brightway has a so-called LCA object. It is instantiated using `LCA(args)`. The only required argument is a functional unit, described by a dictionary with keys = activities and values = amounts (more [here](https://docs.brightwaylca.org/lca.html#specifying-a-functional-unit)). A second argument that is often passed is an LCIA method, passed using the method tuple.  \n",
    "Let's create our first LCA object using our random activity and our IPCC method.  "
   ]
  },
  {
   "cell_type": "code",
   "execution_count": 148,
   "metadata": {
    "collapsed": true
   },
   "outputs": [],
   "source": [
    "myFirstLCA_quick = bw.LCA({random_act:1}, ('IPCC 2013', 'climate change', 'GWP 100a'))"
   ]
  },
  {
   "cell_type": "markdown",
   "metadata": {},
   "source": [
    "The steps to get to the impact score are as follows:"
   ]
  },
  {
   "cell_type": "code",
   "execution_count": 149,
   "metadata": {
    "collapsed": false
   },
   "outputs": [
    {
     "data": {
      "text/plain": [
       "4.090895588283267"
      ]
     },
     "execution_count": 149,
     "metadata": {},
     "output_type": "execute_result"
    }
   ],
   "source": [
    "myFirstLCA_quick.lci()    # Builds matrices, solves the system, generates an LCI matrix.\n",
    "myFirstLCA_quick.lcia()   # Characterization, i.e. the multiplication of the elements \n",
    "                          # of the LCI matrix with characterization factors from the chosen method\n",
    "myFirstLCA_quick.score    # Returns the score, i.e. the sum of the characterized inventory"
   ]
  },
  {
   "cell_type": "markdown",
   "metadata": {},
   "source": [
    "Let's do this again, but not so quickly now, so we can see what is going on:"
   ]
  },
  {
   "cell_type": "code",
   "execution_count": 61,
   "metadata": {
    "collapsed": false,
    "deletable": true,
    "editable": true
   },
   "outputs": [],
   "source": [
    "myFirstLCA = bw.LCA({random_act:1}, ('IPCC 2013', 'climate change', 'GWP 100a'))"
   ]
  },
  {
   "cell_type": "markdown",
   "metadata": {
    "deletable": true,
    "editable": true
   },
   "source": [
    "We can now explore the methods and properties of the LCA object:"
   ]
  },
  {
   "cell_type": "code",
   "execution_count": null,
   "metadata": {
    "collapsed": true,
    "deletable": true,
    "editable": true
   },
   "outputs": [],
   "source": [
    "myFirstLCA. #Press Tab"
   ]
  },
  {
   "cell_type": "markdown",
   "metadata": {
    "deletable": true,
    "editable": true
   },
   "source": [
    "Let's explore a few:"
   ]
  },
  {
   "cell_type": "markdown",
   "metadata": {
    "deletable": true,
    "editable": true
   },
   "source": [
    "#### Demand"
   ]
  },
  {
   "cell_type": "code",
   "execution_count": 62,
   "metadata": {
    "collapsed": false,
    "deletable": true,
    "editable": true
   },
   "outputs": [
    {
     "data": {
      "text/plain": [
       "{'drilling, CNC, brass' (kilogram, RER, ['metals', 'chipping']): 1}"
      ]
     },
     "execution_count": 62,
     "metadata": {},
     "output_type": "execute_result"
    }
   ],
   "source": [
    "myFirstLCA.demand"
   ]
  },
  {
   "cell_type": "markdown",
   "metadata": {
    "deletable": true,
    "editable": true
   },
   "source": [
    "To access the actual activity from the demand, you would do this:"
   ]
  },
  {
   "cell_type": "code",
   "execution_count": 63,
   "metadata": {
    "collapsed": false,
    "deletable": true,
    "editable": true
   },
   "outputs": [
    {
     "data": {
      "text/plain": [
       "'drilling, CNC, brass' (kilogram, RER, ['metals', 'chipping'])"
      ]
     },
     "execution_count": 63,
     "metadata": {},
     "output_type": "execute_result"
    }
   ],
   "source": [
    "list(myFirstLCA.demand.keys())[0]"
   ]
  },
  {
   "cell_type": "code",
   "execution_count": 64,
   "metadata": {
    "collapsed": false,
    "deletable": true,
    "editable": true
   },
   "outputs": [],
   "source": [
    "demanded_act = list(myFirstLCA.demand.keys())[0]"
   ]
  },
  {
   "cell_type": "code",
   "execution_count": 65,
   "metadata": {
    "collapsed": false,
    "deletable": true,
    "editable": true
   },
   "outputs": [
    {
     "data": {
      "text/plain": [
       "True"
      ]
     },
     "execution_count": 65,
     "metadata": {},
     "output_type": "execute_result"
    }
   ],
   "source": [
    "demanded_act == random_act"
   ]
  },
  {
   "cell_type": "markdown",
   "metadata": {
    "deletable": true,
    "editable": true
   },
   "source": [
    "There are also other attributes that have simply not been built yet: "
   ]
  },
  {
   "cell_type": "code",
   "execution_count": 66,
   "metadata": {
    "collapsed": false,
    "deletable": true,
    "editable": true
   },
   "outputs": [
    {
     "ename": "AttributeError",
     "evalue": "'LCA' object has no attribute 'demand_array'",
     "output_type": "error",
     "traceback": [
      "\u001b[0;31m---------------------------------------------------------------------------\u001b[0m",
      "\u001b[0;31mAttributeError\u001b[0m                            Traceback (most recent call last)",
      "\u001b[0;32m<ipython-input-66-e19376a8d745>\u001b[0m in \u001b[0;36m<module>\u001b[0;34m()\u001b[0m\n\u001b[0;32m----> 1\u001b[0;31m \u001b[0mmyFirstLCA\u001b[0m\u001b[0;34m.\u001b[0m\u001b[0mdemand_array\u001b[0m\u001b[0;34m\u001b[0m\u001b[0m\n\u001b[0m",
      "\u001b[0;31mAttributeError\u001b[0m: 'LCA' object has no attribute 'demand_array'"
     ]
    }
   ],
   "source": [
    "myFirstLCA.demand_array"
   ]
  },
  {
   "cell_type": "code",
   "execution_count": 67,
   "metadata": {
    "collapsed": false,
    "deletable": true,
    "editable": true
   },
   "outputs": [
    {
     "ename": "AssertionError",
     "evalue": "Must do LCIA first",
     "output_type": "error",
     "traceback": [
      "\u001b[0;31m---------------------------------------------------------------------------\u001b[0m",
      "\u001b[0;31mAssertionError\u001b[0m                            Traceback (most recent call last)",
      "\u001b[0;32m<ipython-input-67-81e06e33ff8b>\u001b[0m in \u001b[0;36m<module>\u001b[0;34m()\u001b[0m\n\u001b[0;32m----> 1\u001b[0;31m \u001b[0mmyFirstLCA\u001b[0m\u001b[0;34m.\u001b[0m\u001b[0mscore\u001b[0m\u001b[0;34m\u001b[0m\u001b[0m\n\u001b[0m",
      "\u001b[0;32mC:\\bw2-python\\envs\\bw2\\lib\\site-packages\\bw2calc\\lca.py\u001b[0m in \u001b[0;36mscore\u001b[0;34m(self)\u001b[0m\n\u001b[1;32m    361\u001b[0m \u001b[0mNote\u001b[0m \u001b[0mthat\u001b[0m \u001b[0mthis\u001b[0m \u001b[0;32mis\u001b[0m \u001b[0ma\u001b[0m\u001b[0;31m \u001b[0m\u001b[0;31m`\u001b[0m\u001b[0mproperty\u001b[0m \u001b[0;34m<\u001b[0m\u001b[0mhttp\u001b[0m\u001b[0;34m:\u001b[0m\u001b[0;34m//\u001b[0m\u001b[0mdocs\u001b[0m\u001b[0;34m.\u001b[0m\u001b[0mpython\u001b[0m\u001b[0;34m.\u001b[0m\u001b[0morg\u001b[0m\u001b[0;34m/\u001b[0m\u001b[0;36m2\u001b[0m\u001b[0;34m/\u001b[0m\u001b[0mlibrary\u001b[0m\u001b[0;34m/\u001b[0m\u001b[0mfunctions\u001b[0m\u001b[0;34m.\u001b[0m\u001b[0mhtml\u001b[0m\u001b[0;31m#property>`_, so it is ``foo.lca``, not ``foo.score()``\u001b[0m\u001b[0;34m\u001b[0m\u001b[0m\n\u001b[1;32m    362\u001b[0m         \"\"\"\n\u001b[0;32m--> 363\u001b[0;31m         \u001b[0;32massert\u001b[0m \u001b[0mhasattr\u001b[0m\u001b[0;34m(\u001b[0m\u001b[0mself\u001b[0m\u001b[0;34m,\u001b[0m \u001b[0;34m\"characterized_inventory\"\u001b[0m\u001b[0;34m)\u001b[0m\u001b[0;34m,\u001b[0m \u001b[0;34m\"Must do LCIA first\"\u001b[0m\u001b[0;34m\u001b[0m\u001b[0m\n\u001b[0m\u001b[1;32m    364\u001b[0m         \u001b[0;32mif\u001b[0m \u001b[0mself\u001b[0m\u001b[0;34m.\u001b[0m\u001b[0mweighting\u001b[0m\u001b[0;34m:\u001b[0m\u001b[0;34m\u001b[0m\u001b[0m\n\u001b[1;32m    365\u001b[0m             \u001b[0;32massert\u001b[0m \u001b[0mhasattr\u001b[0m\u001b[0;34m(\u001b[0m\u001b[0mself\u001b[0m\u001b[0;34m,\u001b[0m \u001b[0;34m\"weighted_inventory\"\u001b[0m\u001b[0;34m)\u001b[0m\u001b[0;34m,\u001b[0m \u001b[0;34m\"Must do weighting first\"\u001b[0m\u001b[0;34m\u001b[0m\u001b[0m\n",
      "\u001b[0;31mAssertionError\u001b[0m: Must do LCIA first"
     ]
    }
   ],
   "source": [
    "myFirstLCA.score"
   ]
  },
  {
   "cell_type": "markdown",
   "metadata": {
    "deletable": true,
    "editable": true
   },
   "source": [
    "This is because the actual matrices have not yet been built. Running myFirstLCA.lci() will:\n",
    " - attribute row and column numbers to all elements in our $A$ and $B$ matrices and store these in a paramerer array (NumPy structured array) - processed data.\n",
    " - Build coordinate (coo) matrices based on this information - actual matrices.  \n",
    " \n",
    "The turning of the processed data (structured arrays) into matrices is described [here](https://docs.brightwaylca.org/lca.html#building-matrices).  \n",
    "\n",
    "Let's run the lci() method now:"
   ]
  },
  {
   "cell_type": "code",
   "execution_count": 68,
   "metadata": {
    "collapsed": true,
    "deletable": true,
    "editable": true
   },
   "outputs": [],
   "source": [
    "myFirstLCA.lci()"
   ]
  },
  {
   "cell_type": "markdown",
   "metadata": {
    "deletable": true,
    "editable": true
   },
   "source": [
    "Now we have access to many other attributes and methods."
   ]
  },
  {
   "cell_type": "markdown",
   "metadata": {
    "deletable": true,
    "editable": true
   },
   "source": [
    "**Demand array**, the $f$ in $As=f$"
   ]
  },
  {
   "cell_type": "markdown",
   "metadata": {
    "deletable": true,
    "editable": true
   },
   "source": [
    "The demand array is a numpy array, where all elements are = 0 except for the ones specified in the functional unit."
   ]
  },
  {
   "cell_type": "code",
   "execution_count": 69,
   "metadata": {
    "collapsed": false,
    "deletable": true,
    "editable": true
   },
   "outputs": [
    {
     "data": {
      "text/plain": [
       "array([ 0.,  0.,  0., ...,  0.,  0.,  0.])"
      ]
     },
     "execution_count": 69,
     "metadata": {},
     "output_type": "execute_result"
    }
   ],
   "source": [
    "myFirstLCA.demand_array"
   ]
  },
  {
   "cell_type": "code",
   "execution_count": 70,
   "metadata": {
    "collapsed": false,
    "deletable": true,
    "editable": true
   },
   "outputs": [
    {
     "data": {
      "text/plain": [
       "numpy.ndarray"
      ]
     },
     "execution_count": 70,
     "metadata": {},
     "output_type": "execute_result"
    }
   ],
   "source": [
    "type(myFirstLCA.demand_array)"
   ]
  },
  {
   "cell_type": "code",
   "execution_count": 71,
   "metadata": {
    "collapsed": false,
    "deletable": true,
    "editable": true
   },
   "outputs": [
    {
     "data": {
      "text/plain": [
       "(4087,)"
      ]
     },
     "execution_count": 71,
     "metadata": {},
     "output_type": "execute_result"
    }
   ],
   "source": [
    "myFirstLCA.demand_array.shape"
   ]
  },
  {
   "cell_type": "code",
   "execution_count": 72,
   "metadata": {
    "collapsed": false,
    "deletable": true,
    "editable": true
   },
   "outputs": [
    {
     "data": {
      "text/plain": [
       "1.0"
      ]
     },
     "execution_count": 72,
     "metadata": {},
     "output_type": "execute_result"
    }
   ],
   "source": [
    "myFirstLCA.demand_array.sum()"
   ]
  },
  {
   "cell_type": "markdown",
   "metadata": {
    "deletable": true,
    "editable": true
   },
   "source": [
    "So where is this \"1\"? This is where we need to start talking about **indices**. The row and column indices are stored in LCA-specific dictionaries. For example, we have product_dict that links the types of products used in our LCA (rows in the $A$ matrix) with the row numbers in the actual $A$ matrix that Brightway built."
   ]
  },
  {
   "cell_type": "code",
   "execution_count": 73,
   "metadata": {
    "collapsed": false,
    "deletable": true,
    "editable": true
   },
   "outputs": [
    {
     "data": {
      "text/plain": [
       "{('ecoinvent 2.2', '347c428c1e4df89f46e66ebde736ea32'): 4016,\n",
       " ('ecoinvent 2.2', '6b35b48a0e398444d8b8c18fe77d62b0'): 3021,\n",
       " ('ecoinvent 2.2', 'f5ce334466231adc4167dd2d025f065e'): 1662,\n",
       " ('ecoinvent 2.2', '99d2906d9533b8a191e280f0aa98a107'): 592,\n",
       " ('ecoinvent 2.2', '54520e53a4c15660f19ad6a50890bf2d'): 2981,\n",
       " ('ecoinvent 2.2', '0d79f0364cb44e94ff00c5cd4e057727'): 52,\n",
       " ('ecoinvent 2.2', '6068694945876a175a3c75c094e5197a'): 538,\n",
       " ('ecoinvent 2.2', '98eb4b1cfee2d1715f3157f409e26d5e'): 1951,\n",
       " ('ecoinvent 2.2', '24b0d02a6551fee1b9120a3f0eeb81b5'): 1228,\n",
       " ('ecoinvent 2.2', '926eb37d323d9c0577f080d547e2eac9'): 1830,\n",
       " ('ecoinvent 2.2', 'cc2741cc570cc269d1da89d3eae71427'): 871,\n",
       " ('ecoinvent 2.2', '9c407322be79bebf989374a3bf6f10f3'): 1114,\n",
       " ('ecoinvent 2.2', '34152e268b72e615bbff6405f4606656'): 2486,\n",
       " ('ecoinvent 2.2', '4fda80619cf844945e1ed4384a66f87c'): 1526,\n",
       " ('ecoinvent 2.2', '0839fd914788aed5aaac9e31a50dfca7'): 2768,\n",
       " ('ecoinvent 2.2', '36686269d40955216a062f1db1223655'): 2568,\n",
       " ('ecoinvent 2.2', '189cba21589cd23196e6ed0247d2b360'): 3336,\n",
       " ('ecoinvent 2.2', 'ccdb5c272ceb6633ac40d3deb8ceacee'): 2468,\n",
       " ('ecoinvent 2.2', '54cf70570c0a03f1d560fcbc54cae4bd'): 1426,\n",
       " ('ecoinvent 2.2', '707c81e316cc6027354d44993dc6caee'): 3276,\n",
       " ('ecoinvent 2.2', '6b3847dfd33c7a44776af2748d4b0c70'): 1417,\n",
       " ('ecoinvent 2.2', '3158be430c2138f7152fcf635d4d0c13'): 332,\n",
       " ('ecoinvent 2.2', '346736d5efe01bae2e433e3dbf7ad0de'): 892,\n",
       " ('ecoinvent 2.2', '1ada1410a76b737cea1ae71e95a85ad9'): 739,\n",
       " ('ecoinvent 2.2', '432f61486228f4d3ffbbbb4e4b096e26'): 1442,\n",
       " ('ecoinvent 2.2', '5a6116d95c5fa3193ed2b018fb377293'): 505,\n",
       " ('ecoinvent 2.2', '6c45ce462a62ab49d354f0380bf713a9'): 1090,\n",
       " ('ecoinvent 2.2', 'a2c5844e69f0c98bc540e0d38fba346b'): 1992,\n",
       " ('ecoinvent 2.2', 'bd7b94cec97b65332b71c00c3d9af123'): 9,\n",
       " ('ecoinvent 2.2', '5dcce6708eca19c33301f8cc355b6a4b'): 1291,\n",
       " ('ecoinvent 2.2', '90a7f705978f0ed5639b188bbb53a2b3'): 697,\n",
       " ('ecoinvent 2.2', '15813e2397abc00043d022fe2d9f3dd1'): 873,\n",
       " ('ecoinvent 2.2', '6fba373b0d36e14790161bb2e6759eeb'): 923,\n",
       " ('ecoinvent 2.2', '7aece52180cc341e24e4c7aac7118271'): 2942,\n",
       " ('ecoinvent 2.2', 'f95198c4357f48a25ca4d2b79465d120'): 2589,\n",
       " ('ecoinvent 2.2', 'a92ba2cbb2bb6ffe13e2d65c535322d1'): 3593,\n",
       " ('ecoinvent 2.2', '2aca95f5baf104e79cca416cf00ec16e'): 2358,\n",
       " ('ecoinvent 2.2', '833e3ff204ef969e66d068953718f964'): 1654,\n",
       " ('ecoinvent 2.2', '1365c7a0089969f10d3e288c2a3ab6b0'): 3052,\n",
       " ('ecoinvent 2.2', '4e90e529bdb76e789e6659e8eb37bf84'): 709,\n",
       " ('ecoinvent 2.2', 'd639efd3dea31588f10d5967d082daf4'): 43,\n",
       " ('ecoinvent 2.2', '0b2a34884b3718de56bb6c4d28805a16'): 2791,\n",
       " ('ecoinvent 2.2', '282bc2021ff224271030d877d3464d46'): 3395,\n",
       " ('ecoinvent 2.2', '98cd624c2c5629f5e74598c99e0be249'): 653,\n",
       " ('ecoinvent 2.2', '221907622b2f64234763494f9049348c'): 2387,\n",
       " ('ecoinvent 2.2', 'c9497d16e595935f4cd351e4b447da89'): 3039,\n",
       " ('ecoinvent 2.2', '6701a811eedd014885437eb721e091b8'): 1573,\n",
       " ('ecoinvent 2.2', '0e775b681059b48e47615e2fc359d348'): 2091,\n",
       " ('ecoinvent 2.2', '6dedeb92662d95e2ccc3c9f1e4eb435f'): 3589,\n",
       " ('ecoinvent 2.2', '7cfc14cdcb162f6c655581669dff7029'): 1277,\n",
       " ('ecoinvent 2.2', '1d98e48997f8116a311883144d09e916'): 1503,\n",
       " ('ecoinvent 2.2', 'd4acd788f31b9ce6a4aacd97a7ae2a29'): 3874,\n",
       " ('ecoinvent 2.2', 'b180b3016d212b00037eae722a5307a4'): 3016,\n",
       " ('ecoinvent 2.2', '2d29aedad0dd464efb13e3702a1e24cb'): 1337,\n",
       " ('ecoinvent 2.2', 'dfef313535774057213bb24643f26de2'): 241,\n",
       " ('ecoinvent 2.2', 'c062187747038f9f5c24e247334f4359'): 1174,\n",
       " ('ecoinvent 2.2', '1d045aec420152860053c21ef1873955'): 2196,\n",
       " ('ecoinvent 2.2', '0354c64752532cb94a0952b2ac86c0b3'): 2238,\n",
       " ('ecoinvent 2.2', 'd1bef1a04ae32d82fb439b29be41d54a'): 4070,\n",
       " ('ecoinvent 2.2', '698044fc03d0ab42ea75a624af20ac7e'): 2906,\n",
       " ('ecoinvent 2.2', 'b0e54709e80b5c52a399434605985bd4'): 553,\n",
       " ('ecoinvent 2.2', 'e76800431c61efc17b2e1751fae23e2e'): 3612,\n",
       " ('ecoinvent 2.2', '5afb5dfe64e4590ac06e79ce6ccde297'): 3922,\n",
       " ('ecoinvent 2.2', '856b8308bfab0996bacdaad78de84417'): 1384,\n",
       " ('ecoinvent 2.2', '41231e5bf2a03bcc0e84ad8e97979f56'): 3318,\n",
       " ('ecoinvent 2.2', '59a86d54a53f07c275ca532d628e443b'): 996,\n",
       " ('ecoinvent 2.2', '7728289fbbd1f7404f8eff138f5314c0'): 2785,\n",
       " ('ecoinvent 2.2', '24da7b2b109d30d2ae93be572b094946'): 2066,\n",
       " ('ecoinvent 2.2', 'acbe53932d7580d76743af2e819d38b0'): 1450,\n",
       " ('ecoinvent 2.2', '43b16215d6842826e9e82bb129a81693'): 1221,\n",
       " ('ecoinvent 2.2', 'ffb77ca1fd7d11e84a437722b5422b0e'): 818,\n",
       " ('ecoinvent 2.2', '0f2c1aad3e25d15fd111a8d72c31514e'): 173,\n",
       " ('ecoinvent 2.2', 'c1bf4710307409270172463f2e8a6232'): 3911,\n",
       " ('ecoinvent 2.2', '0015f054356293398bca397fe9261b05'): 2259,\n",
       " ('ecoinvent 2.2', '200c595874ef740de132520802379ad7'): 2067,\n",
       " ('ecoinvent 2.2', '4f5b86f5fccb150802ae4d1adf73af6e'): 2702,\n",
       " ('ecoinvent 2.2', '8f5f35bbf40d9bd3cac6ff1a872947c5'): 1050,\n",
       " ('ecoinvent 2.2', 'f13039af74b7c36481e89c23b8430389'): 1726,\n",
       " ('ecoinvent 2.2', 'aa5dcfe67d506e55af055f66894a05fa'): 123,\n",
       " ('ecoinvent 2.2', 'f4c83d7134b957fe61938512286a7c1e'): 745,\n",
       " ('ecoinvent 2.2', '8f163a6aefe30bb221aa933d99f88d91'): 1989,\n",
       " ('ecoinvent 2.2', '490a424e96b4401c82d228d46c8464c0'): 1877,\n",
       " ('ecoinvent 2.2', '2c354bffa4200f6b943c44ea3f46b5f4'): 3692,\n",
       " ('ecoinvent 2.2', 'e5a5f0fb22dfeb8bc7c1a29b0d8f9543'): 3983,\n",
       " ('ecoinvent 2.2', 'c689103cc9b81a7e0abee3f4de1659aa'): 1533,\n",
       " ('ecoinvent 2.2', '1ebb17aea46215cfa0e18415239445b0'): 2160,\n",
       " ('ecoinvent 2.2', '2c2bff11551a703cf84872348ed3b3c3'): 2787,\n",
       " ('ecoinvent 2.2', 'e30bd3e8473548a9b6cbae1c02aa453a'): 654,\n",
       " ('ecoinvent 2.2', '6da8041d4322f4d2878814c0b9f4772b'): 687,\n",
       " ('ecoinvent 2.2', '13075334227d15a6cea89bf5102c0084'): 3253,\n",
       " ('ecoinvent 2.2', '3d1f1c56793bac9214e533dd8b24762c'): 2043,\n",
       " ('ecoinvent 2.2', 'd5da0d766494d162c856886581460d6a'): 1121,\n",
       " ('ecoinvent 2.2', '017a28d922523f6d3652d53d0cfd8be6'): 1324,\n",
       " ('ecoinvent 2.2', 'f1a85a25cb2f194b52165db2bc2a9fa7'): 3407,\n",
       " ('ecoinvent 2.2', 'b08576a3ccb6fd6c93e9f37d6c3ec26d'): 2664,\n",
       " ('ecoinvent 2.2', '13948bc99e41c2161285875e6638df52'): 1381,\n",
       " ('ecoinvent 2.2', '0be4cb933e05caedf672df702541d39e'): 3685,\n",
       " ('ecoinvent 2.2', '9048fe04cee631ea5596bf7424c0ffcf'): 1769,\n",
       " ('ecoinvent 2.2', '0cb0ac4b161eaa5949676f0f9e45da7d'): 3489,\n",
       " ('ecoinvent 2.2', 'e7e8321332178ce04a4720e69439d880'): 2827,\n",
       " ('ecoinvent 2.2', 'fa6ea8e8511af1746f54d49a5714d266'): 2388,\n",
       " ('ecoinvent 2.2', 'c22435dec328a0701ae5038c2bb515d0'): 1096,\n",
       " ('ecoinvent 2.2', '67dfedbf7d94dd486fcaa3bcd315e2ec'): 650,\n",
       " ('ecoinvent 2.2', '9491f597d2810674eef438594e967197'): 200,\n",
       " ('ecoinvent 2.2', '188638c85d6d611a8122fde2f0714068'): 2565,\n",
       " ('ecoinvent 2.2', '8d31cfed714a17d6188f52e4ccd325c8'): 2296,\n",
       " ('ecoinvent 2.2', 'a7e292075851329434ce8cf4b51c5b48'): 514,\n",
       " ('ecoinvent 2.2', '107c6241dee583248ca900ee80a33e53'): 3600,\n",
       " ('ecoinvent 2.2', 'bb882dfdc11c7d7adf63bebed8cfa6ad'): 2950,\n",
       " ('ecoinvent 2.2', '05f8511c2ac1ddbb6ed8c7cbcb1cfc0a'): 236,\n",
       " ('ecoinvent 2.2', '1c8c3d05d556cac0edc42c90811c24f1'): 2823,\n",
       " ('ecoinvent 2.2', '69bb6b40133917ba7025179e160e15c4'): 1901,\n",
       " ('ecoinvent 2.2', 'f36ed4ddd9763518b33edf34991f136a'): 3373,\n",
       " ('ecoinvent 2.2', 'c9f662b4dab5c4949ca733b1f95ca3f0'): 2540,\n",
       " ('ecoinvent 2.2', '0d73ebbe07b734df0a95919d4760694d'): 3443,\n",
       " ('ecoinvent 2.2', '0e05d538ea4807507889499921fbb5b7'): 2322,\n",
       " ('ecoinvent 2.2', '845ac3c3d809f2f8552726abadbf276a'): 323,\n",
       " ('ecoinvent 2.2', 'b889084d6cbe412ab2400602d44dc3a4'): 3301,\n",
       " ('ecoinvent 2.2', '743c70ab90278580c6d547409795c67c'): 3436,\n",
       " ('ecoinvent 2.2', 'af6dc4cba3713180a117694561d02693'): 2920,\n",
       " ('ecoinvent 2.2', 'd39d98151d1c26c05adc9203383f3db9'): 2136,\n",
       " ('ecoinvent 2.2', '9ac290544024a5eb9247a92fe2a5da11'): 720,\n",
       " ('ecoinvent 2.2', '4441ef116636260b40b8ac64677af19b'): 3317,\n",
       " ('ecoinvent 2.2', '8144e07bd7b1a78e7effcdf81aecbb06'): 1969,\n",
       " ('ecoinvent 2.2', '66e6758eefb8650cd1171d44235c3828'): 2034,\n",
       " ('ecoinvent 2.2', '10b4213b74377760090a8700cfe7a5ec'): 716,\n",
       " ('ecoinvent 2.2', 'ef9e136c1d4e59d8f4288e414acdfb46'): 3461,\n",
       " ('ecoinvent 2.2', 'ef440be9abeb46a3b0e3e37e13db9ec6'): 815,\n",
       " ('ecoinvent 2.2', '4bea333af339e6e897910066e1403b93'): 1825,\n",
       " ('ecoinvent 2.2', 'fb8960b1969fe349046ee15f00737cd5'): 2307,\n",
       " ('ecoinvent 2.2', '9ca5bb5425dbc0431aebd30bd81818f0'): 1175,\n",
       " ('ecoinvent 2.2', '48178486f1545acafa5bab321616a474'): 3822,\n",
       " ('ecoinvent 2.2', 'ffd161c8d54e726f8e2033801ff87f3d'): 1287,\n",
       " ('ecoinvent 2.2', 'f3abda1ee771cf42edc091b207b7e44a'): 2311,\n",
       " ('ecoinvent 2.2', '6bd5992944088d059a103aa6b21f30e5'): 3409,\n",
       " ('ecoinvent 2.2', '1680d1d9bda023ce2c2daaa50a5b35de'): 1244,\n",
       " ('ecoinvent 2.2', '4b758b46a370dd59f5d8464685410476'): 3618,\n",
       " ('ecoinvent 2.2', 'ea1e182643722c9f172df231acbdc731'): 429,\n",
       " ('ecoinvent 2.2', 'c809f46df6b16f293d44c39779e79d8f'): 587,\n",
       " ('ecoinvent 2.2', '965583650046262767aa746274c3a3f4'): 2089,\n",
       " ('ecoinvent 2.2', 'bde4137f9eefbba4479acc6be81f1cc3'): 3323,\n",
       " ('ecoinvent 2.2', '07adb31373271e59948c8a15d1349cf7'): 1060,\n",
       " ('ecoinvent 2.2', '3dcb61e019f707786c3cfb14dfc037c5'): 1239,\n",
       " ('ecoinvent 2.2', '9aa8098f0b24eb630f3d5a6e1e56a01c'): 1507,\n",
       " ('ecoinvent 2.2', 'b6f2e0801243394e43b184ee61752ed6'): 3452,\n",
       " ('ecoinvent 2.2', '2f1866c32f378a3f06d0df65127987f1'): 1198,\n",
       " ('ecoinvent 2.2', '1cd8bc6c2a1bdda83e2f6daaedee4cbc'): 3645,\n",
       " ('ecoinvent 2.2', 'f6f77c0e94ae82ac88d26a6b7071a043'): 1127,\n",
       " ('ecoinvent 2.2', 'e46d0ade85f4ef2b8b4e05c497b7d034'): 1665,\n",
       " ('ecoinvent 2.2', 'abbf295e5415013f9ea13ded91d02953'): 2898,\n",
       " ('ecoinvent 2.2', 'be56ca77ba88d44b7eb52f31d5bfb5e7'): 2687,\n",
       " ('ecoinvent 2.2', '391b06ce33af771f11602a0438fcb3b7'): 3551,\n",
       " ('ecoinvent 2.2', '546435e1dcb0f0673a510bf58293379e'): 921,\n",
       " ('ecoinvent 2.2', '926fd9247389e6fbb16ce07424d7f432'): 1443,\n",
       " ('ecoinvent 2.2', 'b238c2590938eb504dfe806236df0fe5'): 1687,\n",
       " ('ecoinvent 2.2', '4984a6868533b1471be3f709853475ab'): 3519,\n",
       " ('ecoinvent 2.2', '52df88ffe2bc521c4ecbd931572407c7'): 884,\n",
       " ('ecoinvent 2.2', '8eab7a2ccdcb36f8d5d27f5b3a79734c'): 1087,\n",
       " ('ecoinvent 2.2', 'c0ca95d02080710f3dd38ebc6e6d3735'): 738,\n",
       " ('ecoinvent 2.2', '677fb0adfda28b29bac17de56a15c65d'): 2138,\n",
       " ('ecoinvent 2.2', '2463d97bd4bbd9e7486c60bac55ffbdc'): 2719,\n",
       " ('ecoinvent 2.2', '7712680e19bc8c53b4ff8781c3d4a32a'): 3710,\n",
       " ('ecoinvent 2.2', 'c38824896bc7b5aaa86737ee0efa37ae'): 2832,\n",
       " ('ecoinvent 2.2', 'c7480ac929ec0c169ea2fd58dc3df550'): 3614,\n",
       " ('ecoinvent 2.2', '706f5accd933d7bff8f90a9463c0bb9b'): 2028,\n",
       " ('ecoinvent 2.2', '302c92abdfa8873a113d96a0269a2206'): 2642,\n",
       " ('ecoinvent 2.2', '0060ae00d9a29392009b1595722883a9'): 2938,\n",
       " ('ecoinvent 2.2', '150c7ffbf01fb9298a676bd24dce5932'): 1596,\n",
       " ('ecoinvent 2.2', 'c3db272da7810c33922b99e4319deb52'): 608,\n",
       " ('ecoinvent 2.2', 'd22d91a25ef3f1619297cfefaed48834'): 3394,\n",
       " ('ecoinvent 2.2', 'c9b2a3994359a702ad42c9c30e6288de'): 4026,\n",
       " ('ecoinvent 2.2', '4b24f3ce8f86d5b18d1ed472df48afc2'): 2121,\n",
       " ('ecoinvent 2.2', '6325609e9fcf3b4ae54e2270dd54b014'): 2788,\n",
       " ('ecoinvent 2.2', '1e849323b3da951cbb657c4134f5a962'): 1891,\n",
       " ('ecoinvent 2.2', '1427942d1f8e428b8a3f3e0c144bbefc'): 2206,\n",
       " ('ecoinvent 2.2', '60133925450b03eda8e87b197b21cd79'): 2053,\n",
       " ('ecoinvent 2.2', 'c554d37f973d1b499854bf094528d0cd'): 869,\n",
       " ('ecoinvent 2.2', '090aec47a865062f6b4716b4965df2c6'): 3721,\n",
       " ('ecoinvent 2.2', '53f8d31bb6b61558cc00fdc387149fa7'): 2519,\n",
       " ('ecoinvent 2.2', 'c647ea2a1c7f340ede0217dd77ec0c6d'): 1200,\n",
       " ('ecoinvent 2.2', '15b51b6024835146112ee3811031a8ed'): 27,\n",
       " ('ecoinvent 2.2', '2ef848c20f014443160cfaf8851f4d58'): 1780,\n",
       " ('ecoinvent 2.2', '77c808c47d0289507ac0a3b99537d1cc'): 471,\n",
       " ('ecoinvent 2.2', '730cb34a551b531100ea1e6dfa8819b1'): 3188,\n",
       " ('ecoinvent 2.2', '3f351a5e4b28d8eac73e7d2b7c7dcbb1'): 3448,\n",
       " ('ecoinvent 2.2', '0c6d8020d05e5d0dbe2cde8c78266cbd'): 2278,\n",
       " ('ecoinvent 2.2', '0dfe74aa413522f3ade74871055d09c4'): 2535,\n",
       " ('ecoinvent 2.2', '2b21c62d078c58212d27e78e8b51755d'): 2517,\n",
       " ('ecoinvent 2.2', '7cbe8aaf33cbe963cfe9c71fe50da572'): 2737,\n",
       " ('ecoinvent 2.2', '7267ad18c24213decf1c9428bca4914f'): 3674,\n",
       " ('ecoinvent 2.2', '9b57d346fe62d35b1fa21ffc28bb2cdd'): 3718,\n",
       " ('ecoinvent 2.2', 'bdccdd10f2168c0dc33c7381a9089c5d'): 3695,\n",
       " ('ecoinvent 2.2', 'e1f7aeccd78dc3aa8debb4cded107883'): 1538,\n",
       " ('ecoinvent 2.2', '109daf4821e751bb3ccb607239c2110d'): 3063,\n",
       " ('ecoinvent 2.2', '4e90879ea9437979741dacbdd01cf2aa'): 580,\n",
       " ('ecoinvent 2.2', '8a07fe94010eb3290410192ccb96a515'): 634,\n",
       " ('ecoinvent 2.2', '4ac78f67ad4d80f0f24defbadabea1e0'): 88,\n",
       " ('ecoinvent 2.2', '33d148dee87597033ba26ce331591a2e'): 1432,\n",
       " ('ecoinvent 2.2', 'e2e243766136009e79b803f5fca892d2'): 905,\n",
       " ('ecoinvent 2.2', '612c2eb3dc007933c7e494f2ab4c4a92'): 698,\n",
       " ('ecoinvent 2.2', 'c8a95cb2e33b0526610d197bcf8cf82d'): 1240,\n",
       " ('ecoinvent 2.2', 'a65d044d01ec96ecd0c0bef91bcff8e1'): 1471,\n",
       " ('ecoinvent 2.2', '5283368573659b3b35bdd8dfa13a8041'): 1888,\n",
       " ('ecoinvent 2.2', 'b070e0ee8e16aa13c878e8879069426b'): 2135,\n",
       " ('ecoinvent 2.2', '4620f6693a9c83ae6115f5b370ba4e65'): 1649,\n",
       " ('ecoinvent 2.2', '0b6c382a101ff0ec787cba76c0bef4e9'): 3835,\n",
       " ('ecoinvent 2.2', '0b267f4dbfa479c80a9d61957b536092'): 1137,\n",
       " ('ecoinvent 2.2', '3afc903956bbf5f51700d50ac776c7d8'): 642,\n",
       " ('ecoinvent 2.2', '19b23fc83395e82cbd5d5818cc6c4659'): 1742,\n",
       " ('ecoinvent 2.2', '77a8c8631abaf3b70b78c8658fe0e6c6'): 683,\n",
       " ('ecoinvent 2.2', '66eb6e82871a471200eece732b809c20'): 1016,\n",
       " ('ecoinvent 2.2', '9c5fcaa878771091931889deef41a9ed'): 2854,\n",
       " ('ecoinvent 2.2', '9c0853853016146743f749cb70a5592b'): 568,\n",
       " ('ecoinvent 2.2', 'e9d7589a63d88011bec2c7797d02b9bf'): 896,\n",
       " ('ecoinvent 2.2', '48db876d3ccc511757cfcf53831346c2'): 1923,\n",
       " ('ecoinvent 2.2', 'fd7fda18cf5ce247491632ee55848390'): 295,\n",
       " ('ecoinvent 2.2', 'c2bf1648ff65b6b8a3028c5c2618866b'): 1197,\n",
       " ('ecoinvent 2.2', '7fa9dfa629b8f71a8996c8e27ec4c248'): 521,\n",
       " ('ecoinvent 2.2', 'b4543e3c20462bebef55f99c433593e5'): 713,\n",
       " ('ecoinvent 2.2', 'ec5e5c7f164b4040c7bda94011086ebd'): 3829,\n",
       " ('ecoinvent 2.2', 'd4e3c85336190c71f64298ad243088f4'): 1191,\n",
       " ('ecoinvent 2.2', 'e5052719528c88f1528378d9c7a30426'): 734,\n",
       " ('ecoinvent 2.2', '63c34a51c08669af3950fa1206894b27'): 810,\n",
       " ('ecoinvent 2.2', '58bf12d9e1d8db1726624482279bbdc7'): 1409,\n",
       " ('ecoinvent 2.2', 'b839e8837660d1c5d39e1ccd846a5213'): 2819,\n",
       " ('ecoinvent 2.2', '7d3fca01556f9766bf96b3fea8bdaa69'): 2913,\n",
       " ('ecoinvent 2.2', '7f5e1f6c66835d36a518392467ad3bba'): 3408,\n",
       " ('ecoinvent 2.2', 'b26035b6ba58d3f26a87d0106ee659a4'): 110,\n",
       " ('ecoinvent 2.2', '5870e22ecbc47ea770d6d6b31e5ce333'): 799,\n",
       " ('ecoinvent 2.2', '29f9f5007c0bc5d7393f6b1b1037b907'): 447,\n",
       " ('ecoinvent 2.2', 'aa986ccfa78b8b362ab68958a2fc1730'): 1613,\n",
       " ('ecoinvent 2.2', '068fb5fa52c2ee215196a5b1ec496885'): 2759,\n",
       " ('ecoinvent 2.2', '61581c56b4a8cc252901e3ce622f811a'): 1045,\n",
       " ('ecoinvent 2.2', '1d5ac7b63e7b969e05d4e2c296574169'): 1328,\n",
       " ('ecoinvent 2.2', '83f0f53b7d9d0bb78cd2b530c95439ad'): 573,\n",
       " ('ecoinvent 2.2', 'c6e1d179043e309fc0d4bdc828d2963b'): 823,\n",
       " ('ecoinvent 2.2', 'db043d8f1621a6ae764ade2bc2d375a8'): 2692,\n",
       " ('ecoinvent 2.2', '5bdd0f0fe8a89ae3040de3e2776e5d9c'): 2365,\n",
       " ('ecoinvent 2.2', '2cbccf5652915e70f2eef28746661311'): 3804,\n",
       " ('ecoinvent 2.2', '63c1275c5b93a6d03d409ec2ebdf4e91'): 2885,\n",
       " ('ecoinvent 2.2', '858490232b064dd1117b9386cb6a5248'): 470,\n",
       " ('ecoinvent 2.2', '3b2dd37e1cb75413b5fff16ee13ef339'): 1691,\n",
       " ('ecoinvent 2.2', '14fa66b51395d0f35f4434f71b5c79f3'): 1939,\n",
       " ('ecoinvent 2.2', 'cee96e8bb2281e3d4fb3b3d5304cbf4f'): 1950,\n",
       " ('ecoinvent 2.2', '93f7c25847fdfa818f8a3cde1c6383b6'): 193,\n",
       " ('ecoinvent 2.2', '8b2995ba575e61d0d78adaacdd6c5809'): 3601,\n",
       " ('ecoinvent 2.2', 'c32e24f65412ed0222c483d7aaa184ea'): 3663,\n",
       " ('ecoinvent 2.2', 'e3270620e02a8760edde15b36333f458'): 1854,\n",
       " ('ecoinvent 2.2', '313a385ff9cf801df767593bd4652c3d'): 2512,\n",
       " ('ecoinvent 2.2', '6db5573b1b4c4cafa6c80f37708d57b9'): 3381,\n",
       " ('ecoinvent 2.2', '633410ed1ff27c5dfbb2770163dcc734'): 3632,\n",
       " ('ecoinvent 2.2', '6c13d2f3f9d209089f4dd43f7b0919cf'): 2031,\n",
       " ('ecoinvent 2.2', '9d8fee9442cec066be5c79da25140bae'): 3393,\n",
       " ('ecoinvent 2.2', 'bba561113de8e20d9458fd15ebc1ccbb'): 1997,\n",
       " ('ecoinvent 2.2', 'd781c33e0556033e1b174831b6871d86'): 2374,\n",
       " ('ecoinvent 2.2', '1654194b472a4de801e92f6f1086a938'): 1030,\n",
       " ('ecoinvent 2.2', 'e4641d90e1b819d8a1e1fdf2549d568b'): 2283,\n",
       " ('ecoinvent 2.2', 'f82ad45e649a97af90fa9e3245199c4a'): 280,\n",
       " ('ecoinvent 2.2', '56242f868166e60d68999befcd23f7d3'): 995,\n",
       " ('ecoinvent 2.2', '5dd549d5b66fb7e0880111d1556cd574'): 2521,\n",
       " ('ecoinvent 2.2', '09ca5b5c3a8c406ce31d9b71cc6e9548'): 2222,\n",
       " ('ecoinvent 2.2', 'd9f7ad8e631dbd7e80d83b8e5ae86920'): 63,\n",
       " ('ecoinvent 2.2', 'e73d32eb50a7af1d86918133c23b8221'): 3359,\n",
       " ('ecoinvent 2.2', '76e22a93338b3cf70be2b8624eab6163'): 3731,\n",
       " ('ecoinvent 2.2', 'c91fbc4efe0d22d7b4ab97ef42f20936'): 1689,\n",
       " ('ecoinvent 2.2', '03c19fdc626a7a6140a4bbc449c4964a'): 3662,\n",
       " ('ecoinvent 2.2', 'b4baa5133f712860dadd4fb9c6cdb384'): 3787,\n",
       " ('ecoinvent 2.2', '534221d7c956443e189e1b21693b6a74'): 313,\n",
       " ('ecoinvent 2.2', 'ce66e35082d010f1e56286cb02fb731d'): 1386,\n",
       " ('ecoinvent 2.2', '09e674c545c4a341953e3d8fc63e289a'): 360,\n",
       " ('ecoinvent 2.2', '828659992b17ee697934b26b5dede442'): 1495,\n",
       " ('ecoinvent 2.2', 'cb15be9b4cb31e5b4e024d3df5d629e5'): 15,\n",
       " ('ecoinvent 2.2', '89263c8e72b0b937042f72541e72381a'): 3716,\n",
       " ('ecoinvent 2.2', 'b54e05e77962bd64e0ace2ff7f66d7d4'): 591,\n",
       " ('ecoinvent 2.2', 'aec74c3b4d62ba6daecbefb1ab100923'): 2588,\n",
       " ('ecoinvent 2.2', '26ee0b43e28f7e1f49f2b66f94c7d82e'): 1100,\n",
       " ('ecoinvent 2.2', '4842cafad030cfe84b03c1f3e06cfa77'): 4038,\n",
       " ('ecoinvent 2.2', 'c11f86776dc1a15bc60a7460ae8957c7'): 1118,\n",
       " ('ecoinvent 2.2', '2f2e985f30a89c22de4cd936cff4e030'): 528,\n",
       " ('ecoinvent 2.2', '515345b350122e229df352355c857118'): 2794,\n",
       " ('ecoinvent 2.2', 'a568e17d4ed4656dc93cd65567fd8004'): 398,\n",
       " ('ecoinvent 2.2', 'd77f57fd603ef37906b6c1868d8c321d'): 1745,\n",
       " ('ecoinvent 2.2', 'fa0438d9b28a1a037e084ba63916d9be'): 1985,\n",
       " ('ecoinvent 2.2', '215845c52884c4e2f77ad039b9a06e77'): 1160,\n",
       " ('ecoinvent 2.2', 'f6df81349f2f2c25ca8dd3a681f22df6'): 793,\n",
       " ('ecoinvent 2.2', '974910691d1b19ac91e708ed93963b74'): 1268,\n",
       " ('ecoinvent 2.2', 'd7f3bd592e0908fadd89d69c5fb29583'): 401,\n",
       " ('ecoinvent 2.2', 'd8892b9d72a38882ea5d61cd8cccf30f'): 1483,\n",
       " ('ecoinvent 2.2', '07cf68076b31d9fde676e25b246d526f'): 2180,\n",
       " ('ecoinvent 2.2', '4fef937a4d1027c00e10b1309dc872df'): 798,\n",
       " ('ecoinvent 2.2', 'd85a35f26663e03432a657f4ee66684e'): 482,\n",
       " ('ecoinvent 2.2', '1216235e618c883eac03e23a7d778e00'): 3603,\n",
       " ('ecoinvent 2.2', '2ada6b7078550353c11cdac01ce832fe'): 2872,\n",
       " ('ecoinvent 2.2', '9ef16ecfd15370042b797ca3d1025343'): 1690,\n",
       " ('ecoinvent 2.2', '04d8118ebbe69e05fc948f8c08a08a51'): 1576,\n",
       " ('ecoinvent 2.2', '11d0a554479c33246c91f7857011a593'): 1451,\n",
       " ('ecoinvent 2.2', '61fdbb843da6a1e291ccaf5206f9f74d'): 985,\n",
       " ('ecoinvent 2.2', '6a2695080987e8468536ec51abf145bc'): 3034,\n",
       " ('ecoinvent 2.2', '938e644a3b169b47fad4a25c072b31f9'): 46,\n",
       " ('ecoinvent 2.2', '7e41b43bfd72d17b9b472253239dd0c8'): 1081,\n",
       " ('ecoinvent 2.2', 'a9e7efce7ff49e9ce31879fcf9880897'): 2620,\n",
       " ('ecoinvent 2.2', '65f047c411f94f5d2928131e0e82f118'): 579,\n",
       " ('ecoinvent 2.2', '14a0b81c5a581ab1e0da827c0d7dce02'): 2330,\n",
       " ('ecoinvent 2.2', '4a8774af0bedf55fab61eae15f1c529d'): 2558,\n",
       " ('ecoinvent 2.2', '059c3c67f2f563434646c9b99741f66f'): 544,\n",
       " ('ecoinvent 2.2', '780c12b29a8c73838a1019ba59eb0dc8'): 1889,\n",
       " ('ecoinvent 2.2', 'dceae8fcd968f061581be0ad92e4bf0b'): 494,\n",
       " ('ecoinvent 2.2', '3d53ef5de75283b808ce80474c836a5e'): 1802,\n",
       " ('ecoinvent 2.2', '2eecb8d151172e80c0a6780fa2e85ef2'): 919,\n",
       " ('ecoinvent 2.2', '5152d3ceb260bfd4703db5ffd222d029'): 1816,\n",
       " ('ecoinvent 2.2', 'dca560e6599b08154e5a8ec6e2cebd1c'): 3583,\n",
       " ('ecoinvent 2.2', 'cfd404fb9a03dd4c3dce15a7044a0fb0'): 3414,\n",
       " ('ecoinvent 2.2', '4f31ceeeebc1afa747adb62023f891bf'): 3311,\n",
       " ('ecoinvent 2.2', '6865f6a11085c0626cfab5fb6421914e'): 3286,\n",
       " ('ecoinvent 2.2', '84ed6d9b63c7ba7c759bb3925a67d0e2'): 1285,\n",
       " ('ecoinvent 2.2', 'e68f62ecfa1559e7e7ca0bcda64bf6cd'): 2042,\n",
       " ('ecoinvent 2.2', 'aefe9d82f1fe06618bd6799c8375a617'): 2175,\n",
       " ('ecoinvent 2.2', '3bc9be8f47a4fb465ec3978a3cddf9a3'): 1233,\n",
       " ('ecoinvent 2.2', '5ea571c3961e83ac4d577454700f49fe'): 795,\n",
       " ('ecoinvent 2.2', '5b712cfa937dbd2bd30ec22d13f6e875'): 1530,\n",
       " ('ecoinvent 2.2', '1230fe12f472ddb40329e428d23903b7'): 2511,\n",
       " ('ecoinvent 2.2', 'cedac16ed26c6b21f8917a779f369580'): 3617,\n",
       " ('ecoinvent 2.2', 'a16b76ec1f41ebf1277440e568765657'): 708,\n",
       " ('ecoinvent 2.2', '50bf89b7155c929594719d054eaad931'): 890,\n",
       " ('ecoinvent 2.2', '502ec5deb8a252e5cb497601e917ef52'): 3641,\n",
       " ('ecoinvent 2.2', '4d5975a30ab35ebed44187ab1650f316'): 264,\n",
       " ('ecoinvent 2.2', '8a899de2888ebade9b249db9fa61321c'): 415,\n",
       " ('ecoinvent 2.2', '871dc0f04ae61a1623de6b438d15531b'): 327,\n",
       " ('ecoinvent 2.2', 'cd7b50f17bfbe38d882630529a7f558d'): 628,\n",
       " ('ecoinvent 2.2', '8f6830b2640ee098f2167c297ff87973'): 1263,\n",
       " ('ecoinvent 2.2', 'eae081ea015564d125b3bf46f28b3871'): 3417,\n",
       " ('ecoinvent 2.2', '32484cb28b9fe65669b5bbfb6af9ee06'): 2025,\n",
       " ('ecoinvent 2.2', 'cdd6767a4ffe106cef0ff6806695ee45'): 906,\n",
       " ('ecoinvent 2.2', '63616cbc8f3a7610291fc58a9cc93329'): 1092,\n",
       " ('ecoinvent 2.2', '73faa3cbd3003751ea58255077f128f8'): 3360,\n",
       " ('ecoinvent 2.2', 'dd8718545a815f4b2b3892608d5ea22d'): 1729,\n",
       " ('ecoinvent 2.2', '8a14da03a7149232a4b2ce0bef64b268'): 286,\n",
       " ('ecoinvent 2.2', '4d663fa3a355244cc93f040c6018d6d5'): 1934,\n",
       " ('ecoinvent 2.2', '4a763c28571e58875fdf2a8cf594c949'): 1252,\n",
       " ('ecoinvent 2.2', '9b493eeb7fef83d57fb9afdc2d852fa3'): 1113,\n",
       " ('ecoinvent 2.2', 'a143e52d90b9eba20e43a96a2c89193a'): 3226,\n",
       " ('ecoinvent 2.2', '6c078abd1b45a552255ab37e860356cb'): 733,\n",
       " ('ecoinvent 2.2', '0afcbb36233792f4b9459034c9efd5b9'): 1085,\n",
       " ('ecoinvent 2.2', '16baf2ecf1a51b5dd05d850777f23059'): 1715,\n",
       " ('ecoinvent 2.2', '3530be493f815ce83abeb2e6783abaf5'): 944,\n",
       " ('ecoinvent 2.2', '2437c0556316bdfa44e5efdfecb0f9fe'): 3512,\n",
       " ('ecoinvent 2.2', '1f0b5a307aad7d4c9435c12f10cd81cb'): 2653,\n",
       " ('ecoinvent 2.2', '118069ed1245796f8b86242e92c14f54'): 3886,\n",
       " ('ecoinvent 2.2', 'a3a536f62390e8499e4d9fdabd190bcc'): 3075,\n",
       " ('ecoinvent 2.2', '8e07d8ac3cee095e90a6140bee6eae68'): 2707,\n",
       " ('ecoinvent 2.2', 'eddd01750b4369a3617c9deac40e2f70'): 503,\n",
       " ('ecoinvent 2.2', '88e41bb074191932806be0f085074a30'): 23,\n",
       " ('ecoinvent 2.2', '23b43f6cf80027de6c1a43b7d8acf050'): 2599,\n",
       " ('ecoinvent 2.2', '5ef4a0f39665dd9519c0a23986f5dc51'): 1684,\n",
       " ('ecoinvent 2.2', '6931b12b16991addd1a396fab5368f30'): 771,\n",
       " ('ecoinvent 2.2', '7b2b8e21ac7aa6e9d646e748fa4b4701'): 2237,\n",
       " ('ecoinvent 2.2', '8de53499bd58a08d2d8a188c91fc19d1'): 1265,\n",
       " ('ecoinvent 2.2', '27a39753be2e4de08b19f1bed972e6ea'): 2982,\n",
       " ('ecoinvent 2.2', 'f118b0b14f7e356becd5cdbdcc26b266'): 3274,\n",
       " ('ecoinvent 2.2', 'b9f7db4af430ba790b78bbe0a3263434'): 4003,\n",
       " ('ecoinvent 2.2', '91c39a379ab56867581c650afb5243f3'): 2185,\n",
       " ('ecoinvent 2.2', '841cb8f0aaad3dd435509aa935558ab8'): 3024,\n",
       " ('ecoinvent 2.2', '38e873c0c69c1651ca5dd1a4100e3d8a'): 3260,\n",
       " ('ecoinvent 2.2', '35572a2f6d3c31bb165d7e4fc1eae12b'): 1036,\n",
       " ('ecoinvent 2.2', '66754a2c77362224eba0ae23bc2a5a11'): 2605,\n",
       " ('ecoinvent 2.2', '0042a5e68766610f9ff87c8bdcc4527a'): 2497,\n",
       " ('ecoinvent 2.2', 'a28143ae8c31cc9a8c1204d80d59cd90'): 3283,\n",
       " ('ecoinvent 2.2', 'efff3485ee101c62c44d432b0d4ff766'): 942,\n",
       " ('ecoinvent 2.2', 'dad9c01f100e168e1c918b491c7a7eff'): 2802,\n",
       " ('ecoinvent 2.2', '4fd593ba11543d8bffa5c11bcc573817'): 2629,\n",
       " ('ecoinvent 2.2', 'c5634bf8f5cfbc89203f6149bb8a3acf'): 2636,\n",
       " ('ecoinvent 2.2', 'e4c3a6780612bb1155781587a7f2b230'): 1655,\n",
       " ('ecoinvent 2.2', 'f55836b491d39bedda5876ef557b8521'): 522,\n",
       " ('ecoinvent 2.2', '76a5259f2b2a55928111cc7765cb71ef'): 2709,\n",
       " ('ecoinvent 2.2', '7178201097ae5681cab3f5ccae942121'): 1370,\n",
       " ('ecoinvent 2.2', '36747957f2cf0700c66a22796ad49fde'): 2690,\n",
       " ('ecoinvent 2.2', 'f70678b9863d38d616393eb18d42d366'): 3185,\n",
       " ('ecoinvent 2.2', 'ffbf5719871437c3312ee15056db3824'): 3860,\n",
       " ('ecoinvent 2.2', '2a22de07a0bacf35e2141c3dbc89034d'): 1563,\n",
       " ('ecoinvent 2.2', '7af9f6c24f783bcc241acbe4bdf9bd98'): 8,\n",
       " ('ecoinvent 2.2', 'fb87b7544316a2e9f949faae495f6a4a'): 1105,\n",
       " ('ecoinvent 2.2', '12255f323253ab424bfd04c96ee662a7'): 685,\n",
       " ('ecoinvent 2.2', '702a7ad9afa6717fa8f870aaba35e644'): 2886,\n",
       " ('ecoinvent 2.2', '9682d8ee9bef704c992f3e515b14ca50'): 3200,\n",
       " ('ecoinvent 2.2', '3d1c42e3686e197c38daca82ea503b42'): 3462,\n",
       " ('ecoinvent 2.2', 'b8ce65555676bd457e62b91d30883498'): 2889,\n",
       " ('ecoinvent 2.2', '5221dbbdda825677ddaba87008fbe258'): 1267,\n",
       " ('ecoinvent 2.2', '640ec581edfeadbc6dc664977aae04d8'): 314,\n",
       " ('ecoinvent 2.2', '4757c71f6b8bdebf454a012aeefab6b9'): 2983,\n",
       " ('ecoinvent 2.2', 'fd103f2dd642bc8d27e62a956541e968'): 3279,\n",
       " ('ecoinvent 2.2', '9d8ae0c5c3875850fbfbb30c3a711213'): 3064,\n",
       " ('ecoinvent 2.2', '4c7cc1f25a2db4d4fd625d20e9b21afe'): 1213,\n",
       " ('ecoinvent 2.2', '6d00551684ec41bc3e97c68ee3d27632'): 2211,\n",
       " ('ecoinvent 2.2', 'c036a60f54c2d787c1795d1c484aaf8a'): 1918,\n",
       " ('ecoinvent 2.2', '8c08701f4f61521ef8865962838eb21b'): 1208,\n",
       " ('ecoinvent 2.2', '430edb9ae33f195ddea5ab882374a292'): 3979,\n",
       " ('ecoinvent 2.2', '0ab2b988f0c42c6cc2d4619c2bef2551'): 2829,\n",
       " ('ecoinvent 2.2', 'cfe842ab34a70780a63a60e0e341de6b'): 2446,\n",
       " ('ecoinvent 2.2', 'e7f5e51018681b01584d8cb7f3990da8'): 1104,\n",
       " ('ecoinvent 2.2', '5e06582adf4e1a9e4bd0add46c709074'): 3959,\n",
       " ('ecoinvent 2.2', '4d98673493f1353b3c0c6dbf8091f33b'): 3713,\n",
       " ('ecoinvent 2.2', 'f5f0a319867b0bc30738e81749baa5dc'): 1580,\n",
       " ('ecoinvent 2.2', '992e2aad2b90c4332f4768024f64b97e'): 206,\n",
       " ('ecoinvent 2.2', '3f5dd54d59fe8015dde20e20618abb61'): 3652,\n",
       " ('ecoinvent 2.2', '6bf9bdfb7428f5a73bdda1f0872fdeb3'): 1163,\n",
       " ('ecoinvent 2.2', 'e7b3d630f5e77481afbdb4d195d91c51'): 2146,\n",
       " ('ecoinvent 2.2', 'f08b197a6bd46d8c8ba97e24f36a769d'): 1672,\n",
       " ('ecoinvent 2.2', 'e4bbea6a0f9b55c4cc6f66b8c1899db2'): 3918,\n",
       " ('ecoinvent 2.2', '998811cb31bf66d3dbe81ba4fee759ca'): 2539,\n",
       " ('ecoinvent 2.2', '64d53587062a3f7f10c95b84ad9a65e3'): 3573,\n",
       " ('ecoinvent 2.2', 'fb5e54646f33db63ba3efe57a87974db'): 3625,\n",
       " ('ecoinvent 2.2', 'd48b88f024fbbfda4c94ae85fc99aa0f'): 3308,\n",
       " ('ecoinvent 2.2', 'fe5585b5c5a4835b41e206899c313df9'): 2654,\n",
       " ('ecoinvent 2.2', '7fffc22a99058247a8b44ebf64821bcc'): 2262,\n",
       " ('ecoinvent 2.2', '7994c3c6b4bcd4a04fded004631c2870'): 2643,\n",
       " ('ecoinvent 2.2', '4c5edce272557586cc4cc6a394f2d700'): 1236,\n",
       " ('ecoinvent 2.2', '8e02f5759e7ae373441c86527af669d4'): 3165,\n",
       " ('ecoinvent 2.2', '615f56adc06383dba3b283b85ea5df00'): 819,\n",
       " ('ecoinvent 2.2', '36c6faf7099399e02321ad591cb50898'): 2163,\n",
       " ('ecoinvent 2.2', '94de640887b8f1d1237a164863a75ee0'): 2815,\n",
       " ('ecoinvent 2.2', '6823e659041660c5c94b7a673575cfe0'): 1027,\n",
       " ('ecoinvent 2.2', '623f454d75292cf286cf6ac22fe6cefb'): 39,\n",
       " ('ecoinvent 2.2', '37d7da64b17a096b0e6c7a26e43bdf2b'): 403,\n",
       " ('ecoinvent 2.2', '6f7404225f4385fbb7c5a361eaf8fdc2'): 724,\n",
       " ('ecoinvent 2.2', '80b5b7da27cec69427a9e60a196cd184'): 1122,\n",
       " ('ecoinvent 2.2', 'cd23e143a7e4eacbce204e3d7d8fc6c5'): 346,\n",
       " ('ecoinvent 2.2', '648a47ada37342cfbd7138d6a127d5b6'): 3755,\n",
       " ('ecoinvent 2.2', '0b75b015332d304b5fdd3a4125cd1cbf'): 3387,\n",
       " ('ecoinvent 2.2', 'e90f5aaf474862fa090d909c76500ce3'): 328,\n",
       " ('ecoinvent 2.2', '3808a10591bf3d9ebd63d948f9abba71'): 1093,\n",
       " ('ecoinvent 2.2', 'f80c2674b2a3ea5f51656576394ce212'): 455,\n",
       " ('ecoinvent 2.2', 'd1da117ca387b5006249b6ddcc0ac865'): 3753,\n",
       " ('ecoinvent 2.2', 'aac6675a68292ef82fa4273631381318'): 3011,\n",
       " ('ecoinvent 2.2', '684feee04a93a13ad256a44c65f17beb'): 135,\n",
       " ('ecoinvent 2.2', 'f9caf0bc4882adb820200b55e8a42fdd'): 2003,\n",
       " ('ecoinvent 2.2', 'bb70686da6a910272ff2b8a7c194a29f'): 831,\n",
       " ('ecoinvent 2.2', '73629957c7ab55f6aa2adeded1c64c1c'): 1306,\n",
       " ('ecoinvent 2.2', '4fd692a735fc4b5432cac87a196d6f20'): 629,\n",
       " ('ecoinvent 2.2', 'a93d425d77b86e4668d9ed730e8ba6a1'): 3648,\n",
       " ('ecoinvent 2.2', '757ca313bf21f011b12df8ecf057b9ec'): 3818,\n",
       " ('ecoinvent 2.2', '46dddd24c7aaaecd03e005ec59170385'): 3639,\n",
       " ('ecoinvent 2.2', '4c51e336e2c73b402bbe62b33d817618'): 625,\n",
       " ('ecoinvent 2.2', '63afbcad2abd54170261e09c7df0c761'): 2115,\n",
       " ('ecoinvent 2.2', 'a9434712a972fd47eb0e20176fc7752c'): 3609,\n",
       " ('ecoinvent 2.2', '7a502ecd43b2f9db24fcd75e6e7b08a6'): 4015,\n",
       " ('ecoinvent 2.2', '950ed8f8435bcb0e1d166f5103b43858'): 2584,\n",
       " ('ecoinvent 2.2', 'ac6549ffaedaddde45bdc61eebccf4a5'): 3270,\n",
       " ('ecoinvent 2.2', 'f91b73b06311550c48cfdda99c00466d'): 1793,\n",
       " ('ecoinvent 2.2', '2d62845bb01ee06d33967885740abbc8'): 2949,\n",
       " ('ecoinvent 2.2', '86ffa2c92ea1a5d40ad92ce3794d916b'): 4027,\n",
       " ('ecoinvent 2.2', 'af0b73164d7285ece4586c143d75274b'): 3538,\n",
       " ('ecoinvent 2.2', 'e917478503e25d5991934c476ba7d326'): 2751,\n",
       " ('ecoinvent 2.2', '2f832ed6e8effba42f7cc275be4523be'): 2926,\n",
       " ('ecoinvent 2.2', 'd943a2fcc312e57b718173fae72430bb'): 2538,\n",
       " ('ecoinvent 2.2', '8874eec59f250c75f43ffb3ea8d7f665'): 3333,\n",
       " ('ecoinvent 2.2', '08580a6e5a8611f4298cf1644b9609b4'): 2287,\n",
       " ('ecoinvent 2.2', '855475433d7841d992ab3ba9e83d8146'): 726,\n",
       " ('ecoinvent 2.2', '7d89f58a3da43d64dd38a3e6344beadb'): 718,\n",
       " ('ecoinvent 2.2', 'ec1035da4d7fbea7c714fbfbf3948174'): 3245,\n",
       " ('ecoinvent 2.2', 'b304eaf042046bbee90a75178dbb167f'): 901,\n",
       " ('ecoinvent 2.2', '2f315cd89a6df76fa2642597429d4e20'): 2044,\n",
       " ('ecoinvent 2.2', 'b65d006a1c1f452a6dc20e5bb2bdd659'): 1716,\n",
       " ('ecoinvent 2.2', '59a4e6565864f2b8e516ce813a09f113'): 2321,\n",
       " ('ecoinvent 2.2', 'ce9ddb7447a5635a619abeb5eb283841'): 1858,\n",
       " ('ecoinvent 2.2', 'b600f8047de089c260c14b33c65e55c7'): 2780,\n",
       " ('ecoinvent 2.2', '76c143e6dbbf0c10233d8db62a7ac762'): 1805,\n",
       " ('ecoinvent 2.2', '3415e6f1b9ff01bbb3e49a4eb62a2520'): 2253,\n",
       " ('ecoinvent 2.2', 'bcb5c2b226d8abbc74d8e88c66e39bb9'): 3038,\n",
       " ('ecoinvent 2.2', '270943bc7747c2438d841f50444dda92'): 2419,\n",
       " ('ecoinvent 2.2', 'e4549c741c783b8568fdbadd578c1c97'): 1510,\n",
       " ('ecoinvent 2.2', 'ca7099bde0da6ca90a5b44c437f49da2'): 2119,\n",
       " ('ecoinvent 2.2', '876230cccfca4b43e8537598d815074c'): 1550,\n",
       " ('ecoinvent 2.2', 'fa6c7ddce9f9d014b6c460fb3d5b0a12'): 2164,\n",
       " ('ecoinvent 2.2', 'd512b4e56c45be44652068f213397729'): 1819,\n",
       " ('ecoinvent 2.2', '6c6e85044c0394b6a4a031e7050a2654'): 380,\n",
       " ('ecoinvent 2.2', 'cf484ea62bfb41d91ffac9b7668c848c'): 3346,\n",
       " ('ecoinvent 2.2', 'f386c38496cbc1bf12f5aa2aac5dfd82'): 2727,\n",
       " ('ecoinvent 2.2', '89ab71e4163dfa3d496cda45ca10fbb8'): 2980,\n",
       " ('ecoinvent 2.2', 'ec3a229086ee59d32482757c70909141'): 3758,\n",
       " ('ecoinvent 2.2', '09af1ed33fb877ea393b82d7c0b45dc3'): 2616,\n",
       " ('ecoinvent 2.2', '17b2ef25a481973bbaf5ca7dc6b57dac'): 2583,\n",
       " ('ecoinvent 2.2', 'c08d239cf08803e40dcfbd6cbecc7011'): 2745,\n",
       " ('ecoinvent 2.2', 'b872a0fc8dccb67a71bd2eed49feb1db'): 840,\n",
       " ('ecoinvent 2.2', '667b02b9ff6791bcffd6a5b7b7de2df6'): 3896,\n",
       " ('ecoinvent 2.2', '02e7c32b6b20a2f1a6ea25f4e3994c3f'): 1416,\n",
       " ('ecoinvent 2.2', 'acd31037bd240843cfa59669c9d0e637'): 627,\n",
       " ('ecoinvent 2.2', 'b6f99b10dfa09f27ace1bc8088e46691'): 1686,\n",
       " ('ecoinvent 2.2', 'b0c2782c89e9332d59a03eed8fe9c658'): 679,\n",
       " ('ecoinvent 2.2', '8ff07bfbe98b9a163b1fd6fe06dafa65'): 1710,\n",
       " ('ecoinvent 2.2', '6969329cf65235887e7474984b2c8802'): 968,\n",
       " ('ecoinvent 2.2', '1acebf50d60a4dfa742bb3d5882ed33c'): 1616,\n",
       " ('ecoinvent 2.2', '7e8663a83d268172168f0ad6838c504b'): 4060,\n",
       " ('ecoinvent 2.2', '93e78a2693829d6981838c4a4c367ec6'): 2062,\n",
       " ('ecoinvent 2.2', 'c86ab5f257f045853ffdad00c3792a12'): 414,\n",
       " ('ecoinvent 2.2', 'b504230662510e574b3a3254d581ea59'): 997,\n",
       " ('ecoinvent 2.2', '47773270cea4a000cc4f03905ec7ef32'): 3513,\n",
       " ('ecoinvent 2.2', '60eb0cc34073d801cd17637dcd6a095d'): 3803,\n",
       " ('ecoinvent 2.2', 'c5d449b2f7aa93c19f2fc2191e0cda13'): 3255,\n",
       " ('ecoinvent 2.2', 'dfd181fad6335fa8dc6db0453478306b'): 1080,\n",
       " ('ecoinvent 2.2', '456d2d2c8c821684a585e6333b7d0c95'): 1165,\n",
       " ('ecoinvent 2.2', 'e2deb54a19bffd9fbe9a35955446c051'): 2967,\n",
       " ('ecoinvent 2.2', 'dd6c42160ab83f148ddeb017b0cc0184'): 3242,\n",
       " ('ecoinvent 2.2', '25433c13a074d777b4b75af8b69512a9'): 1001,\n",
       " ('ecoinvent 2.2', 'babaef44861ea9923ef19887d34eabf5'): 2557,\n",
       " ('ecoinvent 2.2', '004ee114924dcbc0733e20afa6a54147'): 691,\n",
       " ('ecoinvent 2.2', 'd2e95e31c979d57139a831ea2b254080'): 998,\n",
       " ('ecoinvent 2.2', '7080d1898e70c9f26c3b095d9a8986c4'): 1532,\n",
       " ('ecoinvent 2.2', '4e14b6f45f69baca828c0c64228290f4'): 2372,\n",
       " ('ecoinvent 2.2', '335f6bc6e5b3bdff4443d0c813d5024b'): 953,\n",
       " ('ecoinvent 2.2', '77eceb451afa0978e6e8ba792cf719fe'): 1529,\n",
       " ('ecoinvent 2.2', 'fcd6543d0022583cb461645673298b6c'): 3137,\n",
       " ('ecoinvent 2.2', '2af01b44bc308520b8d7c2cc3e376572'): 2128,\n",
       " ('ecoinvent 2.2', 'c089cfae182d109441302c1e4c4b6d12'): 2807,\n",
       " ('ecoinvent 2.2', 'be682c719d9301d243fb0a571b9a88e0'): 2615,\n",
       " ('ecoinvent 2.2', 'a6b5d38e456e153bc3c0634916debb97'): 2249,\n",
       " ('ecoinvent 2.2', '7124f90a6220285d85ac2f6014579f7d'): 3833,\n",
       " ('ecoinvent 2.2', 'fddd21154835ed196f357522a058cd58'): 640,\n",
       " ('ecoinvent 2.2', 'de357b28e980cca43747a916a7021ba0'): 1358,\n",
       " ('ecoinvent 2.2', '36d0c36706b070192bcbc3f54d6a187e'): 2395,\n",
       " ('ecoinvent 2.2', '86b3e4c4af87fa3d5527fe05dd3af9cb'): 3608,\n",
       " ('ecoinvent 2.2', 'c13cc34d2a481fefa6cdb908b994203d'): 3897,\n",
       " ('ecoinvent 2.2', '41afae7fa5e82db319d8d6e632a34a6d'): 3269,\n",
       " ('ecoinvent 2.2', 'b525a5eedc31d643d77271a7df763279'): 103,\n",
       " ('ecoinvent 2.2', '831a57a924fb3541bd87196e13f0e294'): 2525,\n",
       " ('ecoinvent 2.2', '15dc5dbae1aa41787f0dda71adf2447c'): 1310,\n",
       " ('ecoinvent 2.2', 'f237fd234e7d3752bdb210738e245f22'): 3471,\n",
       " ('ecoinvent 2.2', '2e7ebd227e59bbba17971eff528deb61'): 851,\n",
       " ('ecoinvent 2.2', 'ab60140052696467619832e40bd92456'): 3559,\n",
       " ('ecoinvent 2.2', 'f308d0a386c733ab75ce689b427f7edd'): 3222,\n",
       " ('ecoinvent 2.2', '3cfeb98b1f47b572af7e190c9cf140ba'): 1611,\n",
       " ('ecoinvent 2.2', '11991ec3e54f4e4dd1d530eb64952181'): 715,\n",
       " ('ecoinvent 2.2', '04642e5132af9468646bd54ad5adb85f'): 315,\n",
       " ('ecoinvent 2.2', 'dc1eb5a6958085666d164a761cba2b16'): 3857,\n",
       " ('ecoinvent 2.2', '47160619a28cbfb35d555fe0fec1a8e8'): 2312,\n",
       " ('ecoinvent 2.2', 'fcd78a125302e989625dc8fafd0f676c'): 1524,\n",
       " ('ecoinvent 2.2', '69457e20c00be53a88b37fabdd244b5a'): 1920,\n",
       " ('ecoinvent 2.2', 'a0f244d78e131c3595d71e50b5938dfa'): 1545,\n",
       " ('ecoinvent 2.2', '9170e3b9c0e8bfe152cfc377632bc9bb'): 1982,\n",
       " ('ecoinvent 2.2', 'bbcfd3a4836f56b5fd695f44587145a9'): 331,\n",
       " ('ecoinvent 2.2', '1ee8b0508f856e81260743fa2ec65584'): 1539,\n",
       " ('ecoinvent 2.2', 'e19deae3623d4dce53ea85f53a74803c'): 2421,\n",
       " ('ecoinvent 2.2', '54885fd4e2aea4a82a2a5e37aec753b5'): 366,\n",
       " ('ecoinvent 2.2', 'caa376799541240fa36007d7e5c489ab'): 662,\n",
       " ('ecoinvent 2.2', 'f761b3df6a7e9e79ece9a04130397eb6'): 3814,\n",
       " ('ecoinvent 2.2', '41e6eac63549a24cc19350c71d01b0d6'): 462,\n",
       " ('ecoinvent 2.2', '4f7f31dfc0fc7b1287f967c92c071939'): 59,\n",
       " ('ecoinvent 2.2', '809a2d38996ed2998c491713bbc8b440'): 2070,\n",
       " ('ecoinvent 2.2', '36e614cbb689e041ab8caf00a433a5f6'): 1504,\n",
       " ('ecoinvent 2.2', '5e2301a7b6d0ff5c7bc4d6d8d517668e'): 3396,\n",
       " ('ecoinvent 2.2', '815a84d794621a094ff4d732e3e25c69'): 3672,\n",
       " ('ecoinvent 2.2', 'a8eb1ff3ffeb7ce1e4880b5fcdafbdf2'): 217,\n",
       " ('ecoinvent 2.2', 'b396beeb3938d8c2f9749be7dda6d05b'): 2079,\n",
       " ('ecoinvent 2.2', '74fab85b2b20eef8724490fd3b30d7c3'): 3777,\n",
       " ('ecoinvent 2.2', '345fa12c1a53b37089672f22d369734c'): 512,\n",
       " ('ecoinvent 2.2', '68ef309d19eeddbd1dfcff14c0d053c9'): 2404,\n",
       " ('ecoinvent 2.2', 'c9863254aa9c18f708b3b1d127ec02cf'): 1737,\n",
       " ('ecoinvent 2.2', 'ec981c39ad6020402510927dce564b4b'): 613,\n",
       " ('ecoinvent 2.2', 'ea49ae4950b5bb300f9db80cbb566f68'): 1003,\n",
       " ('ecoinvent 2.2', 'c34660d55d992534aa940fb29f43ce9d'): 2076,\n",
       " ('ecoinvent 2.2', '5ac899dca47f9849251307d78765b2ad'): 965,\n",
       " ('ecoinvent 2.2', '5999e0a77e3e6268ea2453b9e42720a8'): 1232,\n",
       " ('ecoinvent 2.2', '6d25e54c1b09e221827e6188bfba708b'): 740,\n",
       " ('ecoinvent 2.2', '10079a773c38f48c29d34d8aed0f3493'): 3624,\n",
       " ('ecoinvent 2.2', '72100cd78e931e200e476d8c01e7a29b'): 3658,\n",
       " ('ecoinvent 2.2', '7074a918c62676389c977cfc98a9abbf'): 3264,\n",
       " ('ecoinvent 2.2', 'e704bea35d31497971701f8f77d74951'): 107,\n",
       " ('ecoinvent 2.2', 'c74564f34821dfd931e873365f3b3f57'): 1770,\n",
       " ('ecoinvent 2.2', 'd2152a3178c1703421540c68ed2930db'): 3350,\n",
       " ('ecoinvent 2.2', '76245e32c4e048ddd6ca3c523ba86c70'): 1827,\n",
       " ('ecoinvent 2.2', '0fd4bf919f1895d4bb64ae62e9897476'): 361,\n",
       " ('ecoinvent 2.2', '3955e609b922135160aefb307e99a9d1'): 3636,\n",
       " ('ecoinvent 2.2', 'cbe1be936bb29768946cf612b2c4710a'): 2413,\n",
       " ('ecoinvent 2.2', '8655c8e68eca20a7c0c7829e6fc4c8b4'): 862,\n",
       " ('ecoinvent 2.2', '2e5a71b0114be93103da5a9706055770'): 38,\n",
       " ('ecoinvent 2.2', 'b3d671f52b2cd6f30991ba534355da94'): 3914,\n",
       " ('ecoinvent 2.2', 'a5b879a52e08f0fa39523412cdf98930'): 3844,\n",
       " ('ecoinvent 2.2', '9f3610cf5453dfd28778ff6d27db79e0'): 3957,\n",
       " ('ecoinvent 2.2', '8492a58fbd999a698697aeca9a1d68b7'): 3347,\n",
       " ('ecoinvent 2.2', '23f81b0c6a29e7f1bbb0a6c68f58a0b0'): 2749,\n",
       " ('ecoinvent 2.2', 'c57bb7bb3f5ac76d7519b54a31b5ec2b'): 1569,\n",
       " ('ecoinvent 2.2', 'b77573dda12433dfde03d2f6d6286e82'): 3121,\n",
       " ('ecoinvent 2.2', '74b3d1d76e1160fde462afc8a871266d'): 3807,\n",
       " ('ecoinvent 2.2', '996182321832d0dddee5e4b55fb59e5a'): 234,\n",
       " ('ecoinvent 2.2', 'd4c66f8935ddce5f5703c4e8c1558297'): 1475,\n",
       " ('ecoinvent 2.2', '702e922011b4d472fb21fda6e701a06e'): 870,\n",
       " ('ecoinvent 2.2', 'e89862b1ff1f92f06f7377d15ffe24b2'): 1276,\n",
       " ('ecoinvent 2.2', '81c0b1951f9f116701d26a80baa5707a'): 1644,\n",
       " ('ecoinvent 2.2', '5d51aeda972bd47b09449df2d303ba47'): 796,\n",
       " ('ecoinvent 2.2', '2a369b010758211e3a0937208eba5ff1'): 1116,\n",
       " ('ecoinvent 2.2', '83b72ab6c1be852d0d0dafe4c4a6f09f'): 3284,\n",
       " ('ecoinvent 2.2', '734408cd1d1db3707b54b9a078df6423'): 3006,\n",
       " ('ecoinvent 2.2', '69436cfa1f90afccf0e063df20453efb'): 449,\n",
       " ('ecoinvent 2.2', '34797ba1268f46856a269c165beaa86d'): 3885,\n",
       " ('ecoinvent 2.2', '33c9a3518bc0f4f22eede233763265a4'): 1461,\n",
       " ('ecoinvent 2.2', 'ab547b5123bfbe9e4a8536ef3be85b74'): 2190,\n",
       " ('ecoinvent 2.2', '57c12bd0b755f7dc4b809d9f556bc244'): 2054,\n",
       " ('ecoinvent 2.2', '8c72568fa6ead217ccaece5f9b98c363'): 2002,\n",
       " ('ecoinvent 2.2', '336c0e15488fde8113527bd28cb5f187'): 3905,\n",
       " ('ecoinvent 2.2', 'f421cb8cc34c4e37a272bbe196bb8ac3'): 274,\n",
       " ('ecoinvent 2.2', 'ea346a47702478b15a94d50db73aab24'): 2936,\n",
       " ('ecoinvent 2.2', 'be402d98b7e47ff60f3ff0ff14e53af8'): 3478,\n",
       " ('ecoinvent 2.2', '4ffd9ad1502900ce35d43770af718367'): 349,\n",
       " ('ecoinvent 2.2', '58d93d0d2fb0e68f12ae0ad2d5211e78'): 3103,\n",
       " ('ecoinvent 2.2', '54156c50f9d6b517779d9b44f8cef110'): 2689,\n",
       " ('ecoinvent 2.2', 'a866958e3d351afa355f39d9f433421d'): 2783,\n",
       " ('ecoinvent 2.2', '99a24574336959d0051b084aba8cf21b'): 909,\n",
       " ('ecoinvent 2.2', 'b1a9e03df2acc3a746ea9fbc82f9e6e1'): 2756,\n",
       " ('ecoinvent 2.2', 'b8f3ce5aa768b39707347d2d4a3ca26a'): 532,\n",
       " ('ecoinvent 2.2', '6d78dafd187f4004c5b269739a6573ad'): 1058,\n",
       " ('ecoinvent 2.2', '0ab6bb18a47f25dc257ee056c32c558a'): 999,\n",
       " ('ecoinvent 2.2', 'c1d66940e9919117deedf65a64afaeeb'): 3693,\n",
       " ('ecoinvent 2.2', 'bcad45e0c9832b8020bc7d41b9af9168'): 2570,\n",
       " ('ecoinvent 2.2', 'c0db3119eb7d859b29bbbe7f70685a9b'): 1234,\n",
       " ('ecoinvent 2.2', 'd5987f53e9ea0023b2cc5763424388a4'): 2172,\n",
       " ('ecoinvent 2.2', '8a92d9103bc7e4330333335a4a029f12'): 149,\n",
       " ('ecoinvent 2.2', 'd6ffbc36a824510067de60029cd0ce11'): 3569,\n",
       " ('ecoinvent 2.2', 'cddbefee7f3c6b5b84d3795b9268b8c5'): 3823,\n",
       " ('ecoinvent 2.2', 'e715f0ade7a53c7900b7c667037ac15e'): 1486,\n",
       " ('ecoinvent 2.2', 'c882838c9bec42e2628f05bcd85d23a9'): 84,\n",
       " ('ecoinvent 2.2', 'a51132a7b9cdac1631b408d5606968a8'): 3564,\n",
       " ('ecoinvent 2.2', '58ab91eb2eb46fe56daeed2f11aae401'): 1667,\n",
       " ('ecoinvent 2.2', '297af2ca2415793cffba1f3f4a56acdf'): 204,\n",
       " ('ecoinvent 2.2', '3ee42e231a742a2562f2a940d9631b02'): 1120,\n",
       " ('ecoinvent 2.2', 'a2480cca12a68efce78fd938accfe892'): 3965,\n",
       " ('ecoinvent 2.2', 'd10f14694407946fd3efb741d5aba275'): 2269,\n",
       " ('ecoinvent 2.2', '1ad9f3fec4cfd209144da495b3960568'): 192,\n",
       " ('ecoinvent 2.2', '92965199115a28ace8aedb4a80b4df33'): 2925,\n",
       " ('ecoinvent 2.2', 'b7b19b1edfbea458e3ef862375cdf452'): 1909,\n",
       " ('ecoinvent 2.2', 'ef41dd9cd16396be12a63ebc03bba514'): 4017,\n",
       " ('ecoinvent 2.2', '3bcc06e2a2f1fc32e04a21b3d71b2a57'): 3501,\n",
       " ('ecoinvent 2.2', '0139ee9b2af0b6ddb6ace6c7aac49453'): 81,\n",
       " ('ecoinvent 2.2', '483a95c24e857e171901db1d09732a40'): 265,\n",
       " ('ecoinvent 2.2', 'fc8aeeba56fc14ec0b6e1fa1bfebdf73'): 3769,\n",
       " ('ecoinvent 2.2', 'e79ae75a4194c3399df687ef01060ebd'): 607,\n",
       " ('ecoinvent 2.2', 'd6dc77e5dc4723c1f9bbb7d4fb7251cb'): 3872,\n",
       " ('ecoinvent 2.2', '86e898fbea724bd92c1218b066ad5aec'): 3954,\n",
       " ('ecoinvent 2.2', '83c297d618255d48665144460cc2cbed'): 3233,\n",
       " ('ecoinvent 2.2', '77261bb7ad9f40de634608eb1d2cfdaf'): 2840,\n",
       " ('ecoinvent 2.2', 'e83925a677f4e8f4ad53159ec1c32bba'): 2050,\n",
       " ('ecoinvent 2.2', '02c32b9e2c36098f72889f7815a80751'): 3681,\n",
       " ('ecoinvent 2.2', 'd8bdab0c108ef06e8920d3632390cc22'): 1320,\n",
       " ('ecoinvent 2.2', '36408a9e22c8b59d41d5f7b9274efed7'): 2193,\n",
       " ('ecoinvent 2.2', '8322146f4f2e6afc545838a2a051deb8'): 2394,\n",
       " ('ecoinvent 2.2', 'f9099361e60048aeba6bee53cef24549'): 2735,\n",
       " ('ecoinvent 2.2', '1ba5c07e8a00e72b57f1590dfedb21be'): 2970,\n",
       " ('ecoinvent 2.2', '489ef3bdb7c07e91aaa53ac2ab229d2f'): 3703,\n",
       " ('ecoinvent 2.2', '65fe0bb7da8ad56b259ca64106c95a78'): 959,\n",
       " ('ecoinvent 2.2', '3ac8eb51a9fdb8b6cf2a865d1a206578'): 3796,\n",
       " ('ecoinvent 2.2', '3688d91f78f69ba5fc4d55e6f90b1655'): 663,\n",
       " ('ecoinvent 2.2', 'ad5536e0a5fcd6d416c8ed7a09e6ba19'): 24,\n",
       " ('ecoinvent 2.2', 'a441981611db4fc3c6b775add6b32d95'): 2561,\n",
       " ('ecoinvent 2.2', '590d7abbf11ce1f16947845f3ea69730'): 404,\n",
       " ('ecoinvent 2.2', '51feecd63bcc994c10b4d7766aea562e'): 3598,\n",
       " ('ecoinvent 2.2', 'f15e26fee8628fa43701b593d448a6b0'): 816,\n",
       " ('ecoinvent 2.2', '429accb8ddb37b6f557cc43bd5efa71c'): 4011,\n",
       " ('ecoinvent 2.2', '637a2e202f6aaccd71e7ef901242b77a'): 1908,\n",
       " ('ecoinvent 2.2', '04433630d92b7836c3380777a7e4b22c'): 225,\n",
       " ('ecoinvent 2.2', '3e030cb7f6dea2086ce9a74ab905ff62'): 2644,\n",
       " ('ecoinvent 2.2', '5bd16b0e119fa514d61c388124a3cee7'): 1322,\n",
       " ('ecoinvent 2.2', '75ab674526c0cf7057ef2f4fa4ed1fe3'): 2812,\n",
       " ('ecoinvent 2.2', '1e7fde9c59027e2e88458c9532eba3e9'): 3159,\n",
       " ('ecoinvent 2.2', '39ce65abd41c96beef14c47edb286cd2'): 830,\n",
       " ('ecoinvent 2.2', '0910fa1d8fce959c354471cf2f0bf3e5'): 2606,\n",
       " ('ecoinvent 2.2', '060e916eb12d17555fe50dc41d1ede82'): 2928,\n",
       " ('ecoinvent 2.2', 'afa246182b999e5271ebda8d9966d22c'): 309,\n",
       " ('ecoinvent 2.2', '36235769de58b00e86d3520b835d583e'): 1565,\n",
       " ('ecoinvent 2.2', '3822bd04b32439aa3d9f7593a0236702'): 3369,\n",
       " ('ecoinvent 2.2', 'cd94aaa02082c259a9f420ecec2c47d0'): 3429,\n",
       " ('ecoinvent 2.2', 'd01d60f709932d0bc0120f3ad75a2848'): 3725,\n",
       " ('ecoinvent 2.2', 'f96deeb06d9f66f1711da86f8ed5c6fc'): 1413,\n",
       " ('ecoinvent 2.2', '3936711eb96b35df95b84b77d4606e69'): 3498,\n",
       " ('ecoinvent 2.2', '7d81dfdaf0bdf0590a8e3c446c26fe2f'): 1254,\n",
       " ('ecoinvent 2.2', '1d0e0446b60e0da5ee95be61a3c2fdbb'): 4042,\n",
       " ('ecoinvent 2.2', 'df03507e194faa8d953fe81638b1b6e4'): 1938,\n",
       " ('ecoinvent 2.2', '279046c12b8605cbef0b2e59fd0dc511'): 2170,\n",
       " ('ecoinvent 2.2', '1146108c63153495759820109a794158'): 247,\n",
       " ('ecoinvent 2.2', '0c76508d8e5719cdab33e1326bc1c8cb'): 2476,\n",
       " ('ecoinvent 2.2', '66d83b77dff5d93199c5a7092c0d5a34'): 7,\n",
       " ('ecoinvent 2.2', '47de67abeae22fcbaf8ba616097934d9'): 2014,\n",
       " ('ecoinvent 2.2', '79e5f76e51863a697e71f390cdc8ab9d'): 3440,\n",
       " ('ecoinvent 2.2', 'eee9368195642d641d48b3989c85b9e7'): 1519,\n",
       " ('ecoinvent 2.2', 'd871a2c0546c93c058e2699dabd0fc37'): 3816,\n",
       " ('ecoinvent 2.2', '8185263752ca62db2d4ba97052caa9a6'): 3107,\n",
       " ('ecoinvent 2.2', 'f17754edf7fabd96ac0084fb7ad067ee'): 1846,\n",
       " ('ecoinvent 2.2', '775332076f2830ef9568877517ec814a'): 1388,\n",
       " ('ecoinvent 2.2', '71b5422e81757d525a584446bf3d0ca0'): 36,\n",
       " ('ecoinvent 2.2', 'd905d56c6b25d5d519fe012dcb31f4d6'): 2168,\n",
       " ('ecoinvent 2.2', 'de2f64451a4871bd0ac89d5604e59614'): 3892,\n",
       " ('ecoinvent 2.2', '107ad3b3ef246cad6b5c2bfbaea3a2e2'): 2713,\n",
       " ('ecoinvent 2.2', '738d3527ca6e261d119b1ed8925535cb'): 3388,\n",
       " ('ecoinvent 2.2', 'ca4339bb275096343468f665762432a1'): 1535,\n",
       " ('ecoinvent 2.2', 'b71ccb9dffd6e1372074216eca39f01f'): 3225,\n",
       " ('ecoinvent 2.2', '65ec54488b40dcaba0a23b0e01cacf61'): 3999,\n",
       " ('ecoinvent 2.2', 'a534d915634977a0d71b8b95f12c6150'): 420,\n",
       " ('ecoinvent 2.2', '51be65d4e35f80c321eb2b91e3a88faf'): 1892,\n",
       " ('ecoinvent 2.2', '1fbacf6c3e06c10dc52f263a88e31a10'): 218,\n",
       " ('ecoinvent 2.2', 'd2e83e9043dbea592e5420bce2b788fb'): 1405,\n",
       " ('ecoinvent 2.2', '37cc44924c5d5ac221e900e9e701a4aa'): 1917,\n",
       " ('ecoinvent 2.2', '66a6474148bbe8ad498a197d76b8426e'): 1467,\n",
       " ('ecoinvent 2.2', '286d94436cb6cfb61b39987be2c22af7'): 2693,\n",
       " ('ecoinvent 2.2', '4a807e24ccbfe74a4545a55de66f90a4'): 2348,\n",
       " ('ecoinvent 2.2', 'c6acdacc322ed158837c6726a03da7f7'): 1762,\n",
       " ('ecoinvent 2.2', '056a8ac892026f61da43fd97355b51e4'): 3025,\n",
       " ('ecoinvent 2.2', '849d935be87d0e9bf1a7c43106981615'): 2483,\n",
       " ('ecoinvent 2.2', '1a04932deff19427156e6b3c65293bf9'): 4008,\n",
       " ('ecoinvent 2.2', '6c2115c9803448049d791ec1c093187c'): 2663,\n",
       " ('ecoinvent 2.2', 'f1071188ad8ff12c6c0fc11daa16ffdf'): 1674,\n",
       " ('ecoinvent 2.2', '154036ab50830dd08ad010bf5b93478b'): 2956,\n",
       " ('ecoinvent 2.2', '739117852f13955b143b8a5e08065a3d'): 976,\n",
       " ('ecoinvent 2.2', 'd99b7a72a9ec9559d6008bd1ebd87030'): 1787,\n",
       " ('ecoinvent 2.2', '3bedf2cc138a20b31553f0b80bbb88e8'): 1280,\n",
       " ('ecoinvent 2.2', 'fd0ac9226f3d580a3f3cd4e51fff6670'): 1290,\n",
       " ('ecoinvent 2.2', 'd0e1fe61bdd19359b1a3655705bdf38f'): 710,\n",
       " ('ecoinvent 2.2', '5d19d69844ee9532bfb7349c9d57e354'): 1759,\n",
       " ('ecoinvent 2.2', '507cdf40d7c9a5ed03b5b90cdbde608d'): 2994,\n",
       " ('ecoinvent 2.2', '209a1da248502641a18d60abc6d85dbc'): 3902,\n",
       " ('ecoinvent 2.2', 'ec1df7b00b0237a999c0a7e8445f59eb'): 3863,\n",
       " ('ecoinvent 2.2', '858dcffce5016984049a625564a79940'): 1029,\n",
       " ('ecoinvent 2.2', '6fab9f9b55336c120e9afb5399ad6bf4'): 2181,\n",
       " ('ecoinvent 2.2', 'e5faa260869048edbdbd8ed5dcd2a132'): 4041,\n",
       " ('ecoinvent 2.2', '60e6b8478f55a3206b87c1dc9b297933'): 2907,\n",
       " ('ecoinvent 2.2', '424aaa98d41b3b29d15c98baef15625e'): 3626,\n",
       " ('ecoinvent 2.2', 'e2b8c4163ba0fb8939bf0e3832890ba1'): 657,\n",
       " ('ecoinvent 2.2', 'e212952a1203608e97d513d757ed368a'): 3837,\n",
       " ('ecoinvent 2.2', 'f97f388f159fd343c18522310f0ab0d0'): 1266,\n",
       " ('ecoinvent 2.2', 'e6f1e32ee5bc84c61018088ba73ab0c8'): 232,\n",
       " ('ecoinvent 2.2', '6db91b712ed618f6497f6e6d6dd55b42'): 2182,\n",
       " ('ecoinvent 2.2', '0cd64e0a3285d7d0cae23438c41f0ffe'): 2750,\n",
       " ('ecoinvent 2.2', '8886a4e2a5ffcc2a3fbd1ea67f825006'): 1496,\n",
       " ('ecoinvent 2.2', 'e3771a7e38cc43b02ed68b96601e1fad'): 569,\n",
       " ('ecoinvent 2.2', 'be6db6e2722bf18075e10f22bedcefd6'): 1659,\n",
       " ('ecoinvent 2.2', '192524d0cedc5b2c91517342d9aac50c'): 3329,\n",
       " ('ecoinvent 2.2', 'bf6b67ac12425ea266326a7e04b34a6d'): 3686,\n",
       " ('ecoinvent 2.2', 'bc223c4efe11430f38e0f39357e27368'): 1541,\n",
       " ('ecoinvent 2.2', 'ca4e2b5fda1843a60489d9da6b65e81b'): 3262,\n",
       " ('ecoinvent 2.2', 'd338ad80ade65a1a2dbc2c605a935f88'): 3479,\n",
       " ('ecoinvent 2.2', 'ea4dce98852cab9fee50a6338dc8c0c4'): 1067,\n",
       " ('ecoinvent 2.2', '120de44e3e2113ec20d354a23955ffe7'): 2139,\n",
       " ('ecoinvent 2.2', '332474c61ebcea75973a12da8b1df4c4'): 134,\n",
       " ('ecoinvent 2.2', '2f654e5f8a741aca7d56ef391b2243b0'): 1926,\n",
       " ('ecoinvent 2.2', '612ff9484d8e960ebd27e8d367434230'): 3319,\n",
       " ('ecoinvent 2.2', 'ca0481f885f6b22c3740a7facb28854f'): 2988,\n",
       " ('ecoinvent 2.2', '39833c726d908bfe8bcc42b8fc47cf96'): 1752,\n",
       " ('ecoinvent 2.2', 'd9de961ff6e825ba5457940c32200eb5'): 3928,\n",
       " ('ecoinvent 2.2', '92357ae0ae73c019b7e36431eaf3524a'): 3091,\n",
       " ('ecoinvent 2.2', 'e9228219c9a022fb162db93e63e4a4c2'): 3542,\n",
       " ('ecoinvent 2.2', 'a250f249bd469807fb1d69d0beed8d91'): 3487,\n",
       " ('ecoinvent 2.2', '459246a0df3758b1fbff63644cbcba0a'): 1609,\n",
       " ('ecoinvent 2.2', 'ffa34684caf3e65c5252f18980b4d023'): 3247,\n",
       " ('ecoinvent 2.2', '76f2a734cb284ccea136e4fb9fe026c6'): 1638,\n",
       " ('ecoinvent 2.2', 'e8d55c942055f92c8948ba7780ef1821'): 2688,\n",
       " ('ecoinvent 2.2', '03aeb5b54d3b1f23a7a0e82b983b3f54'): 1076,\n",
       " ('ecoinvent 2.2', '2b585f220ee3f91eefe85c7d3561f041'): 2098,\n",
       " ('ecoinvent 2.2', '3f94b2b1b44b1395617ba4c03609ea35'): 1862,\n",
       " ('ecoinvent 2.2', '32ab36764738504659792f7a4f530c24'): 1178,\n",
       " ('ecoinvent 2.2', 'a6ea82d2a367db778dc20390d7c84afe'): 2526,\n",
       " ('ecoinvent 2.2', 'ddaeb7c7dec1a8b28da04eb5b04c6edb'): 1873,\n",
       " ('ecoinvent 2.2', '6204ac65c4be8a347e33cb885ba49727'): 2035,\n",
       " ('ecoinvent 2.2', 'e12fd63b31d6b4d2961eaac86b490498'): 887,\n",
       " ('ecoinvent 2.2', '6dcc1607c850b4e13239ae02f5998ab0'): 67,\n",
       " ('ecoinvent 2.2', 'e103a91e0467eac92ae9e02370f105a7'): 2039,\n",
       " ('ecoinvent 2.2', '2cc69b2d0ae0cb646f05f19d9aea5e32'): 2855,\n",
       " ('ecoinvent 2.2', '28b2e11217f93d944747086ea395dde6'): 1214,\n",
       " ('ecoinvent 2.2', 'a73aa0ec980a3242f4d8b5222011cb7e'): 2941,\n",
       " ('ecoinvent 2.2', '6236caeb83479339a8abf54556e73f63'): 4084,\n",
       " ('ecoinvent 2.2', 'd6106a6efd343e4a7c0ef9e8fca10da0'): 159,\n",
       " ('ecoinvent 2.2', 'f95cf2111d2936872ae4113549d34224'): 2402,\n",
       " ('ecoinvent 2.2', 'c73532e76f5fd22d7a21b3799f08f3c0'): 2414,\n",
       " ('ecoinvent 2.2', '13870e478956a7c7c9eac7631d937eec'): 525,\n",
       " ('ecoinvent 2.2', '06cd1bd8a58cd01ddf7a72eb0385c646'): 2725,\n",
       " ('ecoinvent 2.2', '6715d4df7e23788aafefe29ebfe2de2f'): 843,\n",
       " ('ecoinvent 2.2', '5fda1014868ab03a968d825e8fa5a23c'): 3845,\n",
       " ('ecoinvent 2.2', '1a7446bdd805031efbba389473f41ee5'): 190,\n",
       " ('ecoinvent 2.2', 'f3501ef526e983f91ef09ef153697145'): 3862,\n",
       " ('ecoinvent 2.2', '75744716eccd02bf7df6cfcd102e9ab3'): 565,\n",
       " ('ecoinvent 2.2', '367516aea39f9491a576a49be36d620b'): 1070,\n",
       " ('ecoinvent 2.2', '85f28bd5e5d382847bc4d255192f1195'): 3831,\n",
       " ('ecoinvent 2.2', 'f0740fe9a83e9875b9f681a45d8849bf'): 1229,\n",
       " ('ecoinvent 2.2', 'ffb4eefaa54aac3a313fad2948c991df'): 2383,\n",
       " ('ecoinvent 2.2', '1726e95ba5349f884e2969b955a7461f'): 1380,\n",
       " ('ecoinvent 2.2', '8c130a3dbdb9abe47d5e87de565de8a3'): 3161,\n",
       " ('ecoinvent 2.2', '6f2edfd18af513bc8897568a41b308a3'): 3073,\n",
       " ('ecoinvent 2.2', '250ca25a68ea133357d8b48208922f33'): 596,\n",
       " ('ecoinvent 2.2', 'abd506ddbc4cfedeca5b93d7dcf6de64'): 1817,\n",
       " ('ecoinvent 2.2', '9ed5ae7f5838114196ba5bf5731c4921'): 1108,\n",
       " ('ecoinvent 2.2', 'f98d3520e9fee6d032d2348ae83c8161'): 2869,\n",
       " ('ecoinvent 2.2', 'b7b8bb503ee3531a266889b951da558e'): 1501,\n",
       " ('ecoinvent 2.2', '5ba000c7dda230ee1ad161acdef81da9'): 2294,\n",
       " ('ecoinvent 2.2', 'ac48b663b20eaee71275bb10a628be1a'): 306,\n",
       " ('ecoinvent 2.2', '15a3aff370eda8d7da5bd3cd3bfdb165'): 3878,\n",
       " ('ecoinvent 2.2', '8a35a562a4aa59ba6c58e9bf71a66ac9'): 2990,\n",
       " ('ecoinvent 2.2', '5b40ebbc44feb3f310dc3b665156c12a'): 1591,\n",
       " ('ecoinvent 2.2', 'ab81c148d0ea52ebd7029a4d79b329a0'): 3120,\n",
       " ('ecoinvent 2.2', 'c004f0af36769371e6d2281f0267f165'): 2922,\n",
       " ('ecoinvent 2.2', 'ae15f663608578774bb5c05fe58956dd'): 4075,\n",
       " ('ecoinvent 2.2', 'b3c7d0a0b5c110209fd1d324589ffc04'): 2752,\n",
       " ('ecoinvent 2.2', 'de06ab820c6a82a523fbc32c56b432a9'): 2595,\n",
       " ('ecoinvent 2.2', '2d27c2d66227ca368fe0ab34f98a7379'): 2143,\n",
       " ('ecoinvent 2.2', 'd705bd6f5250730edd0a4bab1a04c7de'): 4,\n",
       " ('ecoinvent 2.2', '415f787d2c050626ab12c94e6e7afd9e'): 2711,\n",
       " ('ecoinvent 2.2', '3e05924c5e59a3b697345da38f364917'): 3889,\n",
       " ('ecoinvent 2.2', '1741bfdd057976228ed7f72b4d630ecb'): 859,\n",
       " ('ecoinvent 2.2', '3be399f06f9ee1d4ba0f7bf7dad864cf'): 224,\n",
       " ('ecoinvent 2.2', 'e2ebb122053f4cfbf296dc0bb8fc17d6'): 1608,\n",
       " ('ecoinvent 2.2', '63a8bd689d632d8cb6429e0f397b8039'): 2581,\n",
       " ('ecoinvent 2.2', '0740098ecacf0a40e5dc828d9c10d9de'): 1359,\n",
       " ('ecoinvent 2.2', 'd5e6260e7bc9c1e474afe1c1669a480f'): 3291,\n",
       " ('ecoinvent 2.2', 'caad6a3e17c390ce126e4159f12ee807'): 305,\n",
       " ('ecoinvent 2.2', '1e320b4a753b4241e1dd451aee795e4d'): 1491,\n",
       " ('ecoinvent 2.2', '1cac9b53c6a3d24b8ed91f8149944ba2'): 281,\n",
       " ('ecoinvent 2.2', '79433d586ffdfae2cd2cdc4a7fcbb129'): 3169,\n",
       " ('ecoinvent 2.2', '39bc8e2941f6694585aeeea9e4b1f4e3'): 1130,\n",
       " ('ecoinvent 2.2', 'b27478f6ad57b69376a2e71c529da443'): 2548,\n",
       " ('ecoinvent 2.2', '85f418d39c03eba18a802461d1b1acf7'): 4033,\n",
       " ('ecoinvent 2.2', '4600075b99681b46e6eb04748eb03a67'): 3374,\n",
       " ('ecoinvent 2.2', 'acec90154c9167fbd310d2d320d3b21d'): 1839,\n",
       " ('ecoinvent 2.2', '58a696447094b65836f67be2a126d902'): 3215,\n",
       " ('ecoinvent 2.2', 'e75465430c3dfbeda070cd9f54a9d7a7'): 3848,\n",
       " ('ecoinvent 2.2', '3b8667b0ebf6661c80f012bf21e9f044'): 3029,\n",
       " ('ecoinvent 2.2', 'fe521c69063caad6d39c9b1f32fe055d'): 2371,\n",
       " ('ecoinvent 2.2', '2d23512d3551174a025715fd36ccb0f6'): 1400,\n",
       " ('ecoinvent 2.2', '7b15f151c7bfd0ca64fbb74297172907'): 974,\n",
       " ('ecoinvent 2.2', 'a333e90a47fd4db462126e4be2d36314'): 1728,\n",
       " ('ecoinvent 2.2', 'ed8f1a17512b042d902e038027e2e51d'): 2265,\n",
       " ('ecoinvent 2.2', '5dc792840ec48ebcb9812b374756a0f3'): 148,\n",
       " ('ecoinvent 2.2', 'd26f89fed8e51a0bb6ac2dff51675219'): 3577,\n",
       " ('ecoinvent 2.2', '2918b177b08df7a65841a713f5630b2a'): 910,\n",
       " ('ecoinvent 2.2', '06f8fefafe591568c9ec311bb32a9580'): 412,\n",
       " ('ecoinvent 2.2', 'f32a57a7137d6c0803865ef11458332d'): 3468,\n",
       " ('ecoinvent 2.2', '2a97bd1648722d1f3155f304dfbfadb7'): 3679,\n",
       " ('ecoinvent 2.2', '5830bdc5d71dce273246c5928f41081a'): 3168,\n",
       " ('ecoinvent 2.2', 'f5647d1a4adea2fbcb644e410fb8c167'): 3707,\n",
       " ('ecoinvent 2.2', 'ae0109eafe0d28b6f934606e28304434'): 515,\n",
       " ('ecoinvent 2.2', '59078ff92d5c99d45a30b00010cd9cb7'): 2319,\n",
       " ('ecoinvent 2.2', '6916041d35e75a6c8f1751a86b2b4256'): 1396,\n",
       " ('ecoinvent 2.2', '28dc3f87f2a02216b782b3bb8e55bf95'): 1502,\n",
       " ('ecoinvent 2.2', '3784e57968d0df2d211839b1351c501c'): 3232,\n",
       " ('ecoinvent 2.2', 'b56487fbf235f204de1f906dc2a69f9b'): 3745,\n",
       " ('ecoinvent 2.2', '6d1943629367bb1b1f9e941bd75e20b6'): 2495,\n",
       " ('ecoinvent 2.2', 'b2439de714243aa836cdab3af98fe997'): 2658,\n",
       " ('ecoinvent 2.2', '9c5c2515a8c52af32e07db7c0654402a'): 2720,\n",
       " ('ecoinvent 2.2', 'd78cff62a51891a68cd41e5a3f001997'): 2254,\n",
       " ('ecoinvent 2.2', '889efab7991c12bd504ae6634756bf2d'): 2712,\n",
       " ('ecoinvent 2.2', '4e76992140636b962674a0fe93a0fa0a'): 1542,\n",
       " ('ecoinvent 2.2', '133343fb1ec37d07b8327597d800c563'): 802,\n",
       " ('ecoinvent 2.2', '39e4a1dea5cc53341671e72ef667abf6'): 888,\n",
       " ('ecoinvent 2.2', 'ad03cf69a92f5aa311065b372f8a656c'): 1506,\n",
       " ('ecoinvent 2.2', 'c194cc32416e90ff1d477cd5676e65fa'): 1582,\n",
       " ('ecoinvent 2.2', '29f16183cdaca8d950e3a66a58f495d8'): 3567,\n",
       " ('ecoinvent 2.2', 'eb98ab28da1479ac272e98d4b9b6ed81'): 1382,\n",
       " ('ecoinvent 2.2', '2cd07cad7a11abb0d39bf7132bc3cf7d'): 499,\n",
       " ('ecoinvent 2.2', 'b25020065de87f0e622b07241684a337'): 3549,\n",
       " ('ecoinvent 2.2', 'eb83d68b71f717bdaef16efe8e03f856'): 1557,\n",
       " ('ecoinvent 2.2', '5c3fd617b8c1b52d8632bc6529ff880f'): 463,\n",
       " ('ecoinvent 2.2', 'c5bf8e7901894d8566bb26be68138ebc'): 2717,\n",
       " ('ecoinvent 2.2', 'f55ee1b2c4b81cd917b3c14e9cfe6bad'): 3236,\n",
       " ('ecoinvent 2.2', '0700a55cd2cf6f0aaa9218d9edb61026'): 725,\n",
       " ('ecoinvent 2.2', '007fb874be8334806a5fcd21f25bf841'): 2005,\n",
       " ('ecoinvent 2.2', '225711ab177d36200253c0818844b9d4'): 2106,\n",
       " ('ecoinvent 2.2', '160f15d092c997ea237cad1d5e093a55'): 1032,\n",
       " ('ecoinvent 2.2', '040f966e6938f66fe87ca8f885e34b80'): 2338,\n",
       " ('ecoinvent 2.2', 'ddd452c493fad6132689330288ace8c6'): 876,\n",
       " ('ecoinvent 2.2', 'f49d3222b07ef8e1d960b7fe49d9149d'): 668,\n",
       " ('ecoinvent 2.2', '33a78eac2900900c4c3b47a6b7cfc156'): 2808,\n",
       " ('ecoinvent 2.2', '581c0c71964c4458f4a63f5e1541cca6'): 460,\n",
       " ('ecoinvent 2.2', 'ca4bf2b65147e38b77dd161fa11046f4'): 2011,\n",
       " ('ecoinvent 2.2', 'cf0d1d536f8e3463f461fd1f5f0b22eb'): 2144,\n",
       " ('ecoinvent 2.2', '64f6d365488c965e1293b3d612fd5146'): 26,\n",
       " ('ecoinvent 2.2', '2ec09f98dfbbbb0f4a01e5e4a22e214d'): 3961,\n",
       " ('ecoinvent 2.2', '30a07b32c3c726b694c23e0cead535e3'): 3145,\n",
       " ('ecoinvent 2.2', '8c11b883cf03fadeab33cf3ea56cabfe'): 389,\n",
       " ('ecoinvent 2.2', 'c65407718d7dc7e636229d8f664c5ec5'): 390,\n",
       " ('ecoinvent 2.2', '0179482ec36bab63ffd8848c22449431'): 339,\n",
       " ('ecoinvent 2.2', 'ad8ab46c4b059f785540daf9c299271f'): 1721,\n",
       " ('ecoinvent 2.2', '91e47dc6b5effe2f7f02424f5b704b4c'): 2018,\n",
       " ('ecoinvent 2.2', 'd868daa6f62cb7c86a3fa90285c89083'): 373,\n",
       " ('ecoinvent 2.2', 'b05c23e2a2401599932c35df0d60b75d'): 678,\n",
       " ('ecoinvent 2.2', 'd3f5fd2c4e2d7a6c60c479df0c3202b2'): 1131,\n",
       " ('ecoinvent 2.2', '19a6dd03796e1c9a51ad23ab82763c22'): 1944,\n",
       " ('ecoinvent 2.2', '147b9644ca638ff5ade3fd5aa893212a'): 62,\n",
       " ('ecoinvent 2.2', 'e1d3bb3c49bed47950af78b31a630ae7'): 3221,\n",
       " ('ecoinvent 2.2', '3a8ce3ce07bb2db776eb4ac0d4a10f54'): 1699,\n",
       " ('ecoinvent 2.2', '05d74938b00f6502aac0bd67fe8e75b2'): 857,\n",
       " ('ecoinvent 2.2', '2e1a686e9c7819afecfba3f5b1874d8a'): 3155,\n",
       " ('ecoinvent 2.2', 'a44ff9df2d700fc77b194ec417614e81'): 1399,\n",
       " ('ecoinvent 2.2', '4d1a81dbe3903da09939d34406d762bd'): 1480,\n",
       " ('ecoinvent 2.2', '4741952ad13b80b4ecb1519b28481f59'): 2233,\n",
       " ('ecoinvent 2.2', 'b7a42cb1904c69916f90e97c7805c6af'): 4024,\n",
       " ('ecoinvent 2.2', 'cd27404b03ed7fd517fb764f9d04118a'): 3268,\n",
       " ('ecoinvent 2.2', 'd2b4c46da219afe3e9c30e1391279dc7'): 1867,\n",
       " ('ecoinvent 2.2', '81f4b0a91f1f6e9b46fd56e9af04f894'): 108,\n",
       " ('ecoinvent 2.2', '9a6f79217ee303431b89ecd56159d21d'): 3873,\n",
       " ('ecoinvent 2.2', '517868e6ad2373c1cc593b1d774c835c'): 124,\n",
       " ('ecoinvent 2.2', '6b146eecfd36ed7b990e0bc6321156c6'): 1283,\n",
       " ('ecoinvent 2.2', 'a0c6c4888d21ee73f98b3e34407741e4'): 3127,\n",
       " ('ecoinvent 2.2', '041d7c95da3974b9fcbb09196c0c513b'): 541,\n",
       " ('ecoinvent 2.2', 'e77cfdaad42fc7a0a22c9f1407486d3f'): 3524,\n",
       " ('ecoinvent 2.2', '40b33f2df726b174dec5fd2dcf3b3a83'): 2579,\n",
       " ('ecoinvent 2.2', '89369539c94d42f15cdb7a8355f8fdcb'): 2403,\n",
       " ('ecoinvent 2.2', '1f5066477aa9de6907ed487e2e1f16fb'): 2622,\n",
       " ('ecoinvent 2.2', 'dba30509dd31496fd6e80627ab37bc5c'): 4032,\n",
       " ('ecoinvent 2.2', '0f03112bf2494269968d700b496cdc3f'): 1366,\n",
       " ('ecoinvent 2.2', 'a6e67d97c19dc3042651ff2dbbbef7a1'): 261,\n",
       " ('ecoinvent 2.2', 'aaf6fe27cf87220a8aa5affbf16efb74'): 2530,\n",
       " ('ecoinvent 2.2', '573953e63cb16dddb019164b1c261d07'): 3809,\n",
       " ('ecoinvent 2.2', 'a0c3a49ac524be49238da9a693e349e2'): 1836,\n",
       " ('ecoinvent 2.2', '50764417fc65e20cb0df4499d308ac78'): 3119,\n",
       " ('ecoinvent 2.2', '2f6ede23f2f2f36d0bd22a7b74f680c1'): 1264,\n",
       " ('ecoinvent 2.2', 'eb37a8fbb84f0e9bc0cc144a7bd5e525'): 2459,\n",
       " ('ecoinvent 2.2', '53a9bcbdf456d59f1b3e39b984a12102'): 763,\n",
       " ('ecoinvent 2.2', '39a7956d78dcda7c7c5ccca0797b5bdf'): 3126,\n",
       " ('ecoinvent 2.2', '634af78a9a25f2e71eec1a4ddf417431'): 65,\n",
       " ('ecoinvent 2.2', 'ee5f8d32f165468e463ad583aa968249'): 293,\n",
       " ('ecoinvent 2.2', 'b0397534593b2e117dddc2c7c4a7881a'): 981,\n",
       " ('ecoinvent 2.2', '8349100a4e85d0abc554b720289fe765'): 1088,\n",
       " ('ecoinvent 2.2', '98b5f1eee799bac2ae26d543500c2ae2'): 1109,\n",
       " ('ecoinvent 2.2', 'ec6a358d63081946213c1cf0f6a55d87'): 70,\n",
       " ('ecoinvent 2.2', '71d7f5c261414d03d930e5293e7eb366'): 2179,\n",
       " ('ecoinvent 2.2', '4bb644d647b6c4ca8e43ea0d38d11b70'): 1362,\n",
       " ('ecoinvent 2.2', '06285390cd1d99e677af6ab8752b1f44'): 1342,\n",
       " ('ecoinvent 2.2', 'ba4dac90d1292071fdd0476e486ab562'): 2441,\n",
       " ('ecoinvent 2.2', '58b88a3034c410f1e8de9ee54069474c'): 3132,\n",
       " ('ecoinvent 2.2', 'a033e231dac24661452af49bdf42f973'): 1423,\n",
       " ('ecoinvent 2.2', '9591d918c8079ab8bb933621580694c0'): 1617,\n",
       " ('ecoinvent 2.2', '6df0f31f788c6ad591b5d9d8601b766d'): 3031,\n",
       " ('ecoinvent 2.2', 'c79f110488afda91f1fdadfd4a0e3773'): 1293,\n",
       " ('ecoinvent 2.2', 'e7a77a43f8716153015a6c76c028f4d5'): 1707,\n",
       " ('ecoinvent 2.2', 'fa76f46503beffd4d04ca9d5a3f3a434'): 2876,\n",
       " ('ecoinvent 2.2', 'e21be5f7a94ff725fdee0d55993b49fc'): 3425,\n",
       " ('ecoinvent 2.2', '7445d141f7bd19d8f0c61329bb8ce716'): 2878,\n",
       " ('ecoinvent 2.2', '4cd4945a3a10f8e6821601274751fd65'): 1017,\n",
       " ('ecoinvent 2.2', '67993e478afb5d1e487fb3ef615ee161'): 1658,\n",
       " ('ecoinvent 2.2', '168947741aca75d2284f92e9c126d089'): 1288,\n",
       " ('ecoinvent 2.2', '779b2cb11a11bf5a45eb5546d0bc8761'): 2092,\n",
       " ('ecoinvent 2.2', '5f025bf9c73e8b247d8b99d62a0fab44'): 1731,\n",
       " ('ecoinvent 2.2', '39b34477dcf5131bdfe93e724cb2b871'): 453,\n",
       " ('ecoinvent 2.2', '44ea13acc449cbfed01c6ff46e56916f'): 2140,\n",
       " ('ecoinvent 2.2', 'bc3550c64754c2c5d37868692489162b'): 2821,\n",
       " ('ecoinvent 2.2', '6607227ade397f04aa21e518bf632540'): 1747,\n",
       " ('ecoinvent 2.2', 'e837c5a403cb9b212dae5924ea0c0b1a'): 343,\n",
       " ('ecoinvent 2.2', '0d0a0130796faf4b173e2844b9e0a03c'): 2586,\n",
       " ('ecoinvent 2.2', 'c8b4fcf7f4f0dae875be78465dc94f33'): 53,\n",
       " ('ecoinvent 2.2', 'a9cb260b001af19c8cdd2934f89dcae4'): 2382,\n",
       " ('ecoinvent 2.2', '4e9805af9b59c28974819308292d96db'): 378,\n",
       " ('ecoinvent 2.2', '05146600b9c98c5b14f5cc6e8f08344e'): 1262,\n",
       " ('ecoinvent 2.2', '4fd7c95f67a126d46beb561226131eb2'): 226,\n",
       " ('ecoinvent 2.2', 'c18ba7bdbf3281199b1a0c0c3c0f352d'): 3523,\n",
       " ('ecoinvent 2.2', 'c38f5de06f3a44a57c5b92f1591bb366'): 3616,\n",
       " ('ecoinvent 2.2', 'e4302df55f2460996512e2af4a6b6823'): 1209,\n",
       " ('ecoinvent 2.2', '42f8f014ea92fe8ce8244233f68c98fa'): 2873,\n",
       " ('ecoinvent 2.2', '3f4d9ddc5bc150e14a079276694d1142'): 2723,\n",
       " ('ecoinvent 2.2', '13981a52e6711bceef1644447fcde1c6'): 122,\n",
       " ('ecoinvent 2.2', '6093c0e7aa91983c643a400e689ebc00'): 125,\n",
       " ('ecoinvent 2.2', 'e259b0add9c6ad4d63489cd876fc7c8d'): 1438,\n",
       " ('ecoinvent 2.2', 'bb163f170be366facef2290c455fa174'): 1741,\n",
       " ('ecoinvent 2.2', '53c0b1ead791e1a02ce36331c12fe288'): 2930,\n",
       " ('ecoinvent 2.2', 'cc064979c3b04412e756e2ca4f4f1732'): 487,\n",
       " ('ecoinvent 2.2', '5b279828ac1fac933e0ea18fc9ed3ccd'): 2435,\n",
       " ('ecoinvent 2.2', 'b5ee414b76c8e9104d57bb5a32846a16'): 3189,\n",
       " ('ecoinvent 2.2', '3805a4b230219fd83e629658a64479d3'): 1595,\n",
       " ('ecoinvent 2.2', '287d34950d7c37c477d2bd283b26b4ad'): 1098,\n",
       " ('ecoinvent 2.2', 'ed368970cc0c891f7e8cf30ac963c412'): 2518,\n",
       " ('ecoinvent 2.2', '213292939513e075f839e7c685243317'): 2173,\n",
       " ('ecoinvent 2.2', 'e84f334ff85e272303f8bf36f55b046a'): 1722,\n",
       " ('ecoinvent 2.2', '6606dd846f78711dbda6e4fb958c277b'): 3757,\n",
       " ('ecoinvent 2.2', '4379816ca2352f7c5ad1521d58962dc5'): 3849,\n",
       " ('ecoinvent 2.2', 'a1934b88e0a2d73899db8576faf1bb4d'): 1149,\n",
       " ('ecoinvent 2.2', '25fd9c88831c33fc0a8896b00be2b0c5'): 3855,\n",
       " ('ecoinvent 2.2', 'efcaaf7490e832b187aac8c0ae9316d4'): 1952,\n",
       " ('ecoinvent 2.2', '4f5eff40bca88c78c22972bf11d4a416'): 2384,\n",
       " ('ecoinvent 2.2', 'fc2a14c062355c6a40bb8148b115c23c'): 3184,\n",
       " ('ecoinvent 2.2', 'b6ad48ae39241c07f517b8a5a30805b5'): 1164,\n",
       " ('ecoinvent 2.2', 'cb7f7f86b2bfd0f942da46279f111b40'): 1398,\n",
       " ('ecoinvent 2.2', '5733af2fb42f6c536bbf9d0c30f55557'): 3249,\n",
       " ('ecoinvent 2.2', 'd7df0e89997232d97ffed81aba8498ab'): 235,\n",
       " ('ecoinvent 2.2', '2eda1d074803543597d170ce8d8c6f74'): 987,\n",
       " ('ecoinvent 2.2', 'a0eabfea74913b83c87d1cd27bdf19ba'): 1931,\n",
       " ('ecoinvent 2.2', 'e16a62711a5214a3937b55e065e57444'): 2648,\n",
       " ('ecoinvent 2.2', 'c259d87f059428addf725cd45bcb37a0'): 2912,\n",
       " ('ecoinvent 2.2', '6b580882ede57b07a2e0ed6abadf6b9e'): 1863,\n",
       " ('ecoinvent 2.2', 'c48c57042671633b56b5961a01e1a6fa'): 2999,\n",
       " ('ecoinvent 2.2', '3d898c468da8ec59f423e04a4ff1e1a3'): 2141,\n",
       " ('ecoinvent 2.2', '18212e116c3223b74f1e6e575719d24d'): 6,\n",
       " ('ecoinvent 2.2', '5c76c57ef01a2ad6ba93242021cb9c79'): 3602,\n",
       " ('ecoinvent 2.2', 'f95ced8e422f0ad198a4830efa5b7837'): 3786,\n",
       " ('ecoinvent 2.2', '60896195085b6100bf8f06c807a21753'): 3747,\n",
       " ('ecoinvent 2.2', '07c2134e79a1f117f99aac0931746403'): 435,\n",
       " ('ecoinvent 2.2', 'e32cd23c22e170ce56fe621a3e53173b'): 1170,\n",
       " ('ecoinvent 2.2', '0c3a29266efb52796a4fab2f9abdba67'): 761,\n",
       " ('ecoinvent 2.2', '568d2b000f4349b2046c3eb80348d2d6'): 2833,\n",
       " ('ecoinvent 2.2', '78e19ba795cedeeaa4c1686380f075b6'): 1940,\n",
       " ('ecoinvent 2.2', 'c99dced85be964620ea257234db4a92e'): 2169,\n",
       " ('ecoinvent 2.2', '106b6b535b97e7f4ea7caa838a85ab54'): 2036,\n",
       " ('ecoinvent 2.2', 'fbc3b161e96c7dcf4b8e6b718cbd3e00'): 1167,\n",
       " ('ecoinvent 2.2', '3687febc2fb9e86dd3635dee84fdee49'): 31,\n",
       " ('ecoinvent 2.2', '7c226ed0bca185763bfc2ec4fdf7cd58'): 1227,\n",
       " ('ecoinvent 2.2', 'ae84b372d3ce07196bae9f815eb41b7a'): 144,\n",
       " ('ecoinvent 2.2', 'f9ff064fa6eab93cb6f8e5b095be369d'): 684,\n",
       " ('ecoinvent 2.2', 'af21a50e15c1e1f973f0e41871d3e7ad'): 3328,\n",
       " ('ecoinvent 2.2', '74522124ba12d7249d69d626fa00aa95'): 3076,\n",
       " ...}"
      ]
     },
     "execution_count": 73,
     "metadata": {},
     "output_type": "execute_result"
    }
   ],
   "source": [
    "myFirstLCA.product_dict"
   ]
  },
  {
   "cell_type": "markdown",
   "metadata": {
    "deletable": true,
    "editable": true
   },
   "source": [
    "There are three such dictionaries: \n",
    " - `activity_dict`: Columns in the technosphere matrix $A$ or biosphere matrix $B$\n",
    " - `product_dict` : Rows in the technosphere matrix $A$  \n",
    " - `biosphere_dict`: Rows in the biosphere matrix $B$"
   ]
  },
  {
   "cell_type": "markdown",
   "metadata": {
    "deletable": true,
    "editable": true
   },
   "source": [
    "In passing, note that our (square) $A$ matrix has the same row and column dimensions, in other words:"
   ]
  },
  {
   "cell_type": "code",
   "execution_count": 74,
   "metadata": {
    "collapsed": false,
    "deletable": true,
    "editable": true
   },
   "outputs": [
    {
     "data": {
      "text/plain": [
       "True"
      ]
     },
     "execution_count": 74,
     "metadata": {},
     "output_type": "execute_result"
    }
   ],
   "source": [
    "myFirstLCA.activity_dict == myFirstLCA.product_dict"
   ]
  },
  {
   "cell_type": "markdown",
   "metadata": {
    "deletable": true,
    "editable": true
   },
   "source": [
    "So, to our question (where is this \"1\"), we need to use the `activity_dict` to find out. The key we need is the (database, code) tuple of our demand:"
   ]
  },
  {
   "cell_type": "code",
   "execution_count": 75,
   "metadata": {
    "collapsed": false,
    "deletable": true,
    "editable": true
   },
   "outputs": [
    {
     "data": {
      "text/plain": [
       "('ecoinvent 2.2', '1d0e0446b60e0da5ee95be61a3c2fdbb')"
      ]
     },
     "execution_count": 75,
     "metadata": {},
     "output_type": "execute_result"
    }
   ],
   "source": [
    "demand_database = list(myFirstLCA.demand.keys())[0]['database']\n",
    "demand_code = list(myFirstLCA.demand.keys())[0]['code']\n",
    "(demand_database, demand_code)"
   ]
  },
  {
   "cell_type": "code",
   "execution_count": 76,
   "metadata": {
    "collapsed": false,
    "deletable": true,
    "editable": true
   },
   "outputs": [
    {
     "data": {
      "text/plain": [
       "4042"
      ]
     },
     "execution_count": 76,
     "metadata": {},
     "output_type": "execute_result"
    }
   ],
   "source": [
    "row_of_demand = myFirstLCA.activity_dict[(demand_database, demand_code)]\n",
    "row_of_demand # Row number of our demand vector containing the functional unit."
   ]
  },
  {
   "cell_type": "code",
   "execution_count": 77,
   "metadata": {
    "collapsed": false,
    "deletable": true,
    "editable": true
   },
   "outputs": [
    {
     "data": {
      "text/plain": [
       "1.0"
      ]
     },
     "execution_count": 77,
     "metadata": {},
     "output_type": "execute_result"
    }
   ],
   "source": [
    "myFirstLCA.demand_array[row_of_demand]"
   ]
  },
  {
   "cell_type": "markdown",
   "metadata": {
    "deletable": true,
    "editable": true
   },
   "source": [
    "The .lci() also created other very important arrays:"
   ]
  },
  {
   "cell_type": "markdown",
   "metadata": {
    "deletable": true,
    "editable": true
   },
   "source": [
    "** $A$ matrix** (technology matrix), with each element $a_{ij}$ provides information on the amount of input or output of product $i$ from activity $j$. When $i=j$, the element $a_{ij}$ is the *reference flow* for the activity described in the column."
   ]
  },
  {
   "cell_type": "code",
   "execution_count": 78,
   "metadata": {
    "collapsed": false,
    "deletable": true,
    "editable": true
   },
   "outputs": [
    {
     "data": {
      "text/plain": [
       "<4087x4087 sparse matrix of type '<class 'numpy.float64'>'\n",
       "\twith 43045 stored elements in Compressed Sparse Row format>"
      ]
     },
     "execution_count": 78,
     "metadata": {},
     "output_type": "execute_result"
    }
   ],
   "source": [
    "myFirstLCA.technosphere_matrix"
   ]
  },
  {
   "cell_type": "markdown",
   "metadata": {},
   "source": [
    "It is a `sparse matrix` in Compressed Sparse Row format.  \n",
    "It has three \"parts\":  \n",
    "  - an array of column indices, `.indices`  \n",
    "  - an array of points to row starts in indices and data, `.indptr`  \n",
    "  - an array with the actual value, `.data`  \n",
    "Printing it gives an overview of what that looks like (although in the print-out the rows are no longer *compressed* per se):"
   ]
  },
  {
   "cell_type": "code",
   "execution_count": 79,
   "metadata": {
    "collapsed": false,
    "deletable": true,
    "editable": true
   },
   "outputs": [
    {
     "name": "stdout",
     "output_type": "stream",
     "text": [
      "  (0, 0)\t1.0\n",
      "  (0, 2288)\t-0.629999995232\n",
      "  (0, 2322)\t-1300.0\n",
      "  (0, 2480)\t-6.79479980469\n",
      "  (0, 2883)\t-281.359985352\n",
      "  (1, 1)\t1.0\n",
      "  (2, 2)\t1.0\n",
      "  (2, 1038)\t-3.78999999787e-12\n",
      "  (3, 3)\t1.0\n",
      "  (3, 140)\t-0.00435800012201\n",
      "  (3, 158)\t-0.00435800012201\n",
      "  (3, 190)\t-0.00258040009066\n",
      "  (3, 197)\t-0.0245140008628\n",
      "  (3, 555)\t-0.00435800012201\n",
      "  (3, 639)\t-0.0245140008628\n",
      "  (3, 968)\t-0.00435800012201\n",
      "  (3, 1704)\t-0.00258040009066\n",
      "  (3, 1820)\t-0.00435800012201\n",
      "  (3, 2034)\t-0.00435800012201\n",
      "  (3, 2148)\t-0.00435800012201\n",
      "  (3, 2241)\t-0.0245140008628\n",
      "  (3, 2696)\t-0.0245140008628\n",
      "  (3, 3116)\t-0.0245140008628\n",
      "  (3, 3181)\t-0.0245140008628\n",
      "  (3, 3260)\t-0.00435800012201\n",
      "  :\t:\n",
      "  (4080, 899)\t-4.26569997103e-08\n",
      "  (4080, 1342)\t-1.26049997107e-08\n",
      "  (4080, 3080)\t-1.89070004097e-09\n",
      "  (4080, 3283)\t-2.40889992398e-08\n",
      "  (4080, 4080)\t1.0\n",
      "  (4081, 2488)\t-1.13639998436\n",
      "  (4081, 4081)\t1.0\n",
      "  (4082, 4082)\t1.0\n",
      "  (4083, 9)\t-0.00447000004351\n",
      "  (4083, 902)\t-0.00499999988824\n",
      "  (4083, 1078)\t-0.00499999988824\n",
      "  (4083, 2305)\t-0.0219999998808\n",
      "  (4083, 2804)\t-2.0529999733\n",
      "  (4083, 3477)\t-0.00499999988824\n",
      "  (4083, 4083)\t1.0\n",
      "  (4084, 3357)\t-8.70100021362\n",
      "  (4084, 4084)\t1.0\n",
      "  (4085, 930)\t-2.6099998951\n",
      "  (4085, 1525)\t-1.0\n",
      "  (4085, 2785)\t-0.41400000453\n",
      "  (4085, 3243)\t-1.70000004768\n",
      "  (4085, 3624)\t-1.0\n",
      "  (4085, 4080)\t-1.0\n",
      "  (4085, 4085)\t1.0\n",
      "  (4086, 4086)\t1.0\n"
     ]
    }
   ],
   "source": [
    "print(myFirstLCA.technosphere_matrix)"
   ]
  },
  {
   "cell_type": "markdown",
   "metadata": {},
   "source": [
    "We can slice this matrix using coordinates. For example, let's say we wanted a view of the exchanges associated with the unit process providing our functional unit.  \n",
    "We already know that the `key` for this activity is `(demand_database, demand_code)`, constructed above:"
   ]
  },
  {
   "cell_type": "code",
   "execution_count": 159,
   "metadata": {
    "collapsed": false
   },
   "outputs": [
    {
     "data": {
      "text/plain": [
       "('ecoinvent 2.2', '1d0e0446b60e0da5ee95be61a3c2fdbb')"
      ]
     },
     "execution_count": 159,
     "metadata": {},
     "output_type": "execute_result"
    }
   ],
   "source": [
    "(demand_database, demand_code)"
   ]
  },
  {
   "cell_type": "markdown",
   "metadata": {},
   "source": [
    "We also know that the column number for this activity in the $A$ matrix is stored in the `activity_dict`"
   ]
  },
  {
   "cell_type": "code",
   "execution_count": 160,
   "metadata": {
    "collapsed": false
   },
   "outputs": [
    {
     "data": {
      "text/plain": [
       "4042"
      ]
     },
     "execution_count": 160,
     "metadata": {},
     "output_type": "execute_result"
    }
   ],
   "source": [
    "myFirstLCA.activity_dict[(demand_database, demand_code)]"
   ]
  },
  {
   "cell_type": "markdown",
   "metadata": {},
   "source": [
    "So we can return a one-dimensional matrix representing the column in the $A$ matrix that supplies our functional unit: "
   ]
  },
  {
   "cell_type": "code",
   "execution_count": 162,
   "metadata": {
    "collapsed": false
   },
   "outputs": [
    {
     "data": {
      "text/plain": [
       "<4087x1 sparse matrix of type '<class 'numpy.float64'>'\n",
       "\twith 9 stored elements in Compressed Sparse Row format>"
      ]
     },
     "execution_count": 162,
     "metadata": {},
     "output_type": "execute_result"
    }
   ],
   "source": [
    "myColumn = myFirstLCA.technosphere_matrix[:, myFirstLCA.activity_dict[(demand_database, demand_code)]]\n",
    "myColumn"
   ]
  },
  {
   "cell_type": "markdown",
   "metadata": {},
   "source": [
    "Printing this out gives:"
   ]
  },
  {
   "cell_type": "code",
   "execution_count": 164,
   "metadata": {
    "collapsed": false
   },
   "outputs": [
    {
     "name": "stdout",
     "output_type": "stream",
     "text": [
      "  (26, 0)\t-0.00381999998353\n",
      "  (1188, 0)\t-0.00381999998353\n",
      "  (1306, 0)\t-1.0\n",
      "  (1787, 0)\t-3.94999988202e-05\n",
      "  (2062, 0)\t-2.01999994509e-09\n",
      "  (2398, 0)\t-1.27999997139\n",
      "  (2566, 0)\t-4.40999984741\n",
      "  (3376, 0)\t-0.0625\n",
      "  (4042, 0)\t1.0\n"
     ]
    }
   ],
   "source": [
    "print(myColumn)"
   ]
  },
  {
   "cell_type": "markdown",
   "metadata": {},
   "source": [
    "Not too useful: it would be better to get the *names* to these exchanges.  \n",
    "We need to do two things:  \n",
    "  - Get the indices from the CSR matrix (we can do this by converting it to a sparse matrix in `COOrdinate` format first)  \n",
    "  - Get the activity code for the each index (we can do this using the reverse of the `activity_dict`)  \n",
    "  - Use `get_activity` to access the actual names of the activities.  "
   ]
  },
  {
   "cell_type": "markdown",
   "metadata": {},
   "source": [
    "1) Converting the CSR matrix to a COO matrix:  "
   ]
  },
  {
   "cell_type": "code",
   "execution_count": 179,
   "metadata": {
    "collapsed": false
   },
   "outputs": [
    {
     "data": {
      "text/plain": [
       "<4087x1 sparse matrix of type '<class 'numpy.float64'>'\n",
       "\twith 9 stored elements in COOrdinate format>"
      ]
     },
     "execution_count": 179,
     "metadata": {},
     "output_type": "execute_result"
    }
   ],
   "source": [
    "myColumnCOO = myColumn.tocoo()\n",
    "myColumnCOO"
   ]
  },
  {
   "cell_type": "markdown",
   "metadata": {},
   "source": [
    "It is still a sparse matrix with the same number of elements, and it looks quite like the CSR version when we print it out:"
   ]
  },
  {
   "cell_type": "code",
   "execution_count": 180,
   "metadata": {
    "collapsed": false
   },
   "outputs": [
    {
     "name": "stdout",
     "output_type": "stream",
     "text": [
      "  (26, 0)\t-0.00381999998353\n",
      "  (1188, 0)\t-0.00381999998353\n",
      "  (1306, 0)\t-1.0\n",
      "  (1787, 0)\t-3.94999988202e-05\n",
      "  (2062, 0)\t-2.01999994509e-09\n",
      "  (2398, 0)\t-1.27999997139\n",
      "  (2566, 0)\t-4.40999984741\n",
      "  (3376, 0)\t-0.0625\n",
      "  (4042, 0)\t1.0\n"
     ]
    }
   ],
   "source": [
    "print(myColumnCOO)"
   ]
  },
  {
   "cell_type": "markdown",
   "metadata": {},
   "source": [
    "However, we can directly access the rows and column indices using `row` and `col`:  "
   ]
  },
  {
   "cell_type": "code",
   "execution_count": 182,
   "metadata": {
    "collapsed": false
   },
   "outputs": [
    {
     "data": {
      "text/plain": [
       "array([  26, 1188, 1306, 1787, 2062, 2398, 2566, 3376, 4042])"
      ]
     },
     "execution_count": 182,
     "metadata": {},
     "output_type": "execute_result"
    }
   ],
   "source": [
    "myColumnCOO.row"
   ]
  },
  {
   "cell_type": "markdown",
   "metadata": {},
   "source": [
    "2) Get the activity code for each element  \n",
    "We have a dictionary that gives us the indices of activities/products, but now we need the opposite: we need a dictionary that will give us the activity code for a given index. We therefore need to create a *reverse* dictionary, which we can do as follows:"
   ]
  },
  {
   "cell_type": "code",
   "execution_count": 183,
   "metadata": {
    "collapsed": false
   },
   "outputs": [
    {
     "data": {
      "text/plain": [
       "{0: ('ecoinvent 2.2', '8609adf0a083959f2524cd2aad891f51'),\n",
       " 1: ('ecoinvent 2.2', '31894eb0fc23d68e1d65e66771c7f014'),\n",
       " 2: ('ecoinvent 2.2', '09d2c123a37ca00b3e1582d4dc35994f'),\n",
       " 3: ('ecoinvent 2.2', '4bc630232ab2ad4f025dc2d1d1ce735c'),\n",
       " 4: ('ecoinvent 2.2', 'd705bd6f5250730edd0a4bab1a04c7de'),\n",
       " 5: ('ecoinvent 2.2', '98150d2c16832da415d7819749d03fbc'),\n",
       " 6: ('ecoinvent 2.2', '18212e116c3223b74f1e6e575719d24d'),\n",
       " 7: ('ecoinvent 2.2', '66d83b77dff5d93199c5a7092c0d5a34'),\n",
       " 8: ('ecoinvent 2.2', '7af9f6c24f783bcc241acbe4bdf9bd98'),\n",
       " 9: ('ecoinvent 2.2', 'bd7b94cec97b65332b71c00c3d9af123'),\n",
       " 10: ('ecoinvent 2.2', '119ca61a751dd1d929ac1bf5231e7958'),\n",
       " 11: ('ecoinvent 2.2', '2a5a71c124b6b49ac3eafa584574a096'),\n",
       " 12: ('ecoinvent 2.2', 'ecbe970f2a688469972e2133197af640'),\n",
       " 13: ('ecoinvent 2.2', '0642b64c2ff903f46436eda35a62f508'),\n",
       " 14: ('ecoinvent 2.2', '973d538466133bbff4eff0dc9b3d863c'),\n",
       " 15: ('ecoinvent 2.2', 'cb15be9b4cb31e5b4e024d3df5d629e5'),\n",
       " 16: ('ecoinvent 2.2', '60a90384ea4a6b5ca542bed757c775a3'),\n",
       " 17: ('ecoinvent 2.2', '102af7380ea3ccf1291e79f5c2f315a6'),\n",
       " 18: ('ecoinvent 2.2', 'ad172f7656c5d96dbb32e227325b91d6'),\n",
       " 19: ('ecoinvent 2.2', '62b4d571092179cc577b4ed886f64811'),\n",
       " 20: ('ecoinvent 2.2', 'fd897315659f76cba0f29c4280b74ff4'),\n",
       " 21: ('ecoinvent 2.2', '9fa7ac035bbc14d5984f05620f59b403'),\n",
       " 22: ('ecoinvent 2.2', '44fd4784114c85bc9153c48f4db0a103'),\n",
       " 23: ('ecoinvent 2.2', '88e41bb074191932806be0f085074a30'),\n",
       " 24: ('ecoinvent 2.2', 'ad5536e0a5fcd6d416c8ed7a09e6ba19'),\n",
       " 25: ('ecoinvent 2.2', 'fa959bfd9f737a2427b867d12e32ec39'),\n",
       " 26: ('ecoinvent 2.2', '64f6d365488c965e1293b3d612fd5146'),\n",
       " 27: ('ecoinvent 2.2', '15b51b6024835146112ee3811031a8ed'),\n",
       " 28: ('ecoinvent 2.2', '8b998e2d0c106a3db76c61296865cdd8'),\n",
       " 29: ('ecoinvent 2.2', '2e78a93c0109b83c640072c53e216577'),\n",
       " 30: ('ecoinvent 2.2', 'f0fca1ecb034d0b2f9a66dbab7646b9a'),\n",
       " 31: ('ecoinvent 2.2', '3687febc2fb9e86dd3635dee84fdee49'),\n",
       " 32: ('ecoinvent 2.2', 'fc6446d29726d2ba8a980e3728523b8e'),\n",
       " 33: ('ecoinvent 2.2', 'efc0abccba2a17a36910369abdc27b9d'),\n",
       " 34: ('ecoinvent 2.2', 'f0c167d4a41c1f960d575c37f3e8a533'),\n",
       " 35: ('ecoinvent 2.2', '397851d37a9c81f07ad3fabd0f794aca'),\n",
       " 36: ('ecoinvent 2.2', '71b5422e81757d525a584446bf3d0ca0'),\n",
       " 37: ('ecoinvent 2.2', '666dc59a79dae0d8ebbafef8cae8ad20'),\n",
       " 38: ('ecoinvent 2.2', '2e5a71b0114be93103da5a9706055770'),\n",
       " 39: ('ecoinvent 2.2', '623f454d75292cf286cf6ac22fe6cefb'),\n",
       " 40: ('ecoinvent 2.2', '38c84dd78fa47d714a81ac5f33eba3ca'),\n",
       " 41: ('ecoinvent 2.2', 'ed315e1a42d133f62780e761324b50c7'),\n",
       " 42: ('ecoinvent 2.2', 'f643ab99b41fce901e8fd60ed4644251'),\n",
       " 43: ('ecoinvent 2.2', 'd639efd3dea31588f10d5967d082daf4'),\n",
       " 44: ('ecoinvent 2.2', '2044b19b7be6057463da044266db9690'),\n",
       " 45: ('ecoinvent 2.2', '79ece48c329c02b26ebb268636ebaaa9'),\n",
       " 46: ('ecoinvent 2.2', '938e644a3b169b47fad4a25c072b31f9'),\n",
       " 47: ('ecoinvent 2.2', 'fffdcf70ba06344bad9cec0a51416b6c'),\n",
       " 48: ('ecoinvent 2.2', 'fabe7da26ba2117d2d61d21368912fbd'),\n",
       " 49: ('ecoinvent 2.2', '29921be73c9af626e1fea5b25e63a5fd'),\n",
       " 50: ('ecoinvent 2.2', '9f09756d9a3aaca657c38a7c03a4cffa'),\n",
       " 51: ('ecoinvent 2.2', '93ce64b4962f917a0d9def831b9cd62a'),\n",
       " 52: ('ecoinvent 2.2', '0d79f0364cb44e94ff00c5cd4e057727'),\n",
       " 53: ('ecoinvent 2.2', 'c8b4fcf7f4f0dae875be78465dc94f33'),\n",
       " 54: ('ecoinvent 2.2', 'd6c8413cfc8f7c3579980210025f1481'),\n",
       " 55: ('ecoinvent 2.2', '3c59f42bff406862804d432c3b0eca4d'),\n",
       " 56: ('ecoinvent 2.2', '444a04e89192c407f7d3be38139054e4'),\n",
       " 57: ('ecoinvent 2.2', 'bad9a478e92c9d376b371549863d4ae8'),\n",
       " 58: ('ecoinvent 2.2', '7e0bc9caeb0a4f73c6423014187e5c93'),\n",
       " 59: ('ecoinvent 2.2', '4f7f31dfc0fc7b1287f967c92c071939'),\n",
       " 60: ('ecoinvent 2.2', 'd81ab02af6f9eccdaad81a8fc791ddc5'),\n",
       " 61: ('ecoinvent 2.2', '069783e0a17c6f1315c90d1b5533e27c'),\n",
       " 62: ('ecoinvent 2.2', '147b9644ca638ff5ade3fd5aa893212a'),\n",
       " 63: ('ecoinvent 2.2', 'd9f7ad8e631dbd7e80d83b8e5ae86920'),\n",
       " 64: ('ecoinvent 2.2', '1e6864ffe78388ab1c48210b47519693'),\n",
       " 65: ('ecoinvent 2.2', '634af78a9a25f2e71eec1a4ddf417431'),\n",
       " 66: ('ecoinvent 2.2', '28a2e85dbc807c1a7544bba1b0396e8a'),\n",
       " 67: ('ecoinvent 2.2', '6dcc1607c850b4e13239ae02f5998ab0'),\n",
       " 68: ('ecoinvent 2.2', '1a0c868436791eac8d7a034cb0853006'),\n",
       " 69: ('ecoinvent 2.2', '78d11ae9c505b20fca074ba2a7d9b309'),\n",
       " 70: ('ecoinvent 2.2', 'ec6a358d63081946213c1cf0f6a55d87'),\n",
       " 71: ('ecoinvent 2.2', 'd4ca6889d1ed7351f296ad8c78f7c7fb'),\n",
       " 72: ('ecoinvent 2.2', '35cff4b3d144c0fbbc154e447889bebb'),\n",
       " 73: ('ecoinvent 2.2', '227c66e50f496a9ab51cb017210d436f'),\n",
       " 74: ('ecoinvent 2.2', '0a07a71dd630c6df9d290ea36802f9c5'),\n",
       " 75: ('ecoinvent 2.2', 'decd549a4062885246b06bdde8f7a8ab'),\n",
       " 76: ('ecoinvent 2.2', 'd15be39fd79903ec5d3e6bb3798b76c2'),\n",
       " 77: ('ecoinvent 2.2', 'bc06d52c278f8b112719dee48b9c956e'),\n",
       " 78: ('ecoinvent 2.2', '8b4ff619ef1af22d6c813642b1ed2dcf'),\n",
       " 79: ('ecoinvent 2.2', 'bc2f71fd41ca96d845e09a042587e6ad'),\n",
       " 80: ('ecoinvent 2.2', '435f08fab9fbb6d73851fcee34adf836'),\n",
       " 81: ('ecoinvent 2.2', '0139ee9b2af0b6ddb6ace6c7aac49453'),\n",
       " 82: ('ecoinvent 2.2', '31b33f565b63ae01e6174e5d9ff72459'),\n",
       " 83: ('ecoinvent 2.2', 'b1546d82102d27b81543c417cb34019c'),\n",
       " 84: ('ecoinvent 2.2', 'c882838c9bec42e2628f05bcd85d23a9'),\n",
       " 85: ('ecoinvent 2.2', 'f48b0ad23481f73f5dcce32ae5215a33'),\n",
       " 86: ('ecoinvent 2.2', 'cb5c69512d77eaa9f3d2e4fabf75a73e'),\n",
       " 87: ('ecoinvent 2.2', '5e47f71c5cbea23adbf58a6b95fe4833'),\n",
       " 88: ('ecoinvent 2.2', '4ac78f67ad4d80f0f24defbadabea1e0'),\n",
       " 89: ('ecoinvent 2.2', '6fbf92235e77bc62f2915c9f786655c7'),\n",
       " 90: ('ecoinvent 2.2', 'fd495a49e0df27a5869b32ac4a8fa678'),\n",
       " 91: ('ecoinvent 2.2', 'fffa26e61620e95dca013ee190c43382'),\n",
       " 92: ('ecoinvent 2.2', 'fd0842acfb6cf845f4d11d537fd1148d'),\n",
       " 93: ('ecoinvent 2.2', '99ae2e382061a822c4706627ac33401b'),\n",
       " 94: ('ecoinvent 2.2', 'ceb508e9b60271583d8433933a3a11cb'),\n",
       " 95: ('ecoinvent 2.2', '8ee961f075f7c3ae1a7286946d095b5d'),\n",
       " 96: ('ecoinvent 2.2', '9c6feab31d1d72a13517da9928e367ca'),\n",
       " 97: ('ecoinvent 2.2', '73c46c905a12aac266e100bc90ed0d10'),\n",
       " 98: ('ecoinvent 2.2', 'bc2d612db33104adc0b8ea83f6be02ee'),\n",
       " 99: ('ecoinvent 2.2', '4f9252e0284159aa38bb5a4f2798bbef'),\n",
       " 100: ('ecoinvent 2.2', 'ed5b2e4dd5fc014f182274f92ae5de7c'),\n",
       " 101: ('ecoinvent 2.2', 'fab0a9f4cf92a6ae30c4d511c4ca6dde'),\n",
       " 102: ('ecoinvent 2.2', '0897e0b31458a805bf9824e76526cb0d'),\n",
       " 103: ('ecoinvent 2.2', 'b525a5eedc31d643d77271a7df763279'),\n",
       " 104: ('ecoinvent 2.2', '6a3bf7ac99a527ff9b0a4ca7541bf302'),\n",
       " 105: ('ecoinvent 2.2', '06b26aad75004d51193bec413c8204de'),\n",
       " 106: ('ecoinvent 2.2', 'd274d3498d37948114bbbbb07f94a969'),\n",
       " 107: ('ecoinvent 2.2', 'e704bea35d31497971701f8f77d74951'),\n",
       " 108: ('ecoinvent 2.2', '81f4b0a91f1f6e9b46fd56e9af04f894'),\n",
       " 109: ('ecoinvent 2.2', 'fe070a1e60b1f958003ddc0b33b9c8cc'),\n",
       " 110: ('ecoinvent 2.2', 'b26035b6ba58d3f26a87d0106ee659a4'),\n",
       " 111: ('ecoinvent 2.2', 'a663f2e8b018acca030438259052b9df'),\n",
       " 112: ('ecoinvent 2.2', '3799779b2724d625481417d54886a9a6'),\n",
       " 113: ('ecoinvent 2.2', '824dd6e2aa7f33cf9c33749798c00f28'),\n",
       " 114: ('ecoinvent 2.2', '250bf3b1bc82ebf76b6219c5bef8fde6'),\n",
       " 115: ('ecoinvent 2.2', '342c9d18e12837f6717336de27957f7f'),\n",
       " 116: ('ecoinvent 2.2', 'ba59b06709899c7f3b4c2dd6d6789212'),\n",
       " 117: ('ecoinvent 2.2', 'a65dbb3c9690be07c6d364bdc66b7f6c'),\n",
       " 118: ('ecoinvent 2.2', 'fe0a5e78c32830bb819fea4323a944fe'),\n",
       " 119: ('ecoinvent 2.2', 'c701b1856923974a07405546d57c21e6'),\n",
       " 120: ('ecoinvent 2.2', '0ad44822cb5f72e9c64566c625805010'),\n",
       " 121: ('ecoinvent 2.2', '0f80aa1bec5b575afa6716698f746aea'),\n",
       " 122: ('ecoinvent 2.2', '13981a52e6711bceef1644447fcde1c6'),\n",
       " 123: ('ecoinvent 2.2', 'aa5dcfe67d506e55af055f66894a05fa'),\n",
       " 124: ('ecoinvent 2.2', '517868e6ad2373c1cc593b1d774c835c'),\n",
       " 125: ('ecoinvent 2.2', '6093c0e7aa91983c643a400e689ebc00'),\n",
       " 126: ('ecoinvent 2.2', '3ccb5ac0ca91889a454c2d332a9a89a7'),\n",
       " 127: ('ecoinvent 2.2', '7e9c49d6bd8429d902fb666887793f40'),\n",
       " 128: ('ecoinvent 2.2', '9631490f10c59a501fd358b9b759b76b'),\n",
       " 129: ('ecoinvent 2.2', 'c515ddc922d77fbab5eeedeb63cda575'),\n",
       " 130: ('ecoinvent 2.2', '538394736b023999196bd128fc41ab6d'),\n",
       " 131: ('ecoinvent 2.2', '76d5d3b118abab8d6864a8a649b3c1d1'),\n",
       " 132: ('ecoinvent 2.2', '9fd92c4162db531655caa37a002c38bf'),\n",
       " 133: ('ecoinvent 2.2', '80c1eca51f386ffa21c6d1267ab99173'),\n",
       " 134: ('ecoinvent 2.2', '332474c61ebcea75973a12da8b1df4c4'),\n",
       " 135: ('ecoinvent 2.2', '684feee04a93a13ad256a44c65f17beb'),\n",
       " 136: ('ecoinvent 2.2', 'cdbb87e7b2f8375d2928a2b7d1674e9e'),\n",
       " 137: ('ecoinvent 2.2', 'dad8641d7d750a3b29ed9a3028ddfb84'),\n",
       " 138: ('ecoinvent 2.2', '7ae31c6d8d3177a774596aefc4eb63ac'),\n",
       " 139: ('ecoinvent 2.2', 'a7020f83a9c47f73896f5fa89a90e693'),\n",
       " 140: ('ecoinvent 2.2', '174d882e218ce211b389f9ed540e40e9'),\n",
       " 141: ('ecoinvent 2.2', '8ff9179601b93104e530f3a4ab5e13e7'),\n",
       " 142: ('ecoinvent 2.2', '5c092a6b49b01f46036247c4b854e888'),\n",
       " 143: ('ecoinvent 2.2', '0bed58d1ca9f03cbfe33558075736b5f'),\n",
       " 144: ('ecoinvent 2.2', 'ae84b372d3ce07196bae9f815eb41b7a'),\n",
       " 145: ('ecoinvent 2.2', 'ae81a33baeae65ad43587a057a298533'),\n",
       " 146: ('ecoinvent 2.2', '8bf0fa1d783c9a6a8ae3098dcc0eaeb4'),\n",
       " 147: ('ecoinvent 2.2', 'f66129aaa79b7070adbfd335aba09d96'),\n",
       " 148: ('ecoinvent 2.2', '5dc792840ec48ebcb9812b374756a0f3'),\n",
       " 149: ('ecoinvent 2.2', '8a92d9103bc7e4330333335a4a029f12'),\n",
       " 150: ('ecoinvent 2.2', '9c7e3add9b93a550cae7ebbcc292ce30'),\n",
       " 151: ('ecoinvent 2.2', '16eac925846022415cb2b93a867b769f'),\n",
       " 152: ('ecoinvent 2.2', 'e7f11bcfcf9bfc439e40629b28f0fa68'),\n",
       " 153: ('ecoinvent 2.2', '1ea12447cb316b76879679b7fb3b723e'),\n",
       " 154: ('ecoinvent 2.2', '3d173203393e71514299b91f074b04fa'),\n",
       " 155: ('ecoinvent 2.2', '1df143bf6256fee3a97a9b6f615b1c1c'),\n",
       " 156: ('ecoinvent 2.2', '040ff3158a651d8cfb2151a49429ee3d'),\n",
       " 157: ('ecoinvent 2.2', 'd9b3726e6f22a94dc59c0d3fbca71397'),\n",
       " 158: ('ecoinvent 2.2', '9bc5978acbe0f57d66479d8bfec853a7'),\n",
       " 159: ('ecoinvent 2.2', 'd6106a6efd343e4a7c0ef9e8fca10da0'),\n",
       " 160: ('ecoinvent 2.2', 'ebb3d462d754bcbec01d896a2367e790'),\n",
       " 161: ('ecoinvent 2.2', '19748843a0d4802dcb31869ef498ebbd'),\n",
       " 162: ('ecoinvent 2.2', '64d8115f255a0e6dd218546516054de1'),\n",
       " 163: ('ecoinvent 2.2', '1744867b8e1d0d6d6001e80912198d6d'),\n",
       " 164: ('ecoinvent 2.2', 'ce2a6e344c2c195b12c303875d56a004'),\n",
       " 165: ('ecoinvent 2.2', '3ca05a92b619bd5b7fb71350d398b594'),\n",
       " 166: ('ecoinvent 2.2', '9dc526a5fbffd209974f22281aae88fe'),\n",
       " 167: ('ecoinvent 2.2', 'c4871b2ba374d55f31cd0f6f9fbecebd'),\n",
       " 168: ('ecoinvent 2.2', 'bad64d7c5ad05b7bd7c7b8d274976929'),\n",
       " 169: ('ecoinvent 2.2', '551bcf7d17a257afcffdf9ddb6a383c8'),\n",
       " 170: ('ecoinvent 2.2', '10d5a2c6b41309df58745a860c8b5b62'),\n",
       " 171: ('ecoinvent 2.2', '6006a234ffc85c66f8d4351a8e149bc2'),\n",
       " 172: ('ecoinvent 2.2', 'b6dcafa9300441e5813ba792d3c4a1c9'),\n",
       " 173: ('ecoinvent 2.2', '0f2c1aad3e25d15fd111a8d72c31514e'),\n",
       " 174: ('ecoinvent 2.2', '9e31a87c2fb6c1dc8df08a83e8dae942'),\n",
       " 175: ('ecoinvent 2.2', '67de6dd147b53620e5861089650746fb'),\n",
       " 176: ('ecoinvent 2.2', '7f547a028f5f0d66ed880da5edf7a0e9'),\n",
       " 177: ('ecoinvent 2.2', 'e758b78e95bc6bd7b71c63361e292b00'),\n",
       " 178: ('ecoinvent 2.2', '5f040bd0d8322e4b47ef1ea87f9d6a46'),\n",
       " 179: ('ecoinvent 2.2', '63d398e58f6ece7f1fe6716f05256105'),\n",
       " 180: ('ecoinvent 2.2', '6d011c88b982dd5cca25cb8ce8303fdc'),\n",
       " 181: ('ecoinvent 2.2', '3f15fbac0786599470cc96d94e6717d7'),\n",
       " 182: ('ecoinvent 2.2', 'b1309f02888e7677e23c199866c10d57'),\n",
       " 183: ('ecoinvent 2.2', 'e90782cfff3feaebc8339d2a6c0c8451'),\n",
       " 184: ('ecoinvent 2.2', '89053159ee02ccdf84e19f8c74749d53'),\n",
       " 185: ('ecoinvent 2.2', '0a9b3cfea8c2cf4641bd67d1e7cf4447'),\n",
       " 186: ('ecoinvent 2.2', '25ddc7e76cf2c907b2ed111d78905385'),\n",
       " 187: ('ecoinvent 2.2', '25885dd9f06b00c5140c80b33e8430ad'),\n",
       " 188: ('ecoinvent 2.2', '8b7f9e078a5d46d0a96b6460c83a0f13'),\n",
       " 189: ('ecoinvent 2.2', '12e61df1a3c3a6c5b959f6087c602108'),\n",
       " 190: ('ecoinvent 2.2', '1a7446bdd805031efbba389473f41ee5'),\n",
       " 191: ('ecoinvent 2.2', '7bfe58c838219fa89a025b8018809478'),\n",
       " 192: ('ecoinvent 2.2', '1ad9f3fec4cfd209144da495b3960568'),\n",
       " 193: ('ecoinvent 2.2', '93f7c25847fdfa818f8a3cde1c6383b6'),\n",
       " 194: ('ecoinvent 2.2', 'c4fc744a8e2be195c93b6cec63050e57'),\n",
       " 195: ('ecoinvent 2.2', 'f6ebbc6ddb7addf9954bfc9e15253607'),\n",
       " 196: ('ecoinvent 2.2', 'd6970a706aa4d37a95ad5e59ea0ffbc5'),\n",
       " 197: ('ecoinvent 2.2', 'df5c0c27e8d1c360029c070840fa5a31'),\n",
       " 198: ('ecoinvent 2.2', 'e7afaffd3c9a7493cbfe5cee5ee4fad3'),\n",
       " 199: ('ecoinvent 2.2', '1e60b6520f52b8076f5a8c4bcae93eb7'),\n",
       " 200: ('ecoinvent 2.2', '9491f597d2810674eef438594e967197'),\n",
       " 201: ('ecoinvent 2.2', '7953cef96348f0ce0d9e644c6975d457'),\n",
       " 202: ('ecoinvent 2.2', '8b60ed2d585de53364f971010dec466a'),\n",
       " 203: ('ecoinvent 2.2', '1ac1187287def40144d9967f118bc8c2'),\n",
       " 204: ('ecoinvent 2.2', '297af2ca2415793cffba1f3f4a56acdf'),\n",
       " 205: ('ecoinvent 2.2', 'c0ff0664db972b6e7db2630dee3f49d2'),\n",
       " 206: ('ecoinvent 2.2', '992e2aad2b90c4332f4768024f64b97e'),\n",
       " 207: ('ecoinvent 2.2', 'b252aacfedb4a781e18e1e641f4c2b66'),\n",
       " 208: ('ecoinvent 2.2', '4509a8507939457b42382452180b9852'),\n",
       " 209: ('ecoinvent 2.2', '6503be9a57286474127710a971e96a16'),\n",
       " 210: ('ecoinvent 2.2', '4b57edd9b07c98341786d6d1f9e2da68'),\n",
       " 211: ('ecoinvent 2.2', '71732006e8a62d4b0870cd97b2494da7'),\n",
       " 212: ('ecoinvent 2.2', 'f27ae5500743a528a0439b834137cdbe'),\n",
       " 213: ('ecoinvent 2.2', 'b74eb72c2fbffaf1d828c6b862d5d049'),\n",
       " 214: ('ecoinvent 2.2', '2a18b62e70a61f7fef7207a1f44a75b9'),\n",
       " 215: ('ecoinvent 2.2', '9d1ea65c0829fe40206d0230ecea08e6'),\n",
       " 216: ('ecoinvent 2.2', 'ef76918e0d0cdf33cc8c5b7a19d02761'),\n",
       " 217: ('ecoinvent 2.2', 'a8eb1ff3ffeb7ce1e4880b5fcdafbdf2'),\n",
       " 218: ('ecoinvent 2.2', '1fbacf6c3e06c10dc52f263a88e31a10'),\n",
       " 219: ('ecoinvent 2.2', 'fe7b730d3be4bb542f9410dfb8165d6a'),\n",
       " 220: ('ecoinvent 2.2', '890533bfd49e6608a0be9d154ea2fcf1'),\n",
       " 221: ('ecoinvent 2.2', '02192395c783d6e69649481167cb31eb'),\n",
       " 222: ('ecoinvent 2.2', '1911605f44f0f70bc9cf1b4751a97a55'),\n",
       " 223: ('ecoinvent 2.2', '82b210a28347a54f0af567dfc4090b49'),\n",
       " 224: ('ecoinvent 2.2', '3be399f06f9ee1d4ba0f7bf7dad864cf'),\n",
       " 225: ('ecoinvent 2.2', '04433630d92b7836c3380777a7e4b22c'),\n",
       " 226: ('ecoinvent 2.2', '4fd7c95f67a126d46beb561226131eb2'),\n",
       " 227: ('ecoinvent 2.2', 'f7a88834de2f0be7d0098eea75ac2cfb'),\n",
       " 228: ('ecoinvent 2.2', 'd7c7e5e32d891d40f681451900943741'),\n",
       " 229: ('ecoinvent 2.2', 'edac81e810af33bb713bc9fa081ec213'),\n",
       " 230: ('ecoinvent 2.2', '7ea95363e23bcdded1878b7cf4a404be'),\n",
       " 231: ('ecoinvent 2.2', '3d9c8bf8558511bc94d18b2527968a32'),\n",
       " 232: ('ecoinvent 2.2', 'e6f1e32ee5bc84c61018088ba73ab0c8'),\n",
       " 233: ('ecoinvent 2.2', 'e1c90dd53de36b8b0862e4eb1b2b02c7'),\n",
       " 234: ('ecoinvent 2.2', '996182321832d0dddee5e4b55fb59e5a'),\n",
       " 235: ('ecoinvent 2.2', 'd7df0e89997232d97ffed81aba8498ab'),\n",
       " 236: ('ecoinvent 2.2', '05f8511c2ac1ddbb6ed8c7cbcb1cfc0a'),\n",
       " 237: ('ecoinvent 2.2', '41b79bbf59d8f9c92557cb9ece83c18e'),\n",
       " 238: ('ecoinvent 2.2', 'c16e68ff96c67264996abe4b318abdc9'),\n",
       " 239: ('ecoinvent 2.2', 'f7e353e797be96158e6da22509456313'),\n",
       " 240: ('ecoinvent 2.2', '5763416b734f9ffcaaf926166fa7a122'),\n",
       " 241: ('ecoinvent 2.2', 'dfef313535774057213bb24643f26de2'),\n",
       " 242: ('ecoinvent 2.2', 'fec0bc788e9a571ff7b2f2a844ad4cde'),\n",
       " 243: ('ecoinvent 2.2', '5e6ee9343517b916e5bd3fb957234d51'),\n",
       " 244: ('ecoinvent 2.2', '43850ec4f9004e13d0963381f05b36b5'),\n",
       " 245: ('ecoinvent 2.2', '8cef255208d0aeb6aa3f3f83ae8f65e1'),\n",
       " 246: ('ecoinvent 2.2', '161c3f9d89821a60cbad555dd1d6de8f'),\n",
       " 247: ('ecoinvent 2.2', '1146108c63153495759820109a794158'),\n",
       " 248: ('ecoinvent 2.2', '6a2b6e3c69cef831ff28ce4c2b868212'),\n",
       " 249: ('ecoinvent 2.2', 'da3ba22d3ca8a0e9d891ad744542f2d4'),\n",
       " 250: ('ecoinvent 2.2', 'b6e3ed39579b54e3d21555553cf8b2ff'),\n",
       " 251: ('ecoinvent 2.2', '085fbc5d4f6c7eb7b81b1e3ef950cd39'),\n",
       " 252: ('ecoinvent 2.2', 'e48b033eb50ae86b303c80146ae376a5'),\n",
       " 253: ('ecoinvent 2.2', '836dd57a9fceb73c14820e20e69de859'),\n",
       " 254: ('ecoinvent 2.2', '49234fdbef9feea4ff355cfa953ca718'),\n",
       " 255: ('ecoinvent 2.2', 'e42eef7b49c912d183f2364b234bec84'),\n",
       " 256: ('ecoinvent 2.2', '499f2f8857ca5f71cf946d051c348ec9'),\n",
       " 257: ('ecoinvent 2.2', 'a42e0edc5ef3f6163756491cd46c06ae'),\n",
       " 258: ('ecoinvent 2.2', 'c28f87c25e744f3fa0ec306cb58d4fe5'),\n",
       " 259: ('ecoinvent 2.2', 'ec3d11b2dbbbd72316d21f38feb3ee10'),\n",
       " 260: ('ecoinvent 2.2', 'dc2ccf56a8d7800a9861d9533019b0e2'),\n",
       " 261: ('ecoinvent 2.2', 'a6e67d97c19dc3042651ff2dbbbef7a1'),\n",
       " 262: ('ecoinvent 2.2', '23cc77da397e3b4620623d8909cd6c61'),\n",
       " 263: ('ecoinvent 2.2', 'e583b8050cd1d37512805b40d115aaf4'),\n",
       " 264: ('ecoinvent 2.2', '4d5975a30ab35ebed44187ab1650f316'),\n",
       " 265: ('ecoinvent 2.2', '483a95c24e857e171901db1d09732a40'),\n",
       " 266: ('ecoinvent 2.2', '08c7fd03a936666b242cbddda74e5a3e'),\n",
       " 267: ('ecoinvent 2.2', '481c7ca137201b7e19fbc32676334579'),\n",
       " 268: ('ecoinvent 2.2', '7874c50f3f9dac6c6e18d0b7772b01f7'),\n",
       " 269: ('ecoinvent 2.2', 'ee2b741a32bb151f85622d1287eb45b8'),\n",
       " 270: ('ecoinvent 2.2', '36c6ef7d5f8146198dedf7dd1a3a4ae1'),\n",
       " 271: ('ecoinvent 2.2', '8f3fb49bbe1b488ffcae92a85583da94'),\n",
       " 272: ('ecoinvent 2.2', '8e2318e390307befa8077b826e679e04'),\n",
       " 273: ('ecoinvent 2.2', '5a2131e3b95302faf1cf31a324f96697'),\n",
       " 274: ('ecoinvent 2.2', 'f421cb8cc34c4e37a272bbe196bb8ac3'),\n",
       " 275: ('ecoinvent 2.2', 'df53864087a0f65527c9628de2a4d2fa'),\n",
       " 276: ('ecoinvent 2.2', 'd8ccf80332adf50809b0f673715e3df0'),\n",
       " 277: ('ecoinvent 2.2', '0e21ef423f76fd958b37ee7c345cf7c2'),\n",
       " 278: ('ecoinvent 2.2', '184a64907df829c4edd28286c9b3ebba'),\n",
       " 279: ('ecoinvent 2.2', '5deb641661bc53854f0b2e2c4a7dcae8'),\n",
       " 280: ('ecoinvent 2.2', 'f82ad45e649a97af90fa9e3245199c4a'),\n",
       " 281: ('ecoinvent 2.2', '1cac9b53c6a3d24b8ed91f8149944ba2'),\n",
       " 282: ('ecoinvent 2.2', '597b934baf8da777c48521f000655c0e'),\n",
       " 283: ('ecoinvent 2.2', '1f5873107f4ef55d25ee9b6bbcf54e0f'),\n",
       " 284: ('ecoinvent 2.2', '37fdd0271ab277231756699b08f18fa0'),\n",
       " 285: ('ecoinvent 2.2', '85c86774e066d4b1747e302998d67bbf'),\n",
       " 286: ('ecoinvent 2.2', '8a14da03a7149232a4b2ce0bef64b268'),\n",
       " 287: ('ecoinvent 2.2', '9b35e1d84762e553d577a77602185484'),\n",
       " 288: ('ecoinvent 2.2', '586d5b4c051eb6171d8ad69daeca233f'),\n",
       " 289: ('ecoinvent 2.2', '76b0896e2cfae9ec0e76de7bd65f4703'),\n",
       " 290: ('ecoinvent 2.2', '8d0bc3cfb14fe7a5747eacd38cc4cb17'),\n",
       " 291: ('ecoinvent 2.2', '93535debe96a708cfa1106cb84f98fee'),\n",
       " 292: ('ecoinvent 2.2', 'f6b1d512402e05c6a010e4d0511fa1ca'),\n",
       " 293: ('ecoinvent 2.2', 'ee5f8d32f165468e463ad583aa968249'),\n",
       " 294: ('ecoinvent 2.2', '67df2f347347b5799d93eae974a21eef'),\n",
       " 295: ('ecoinvent 2.2', 'fd7fda18cf5ce247491632ee55848390'),\n",
       " 296: ('ecoinvent 2.2', '8b5c1f0cd9b35bfdf065cde5b519ccb0'),\n",
       " 297: ('ecoinvent 2.2', '185e43a1a8cee140693fa69c7835a327'),\n",
       " 298: ('ecoinvent 2.2', '119fab2e59e64630a1b458f4a81b17e2'),\n",
       " 299: ('ecoinvent 2.2', '895711ab0cf9673c314dfc23b2be2795'),\n",
       " 300: ('ecoinvent 2.2', 'ece3f4ce2e8084b7d451f804940f5137'),\n",
       " 301: ('ecoinvent 2.2', '778f0d4382c7f53cab93b9ce6e069a9e'),\n",
       " 302: ('ecoinvent 2.2', '7e4dd1ecba51e0c7a9d4d9413e26d593'),\n",
       " 303: ('ecoinvent 2.2', '4f16486f9b399c3827cbe9eb832121d4'),\n",
       " 304: ('ecoinvent 2.2', '50faf3672498ac6160e817c5472bfa8d'),\n",
       " 305: ('ecoinvent 2.2', 'caad6a3e17c390ce126e4159f12ee807'),\n",
       " 306: ('ecoinvent 2.2', 'ac48b663b20eaee71275bb10a628be1a'),\n",
       " 307: ('ecoinvent 2.2', '058de1ed76a77309d8ef9c97dfa7187e'),\n",
       " 308: ('ecoinvent 2.2', '28cd886d78efbeac8a11c891bb4188b1'),\n",
       " 309: ('ecoinvent 2.2', 'afa246182b999e5271ebda8d9966d22c'),\n",
       " 310: ('ecoinvent 2.2', '2cdf122ec24096dc4d750b09034f482d'),\n",
       " 311: ('ecoinvent 2.2', 'fa0eae228814389e26f657e680a44bd2'),\n",
       " 312: ('ecoinvent 2.2', '7a39fab5eb1f2be457c1df1738b33686'),\n",
       " 313: ('ecoinvent 2.2', '534221d7c956443e189e1b21693b6a74'),\n",
       " 314: ('ecoinvent 2.2', '640ec581edfeadbc6dc664977aae04d8'),\n",
       " 315: ('ecoinvent 2.2', '04642e5132af9468646bd54ad5adb85f'),\n",
       " 316: ('ecoinvent 2.2', '6f5b2b9b309d984d80b2b60434d400a6'),\n",
       " 317: ('ecoinvent 2.2', '0f6e406d7d5cf22e08a5c834b118f6bd'),\n",
       " 318: ('ecoinvent 2.2', '885c156ea6d41696947f5e155c25f944'),\n",
       " 319: ('ecoinvent 2.2', '15dcdccb2478a171152ed2e8260a1e2b'),\n",
       " 320: ('ecoinvent 2.2', 'cfc52ad6a567c8397f48942197b9af2e'),\n",
       " 321: ('ecoinvent 2.2', 'f11da7e0ea87fb2a976ba82453fde6da'),\n",
       " 322: ('ecoinvent 2.2', 'e31c6b55c4cb17ea0c9b708d89aac53e'),\n",
       " 323: ('ecoinvent 2.2', '845ac3c3d809f2f8552726abadbf276a'),\n",
       " 324: ('ecoinvent 2.2', '126e60b794cbb4176efaf123f0d5dd00'),\n",
       " 325: ('ecoinvent 2.2', '659163d5c37ff889ea6a0c004e478672'),\n",
       " 326: ('ecoinvent 2.2', '9d80f6f7eddb5557aae0ddccdcd50cc5'),\n",
       " 327: ('ecoinvent 2.2', '871dc0f04ae61a1623de6b438d15531b'),\n",
       " 328: ('ecoinvent 2.2', 'e90f5aaf474862fa090d909c76500ce3'),\n",
       " 329: ('ecoinvent 2.2', '3fc7eca1fc56493bddcddc5ee33e57cf'),\n",
       " 330: ('ecoinvent 2.2', 'bb1d74a55f9dceef15c0115fef76be07'),\n",
       " 331: ('ecoinvent 2.2', 'bbcfd3a4836f56b5fd695f44587145a9'),\n",
       " 332: ('ecoinvent 2.2', '3158be430c2138f7152fcf635d4d0c13'),\n",
       " 333: ('ecoinvent 2.2', 'f65dbbb6a80f76f95c556016d19e92be'),\n",
       " 334: ('ecoinvent 2.2', 'b683d440758f972770ed62428145c5c2'),\n",
       " 335: ('ecoinvent 2.2', '3a993b06a1cc875ff5cc0cff86adc430'),\n",
       " 336: ('ecoinvent 2.2', '655aa3f308ebe813e39fcff27a1132bd'),\n",
       " 337: ('ecoinvent 2.2', '4b7723057be2d4e57cfb44988eec3c81'),\n",
       " 338: ('ecoinvent 2.2', 'cc8c5d43271036f35ff2c3589aac5990'),\n",
       " 339: ('ecoinvent 2.2', '0179482ec36bab63ffd8848c22449431'),\n",
       " 340: ('ecoinvent 2.2', 'abdc8125abba51189de07696dae86260'),\n",
       " 341: ('ecoinvent 2.2', 'cd00c89b23f2088a1f1ed9525c718c77'),\n",
       " 342: ('ecoinvent 2.2', '7523159c273e8af7d7b1023fecc62e3b'),\n",
       " 343: ('ecoinvent 2.2', 'e837c5a403cb9b212dae5924ea0c0b1a'),\n",
       " 344: ('ecoinvent 2.2', 'cdb298cdc72ae9257d9069d168debad0'),\n",
       " 345: ('ecoinvent 2.2', 'de189230e80c818d09b6fa38af20ff0e'),\n",
       " 346: ('ecoinvent 2.2', 'cd23e143a7e4eacbce204e3d7d8fc6c5'),\n",
       " 347: ('ecoinvent 2.2', '775de7a7997c733c380ecf62684e0734'),\n",
       " 348: ('ecoinvent 2.2', 'bb6aa672ea128d91c7a798a7287d8278'),\n",
       " 349: ('ecoinvent 2.2', '4ffd9ad1502900ce35d43770af718367'),\n",
       " 350: ('ecoinvent 2.2', '8031a4ab903f8ef113c5c962e1271a85'),\n",
       " 351: ('ecoinvent 2.2', '8093be65fea830b1136e0bdd5cefef36'),\n",
       " 352: ('ecoinvent 2.2', 'ed18a4c6617574036dfac623169f452f'),\n",
       " 353: ('ecoinvent 2.2', '806c5c5143b66f9a9756182570123400'),\n",
       " 354: ('ecoinvent 2.2', '7f55cf4118d9ad2269d9fb24be2f2483'),\n",
       " 355: ('ecoinvent 2.2', 'd930c4588e71772fb1eecf23e7feff2c'),\n",
       " 356: ('ecoinvent 2.2', '31c4ba077fc0316e741d90515d27896a'),\n",
       " 357: ('ecoinvent 2.2', 'da51eeabcaf60e3fd26e792904915d93'),\n",
       " 358: ('ecoinvent 2.2', '2621b2e2215ea545b8275dff8fa656b5'),\n",
       " 359: ('ecoinvent 2.2', 'bb6c9317d55b34d185e8271765ced58e'),\n",
       " 360: ('ecoinvent 2.2', '09e674c545c4a341953e3d8fc63e289a'),\n",
       " 361: ('ecoinvent 2.2', '0fd4bf919f1895d4bb64ae62e9897476'),\n",
       " 362: ('ecoinvent 2.2', 'f947f346508143bc9a53c3b9bb8db6a5'),\n",
       " 363: ('ecoinvent 2.2', '9a23f08340aa76e3a229603b60bc5356'),\n",
       " 364: ('ecoinvent 2.2', 'c0ee937cd418a33d2e2b8c4c22c029bb'),\n",
       " 365: ('ecoinvent 2.2', 'e6e9a53ca15507ea71cd7b9144eb8ca6'),\n",
       " 366: ('ecoinvent 2.2', '54885fd4e2aea4a82a2a5e37aec753b5'),\n",
       " 367: ('ecoinvent 2.2', '1efc7eca88e904b3c99fbf5f749dc208'),\n",
       " 368: ('ecoinvent 2.2', 'fc5990ed6d4c2fb25eeb3ba1b2ec7150'),\n",
       " 369: ('ecoinvent 2.2', '2504c2520b68c75556fca947e643a661'),\n",
       " 370: ('ecoinvent 2.2', 'ea5488617bcaf2301f963b6e47e43fb9'),\n",
       " 371: ('ecoinvent 2.2', 'd61a93269a92306458694bab96b402d7'),\n",
       " 372: ('ecoinvent 2.2', '7ce88a908ddefa4f0d4fae5d2d6ae760'),\n",
       " 373: ('ecoinvent 2.2', 'd868daa6f62cb7c86a3fa90285c89083'),\n",
       " 374: ('ecoinvent 2.2', '6a61dcff126cda2d9910a4f5fe84a7e6'),\n",
       " 375: ('ecoinvent 2.2', '5bcaf9905b49210274511bec22a2a943'),\n",
       " 376: ('ecoinvent 2.2', 'f3ac02c8141230a583e98c347555fded'),\n",
       " 377: ('ecoinvent 2.2', 'beb73c4c17a47c0f762e545dc69858cf'),\n",
       " 378: ('ecoinvent 2.2', '4e9805af9b59c28974819308292d96db'),\n",
       " 379: ('ecoinvent 2.2', '0a94af70fd4fb79aafdc256213fba08e'),\n",
       " 380: ('ecoinvent 2.2', '6c6e85044c0394b6a4a031e7050a2654'),\n",
       " 381: ('ecoinvent 2.2', '76b987eeb762ee8a6057219e20916ed0'),\n",
       " 382: ('ecoinvent 2.2', '0645000eaaa45327a850a3a2520b634c'),\n",
       " 383: ('ecoinvent 2.2', 'b163aecc0f95bcd355e1b8226ea4a23f'),\n",
       " 384: ('ecoinvent 2.2', 'bf0402b1618784c077fabe7179ef2066'),\n",
       " 385: ('ecoinvent 2.2', 'f7e67afd522d4549dd6af5b2deeeaf22'),\n",
       " 386: ('ecoinvent 2.2', '075c19f49d2bdb362b98432f0bca29a3'),\n",
       " 387: ('ecoinvent 2.2', '526c9f2c0db5b171074811801706e0f3'),\n",
       " 388: ('ecoinvent 2.2', '1f0ea02c41d430a56258491109ef6140'),\n",
       " 389: ('ecoinvent 2.2', '8c11b883cf03fadeab33cf3ea56cabfe'),\n",
       " 390: ('ecoinvent 2.2', 'c65407718d7dc7e636229d8f664c5ec5'),\n",
       " 391: ('ecoinvent 2.2', '8f0f5c19b903963a1f5c75fbdeaaa7d9'),\n",
       " 392: ('ecoinvent 2.2', '64cab23754b16664c63884066566c8fd'),\n",
       " 393: ('ecoinvent 2.2', '5a846e97392cac793ff4841ec1d4e2b2'),\n",
       " 394: ('ecoinvent 2.2', 'fbaca48230b737472a4bb4ce20fbda04'),\n",
       " 395: ('ecoinvent 2.2', 'e384ba53adde5b6eb97e9bca2ac0d44c'),\n",
       " 396: ('ecoinvent 2.2', '5c5b7448072c6b05725cdbc4a34b5d42'),\n",
       " 397: ('ecoinvent 2.2', 'c5fcac9f05cea496ec7d493661ccb5bd'),\n",
       " 398: ('ecoinvent 2.2', 'a568e17d4ed4656dc93cd65567fd8004'),\n",
       " 399: ('ecoinvent 2.2', '4933753197cee678db3a8f7a0507ff1b'),\n",
       " 400: ('ecoinvent 2.2', 'b79dbeb05a4ce0124f171b34d86697ba'),\n",
       " 401: ('ecoinvent 2.2', 'd7f3bd592e0908fadd89d69c5fb29583'),\n",
       " 402: ('ecoinvent 2.2', 'f1e9c7d150bdfe59328707101c8eeb67'),\n",
       " 403: ('ecoinvent 2.2', '37d7da64b17a096b0e6c7a26e43bdf2b'),\n",
       " 404: ('ecoinvent 2.2', '590d7abbf11ce1f16947845f3ea69730'),\n",
       " 405: ('ecoinvent 2.2', 'ff134b72426f9f7ffdc65fed7972a286'),\n",
       " 406: ('ecoinvent 2.2', '0f6aef297f18eb2f06a74f73f08f7a1a'),\n",
       " 407: ('ecoinvent 2.2', 'e83447d32f973de917f154987757cc45'),\n",
       " 408: ('ecoinvent 2.2', 'a40198d2ef441486f27c8665caee8d4d'),\n",
       " 409: ('ecoinvent 2.2', '3b689a7d7d170b0e95c8fb5663b92c56'),\n",
       " 410: ('ecoinvent 2.2', 'df7299ef3b758e7178827b91da507217'),\n",
       " 411: ('ecoinvent 2.2', '888d03b11c9969a7200c51e0f6193de0'),\n",
       " 412: ('ecoinvent 2.2', '06f8fefafe591568c9ec311bb32a9580'),\n",
       " 413: ('ecoinvent 2.2', 'cd621da1d37e73e7bc52c5f8d65d0c20'),\n",
       " 414: ('ecoinvent 2.2', 'c86ab5f257f045853ffdad00c3792a12'),\n",
       " 415: ('ecoinvent 2.2', '8a899de2888ebade9b249db9fa61321c'),\n",
       " 416: ('ecoinvent 2.2', 'fc4e674723119d647e6e36710d607986'),\n",
       " 417: ('ecoinvent 2.2', '39c435fcad44e0fa2c3cfef3f7f0a1b5'),\n",
       " 418: ('ecoinvent 2.2', 'ade6561e3ec9ed2b1e8090f223334602'),\n",
       " 419: ('ecoinvent 2.2', '72f50529c60755d5971362d48e83e674'),\n",
       " 420: ('ecoinvent 2.2', 'a534d915634977a0d71b8b95f12c6150'),\n",
       " 421: ('ecoinvent 2.2', 'b8b1e69993f11ae92be2d1104aa45cae'),\n",
       " 422: ('ecoinvent 2.2', 'b5f993119ccbd322574ef2570d685a87'),\n",
       " 423: ('ecoinvent 2.2', 'd1fa3d4e699d875d637327f2802154c3'),\n",
       " 424: ('ecoinvent 2.2', 'e7f4bac4063f9622accb360a27eba706'),\n",
       " 425: ('ecoinvent 2.2', '3014d34db832411910b61df03cd78d90'),\n",
       " 426: ('ecoinvent 2.2', '6e2d8ab6f4739e0637a77101f2381569'),\n",
       " 427: ('ecoinvent 2.2', '68389b334e5098d5b11fda93fae226f2'),\n",
       " 428: ('ecoinvent 2.2', '9440fbb4685c8b4877c1bd096b65695f'),\n",
       " 429: ('ecoinvent 2.2', 'ea1e182643722c9f172df231acbdc731'),\n",
       " 430: ('ecoinvent 2.2', '684b64e9abd556c378d84d160a11be83'),\n",
       " 431: ('ecoinvent 2.2', '0f97fffecef94890934b7340393952f1'),\n",
       " 432: ('ecoinvent 2.2', 'a72ee2f1f9cf62aa0b455655af4e9c93'),\n",
       " 433: ('ecoinvent 2.2', '7d60c1518fcaafc81cb122cc1f8b8926'),\n",
       " 434: ('ecoinvent 2.2', '48f3c9d26a87e3a810b167a5c51a9bd3'),\n",
       " 435: ('ecoinvent 2.2', '07c2134e79a1f117f99aac0931746403'),\n",
       " 436: ('ecoinvent 2.2', '4bf6ae650a8d39983998ed944ee0bf51'),\n",
       " 437: ('ecoinvent 2.2', '052a083252118103af33955761fcc6d4'),\n",
       " 438: ('ecoinvent 2.2', '3339927995484a719ac12282b693d3ee'),\n",
       " 439: ('ecoinvent 2.2', '9115cbe6ebd11b3bb837e7c3253463e0'),\n",
       " 440: ('ecoinvent 2.2', '1720072b5708f3b7c6eedf12614d6ed2'),\n",
       " 441: ('ecoinvent 2.2', 'e7a76b924a134964f12f1f5128a28dbc'),\n",
       " 442: ('ecoinvent 2.2', '7864b9fb8c3c382909c6aacaff607ade'),\n",
       " 443: ('ecoinvent 2.2', '27fa0df59c63bd807cd79903924ce4db'),\n",
       " 444: ('ecoinvent 2.2', 'f126a63395ec53bae278b4f56c97c605'),\n",
       " 445: ('ecoinvent 2.2', 'ae82d8bf701ce970fcd0f2b480ff1531'),\n",
       " 446: ('ecoinvent 2.2', '3789025194fd6bf9f5c5c86e417ef123'),\n",
       " 447: ('ecoinvent 2.2', '29f9f5007c0bc5d7393f6b1b1037b907'),\n",
       " 448: ('ecoinvent 2.2', '0f27504e5829bf09fc4bda25ac29890d'),\n",
       " 449: ('ecoinvent 2.2', '69436cfa1f90afccf0e063df20453efb'),\n",
       " 450: ('ecoinvent 2.2', 'f11e98a94d3f2584bbc90d9b0a3bf580'),\n",
       " 451: ('ecoinvent 2.2', 'f3977c727be500585ed821f1d58083bf'),\n",
       " 452: ('ecoinvent 2.2', 'ed95ff944e3fee5286ce3736775cf107'),\n",
       " 453: ('ecoinvent 2.2', '39b34477dcf5131bdfe93e724cb2b871'),\n",
       " 454: ('ecoinvent 2.2', '92c0f0330a20b35803e3eda674b8c72a'),\n",
       " 455: ('ecoinvent 2.2', 'f80c2674b2a3ea5f51656576394ce212'),\n",
       " 456: ('ecoinvent 2.2', '1206cba2e542ac959e8bea409558f87b'),\n",
       " 457: ('ecoinvent 2.2', 'd03820d95d1536214b7b84e16a872a76'),\n",
       " 458: ('ecoinvent 2.2', 'be7cdb8838fbfca1f5c876dd9e35abfd'),\n",
       " 459: ('ecoinvent 2.2', '146b801d064f80bdc3717f3dfbca9705'),\n",
       " 460: ('ecoinvent 2.2', '581c0c71964c4458f4a63f5e1541cca6'),\n",
       " 461: ('ecoinvent 2.2', '9d91aba946f4bd8b2bab33ddef6bc347'),\n",
       " 462: ('ecoinvent 2.2', '41e6eac63549a24cc19350c71d01b0d6'),\n",
       " 463: ('ecoinvent 2.2', '5c3fd617b8c1b52d8632bc6529ff880f'),\n",
       " 464: ('ecoinvent 2.2', 'caf29350284fb879f9757f19ef168c48'),\n",
       " 465: ('ecoinvent 2.2', '6c83c7090535183d9edb76aec73a9d91'),\n",
       " 466: ('ecoinvent 2.2', 'b43eb9c7c0d34c2cfc6f4d07d2c2e01a'),\n",
       " 467: ('ecoinvent 2.2', 'f67b665421e92f8a9bcfd45f7b812bb6'),\n",
       " 468: ('ecoinvent 2.2', '32a7544c0cd6ee14e71be0d557d9f268'),\n",
       " 469: ('ecoinvent 2.2', '29bdcc0c0fe098b7a7d66f701ade256b'),\n",
       " 470: ('ecoinvent 2.2', '858490232b064dd1117b9386cb6a5248'),\n",
       " 471: ('ecoinvent 2.2', '77c808c47d0289507ac0a3b99537d1cc'),\n",
       " 472: ('ecoinvent 2.2', '3efb207cbd5826abb8b3bdc7dc60c329'),\n",
       " 473: ('ecoinvent 2.2', '36d837a6e19ee10e8ae5deed501ea76c'),\n",
       " 474: ('ecoinvent 2.2', '5fdf225f3e2c35db43fa627897f3d447'),\n",
       " 475: ('ecoinvent 2.2', '81b87b9385a16861de7fdaf8990a9c7e'),\n",
       " 476: ('ecoinvent 2.2', '2bdaca11e8122c845c4901462d43c5de'),\n",
       " 477: ('ecoinvent 2.2', 'aa5b1e5965df3f37eb0467ec5d85e8b6'),\n",
       " 478: ('ecoinvent 2.2', 'a972189429b7e2672a36265df9cfeed2'),\n",
       " 479: ('ecoinvent 2.2', '294ffde1fc7c56e4b8591c26e36bc9d0'),\n",
       " 480: ('ecoinvent 2.2', '681f78e52f78a4bf570c7af99587a1b5'),\n",
       " 481: ('ecoinvent 2.2', '7661ffd0a7538eb63509a29f31fcea57'),\n",
       " 482: ('ecoinvent 2.2', 'd85a35f26663e03432a657f4ee66684e'),\n",
       " 483: ('ecoinvent 2.2', '123c0f8d0944395657cfc28e6b2994b4'),\n",
       " 484: ('ecoinvent 2.2', '8f461b005b65c29b93f58466062d5ed2'),\n",
       " 485: ('ecoinvent 2.2', 'cb6c48b6c940004f31eb018628126269'),\n",
       " 486: ('ecoinvent 2.2', 'b22b9e7a90e0740b6a01c608d83d1b45'),\n",
       " 487: ('ecoinvent 2.2', 'cc064979c3b04412e756e2ca4f4f1732'),\n",
       " 488: ('ecoinvent 2.2', '9e0aa781524975bdf4f5c92a668c5eb8'),\n",
       " 489: ('ecoinvent 2.2', 'fd9e5ad68da304501b0da534a50b040a'),\n",
       " 490: ('ecoinvent 2.2', 'ef6a7d8300d5aaec95c6a19124fc063c'),\n",
       " 491: ('ecoinvent 2.2', 'e91d007fa06eda39a4148e5e11cbf032'),\n",
       " 492: ('ecoinvent 2.2', 'c028a331b2ce1cd30ce326c3ba284a62'),\n",
       " 493: ('ecoinvent 2.2', '39fe4eef9326a5da73d83020b0182839'),\n",
       " 494: ('ecoinvent 2.2', 'dceae8fcd968f061581be0ad92e4bf0b'),\n",
       " 495: ('ecoinvent 2.2', '88ce5f3bb00055826838734b9dd768f7'),\n",
       " 496: ('ecoinvent 2.2', '96593609d4c9b3b93cfa7ab1fe8976b3'),\n",
       " 497: ('ecoinvent 2.2', '4170fb0d4eff0e8861bc5efcba0311d7'),\n",
       " 498: ('ecoinvent 2.2', 'd9953ec9dbd91450d51f7b17477bf0d7'),\n",
       " 499: ('ecoinvent 2.2', '2cd07cad7a11abb0d39bf7132bc3cf7d'),\n",
       " 500: ('ecoinvent 2.2', 'b79edfe643b79b6a19a59008d0c32433'),\n",
       " 501: ('ecoinvent 2.2', '0fe1bf4b8b187bbea3895664cc4d35fc'),\n",
       " 502: ('ecoinvent 2.2', 'd68664ffe8a5a1920089b6f039682801'),\n",
       " 503: ('ecoinvent 2.2', 'eddd01750b4369a3617c9deac40e2f70'),\n",
       " 504: ('ecoinvent 2.2', '63512011ea38c92a139b9dec4f45f535'),\n",
       " 505: ('ecoinvent 2.2', '5a6116d95c5fa3193ed2b018fb377293'),\n",
       " 506: ('ecoinvent 2.2', '88346ee52a6e38ed16565173461cfef6'),\n",
       " 507: ('ecoinvent 2.2', 'a24ae226ffec7665a6bedf153247e9fb'),\n",
       " 508: ('ecoinvent 2.2', 'd6fb4d3b9f83c38696d8d7b5dd1050aa'),\n",
       " 509: ('ecoinvent 2.2', '2274001fec9d08a8c832ad10be09586e'),\n",
       " 510: ('ecoinvent 2.2', '43e0a94fe410aba99e86e883d9847689'),\n",
       " 511: ('ecoinvent 2.2', '65c28aecf660cd3aec08b128b55b19a0'),\n",
       " 512: ('ecoinvent 2.2', '345fa12c1a53b37089672f22d369734c'),\n",
       " 513: ('ecoinvent 2.2', '2701c9994dff596968be10369a25fc71'),\n",
       " 514: ('ecoinvent 2.2', 'a7e292075851329434ce8cf4b51c5b48'),\n",
       " 515: ('ecoinvent 2.2', 'ae0109eafe0d28b6f934606e28304434'),\n",
       " 516: ('ecoinvent 2.2', 'f363a71d2df71320945b5e80e91f4f41'),\n",
       " 517: ('ecoinvent 2.2', '8b9f54b67763c3006f190d03fb7351f8'),\n",
       " 518: ('ecoinvent 2.2', '8088c291abb203425d86ee83ffdafb7c'),\n",
       " 519: ('ecoinvent 2.2', 'fac58e7fc05bdc5c692c9acaceea5709'),\n",
       " 520: ('ecoinvent 2.2', 'bfefdac33eb24b41fa6f1267a6fd26c8'),\n",
       " 521: ('ecoinvent 2.2', '7fa9dfa629b8f71a8996c8e27ec4c248'),\n",
       " 522: ('ecoinvent 2.2', 'f55836b491d39bedda5876ef557b8521'),\n",
       " 523: ('ecoinvent 2.2', 'ac5ad57713527fa82e759ca2324e10b6'),\n",
       " 524: ('ecoinvent 2.2', 'fc96b5fdd7c05a70bc8f58a2aad26ea7'),\n",
       " 525: ('ecoinvent 2.2', '13870e478956a7c7c9eac7631d937eec'),\n",
       " 526: ('ecoinvent 2.2', 'bbcae68f4b8a307ffe134bcbfcf0d996'),\n",
       " 527: ('ecoinvent 2.2', '5e4f5dc86d9cd8695335f8f79758116b'),\n",
       " 528: ('ecoinvent 2.2', '2f2e985f30a89c22de4cd936cff4e030'),\n",
       " 529: ('ecoinvent 2.2', '78079490ee2c3fd51724730d83d78322'),\n",
       " 530: ('ecoinvent 2.2', 'f82dd8a318b85e7a5e29742ccb335acf'),\n",
       " 531: ('ecoinvent 2.2', 'f97903cccc13d7e9f04047c5c67f8cf7'),\n",
       " 532: ('ecoinvent 2.2', 'b8f3ce5aa768b39707347d2d4a3ca26a'),\n",
       " 533: ('ecoinvent 2.2', '8b6dd149eb15ed9099a3a3c7a0c8120c'),\n",
       " 534: ('ecoinvent 2.2', '3e35050d0c2d875926221be65ad79592'),\n",
       " 535: ('ecoinvent 2.2', '8d949382ae237e6cdfffadc193804e3f'),\n",
       " 536: ('ecoinvent 2.2', 'ff7572180b8901f4247238ce9badce14'),\n",
       " 537: ('ecoinvent 2.2', '7516d45fd0d14703287aee2ee3da4dce'),\n",
       " 538: ('ecoinvent 2.2', '6068694945876a175a3c75c094e5197a'),\n",
       " 539: ('ecoinvent 2.2', '9c3a7ad12f82f7f7eab9929af494b04a'),\n",
       " 540: ('ecoinvent 2.2', 'c088d4affff6e2b60396e63a0bf40767'),\n",
       " 541: ('ecoinvent 2.2', '041d7c95da3974b9fcbb09196c0c513b'),\n",
       " 542: ('ecoinvent 2.2', 'f2cb29b70558b2351a5414dbdaf68f33'),\n",
       " 543: ('ecoinvent 2.2', 'f7a3e37c0846bdd1fb0b045e4dd9791e'),\n",
       " 544: ('ecoinvent 2.2', '059c3c67f2f563434646c9b99741f66f'),\n",
       " 545: ('ecoinvent 2.2', 'a9b8c4283cf81a8fe1a99e2616d82ce4'),\n",
       " 546: ('ecoinvent 2.2', '308c7b075abd476277f74953473c22dd'),\n",
       " 547: ('ecoinvent 2.2', 'b342bd1a74c57843118b4e8919f2818e'),\n",
       " 548: ('ecoinvent 2.2', 'bfa28f591d218bdd865e49a80f2fd257'),\n",
       " 549: ('ecoinvent 2.2', '8bbbebb188effd8ceb914482256454ba'),\n",
       " 550: ('ecoinvent 2.2', 'a1127012a6230c5357e5d6a398161c07'),\n",
       " 551: ('ecoinvent 2.2', '946c6564e5f2fe2c5ea33a5d1d70d162'),\n",
       " 552: ('ecoinvent 2.2', '1699bd0d308c0adc53b99032de943d74'),\n",
       " 553: ('ecoinvent 2.2', 'b0e54709e80b5c52a399434605985bd4'),\n",
       " 554: ('ecoinvent 2.2', '257c281acf9c748b9eaff84846200cc6'),\n",
       " 555: ('ecoinvent 2.2', '432f08b9fc514c2b1caa3bfa492128b6'),\n",
       " 556: ('ecoinvent 2.2', '02fb5a93b27076534dcaef0858b6a42f'),\n",
       " 557: ('ecoinvent 2.2', 'd1aa888a16ab711e0a4b4a0b3ee56e6e'),\n",
       " 558: ('ecoinvent 2.2', '69377af886c61ae92319d88d791faca8'),\n",
       " 559: ('ecoinvent 2.2', '30a752bdf02386283faeb77866a70fc9'),\n",
       " 560: ('ecoinvent 2.2', '68bd303617d8ce7612e0de940fb9aeb3'),\n",
       " 561: ('ecoinvent 2.2', 'f15e8615f99414d9d50ce652fc828327'),\n",
       " 562: ('ecoinvent 2.2', 'b89fb46a0bf6b80747b2c200ebcc51ef'),\n",
       " 563: ('ecoinvent 2.2', 'c570d89db68ff8b2575310c8b516e62d'),\n",
       " 564: ('ecoinvent 2.2', '3ad8f9b14dfad2485237591369437996'),\n",
       " 565: ('ecoinvent 2.2', '75744716eccd02bf7df6cfcd102e9ab3'),\n",
       " 566: ('ecoinvent 2.2', 'b9800fa22f41cd31e322683f7cad7011'),\n",
       " 567: ('ecoinvent 2.2', 'd3d3286f9cb9d79acc34d08f03ba7d5f'),\n",
       " 568: ('ecoinvent 2.2', '9c0853853016146743f749cb70a5592b'),\n",
       " 569: ('ecoinvent 2.2', 'e3771a7e38cc43b02ed68b96601e1fad'),\n",
       " 570: ('ecoinvent 2.2', 'ed87caffc015b8eb5f8a13d4d4e2a60e'),\n",
       " 571: ('ecoinvent 2.2', 'c76794ce835c72888903fb6108c877e5'),\n",
       " 572: ('ecoinvent 2.2', 'b00b0fa5f8ad899f23f4d09de5bd8461'),\n",
       " 573: ('ecoinvent 2.2', '83f0f53b7d9d0bb78cd2b530c95439ad'),\n",
       " 574: ('ecoinvent 2.2', '4820195ef4c93d244ecaf7519507fc52'),\n",
       " 575: ('ecoinvent 2.2', '2224a0563aaf9662971658f1f1860323'),\n",
       " 576: ('ecoinvent 2.2', '4ca2782748bb7c4604cfdadc47b140fa'),\n",
       " 577: ('ecoinvent 2.2', '5d1cbb8c092094b6908c9a4b157d5b5d'),\n",
       " 578: ('ecoinvent 2.2', '1a5e7b4f1dc5d5769c28f25217392b8c'),\n",
       " 579: ('ecoinvent 2.2', '65f047c411f94f5d2928131e0e82f118'),\n",
       " 580: ('ecoinvent 2.2', '4e90879ea9437979741dacbdd01cf2aa'),\n",
       " 581: ('ecoinvent 2.2', '9478bfef600c0550a5853df87e1a73ad'),\n",
       " 582: ('ecoinvent 2.2', 'b4ce86662526c5bc4f3343f2c57530a1'),\n",
       " 583: ('ecoinvent 2.2', '0d7d81112b61c20bcb7b3510209881db'),\n",
       " 584: ('ecoinvent 2.2', '629d24c86d01e0f97ba72a08a6a30c99'),\n",
       " 585: ('ecoinvent 2.2', '0734bdde5a3d0979e4826ac11c2df989'),\n",
       " 586: ('ecoinvent 2.2', '671c8f5362e6832da9ab785313e52f88'),\n",
       " 587: ('ecoinvent 2.2', 'c809f46df6b16f293d44c39779e79d8f'),\n",
       " 588: ('ecoinvent 2.2', '4f5daaffb41a89d6dc02aaa8806f354e'),\n",
       " 589: ('ecoinvent 2.2', '21f4629d57d18c724de84c15e05dc3e4'),\n",
       " 590: ('ecoinvent 2.2', '9beb6276af4e705043c84dce0222ff97'),\n",
       " 591: ('ecoinvent 2.2', 'b54e05e77962bd64e0ace2ff7f66d7d4'),\n",
       " 592: ('ecoinvent 2.2', '99d2906d9533b8a191e280f0aa98a107'),\n",
       " 593: ('ecoinvent 2.2', '90657f8dae7752d12209df06bc972556'),\n",
       " 594: ('ecoinvent 2.2', 'ecece53f3e97431e2f2525073c79b034'),\n",
       " 595: ('ecoinvent 2.2', 'baa4630f9fbe08b1dc41e02c0bbf16db'),\n",
       " 596: ('ecoinvent 2.2', '250ca25a68ea133357d8b48208922f33'),\n",
       " 597: ('ecoinvent 2.2', 'f012a99ea48fca216d0034999a31eb10'),\n",
       " 598: ('ecoinvent 2.2', '3c5c24d8f55941fe48775ebfd0c1aa7e'),\n",
       " 599: ('ecoinvent 2.2', 'a4d348122df98204f151c81b66dfe60d'),\n",
       " 600: ('ecoinvent 2.2', '63bb36bea4ce3a9a36931ed70f073f5f'),\n",
       " 601: ('ecoinvent 2.2', 'c70cbb3bc0338448822d059e33bebd9c'),\n",
       " 602: ('ecoinvent 2.2', 'f25c211e7466e915e155d7720805667d'),\n",
       " 603: ('ecoinvent 2.2', '05096630b6a9937cb0b818a59945b3b0'),\n",
       " 604: ('ecoinvent 2.2', 'c4e5be1ebf864b44b99c0a1774983931'),\n",
       " 605: ('ecoinvent 2.2', 'd3c62432e6b0e394c04afd6c259d6956'),\n",
       " 606: ('ecoinvent 2.2', '65177bf04972b46bd5b3ca47c227d2bb'),\n",
       " 607: ('ecoinvent 2.2', 'e79ae75a4194c3399df687ef01060ebd'),\n",
       " 608: ('ecoinvent 2.2', 'c3db272da7810c33922b99e4319deb52'),\n",
       " 609: ('ecoinvent 2.2', 'c7ccff2f22c56edb8a247b168bb8d6a8'),\n",
       " 610: ('ecoinvent 2.2', 'cda4afd6608dd2c8f7332627abb66dd6'),\n",
       " 611: ('ecoinvent 2.2', '41dca2bb382bf47393bc499b0ad4464c'),\n",
       " 612: ('ecoinvent 2.2', '5c4fb994a96e059398585222a8ef0e1c'),\n",
       " 613: ('ecoinvent 2.2', 'ec981c39ad6020402510927dce564b4b'),\n",
       " 614: ('ecoinvent 2.2', '5af6814eaf7c4b66945827af8bd1c58b'),\n",
       " 615: ('ecoinvent 2.2', 'bbb4381258026bade3f6c2be6435f901'),\n",
       " 616: ('ecoinvent 2.2', 'e6b0e550e8df441c4f775a2fd3be425d'),\n",
       " 617: ('ecoinvent 2.2', '47741fb0b8b8e7b4b6238c18d1f6840e'),\n",
       " 618: ('ecoinvent 2.2', '1a0c667ae46a2398d7dff3b66f4645be'),\n",
       " 619: ('ecoinvent 2.2', 'e4d3b4132acf7ce7a08cc8bfd54414fa'),\n",
       " 620: ('ecoinvent 2.2', 'c9d70f6b471050c0717d99bde5d674e1'),\n",
       " 621: ('ecoinvent 2.2', '3470efdd08622ca511810fe9a162a5e7'),\n",
       " 622: ('ecoinvent 2.2', '7dbf64720b7305ff6ae775e1020e769b'),\n",
       " 623: ('ecoinvent 2.2', '266d5613e2b068b79f7d2b2d31a26747'),\n",
       " 624: ('ecoinvent 2.2', '8e150675bfcb530907c7360b43b00cb9'),\n",
       " 625: ('ecoinvent 2.2', '4c51e336e2c73b402bbe62b33d817618'),\n",
       " 626: ('ecoinvent 2.2', '6201e306aac2de8454752074df985361'),\n",
       " 627: ('ecoinvent 2.2', 'acd31037bd240843cfa59669c9d0e637'),\n",
       " 628: ('ecoinvent 2.2', 'cd7b50f17bfbe38d882630529a7f558d'),\n",
       " 629: ('ecoinvent 2.2', '4fd692a735fc4b5432cac87a196d6f20'),\n",
       " 630: ('ecoinvent 2.2', '6bfffaedadc1f13b2fc78ab881eb2f4b'),\n",
       " 631: ('ecoinvent 2.2', '721b14effdbbeee857c5917093e6548c'),\n",
       " 632: ('ecoinvent 2.2', '98ce08de5b23c14a6639e9f1da6406c6'),\n",
       " 633: ('ecoinvent 2.2', '61f591763f030d6ed886d5cf559a83ba'),\n",
       " 634: ('ecoinvent 2.2', '8a07fe94010eb3290410192ccb96a515'),\n",
       " 635: ('ecoinvent 2.2', '58b740d063f752b3522919ee705ce5b4'),\n",
       " 636: ('ecoinvent 2.2', '743199e3e3cb7835d8f61ef8a7fe3bef'),\n",
       " 637: ('ecoinvent 2.2', 'b84c2f43c063b9edf21e6cb1a314e84d'),\n",
       " 638: ('ecoinvent 2.2', '54b8a18dacd6e72c04902187253a3db4'),\n",
       " 639: ('ecoinvent 2.2', '5f734e034cea941b471647a915968374'),\n",
       " 640: ('ecoinvent 2.2', 'fddd21154835ed196f357522a058cd58'),\n",
       " 641: ('ecoinvent 2.2', '9788f0cf0bd5ed100b6f94d5831c8224'),\n",
       " 642: ('ecoinvent 2.2', '3afc903956bbf5f51700d50ac776c7d8'),\n",
       " 643: ('ecoinvent 2.2', '95ded8516948f8abcf32150b2beb6e03'),\n",
       " 644: ('ecoinvent 2.2', 'b34d54a0698e6eb32b6e286562970bf9'),\n",
       " 645: ('ecoinvent 2.2', 'e3eadd3032833ff49fd609e95862a701'),\n",
       " 646: ('ecoinvent 2.2', 'b63b1599ea33cdfd6592f6f30cc26fac'),\n",
       " 647: ('ecoinvent 2.2', '71a2cae4b02442f42acf7588a5bb1262'),\n",
       " 648: ('ecoinvent 2.2', 'd1f751c06ad519b4404c82e8df22eb5a'),\n",
       " 649: ('ecoinvent 2.2', '8dfc205068907e71971bf7ad86ac2fc7'),\n",
       " 650: ('ecoinvent 2.2', '67dfedbf7d94dd486fcaa3bcd315e2ec'),\n",
       " 651: ('ecoinvent 2.2', 'b9cb499f9ff990bbf0cef2b2e04ecee8'),\n",
       " 652: ('ecoinvent 2.2', 'c0b48f586e397bf3d4828fb3f070a55c'),\n",
       " 653: ('ecoinvent 2.2', '98cd624c2c5629f5e74598c99e0be249'),\n",
       " 654: ('ecoinvent 2.2', 'e30bd3e8473548a9b6cbae1c02aa453a'),\n",
       " 655: ('ecoinvent 2.2', '88c87e6b4616593e0beed0ab983c7fcc'),\n",
       " 656: ('ecoinvent 2.2', 'b974641f6caf1dc867dde8c27a0fb9cf'),\n",
       " 657: ('ecoinvent 2.2', 'e2b8c4163ba0fb8939bf0e3832890ba1'),\n",
       " 658: ('ecoinvent 2.2', 'bb6e9e8e5c86ade536d636ee6bb9c5ee'),\n",
       " 659: ('ecoinvent 2.2', '87007588d37e1dd2282c7732044a050c'),\n",
       " 660: ('ecoinvent 2.2', '7c30dd02e66c5d3e39b0f09fa5d0df52'),\n",
       " 661: ('ecoinvent 2.2', '2bdc2aa653797a089b63c29f207b244f'),\n",
       " 662: ('ecoinvent 2.2', 'caa376799541240fa36007d7e5c489ab'),\n",
       " 663: ('ecoinvent 2.2', '3688d91f78f69ba5fc4d55e6f90b1655'),\n",
       " 664: ('ecoinvent 2.2', 'e0c6ac691e9ebf0cac4ea772485945d8'),\n",
       " 665: ('ecoinvent 2.2', '7767e51d4a6489d4c28da4770e590603'),\n",
       " 666: ('ecoinvent 2.2', 'd36db568dc1535e76ead3887c32eecf5'),\n",
       " 667: ('ecoinvent 2.2', 'c3e9c96b6cf9441450ff2eccc4a28e14'),\n",
       " 668: ('ecoinvent 2.2', 'f49d3222b07ef8e1d960b7fe49d9149d'),\n",
       " 669: ('ecoinvent 2.2', '3fab34bf1a580d1f93cb22eba03221c2'),\n",
       " 670: ('ecoinvent 2.2', '9ba3657652bfbdbb3dff20a1087999d0'),\n",
       " 671: ('ecoinvent 2.2', '89e76b0f8203de8a9a2f25f7954c9f3a'),\n",
       " 672: ('ecoinvent 2.2', '6acb17dc73f1b1fd1d34e6c3fcce3be6'),\n",
       " 673: ('ecoinvent 2.2', 'b17c801a2304e85ac32d8a11aaca05d7'),\n",
       " 674: ('ecoinvent 2.2', '93f48d57e68ddae5add65ef2803d983b'),\n",
       " 675: ('ecoinvent 2.2', '14574436d8a15d09b7905035b85a1e6d'),\n",
       " 676: ('ecoinvent 2.2', '0917f9a1dc018258a183c183bc518196'),\n",
       " 677: ('ecoinvent 2.2', '577f563c7e4d25322b72a23a9823c5ff'),\n",
       " 678: ('ecoinvent 2.2', 'b05c23e2a2401599932c35df0d60b75d'),\n",
       " 679: ('ecoinvent 2.2', 'b0c2782c89e9332d59a03eed8fe9c658'),\n",
       " 680: ('ecoinvent 2.2', '71b1836f489b8aee656a670541cc5811'),\n",
       " 681: ('ecoinvent 2.2', '6b290f90c329bdf331afbd163dc87475'),\n",
       " 682: ('ecoinvent 2.2', '6e27f02474b2baa2f286a9cb685dc9e1'),\n",
       " 683: ('ecoinvent 2.2', '77a8c8631abaf3b70b78c8658fe0e6c6'),\n",
       " 684: ('ecoinvent 2.2', 'f9ff064fa6eab93cb6f8e5b095be369d'),\n",
       " 685: ('ecoinvent 2.2', '12255f323253ab424bfd04c96ee662a7'),\n",
       " 686: ('ecoinvent 2.2', 'b9299ff43e1ad242ebea4e0f06935f25'),\n",
       " 687: ('ecoinvent 2.2', '6da8041d4322f4d2878814c0b9f4772b'),\n",
       " 688: ('ecoinvent 2.2', 'cc9054ada7b76134385b45fad0025def'),\n",
       " 689: ('ecoinvent 2.2', 'bc774c6f78c9e058f4c35159e1b21ad5'),\n",
       " 690: ('ecoinvent 2.2', '586c3f8fe099f951ca582e92f7eed41a'),\n",
       " 691: ('ecoinvent 2.2', '004ee114924dcbc0733e20afa6a54147'),\n",
       " 692: ('ecoinvent 2.2', 'cfe753b355e2e136379686bd314ab982'),\n",
       " 693: ('ecoinvent 2.2', '53de0d7088c565239f45c738242471a5'),\n",
       " 694: ('ecoinvent 2.2', '440daad6f1c3e92a674a16403f6b4380'),\n",
       " 695: ('ecoinvent 2.2', '2587b2a79d066af2afb5a7768689bd45'),\n",
       " 696: ('ecoinvent 2.2', '82f786a301e9dfbadc2077e565215fbc'),\n",
       " 697: ('ecoinvent 2.2', '90a7f705978f0ed5639b188bbb53a2b3'),\n",
       " 698: ('ecoinvent 2.2', '612c2eb3dc007933c7e494f2ab4c4a92'),\n",
       " 699: ('ecoinvent 2.2', '8c52d98b56fbb11a8fafec4b8729fbe1'),\n",
       " 700: ('ecoinvent 2.2', 'ed66d8567a163d3b86b0670bec025cb3'),\n",
       " 701: ('ecoinvent 2.2', '259907295021f60f55ce11278373c8e7'),\n",
       " 702: ('ecoinvent 2.2', '29bc86b4ffacc63fac17bf897cb24e97'),\n",
       " 703: ('ecoinvent 2.2', 'abb9c7c1a80afe743cbb6a2ffc7d0268'),\n",
       " 704: ('ecoinvent 2.2', 'ace8fd365583ee2048f2e0ad26d1652f'),\n",
       " 705: ('ecoinvent 2.2', 'c4eb63bad7aad2467caa614bd4631c46'),\n",
       " 706: ('ecoinvent 2.2', '04456e6bc35153113fcff107efd233e9'),\n",
       " 707: ('ecoinvent 2.2', 'd32d277c88bee00639603b99c3d0c70b'),\n",
       " 708: ('ecoinvent 2.2', 'a16b76ec1f41ebf1277440e568765657'),\n",
       " 709: ('ecoinvent 2.2', '4e90e529bdb76e789e6659e8eb37bf84'),\n",
       " 710: ('ecoinvent 2.2', 'd0e1fe61bdd19359b1a3655705bdf38f'),\n",
       " 711: ('ecoinvent 2.2', 'de90c044daf10c562033256117516b8f'),\n",
       " 712: ('ecoinvent 2.2', '0569b62b4700438e3237681f433a8978'),\n",
       " 713: ('ecoinvent 2.2', 'b4543e3c20462bebef55f99c433593e5'),\n",
       " 714: ('ecoinvent 2.2', '563ff96b79d9ee0b2371bb2fdaa68f43'),\n",
       " 715: ('ecoinvent 2.2', '11991ec3e54f4e4dd1d530eb64952181'),\n",
       " 716: ('ecoinvent 2.2', '10b4213b74377760090a8700cfe7a5ec'),\n",
       " 717: ('ecoinvent 2.2', '68610f56cf9f41ad3627618ed9ecf49b'),\n",
       " 718: ('ecoinvent 2.2', '7d89f58a3da43d64dd38a3e6344beadb'),\n",
       " 719: ('ecoinvent 2.2', '98cfa8784bc5826065f618972b1d3de9'),\n",
       " 720: ('ecoinvent 2.2', '9ac290544024a5eb9247a92fe2a5da11'),\n",
       " 721: ('ecoinvent 2.2', 'acd5010d84b2c292df2db61afae8d58b'),\n",
       " 722: ('ecoinvent 2.2', '21346a7620f839221e76014af9567f6b'),\n",
       " 723: ('ecoinvent 2.2', '8c55acc8007cc60bf5d5f0cad5245866'),\n",
       " 724: ('ecoinvent 2.2', '6f7404225f4385fbb7c5a361eaf8fdc2'),\n",
       " 725: ('ecoinvent 2.2', '0700a55cd2cf6f0aaa9218d9edb61026'),\n",
       " 726: ('ecoinvent 2.2', '855475433d7841d992ab3ba9e83d8146'),\n",
       " 727: ('ecoinvent 2.2', '1a2f541a4d5138455e1b66511cb94448'),\n",
       " 728: ('ecoinvent 2.2', 'ee09666f49c0c73591f344ff8f8f546b'),\n",
       " 729: ('ecoinvent 2.2', 'd7fd683b5218f5b52c0954de29993ac4'),\n",
       " 730: ('ecoinvent 2.2', 'f626f2aa12155751bd0680ab9b0dd15f'),\n",
       " 731: ('ecoinvent 2.2', '16dc6a21bc4a1392d31a94cf562e44bf'),\n",
       " 732: ('ecoinvent 2.2', '0fa4dfc577d4353df608d62e7b01f331'),\n",
       " 733: ('ecoinvent 2.2', '6c078abd1b45a552255ab37e860356cb'),\n",
       " 734: ('ecoinvent 2.2', 'e5052719528c88f1528378d9c7a30426'),\n",
       " 735: ('ecoinvent 2.2', 'dac472b0cf197a7e2a408eb3acc04b82'),\n",
       " 736: ('ecoinvent 2.2', '39e59dd6de9552a966fad96d357b191f'),\n",
       " 737: ('ecoinvent 2.2', 'e26e716757d5f7a1524ec266febca329'),\n",
       " 738: ('ecoinvent 2.2', 'c0ca95d02080710f3dd38ebc6e6d3735'),\n",
       " 739: ('ecoinvent 2.2', '1ada1410a76b737cea1ae71e95a85ad9'),\n",
       " 740: ('ecoinvent 2.2', '6d25e54c1b09e221827e6188bfba708b'),\n",
       " 741: ('ecoinvent 2.2', '63843d18f32eeade602f4122032025fa'),\n",
       " 742: ('ecoinvent 2.2', '3e255fa3f19a2938cbec2478e44c5cd5'),\n",
       " 743: ('ecoinvent 2.2', '67a86bccb12d687c3e97edfa5bd0c7b5'),\n",
       " 744: ('ecoinvent 2.2', 'cc714cd13956348b2198674c9044b33e'),\n",
       " 745: ('ecoinvent 2.2', 'f4c83d7134b957fe61938512286a7c1e'),\n",
       " 746: ('ecoinvent 2.2', '8d46a030349ded1c2408832f662f7e26'),\n",
       " 747: ('ecoinvent 2.2', '4facb57bd4a8cc4dd0e94aaffe405679'),\n",
       " 748: ('ecoinvent 2.2', '7ab8df0e73c2fee6b9ddf3f3d6300298'),\n",
       " 749: ('ecoinvent 2.2', 'be509a40e9f460da89048a6710d69fe2'),\n",
       " 750: ('ecoinvent 2.2', '38cd83e3f73cfc34f9b2a4faa2b3e346'),\n",
       " 751: ('ecoinvent 2.2', 'dd171ee1879c027389e2e5de23f04c9a'),\n",
       " 752: ('ecoinvent 2.2', 'a4ccbebae5eef37105f1e6594498a58d'),\n",
       " 753: ('ecoinvent 2.2', '72c39a21c0066e9fea87f9b69b3bd4dc'),\n",
       " 754: ('ecoinvent 2.2', '622ef62e7a55e6902d192e7f8f23b7f9'),\n",
       " 755: ('ecoinvent 2.2', '913b8f8886f4ca4545dcd5bd1e39bafa'),\n",
       " 756: ('ecoinvent 2.2', '179278ef7ff40debfec0cf0f1a23d3fc'),\n",
       " 757: ('ecoinvent 2.2', 'a8527ddd298bb45dc1cbf2828a249313'),\n",
       " 758: ('ecoinvent 2.2', '3b8499cdbd8a456360d85679d7b3498c'),\n",
       " 759: ('ecoinvent 2.2', '70089eacc497b5cba41a33c5c71b8193'),\n",
       " 760: ('ecoinvent 2.2', 'e05fe8079fbbeda2031e86a55ce2236b'),\n",
       " 761: ('ecoinvent 2.2', '0c3a29266efb52796a4fab2f9abdba67'),\n",
       " 762: ('ecoinvent 2.2', '30916d4e7248a05e25aba1fe86835041'),\n",
       " 763: ('ecoinvent 2.2', '53a9bcbdf456d59f1b3e39b984a12102'),\n",
       " 764: ('ecoinvent 2.2', '2ba08d2c57b7a6fdda2d78ab1ec42e00'),\n",
       " 765: ('ecoinvent 2.2', '0db7f1c5547a196a494ffc751590fbb5'),\n",
       " 766: ('ecoinvent 2.2', '81a15ccf23093d85f63cf5fef1f1f450'),\n",
       " 767: ('ecoinvent 2.2', '41e6a4f34de8d6c260c3774d370756b4'),\n",
       " 768: ('ecoinvent 2.2', 'f04b4bd3db33a83b809403941865a4b3'),\n",
       " 769: ('ecoinvent 2.2', 'f103f5fe023a0eeba4f710cfcb4fc0f4'),\n",
       " 770: ('ecoinvent 2.2', 'aef83a90ffb3a144267f29b5ee9bca8b'),\n",
       " 771: ('ecoinvent 2.2', '6931b12b16991addd1a396fab5368f30'),\n",
       " 772: ('ecoinvent 2.2', '451348cf28bb2964113a0e8eff5c6a14'),\n",
       " 773: ('ecoinvent 2.2', '29f16200915e84d667359369b27fe54a'),\n",
       " 774: ('ecoinvent 2.2', '19d20f4b7a7eb3704495ad3ba036c29d'),\n",
       " 775: ('ecoinvent 2.2', '7b91e9d2a4355777efc831308cf08ee6'),\n",
       " 776: ('ecoinvent 2.2', 'c1ef29d32fb3794288ca3460348190ba'),\n",
       " 777: ('ecoinvent 2.2', '0ba6d475a1cc836e64010b1c3c8a2741'),\n",
       " 778: ('ecoinvent 2.2', '53573c1e1f42d8b14faf74a376fc681a'),\n",
       " 779: ('ecoinvent 2.2', 'a6ccb845842b91b2e4ff91899bf6769e'),\n",
       " 780: ('ecoinvent 2.2', 'b8d08d96949d1066d1bbe920f8be2430'),\n",
       " 781: ('ecoinvent 2.2', '35f96f89f931d00238e6059b546bd15b'),\n",
       " 782: ('ecoinvent 2.2', '61602b6ba0c1ae3e20740afcb8fe173c'),\n",
       " 783: ('ecoinvent 2.2', 'b75d50440cd22a4f627d7f039afe633a'),\n",
       " 784: ('ecoinvent 2.2', 'ab6f4f2d9765cd42d4e041c5596a580d'),\n",
       " 785: ('ecoinvent 2.2', 'baebc5b3eb75f24c2da90a27c91a5309'),\n",
       " 786: ('ecoinvent 2.2', 'f51c32714d5d5fbceda24dcf96653ba0'),\n",
       " 787: ('ecoinvent 2.2', '343c60da93cc3111a042d0d1207c72f0'),\n",
       " 788: ('ecoinvent 2.2', 'db3924ba82dd7956cdc54e94be5b5eb1'),\n",
       " 789: ('ecoinvent 2.2', 'd902edf21760a8a0713e9c709a77d068'),\n",
       " 790: ('ecoinvent 2.2', '8f3df006269f2c44b4e070fd7cd4bf88'),\n",
       " 791: ('ecoinvent 2.2', '6ee40c97ddad6066f4a60b0550791cab'),\n",
       " 792: ('ecoinvent 2.2', 'bc26c06b95ac428ac7d7292223753a60'),\n",
       " 793: ('ecoinvent 2.2', 'f6df81349f2f2c25ca8dd3a681f22df6'),\n",
       " 794: ('ecoinvent 2.2', '37df44b9e86d3eb3a608300cd72961dd'),\n",
       " 795: ('ecoinvent 2.2', '5ea571c3961e83ac4d577454700f49fe'),\n",
       " 796: ('ecoinvent 2.2', '5d51aeda972bd47b09449df2d303ba47'),\n",
       " 797: ('ecoinvent 2.2', '4a61f9cf83094cff6796111c9863e387'),\n",
       " 798: ('ecoinvent 2.2', '4fef937a4d1027c00e10b1309dc872df'),\n",
       " 799: ('ecoinvent 2.2', '5870e22ecbc47ea770d6d6b31e5ce333'),\n",
       " 800: ('ecoinvent 2.2', '52d1f59e41b26ef4c0c4895efef90ef6'),\n",
       " 801: ('ecoinvent 2.2', '6d5d8d82f90de11dd980d195475e2ce2'),\n",
       " 802: ('ecoinvent 2.2', '133343fb1ec37d07b8327597d800c563'),\n",
       " 803: ('ecoinvent 2.2', 'fb1c1e3ce92c9962cec2affacf747ce3'),\n",
       " 804: ('ecoinvent 2.2', '6acc4b3aa2eb5e5d673de1af12d4e5b0'),\n",
       " 805: ('ecoinvent 2.2', '093624267ddef9cfddea1194fbc07d77'),\n",
       " 806: ('ecoinvent 2.2', 'a1878ca4f3a1a51d20227a35b8cc9f35'),\n",
       " 807: ('ecoinvent 2.2', '592922de9ba6e8bdb3d89058927a32a8'),\n",
       " 808: ('ecoinvent 2.2', '5d8f898c8b85af5c5e14c8943f12f714'),\n",
       " 809: ('ecoinvent 2.2', '2e28c926cc3e2382b8252437dc03719a'),\n",
       " 810: ('ecoinvent 2.2', '63c34a51c08669af3950fa1206894b27'),\n",
       " 811: ('ecoinvent 2.2', 'fcf44a71d13c69f243345b67f4da6561'),\n",
       " 812: ('ecoinvent 2.2', '40d4f6b21af4aa97e4c9e5ca939f175f'),\n",
       " 813: ('ecoinvent 2.2', '3058969ef6af164d7966d49bc9e48d04'),\n",
       " 814: ('ecoinvent 2.2', '198f19c7a899175aa5427ae8596a1c84'),\n",
       " 815: ('ecoinvent 2.2', 'ef440be9abeb46a3b0e3e37e13db9ec6'),\n",
       " 816: ('ecoinvent 2.2', 'f15e26fee8628fa43701b593d448a6b0'),\n",
       " 817: ('ecoinvent 2.2', 'c1a3533d4988941e130adcf7b4ec0df1'),\n",
       " 818: ('ecoinvent 2.2', 'ffb77ca1fd7d11e84a437722b5422b0e'),\n",
       " 819: ('ecoinvent 2.2', '615f56adc06383dba3b283b85ea5df00'),\n",
       " 820: ('ecoinvent 2.2', '1ef7d4480eddcec06cb127420bb9c37c'),\n",
       " 821: ('ecoinvent 2.2', '589a77053956cfdf72e6816a1f9dba70'),\n",
       " 822: ('ecoinvent 2.2', '0773b88c3ed80dac258bb462ec36c36b'),\n",
       " 823: ('ecoinvent 2.2', 'c6e1d179043e309fc0d4bdc828d2963b'),\n",
       " 824: ('ecoinvent 2.2', 'a7193ccb378bfb09995245e33f04acc6'),\n",
       " 825: ('ecoinvent 2.2', 'dcd31eabeda6474924abef22b498362f'),\n",
       " 826: ('ecoinvent 2.2', '57fe098ace8a43f308f57c24013aa7fb'),\n",
       " 827: ('ecoinvent 2.2', '48806109fa5c64a7d0e1f1c2dcb04ff8'),\n",
       " 828: ('ecoinvent 2.2', 'b9ea2a39933c89f2820229633df5baf2'),\n",
       " 829: ('ecoinvent 2.2', 'e62a337a79635c0404f74d77d9abbe21'),\n",
       " 830: ('ecoinvent 2.2', '39ce65abd41c96beef14c47edb286cd2'),\n",
       " 831: ('ecoinvent 2.2', 'bb70686da6a910272ff2b8a7c194a29f'),\n",
       " 832: ('ecoinvent 2.2', '2e54ecd5e094518767c35f69d878d7bd'),\n",
       " 833: ('ecoinvent 2.2', '33aa2f1f19b1a9924daf873efc8ff62c'),\n",
       " 834: ('ecoinvent 2.2', '92d53093443987032d3834e1c8df9caf'),\n",
       " 835: ('ecoinvent 2.2', '6b4dea21b66496a9c23cee9f91dddd21'),\n",
       " 836: ('ecoinvent 2.2', '5e9dea466b9f041528337c5306399d25'),\n",
       " 837: ('ecoinvent 2.2', 'c3c9511d6abfc17419e7f48a21705888'),\n",
       " 838: ('ecoinvent 2.2', 'd323a86e19f0994527532aa12c8e76d5'),\n",
       " 839: ('ecoinvent 2.2', '69f0159c71c9827d79fee7ebe104f9dc'),\n",
       " 840: ('ecoinvent 2.2', 'b872a0fc8dccb67a71bd2eed49feb1db'),\n",
       " 841: ('ecoinvent 2.2', 'acceb2058ba253e150708227ee6690c0'),\n",
       " 842: ('ecoinvent 2.2', '0b244b122424eea7f1c087290cf9a474'),\n",
       " 843: ('ecoinvent 2.2', '6715d4df7e23788aafefe29ebfe2de2f'),\n",
       " 844: ('ecoinvent 2.2', '1a359ebc47e9bb6d08f4a1ed55a30af2'),\n",
       " 845: ('ecoinvent 2.2', '831a0c32f536d91a673c70ed5a79bc37'),\n",
       " 846: ('ecoinvent 2.2', 'da8f47da8a87576d05d9df5103a8cc5e'),\n",
       " 847: ('ecoinvent 2.2', '0eeb3aad18cc2049762a30ae0b3bdfee'),\n",
       " 848: ('ecoinvent 2.2', 'f58a80ac1a76f004954a72d9e5f3df62'),\n",
       " 849: ('ecoinvent 2.2', '42827f2aa807cc4dfcb58f8462d6c71b'),\n",
       " 850: ('ecoinvent 2.2', 'ee9911666f42aeaf896358fa363b50c9'),\n",
       " 851: ('ecoinvent 2.2', '2e7ebd227e59bbba17971eff528deb61'),\n",
       " 852: ('ecoinvent 2.2', 'a299defcdeab848a6d8936bef9fb808b'),\n",
       " 853: ('ecoinvent 2.2', 'd34fadf24df94438b88e44b40fd1408f'),\n",
       " 854: ('ecoinvent 2.2', '48044d3a95ebbb3d504585f2217bba82'),\n",
       " 855: ('ecoinvent 2.2', '12413a56898fe688bfa2f09e7a31911b'),\n",
       " 856: ('ecoinvent 2.2', '513c6850e65dadef9c55240921fb2831'),\n",
       " 857: ('ecoinvent 2.2', '05d74938b00f6502aac0bd67fe8e75b2'),\n",
       " 858: ('ecoinvent 2.2', 'fa27295fdefa194692858f8bb9850ac6'),\n",
       " 859: ('ecoinvent 2.2', '1741bfdd057976228ed7f72b4d630ecb'),\n",
       " 860: ('ecoinvent 2.2', '0893abe464eec5e42edc21afd646a593'),\n",
       " 861: ('ecoinvent 2.2', '78e5bfb3f1871d15362dcf02ea3f0b3a'),\n",
       " 862: ('ecoinvent 2.2', '8655c8e68eca20a7c0c7829e6fc4c8b4'),\n",
       " 863: ('ecoinvent 2.2', '267bca89a18dae84162d63f3a023b268'),\n",
       " 864: ('ecoinvent 2.2', 'a1a4bc672d7ba2b36546953c5203b6dd'),\n",
       " 865: ('ecoinvent 2.2', '5f5e1e7ac1387f95173d113abec5b79c'),\n",
       " 866: ('ecoinvent 2.2', '865e3adafb982ae8d746d6a08f0043f8'),\n",
       " 867: ('ecoinvent 2.2', '03f7dfef575ad785b76a5ffc793a65a5'),\n",
       " 868: ('ecoinvent 2.2', '18530567b650671fc7738355f58259b5'),\n",
       " 869: ('ecoinvent 2.2', 'c554d37f973d1b499854bf094528d0cd'),\n",
       " 870: ('ecoinvent 2.2', '702e922011b4d472fb21fda6e701a06e'),\n",
       " 871: ('ecoinvent 2.2', 'cc2741cc570cc269d1da89d3eae71427'),\n",
       " 872: ('ecoinvent 2.2', 'f3cdeaf85de97250a4555f90375bb3f6'),\n",
       " 873: ('ecoinvent 2.2', '15813e2397abc00043d022fe2d9f3dd1'),\n",
       " 874: ('ecoinvent 2.2', 'd068bf04a9320cb069921d26cf68f9f4'),\n",
       " 875: ('ecoinvent 2.2', '6dede9d4d19627186487e5ea41ff31da'),\n",
       " 876: ('ecoinvent 2.2', 'ddd452c493fad6132689330288ace8c6'),\n",
       " 877: ('ecoinvent 2.2', 'ed8f94a3262ee5a992d7881833b51f44'),\n",
       " 878: ('ecoinvent 2.2', 'b35f75aa80b36c95e7ea9cb6b635ccc5'),\n",
       " 879: ('ecoinvent 2.2', '03b0a1052171c2becd3dc9c4167016a7'),\n",
       " 880: ('ecoinvent 2.2', 'a182e33fe0740abb046910154bec6c0f'),\n",
       " 881: ('ecoinvent 2.2', '62d98e91f81cb96a6197b3006b8995ca'),\n",
       " 882: ('ecoinvent 2.2', '4091a5f8af869df5f0fbe0e4d1178ac6'),\n",
       " 883: ('ecoinvent 2.2', '6aee1df3e4b757c8a6c81befcaa8a643'),\n",
       " 884: ('ecoinvent 2.2', '52df88ffe2bc521c4ecbd931572407c7'),\n",
       " 885: ('ecoinvent 2.2', '870c2fc9ecfd59201557160da0080b21'),\n",
       " 886: ('ecoinvent 2.2', 'e2bffb7ef83ddfa6331d61ed87f7f3c5'),\n",
       " 887: ('ecoinvent 2.2', 'e12fd63b31d6b4d2961eaac86b490498'),\n",
       " 888: ('ecoinvent 2.2', '39e4a1dea5cc53341671e72ef667abf6'),\n",
       " 889: ('ecoinvent 2.2', '3b21adb79040e5ef688ef7a8c6acee6d'),\n",
       " 890: ('ecoinvent 2.2', '50bf89b7155c929594719d054eaad931'),\n",
       " 891: ('ecoinvent 2.2', 'cd9833ece909fee81d6ad87d24434ee9'),\n",
       " 892: ('ecoinvent 2.2', '346736d5efe01bae2e433e3dbf7ad0de'),\n",
       " 893: ('ecoinvent 2.2', '7165691f57cfa7414929fdbfd8bfbb7f'),\n",
       " 894: ('ecoinvent 2.2', 'f1c035d1cdb3b4dc364af0245f0a3cec'),\n",
       " 895: ('ecoinvent 2.2', '8a9e9977be108abe8e81ed89b9bf04de'),\n",
       " 896: ('ecoinvent 2.2', 'e9d7589a63d88011bec2c7797d02b9bf'),\n",
       " 897: ('ecoinvent 2.2', '89fead039828a860198e08ee67aeb6a3'),\n",
       " 898: ('ecoinvent 2.2', '958c6e9ace2b29ceba241c4ccaa5344e'),\n",
       " 899: ('ecoinvent 2.2', '08c22a5a88c73de07c3382ea6ef3e215'),\n",
       " 900: ('ecoinvent 2.2', 'd7409b56c75f5ad0f07b3699c5e8b960'),\n",
       " 901: ('ecoinvent 2.2', 'b304eaf042046bbee90a75178dbb167f'),\n",
       " 902: ('ecoinvent 2.2', '80b4c16b57f367c8e23f0fb048887287'),\n",
       " 903: ('ecoinvent 2.2', '421a6dade0ccfa8c516d58f333803337'),\n",
       " 904: ('ecoinvent 2.2', '4ba7a5b8a935024c1ca69c6cf79eeb64'),\n",
       " 905: ('ecoinvent 2.2', 'e2e243766136009e79b803f5fca892d2'),\n",
       " 906: ('ecoinvent 2.2', 'cdd6767a4ffe106cef0ff6806695ee45'),\n",
       " 907: ('ecoinvent 2.2', '18831206d2bb843a208759f1de74e743'),\n",
       " 908: ('ecoinvent 2.2', '174a2edef613358056aefed69fd6c318'),\n",
       " 909: ('ecoinvent 2.2', '99a24574336959d0051b084aba8cf21b'),\n",
       " 910: ('ecoinvent 2.2', '2918b177b08df7a65841a713f5630b2a'),\n",
       " 911: ('ecoinvent 2.2', 'b774a2c6ff47cc6936bbad4914e28d32'),\n",
       " 912: ('ecoinvent 2.2', '4e7033957ac91f481ac3b2f752c7ba72'),\n",
       " 913: ('ecoinvent 2.2', '8dbdd5e1b556c665205729868c0e34c2'),\n",
       " 914: ('ecoinvent 2.2', 'f0fc3fe91483bff20e2ffeff1f3e1569'),\n",
       " 915: ('ecoinvent 2.2', '1f6ae8fa32d1826b5668d2863bb8b697'),\n",
       " 916: ('ecoinvent 2.2', 'a9648478e5b55f0a00114d9a30b50567'),\n",
       " 917: ('ecoinvent 2.2', '6b0c6681ac310066cae566b27c9487cb'),\n",
       " 918: ('ecoinvent 2.2', '4fb9fe36ecc32c421801759b46a2fab3'),\n",
       " 919: ('ecoinvent 2.2', '2eecb8d151172e80c0a6780fa2e85ef2'),\n",
       " 920: ('ecoinvent 2.2', 'c0f215fd57634289a575c0f9b982b58c'),\n",
       " 921: ('ecoinvent 2.2', '546435e1dcb0f0673a510bf58293379e'),\n",
       " 922: ('ecoinvent 2.2', '5bbf2e66f2d75d60726974ac44ab4225'),\n",
       " 923: ('ecoinvent 2.2', '6fba373b0d36e14790161bb2e6759eeb'),\n",
       " 924: ('ecoinvent 2.2', 'daecc2573fc52ef860d7c0d6fe9c20f4'),\n",
       " 925: ('ecoinvent 2.2', '10e9314dcab1824437be5c575df92727'),\n",
       " 926: ('ecoinvent 2.2', '14555c3176bd894508085d1039aff42a'),\n",
       " 927: ('ecoinvent 2.2', 'bfbefb7a2bd9758a71ce17a0589fd15f'),\n",
       " 928: ('ecoinvent 2.2', '4edb2d0cac4b94e8392f0dc4ecbbbe3e'),\n",
       " 929: ('ecoinvent 2.2', '6c4e87b0d5ffb68ad0feb78f9f0d90b9'),\n",
       " 930: ('ecoinvent 2.2', '9b020c9f0263c5e94165ea2312befd05'),\n",
       " 931: ('ecoinvent 2.2', '9474e77916f97e16425ecf2e34133990'),\n",
       " 932: ('ecoinvent 2.2', 'cd1506fe61c988de3685415e9bafd120'),\n",
       " 933: ('ecoinvent 2.2', '5f65f711501a9a9d97388e1bdc758896'),\n",
       " 934: ('ecoinvent 2.2', '60915087342b1b1fa6914d9d4e684190'),\n",
       " 935: ('ecoinvent 2.2', 'c765fe066d5a1dc4c3e9b335b0b97cd3'),\n",
       " 936: ('ecoinvent 2.2', '3f167d18ea50f2d4fb1babffb2f69a44'),\n",
       " 937: ('ecoinvent 2.2', '5a2ae8c61c5c05b32d51e9a30115f8b3'),\n",
       " 938: ('ecoinvent 2.2', '110387d75ce549cf4700e16051e5acea'),\n",
       " 939: ('ecoinvent 2.2', 'ada08cb15826614e855579dc4dbd37b3'),\n",
       " 940: ('ecoinvent 2.2', '3bc48f7da1851ad3b8f4ca630af8aa25'),\n",
       " 941: ('ecoinvent 2.2', '1c9fc169280c5c782931c00127537ec3'),\n",
       " 942: ('ecoinvent 2.2', 'efff3485ee101c62c44d432b0d4ff766'),\n",
       " 943: ('ecoinvent 2.2', '6021bf6bc991f64f8f74d31439a99a68'),\n",
       " 944: ('ecoinvent 2.2', '3530be493f815ce83abeb2e6783abaf5'),\n",
       " 945: ('ecoinvent 2.2', '3f78663ae6c627bb93d26c75acb89d8a'),\n",
       " 946: ('ecoinvent 2.2', '518b10e6095c13976a92df0102fa39b4'),\n",
       " 947: ('ecoinvent 2.2', 'c817114feee1418b7ed69d860f9caa00'),\n",
       " 948: ('ecoinvent 2.2', '6e84167a47daaa3c3cf5651666929818'),\n",
       " 949: ('ecoinvent 2.2', '1c0fec6fa5f1a4c20b87a6e2b010c2ac'),\n",
       " 950: ('ecoinvent 2.2', '637e3caa3e2dccc00f0ca934314db726'),\n",
       " 951: ('ecoinvent 2.2', '7954b69c15a9f1b79c6f2c2e6143ba9d'),\n",
       " 952: ('ecoinvent 2.2', '77366fd0a27426ddafb922bacedb1387'),\n",
       " 953: ('ecoinvent 2.2', '335f6bc6e5b3bdff4443d0c813d5024b'),\n",
       " 954: ('ecoinvent 2.2', '5ed783b12b148649467bb9e7c68bec66'),\n",
       " 955: ('ecoinvent 2.2', '2a2dd82a59b8b60d0cc0064c1d2c5cfb'),\n",
       " 956: ('ecoinvent 2.2', '0686735fb4dc3e7ec1270c8daa01b642'),\n",
       " 957: ('ecoinvent 2.2', '2c2e7d7cc30a64dd75c893190846c13a'),\n",
       " 958: ('ecoinvent 2.2', 'f3f35375f91618766f12f33ecff5371f'),\n",
       " 959: ('ecoinvent 2.2', '65fe0bb7da8ad56b259ca64106c95a78'),\n",
       " 960: ('ecoinvent 2.2', 'f6e349075825fcedec63d25b524743a9'),\n",
       " 961: ('ecoinvent 2.2', '5e5cb721f9bf5f17836821d60b36447a'),\n",
       " 962: ('ecoinvent 2.2', '374b0767e528ca45798eefda775c0e44'),\n",
       " 963: ('ecoinvent 2.2', '9b7314353475e02f62c1411ba1a03750'),\n",
       " 964: ('ecoinvent 2.2', '40a91612f47f754b398d3e6f38d1515a'),\n",
       " 965: ('ecoinvent 2.2', '5ac899dca47f9849251307d78765b2ad'),\n",
       " 966: ('ecoinvent 2.2', 'c523e65bb91adcda7949493a47250d2d'),\n",
       " 967: ('ecoinvent 2.2', 'e8703ca3ba1b1c553974dccb089095e8'),\n",
       " 968: ('ecoinvent 2.2', '6969329cf65235887e7474984b2c8802'),\n",
       " 969: ('ecoinvent 2.2', 'f47e885e8a27ec7f99b954261cb0b97f'),\n",
       " 970: ('ecoinvent 2.2', '70b659c5e36dc1836a166cdb7f098dfd'),\n",
       " 971: ('ecoinvent 2.2', '6c1df4a088db8be64b452a0412b156b8'),\n",
       " 972: ('ecoinvent 2.2', '2670f1ecc70966c66ce5af4adc996622'),\n",
       " 973: ('ecoinvent 2.2', '340bc00b0771bd8e94de69791f2fd7cc'),\n",
       " 974: ('ecoinvent 2.2', '7b15f151c7bfd0ca64fbb74297172907'),\n",
       " 975: ('ecoinvent 2.2', '6711f6b21b968c5c33a0a168d1358da0'),\n",
       " 976: ('ecoinvent 2.2', '739117852f13955b143b8a5e08065a3d'),\n",
       " 977: ('ecoinvent 2.2', '1fb37078e9856e44ea2abd9ec93af290'),\n",
       " 978: ('ecoinvent 2.2', 'd4b8076d7e379d3285f048e868bd75cd'),\n",
       " 979: ('ecoinvent 2.2', 'f161bd14ae6f6adc76de66b6eec208e9'),\n",
       " 980: ('ecoinvent 2.2', 'da8f9bf8392c9c134eb5486ae69b5975'),\n",
       " 981: ('ecoinvent 2.2', 'b0397534593b2e117dddc2c7c4a7881a'),\n",
       " 982: ('ecoinvent 2.2', '3646a502964e8766091835bcf026ef3f'),\n",
       " 983: ('ecoinvent 2.2', 'c399b320ceba7533c3d14b84a6a29004'),\n",
       " 984: ('ecoinvent 2.2', 'bce6f4711062792fe4064d9a1cb6a606'),\n",
       " 985: ('ecoinvent 2.2', '61fdbb843da6a1e291ccaf5206f9f74d'),\n",
       " 986: ('ecoinvent 2.2', '5e068d9817a1bd53f75160497d039370'),\n",
       " 987: ('ecoinvent 2.2', '2eda1d074803543597d170ce8d8c6f74'),\n",
       " 988: ('ecoinvent 2.2', '2152afed223076f21b91150a9259fc90'),\n",
       " 989: ('ecoinvent 2.2', 'e4398704925bfc52021a8289f6f350ee'),\n",
       " 990: ('ecoinvent 2.2', 'b1f32f4a6d87a99da0462f737c0f32fd'),\n",
       " 991: ('ecoinvent 2.2', '2db14c979a3b06bdeb0f5cd32bbf9c0c'),\n",
       " 992: ('ecoinvent 2.2', '24b8aa1c273c7333389e084f839a8b49'),\n",
       " 993: ('ecoinvent 2.2', '6dab9e2b2a658ed9894834c91f014f3c'),\n",
       " 994: ('ecoinvent 2.2', '24d4152be3d2bf30f98132ad2cae29b4'),\n",
       " 995: ('ecoinvent 2.2', '56242f868166e60d68999befcd23f7d3'),\n",
       " 996: ('ecoinvent 2.2', '59a86d54a53f07c275ca532d628e443b'),\n",
       " 997: ('ecoinvent 2.2', 'b504230662510e574b3a3254d581ea59'),\n",
       " 998: ('ecoinvent 2.2', 'd2e95e31c979d57139a831ea2b254080'),\n",
       " 999: ('ecoinvent 2.2', '0ab6bb18a47f25dc257ee056c32c558a'),\n",
       " ...}"
      ]
     },
     "execution_count": 183,
     "metadata": {},
     "output_type": "execute_result"
    }
   ],
   "source": [
    "myFirstLCA_reverse_activity_dict = {v:k for k, v in myFirstLCA.activity_dict.items()}\n",
    "myFirstLCA_reverse_activity_dict"
   ]
  },
  {
   "cell_type": "markdown",
   "metadata": {},
   "source": [
    "We can therefore now create a list of the different activities with which our column exchanges:  "
   ]
  },
  {
   "cell_type": "code",
   "execution_count": 190,
   "metadata": {
    "collapsed": false
   },
   "outputs": [
    {
     "data": {
      "text/plain": [
       "[('ecoinvent 2.2', '64f6d365488c965e1293b3d612fd5146'),\n",
       " ('ecoinvent 2.2', '00623899611a18f8616b6d2d9de7adfb'),\n",
       " ('ecoinvent 2.2', '73629957c7ab55f6aa2adeded1c64c1c'),\n",
       " ('ecoinvent 2.2', 'd99b7a72a9ec9559d6008bd1ebd87030'),\n",
       " ('ecoinvent 2.2', '93e78a2693829d6981838c4a4c367ec6'),\n",
       " ('ecoinvent 2.2', '4c133e9f80ad92007e3006fef6a0957b'),\n",
       " ('ecoinvent 2.2', 'f43ec77add94eae309c8f742b9da877d'),\n",
       " ('ecoinvent 2.2', 'ec263f3ac8e4fd29f369b4b0d50be575'),\n",
       " ('ecoinvent 2.2', '1d0e0446b60e0da5ee95be61a3c2fdbb')]"
      ]
     },
     "execution_count": 190,
     "metadata": {},
     "output_type": "execute_result"
    }
   ],
   "source": [
    "[myFirstLCA_reverse_activity_dict[i] for i in myColumnCOO.row]"
   ]
  },
  {
   "cell_type": "markdown",
   "metadata": {},
   "source": [
    "It would be even nicer to get the names for these:"
   ]
  },
  {
   "cell_type": "code",
   "execution_count": 193,
   "metadata": {
    "collapsed": false
   },
   "outputs": [
    {
     "data": {
      "text/plain": [
       "['disposal, used mineral oil, 10% water, to hazardous waste incineration',\n",
       " 'lubricating oil, at plant',\n",
       " 'brass, at plant',\n",
       " 'metal working machine, unspecified, at plant',\n",
       " 'metal working factory',\n",
       " 'compressed air, average installation, >30kW, 7 bar gauge, at supply network',\n",
       " 'metal working factory operation, average heat energy',\n",
       " 'electricity, low voltage, production UCTE, at grid',\n",
       " 'drilling, CNC, brass']"
      ]
     },
     "execution_count": 193,
     "metadata": {},
     "output_type": "execute_result"
    }
   ],
   "source": [
    "[bw.get_activity(myFirstLCA_reverse_activity_dict[i])['name'] for i in myColumnCOO.row]"
   ]
  },
  {
   "cell_type": "markdown",
   "metadata": {},
   "source": [
    "We can put these in a neat Pandas Series, with actual names and amounts:"
   ]
  },
  {
   "cell_type": "code",
   "execution_count": 211,
   "metadata": {
    "collapsed": false
   },
   "outputs": [
    {
     "data": {
      "text/plain": [
       "brass, at plant                                                               -1.000000e+00\n",
       "compressed air, average installation, >30kW, 7 bar gauge, at supply network   -1.280000e+00\n",
       "disposal, used mineral oil, 10% water, to hazardous waste incineration        -3.820000e-03\n",
       "drilling, CNC, brass                                                           1.000000e+00\n",
       "electricity, low voltage, production UCTE, at grid                            -6.250000e-02\n",
       "lubricating oil, at plant                                                     -3.820000e-03\n",
       "metal working factory                                                         -2.020000e-09\n",
       "metal working factory operation, average heat energy                          -4.410000e+00\n",
       "metal working machine, unspecified, at plant                                  -3.950000e-05\n",
       "Name: Nice series with information on exchanges in my foreground process, dtype: float64"
      ]
     },
     "execution_count": 211,
     "metadata": {},
     "output_type": "execute_result"
    }
   ],
   "source": [
    "# First create a dict with the information I want:\n",
    "myColumnAsDict = dict(zip(\n",
    "        [bw.get_activity(myFirstLCA_reverse_activity_dict[i])['name'] for i in myColumnCOO.row],\n",
    "        myColumnCOO.data)\n",
    "                      )\n",
    "# Create Pandas Series from dict\n",
    "pd.Series(myColumnAsDict, name=\"Nice series with information on exchanges in my foreground process\")"
   ]
  },
  {
   "cell_type": "markdown",
   "metadata": {
    "deletable": true,
    "editable": true
   },
   "source": [
    "**$B$ matrix**, with each element $b_{kj}$ provides information on the amount of input or output of elementary flow $b_k$  from activity $j$."
   ]
  },
  {
   "cell_type": "code",
   "execution_count": 80,
   "metadata": {
    "collapsed": false,
    "deletable": true,
    "editable": true
   },
   "outputs": [
    {
     "data": {
      "text/plain": [
       "<1584x4087 sparse matrix of type '<class 'numpy.float64'>'\n",
       "\twith 92000 stored elements in Compressed Sparse Row format>"
      ]
     },
     "execution_count": 80,
     "metadata": {},
     "output_type": "execute_result"
    }
   ],
   "source": [
    "myFirstLCA.biosphere_matrix"
   ]
  },
  {
   "cell_type": "markdown",
   "metadata": {},
   "source": [
    "It is again a CSR sparse matrix."
   ]
  },
  {
   "cell_type": "markdown",
   "metadata": {},
   "source": [
    "Exercise: Create a Pandas series with the emissions of elementary flow 'Carbon dioxide, fossil' (kilogram, None, ('air',), per unit process (before solving the system)."
   ]
  },
  {
   "cell_type": "markdown",
   "metadata": {},
   "source": [
    "Solution:"
   ]
  },
  {
   "cell_type": "code",
   "execution_count": 213,
   "metadata": {
    "collapsed": false
   },
   "outputs": [
    {
     "data": {
      "text/plain": [
       "'Carbon dioxide, fossil' (kilogram, None, ('air',))"
      ]
     },
     "execution_count": 213,
     "metadata": {},
     "output_type": "execute_result"
    }
   ],
   "source": [
    "# Find the key to the elementary flow:\n",
    "elementary_flow = [ef for ef in bw.Database('biosphere3') if \"'Carbon dioxide, fossil' (kilogram, None, ('air',)\" in str(ef)][0]\n",
    "elementary_flow"
   ]
  },
  {
   "cell_type": "code",
   "execution_count": 217,
   "metadata": {
    "collapsed": false
   },
   "outputs": [
    {
     "data": {
      "text/plain": [
       "559"
      ]
     },
     "execution_count": 217,
     "metadata": {},
     "output_type": "execute_result"
    }
   ],
   "source": [
    "index = myFirstLCA.biosphere_dict[('biosphere3', elementary_flow['code'])]\n",
    "index"
   ]
  },
  {
   "cell_type": "code",
   "execution_count": 225,
   "metadata": {
    "collapsed": false
   },
   "outputs": [
    {
     "data": {
      "text/plain": [
       "array([  51,   71,   74, ..., 3519, 3864, 4004], dtype=int32)"
      ]
     },
     "execution_count": 225,
     "metadata": {},
     "output_type": "execute_result"
    }
   ],
   "source": [
    "myFirstLCA.biosphere_matrix.tocoo().col"
   ]
  },
  {
   "cell_type": "code",
   "execution_count": 228,
   "metadata": {
    "collapsed": false
   },
   "outputs": [
    {
     "data": {
      "text/plain": [
       "transport, natural gas, pipeline, long distance                                     928.669983\n",
       "disposal, LCD module,  to municipal waste incineration                              633.000000\n",
       "wood chips, from industry, hardwood, burned in furnace 300kW                        580.630005\n",
       "silver, from combined gold-silver production, at refinery                           284.869995\n",
       "operation, lorry 7.5-16t, EURO5                                                     157.960007\n",
       "polystyrene, general purpose, GPPS, at plant                                         35.419998\n",
       "fungicides, at regional storehouse                                                    1.104500\n",
       "disposal, anion exchange resin f. water, 50% water, to municipal incineration         1.103400\n",
       "drying, natural gas                                                                   0.848220\n",
       "jute stalks, from fibre production, irrigated system, at farm                         0.692330\n",
       "monoammonium phosphate, as N, at regional storehouse                                  0.670000\n",
       "[sulfonyl]urea-compounds, at regional storehouse                                      0.650000\n",
       "toluene, liquid, at plant                                                             0.569470\n",
       "operation, lorry 20-28t, full, fleet average                                          0.348240\n",
       "disposal, tailings from hard coal milling, in impoundment                             0.337420\n",
       "disposal, paper, 11.2% water, to sanitary landfill                                    0.299590\n",
       "anode, aluminium electrolysis                                                         0.270370\n",
       "mine, gold                                                                            0.253000\n",
       "carbon dioxide liquid, at plant                                                       0.193160\n",
       "disposal, dust, unalloyed EAF steel, 15.4% water, to residual material landfill       0.191370\n",
       "rye grains IP, at farm                                                                0.190030\n",
       "resource correction, CuMo, copper, positive                                           0.186040\n",
       "epoxy resin, liquid, disaggregated data, at plant                                     0.184030\n",
       "lignite, burned in power plant                                                        0.175150\n",
       "precious metals from electric waste, in anode slime, at refinery                      0.126590\n",
       "treatment, rainwater mineral oil storage, to wastewater treatment, class 2            0.106000\n",
       "operation, lorry 3.5-20t, full, fleet average                                         0.075600\n",
       "sour gas, burned in gas turbine, production                                           0.060057\n",
       "clay, at mine                                                                         0.050800\n",
       "trichloroethylene, at plant                                                           0.037100\n",
       "                                                                                       ...    \n",
       "operation, freight train, diesel                                                      0.000000\n",
       "operation, passenger car                                                              0.000000\n",
       "operation, passenger car, diesel, EURO4                                               0.000000\n",
       "packaging glass, brown, at regional storage                                           0.000000\n",
       "operation, passenger car, petrol, fleet average                                       0.000000\n",
       "packaging glass, brown, at plant                                                      0.000000\n",
       "organophosphorus-compounds, at regional storehouse                                    0.000000\n",
       "operation, van < 3,5t                                                                 0.000000\n",
       "operation, trolleybus                                                                 0.000000\n",
       "operation, transoceanic tanker                                                        0.000000\n",
       "operation, transoceanic freight ship                                                  0.000000\n",
       "operation, tram                                                                       0.000000\n",
       "operation, scooter                                                                    0.000000\n",
       "operation, regular bus                                                                0.000000\n",
       "operation, passenger car, rape seed methyl ester 5%                                   0.000000\n",
       "operation, passenger car, petrol, fleet average 2010                                  0.000000\n",
       "operation, passenger car, petrol, EURO5                                               0.000000\n",
       "operation, passenger car, diesel, EURO5                                               0.000000\n",
       "operation, passenger car, petrol, EURO4                                               0.000000\n",
       "operation, passenger car, petrol, EURO3                                               0.000000\n",
       "operation, passenger car, petrol, 4% vol. ETBE with ethanol from biomass, EURO4       0.000000\n",
       "operation, passenger car, petrol, 15% vol. ETBE with ethanol from biomass, EURO4      0.000000\n",
       "operation, passenger car, natural gas                                                 0.000000\n",
       "operation, passenger car, methanol                                                    0.000000\n",
       "operation, passenger car, methane, 96 vol-%, from biogas                              0.000000\n",
       "operation, passenger car, ethanol 5%                                                  0.000000\n",
       "operation, passenger car, diesel, fleet average 2010                                  0.000000\n",
       "operation, passenger car, diesel, fleet average                                       0.000000\n",
       "operation, passenger car, diesel, EURO5, city car                                     0.000000\n",
       "1-butanol, propylene hydroformylation, at plant                                       0.000000\n",
       "Name: CO2 emissions, per unit process, in B matrix, dtype: float64"
      ]
     },
     "execution_count": 228,
     "metadata": {},
     "output_type": "execute_result"
    }
   ],
   "source": [
    "# Get the row from the matrix\n",
    "CO2_emissions = myFirstLCA.biosphere_matrix[index, :]\n",
    "# Convert it to an array\n",
    "CO2_emissions = CO2_emissions.toarray().flatten()\n",
    "# Generate a list of activity names for each column\n",
    "activity_names = [bw.get_activity(myFirstLCA_reverse_activity_dict[j])['name'] for j in myFirstLCA.biosphere_matrix.tocoo().col]\n",
    "# Generate a Series:\n",
    "pd.Series(dict(zip(activity_names, CO2_emissions)), name=\"CO2 emissions, per unit process, in B matrix\").sort_values(ascending=False)"
   ]
  },
  {
   "cell_type": "markdown",
   "metadata": {},
   "source": [
    "This is actually a quite slow way to do it: better to use db_loaded..."
   ]
  },
  {
   "cell_type": "code",
   "execution_count": 229,
   "metadata": {
    "collapsed": true
   },
   "outputs": [],
   "source": [
    "# TO DO..."
   ]
  },
  {
   "cell_type": "markdown",
   "metadata": {
    "deletable": true,
    "editable": true
   },
   "source": [
    "**Supply matrix**: Vector containing the amount each activity will need to provide to meet the functional demand, i.e. $s=A^{-1}f$."
   ]
  },
  {
   "cell_type": "code",
   "execution_count": 82,
   "metadata": {
    "collapsed": false,
    "deletable": true,
    "editable": true
   },
   "outputs": [
    {
     "data": {
      "text/plain": [
       "array([  1.77019883e-02,   0.00000000e+00,   1.34047711e-12, ...,\n",
       "         0.00000000e+00,   3.01343875e-10,   0.00000000e+00])"
      ]
     },
     "execution_count": 82,
     "metadata": {},
     "output_type": "execute_result"
    }
   ],
   "source": [
    "myFirstLCA.supply_array"
   ]
  },
  {
   "cell_type": "markdown",
   "metadata": {
    "deletable": true,
    "editable": true
   },
   "source": [
    "**Inventory matrix**: Contains the inventory *by activity* (i.e. not summed). In other words, we do not have $g=BA^{-1}f$, but rather $G=B diag(A^{-1}f)$"
   ]
  },
  {
   "cell_type": "code",
   "execution_count": 150,
   "metadata": {
    "collapsed": false
   },
   "outputs": [
    {
     "data": {
      "text/plain": [
       "<1584x4087 sparse matrix of type '<class 'numpy.float64'>'\n",
       "\twith 50231 stored elements in Compressed Sparse Row format>"
      ]
     },
     "execution_count": 150,
     "metadata": {},
     "output_type": "execute_result"
    }
   ],
   "source": [
    "myFirstLCA.inventory"
   ]
  },
  {
   "cell_type": "code",
   "execution_count": 151,
   "metadata": {
    "collapsed": false
   },
   "outputs": [
    {
     "data": {
      "text/plain": [
       "array([    0,    45,    58, ..., 50194, 50219, 50231], dtype=int32)"
      ]
     },
     "execution_count": 151,
     "metadata": {},
     "output_type": "execute_result"
    }
   ],
   "source": [
    "myFirstLCA.inventory.indptr"
   ]
  },
  {
   "cell_type": "code",
   "execution_count": 152,
   "metadata": {
    "collapsed": false
   },
   "outputs": [
    {
     "data": {
      "text/plain": [
       "array([4004, 3864, 3848, ..., 1301,  957,  710], dtype=int32)"
      ]
     },
     "execution_count": 152,
     "metadata": {},
     "output_type": "execute_result"
    }
   ],
   "source": [
    "myFirstLCA.inventory.indices"
   ]
  },
  {
   "cell_type": "code",
   "execution_count": 153,
   "metadata": {
    "collapsed": false
   },
   "outputs": [
    {
     "data": {
      "text/plain": [
       "array([  1.12567342e-15,   1.70728727e-13,   9.60963721e-16, ...,\n",
       "         1.35677042e-14,   3.33407514e-11,   1.67356817e-14])"
      ]
     },
     "execution_count": 153,
     "metadata": {},
     "output_type": "execute_result"
    }
   ],
   "source": [
    "myFirstLCA.inventory.data"
   ]
  },
  {
   "cell_type": "markdown",
   "metadata": {},
   "source": [
    "We can look at this matrix by storing it in a "
   ]
  },
  {
   "cell_type": "code",
   "execution_count": 131,
   "metadata": {
    "collapsed": false
   },
   "outputs": [
    {
     "data": {
      "text/plain": [
       "array([[ 0.,  0.,  0., ...,  0.,  0.,  0.],\n",
       "       [ 0.,  0.,  0., ...,  0.,  0.,  0.],\n",
       "       [ 0.,  0.,  0., ...,  0.,  0.,  0.],\n",
       "       ..., \n",
       "       [ 0.,  0.,  0., ...,  0.,  0.,  0.],\n",
       "       [ 0.,  0.,  0., ...,  0.,  0.,  0.],\n",
       "       [ 0.,  0.,  0., ...,  0.,  0.,  0.]])"
      ]
     },
     "execution_count": 131,
     "metadata": {},
     "output_type": "execute_result"
    }
   ],
   "source": [
    "myFirstLCA.inventory.toarray()"
   ]
  },
  {
   "cell_type": "code",
   "execution_count": 130,
   "metadata": {
    "collapsed": false
   },
   "outputs": [
    {
     "data": {
      "text/html": [
       "<div>\n",
       "<table border=\"1\" class=\"dataframe\">\n",
       "  <thead>\n",
       "    <tr style=\"text-align: right;\">\n",
       "      <th></th>\n",
       "      <th>0</th>\n",
       "      <th>1</th>\n",
       "      <th>2</th>\n",
       "      <th>3</th>\n",
       "      <th>4</th>\n",
       "      <th>5</th>\n",
       "      <th>6</th>\n",
       "      <th>7</th>\n",
       "      <th>8</th>\n",
       "      <th>9</th>\n",
       "      <th>...</th>\n",
       "      <th>4077</th>\n",
       "      <th>4078</th>\n",
       "      <th>4079</th>\n",
       "      <th>4080</th>\n",
       "      <th>4081</th>\n",
       "      <th>4082</th>\n",
       "      <th>4083</th>\n",
       "      <th>4084</th>\n",
       "      <th>4085</th>\n",
       "      <th>4086</th>\n",
       "    </tr>\n",
       "  </thead>\n",
       "  <tbody>\n",
       "    <tr>\n",
       "      <th>0</th>\n",
       "      <td>0.0</td>\n",
       "      <td>0.0</td>\n",
       "      <td>0.0</td>\n",
       "      <td>0.000000e+00</td>\n",
       "      <td>0.0</td>\n",
       "      <td>0.0</td>\n",
       "      <td>0.000000e+00</td>\n",
       "      <td>0.0</td>\n",
       "      <td>0.0</td>\n",
       "      <td>0.0</td>\n",
       "      <td>...</td>\n",
       "      <td>0.0</td>\n",
       "      <td>0.0</td>\n",
       "      <td>0.0</td>\n",
       "      <td>0.0</td>\n",
       "      <td>0.0</td>\n",
       "      <td>0.0</td>\n",
       "      <td>0.0</td>\n",
       "      <td>0.0</td>\n",
       "      <td>0.0</td>\n",
       "      <td>0.0</td>\n",
       "    </tr>\n",
       "    <tr>\n",
       "      <th>1</th>\n",
       "      <td>0.0</td>\n",
       "      <td>0.0</td>\n",
       "      <td>0.0</td>\n",
       "      <td>0.000000e+00</td>\n",
       "      <td>0.0</td>\n",
       "      <td>0.0</td>\n",
       "      <td>0.000000e+00</td>\n",
       "      <td>0.0</td>\n",
       "      <td>0.0</td>\n",
       "      <td>0.0</td>\n",
       "      <td>...</td>\n",
       "      <td>0.0</td>\n",
       "      <td>0.0</td>\n",
       "      <td>0.0</td>\n",
       "      <td>0.0</td>\n",
       "      <td>0.0</td>\n",
       "      <td>0.0</td>\n",
       "      <td>0.0</td>\n",
       "      <td>0.0</td>\n",
       "      <td>0.0</td>\n",
       "      <td>0.0</td>\n",
       "    </tr>\n",
       "    <tr>\n",
       "      <th>2</th>\n",
       "      <td>0.0</td>\n",
       "      <td>0.0</td>\n",
       "      <td>0.0</td>\n",
       "      <td>0.000000e+00</td>\n",
       "      <td>0.0</td>\n",
       "      <td>0.0</td>\n",
       "      <td>0.000000e+00</td>\n",
       "      <td>0.0</td>\n",
       "      <td>0.0</td>\n",
       "      <td>0.0</td>\n",
       "      <td>...</td>\n",
       "      <td>0.0</td>\n",
       "      <td>0.0</td>\n",
       "      <td>0.0</td>\n",
       "      <td>0.0</td>\n",
       "      <td>0.0</td>\n",
       "      <td>0.0</td>\n",
       "      <td>0.0</td>\n",
       "      <td>0.0</td>\n",
       "      <td>0.0</td>\n",
       "      <td>0.0</td>\n",
       "    </tr>\n",
       "    <tr>\n",
       "      <th>3</th>\n",
       "      <td>0.0</td>\n",
       "      <td>0.0</td>\n",
       "      <td>0.0</td>\n",
       "      <td>3.666096e-15</td>\n",
       "      <td>0.0</td>\n",
       "      <td>0.0</td>\n",
       "      <td>3.249256e-11</td>\n",
       "      <td>0.0</td>\n",
       "      <td>0.0</td>\n",
       "      <td>0.0</td>\n",
       "      <td>...</td>\n",
       "      <td>0.0</td>\n",
       "      <td>0.0</td>\n",
       "      <td>0.0</td>\n",
       "      <td>0.0</td>\n",
       "      <td>0.0</td>\n",
       "      <td>0.0</td>\n",
       "      <td>0.0</td>\n",
       "      <td>0.0</td>\n",
       "      <td>0.0</td>\n",
       "      <td>0.0</td>\n",
       "    </tr>\n",
       "    <tr>\n",
       "      <th>4</th>\n",
       "      <td>0.0</td>\n",
       "      <td>0.0</td>\n",
       "      <td>0.0</td>\n",
       "      <td>0.000000e+00</td>\n",
       "      <td>0.0</td>\n",
       "      <td>0.0</td>\n",
       "      <td>0.000000e+00</td>\n",
       "      <td>0.0</td>\n",
       "      <td>0.0</td>\n",
       "      <td>0.0</td>\n",
       "      <td>...</td>\n",
       "      <td>0.0</td>\n",
       "      <td>0.0</td>\n",
       "      <td>0.0</td>\n",
       "      <td>0.0</td>\n",
       "      <td>0.0</td>\n",
       "      <td>0.0</td>\n",
       "      <td>0.0</td>\n",
       "      <td>0.0</td>\n",
       "      <td>0.0</td>\n",
       "      <td>0.0</td>\n",
       "    </tr>\n",
       "  </tbody>\n",
       "</table>\n",
       "<p>5 rows × 4087 columns</p>\n",
       "</div>"
      ],
      "text/plain": [
       "   0     1     2             3     4     5             6     7     8     9     \\\n",
       "0   0.0   0.0   0.0  0.000000e+00   0.0   0.0  0.000000e+00   0.0   0.0   0.0   \n",
       "1   0.0   0.0   0.0  0.000000e+00   0.0   0.0  0.000000e+00   0.0   0.0   0.0   \n",
       "2   0.0   0.0   0.0  0.000000e+00   0.0   0.0  0.000000e+00   0.0   0.0   0.0   \n",
       "3   0.0   0.0   0.0  3.666096e-15   0.0   0.0  3.249256e-11   0.0   0.0   0.0   \n",
       "4   0.0   0.0   0.0  0.000000e+00   0.0   0.0  0.000000e+00   0.0   0.0   0.0   \n",
       "\n",
       "   ...   4077  4078  4079  4080  4081  4082  4083  4084  4085  4086  \n",
       "0  ...    0.0   0.0   0.0   0.0   0.0   0.0   0.0   0.0   0.0   0.0  \n",
       "1  ...    0.0   0.0   0.0   0.0   0.0   0.0   0.0   0.0   0.0   0.0  \n",
       "2  ...    0.0   0.0   0.0   0.0   0.0   0.0   0.0   0.0   0.0   0.0  \n",
       "3  ...    0.0   0.0   0.0   0.0   0.0   0.0   0.0   0.0   0.0   0.0  \n",
       "4  ...    0.0   0.0   0.0   0.0   0.0   0.0   0.0   0.0   0.0   0.0  \n",
       "\n",
       "[5 rows x 4087 columns]"
      ]
     },
     "execution_count": 130,
     "metadata": {},
     "output_type": "execute_result"
    }
   ],
   "source": [
    "pd.DataFrame(myFirstLCA.inventory.toarray()).head(3)"
   ]
  },
  {
   "cell_type": "code",
   "execution_count": 84,
   "metadata": {
    "collapsed": false,
    "deletable": true,
    "editable": true
   },
   "outputs": [
    {
     "name": "stdout",
     "output_type": "stream",
     "text": [
      "  (0, 4004)\t1.12567341965e-15\n",
      "  (0, 3864)\t1.70728727437e-13\n",
      "  (0, 3848)\t9.60963720997e-16\n",
      "  (0, 3841)\t8.31696700832e-16\n",
      "  (0, 3817)\t5.39798080518e-22\n",
      "  (0, 3789)\t1.62826612912e-11\n",
      "  (0, 3737)\t1.06304300772e-15\n",
      "  (0, 3666)\t4.16149201675e-13\n",
      "  (0, 3630)\t9.95214594355e-12\n",
      "  (0, 3604)\t7.66906144939e-18\n",
      "  (0, 3519)\t1.69276837471e-15\n",
      "  (0, 3414)\t8.64446165297e-19\n",
      "  (0, 3129)\t5.09974491734e-13\n",
      "  (0, 3049)\t1.19705555293e-12\n",
      "  (0, 3014)\t1.11424676673e-11\n",
      "  (0, 2848)\t1.22497780619e-17\n",
      "  (0, 2772)\t1.66627887584e-14\n",
      "  (0, 2730)\t1.01223668536e-11\n",
      "  (0, 2649)\t2.21095561615e-14\n",
      "  (0, 2639)\t9.49222033136e-17\n",
      "  (0, 2562)\t3.17702639645e-14\n",
      "  (0, 2540)\t1.24852484522e-08\n",
      "  (0, 2513)\t1.02294564513e-11\n",
      "  (0, 2454)\t3.89930739511e-09\n",
      "  (0, 2429)\t2.59480956525e-14\n",
      "  :\t:\n",
      "  (1582, 1905)\t9.42754501698e-14\n",
      "  (1582, 1834)\t1.49145983641e-10\n",
      "  (1582, 1301)\t1.22589526578e-16\n",
      "  (1582, 1288)\t8.19207779718e-10\n",
      "  (1582, 1105)\t2.37527790991e-10\n",
      "  (1582, 1021)\t3.48673604883e-12\n",
      "  (1582, 957)\t7.41893923473e-13\n",
      "  (1582, 770)\t4.62422654487e-09\n",
      "  (1582, 710)\t1.1213366233e-15\n",
      "  (1582, 652)\t9.24925537295e-10\n",
      "  (1582, 484)\t6.20943682143e-13\n",
      "  (1582, 414)\t2.70268430223e-10\n",
      "  (1582, 79)\t1.03343082546e-11\n",
      "  (1583, 4004)\t4.96109312284e-11\n",
      "  (1583, 3864)\t7.14373430608e-09\n",
      "  (1583, 3519)\t7.35571837692e-11\n",
      "  (1583, 2848)\t5.29971771298e-13\n",
      "  (1583, 2639)\t4.33548609259e-12\n",
      "  (1583, 2540)\t0.00436648656652\n",
      "  (1583, 2050)\t1.16997382838e-08\n",
      "  (1583, 1972)\t1.268176494e-13\n",
      "  (1583, 1834)\t9.34319804112e-09\n",
      "  (1583, 1301)\t1.35677042378e-14\n",
      "  (1583, 957)\t3.33407514089e-11\n",
      "  (1583, 710)\t1.67356817023e-14\n"
     ]
    }
   ],
   "source": [
    "print(myFirstLCA.inventory)"
   ]
  },
  {
   "cell_type": "markdown",
   "metadata": {
    "deletable": true,
    "editable": true
   },
   "source": [
    "tech_params, bioparams\n",
    "The matrices above only get populated with numbers. However, behind these are the structured arrays mentioned above. These are also accessible:"
   ]
  },
  {
   "cell_type": "code",
   "execution_count": 85,
   "metadata": {
    "collapsed": true,
    "deletable": true,
    "editable": true
   },
   "outputs": [],
   "source": [
    "import pandas as pd"
   ]
  },
  {
   "cell_type": "code",
   "execution_count": 86,
   "metadata": {
    "collapsed": false,
    "deletable": true,
    "editable": true
   },
   "outputs": [
    {
     "data": {
      "text/html": [
       "<div>\n",
       "<table border=\"1\" class=\"dataframe\">\n",
       "  <thead>\n",
       "    <tr style=\"text-align: right;\">\n",
       "      <th></th>\n",
       "      <th>input</th>\n",
       "      <th>output</th>\n",
       "      <th>row</th>\n",
       "      <th>col</th>\n",
       "      <th>type</th>\n",
       "      <th>uncertainty_type</th>\n",
       "      <th>amount</th>\n",
       "      <th>loc</th>\n",
       "      <th>scale</th>\n",
       "      <th>shape</th>\n",
       "      <th>minimum</th>\n",
       "      <th>maximum</th>\n",
       "      <th>negative</th>\n",
       "    </tr>\n",
       "  </thead>\n",
       "  <tbody>\n",
       "    <tr>\n",
       "      <th>0</th>\n",
       "      <td>17861</td>\n",
       "      <td>17861</td>\n",
       "      <td>0</td>\n",
       "      <td>0</td>\n",
       "      <td>0</td>\n",
       "      <td>0</td>\n",
       "      <td>1.0</td>\n",
       "      <td>1.0</td>\n",
       "      <td>NaN</td>\n",
       "      <td>NaN</td>\n",
       "      <td>NaN</td>\n",
       "      <td>NaN</td>\n",
       "      <td>False</td>\n",
       "    </tr>\n",
       "    <tr>\n",
       "      <th>1</th>\n",
       "      <td>17862</td>\n",
       "      <td>17862</td>\n",
       "      <td>1</td>\n",
       "      <td>1</td>\n",
       "      <td>0</td>\n",
       "      <td>0</td>\n",
       "      <td>1.0</td>\n",
       "      <td>1.0</td>\n",
       "      <td>NaN</td>\n",
       "      <td>NaN</td>\n",
       "      <td>NaN</td>\n",
       "      <td>NaN</td>\n",
       "      <td>False</td>\n",
       "    </tr>\n",
       "  </tbody>\n",
       "</table>\n",
       "</div>"
      ],
      "text/plain": [
       "   input  output  row  col  type  uncertainty_type  amount  loc  scale  shape  \\\n",
       "0  17861   17861    0    0     0                 0     1.0  1.0    NaN    NaN   \n",
       "1  17862   17862    1    1     0                 0     1.0  1.0    NaN    NaN   \n",
       "\n",
       "   minimum  maximum negative  \n",
       "0      NaN      NaN    False  \n",
       "1      NaN      NaN    False  "
      ]
     },
     "execution_count": 86,
     "metadata": {},
     "output_type": "execute_result"
    }
   ],
   "source": [
    "pd.DataFrame(myFirstLCA.tech_params).head(2)"
   ]
  },
  {
   "cell_type": "code",
   "execution_count": 125,
   "metadata": {
    "collapsed": false,
    "deletable": true,
    "editable": true
   },
   "outputs": [
    {
     "data": {
      "text/html": [
       "<div>\n",
       "<table border=\"1\" class=\"dataframe\">\n",
       "  <thead>\n",
       "    <tr style=\"text-align: right;\">\n",
       "      <th></th>\n",
       "      <th>input</th>\n",
       "      <th>output</th>\n",
       "      <th>row</th>\n",
       "      <th>col</th>\n",
       "      <th>type</th>\n",
       "      <th>uncertainty_type</th>\n",
       "      <th>amount</th>\n",
       "      <th>loc</th>\n",
       "      <th>scale</th>\n",
       "      <th>shape</th>\n",
       "      <th>minimum</th>\n",
       "      <th>maximum</th>\n",
       "      <th>negative</th>\n",
       "    </tr>\n",
       "  </thead>\n",
       "  <tbody>\n",
       "    <tr>\n",
       "      <th>0</th>\n",
       "      <td>3</td>\n",
       "      <td>17912</td>\n",
       "      <td>0</td>\n",
       "      <td>51</td>\n",
       "      <td>2</td>\n",
       "      <td>2</td>\n",
       "      <td>6.005100e-03</td>\n",
       "      <td>-5.115146</td>\n",
       "      <td>0.808276</td>\n",
       "      <td>NaN</td>\n",
       "      <td>NaN</td>\n",
       "      <td>NaN</td>\n",
       "      <td>False</td>\n",
       "    </tr>\n",
       "    <tr>\n",
       "      <th>1</th>\n",
       "      <td>3</td>\n",
       "      <td>17932</td>\n",
       "      <td>0</td>\n",
       "      <td>71</td>\n",
       "      <td>2</td>\n",
       "      <td>2</td>\n",
       "      <td>4.151800e-07</td>\n",
       "      <td>-14.694553</td>\n",
       "      <td>0.231867</td>\n",
       "      <td>NaN</td>\n",
       "      <td>NaN</td>\n",
       "      <td>NaN</td>\n",
       "      <td>False</td>\n",
       "    </tr>\n",
       "  </tbody>\n",
       "</table>\n",
       "</div>"
      ],
      "text/plain": [
       "   input  output  row  col  type  uncertainty_type        amount        loc  \\\n",
       "0      3   17912    0   51     2                 2  6.005100e-03  -5.115146   \n",
       "1      3   17932    0   71     2                 2  4.151800e-07 -14.694553   \n",
       "\n",
       "      scale  shape  minimum  maximum negative  \n",
       "0  0.808276    NaN      NaN      NaN    False  \n",
       "1  0.231867    NaN      NaN      NaN    False  "
      ]
     },
     "execution_count": 125,
     "metadata": {},
     "output_type": "execute_result"
    }
   ],
   "source": [
    "pd.DataFrame(myFirstLCA.bio_params).head(2)"
   ]
  },
  {
   "cell_type": "markdown",
   "metadata": {
    "deletable": true,
    "editable": true
   },
   "source": [
    "We can manually aggregate the LCI if we want:"
   ]
  },
  {
   "cell_type": "code",
   "execution_count": 89,
   "metadata": {
    "collapsed": false,
    "deletable": true,
    "editable": true
   },
   "outputs": [
    {
     "data": {
      "text/plain": [
       "(1584, 4087)"
      ]
     },
     "execution_count": 89,
     "metadata": {},
     "output_type": "execute_result"
    }
   ],
   "source": [
    "myFirstLCA.inventory.shape"
   ]
  },
  {
   "cell_type": "code",
   "execution_count": 90,
   "metadata": {
    "collapsed": false,
    "deletable": true,
    "editable": true
   },
   "outputs": [],
   "source": [
    "LCI_summed = myFirstLCA.inventory.sum(axis=1)"
   ]
  },
  {
   "cell_type": "markdown",
   "metadata": {
    "deletable": true,
    "editable": true
   },
   "source": [
    "Again, to identify what number corresponds to what, you need to use the biosphere_dict or its reverse (see [here](http://stackoverflow.com/questions/39494583/connecting-exchange-names-and-codes-to-lca-inventory-results/39518156#39518156))"
   ]
  },
  {
   "cell_type": "markdown",
   "metadata": {
    "deletable": true,
    "editable": true
   },
   "source": [
    "Next step: **LCIA**"
   ]
  },
  {
   "cell_type": "code",
   "execution_count": 91,
   "metadata": {
    "collapsed": true,
    "deletable": true,
    "editable": true
   },
   "outputs": [],
   "source": [
    "myFirstLCA.lcia()"
   ]
  },
  {
   "cell_type": "markdown",
   "metadata": {
    "deletable": true,
    "editable": true
   },
   "source": [
    "A number of other matrices are now available:"
   ]
  },
  {
   "cell_type": "code",
   "execution_count": 92,
   "metadata": {
    "collapsed": false,
    "deletable": true,
    "editable": true
   },
   "outputs": [
    {
     "data": {
      "text/plain": [
       "<1584x1584 sparse matrix of type '<class 'numpy.float64'>'\n",
       "\twith 67 stored elements in Compressed Sparse Row format>"
      ]
     },
     "execution_count": 92,
     "metadata": {},
     "output_type": "execute_result"
    }
   ],
   "source": [
    "myFirstLCA.characterization_matrix"
   ]
  },
  {
   "cell_type": "code",
   "execution_count": 93,
   "metadata": {
    "collapsed": false,
    "deletable": true,
    "editable": true
   },
   "outputs": [
    {
     "data": {
      "text/plain": [
       "(1584, 1584)"
      ]
     },
     "execution_count": 93,
     "metadata": {},
     "output_type": "execute_result"
    }
   ],
   "source": [
    "myFirstLCA.characterization_matrix.shape"
   ]
  },
  {
   "cell_type": "code",
   "execution_count": 94,
   "metadata": {
    "collapsed": false,
    "deletable": true,
    "editable": true
   },
   "outputs": [
    {
     "data": {
      "text/plain": [
       "<1584x4087 sparse matrix of type '<class 'numpy.float64'>'\n",
       "\twith 2857 stored elements in Compressed Sparse Row format>"
      ]
     },
     "execution_count": 94,
     "metadata": {},
     "output_type": "execute_result"
    }
   ],
   "source": [
    "myFirstLCA.characterized_inventory"
   ]
  },
  {
   "cell_type": "markdown",
   "metadata": {
    "deletable": true,
    "editable": true
   },
   "source": [
    "The overall score is now an attribute of the LCA object: "
   ]
  },
  {
   "cell_type": "code",
   "execution_count": 95,
   "metadata": {
    "collapsed": false,
    "deletable": true,
    "editable": true
   },
   "outputs": [
    {
     "data": {
      "text/plain": [
       "4.090895588283267"
      ]
     },
     "execution_count": 95,
     "metadata": {},
     "output_type": "execute_result"
    }
   ],
   "source": [
    "myFirstLCA.score"
   ]
  },
  {
   "cell_type": "markdown",
   "metadata": {},
   "source": [
    "We also could have determined what this score was by summing the elements of our `characterized_inventory` matrix:"
   ]
  },
  {
   "cell_type": "code",
   "execution_count": 97,
   "metadata": {
    "collapsed": false
   },
   "outputs": [
    {
     "data": {
      "text/plain": [
       "4.0908955882832672"
      ]
     },
     "execution_count": 97,
     "metadata": {},
     "output_type": "execute_result"
    }
   ],
   "source": [
    "myFirstLCA.characterized_inventory.sum()"
   ]
  },
  {
   "cell_type": "markdown",
   "metadata": {},
   "source": [
    "We could also calculate the score by elementary flow (summing columns for each rows), irrespective of the unit process that produced it:"
   ]
  },
  {
   "cell_type": "code",
   "execution_count": 109,
   "metadata": {
    "collapsed": true
   },
   "outputs": [],
   "source": [
    "elementary_flow_contribution = myFirstLCA.characterized_inventory.sum(axis=1) #Axis is the dimension I want to sum over:"
   ]
  },
  {
   "cell_type": "code",
   "execution_count": 112,
   "metadata": {
    "collapsed": false
   },
   "outputs": [
    {
     "data": {
      "text/plain": [
       "(1584, 1)"
      ]
     },
     "execution_count": 112,
     "metadata": {},
     "output_type": "execute_result"
    }
   ],
   "source": [
    "elementary_flow_contribution.shape"
   ]
  },
  {
   "cell_type": "markdown",
   "metadata": {},
   "source": [
    "Notice that is has **two** dimensions. The result is in fact a one-dimensional matrix:"
   ]
  },
  {
   "cell_type": "code",
   "execution_count": 111,
   "metadata": {
    "collapsed": false
   },
   "outputs": [
    {
     "data": {
      "text/plain": [
       "numpy.matrixlib.defmatrix.matrix"
      ]
     },
     "execution_count": 111,
     "metadata": {},
     "output_type": "execute_result"
    }
   ],
   "source": [
    "type(elementary_flow_contribution)"
   ]
  },
  {
   "cell_type": "markdown",
   "metadata": {},
   "source": [
    "To convert it to an array (probably more useful for many purposes), you can use any of the following approaches:"
   ]
  },
  {
   "cell_type": "code",
   "execution_count": 115,
   "metadata": {
    "collapsed": true
   },
   "outputs": [],
   "source": [
    "import numpy as np"
   ]
  },
  {
   "cell_type": "code",
   "execution_count": 124,
   "metadata": {
    "collapsed": false
   },
   "outputs": [
    {
     "data": {
      "text/plain": [
       "array([ 0.,  0.,  0., ...,  0.,  0.,  0.])"
      ]
     },
     "execution_count": 124,
     "metadata": {},
     "output_type": "execute_result"
    }
   ],
   "source": [
    "elementary_flow_contribution.A1 \n",
    "#np.squeeze(np.asarray(elementary_flow_contribution))\n",
    "#np.asarray(elementary_flow_contribution).reshape(-1)\n",
    "#np.array(elementary_flow_contribution).flatten()\n",
    "#np.array(elementary_flow_contribution).ravel()"
   ]
  },
  {
   "cell_type": "markdown",
   "metadata": {},
   "source": [
    "Excercise: Create a Pandas series that has the scores per unit process, sorted by value (contribution analysis)"
   ]
  }
 ],
 "metadata": {
  "kernelspec": {
   "display_name": "Python 3",
   "language": "python",
   "name": "python3"
  },
  "language_info": {
   "codemirror_mode": {
    "name": "ipython",
    "version": 3
   },
   "file_extension": ".py",
   "mimetype": "text/x-python",
   "name": "python",
   "nbconvert_exporter": "python",
   "pygments_lexer": "ipython3",
   "version": "3.5.2"
  },
  "widgets": {
   "state": {},
   "version": "1.1.2"
  }
 },
 "nbformat": 4,
 "nbformat_minor": 0
}
