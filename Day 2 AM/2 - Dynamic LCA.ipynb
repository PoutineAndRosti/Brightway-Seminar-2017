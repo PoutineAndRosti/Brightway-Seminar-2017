{
 "cells": [
  {
   "cell_type": "markdown",
   "metadata": {
    "deletable": true,
    "editable": true
   },
   "source": [
    "# New Requirements\n",
    "\n",
    "* arrow\n",
    "* future\n",
    "* bw2temporalis\n",
    "\n",
    "Install as usual:\n",
    "\n",
    "    conda install -y -q -c cmutel arrow future bw2temporalis\n",
    "    \n",
    "# Technosphere matrix as a graph\n",
    "\n",
    "We built the technospehre matrix as a series of linear equations, but we can also think of the matrix as an [adjecency matrix](https://en.wikipedia.org/wiki/Adjacency_matrix). Our supply chain graph is [edge-weighted](https://en.wikipedia.org/wiki/Glossary_of_graph_theory_terms#weighted_graph) and [directed](https://en.wikipedia.org/wiki/Directed_graph).\n",
    "\n",
    "* It is edge-weighted because the edges (exchanges) have numeric values indicating \"how much stuff\" flows through that edge.\n",
    "* It is directed because each edge represents a flow in a certain direction - there is a consumer and a producer. Note that it is possible to have edges in both directions.\n",
    "\n",
    "There is no \"starting point\" in such a graph, but we would start with the node which represents the functional unit when traversing the graph.\n",
    "\n",
    "Why would we want to traverse our graph? Graph traversal gives us more information about where impacts occur, but it also allows us to switch form a strictly linear model to something more complicated.\n",
    "\n",
    "Let's start by doing a simple graph traversal:"
   ]
  },
  {
   "cell_type": "markdown",
   "metadata": {
    "deletable": true,
    "editable": true
   },
   "source": [
    "# The temporalis library"
   ]
  },
  {
   "cell_type": "code",
   "execution_count": 1,
   "metadata": {
    "collapsed": false,
    "deletable": true,
    "editable": true
   },
   "outputs": [
    {
     "name": "stderr",
     "output_type": "stream",
     "text": [
      "Warning: Interpreting naive datetime as local 2017-03-24 20:23:20.894169. Please add timezone info to timestamps.\n"
     ]
    }
   ],
   "source": [
    "import brightway2 as bw\n",
    "import bw2temporalis as t"
   ]
  },
  {
   "cell_type": "code",
   "execution_count": 2,
   "metadata": {
    "collapsed": false,
    "deletable": true,
    "editable": true
   },
   "outputs": [
    {
     "name": "stderr",
     "output_type": "stream",
     "text": [
      "Warning: Interpreting naive datetime as local 2017-03-24 20:23:24.537967. Please add timezone info to timestamps.\n"
     ]
    }
   ],
   "source": [
    "bw.projects.set_current(\"bw2_seminar_2017\")"
   ]
  },
  {
   "cell_type": "code",
   "execution_count": 13,
   "metadata": {
    "collapsed": false,
    "deletable": true,
    "editable": true
   },
   "outputs": [
    {
     "data": {
      "text/plain": [
       "DynamicMethods dictionary with 5 object(s):\n",
       "\tGTP\n",
       "\tGTP OP base\n",
       "\tGTP OP high\n",
       "\tGTP OP low\n",
       "\tRadiative Forcing"
      ]
     },
     "execution_count": 13,
     "metadata": {},
     "output_type": "execute_result"
    },
    {
     "name": "stderr",
     "output_type": "stream",
     "text": [
      "Warning: Interpreting naive datetime as local 2017-03-25 20:41:56.393330. Please add timezone info to timestamps.\n"
     ]
    }
   ],
   "source": [
    "t.dynamic_methods"
   ]
  },
  {
   "cell_type": "code",
   "execution_count": 14,
   "metadata": {
    "collapsed": false,
    "deletable": true,
    "editable": true
   },
   "outputs": [
    {
     "data": {
      "text/plain": [
       "{'from_function': 'create_temperature_methods', 'library': 'cofire'}"
      ]
     },
     "execution_count": 14,
     "metadata": {},
     "output_type": "execute_result"
    },
    {
     "name": "stderr",
     "output_type": "stream",
     "text": [
      "Warning: Interpreting naive datetime as local 2017-03-25 20:41:58.056903. Please add timezone info to timestamps.\n"
     ]
    }
   ],
   "source": [
    "t.dynamic_methods['GTP']"
   ]
  },
  {
   "cell_type": "code",
   "execution_count": 32,
   "metadata": {
    "collapsed": false,
    "deletable": true,
    "editable": true
   },
   "outputs": [
    {
     "data": {
      "text/plain": [
       "{('biosphere3',\n",
       "  '0795345f-c7ae-410c-ad25-1845784c75f5'): \"def ghg_function(datetime):\\n        from bw2temporalis.cofire.constants import ch4_gtp_td_ar5\\n        from datetime import timedelta\\n        import collections\\n        return_tuple = collections.namedtuple('return_tuple', ['dt', 'amount'])\\n        return [return_tuple(datetime + timedelta(days=365.24 * x), y) for x, y in ch4_gtp_td_ar5]\",\n",
       " ('biosphere3',\n",
       "  '16eeda8a-1ea2-408e-ab37-2648495058dd'): \"def ghg_function(datetime):\\n        from bw2temporalis.cofire.constants import co2_gtp_td_ar5\\n        from datetime import timedelta\\n        import collections\\n        return_tuple = collections.namedtuple('return_tuple', ['dt', 'amount'])\\n        return [return_tuple(datetime + timedelta(days=365.24 * x), y) for x, y in co2_gtp_td_ar5]\",\n",
       " ('biosphere3',\n",
       "  '258263a0-6be3-4439-bd84-efee0498b849'): \"def ghg_function(datetime):\\n        from bw2temporalis.cofire.constants import ch4_gtp_td_ar5\\n        from datetime import timedelta\\n        import collections\\n        return_tuple = collections.namedtuple('return_tuple', ['dt', 'amount'])\\n        return [return_tuple(datetime + timedelta(days=365.24 * x), y) for x, y in ch4_gtp_td_ar5]\",\n",
       " ('biosphere3',\n",
       "  '28e1e2d6-97ad-4dfd-932a-9edad36dcab9'): \"def ghg_function(datetime):\\n        from bw2temporalis.cofire.constants import co2_gtp_td_ar5\\n        from datetime import timedelta\\n        import collections\\n        return_tuple = collections.namedtuple('return_tuple', ['dt', 'amount'])\\n        return [return_tuple(datetime + timedelta(days=365.24 * x), y) for x, y in co2_gtp_td_ar5]\",\n",
       " ('biosphere3',\n",
       "  '349b29d1-3e58-4c66-98b9-9d1a076efd2e'): \"def ghg_function(datetime):\\n        from bw2temporalis.cofire.constants import co2_gtp_td_ar5\\n        from datetime import timedelta\\n        import collections\\n        return_tuple = collections.namedtuple('return_tuple', ['dt', 'amount'])\\n        return [return_tuple(datetime + timedelta(days=365.24 * x), y) for x, y in co2_gtp_td_ar5]\",\n",
       " ('biosphere3',\n",
       "  '4e1f0bb0-2703-4303-bf86-972d810612cf'): \"def ghg_function(datetime):\\n        from bw2temporalis.cofire.constants import co2_gtp_td_ar5\\n        from datetime import timedelta\\n        import collections\\n        return_tuple = collections.namedtuple('return_tuple', ['dt', 'amount'])\\n        return [return_tuple(datetime + timedelta(days=365.24 * x), y) for x, y in co2_gtp_td_ar5]\",\n",
       " ('biosphere3',\n",
       "  '57bdb443-d4a6-423d-8024-959b8261d02e'): \"def ghg_function(datetime):\\n        from bw2temporalis.cofire.constants import ch4_gtp_td_ar5\\n        from datetime import timedelta\\n        import collections\\n        return_tuple = collections.namedtuple('return_tuple', ['dt', 'amount'])\\n        return [return_tuple(datetime + timedelta(days=365.24 * x), y) for x, y in ch4_gtp_td_ar5]\",\n",
       " ('biosphere3',\n",
       "  '5f7aad3d-566c-4d0d-ad59-e765f971aa0f'): \"def ghg_function(datetime):\\n        from bw2temporalis.cofire.constants import ch4_gtp_td_ar5\\n        from datetime import timedelta\\n        import collections\\n        return_tuple = collections.namedtuple('return_tuple', ['dt', 'amount'])\\n        return [return_tuple(datetime + timedelta(days=365.24 * x), y) for x, y in ch4_gtp_td_ar5]\",\n",
       " ('biosphere3',\n",
       "  '6900ccc1-4b7a-422a-9fad-7c31eb1fc46f'): \"def ghg_function(datetime):\\n        from bw2temporalis.cofire.constants import co2_gtp_td_ar5\\n        from datetime import timedelta\\n        import collections\\n        return_tuple = collections.namedtuple('return_tuple', ['dt', 'amount'])\\n        return [return_tuple(datetime + timedelta(days=365.24 * x), y) for x, y in co2_gtp_td_ar5]\",\n",
       " ('biosphere3',\n",
       "  '6b1b495b-70ee-4be6-b1c2-3031aa4d6add'): \"def ghg_function(datetime):\\n        from bw2temporalis.cofire.constants import ch4_gtp_td_ar5\\n        from datetime import timedelta\\n        import collections\\n        return_tuple = collections.namedtuple('return_tuple', ['dt', 'amount'])\\n        return [return_tuple(datetime + timedelta(days=365.24 * x), y) for x, y in ch4_gtp_td_ar5]\",\n",
       " ('biosphere3',\n",
       "  '6c977009-5c4e-4901-a4c1-ab20389cb972'): \"def ghg_function(datetime):\\n        from bw2temporalis.cofire.constants import ch4_gtp_td_ar5\\n        from datetime import timedelta\\n        import collections\\n        return_tuple = collections.namedtuple('return_tuple', ['dt', 'amount'])\\n        return [return_tuple(datetime + timedelta(days=365.24 * x), y) for x, y in ch4_gtp_td_ar5]\",\n",
       " ('biosphere3',\n",
       "  '70ef743b-3ed5-4a6d-b192-fb6d62378555'): \"def ghg_function(datetime):\\n        from bw2temporalis.cofire.constants import ch4_gtp_td_ar5\\n        from datetime import timedelta\\n        import collections\\n        return_tuple = collections.namedtuple('return_tuple', ['dt', 'amount'])\\n        return [return_tuple(datetime + timedelta(days=365.24 * x), y) for x, y in ch4_gtp_td_ar5]\",\n",
       " ('biosphere3',\n",
       "  '73ed05cc-9727-4abf-9516-4b5c0fe54a16'): \"def ghg_function(datetime):\\n        from bw2temporalis.cofire.constants import co2_gtp_td_ar5\\n        from datetime import timedelta\\n        import collections\\n        return_tuple = collections.namedtuple('return_tuple', ['dt', 'amount'])\\n        return [return_tuple(datetime + timedelta(days=365.24 * x), y) for x, y in co2_gtp_td_ar5]\",\n",
       " ('biosphere3',\n",
       "  'aa7cac3a-3625-41d4-bc54-33e2cf11ec46'): \"def ghg_function(datetime):\\n        from bw2temporalis.cofire.constants import co2_gtp_td_ar5\\n        from datetime import timedelta\\n        import collections\\n        return_tuple = collections.namedtuple('return_tuple', ['dt', 'amount'])\\n        return [return_tuple(datetime + timedelta(days=365.24 * x), y) for x, y in co2_gtp_td_ar5]\",\n",
       " ('biosphere3',\n",
       "  'baf58fc9-573c-419c-8c16-831ac03203b9'): \"def ghg_function(datetime):\\n        from bw2temporalis.cofire.constants import ch4_gtp_td_ar5\\n        from datetime import timedelta\\n        import collections\\n        return_tuple = collections.namedtuple('return_tuple', ['dt', 'amount'])\\n        return [return_tuple(datetime + timedelta(days=365.24 * x), y) for x, y in ch4_gtp_td_ar5]\",\n",
       " ('biosphere3',\n",
       "  'cc6a1abb-b123-4ca6-8f16-38209df609be'): \"def ghg_function(datetime):\\n        from bw2temporalis.cofire.constants import co2_gtp_td_ar5\\n        from datetime import timedelta\\n        import collections\\n        return_tuple = collections.namedtuple('return_tuple', ['dt', 'amount'])\\n        return [return_tuple(datetime + timedelta(days=365.24 * x), y) for x, y in co2_gtp_td_ar5]\",\n",
       " ('biosphere3',\n",
       "  'd6235194-e4e6-4548-bfa3-ac095131aef4'): \"def ghg_function(datetime):\\n        from bw2temporalis.cofire.constants import co2_gtp_td_ar5\\n        from datetime import timedelta\\n        import collections\\n        return_tuple = collections.namedtuple('return_tuple', ['dt', 'amount'])\\n        return [return_tuple(datetime + timedelta(days=365.24 * x), y) for x, y in co2_gtp_td_ar5]\",\n",
       " ('biosphere3',\n",
       "  'da1157e2-7593-4dfd-80dd-a3449b37a4d8'): \"def ghg_function(datetime):\\n        from bw2temporalis.cofire.constants import ch4_gtp_td_ar5\\n        from datetime import timedelta\\n        import collections\\n        return_tuple = collections.namedtuple('return_tuple', ['dt', 'amount'])\\n        return [return_tuple(datetime + timedelta(days=365.24 * x), y) for x, y in ch4_gtp_td_ar5]\",\n",
       " ('biosphere3',\n",
       "  'e259263c-d1f1-449f-bb9b-73c6d0a32a00'): \"def ghg_function(datetime):\\n        from bw2temporalis.cofire.constants import co2_gtp_td_ar5\\n        from datetime import timedelta\\n        import collections\\n        return_tuple = collections.namedtuple('return_tuple', ['dt', 'amount'])\\n        return [return_tuple(datetime + timedelta(days=365.24 * x), y) for x, y in co2_gtp_td_ar5]\",\n",
       " ('biosphere3',\n",
       "  'eba59fd6-f37e-41dc-9ca3-c7ea22d602c7'): \"def ghg_function(datetime):\\n        from bw2temporalis.cofire.constants import co2_gtp_td_ar5\\n        from datetime import timedelta\\n        import collections\\n        return_tuple = collections.namedtuple('return_tuple', ['dt', 'amount'])\\n        return [return_tuple(datetime + timedelta(days=365.24 * x), y) for x, y in co2_gtp_td_ar5]\",\n",
       " ('biosphere3',\n",
       "  'f3bd723a-5276-4ae8-9860-b89537351a90'): \"def ghg_function(datetime):\\n        from bw2temporalis.cofire.constants import ch4_gtp_td_ar5\\n        from datetime import timedelta\\n        import collections\\n        return_tuple = collections.namedtuple('return_tuple', ['dt', 'amount'])\\n        return [return_tuple(datetime + timedelta(days=365.24 * x), y) for x, y in ch4_gtp_td_ar5]\",\n",
       " ('biosphere3',\n",
       "  'f9749677-9c9f-4678-ab55-c607dfdc2cb9'): \"def ghg_function(datetime):\\n        from bw2temporalis.cofire.constants import co2_gtp_td_ar5\\n        from datetime import timedelta\\n        import collections\\n        return_tuple = collections.namedtuple('return_tuple', ['dt', 'amount'])\\n        return [return_tuple(datetime + timedelta(days=365.24 * x), y) for x, y in co2_gtp_td_ar5]\"}"
      ]
     },
     "execution_count": 32,
     "metadata": {},
     "output_type": "execute_result"
    },
    {
     "name": "stderr",
     "output_type": "stream",
     "text": [
      "Warning: Interpreting naive datetime as local 2017-03-25 20:51:52.570993. Please add timezone info to timestamps.\n"
     ]
    }
   ],
   "source": [
    "t.DynamicIAMethod('GTP').load()"
   ]
  },
  {
   "cell_type": "code",
   "execution_count": 11,
   "metadata": {
    "collapsed": false,
    "deletable": true,
    "editable": true
   },
   "outputs": [
    {
     "name": "stderr",
     "output_type": "stream",
     "text": [
      "Warning: object of type <class 'float'> cannot be safely interpreted as an integer.\n",
      "Warning: object of type <class 'float'> cannot be safely interpreted as an integer.\n",
      "Warning: object of type <class 'float'> cannot be safely interpreted as an integer.\n",
      "Warning: object of type <class 'float'> cannot be safely interpreted as an integer.\n",
      "Warning: object of type <class 'float'> cannot be safely interpreted as an integer.\n",
      "Warning: object of type <class 'float'> cannot be safely interpreted as an integer.\n",
      "Warning: object of type <class 'float'> cannot be safely interpreted as an integer.\n",
      "Warning: object of type <class 'float'> cannot be safely interpreted as an integer.\n",
      "Warning: object of type <class 'float'> cannot be safely interpreted as an integer.\n",
      "Warning: object of type <class 'float'> cannot be safely interpreted as an integer.\n",
      "Warning: object of type <class 'float'> cannot be safely interpreted as an integer.\n",
      "Warning: object of type <class 'float'> cannot be safely interpreted as an integer.\n",
      "Warning: object of type <class 'float'> cannot be safely interpreted as an integer.\n",
      "Warning: object of type <class 'float'> cannot be safely interpreted as an integer.\n",
      "Warning: object of type <class 'float'> cannot be safely interpreted as an integer.\n",
      "Warning: object of type <class 'float'> cannot be safely interpreted as an integer.\n",
      "Warning: object of type <class 'float'> cannot be safely interpreted as an integer.\n",
      "Warning: object of type <class 'float'> cannot be safely interpreted as an integer.\n",
      "Warning: Interpreting naive datetime as local 2017-03-25 20:41:46.057739. Please add timezone info to timestamps.\n"
     ]
    }
   ],
   "source": [
    "t.create_cofire_methods()"
   ]
  },
  {
   "cell_type": "code",
   "execution_count": 5,
   "metadata": {
    "collapsed": false,
    "deletable": true,
    "editable": true
   },
   "outputs": [
    {
     "data": {
      "text/plain": [
       "[('GTP', 'worst case'),\n",
       " ('GTP OP base', 'worst case'),\n",
       " ('GTP OP high', 'worst case'),\n",
       " ('GTP OP low', 'worst case'),\n",
       " ('IPCC 2013', 'climate change', 'GTP 100a'),\n",
       " ('IPCC 2013', 'climate change', 'GTP 20a'),\n",
       " ('IPCC 2013 no LT', 'climate change', 'GTP 100a'),\n",
       " ('IPCC 2013 no LT', 'climate change', 'GTP 20a'),\n",
       " ('Radiative Forcing', 'worst case')]"
      ]
     },
     "execution_count": 5,
     "metadata": {},
     "output_type": "execute_result"
    },
    {
     "name": "stderr",
     "output_type": "stream",
     "text": [
      "Warning: Interpreting naive datetime as local 2017-03-24 17:10:49.534639. Please add timezone info to timestamps.\n"
     ]
    }
   ],
   "source": [
    "sorted([x for x in bw.methods if ('GTP' in str(x) or 'Radiative' in str(x))])"
   ]
  },
  {
   "cell_type": "code",
   "execution_count": 16,
   "metadata": {
    "collapsed": false,
    "deletable": true,
    "editable": true
   },
   "outputs": [
    {
     "data": {
      "text/plain": [
       "('Methane, fossil' (kilogram, None, ('air',)),\n",
       " 'Carbon dioxide, fossil' (kilogram, None, ('air',)))"
      ]
     },
     "execution_count": 16,
     "metadata": {},
     "output_type": "execute_result"
    },
    {
     "name": "stderr",
     "output_type": "stream",
     "text": [
      "Warning: Interpreting naive datetime as local 2017-03-25 20:45:39.268127. Please add timezone info to timestamps.\n"
     ]
    }
   ],
   "source": [
    "METHANE = ('biosphere3', '0795345f-c7ae-410c-ad25-1845784c75f5')  # Methane, fossil, air, kg\n",
    "CO2 = ('biosphere3', '349b29d1-3e58-4c66-98b9-9d1a076efd2e')      # CO2, fossil, air, kg\n",
    "bw.get_activity(METHANE), bw.get_activity(CO2)"
   ]
  },
  {
   "cell_type": "code",
   "execution_count": 19,
   "metadata": {
    "collapsed": false,
    "deletable": true,
    "editable": true
   },
   "outputs": [
    {
     "name": "stderr",
     "output_type": "stream",
     "text": [
      "Writing activities to SQLite3 database:\n",
      "0%        100%\n",
      "[############] | ETA: 00:00:00\n",
      "Total time elapsed: 00:00:00\n"
     ]
    },
    {
     "name": "stdout",
     "output_type": "stream",
     "text": [
      "Title: Writing activities to SQLite3 database:\n",
      "  Started: 03/25/2017 20:48:11\n",
      "  Finished: 03/25/2017 20:48:11\n",
      "  Total time elapsed: 00:00:00\n",
      "  CPU %: 119.30\n",
      "  Memory %: 1.15\n"
     ]
    },
    {
     "name": "stderr",
     "output_type": "stream",
     "text": [
      "Warning: Interpreting naive datetime as local 2017-03-25 20:48:11.299508. Please add timezone info to timestamps.\n"
     ]
    }
   ],
   "source": [
    "data = {\n",
    "    ('temporalis-example', 'Functional Unit'): {\n",
    "        'exchanges': [\n",
    "            {\n",
    "                'amount': 5,\n",
    "                'input': ('temporalis-example', 'EOL'),\n",
    "                'temporal distribution': [\n",
    "                    (0, 1),\n",
    "                    (1, 1),\n",
    "                    (2, 1),\n",
    "                    (3, 1),\n",
    "                    (4, 1)\n",
    "                ],\n",
    "                'type': 'technosphere'\n",
    "            },\n",
    "        ],\n",
    "        'name': 'Functional Unit',\n",
    "        'type': 'process'\n",
    "    },\n",
    "    ('temporalis-example', 'EOL'): {\n",
    "        'exchanges': [\n",
    "            {\n",
    "                'amount': 0.8,\n",
    "                'input': ('temporalis-example', 'Waste'),\n",
    "                'type': 'technosphere'\n",
    "            },\n",
    "            {\n",
    "                'amount': 0.2,\n",
    "                'input': ('temporalis-example', 'Landfill'),\n",
    "                'type': 'technosphere'\n",
    "            },\n",
    "            {\n",
    "                'amount': 1,\n",
    "                'input': ('temporalis-example', 'Use'),\n",
    "                'type': 'technosphere'\n",
    "            },\n",
    "        ],\n",
    "        'name': 'EOL',\n",
    "        'type': 'process'\n",
    "    },\n",
    "    ('temporalis-example', 'Use'): {\n",
    "        'exchanges': [\n",
    "            {\n",
    "                'amount': 1,\n",
    "                'input': ('temporalis-example', 'Production'),\n",
    "                'temporal distribution': [(-0.5, 1)],\n",
    "                'type': 'technosphere'\n",
    "            },\n",
    "        ],\n",
    "        'name': 'Use',\n",
    "        'type': 'process'\n",
    "    },\n",
    "    ('temporalis-example', 'Production'): {\n",
    "        'exchanges': [\n",
    "            {\n",
    "                'amount': 1,\n",
    "                'input': ('temporalis-example', 'Transport'),\n",
    "                'temporal distribution': [(-0.1, 1)],\n",
    "                'type': 'technosphere'\n",
    "            },\n",
    "        ],\n",
    "        'name': 'Production',\n",
    "        'type': 'process'\n",
    "    },\n",
    "    ('temporalis-example', 'Transport'): {\n",
    "        'exchanges': [\n",
    "            {\n",
    "                'amount': 1,\n",
    "                'input': ('temporalis-example', 'Sawmill'),\n",
    "                'type': 'technosphere'\n",
    "            },\n",
    "            {\n",
    "                'amount': 0.1,\n",
    "                'input': CO2,\n",
    "                'type': 'biosphere'\n",
    "            },\n",
    "        ],\n",
    "        'name': 'Production',\n",
    "        'type': 'process'\n",
    "    },\n",
    "    ('temporalis-example', 'Sawmill'): {\n",
    "        'exchanges': [\n",
    "            {\n",
    "                'amount': 1.2,\n",
    "                'input': ('temporalis-example', 'Forest'),\n",
    "                'temporal distribution': [(-0.5, 1.2)],\n",
    "                'type': 'technosphere'\n",
    "            },\n",
    "            {\n",
    "                'amount': 0.1,\n",
    "                'input': CO2,\n",
    "                'type': 'biosphere'\n",
    "            },\n",
    "        ],\n",
    "        'name': 'Sawmill',\n",
    "        'type': 'process'\n",
    "    },\n",
    "    ('temporalis-example', 'Forest'): {\n",
    "        'exchanges': [\n",
    "            {\n",
    "                'amount': -.2 * 6,\n",
    "                'input': CO2,\n",
    "                'temporal distribution': [(x, -.2) for x in (0, 5, 10, 15, 20, 30)],\n",
    "                'type': 'biosphere'\n",
    "            },\n",
    "            {\n",
    "                'amount': 1.5,\n",
    "                'input': ('temporalis-example', 'Thinning'),\n",
    "                'temporal distribution': [\n",
    "                    (5, .5),\n",
    "                    (10, .5),\n",
    "                    (15, .5),\n",
    "                ],\n",
    "                'type': 'technosphere'\n",
    "            },\n",
    "        ],\n",
    "        'name': 'Forest',\n",
    "        'type': 'process'\n",
    "    },\n",
    "    ('temporalis-example', 'Thinning'): {\n",
    "        'exchanges': [\n",
    "            {\n",
    "                'amount': 1,\n",
    "                'input': ('temporalis-example', 'Thinning'),\n",
    "                'type': 'production'\n",
    "            },\n",
    "            {\n",
    "                'amount': 1,\n",
    "                'input': ('temporalis-example', 'Avoided impact - thinnings'),\n",
    "                'type': 'production'\n",
    "            },\n",
    "        ],\n",
    "        'name': 'Thinning',\n",
    "        'type': 'process'\n",
    "    },\n",
    "    ('temporalis-example', 'Landfill'): {\n",
    "        'exchanges': [\n",
    "            {\n",
    "                'amount': 0.1,\n",
    "                'input': METHANE,\n",
    "                'temporal distribution': [\n",
    "                    (20, 0.025),\n",
    "                    (30, 0.025),\n",
    "                    (40, 0.025),\n",
    "                    (50, 0.025)\n",
    "                ],\n",
    "                'type': 'biosphere'\n",
    "            },\n",
    "        ],\n",
    "        'name': 'Landfill',\n",
    "        'type': 'process'\n",
    "    },\n",
    "    ('temporalis-example', 'Waste'): {\n",
    "        'exchanges': [\n",
    "            {\n",
    "                'amount': 1,\n",
    "                'input': ('temporalis-example', 'Waste'),\n",
    "                'type': 'production'\n",
    "            },\n",
    "            {\n",
    "                'amount': 1,\n",
    "                'input': ('temporalis-example', 'Avoided impact - waste'),\n",
    "                'type': 'production'\n",
    "            },\n",
    "        ],\n",
    "        'name': 'Waste',\n",
    "        'type': 'process'\n",
    "    },\n",
    "    ('temporalis-example', 'Avoided impact - waste'): {\n",
    "        'exchanges': [\n",
    "            {\n",
    "                'amount': -0.6,\n",
    "                'input': CO2,\n",
    "                'type': 'biosphere'\n",
    "            },\n",
    "            {\n",
    "                'amount': 1,\n",
    "                'input': ('temporalis-example', 'Avoided impact - waste'),\n",
    "                'type': 'production'\n",
    "            },\n",
    "        ],\n",
    "        'name': 'Avoided impact - waste',\n",
    "        'type': 'process'\n",
    "    },\n",
    "    ('temporalis-example', 'Avoided impact - thinnings'): {\n",
    "        'exchanges': [\n",
    "            {\n",
    "                'amount': -0.2,\n",
    "                'input': CO2,\n",
    "                'type': 'biosphere'\n",
    "            },\n",
    "            {\n",
    "                'amount': 1,\n",
    "                'input': ('temporalis-example', 'Avoided impact - thinnings'),\n",
    "                'type': 'production'\n",
    "            },\n",
    "        ],\n",
    "        'name': 'Avoided impact - thinnings',\n",
    "        'type': 'process'\n",
    "    }\n",
    "}\n",
    "\n",
    "db = bw.Database(\"temporalis-example\")\n",
    "db.write(data)"
   ]
  },
  {
   "cell_type": "code",
   "execution_count": 23,
   "metadata": {
    "collapsed": false,
    "deletable": true,
    "editable": true
   },
   "outputs": [
    {
     "data": {
      "text/plain": [
       "0.19399996739625813"
      ]
     },
     "execution_count": 23,
     "metadata": {},
     "output_type": "execute_result"
    },
    {
     "name": "stderr",
     "output_type": "stream",
     "text": [
      "Warning: Interpreting naive datetime as local 2017-03-25 20:49:09.335075. Please add timezone info to timestamps.\n"
     ]
    }
   ],
   "source": [
    "lca = bw.LCA({('temporalis-example', 'EOL'): 1}, ('IPCC 2013', 'climate change', 'GWP 100a'))\n",
    "lca.lci()\n",
    "lca.lcia()\n",
    "lca.score"
   ]
  },
  {
   "cell_type": "code",
   "execution_count": 24,
   "metadata": {
    "collapsed": false,
    "deletable": true,
    "editable": true
   },
   "outputs": [
    {
     "data": {
      "text/plain": [
       "[(-1.4400001144409202, 1.2000000476837158, 'Forest'),\n",
       " (0.59400003296136916, 0.20000000298023224, 'Landfill'),\n",
       " (0.48000002622604399, -0.80000001192092896, 'Avoided impact - waste'),\n",
       " (0.36000001966953299, -1.8000000715255737, 'Avoided impact - thinnings'),\n",
       " (0.10000000149011612, 1.0, 'Sawmill'),\n",
       " (0.10000000149011612, 1.0, 'Production'),\n",
       " (0.0, 0.80000001192092896, 'Waste'),\n",
       " (0.0, 1.8000000715255737, 'Thinning'),\n",
       " (0.0, 1.0, 'Production'),\n",
       " (0.0, 1.0, 'Use'),\n",
       " (0.0, 1.0, 'EOL'),\n",
       " (0.0, 0.0, 'Functional Unit')]"
      ]
     },
     "execution_count": 24,
     "metadata": {},
     "output_type": "execute_result"
    },
    {
     "name": "stderr",
     "output_type": "stream",
     "text": [
      "Warning: Interpreting naive datetime as local 2017-03-25 20:49:24.301580. Please add timezone info to timestamps.\n"
     ]
    }
   ],
   "source": [
    "from bw2analyzer import ContributionAnalysis\n",
    "\n",
    "ContributionAnalysis().annotated_top_processes(lca)"
   ]
  },
  {
   "cell_type": "code",
   "execution_count": 25,
   "metadata": {
    "collapsed": false,
    "deletable": true,
    "editable": true
   },
   "outputs": [
    {
     "data": {
      "text/plain": [
       "[(0.59400003296136916, 0.020000000596046452, 'Methane, fossil'),\n",
       " (-0.40000006556511103, -0.40000006556511103, 'Carbon dioxide, fossil')]"
      ]
     },
     "execution_count": 25,
     "metadata": {},
     "output_type": "execute_result"
    },
    {
     "name": "stderr",
     "output_type": "stream",
     "text": [
      "Warning: Interpreting naive datetime as local 2017-03-25 20:49:49.197705. Please add timezone info to timestamps.\n"
     ]
    }
   ],
   "source": [
    "ContributionAnalysis().annotated_top_emissions(lca)"
   ]
  },
  {
   "cell_type": "code",
   "execution_count": 26,
   "metadata": {
    "collapsed": false,
    "deletable": true,
    "editable": true
   },
   "outputs": [
    {
     "name": "stderr",
     "output_type": "stream",
     "text": [
      "Warning: Interpreting naive datetime as local 2017-03-25 20:50:01.796929. Please add timezone info to timestamps.\n"
     ]
    }
   ],
   "source": [
    "%matplotlib inline"
   ]
  },
  {
   "cell_type": "code",
   "execution_count": 27,
   "metadata": {
    "collapsed": false,
    "deletable": true,
    "editable": true
   },
   "outputs": [
    {
     "name": "stderr",
     "output_type": "stream",
     "text": [
      "Warning: Interpreting naive datetime as local 2017-03-25 20:50:08.188792. Please add timezone info to timestamps.\n"
     ]
    }
   ],
   "source": [
    "from matplotlib import pyplot as plt\n",
    "import numpy as np"
   ]
  },
  {
   "cell_type": "code",
   "execution_count": 28,
   "metadata": {
    "collapsed": false,
    "deletable": true,
    "editable": true
   },
   "outputs": [
    {
     "name": "stderr",
     "output_type": "stream",
     "text": [
      "Warning: Interpreting naive datetime as local 2017-03-25 20:50:27.259750. Please add timezone info to timestamps.\n"
     ]
    }
   ],
   "source": [
    "dlca = t.DynamicLCA({('temporalis-example', 'EOL'): 1}, (\"GTP\", \"worst case\"))\n",
    "timeline = dlca.calculate()"
   ]
  },
  {
   "cell_type": "code",
   "execution_count": 29,
   "metadata": {
    "collapsed": false,
    "deletable": true,
    "editable": true
   },
   "outputs": [
    {
     "name": "stderr",
     "output_type": "stream",
     "text": [
      "Warning: Interpreting naive datetime as local 2017-03-25 20:50:52.748100. Please add timezone info to timestamps.\n"
     ]
    }
   ],
   "source": [
    "characterized = timeline.characterize_dynamic(\"GTP\")"
   ]
  },
  {
   "cell_type": "code",
   "execution_count": 30,
   "metadata": {
    "collapsed": false,
    "deletable": true,
    "editable": true
   },
   "outputs": [
    {
     "data": {
      "image/png": "[encoded data removed]",
      "text/plain": [
       "<matplotlib.figure.Figure at 0x110c4b208>"
      ]
     },
     "metadata": {},
     "output_type": "display_data"
    },
    {
     "name": "stderr",
     "output_type": "stream",
     "text": [
      "Warning: Interpreting naive datetime as local 2017-03-25 20:51:01.715982. Please add timezone info to timestamps.\n"
     ]
    }
   ],
   "source": [
    "plt.plot(*characterized)\n",
    "plt.xlabel(\"Time (years)\")\n",
    "plt.ylabel(r\"$\\Delta T$ (° Kelvin)\")\n",
    "plt.tight_layout()"
   ]
  },
  {
   "cell_type": "code",
   "execution_count": null,
   "metadata": {
    "collapsed": true,
    "deletable": true,
    "editable": true
   },
   "outputs": [],
   "source": []
  }
 ],
 "metadata": {
  "kernelspec": {
   "display_name": "Python 3",
   "language": "python",
   "name": "python3"
  },
  "language_info": {
   "codemirror_mode": {
    "name": "ipython",
    "version": 3
   },
   "file_extension": ".py",
   "mimetype": "text/x-python",
   "name": "python",
   "nbconvert_exporter": "python",
   "pygments_lexer": "ipython3",
   "version": "3.6.1"
  },
  "toc": {
   "colors": {
    "hover_highlight": "#DAA520",
    "running_highlight": "#FF0000",
    "selected_highlight": "#FFD700"
   },
   "moveMenuLeft": true,
   "nav_menu": {
    "height": "66px",
    "width": "252px"
   },
   "navigate_menu": true,
   "number_sections": true,
   "sideBar": true,
   "threshold": 4,
   "toc_cell": false,
   "toc_section_display": "block",
   "toc_window_display": false,
   "widenNotebook": false
  }
 },
 "nbformat": 4,
 "nbformat_minor": 2
}
