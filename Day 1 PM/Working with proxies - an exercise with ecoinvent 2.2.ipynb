{
 "cells": [
  {
   "cell_type": "markdown",
   "metadata": {
    "deletable": true,
    "editable": true
   },
   "source": [
    "# Brightway2 seminar\n",
    "Chris Mutel ([PSI](https://www.psi.ch/)), Pascal Lesage ([CIRAIG](http://www.ciraig.org/en/))"
   ]
  },
  {
   "cell_type": "markdown",
   "metadata": {
    "deletable": true,
    "editable": true
   },
   "source": [
    "## Day 1, afternoon  \n",
    "Session on working with `Activity` and ` Exchange` proxies "
   ]
  },
  {
   "cell_type": "markdown",
   "metadata": {
    "deletable": true,
    "editable": true
   },
   "source": [
    "### Learning objectives  \n",
    "  - Work with `Activity` and ` Exchange` proxies (copy, add, modify, delete)  "
   ]
  },
  {
   "cell_type": "markdown",
   "metadata": {
    "deletable": true,
    "editable": true
   },
   "source": [
    "**Exercise**: Create a new activity for blow moulding in the USA that is based on a copy of the activity `'stretch blow moulding`. It is to have the following modifications:  \n",
    "  - Its location is to be changed to \"US\" ==> changing an activity\n",
    "  - Its source of electricity is to be changed to medium voltage electricity from the US grid ==> changing an exchange  \n",
    "  - The waste heat elementary flow is to be deleted ==> Deleting an exchange  \n",
    "  - The cooling water is to come from the \"river\" subcompartment ==> Deleting and adding an exchange\n",
    "\n",
    "CHRIS: this may be fun, but probably would take too long.\n",
    "  - The Pedigree matrix scores for the exchanges are to be modified  \n",
    "  - The uncertainty is to be modified based on these modified Pedigree scores"
   ]
  },
  {
   "cell_type": "markdown",
   "metadata": {
    "deletable": true,
    "editable": true,
    "solution2": "shown",
    "solution2_first": true
   },
   "source": [
    "**Step 1**: Import Brightway as bw, open the seminar project and make a copy of the ecoinvent v2.2 database."
   ]
  },
  {
   "cell_type": "code",
   "execution_count": 1,
   "metadata": {
    "collapsed": true,
    "deletable": true,
    "editable": true,
    "solution2": "shown"
   },
   "outputs": [],
   "source": [
    "import brightway2 as bw"
   ]
  },
  {
   "cell_type": "code",
   "execution_count": null,
   "metadata": {
    "collapsed": false,
    "deletable": true,
    "editable": true,
    "solution2": "shown"
   },
   "outputs": [],
   "source": [
    "bw.projects.set_current('bw2_seminar_2017')"
   ]
  },
  {
   "cell_type": "code",
   "execution_count": null,
   "metadata": {
    "collapsed": false,
    "deletable": true,
    "editable": true,
    "solution2": "shown"
   },
   "outputs": [],
   "source": [
    "if 'ecoinvent 2.2 copy' not in bw.databases:\n",
    "    bw.Database('ecoinvent 2.2').copy('ecoinvent 2.2 copy')\n",
    "else:\n",
    "    print('A copy already exists')\n",
    "eidb = bw.Database('ecoinvent 2.2 copy')"
   ]
  },
  {
   "cell_type": "markdown",
   "metadata": {
    "deletable": true,
    "editable": true,
    "solution2": "shown",
    "solution2_first": true
   },
   "source": [
    "**Step 2**: Create a copy of the activity `'offset printing, per kg printed paper' (kilogram, CH, None)` and assign it to a variable.  "
   ]
  },
  {
   "cell_type": "code",
   "execution_count": null,
   "metadata": {
    "collapsed": false,
    "deletable": true,
    "editable": true,
    "solution2": "shown"
   },
   "outputs": [],
   "source": [
    "bm_RER = [act for act in eidb if 'stretch blow moulding' in act['name']][0]\n",
    "bm_RER"
   ]
  },
  {
   "cell_type": "code",
   "execution_count": null,
   "metadata": {
    "collapsed": true,
    "deletable": true,
    "editable": true,
    "solution2": "shown"
   },
   "outputs": [],
   "source": [
    "bm_US = bm_RER.copy()"
   ]
  },
  {
   "cell_type": "markdown",
   "metadata": {
    "deletable": true,
    "editable": true,
    "solution2": "shown"
   },
   "source": [
    "Before we go on, let's get a sense of what the activity looks like and what exchanges are output into the activity."
   ]
  },
  {
   "cell_type": "code",
   "execution_count": null,
   "metadata": {
    "collapsed": false,
    "deletable": true,
    "editable": true,
    "solution2": "shown"
   },
   "outputs": [],
   "source": [
    "bm_US.as_dict()"
   ]
  },
  {
   "cell_type": "code",
   "execution_count": null,
   "metadata": {
    "collapsed": false,
    "deletable": true,
    "editable": true,
    "solution2": "shown"
   },
   "outputs": [],
   "source": [
    "for exc in bm_US.exchanges():\n",
    "    print(exc.input['name'], exc['amount'], exc['unit'])"
   ]
  },
  {
   "cell_type": "markdown",
   "metadata": {
    "deletable": true,
    "editable": true,
    "solution2": "shown",
    "solution2_first": true
   },
   "source": [
    "**Step 3**: Just a check: make sure that the key of the activities are not the same"
   ]
  },
  {
   "cell_type": "code",
   "execution_count": null,
   "metadata": {
    "collapsed": false,
    "deletable": true,
    "editable": true,
    "solution2": "shown"
   },
   "outputs": [],
   "source": [
    "bm_RER.key == bm_US.key"
   ]
  },
  {
   "cell_type": "markdown",
   "metadata": {
    "deletable": true,
    "editable": true,
    "solution2": "shown",
    "solution2_first": true
   },
   "source": [
    "**Step 4**: Change the US activity's location to \"US\""
   ]
  },
  {
   "cell_type": "code",
   "execution_count": null,
   "metadata": {
    "collapsed": true,
    "deletable": true,
    "editable": true,
    "solution2": "shown"
   },
   "outputs": [],
   "source": [
    "bm_US['location']=\"US\"\n",
    "bm_US.save()"
   ]
  },
  {
   "cell_type": "markdown",
   "metadata": {
    "deletable": true,
    "editable": true,
    "solution2": "shown",
    "solution2_first": true
   },
   "source": [
    "**Step 5**: Find the electricity exchange to be replaced in the US printing activity."
   ]
  },
  {
   "cell_type": "code",
   "execution_count": null,
   "metadata": {
    "collapsed": false,
    "deletable": true,
    "editable": true,
    "solution2": "shown"
   },
   "outputs": [],
   "source": [
    "electricity_input_exchange = [exc for exc in bm_US.technosphere() if \"electricity\" in exc['name']][0]\n",
    "electricity_input_exchange"
   ]
  },
  {
   "cell_type": "markdown",
   "metadata": {
    "deletable": true,
    "editable": true,
    "solution2": "shown",
    "solution2_first": true
   },
   "source": [
    "**Step 6**: Find the activity that this exchange needs to be relinked to."
   ]
  },
  {
   "cell_type": "code",
   "execution_count": null,
   "metadata": {
    "collapsed": false,
    "deletable": true,
    "editable": true,
    "solution2": "shown"
   },
   "outputs": [],
   "source": [
    "US_elect=[act for act in eidb if 'electricity, medium voltage' in act['name']\n",
    "          and act['location']=='US'\n",
    "         ][0]\n",
    "US_elect"
   ]
  },
  {
   "cell_type": "markdown",
   "metadata": {
    "deletable": true,
    "editable": true,
    "solution2": "shown",
    "solution2_first": true
   },
   "source": [
    "**Step 7**: Relink the electricity input exchange to the US electricity:"
   ]
  },
  {
   "cell_type": "code",
   "execution_count": null,
   "metadata": {
    "collapsed": false,
    "deletable": true,
    "editable": true,
    "solution2": "shown"
   },
   "outputs": [],
   "source": [
    "electricity_input_exchange.input = US_elect"
   ]
  },
  {
   "cell_type": "code",
   "execution_count": null,
   "metadata": {
    "collapsed": false,
    "deletable": true,
    "editable": true,
    "solution2": "shown"
   },
   "outputs": [],
   "source": [
    "for exc in bm_US.technosphere():\n",
    "    if \"electricity\" in exc.input['name']:\n",
    "        print(exc.input['name'], exc.input['location']) "
   ]
  },
  {
   "cell_type": "markdown",
   "metadata": {
    "deletable": true,
    "editable": true,
    "solution2": "shown",
    "solution2_first": true
   },
   "source": [
    "**Step 8**: Delete the waste heat elementary flow:"
   ]
  },
  {
   "cell_type": "code",
   "execution_count": null,
   "metadata": {
    "collapsed": false,
    "deletable": true,
    "editable": true,
    "solution2": "shown"
   },
   "outputs": [],
   "source": [
    "waste_heat = [exc for exc in bm_US.biosphere() if \"Heat, waste\" in exc['name']][0]\n",
    "waste_heat"
   ]
  },
  {
   "cell_type": "code",
   "execution_count": null,
   "metadata": {
    "collapsed": true,
    "deletable": true,
    "editable": true,
    "solution2": "shown"
   },
   "outputs": [],
   "source": [
    "waste_heat.delete()"
   ]
  },
  {
   "cell_type": "markdown",
   "metadata": {
    "deletable": true,
    "editable": true,
    "solution2": "shown",
    "solution2_first": true
   },
   "source": [
    "**Step 9**: Create a new exchange for the water input from river and delete the old cooling water, unspecified"
   ]
  },
  {
   "cell_type": "code",
   "execution_count": null,
   "metadata": {
    "collapsed": false,
    "deletable": true,
    "editable": true,
    "solution2": "shown"
   },
   "outputs": [],
   "source": [
    "[ef for ef in bw.Database('biosphere3') if \"river\" in ef['name']]  # To determine how best to return my activity\n",
    "river_water = [ef for ef in bw.Database('biosphere3') if \"Water, river\" in ef['name']][0]\n",
    "river_water"
   ]
  },
  {
   "cell_type": "code",
   "execution_count": null,
   "metadata": {
    "collapsed": false,
    "deletable": true,
    "editable": true,
    "solution2": "shown"
   },
   "outputs": [],
   "source": [
    "# Also return the existing cooling water flow to \"steal\" some information from it\n",
    "old_cooling_water = [ef for ef in bm_US.biosphere() if \"cooling\" in ef['name']][0]\n",
    "old_cooling_water"
   ]
  },
  {
   "cell_type": "code",
   "execution_count": null,
   "metadata": {
    "collapsed": false,
    "deletable": true,
    "editable": true,
    "solution2": "shown"
   },
   "outputs": [],
   "source": [
    "old_cooling_water.as_dict()"
   ]
  },
  {
   "cell_type": "code",
   "execution_count": null,
   "metadata": {
    "collapsed": false,
    "deletable": true,
    "editable": true,
    "solution2": "shown"
   },
   "outputs": [],
   "source": [
    "new_water = bm_US.new_exchange(input=river_water.key,\n",
    "                   amount=old_cooling_water['amount'],\n",
    "                   unit=old_cooling_water['unit'],\n",
    "                   categories=old_cooling_water['categories'],\n",
    "                   type='biosphere')"
   ]
  },
  {
   "cell_type": "code",
   "execution_count": null,
   "metadata": {
    "collapsed": true,
    "deletable": true,
    "editable": true,
    "solution2": "shown"
   },
   "outputs": [],
   "source": [
    "new_water.save()"
   ]
  },
  {
   "cell_type": "markdown",
   "metadata": {
    "deletable": true,
    "editable": true,
    "solution2": "shown"
   },
   "source": [
    "Then delete the old water input:"
   ]
  },
  {
   "cell_type": "code",
   "execution_count": null,
   "metadata": {
    "collapsed": true,
    "deletable": true,
    "editable": true,
    "solution2": "shown"
   },
   "outputs": [],
   "source": [
    "old_cooling_water.delete()"
   ]
  },
  {
   "cell_type": "code",
   "execution_count": null,
   "metadata": {
    "collapsed": true,
    "deletable": true,
    "editable": true,
    "solution2": "shown"
   },
   "outputs": [],
   "source": [
    "bm_US.save()"
   ]
  },
  {
   "cell_type": "markdown",
   "metadata": {
    "deletable": true,
    "editable": true
   },
   "source": [
    "**Final result:** "
   ]
  },
  {
   "cell_type": "code",
   "execution_count": null,
   "metadata": {
    "collapsed": false,
    "deletable": true,
    "editable": true
   },
   "outputs": [],
   "source": [
    "for exc in bm_US.exchanges():\n",
    "    try:\n",
    "        print(exc.input['name'], exc['amount'], exc['unit'], exc.input['location'])\n",
    "    except:\n",
    "        print(exc.input['name'], exc['amount'], exc['unit'])"
   ]
  },
  {
   "cell_type": "code",
   "execution_count": null,
   "metadata": {
    "collapsed": true
   },
   "outputs": [],
   "source": []
  }
 ],
 "metadata": {
  "kernelspec": {
   "display_name": "Python 3",
   "language": "python",
   "name": "python3"
  },
  "language_info": {
   "codemirror_mode": {
    "name": "ipython",
    "version": 3
   },
   "file_extension": ".py",
   "mimetype": "text/x-python",
   "name": "python",
   "nbconvert_exporter": "python",
   "pygments_lexer": "ipython3",
   "version": "3.5.2"
  },
  "widgets": {
   "state": {},
   "version": "1.1.2"
  }
 },
 "nbformat": 4,
 "nbformat_minor": 0
}
