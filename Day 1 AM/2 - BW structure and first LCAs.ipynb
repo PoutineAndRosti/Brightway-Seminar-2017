{
 "cells": [
  {
   "cell_type": "markdown",
   "metadata": {
    "deletable": true,
    "editable": true,
    "solution": "hidden"
   },
   "source": [
    "# Brightway2 seminar\n",
    "Chris Mutel ([PSI](https://www.psi.ch/)), Pascal Lesage ([CIRAIG](http://www.ciraig.org/en/))"
   ]
  },
  {
   "cell_type": "markdown",
   "metadata": {},
   "source": [
    "## Day 1, morning"
   ]
  },
  {
   "cell_type": "markdown",
   "metadata": {},
   "source": [
    "### Learning objectives  \n",
    "  - Learn about the general structure of Brightway and its most importand abstractions: projects, databases, activities and exchanges  \n",
    "  - Learn how to find objects (notably activities and exchanges), assign them to variables and work with them using their associated methods  \n",
    "  - Learn about how simple LCA calculations are done (one product, one impact category), and specifically how the different matrices are built and used  \n",
    "  - Learn how to extract information from the matrices (inputs or results) and translate them into nice, human-readable objects  \n",
    "  - Learn different ways to carry out comparative LCAs  \n",
    "  - Learn different ways to carry out LCAs with multiple impact categories"
   ]
  },
  {
   "cell_type": "markdown",
   "metadata": {},
   "source": [
    "### Content  \n",
    "\n",
    "#### 1) Getting started  \n",
    "##### 1.1) Downloading, installing and accessing Brightway2  \n",
    "  - Downloading and installing Brightway  \n",
    "  - Accessing Brightway2 libraries  \n",
    "  \n",
    "##### 1.2) Projects  \n",
    "  - Concept  \n",
    "  - Creating a new project, or switching to an existing project  \n",
    "  - Contents of a project  \n",
    "\n",
    "  \n",
    "##### 1.3) bw2_setup(), biosphere3 database and LCIA methods  \n",
    "  - bw2_setup()  \n",
    "  - biosphere3 database and a first look at database objects  \n",
    "  - Getting activities from codes or keys  \n",
    "  - Methods  \n",
    "  - Looking up elementary flows (list comprehensions, search)  \n",
    "  - Searching for methods  \n",
    "  - Nice display of data in methods \n",
    "\n",
    "##### 1.4) LCI databases  \n",
    "  - Importing (succinct)  \n",
    "  - LCI activities  \n",
    "  - Looking up activities  \n",
    "  - LCI exchanges\n",
    "  - Loaded LCI databases\n",
    "  \n",
    "#### 2) My first LCA - simplest case:  \n",
    "##### 2.1) General syntax of LCA calculations  \n",
    "\n",
    "##### 2.2) The `demand` attribute  \n",
    "\n",
    "##### 2.3) Reminder of the system that needs to be solved in calculating an LCI  \n",
    "\n",
    "##### 2.4) Building the matrices  \n",
    "\n",
    "  - $A$ matrix  \n",
    "  - $B$ matrix  \n",
    "  - $f$ (demand array)  \n",
    "  \n",
    "##### 2.5) Solution to the inventory calculation  \n",
    "\n",
    "  - Supply array  \n",
    "  - Inventory matrix  \n",
    "  \n",
    "##### 2.6) Life Cycle Impact Assessment  \n",
    "\n",
    "  - `.lcia()` method  \n",
    "  - Simple contribution analysis  \n",
    "  \n",
    "#### 3) My second LCA - comparative LCA:\n",
    "    \n",
    "#### 4) My third LCA - Multiple impact categories\n",
    "  \n",
    "#### 5) My first and third LCAs revisited with MultiLCA"
   ]
  },
  {
   "cell_type": "markdown",
   "metadata": {
    "deletable": true,
    "editable": true
   },
   "source": [
    "### 1) Getting started"
   ]
  },
  {
   "cell_type": "markdown",
   "metadata": {},
   "source": [
    "#### 1.1) Downloading, installing and accessing Brightway2"
   ]
  },
  {
   "cell_type": "markdown",
   "metadata": {
    "deletable": true,
    "editable": true
   },
   "source": [
    "##### Downloading and installing Brightway"
   ]
  },
  {
   "cell_type": "markdown",
   "metadata": {
    "deletable": true,
    "editable": true
   },
   "source": [
    "*Windows*  \n",
    "The easiest way to install Brightway2 is to download the [Brightway2 Windows installation package](https://brightwaylca.org/data/bw2-python-windows.7z), and extract to the C:\\ drive. This will create the directory C:\\bw2-python\\.  \n",
    "\n",
    "*Mac, Linux*  \n",
    "Please follow instructions [here](https://brightwaylca.org/dev-docs/installation.html). "
   ]
  },
  {
   "cell_type": "markdown",
   "metadata": {
    "deletable": true,
    "editable": true
   },
   "source": [
    "##### Accessing Brightway2 libraries"
   ]
  },
  {
   "cell_type": "markdown",
   "metadata": {
    "deletable": true,
    "editable": true
   },
   "source": [
    "The different modules in Brightway2 are Python libraries. This means that, to use them, you can use any environment from which you normally use Python (Idle, command prompt, Spyder or, as is the case today, Jupyter Notebooks).  \n",
    "\n",
    "We will favour Jupyter Notebooks in this seminar because it allows us to integrate code and text. It will also allow us to provide code snippets for you to complete.  \n",
    "\n",
    "Note that the [Brightway2 installation package](https://docs.brightwaylca.org/installation.html) installs Brightway2 in a separate [Conda environment](https://conda.io/docs/using/using.html). This isolates Brightway2 from your other Python installations. It however requires you to activate the bw2 environment. You can do this the same way you [normally activate Conda environments](https://conda.io/docs/using/envs.html#change-environments-activate-deactivate), or by executing the bw2-env.bat batch file installed in your `bw2-python` directory (located at `C:\\bw2-python`in Windows).  \n",
    "\n",
    "The `bw2-python` directory also offers two other ways to run Brightway2: via IPython (run the `bw2-ipython.bat` file) or via Jupyter Notebooks (`bw2-notebook.bat`).  "
   ]
  },
  {
   "cell_type": "markdown",
   "metadata": {
    "deletable": true,
    "editable": true
   },
   "source": [
    "For this course, you should run `bw2-notebook.bat` and open the Notebooks (such as this one), allowing you to directly run the code and get some hands-on experience. "
   ]
  },
  {
   "cell_type": "markdown",
   "metadata": {
    "deletable": true,
    "editable": true
   },
   "source": [
    "Like all other Python packages, you need to `import` Brightway2 modules. We will here import it as `bw`. This means that, to access a method or function from the brightway2 modules, the prefix `bw.` needs to be added. "
   ]
  },
  {
   "cell_type": "code",
   "execution_count": 2,
   "metadata": {
    "collapsed": false,
    "deletable": true,
    "editable": true
   },
   "outputs": [],
   "source": [
    "import brightway2 as bw"
   ]
  },
  {
   "cell_type": "markdown",
   "metadata": {},
   "source": [
    "We're also going to be using the following libraries:"
   ]
  },
  {
   "cell_type": "code",
   "execution_count": 147,
   "metadata": {
    "collapsed": true
   },
   "outputs": [],
   "source": [
    "import os               # to use \"operating system dependent functionality\"\n",
    "import numpy as np      # \"the fundamental package for scientific computing with Python\"\n",
    "import pandas as pd     # \"high-performance, easy-to-use data structures and data analysis tools\" for Python"
   ]
  },
  {
   "cell_type": "markdown",
   "metadata": {
    "deletable": true,
    "editable": true
   },
   "source": [
    "#### 1.2) Projects"
   ]
  },
  {
   "cell_type": "markdown",
   "metadata": {},
   "source": [
    "##### Concept"
   ]
  },
  {
   "cell_type": "markdown",
   "metadata": {
    "deletable": true,
    "editable": true
   },
   "source": [
    "The top-level containent in Brightway2 is the project (see [here](https://docs.brightwaylca.org/intro.html#projects) for a description and [here](https://docs.brightwaylca.org/technical/bw2data.html#projects) for the docs). A project contains LCI databases, LCIA methods and other less often used objects. Objects from one project do not interract with objects within other projects. By analogy, projects are like databases in openLCA and SimePro.  \n",
    "When you first launch Brightway2, you will be in the `default` project. You can check this using the `current` property of the `projects` object: "
   ]
  },
  {
   "cell_type": "code",
   "execution_count": 3,
   "metadata": {
    "collapsed": false,
    "deletable": true,
    "editable": true
   },
   "outputs": [
    {
     "data": {
      "text/plain": [
       "'default'"
      ]
     },
     "execution_count": 3,
     "metadata": {},
     "output_type": "execute_result"
    }
   ],
   "source": [
    "bw.projects.current"
   ]
  },
  {
   "cell_type": "markdown",
   "metadata": {},
   "source": [
    "##### Creating a new project, or switching to an existing project"
   ]
  },
  {
   "cell_type": "markdown",
   "metadata": {
    "deletable": true,
    "editable": true
   },
   "source": [
    "Let's create a new project for this seminar, unsurprisingly called \"bw2_seminar_2017\". There are two ways of doing this:  \n",
    "* `projects.create_project('bw2_seminar_2017')` will create the project, but you will remain in your current project.\n",
    "* `projects.set_current('bw2_seminar_2017')` will switch you to the project passed as argument, and create it first if it doesn't exist.  Let's do the latter:"
   ]
  },
  {
   "cell_type": "code",
   "execution_count": 4,
   "metadata": {
    "collapsed": false,
    "deletable": true,
    "editable": true
   },
   "outputs": [],
   "source": [
    "# The name of the project is entered as string; \n",
    "# it doesn't really have any restrictions, so can include spaces, \n",
    "# special characters, other languages, or even emoji.\n",
    "\n",
    "bw.projects.set_current('bw2_seminar_2017') "
   ]
  },
  {
   "cell_type": "markdown",
   "metadata": {
    "deletable": true,
    "editable": true
   },
   "source": [
    "You can always see what projects you have on your computer by running `list(bw.projects)`. Unless you have worked with Brightway2 before on your computer, your list should contain two projects: 'default' and 'bw2_seminar_2017'."
   ]
  },
  {
   "cell_type": "markdown",
   "metadata": {
    "solution": "shown",
    "solution2": "hidden",
    "solution2_first": true,
    "solution_first": true
   },
   "source": [
    "_**Exercise**_: list the projects on your computer."
   ]
  },
  {
   "cell_type": "code",
   "execution_count": 5,
   "metadata": {
    "collapsed": false,
    "deletable": true,
    "editable": true,
    "scrolled": true,
    "solution": "shown",
    "solution2": "hidden"
   },
   "outputs": [
    {
     "data": {
      "text/plain": [
       "[Project: default,\n",
       " Project: ecoinvent 22 import,\n",
       " Project: ecoinvent v3.2 cutoff,\n",
       " Project: VOI_Delivered_to_GN_aug_22,\n",
       " Project: Tree examples,\n",
       " Project: compare uncertainties networks and trees,\n",
       " Project: import ecoinvent 22,\n",
       " Project: Nestle burger comparison,\n",
       " Project: 10,\n",
       " Project: compare uncertainties networks and trees-0,\n",
       " Project: compare uncertainties networks and trees-1,\n",
       " Project: compare uncertainties networks and trees-2,\n",
       " Project: compare uncertainties networks and trees-3,\n",
       " Project: compare uncertainties networks and trees-4,\n",
       " Project: compare uncertainties networks and trees-5,\n",
       " Project: compare uncertainties networks and trees-6,\n",
       " Project: compare uncertainties networks and trees-7,\n",
       " Project: uncertainties networks and trees,\n",
       " Project: heijungs_two_UP,\n",
       " Project: compare uncertainties networks and trees_ei33cu,\n",
       " Project: VOI_III,\n",
       " Project: heijungs_two_UP_normal,\n",
       " Project: 2.2 tree base,\n",
       " Project: 3.3 tree base,\n",
       " Project: temp project 7B0AMhUA,\n",
       " Project: temp project o3MdY8j8,\n",
       " Project: temp project 5QDF61Z0,\n",
       " Project: temp project VBFr6m5w,\n",
       " Project: temp project 3Ia07vRx,\n",
       " Project: temp project meh2xs9N,\n",
       " Project: temp project sWsrp2oS,\n",
       " Project: Nestle_burger_comparison,\n",
       " Project: MC_with_aggregated_datasets,\n",
       " Project: Nestle_burgers,\n",
       " Project: test,\n",
       " Project: bw2_seminar,\n",
       " Project: test33,\n",
       " Project: bw2_seminar_ciraig,\n",
       " Project: bw2_seminar_2017,\n",
       " Project: formation_interne_CIRAIG_CRVMR,\n",
       " Project: intro_bw2_CIRAIG_CRVMR,\n",
       " Project: ecoinvent32,\n",
       " Project: ecoinvent 2.2,\n",
       " Project: Water bottle example]"
      ]
     },
     "execution_count": 5,
     "metadata": {},
     "output_type": "execute_result"
    }
   ],
   "source": [
    "list(bw.projects)"
   ]
  },
  {
   "cell_type": "markdown",
   "metadata": {
    "deletable": true,
    "editable": true
   },
   "source": [
    "Like in all Python modules, you can get additionnal information on the `projects` object and associated properties and methods by typing `help(projects)`. The [docs](https://docs.brightwaylca.org/technical/bw2data.html#projects) are of course more verbose."
   ]
  },
  {
   "cell_type": "markdown",
   "metadata": {},
   "source": [
    "##### Contents of a project"
   ]
  },
  {
   "cell_type": "markdown",
   "metadata": {
    "deletable": true,
    "editable": true
   },
   "source": [
    "One property of `projects` is its location, given by `projects.dir`:"
   ]
  },
  {
   "cell_type": "code",
   "execution_count": 6,
   "metadata": {
    "collapsed": false,
    "deletable": true,
    "editable": true
   },
   "outputs": [
    {
     "data": {
      "text/plain": [
       "'C:\\\\Users\\\\pasca\\\\AppData\\\\Local\\\\pylca\\\\Brightway3\\\\bw2_seminar_2017.058cb6360ae51ecc25fe811e209c8b06'"
      ]
     },
     "execution_count": 6,
     "metadata": {},
     "output_type": "execute_result"
    }
   ],
   "source": [
    "bw.projects.dir"
   ]
  },
  {
   "cell_type": "markdown",
   "metadata": {
    "deletable": true,
    "editable": true
   },
   "source": [
    "Looking at what is inside:  \n",
    "<img src=\"images/project_folder_before_setup.JPG\">"
   ]
  },
  {
   "cell_type": "markdown",
   "metadata": {
    "deletable": true,
    "editable": true
   },
   "source": [
    "All the directories are empty except the `lci` directory, which contains an empty database:"
   ]
  },
  {
   "cell_type": "markdown",
   "metadata": {
    "deletable": true,
    "editable": true
   },
   "source": [
    "All in all, the project takes up 4KB.  \n",
    "Its now time to start populating the project."
   ]
  },
  {
   "cell_type": "markdown",
   "metadata": {},
   "source": [
    "#### 1.3) bw2_setup(), biosphere3 database and LCIA methods"
   ]
  },
  {
   "cell_type": "markdown",
   "metadata": {},
   "source": [
    "##### bw2_setup()"
   ]
  },
  {
   "cell_type": "markdown",
   "metadata": {
    "deletable": true,
    "editable": true
   },
   "source": [
    "The first thing you should do is add flow and LCIA methods. This is done by running the `bw2setup` function:"
   ]
  },
  {
   "cell_type": "code",
   "execution_count": 7,
   "metadata": {
    "collapsed": false,
    "deletable": true,
    "editable": true
   },
   "outputs": [
    {
     "name": "stdout",
     "output_type": "stream",
     "text": [
      "Biosphere database already present!!! No setup is needed\n"
     ]
    }
   ],
   "source": [
    "bw.bw2setup()"
   ]
  },
  {
   "cell_type": "markdown",
   "metadata": {
    "deletable": true,
    "editable": true
   },
   "source": [
    "The output tells us that bw2_setup created some very useful things:  \n",
    "  - Created a database called \"biosphere3\": this database contains elementary flows (called biosphere exchanges in Brightway2)  \n",
    "  - 718 impact assessment methods  \n",
    "  \n",
    "It also created some a `mapping` between the imported exchanges and some integer: more on this later.  \n",
    "The whole directory now takes up 125MB."
   ]
  },
  {
   "cell_type": "markdown",
   "metadata": {},
   "source": [
    "##### biosphere3 database and a first look at database objects"
   ]
  },
  {
   "cell_type": "markdown",
   "metadata": {
    "deletable": true,
    "editable": true
   },
   "source": [
    "Looking at the contents of the `databases.db` database, we see we have imported 4029 exchanges:  \n",
    "<img src=\"images\\database_after_setup_data.JPG\">"
   ]
  },
  {
   "cell_type": "markdown",
   "metadata": {},
   "source": [
    "It also states that all the records are associated with the same database: `biosphere3`  \n",
    "Note: You can always list the databases inside a project by simply typing 'bw.databases'. This accesses the 'database.json' file in your 'project.dir' (I learned the latter by typing `databases?`, you should try it too.)"
   ]
  },
  {
   "cell_type": "code",
   "execution_count": 8,
   "metadata": {
    "collapsed": false
   },
   "outputs": [
    {
     "data": {
      "text/plain": [
       "Databases dictionary with 3 object(s):\n",
       "\tbiosphere3\n",
       "\tecoinvent 2.2\n",
       "\tecoinvent 3.3 cutoff"
      ]
     },
     "execution_count": 8,
     "metadata": {},
     "output_type": "execute_result"
    }
   ],
   "source": [
    "bw.databases"
   ]
  },
  {
   "cell_type": "markdown",
   "metadata": {
    "deletable": true,
    "editable": true
   },
   "source": [
    "While not impossible to interact with the data at this level, you probably never will unless you are developping some funky program. Instead, it is strongly recommended to learn to work with `abstractions`.  "
   ]
  },
  {
   "cell_type": "markdown",
   "metadata": {
    "deletable": true,
    "editable": true
   },
   "source": [
    "To access a database in Brightway, you use the `Database` method (again, you can type `Database?` for more information - this is the last I'll mention this."
   ]
  },
  {
   "cell_type": "code",
   "execution_count": 9,
   "metadata": {
    "collapsed": false,
    "deletable": true,
    "editable": true
   },
   "outputs": [
    {
     "data": {
      "text/plain": [
       "Brightway2 SQLiteBackend: biosphere3"
      ]
     },
     "execution_count": 9,
     "metadata": {},
     "output_type": "execute_result"
    }
   ],
   "source": [
    "bw.Database('biosphere3')"
   ]
  },
  {
   "cell_type": "markdown",
   "metadata": {
    "deletable": true,
    "editable": true
   },
   "source": [
    "It doesn't actually return anything other than information about the Backend.  \n",
    "However, there are many properties and functions associated with this database object.  These are found [here](https://docs.brightwaylca.org/technical/bw2data.html). We can also have a look through the autocomplete. Let's assign the database to a variable:"
   ]
  },
  {
   "cell_type": "code",
   "execution_count": 10,
   "metadata": {
    "collapsed": true,
    "deletable": true,
    "editable": true
   },
   "outputs": [],
   "source": [
    "my_bio = bw.Database('biosphere3')"
   ]
  },
  {
   "cell_type": "markdown",
   "metadata": {
    "deletable": true,
    "editable": true
   },
   "source": [
    "Let's check the my_bio `type`:"
   ]
  },
  {
   "cell_type": "code",
   "execution_count": 11,
   "metadata": {
    "collapsed": false,
    "deletable": true,
    "editable": true
   },
   "outputs": [
    {
     "data": {
      "text/plain": [
       "bw2data.backends.peewee.database.SQLiteBackend"
      ]
     },
     "execution_count": 11,
     "metadata": {},
     "output_type": "execute_result"
    }
   ],
   "source": [
    "type(my_bio)"
   ]
  },
  {
   "cell_type": "markdown",
   "metadata": {
    "deletable": true,
    "editable": true
   },
   "source": [
    "Let's check its length:"
   ]
  },
  {
   "cell_type": "code",
   "execution_count": 12,
   "metadata": {
    "collapsed": false,
    "deletable": true,
    "editable": true
   },
   "outputs": [
    {
     "data": {
      "text/plain": [
       "4029"
      ]
     },
     "execution_count": 12,
     "metadata": {},
     "output_type": "execute_result"
    }
   ],
   "source": [
    "len(my_bio)"
   ]
  },
  {
   "cell_type": "markdown",
   "metadata": {
    "deletable": true,
    "editable": true
   },
   "source": [
    "This is exactly the number of items we saw had been added to databases.db"
   ]
  },
  {
   "cell_type": "markdown",
   "metadata": {
    "deletable": true,
    "editable": true
   },
   "source": [
    "If you type `my_bio.` and click on tab, you should get a list of properties and methods associated with database objects. Try this now:"
   ]
  },
  {
   "cell_type": "code",
   "execution_count": null,
   "metadata": {
    "collapsed": true,
    "deletable": true,
    "editable": true
   },
   "outputs": [],
   "source": [
    "my_bio.        #Type my_bio. and click tab. Have a look at the different properties and objects"
   ]
  },
  {
   "cell_type": "markdown",
   "metadata": {
    "deletable": true,
    "editable": true
   },
   "source": [
    "Some of the more basic ones we will be using now are :  \n",
    "  - `random()` - returns a random activity in the database\n",
    "  - `get(*valid_exchange_tuple*)` - returns an activity, but you must know the activity key\n",
    "  - `load()` - loads the whole database as a dictionary.\n",
    "  - `make_searchable` - allows searching of the database (by default, it is already searchable)\n",
    "  - `search` - search the database  \n",
    "  \n",
    "Lets start with `random`:"
   ]
  },
  {
   "cell_type": "code",
   "execution_count": 13,
   "metadata": {
    "collapsed": false,
    "deletable": true,
    "editable": true
   },
   "outputs": [
    {
     "data": {
      "text/plain": [
       "'Methyl acetate' (kilogram, None, ('air', 'urban air close to ground'))"
      ]
     },
     "execution_count": 13,
     "metadata": {},
     "output_type": "execute_result"
    }
   ],
   "source": [
    "my_bio.random()"
   ]
  },
  {
   "cell_type": "markdown",
   "metadata": {
    "deletable": true,
    "editable": true
   },
   "source": [
    "This returns a biosphere activity, but without assigning it to a variable, there is not much we can do with it directly.  "
   ]
  },
  {
   "cell_type": "markdown",
   "metadata": {},
   "source": [
    "Note: It may seem counter-intuitive for elementary *flows* to be considered *activities* in Brightway, but is is no mistake. \n",
    "LCA models are made up of **nodes** (activities) that are linked by **edges** (exchanges). The biosphere activities are the nodes *outside* the technosphere. Emissions and resource extractions are modelled as exchanges between activities in the technosphere (part of the product system) and these biosphere activities.  \n",
    "\n",
    "More on this later. "
   ]
  },
  {
   "cell_type": "markdown",
   "metadata": {},
   "source": [
    "For now, let's assign another random activity to a variable:"
   ]
  },
  {
   "cell_type": "code",
   "execution_count": 14,
   "metadata": {
    "collapsed": false,
    "deletable": true,
    "editable": true
   },
   "outputs": [
    {
     "data": {
      "text/plain": [
       "'Tin' (kilogram, None, ('air', 'non-urban air or from high stacks'))"
      ]
     },
     "execution_count": 14,
     "metadata": {},
     "output_type": "execute_result"
    }
   ],
   "source": [
    "random_biosphere = my_bio.random()\n",
    "random_biosphere"
   ]
  },
  {
   "cell_type": "markdown",
   "metadata": {},
   "source": [
    "We can get the type of the object that was returned from the database:"
   ]
  },
  {
   "cell_type": "code",
   "execution_count": 15,
   "metadata": {
    "collapsed": false,
    "deletable": true,
    "editable": true
   },
   "outputs": [
    {
     "data": {
      "text/plain": [
       "bw2data.backends.peewee.proxies.Activity"
      ]
     },
     "execution_count": 15,
     "metadata": {},
     "output_type": "execute_result"
    }
   ],
   "source": [
    "type(random_biosphere)"
   ]
  },
  {
   "cell_type": "markdown",
   "metadata": {},
   "source": [
    "The type is an **activity proxy**. Activity proxies allow us to interact with the content of the database. In the journey to and from the database, several translation layers are used:  \n",
    "<img src=\"images/data_transition_layers.png\">"
   ]
  },
  {
   "cell_type": "markdown",
   "metadata": {},
   "source": [
    "In Brightway, we *almost* always work with `Activity` or `Exchange` objects. "
   ]
  },
  {
   "cell_type": "markdown",
   "metadata": {
    "deletable": true,
    "editable": true
   },
   "source": [
    "To see what the activity contains, we can convert it to a dictionary:"
   ]
  },
  {
   "cell_type": "code",
   "execution_count": 16,
   "metadata": {
    "collapsed": false,
    "deletable": true,
    "editable": true
   },
   "outputs": [
    {
     "data": {
      "text/plain": [
       "{'categories': ('air', 'non-urban air or from high stacks'),\n",
       " 'code': 'f563b90e-a300-4403-b278-d2fdcd73e5a7',\n",
       " 'database': 'biosphere3',\n",
       " 'name': 'Tin',\n",
       " 'type': 'emission',\n",
       " 'unit': 'kilogram'}"
      ]
     },
     "execution_count": 16,
     "metadata": {},
     "output_type": "execute_result"
    }
   ],
   "source": [
    "random_biosphere.as_dict()"
   ]
  },
  {
   "cell_type": "markdown",
   "metadata": {},
   "source": [
    "##### Getting activities from codes or keys"
   ]
  },
  {
   "cell_type": "markdown",
   "metadata": {
    "deletable": true,
    "editable": true
   },
   "source": [
    "We can see that the activities in the biosphere3 database have unique **codes**, which we can use with the `get` function:"
   ]
  },
  {
   "cell_type": "code",
   "execution_count": 17,
   "metadata": {
    "collapsed": false,
    "deletable": true,
    "editable": true
   },
   "outputs": [
    {
     "data": {
      "text/plain": [
       "'Tin' (kilogram, None, ('air', 'non-urban air or from high stacks'))"
      ]
     },
     "execution_count": 17,
     "metadata": {},
     "output_type": "execute_result"
    }
   ],
   "source": [
    "my_bio.get(random_biosphere['code'])"
   ]
  },
  {
   "cell_type": "markdown",
   "metadata": {
    "deletable": true,
    "editable": true
   },
   "source": [
    "Activities can also be \"gotten\" via `get_activity`, but the argument is the activity **key**, consisting of a tuple with two elements: the database name, and the activity code."
   ]
  },
  {
   "cell_type": "markdown",
   "metadata": {
    "solution2": "hidden",
    "solution2_first": true
   },
   "source": [
    "**Exercise:** Use `bw.get_activity()` to retrieve the random biosphere activity. "
   ]
  },
  {
   "cell_type": "code",
   "execution_count": null,
   "metadata": {
    "collapsed": false,
    "solution2": "hidden"
   },
   "outputs": [],
   "source": [
    "database_name = 'biosphere3'\n",
    "code = random_biosphere['code']\n",
    "random_biosphere_key = (database_name, code)\n",
    "random_biosphere_key"
   ]
  },
  {
   "cell_type": "code",
   "execution_count": null,
   "metadata": {
    "collapsed": false,
    "solution2": "hidden"
   },
   "outputs": [],
   "source": [
    "bw.get_activity(random_biosphere_key)"
   ]
  },
  {
   "cell_type": "markdown",
   "metadata": {},
   "source": [
    "You can always find (or return) the key to an activity using the `.key` property."
   ]
  },
  {
   "cell_type": "code",
   "execution_count": 18,
   "metadata": {
    "collapsed": false,
    "deletable": true,
    "editable": true
   },
   "outputs": [
    {
     "data": {
      "text/plain": [
       "('biosphere3', 'f563b90e-a300-4403-b278-d2fdcd73e5a7')"
      ]
     },
     "execution_count": 18,
     "metadata": {},
     "output_type": "execute_result"
    }
   ],
   "source": [
    "random_biosphere.key"
   ]
  },
  {
   "cell_type": "markdown",
   "metadata": {},
   "source": [
    "##### Searching for activities"
   ]
  },
  {
   "cell_type": "markdown",
   "metadata": {
    "deletable": true,
    "editable": true
   },
   "source": [
    "Let's say we are looking for a specific elementary flow, we can use the `search` method of the database (see [here](https://docs.brightwaylca.org/technical/bw2data.html#default-backend-databases-stored-in-a-sqlite-database) for more details on using search):"
   ]
  },
  {
   "cell_type": "code",
   "execution_count": 19,
   "metadata": {
    "collapsed": false,
    "deletable": true,
    "editable": true
   },
   "outputs": [
    {
     "data": {
      "text/plain": [
       "['Carbon dioxide, fossil' (kilogram, None, ('air', 'low population density, long-term')),\n",
       " 'Carbon dioxide, in air' (kilogram, None, ('natural resource', 'in air')),\n",
       " 'Carbon dioxide, fossil' (kilogram, None, ('air', 'non-urban air or from high stacks')),\n",
       " 'Carbon dioxide, fossil' (kilogram, None, ('air', 'lower stratosphere + upper troposphere')),\n",
       " 'Carbon dioxide, fossil' (kilogram, None, ('air', 'urban air close to ground')),\n",
       " 'Carbon dioxide, fossil' (kilogram, None, ('air',)),\n",
       " 'Carbon dioxide, non-fossil' (kilogram, None, ('air', 'urban air close to ground')),\n",
       " 'Carbon dioxide, non-fossil' (kilogram, None, ('air',)),\n",
       " 'Carbon dioxide, non-fossil' (kilogram, None, ('air', 'lower stratosphere + upper troposphere')),\n",
       " 'Carbon dioxide, non-fossil' (kilogram, None, ('air', 'non-urban air or from high stacks')),\n",
       " 'Carbon dioxide, non-fossil' (kilogram, None, ('air', 'low population density, long-term')),\n",
       " 'Carbon dioxide, to soil or biomass stock' (kilogram, None, ('soil',)),\n",
       " 'Carbon dioxide, from soil or biomass stock' (kilogram, None, ('air', 'indoor')),\n",
       " 'Carbon dioxide, from soil or biomass stock' (kilogram, None, ('air', 'low population density, long-term')),\n",
       " 'Carbon dioxide, non-fossil, from calcination' (kilogram, None, ['air']),\n",
       " 'Carbon dioxide, to soil or biomass stock' (kilogram, None, ('soil', 'forestry')),\n",
       " 'Carbon dioxide, from soil or biomass stock' (kilogram, None, ('air',)),\n",
       " 'Carbon dioxide, from soil or biomass stock' (kilogram, None, ('air', 'urban air close to ground')),\n",
       " 'Carbon dioxide, from soil or biomass stock' (kilogram, None, ('air', 'lower stratosphere + upper troposphere')),\n",
       " 'Carbon dioxide, from soil or biomass stock' (kilogram, None, ('air', 'non-urban air or from high stacks')),\n",
       " 'Carbon dioxide, to soil or biomass stock' (kilogram, None, ('soil', 'agricultural')),\n",
       " 'Carbon dioxide, to soil or biomass stock' (kilogram, None, ('soil', 'industrial'))]"
      ]
     },
     "execution_count": 19,
     "metadata": {},
     "output_type": "execute_result"
    }
   ],
   "source": [
    "bw.Database('biosphere3').search('carbon dioxide')"
   ]
  },
  {
   "cell_type": "markdown",
   "metadata": {},
   "source": [
    "It is also possible to use \"filters\" to narrow searches, e.g."
   ]
  },
  {
   "cell_type": "code",
   "execution_count": 20,
   "metadata": {
    "collapsed": false
   },
   "outputs": [
    {
     "name": "stdout",
     "output_type": "stream",
     "text": [
      "Excluding 18 filtered results\n"
     ]
    },
    {
     "data": {
      "text/plain": [
       "['Carbon dioxide, fossil' (kilogram, None, ('air', 'non-urban air or from high stacks')),\n",
       " 'Carbon dioxide, fossil' (kilogram, None, ('air', 'urban air close to ground')),\n",
       " 'Carbon dioxide, non-fossil' (kilogram, None, ('air', 'urban air close to ground')),\n",
       " 'Carbon dioxide, non-fossil' (kilogram, None, ('air', 'non-urban air or from high stacks'))]"
      ]
     },
     "execution_count": 20,
     "metadata": {},
     "output_type": "execute_result"
    }
   ],
   "source": [
    "bw.Database('biosphere3').search('carbon dioxide', filter={'categories':'urban', 'name':'fossil'})"
   ]
  },
  {
   "cell_type": "markdown",
   "metadata": {
    "deletable": true,
    "editable": true
   },
   "source": [
    "The database object is also iterable, allowing \"home-made\" searches through list comprehensions. This approach is better because one can add as many criteria as wanted:"
   ]
  },
  {
   "cell_type": "code",
   "execution_count": 21,
   "metadata": {
    "collapsed": false,
    "deletable": true,
    "editable": true
   },
   "outputs": [
    {
     "data": {
      "text/plain": [
       "['Carbon dioxide, fossil' (kilogram, None, ('air', 'urban air close to ground'))]"
      ]
     },
     "execution_count": 21,
     "metadata": {},
     "output_type": "execute_result"
    }
   ],
   "source": [
    "[act for act in my_bio if 'Carbon dioxide' in act['name'] \n",
    "                                            and 'fossil' in act['name']\n",
    "                                            and 'non' not in act['name']\n",
    "                                            and 'urban air close to ground' in str(act['categories'])\n",
    "         ]"
   ]
  },
  {
   "cell_type": "markdown",
   "metadata": {},
   "source": [
    "Activities returned by searches or list comprehensions can be assigned to variables, but to do so, one needs to identify the activity by index:"
   ]
  },
  {
   "cell_type": "code",
   "execution_count": 22,
   "metadata": {
    "collapsed": false
   },
   "outputs": [
    {
     "data": {
      "text/plain": [
       "'Carbon dioxide, fossil' (kilogram, None, ('air', 'urban air close to ground'))"
      ]
     },
     "execution_count": 22,
     "metadata": {},
     "output_type": "execute_result"
    }
   ],
   "source": [
    "activity_I_want = [act for act in my_bio if 'Carbon dioxide' in act['name'] \n",
    "                                            and 'fossil' in act['name']\n",
    "                                            and 'non' not in act['name']\n",
    "                                            and 'urban air close to ground' in str(act['categories'])\n",
    "         ][0]\n",
    "activity_I_want"
   ]
  },
  {
   "cell_type": "markdown",
   "metadata": {
    "solution2": "hidden",
    "solution2_first": true
   },
   "source": [
    "**Exercise**: look for and assign to a variable an emission of nitrous oxide emitted to air in the \"urban air\" subcompartment."
   ]
  },
  {
   "cell_type": "code",
   "execution_count": null,
   "metadata": {
    "collapsed": false,
    "deletable": true,
    "editable": true,
    "solution2": "hidden"
   },
   "outputs": [],
   "source": [
    "[act for act in my_bio if 'Dinitrogen monoxide' in act['name']\n",
    "                       and 'urban air close to ground' in str(act['categories'])\n",
    "         ][0]"
   ]
  },
  {
   "cell_type": "markdown",
   "metadata": {
    "deletable": true,
    "editable": true
   },
   "source": [
    "Let's leave the biosphere database here for now."
   ]
  },
  {
   "cell_type": "markdown",
   "metadata": {
    "deletable": true,
    "editable": true
   },
   "source": [
    "##### Methods"
   ]
  },
  {
   "cell_type": "markdown",
   "metadata": {
    "deletable": true,
    "editable": true
   },
   "source": [
    "bw2_setup() also installed LCIA methods."
   ]
  },
  {
   "cell_type": "code",
   "execution_count": 23,
   "metadata": {
    "collapsed": false,
    "deletable": true,
    "editable": true
   },
   "outputs": [
    {
     "data": {
      "text/plain": [
       "Methods dictionary with 718 objects, including:\n",
       "\t('CML 2001', 'acidification potential', 'average European')\n",
       "\t('CML 2001', 'acidification potential', 'generic')\n",
       "\t('CML 2001', 'climate change', 'GWP 100a')\n",
       "\t('CML 2001', 'climate change', 'GWP 20a')\n",
       "\t('CML 2001', 'climate change', 'GWP 500a')\n",
       "\t('CML 2001', 'climate change', 'lower limit of net GWP')\n",
       "\t('CML 2001', 'climate change', 'upper limit of net GWP')\n",
       "\t('CML 2001', 'eutrophication potential', 'average European')\n",
       "\t('CML 2001', 'eutrophication potential', 'generic')\n",
       "\t('CML 2001', 'freshwater aquatic ecotoxicity', 'FAETP 100a')\n",
       "Use `list(this object)` to get the complete list."
      ]
     },
     "execution_count": 23,
     "metadata": {},
     "output_type": "execute_result"
    }
   ],
   "source": [
    "bw.methods"
   ]
  },
  {
   "cell_type": "markdown",
   "metadata": {
    "deletable": true,
    "editable": true
   },
   "source": [
    "One can load a random method:"
   ]
  },
  {
   "cell_type": "code",
   "execution_count": 24,
   "metadata": {
    "collapsed": false,
    "deletable": true,
    "editable": true
   },
   "outputs": [
    {
     "data": {
      "text/plain": [
       "('EDIP w/o LT',\n",
       " 'environmental impact w/o LT',\n",
       " 'photochemical ozone formation, low NOx POCP w/o LT')"
      ]
     },
     "execution_count": 24,
     "metadata": {},
     "output_type": "execute_result"
    }
   ],
   "source": [
    "bw.methods.random()"
   ]
  },
  {
   "cell_type": "code",
   "execution_count": 25,
   "metadata": {
    "collapsed": false,
    "deletable": true,
    "editable": true
   },
   "outputs": [
    {
     "data": {
      "text/plain": [
       "tuple"
      ]
     },
     "execution_count": 25,
     "metadata": {},
     "output_type": "execute_result"
    }
   ],
   "source": [
    "type(bw.methods.random())"
   ]
  },
  {
   "cell_type": "markdown",
   "metadata": {
    "deletable": true,
    "editable": true
   },
   "source": [
    "Here, the random method returns the tuple by which the method is identified. To get to an actual method, the following syntax is used:"
   ]
  },
  {
   "cell_type": "code",
   "execution_count": 26,
   "metadata": {
    "collapsed": false,
    "deletable": true,
    "editable": true
   },
   "outputs": [
    {
     "data": {
      "text/plain": [
       "Brightway2 Method: ecological scarcity 2013: radioactive waste to deposit: total"
      ]
     },
     "execution_count": 26,
     "metadata": {},
     "output_type": "execute_result"
    }
   ],
   "source": [
    "bw.Method(bw.methods.random())"
   ]
  },
  {
   "cell_type": "markdown",
   "metadata": {
    "deletable": true,
    "editable": true
   },
   "source": [
    "Of course, a random method is probably not useful except to play around. To find an actual method, one can again use list comprehensions. Let's say I am interested in using the IPCC2013 100 years method:"
   ]
  },
  {
   "cell_type": "code",
   "execution_count": 27,
   "metadata": {
    "collapsed": false,
    "deletable": true,
    "editable": true
   },
   "outputs": [
    {
     "data": {
      "text/plain": [
       "[('IPCC 2013 no LT', 'climate change', 'GWP 100a'),\n",
       " ('IPCC 2013 no LT', 'climate change', 'GTP 100a'),\n",
       " ('IPCC 2013', 'climate change', 'GWP 100a'),\n",
       " ('IPCC 2013', 'climate change', 'GTP 100a')]"
      ]
     },
     "execution_count": 27,
     "metadata": {},
     "output_type": "execute_result"
    }
   ],
   "source": [
    "[m for m in bw.methods if 'IPCC' in str(m) and ('2013') in str(m) and '100' in str(m)]"
   ]
  },
  {
   "cell_type": "markdown",
   "metadata": {
    "deletable": true,
    "editable": true
   },
   "source": [
    "I am interested in the second of these, and will assign it to a variable. I can either refine my search or simply choose from the list using an index."
   ]
  },
  {
   "cell_type": "code",
   "execution_count": 29,
   "metadata": {
    "collapsed": false,
    "deletable": true,
    "editable": true
   },
   "outputs": [],
   "source": [
    "# Refined search approach\n",
    "ipcc2013_name_refined = [m for m in bw.methods if 'IPCC' in str(m)\n",
    "                                               and ('2013') in str(m)\n",
    "                                               and 'GWP 100' in str(m)\n",
    "                                               and 'no LT' not in str(m)][0]"
   ]
  },
  {
   "cell_type": "code",
   "execution_count": 30,
   "metadata": {
    "collapsed": true
   },
   "outputs": [],
   "source": [
    "# Indexing larger list approach\n",
    "ipcc2013_name_index_full_list = [m for m in bw.methods if 'IPCC' in str(m)\n",
    "                                               and ('2013') in str(m)\n",
    "                                               and '100' in str(m)][1]"
   ]
  },
  {
   "cell_type": "markdown",
   "metadata": {},
   "source": [
    "Of course, if I know exactly the method I want, and I know the syntax, I can simply type it out: `('IPCC 2013', 'climate change', 'GWP 100a')`"
   ]
  },
  {
   "cell_type": "code",
   "execution_count": 31,
   "metadata": {
    "collapsed": false,
    "deletable": true,
    "editable": true
   },
   "outputs": [
    {
     "data": {
      "text/plain": [
       "tuple"
      ]
     },
     "execution_count": 31,
     "metadata": {},
     "output_type": "execute_result"
    }
   ],
   "source": [
    "type(ipcc2013_name_refined)"
   ]
  },
  {
   "cell_type": "code",
   "execution_count": 32,
   "metadata": {
    "collapsed": true,
    "deletable": true,
    "editable": true
   },
   "outputs": [],
   "source": [
    "ipcc_2013_method = bw.Method(ipcc2013_name_refined)"
   ]
  },
  {
   "cell_type": "code",
   "execution_count": 33,
   "metadata": {
    "collapsed": false,
    "deletable": true,
    "editable": true
   },
   "outputs": [
    {
     "data": {
      "text/plain": [
       "bw2data.method.Method"
      ]
     },
     "execution_count": 33,
     "metadata": {},
     "output_type": "execute_result"
    }
   ],
   "source": [
    "type(ipcc_2013_method)"
   ]
  },
  {
   "cell_type": "markdown",
   "metadata": {
    "deletable": true,
    "editable": true
   },
   "source": [
    "Again, there are a bunch of methods associated with a method object. You can access these by typing ipcc_2013_method. and clicking tab.  \n",
    "For example, metadata:"
   ]
  },
  {
   "cell_type": "code",
   "execution_count": 34,
   "metadata": {
    "collapsed": false,
    "deletable": true,
    "editable": true
   },
   "outputs": [
    {
     "data": {
      "text/plain": [
       "('IPCC 2013', 'climate change', 'GWP 100a')"
      ]
     },
     "execution_count": 34,
     "metadata": {},
     "output_type": "execute_result"
    }
   ],
   "source": [
    "ipcc_2013_method.name"
   ]
  },
  {
   "cell_type": "code",
   "execution_count": 35,
   "metadata": {
    "collapsed": false,
    "deletable": true,
    "editable": true
   },
   "outputs": [
    {
     "data": {
      "text/plain": [
       "{'abbreviation': 'ipcc-2013cg.bd5af3f67229a1cc291b8ecb7f316fcf',\n",
       " 'description': \"IPCC characterisation factors for the direct global warming potential of air emissions in ecoinvent 3.2. See the ecoinvent report 'Implementation of IPCC impact assessment method 2007 and 2013 to ecoinvent database 3.2 (2015.11.30)' for more details. Doesn't include: indirect formation of dinitrogen monoxide from nitrogen emissions, radiative forcing due to emissions of NOx, water, sulphate, etc. in the lower stratosphere + upper troposphere, carbon climate feedbacks, and any emissions which have cooling effects (e.g. black carbon). All CO is assumed to convert completely to CO2. Biogenic CO2 uptake and biogenic CO2 emissions are not characterised, except for 'Carbon dioxide, from soil or biomass stock' (deforestation and land transformation).\",\n",
       " 'filename': 'LCIA_implementation_3.3.xlsx',\n",
       " 'num_cfs': 206,\n",
       " 'unit': 'kg CO2-Eq'}"
      ]
     },
     "execution_count": 35,
     "metadata": {},
     "output_type": "execute_result"
    }
   ],
   "source": [
    "ipcc_2013_method.metadata"
   ]
  },
  {
   "cell_type": "code",
   "execution_count": 36,
   "metadata": {
    "collapsed": false,
    "deletable": true,
    "editable": true
   },
   "outputs": [
    {
     "data": {
      "text/plain": [
       "'kg CO2-Eq'"
      ]
     },
     "execution_count": 36,
     "metadata": {},
     "output_type": "execute_result"
    }
   ],
   "source": [
    "ipcc_2013_method.metadata['unit']"
   ]
  },
  {
   "cell_type": "markdown",
   "metadata": {
    "deletable": true,
    "editable": true
   },
   "source": [
    "Let's use the `load` method to see what is in the object:"
   ]
  },
  {
   "cell_type": "code",
   "execution_count": 37,
   "metadata": {
    "collapsed": false,
    "deletable": true,
    "editable": true
   },
   "outputs": [
    {
     "data": {
      "text/plain": [
       "[(('biosphere3', 'e259263c-d1f1-449f-bb9b-73c6d0a32a00'), 1.0),\n",
       " (('biosphere3', '16eeda8a-1ea2-408e-ab37-2648495058dd'), 1.0),\n",
       " (('biosphere3', 'aa7cac3a-3625-41d4-bc54-33e2cf11ec46'), 1.0),\n",
       " (('biosphere3', '349b29d1-3e58-4c66-98b9-9d1a076efd2e'), 1.0),\n",
       " (('biosphere3', 'f9749677-9c9f-4678-ab55-c607dfdc2cb9'), 1.0),\n",
       " (('biosphere3', 'e1c597cc-14cb-4ebb-af07-7a93a5b77d34'), 1.0),\n",
       " (('biosphere3', '6d89125e-e9b7-4d7e-a1fc-ada45dbd8815'), 1.0),\n",
       " (('biosphere3', '78eb1859-abd9-44c6-9ce3-f3b5b33d619c'), 1.0),\n",
       " (('biosphere3', 'e4e9febc-07c1-403d-8d3a-6707bb4d96e6'), 1.0),\n",
       " (('biosphere3', 'e8787b5e-d927-446d-81a9-f56977bbfeb4'), 1.0),\n",
       " (('biosphere3', '259cf8d6-6ea8-4ccf-84b7-23c930a5b2b3'), -1.0),\n",
       " (('biosphere3', '8ae4d8bb-3e4b-4825-8325-94696d7a64fd'), -1.0),\n",
       " (('biosphere3', '60d424f7-d5a9-4549-9540-da06684bc3bb'), -1.0),\n",
       " (('biosphere3', '375bc95e-6596-4aa1-9716-80ff51b9da77'), -1.0),\n",
       " (('biosphere3', '49c594c6-b6a8-42a3-95c5-cca812fda80b'), 4.0624),\n",
       " (('biosphere3', 'a3beb5ac-5149-47f6-a035-53fc5030f10a'), 4.0624),\n",
       " (('biosphere3', '099b36ab-4c03-4587-87f4-2f81e337afb8'), 4.0624),\n",
       " (('biosphere3', 'ba2f3f82-c93a-47a5-822a-37ec97495275'), 4.0624),\n",
       " (('biosphere3', '6edcc2df-88a3-48e1-83d8-ffc38d31c35b'), 4.0624),\n",
       " (('biosphere3', 'bd086aa3-312a-47af-a7b2-04fddbf8f01e'), 4.0624),\n",
       " (('biosphere3', 'e1da7e11-cc2c-4ea2-a42a-bf558150014b'), 4.0624),\n",
       " (('biosphere3', '68b9b577-90cf-49e4-88bb-a55d80f3ac5d'), 4.0624),\n",
       " (('biosphere3', '69a6c884-39be-444f-a67c-7436a5e66de2'), 4.0624),\n",
       " (('biosphere3', '51c58d09-0699-4d51-80b3-a1bb2b9313e4'), 4.0624),\n",
       " (('biosphere3', '588356df-f3b4-43a7-a76e-c47175a7eae0'), 2.491),\n",
       " (('biosphere3', '968495ec-1000-438a-9e11-467776ebb54e'), 2.491),\n",
       " (('biosphere3', 'b821ad93-ba6a-4d74-b6ae-ca12cd9563d7'), 2.491),\n",
       " (('biosphere3', '2cb2333c-1599-46cf-8435-3dffce627524'), 2.491),\n",
       " (('biosphere3', '9afa0173-ecbd-4f2c-9c5c-b3128a032812'), 2.491),\n",
       " (('biosphere3', '78259cf2-1bb2-41ec-941c-9d70909df094'), 16.40180896),\n",
       " (('biosphere3', '98af3079-fb76-488d-8afe-713814e14d36'), 16.40180896),\n",
       " (('biosphere3', 'fa9b9736-6de8-4bd6-ba22-1bd78c798373'), 16.40180896),\n",
       " (('biosphere3', 'fbf6ab3a-74e3-4cbe-b61d-959728bdce46'), 16.40180896),\n",
       " (('biosphere3', '4cadbc9f-0472-4bb9-a942-df5b90e37878'), 16.40180896),\n",
       " (('biosphere3', '81305cda-63f1-4c1a-99c6-2c2568550ec4'), 264.8),\n",
       " (('biosphere3', '473826ae-125a-4b02-8c8e-c84322491d80'), 264.8),\n",
       " (('biosphere3', 'afd6d670-bbb0-4625-9730-04088a5b035e'), 264.8),\n",
       " (('biosphere3', '20185046-64bb-4c09-a8e7-e8a9e144ca98'), 264.8),\n",
       " (('biosphere3', '6dc1b46f-ee89-4495-95c4-b8a637bcd6cb'), 264.8),\n",
       " (('biosphere3', '647ae26f-f2fe-44cb-ac81-39bb7736f28e'), 1301.27019996),\n",
       " (('biosphere3', '75fe1a2c-49fa-49e4-90f1-8f102508a96d'), 1301.27019996),\n",
       " (('biosphere3', '16fcd4f9-0bb8-4b84-8334-3ffb1a17aa74'), 1301.27019996),\n",
       " (('biosphere3', 'e87f039d-d9ce-4242-ac18-c9284cc80f3d'), 1301.27019996),\n",
       " (('biosphere3', 'fa0c2bee-8dd9-4f8a-8489-b1f3b43de958'), 1301.27019996),\n",
       " (('biosphere3', 'f8ee4881-a003-4e18-aa2a-d9daf97d76f7'), 160.09863099),\n",
       " (('biosphere3', '9e7d019f-c8c0-4631-9bbb-ced3e081c90d'), 160.09863099),\n",
       " (('biosphere3', '99585564-bfce-4845-9aaa-2f24b8f26a41'), 160.09863099),\n",
       " (('biosphere3', 'ce6294f5-2ed7-46ee-a967-33e265e34455'), 160.09863099),\n",
       " (('biosphere3', '818cee9e-231c-4b53-8ed2-47a0001802d5'), 160.09863099),\n",
       " (('biosphere3', 'bf580c6b-1b4d-429d-bed7-1e335920941f'), 4804.43907777),\n",
       " (('biosphere3', '5eb2d548-1694-496d-b3bd-a439984fca7d'), 4804.43907777),\n",
       " (('biosphere3', '5253e322-7de5-42aa-9167-daf22ff44031'), 4804.43907777),\n",
       " (('biosphere3', 'e86bfec2-1025-4fa2-90b1-81e35e621e91'), 4804.43907777),\n",
       " (('biosphere3', 'f43b2b80-f5a6-4d31-9980-0754305a978d'), 4804.43907777),\n",
       " (('biosphere3', 'd2025041-20ee-41bb-b2c8-47631e839ff0'), 5823.72618701),\n",
       " (('biosphere3', '53b87932-00c8-4bf4-b519-ecd3c401ed4d'), 5823.72618701),\n",
       " (('biosphere3', '47c12d99-c2dc-41cf-bad1-cd31c2fe0421'), 5823.72618701),\n",
       " (('biosphere3', 'cacfd448-6c2d-4061-9363-fd506b979f25'), 5823.72618701),\n",
       " (('biosphere3', '9b132374-dce2-4ce0-86aa-53201b30f617'), 5823.72618701),\n",
       " (('biosphere3', 'b018c97d-8fea-4258-b4d3-6a65669c77f4'), 782.03725986),\n",
       " (('biosphere3', '8c193650-c4ae-4e9a-b25b-eaa7b2b9ea2d'), 782.03725986),\n",
       " (('biosphere3', '416eedbd-a7b4-4693-8031-9bfaa2f20ebc'), 782.03725986),\n",
       " (('biosphere3', '843fd145-61ac-4fa7-a608-ce4ac4d88d49'), 782.03725986),\n",
       " (('biosphere3', '033d3a16-e1a2-4ce8-8769-f4ea867801ca'), 782.03725986),\n",
       " (('biosphere3', '94ca9e00-5268-4663-a0cd-25026c7c6b53'), 137.56020393),\n",
       " (('biosphere3', 'fff3d2db-2784-4044-a6a2-2bc7242456ee'), 137.56020393),\n",
       " (('biosphere3', '1c4a106a-53bc-40f5-bcae-d30ab191dbfe'), 137.56020393),\n",
       " (('biosphere3', '9cf9bf0e-86fe-42c0-90cc-bfed96fbdc8f'), 137.56020393),\n",
       " (('biosphere3', '393d0862-04cc-45ae-8d08-9dc2a4461b35'), 137.56020393),\n",
       " (('biosphere3', 'ba3120e9-7412-4517-812c-752edeac5472'), 0.89826217),\n",
       " (('biosphere3', 'cab70244-9e25-42d3-b31e-ddabfd3eeb67'), 0.89826217),\n",
       " (('biosphere3', '89324b2f-1e73-4eb1-9716-96b9be0349ac'), 0.89826217),\n",
       " (('biosphere3', '03758df7-503a-400e-bc7b-ec05825761a5'), 0.89826217),\n",
       " (('biosphere3', '468bebea-17ee-49d3-b11d-c603d91c67c8'), 0.89826217),\n",
       " (('biosphere3', '1e060d5a-cd41-4f30-9c93-272403b7e004'), 8592.20208449),\n",
       " (('biosphere3', '7d05319a-1260-45e0-8872-d5ff1712ea7e'), 8592.20208449),\n",
       " (('biosphere3', '1584734d-c5c8-42a5-aa51-0f6a92a9cc0d'), 8592.20208449),\n",
       " (('biosphere3', '8a3a44e4-e2f1-476d-9e9e-a90fda263fe3'), 8592.20208449),\n",
       " (('biosphere3', '3b30d058-02ef-4ed2-b357-5fc1a45c63e7'), 8592.20208449),\n",
       " (('biosphere3', '50432644-8568-444e-b7e7-8e37a7e1f3e3'), 1982.03546266),\n",
       " (('biosphere3', '1652c2e3-c6c5-49e1-9ad1-34c188087ca6'), 1982.03546266),\n",
       " (('biosphere3', '95b6f6da-49f9-413d-8ff5-5342d6cff588'), 1982.03546266),\n",
       " (('biosphere3', 'ba781ac6-cdf1-4a09-86b5-76b19ed3438b'), 1982.03546266),\n",
       " (('biosphere3', '400be66e-4383-482a-93e3-c005e96de261'), 1982.03546266),\n",
       " (('biosphere3', 'f322122f-3059-4cfb-8754-efc82548e7f0'), 79.36717675),\n",
       " (('biosphere3', '2fff3bda-1eec-4166-9969-bc9e757c8e8e'), 79.36717675),\n",
       " (('biosphere3', '2cbc6042-2cee-4668-8017-d7f805d9029e'), 79.36717675),\n",
       " (('biosphere3', '050da0cd-2957-45a9-ae7a-ace372083fe5'), 79.36717675),\n",
       " (('biosphere3', 'db907ff7-6cf0-4f88-9376-116262dfad6d'), 79.36717675),\n",
       " (('biosphere3', '0bf92802-8b5e-43f5-a261-95c06bd5c551'), 526.54777691),\n",
       " (('biosphere3', '9b7e5cbf-e1eb-420d-ad43-248df23457ee'), 526.54777691),\n",
       " (('biosphere3', '71a6ea76-6642-4573-bed2-c1884e6792fd'), 526.54777691),\n",
       " (('biosphere3', '60268f3d-468b-487e-acb1-24d7250cb6b3'), 526.54777691),\n",
       " (('biosphere3', '27f61651-96a5-45c7-9873-832626cf6905'), 526.54777691),\n",
       " (('biosphere3', '4925cde1-9f43-43d3-bcf1-4865b8de6634'), 7665.36131656),\n",
       " (('biosphere3', '30533fd3-b19c-44fc-9a88-fb6b12409b47'), 7665.36131656),\n",
       " (('biosphere3', '6f8ce7a4-d66a-4593-9314-51778aa09d4b'), 7665.36131656),\n",
       " (('biosphere3', 'ec8789e5-d140-4ca8-b7ef-b3abfd044414'), 7665.36131656),\n",
       " (('biosphere3', '15e54d5b-aba2-40a6-9aa8-aa2b8c432129'), 7665.36131656),\n",
       " (('biosphere3', 'b7e0bddf-7b8a-43f4-9319-6f4b3d9fa65a'), 11123.4939199),\n",
       " (('biosphere3', '7f62f535-e81a-476c-9c39-4d59f289db1a'), 11123.4939199),\n",
       " (('biosphere3', '8f3e0579-d07d-48c9-b41a-fb559728f9c0'), 11123.4939199),\n",
       " (('biosphere3', 'acc39720-dda7-4b3a-80c7-c6394cad4191'), 11123.4939199),\n",
       " (('biosphere3', 'df5dd437-2e12-4af6-8f7a-9c8224857dc5'), 11123.4939199),\n",
       " (('biosphere3', 'dc9520c7-6e4a-42fb-b1f6-9fa8f34667a4'), 3169.25517622),\n",
       " (('biosphere3', '40022b1f-8906-4c54-a074-bf1a3fc9b13f'), 3169.25517622),\n",
       " (('biosphere3', '84386543-b148-465b-9265-ad638c12e263'), 3169.25517622),\n",
       " (('biosphere3', '281e1011-f121-4d5b-ad4d-22d562b2c2cd'), 3169.25517622),\n",
       " (('biosphere3', '5d1701c5-c4ef-49c7-8a68-ce7c255eee9f'), 3169.25517622),\n",
       " (('biosphere3', 'b53d3744-3629-4219-be20-980865e54031'), 29.7),\n",
       " (('biosphere3', '09e231fa-b1c2-4d63-9c57-7ea0e2210858'), 2.3545465),\n",
       " (('biosphere3', '6bdb666d-e227-4f57-9b1d-d25009d3c44b'), 2.3545465),\n",
       " (('biosphere3', '701cda28-4722-431c-b52f-05a735ef5ed3'), 2.3545465),\n",
       " (('biosphere3', '8c283de2-50d3-40c8-8bff-1e172c3398f8'), 2.3545465),\n",
       " (('biosphere3', '4bf1c333-419b-4278-ac14-247c8bf563d6'), 2.3545465),\n",
       " (('biosphere3', '06a4fedf-dab4-4ef1-90df-1d0ce8fe6477'), 1746.48198701),\n",
       " (('biosphere3', '50f528ca-45e7-42d0-b399-998ea63ddabf'), 1746.48198701),\n",
       " (('biosphere3', '494eb62d-3e16-4a81-b344-6d6dfd9fd4e2'), 1746.48198701),\n",
       " (('biosphere3', 'ee31ac2a-9336-4ed6-8077-9663003bc2f9'), 1746.48198701),\n",
       " (('biosphere3', '816c43d1-bc30-4a72-81db-08cb6be4da4f'), 1746.48198701),\n",
       " (('biosphere3', '96b52062-5e2f-40de-921a-f443c08862e4'), 6291.62957595),\n",
       " (('biosphere3', 'cf719b78-9834-4649-a1dd-8554c366c83f'), 6291.62957595),\n",
       " (('biosphere3', '82957257-07f3-4536-ac8b-175cb2353c75'), 6291.62957595),\n",
       " (('biosphere3', '4ac2ffc3-312e-4e2d-88c4-2630d4a73d8c'), 6291.62957595),\n",
       " (('biosphere3', '18ddd879-5496-4419-8ab7-e0d3864d977d'), 6291.62957595),\n",
       " (('biosphere3', '9b505d7c-4239-40e0-9dbe-55d38f3b85b3'), 1764.62950881),\n",
       " (('biosphere3', '26991da1-c263-4707-9f85-78685acc94dc'), 1764.62950881),\n",
       " (('biosphere3', '56b7d3b6-83d7-42b0-a65b-5ad23e29db47'), 1764.62950881),\n",
       " (('biosphere3', '18c582fe-7336-4138-8797-2db8b7a754c7'), 1764.62950881),\n",
       " (('biosphere3', '8ca6c84b-7f56-47e6-8d17-4f2dbc49a943'), 1764.62950881),\n",
       " (('biosphere3', '5dfb74d2-fa15-4f2d-bf7c-5aa45a41ec7f'), 13893.352601),\n",
       " (('biosphere3', 'b9c1ac70-e2eb-4fcd-bc63-befa92866af5'), 13893.352601),\n",
       " (('biosphere3', '23a9f33d-dbab-4fcc-8f49-1df731b0b827'), 13893.352601),\n",
       " (('biosphere3', 'e06e2e1e-ad87-49e2-a184-f2d1c48b7b46'), 13893.352601),\n",
       " (('biosphere3', '43bc4fc0-bfeb-46d6-b3de-f69c3ccd622a'), 13893.352601),\n",
       " (('biosphere3', 'f903c2fb-71bf-4568-99fc-6aa7ed7bc922'), 8.9151946),\n",
       " (('biosphere3', 'b328d33e-9a9f-407d-a767-5c64ccdc163f'), 8.9151946),\n",
       " (('biosphere3', 'd4b61c6c-a620-4a91-afc6-ca87ef97b55a'), 8.9151946),\n",
       " (('biosphere3', '432a3326-73f8-4752-bc4d-06b7b4b1243c'), 8.9151946),\n",
       " (('biosphere3', '2716807d-0266-48ff-bb7a-6e6c5fbfd5c5'), 8.9151946),\n",
       " (('biosphere3', '31f8976a-6f7d-487e-a850-eb495dbf0351'), 10239.2345992),\n",
       " (('biosphere3', '1013b9ec-a7b5-459c-be3d-74f61b9ce06e'), 10239.2345992),\n",
       " (('biosphere3', 'e93ba406-3df8-4e34-be54-0d556b2bb629'), 10239.2345992),\n",
       " (('biosphere3', 'c0e8ec60-a5ae-432e-97a5-cf76b6247a00'), 10239.2345992),\n",
       " (('biosphere3', '31a3e44c-4098-461e-aba2-f79540e05087'), 10239.2345992),\n",
       " (('biosphere3', '34de4196-871a-4db8-a182-589ab780a935'), 147.66224518),\n",
       " (('biosphere3', 'de8d76cb-7216-4e6f-8bf2-8cdf76e99902'), 147.66224518),\n",
       " (('biosphere3', '727835b8-c650-4d46-882f-35b2a366b559'), 147.66224518),\n",
       " (('biosphere3', '04a6edb8-624a-484e-8f85-d771657adae7'), 147.66224518),\n",
       " (('biosphere3', '3c8af80d-7ff8-43f4-b1a7-cef73b1b4682'), 147.66224518),\n",
       " (('biosphere3', '33a791a2-a1e7-446b-b25a-b3be6159bae4'), 676.80778461),\n",
       " (('biosphere3', '20d0fc73-b9ce-4001-ac15-893b30ed10a3'), 676.80778461),\n",
       " (('biosphere3', '8fbe2c56-c213-4501-b95e-ff57a76fbd6f'), 676.80778461),\n",
       " (('biosphere3', '151212b4-079b-43a2-96d5-a6eef59166ac'), 676.80778461),\n",
       " (('biosphere3', 'c9028b09-c12d-421b-9944-7d145e196ebc'), 676.80778461),\n",
       " (('biosphere3', 'f3bd723a-5276-4ae8-9860-b89537351a90'), 29.7),\n",
       " (('biosphere3', '6b1b495b-70ee-4be6-b1c2-3031aa4d6add'), 29.7),\n",
       " (('biosphere3', '70ef743b-3ed5-4a6d-b192-fb6d62378555'), 29.7),\n",
       " (('biosphere3', '0795345f-c7ae-410c-ad25-1845784c75f5'), 29.7),\n",
       " (('biosphere3', '5f7aad3d-566c-4d0d-ad59-e765f971aa0f'), 29.7),\n",
       " (('biosphere3', 'f757365c-c6fd-41fe-ad32-3594ccd97ef0'), 29.7),\n",
       " (('biosphere3', 'ef4566f0-60d5-4bbe-a2cb-7268a81fecd4'), 29.7),\n",
       " (('biosphere3', '9541a975-800f-4fed-9edf-28f6e411a015'), 29.7),\n",
       " (('biosphere3', '7f0ba7c9-341e-413d-80f6-8753727d65d1'), 29.7),\n",
       " (('biosphere3', '299c6564-426e-48c3-b516-fdf301d12127'), 29.7),\n",
       " (('biosphere3', '246c87af-4495-4977-8d39-eae397c1c8f1'), 12.18322764),\n",
       " (('biosphere3', '0f70e720-127e-44dc-bb85-438158235ab6'), 12.18322764),\n",
       " (('biosphere3', 'ed63abd0-7cc6-4825-8759-b367e560fe95'), 12.18322764),\n",
       " (('biosphere3', '18ea247b-edc2-43fe-89bd-cedd04102bcc'), 12.18322764),\n",
       " (('biosphere3', '370447a7-70d1-47bd-8577-0a32c4f53570'), 12.18322764),\n",
       " (('biosphere3', '6c977009-5c4e-4901-a4c1-ab20389cb972'), 28.5),\n",
       " (('biosphere3', '258263a0-6be3-4439-bd84-efee0498b849'), 28.5),\n",
       " (('biosphere3', '57bdb443-d4a6-423d-8024-959b8261d02e'), 28.5),\n",
       " (('biosphere3', 'da1157e2-7593-4dfd-80dd-a3449b37a4d8'), 28.5),\n",
       " (('biosphere3', 'baf58fc9-573c-419c-8c16-831ac03203b9'), 28.5),\n",
       " (('biosphere3', 'ba5c9458-44df-4d93-a7c3-9389f65166d8'), 1728.47068126),\n",
       " (('biosphere3', '6c833956-6302-47c3-8abc-7ecae92266fb'), 1728.47068126),\n",
       " (('biosphere3', '0f9f3e17-eb81-4adb-8170-049bc6b66728'), 1728.47068126),\n",
       " (('biosphere3', '86d12e70-0c64-4ecf-ba52-114fa0c5d402'), 1728.47068126),\n",
       " (('biosphere3', '5c97dd6c-aaa5-4477-aaf8-dbd0674499c4'), 1728.47068126),\n",
       " (('biosphere3', 'e59a199f-d4ed-4d43-82b1-71c4a8fae867'), 6625.78042077),\n",
       " (('biosphere3', '6d023c39-c04e-4305-b2e4-adc89b53e708'), 6625.78042077),\n",
       " (('biosphere3', 'b353e7d2-5b94-4b6e-a3e5-de0a10bef851'), 6625.78042077),\n",
       " (('biosphere3', '33681770-a0e1-4ce8-93c3-941fd607fa5f'), 6625.78042077),\n",
       " (('biosphere3', 'dfe1da1e-7756-4f7e-a393-6d5e2342a962'), 6625.78042077),\n",
       " (('biosphere3', '3feb6415-ae50-4bb7-b9d1-c18d99f8a87f'), 4662.93699438),\n",
       " (('biosphere3', '6e61b542-5681-44f4-afcb-e30368bca420'), 4662.93699438),\n",
       " (('biosphere3', 'a916ca1b-4ece-4630-a563-ae3253efc04f'), 4662.93699438),\n",
       " (('biosphere3', '51e99a55-bcdb-4d18-9484-6de4b142e09d'), 4662.93699438),\n",
       " (('biosphere3', '33a69662-583b-45b8-8cb9-94f59fca9133'), 4662.93699438),\n",
       " (('biosphere3', 'dc78690a-2b0a-49fc-8272-b811fb25ff6c'), 12397.6034385),\n",
       " (('biosphere3', 'a3724600-89c1-4f35-97c9-0de3adbadc8b'), 12397.6034385),\n",
       " (('biosphere3', '5e2e1740-1bb9-4157-b816-6cb5aa006437'), 12397.6034385),\n",
       " (('biosphere3', 'e5ba3517-a93f-422e-9ce2-f1007fcf6c06'), 12397.6034385),\n",
       " (('biosphere3', '8f87dcf1-0177-4d62-bea0-a5dd8647ef8c'), 12397.6034385),\n",
       " (('biosphere3', '4c097625-506e-4dfc-a170-75fda90cf7cb'), 16069.997634),\n",
       " (('biosphere3', 'fdf090d7-ee05-4f33-8b7f-5504c718c3cd'), 16069.997634),\n",
       " (('biosphere3', 'f8cf5fd7-9f94-4870-9e6a-768deae9b766'), 16069.997634),\n",
       " (('biosphere3', 'e79e03c3-5b19-45f6-b3f3-bf710c6663d2'), 16069.997634),\n",
       " (('biosphere3', '1fdc280a-34d3-4513-b110-3f526b17c443'), 16069.997634),\n",
       " (('biosphere3', 'e2ccc98a-6d4e-443b-b11f-d16f32782833'), 8546.70453046),\n",
       " (('biosphere3', 'acbae70a-5450-448f-9038-c403cb496e1a'), 23506.8199932),\n",
       " (('biosphere3', '44e4d1ce-fa79-4ed5-93f9-445c4ff8df2e'), 23506.8199932),\n",
       " (('biosphere3', 'c7c769bb-89b9-4459-afed-e3acecd39339'), 23506.8199932),\n",
       " (('biosphere3', '35d1dff5-b535-4628-9826-4a8fce08a1f2'), 23506.8199932),\n",
       " (('biosphere3', '856c9aa2-c20c-49a8-9417-c71bdb5f17b0'), 23506.8199932)]"
      ]
     },
     "execution_count": 37,
     "metadata": {},
     "output_type": "execute_result"
    }
   ],
   "source": [
    "ipcc_2013_method.load()"
   ]
  },
  {
   "cell_type": "markdown",
   "metadata": {
    "deletable": true,
    "editable": true
   },
   "source": [
    "This contains tuples with (elementary flow, characterization factors)."
   ]
  },
  {
   "cell_type": "markdown",
   "metadata": {},
   "source": [
    "##### Nice display of data in methods "
   ]
  },
  {
   "cell_type": "markdown",
   "metadata": {
    "solution2": "hidden",
    "solution2_first": true
   },
   "source": [
    "**Exercise:** Create a dictionary with keys = elementary flow names and values = characterization factors for the ILCD \"respiratory effects, inorganics\" method (including long-term emissions).  \n",
    "Bonus (optional): Generate a Pandas Series with the resulting dictionary. "
   ]
  },
  {
   "cell_type": "code",
   "execution_count": null,
   "metadata": {
    "collapsed": false,
    "solution2": "hidden"
   },
   "outputs": [],
   "source": [
    "# First exploration\n",
    "[m for m in bw.methods if 'ILCD' in str(m) \n",
    "                        and 'inorganics' in str(m)]"
   ]
  },
  {
   "cell_type": "code",
   "execution_count": null,
   "metadata": {
    "collapsed": false,
    "solution2": "hidden"
   },
   "outputs": [],
   "source": [
    "# Refine search and assign to a variable\n",
    "ILCD_resp_effects_tuple = [m for m in bw.methods if 'ILCD' in str(m) \n",
    "                        and 'inorganics' in str(m)\n",
    "                        and 'w/o LT' not in str(m)][0]\n",
    "ILCD_resp_effects = bw.Method(ILCD_resp_effects_tuple)\n",
    "ILCD_resp_effects"
   ]
  },
  {
   "cell_type": "code",
   "execution_count": null,
   "metadata": {
    "collapsed": false,
    "solution2": "hidden"
   },
   "outputs": [],
   "source": [
    "# Generate the dictionary using a comprehension:\n",
    "ILCD_resp_effects_dict = {bw.get_activity(ef[0])['name']:ef[1] for ef in ILCD_resp_effects.load()}\n",
    "ILCD_resp_effects_dict"
   ]
  },
  {
   "cell_type": "code",
   "execution_count": null,
   "metadata": {
    "collapsed": false,
    "solution2": "hidden"
   },
   "outputs": [],
   "source": [
    "# Bonus: put the whole thing in a neat Pandas series\n",
    "import pandas as pd\n",
    "pd.Series(ILCD_resp_effects_dict,\n",
    "          name=\"{}, {}\".format(ILCD_resp_effects.name, ILCD_resp_effects.metadata['unit']))"
   ]
  },
  {
   "cell_type": "markdown",
   "metadata": {
    "deletable": true,
    "editable": true
   },
   "source": [
    "Enough said for now about methods."
   ]
  },
  {
   "cell_type": "markdown",
   "metadata": {
    "deletable": true,
    "editable": true
   },
   "source": [
    "#### 1.4) LCI datases"
   ]
  },
  {
   "cell_type": "markdown",
   "metadata": {
    "deletable": true,
    "editable": true
   },
   "source": [
    "There is much information on the structure of LCI databases in Brightway2 [here](https://docs.brightwaylca.org/intro.html#inventory-databases), [here](http://nbviewer.jupyter.org/urls/bitbucket.org/cmutel/brightway2/raw/default/notebooks/Databases.ipynb) and [here](https://docs.brightwaylca.org/technical/bw2data.html#databases).  Probably the easiest way to learn about them, however, is to import one and have a look.  "
   ]
  },
  {
   "cell_type": "markdown",
   "metadata": {
    "deletable": true,
    "editable": true
   },
   "source": [
    "Here is the code to import the ecoinvent v3.3 database. Don't do it though, not now: it takes too long, we're better off working with a smaller database and getting more done."
   ]
  },
  {
   "cell_type": "code",
   "execution_count": null,
   "metadata": {
    "collapsed": false,
    "deletable": true,
    "editable": true
   },
   "outputs": [],
   "source": [
    "fpei33 = \"enter your path to the datasets e.g. r'C:\\FolderWith\\LotsOf\\ecoSpold2\\Files'\""
   ]
  },
  {
   "cell_type": "markdown",
   "metadata": {},
   "source": [
    "Next, execute the following code. It will import the ecoinvent database. We will look in detail in another Notebook at what this code actually does."
   ]
  },
  {
   "cell_type": "code",
   "execution_count": null,
   "metadata": {
    "collapsed": false,
    "deletable": true,
    "editable": true
   },
   "outputs": [],
   "source": [
    "if 'ecoinvent 3.3 cutoff' in bw.databases:\n",
    "    print(\"Database has already been imported\")\n",
    "else:\n",
    "    ei33 = bw.SingleOutputEcospold2Importer(fpei33, 'ecoinvent 3.3 cutoff')\n",
    "    ei33.apply_strategies()\n",
    "    ei33.statistics()"
   ]
  },
  {
   "cell_type": "markdown",
   "metadata": {},
   "source": [
    "The database needs to be written to disk:"
   ]
  },
  {
   "cell_type": "code",
   "execution_count": null,
   "metadata": {
    "collapsed": false,
    "deletable": true,
    "editable": true
   },
   "outputs": [],
   "source": [
    "ei33.write_database()"
   ]
  },
  {
   "cell_type": "markdown",
   "metadata": {
    "deletable": true,
    "editable": true
   },
   "source": [
    "Let's instead import **ecoinvent v2.2**:"
   ]
  },
  {
   "cell_type": "code",
   "execution_count": null,
   "metadata": {
    "collapsed": true,
    "deletable": true,
    "editable": true
   },
   "outputs": [],
   "source": [
    "fpei22 =  \"enter your path to the datasets e.g. r'C:\\FolderWith\\LotsOf\\ecoSpold2\\Files'\""
   ]
  },
  {
   "cell_type": "code",
   "execution_count": null,
   "metadata": {
    "collapsed": false,
    "deletable": true,
    "editable": true
   },
   "outputs": [],
   "source": [
    "if 'ecoinvent 2.2 cutoff' in bw.databases:\n",
    "    print(\"Database has already been imported\")\n",
    "else:\n",
    "    ei22 = SingleOutputEcospold1Importer(fpei22, 'ecoinvent 2.2')\n",
    "    ei22.apply_strategies()\n",
    "    ei22.statistics()"
   ]
  },
  {
   "cell_type": "code",
   "execution_count": null,
   "metadata": {
    "collapsed": true
   },
   "outputs": [],
   "source": [
    "ei22.write_database()"
   ]
  },
  {
   "cell_type": "markdown",
   "metadata": {
    "deletable": true,
    "editable": true
   },
   "source": [
    "Other code to import LCI databases in other formats are found [here](https://bitbucket.org/cmutel/brightway2-io/src/211f748e7b9987aef452a1ead1f483cc0b4bc25c/bw2io/importers/?at=default). We'll explore this later."
   ]
  },
  {
   "cell_type": "markdown",
   "metadata": {
    "deletable": true,
    "editable": true
   },
   "source": [
    "If you check that the database has actually been added to your project: "
   ]
  },
  {
   "cell_type": "code",
   "execution_count": 137,
   "metadata": {
    "collapsed": false
   },
   "outputs": [
    {
     "data": {
      "text/plain": [
       "Exchange: 0.024 cubic meter 'Water, cooling, unspecified natural origin' (cubic meter, None, ('natural resource', 'in water')) to 'trimethyl borate, at plant' (kilogram, GLO, ['chemicals', 'organics'])>"
      ]
     },
     "execution_count": 137,
     "metadata": {},
     "output_type": "execute_result"
    }
   ],
   "source": [
    "eidb."
   ]
  },
  {
   "cell_type": "code",
   "execution_count": 38,
   "metadata": {
    "collapsed": false,
    "deletable": true,
    "editable": true
   },
   "outputs": [
    {
     "data": {
      "text/plain": [
       "Databases dictionary with 3 object(s):\n",
       "\tbiosphere3\n",
       "\tecoinvent 2.2\n",
       "\tecoinvent 3.3 cutoff"
      ]
     },
     "execution_count": 38,
     "metadata": {},
     "output_type": "execute_result"
    }
   ],
   "source": [
    "bw.databases"
   ]
  },
  {
   "cell_type": "markdown",
   "metadata": {
    "deletable": true,
    "editable": true
   },
   "source": [
    "Note: the ei22 (or ei33) object created above is not the actual database, but actually an object used strictly for importing. "
   ]
  },
  {
   "cell_type": "code",
   "execution_count": null,
   "metadata": {
    "collapsed": false,
    "deletable": true,
    "editable": true
   },
   "outputs": [],
   "source": [
    "type(ei22)"
   ]
  },
  {
   "cell_type": "markdown",
   "metadata": {
    "deletable": true,
    "editable": true
   },
   "source": [
    "To access the actual database, you need to use the Database method: "
   ]
  },
  {
   "cell_type": "code",
   "execution_count": 39,
   "metadata": {
    "collapsed": false,
    "deletable": true,
    "editable": true
   },
   "outputs": [
    {
     "data": {
      "text/plain": [
       "Brightway2 SQLiteBackend: ecoinvent 2.2"
      ]
     },
     "execution_count": 39,
     "metadata": {},
     "output_type": "execute_result"
    }
   ],
   "source": [
    "#Uncomment the one you actually imported. \n",
    "\n",
    "bw.Database('ecoinvent 2.2')\n",
    "# bw.Database('ecoinvent 3.3 cutoff')"
   ]
  },
  {
   "cell_type": "markdown",
   "metadata": {
    "deletable": true,
    "editable": true
   },
   "source": [
    "This is a more advanced topic, but note that there are alternative backends. See [here](https://docs.brightwaylca.org/technical/bw2data.html#inventory-data-backends)."
   ]
  },
  {
   "cell_type": "markdown",
   "metadata": {
    "deletable": true,
    "editable": true
   },
   "source": [
    "Let's assign the database to a variable and see what we can do:"
   ]
  },
  {
   "cell_type": "code",
   "execution_count": 40,
   "metadata": {
    "collapsed": false,
    "deletable": true,
    "editable": true
   },
   "outputs": [],
   "source": [
    "#Uncomment the one you actually imported. \n",
    "\n",
    "eidb = bw.Database('ecoinvent 2.2')\n",
    "# eidb = bw.Database('ecoinvent 3.3 cutoff')"
   ]
  },
  {
   "cell_type": "code",
   "execution_count": 41,
   "metadata": {
    "collapsed": false,
    "deletable": true,
    "editable": true
   },
   "outputs": [
    {
     "data": {
      "text/plain": [
       "4087"
      ]
     },
     "execution_count": 41,
     "metadata": {},
     "output_type": "execute_result"
    }
   ],
   "source": [
    "# Check the length of the database:\n",
    "len(eidb)"
   ]
  },
  {
   "cell_type": "markdown",
   "metadata": {
    "deletable": true,
    "editable": true
   },
   "source": [
    "Again, we can get an idea of useful methods and attributes by typing eidb. and Tab. Do this now."
   ]
  },
  {
   "cell_type": "code",
   "execution_count": null,
   "metadata": {
    "collapsed": true,
    "deletable": true,
    "editable": true
   },
   "outputs": [],
   "source": [
    "eidb. #Press tab!"
   ]
  },
  {
   "cell_type": "markdown",
   "metadata": {},
   "source": [
    "##### LCI activities"
   ]
  },
  {
   "cell_type": "markdown",
   "metadata": {
    "editable": true
   },
   "source": [
    "In the context of LCI databases, activities are the nodes \"within the technosphere\". They are therefore the columns in the technosphere matrix $A$.  \n",
    "There are different ways to get access to an activity. Let's use the `random()` method for now to explore a random activity in the ecoinvent database."
   ]
  },
  {
   "cell_type": "code",
   "execution_count": 49,
   "metadata": {
    "collapsed": true,
    "editable": true
   },
   "outputs": [],
   "source": [
    "random_act = eidb.random()"
   ]
  },
  {
   "cell_type": "code",
   "execution_count": 50,
   "metadata": {
    "collapsed": false,
    "editable": true
   },
   "outputs": [
    {
     "data": {
      "text/plain": [
       "'trimethyl borate, at plant' (kilogram, GLO, ['chemicals', 'organics'])"
      ]
     },
     "execution_count": 50,
     "metadata": {},
     "output_type": "execute_result"
    }
   ],
   "source": [
    "random_act"
   ]
  },
  {
   "cell_type": "code",
   "execution_count": 44,
   "metadata": {
    "collapsed": false,
    "editable": true
   },
   "outputs": [
    {
     "data": {
      "text/plain": [
       "bw2data.backends.peewee.proxies.Activity"
      ]
     },
     "execution_count": 44,
     "metadata": {},
     "output_type": "execute_result"
    }
   ],
   "source": [
    "type(random_act)"
   ]
  },
  {
   "cell_type": "markdown",
   "metadata": {
    "editable": true
   },
   "source": [
    "To see what is stored in an activity object, let's convert our random act in a dictionary: "
   ]
  },
  {
   "cell_type": "code",
   "execution_count": 45,
   "metadata": {
    "collapsed": false,
    "editable": true
   },
   "outputs": [
    {
     "data": {
      "text/plain": [
       "{'authors': [{'address': 'Lerchenfeldstrasse 5, 9014 St. Gallen',\n",
       "   'company': 'EMPA',\n",
       "   'country': 'CH',\n",
       "   'email': 'empa@ecoinvent.org',\n",
       "   'name': 'Roland Hischier'}],\n",
       " 'categories': ['waste management', 'building demolition'],\n",
       " 'code': 'ad5004118aa54cff9a086d6fce3ca278',\n",
       " 'comment': 'The waste contains 1kg emulsion paint (GSD=100%)  Waste density is 850 kg/m3. Allocation of energy production in waste incineration: no substitution or expansion. Total burden allocated to waste disposal function of waste incinerator.\\ntransport to dismantling facilities, final disposal of waste material, \\nLocation:  Specific to the technology mix encountered in Switzerland in late 1990ies\\nTechnology:  Building demolition with skid-steer loaders. \\nSampling:  waste-specific calculation based on literature data\\nExtrapolations:  none\\nUncertainty:  none',\n",
       " 'database': 'ecoinvent 2.2',\n",
       " 'filename': 'E:\\\\datasets\\\\02015.XML',\n",
       " 'location': 'CH',\n",
       " 'name': 'disposal, building, emulsion paint remains, to final disposal',\n",
       " 'production amount': 1.0,\n",
       " 'type': 'process',\n",
       " 'unit': 'kilogram'}"
      ]
     },
     "execution_count": 45,
     "metadata": {},
     "output_type": "execute_result"
    }
   ],
   "source": [
    "random_act.as_dict()"
   ]
  },
  {
   "cell_type": "markdown",
   "metadata": {
    "editable": true
   },
   "source": [
    "Notice one important thing: **no exchanges**!  \n",
    "Indeed, the exchanges and the activities are stored in two different tables of the `databases.db` database.  \n",
    "It is possible, however, to iterate through the exchanges of the activities."
   ]
  },
  {
   "cell_type": "markdown",
   "metadata": {},
   "source": [
    "##### Searching and getting LCI activities"
   ]
  },
  {
   "cell_type": "markdown",
   "metadata": {},
   "source": [
    "Searching and getting LCI activities is done exactly the same way as for activities in the biosphere3 database:"
   ]
  },
  {
   "cell_type": "code",
   "execution_count": 92,
   "metadata": {
    "collapsed": false
   },
   "outputs": [
    {
     "data": {
      "text/plain": [
       "{'authors': [{'address': 'ETH Hönggerberg, HCI, 8093 Zuerich',\n",
       "   'company': 'ETH S+U',\n",
       "   'country': 'CH',\n",
       "   'email': 'eth.s-u@ecoinvent.org',\n",
       "   'name': 'Jürgen Sutter'}],\n",
       " 'categories': ['chemicals', 'organics'],\n",
       " 'code': '873af1f1d0c9d644bcbb2849866f82ed',\n",
       " 'comment': 'The process \"trimethylborate, at plant, GLO\" is modelled for the production of  trimethylborate from boric acid in the world.  Raw materials are modelled with a stoechiometric calculation. Energy consumptions and emissions are estimated. Infrastructure and transports are calculated with standard values.\\nProduction of trimethylborate including materials, energy uses, infrastructure and emissions.\\nLocation:  The inventory is modelled for the world.\\nTechnology:  Methylation of boric acid\\nTime period:  Time of publications\\nProduction volume:  unknown\\nSampling:  Standard values\\nExtrapolations:  Energy consumptions and emissions are estimated. Infrastructure and transports are calculated with standard values.\\nUncertainty:  none',\n",
       " 'database': 'ecoinvent 2.2',\n",
       " 'filename': 'E:\\\\datasets\\\\07236.XML',\n",
       " 'location': 'GLO',\n",
       " 'name': 'trimethyl borate, at plant',\n",
       " 'production amount': 1.0,\n",
       " 'type': 'process',\n",
       " 'unit': 'kilogram'}"
      ]
     },
     "execution_count": 92,
     "metadata": {},
     "output_type": "execute_result"
    }
   ],
   "source": [
    "random_act.as_dict()"
   ]
  },
  {
   "cell_type": "code",
   "execution_count": 103,
   "metadata": {
    "collapsed": false
   },
   "outputs": [
    {
     "name": "stdout",
     "output_type": "stream",
     "text": [
      "Excluding 1245 filtered results\n"
     ]
    },
    {
     "data": {
      "text/plain": [
       "['transport, lorry >32t, EURO4' (ton kilometer, RER, ['transport systems', 'road']),\n",
       " 'transport, lorry >32t, EURO3' (ton kilometer, RER, ['transport systems', 'road']),\n",
       " 'transport, lorry >32t, EURO5' (ton kilometer, RER, ['transport systems', 'road']),\n",
       " 'transport, lorry 3.5-7.5t, EURO4' (ton kilometer, RER, ['transport systems', 'road']),\n",
       " 'transport, lorry 16-32t, EURO3' (ton kilometer, RER, ['transport systems', 'road']),\n",
       " 'transport, lorry 7.5-16t, EURO5' (ton kilometer, RER, ['transport systems', 'road']),\n",
       " 'transport, lorry 7.5-16t, EURO3' (ton kilometer, RER, ['transport systems', 'road']),\n",
       " 'transport, lorry 7.5-16t, EURO4' (ton kilometer, RER, ['transport systems', 'road']),\n",
       " 'transport, lorry 3.5-7.5t, EURO3' (ton kilometer, RER, ['transport systems', 'road']),\n",
       " 'transport, lorry 16-32t, EURO4' (ton kilometer, RER, ['transport systems', 'road']),\n",
       " 'transport, lorry 3.5-7.5t, EURO5' (ton kilometer, RER, ['transport systems', 'road']),\n",
       " 'transport, lorry 16-32t, EURO5' (ton kilometer, RER, ['transport systems', 'road']),\n",
       " 'transport, lorry >16t, fleet average' (ton kilometer, RER, ['transport systems', 'road']),\n",
       " 'transport, lorry >28t, fleet average' (ton kilometer, CH, ['transport systems', 'road']),\n",
       " 'transport, lorry 3.5-16t, fleet average' (ton kilometer, RER, ['transport systems', 'road']),\n",
       " 'transport, lorry 3.5-20t, fleet average' (ton kilometer, CH, ['transport systems', 'road']),\n",
       " 'transport, lorry 20-28t, fleet average' (ton kilometer, CH, ['transport systems', 'road']),\n",
       " 'transport, lorry 28t, rape methyl ester 100%' (ton kilometer, CH, ['transport systems', 'road']),\n",
       " 'transport, municipal waste collection, lorry 21t' (ton kilometer, CH, ['waste management', 'others']),\n",
       " 'maintenance, lorry 16t' (unit, CH, ['transport systems', 'road']),\n",
       " 'maintenance, lorry 28t' (unit, CH, ['transport systems', 'road']),\n",
       " 'maintenance, lorry 40t' (unit, CH, ['transport systems', 'road']),\n",
       " 'operation, lorry 28t, rape methyl ester 100%' (kilometer, CH, ['transport systems', 'road']),\n",
       " 'lorry 16t' (unit, RER, ['transport systems', 'road']),\n",
       " 'lorry 28t' (unit, RER, ['transport systems', 'road'])]"
      ]
     },
     "execution_count": 103,
     "metadata": {},
     "output_type": "execute_result"
    }
   ],
   "source": [
    "# Using search\n",
    "eidb.search('transport', filter={'name':'lorry'})"
   ]
  },
  {
   "cell_type": "code",
   "execution_count": 105,
   "metadata": {
    "collapsed": false
   },
   "outputs": [
    {
     "data": {
      "text/plain": [
       "'GLO'"
      ]
     },
     "execution_count": 105,
     "metadata": {},
     "output_type": "execute_result"
    }
   ],
   "source": [
    "random_act['location']"
   ]
  },
  {
   "cell_type": "code",
   "execution_count": 107,
   "metadata": {
    "collapsed": false
   },
   "outputs": [
    {
     "data": {
      "text/plain": [
       "['transport, lorry >32t, EURO4' (ton kilometer, RER, ['transport systems', 'road']),\n",
       " 'transport, lorry >32t, EURO5' (ton kilometer, RER, ['transport systems', 'road']),\n",
       " 'transport, lorry >32t, EURO3' (ton kilometer, RER, ['transport systems', 'road'])]"
      ]
     },
     "execution_count": 107,
     "metadata": {},
     "output_type": "execute_result"
    }
   ],
   "source": [
    "# Using list comprehensions:\n",
    "[act for act in eidb if 'lorry' in act['name']\n",
    "                    and 'RER' in act['location']\n",
    "                    and '>32t' in act['name']\n",
    "                    and 'operation' not in act['name']\n",
    "]"
   ]
  },
  {
   "cell_type": "markdown",
   "metadata": {
    "solution2": "hidden",
    "solution2_first": true
   },
   "source": [
    "**Exercise:** Return an activity for electricity production, coal-fired power plants in Germany"
   ]
  },
  {
   "cell_type": "code",
   "execution_count": 119,
   "metadata": {
    "collapsed": false,
    "solution2": "hidden"
   },
   "outputs": [
    {
     "data": {
      "text/plain": [
       "'electricity, hard coal, at power plant' (kilowatt hour, DE, ['hard coal', 'power plants'])"
      ]
     },
     "execution_count": 119,
     "metadata": {},
     "output_type": "execute_result"
    }
   ],
   "source": [
    "[act for act in eidb if 'electricity' in act['name']\n",
    "                        and 'coal' in act['name']\n",
    "                        and act['location']=='DE'\n",
    "              ][0]"
   ]
  },
  {
   "cell_type": "markdown",
   "metadata": {},
   "source": [
    "#### LCI exchanges"
   ]
  },
  {
   "cell_type": "markdown",
   "metadata": {
    "editable": true
   },
   "source": [
    "**`Exchanges`** are the edges between nodes.\n",
    "\n",
    "These can be:  \n",
    "  - an edge between two activities within the technosphere (an element $a_{ij}$ of matrix $A$)  \n",
    "  - edges between an activity in the technosphere and an activity in the \"biosphere\" (an element $b_{kj}$ of the biosphere matrix $B$)."
   ]
  },
  {
   "cell_type": "markdown",
   "metadata": {},
   "source": [
    "One can iterate through **all** exchanges that have a given activity as `output`"
   ]
  },
  {
   "cell_type": "code",
   "execution_count": 58,
   "metadata": {
    "collapsed": false
   },
   "outputs": [
    {
     "name": "stdout",
     "output_type": "stream",
     "text": [
      "Exchange: 1.0 kilogram 'trimethyl borate, at plant' (kilogram, GLO, ['chemicals', 'organics']) to 'trimethyl borate, at plant' (kilogram, GLO, ['chemicals', 'organics'])>\n",
      "Exchange: 0.024 cubic meter 'Water, cooling, unspecified natural origin' (cubic meter, None, ('natural resource', 'in water')) to 'trimethyl borate, at plant' (kilogram, GLO, ['chemicals', 'organics'])>\n",
      "Exchange: 0.62753 kilogram 'boric acid, anhydrous, powder, at plant' (kilogram, RER, ['chemicals', 'inorganics']) to 'trimethyl borate, at plant' (kilogram, GLO, ['chemicals', 'organics'])>\n",
      "Exchange: 0.97166 kilogram 'methanol, at plant' (kilogram, GLO, ['chemicals', 'organics']) to 'trimethyl borate, at plant' (kilogram, GLO, ['chemicals', 'organics'])>\n",
      "Exchange: 8.84 megajoule 'heat, natural gas, at industrial furnace >100kW' (megajoule, RER, ['natural gas', 'heating systems']) to 'trimethyl borate, at plant' (kilogram, GLO, ['chemicals', 'organics'])>\n",
      "Exchange: 0.00725 kilowatt hour 'electricity, medium voltage, production UCTE, at grid' (kilowatt hour, UCTE, ['electricity', 'production mix']) to 'trimethyl borate, at plant' (kilogram, GLO, ['chemicals', 'organics'])>\n",
      "Exchange: 0.15992 ton kilometer 'transport, lorry >16t, fleet average' (ton kilometer, RER, ['transport systems', 'road']) to 'trimethyl borate, at plant' (kilogram, GLO, ['chemicals', 'organics'])>\n",
      "Exchange: 0.95951 ton kilometer 'transport, freight, rail' (ton kilometer, RER, ['transport systems', 'train']) to 'trimethyl borate, at plant' (kilogram, GLO, ['chemicals', 'organics'])>\n",
      "Exchange: 4e-10 unit 'chemical plant, organics' (unit, RER, ['chemicals', 'organics']) to 'trimethyl borate, at plant' (kilogram, GLO, ['chemicals', 'organics'])>\n",
      "Exchange: 0.0261 megajoule 'Heat, waste' (megajoule, None, ('air', 'urban air close to ground')) to 'trimethyl borate, at plant' (kilogram, GLO, ['chemicals', 'organics'])>\n",
      "Exchange: 0.00022267 kilogram 'Boron' (kilogram, None, ('air', 'urban air close to ground')) to 'trimethyl borate, at plant' (kilogram, GLO, ['chemicals', 'organics'])>\n",
      "Exchange: 0.0019433 kilogram 'Methanol' (kilogram, None, ('air', 'urban air close to ground')) to 'trimethyl borate, at plant' (kilogram, GLO, ['chemicals', 'organics'])>\n",
      "Exchange: 0.057717 kilogram 'Carbon dioxide, fossil' (kilogram, None, ('air', 'urban air close to ground')) to 'trimethyl borate, at plant' (kilogram, GLO, ['chemicals', 'organics'])>\n",
      "Exchange: 0.0053441 kilogram 'Boron' (kilogram, None, ('water', 'surface water')) to 'trimethyl borate, at plant' (kilogram, GLO, ['chemicals', 'organics'])>\n",
      "Exchange: 0.004664 kilogram 'Methanol' (kilogram, None, ('water', 'surface water')) to 'trimethyl borate, at plant' (kilogram, GLO, ['chemicals', 'organics'])>\n",
      "Exchange: 0.00671 kilogram 'BOD5, Biological Oxygen Demand' (kilogram, None, ('water', 'surface water')) to 'trimethyl borate, at plant' (kilogram, GLO, ['chemicals', 'organics'])>\n",
      "Exchange: 0.00671 kilogram 'COD, Chemical Oxygen Demand' (kilogram, None, ('water', 'surface water')) to 'trimethyl borate, at plant' (kilogram, GLO, ['chemicals', 'organics'])>\n",
      "Exchange: 0.00175 kilogram 'DOC, Dissolved Organic Carbon' (kilogram, None, ('water', 'surface water')) to 'trimethyl borate, at plant' (kilogram, GLO, ['chemicals', 'organics'])>\n",
      "Exchange: 0.00175 kilogram 'TOC, Total Organic Carbon' (kilogram, None, ('water', 'surface water')) to 'trimethyl borate, at plant' (kilogram, GLO, ['chemicals', 'organics'])>\n"
     ]
    }
   ],
   "source": [
    "for exc in random_act.exchanges():\n",
    "    print(exc)"
   ]
  },
  {
   "cell_type": "markdown",
   "metadata": {},
   "source": [
    "One can also iterate through subsets of the exchanges:  \n",
    "  - Technosphere exchanges: exchanges linking to other activities in the technosphere, `activity.technosphere()`  \n",
    "  - Biosphere exchanges: AKA elementary flows, linking to activities in the biosphere database `activity.biosphere()`  \n",
    "  - Production exchange: the reference flow of the activity `activity.production`  "
   ]
  },
  {
   "cell_type": "markdown",
   "metadata": {},
   "source": [
    "Let's assign a **technosphere exchange** to a variable to learn more about it:"
   ]
  },
  {
   "cell_type": "code",
   "execution_count": 77,
   "metadata": {
    "collapsed": false
   },
   "outputs": [
    {
     "data": {
      "text/plain": [
       "Exchange: 0.62753 kilogram 'boric acid, anhydrous, powder, at plant' (kilogram, RER, ['chemicals', 'inorganics']) to 'trimethyl borate, at plant' (kilogram, GLO, ['chemicals', 'organics'])>"
      ]
     },
     "execution_count": 77,
     "metadata": {},
     "output_type": "execute_result"
    }
   ],
   "source": [
    "random_techno_exchange = [exc for exc in random_act.technosphere()][0]\n",
    "random_techno_exchange"
   ]
  },
  {
   "cell_type": "code",
   "execution_count": 78,
   "metadata": {
    "collapsed": false
   },
   "outputs": [
    {
     "data": {
      "text/plain": [
       "bw2data.backends.peewee.proxies.Exchange"
      ]
     },
     "execution_count": 78,
     "metadata": {},
     "output_type": "execute_result"
    }
   ],
   "source": [
    "type(random_techno_exchange)"
   ]
  },
  {
   "cell_type": "markdown",
   "metadata": {},
   "source": [
    "Again, the type is a proxy (refer to the diagram above about the different translation layers)."
   ]
  },
  {
   "cell_type": "code",
   "execution_count": 79,
   "metadata": {
    "collapsed": false
   },
   "outputs": [
    {
     "data": {
      "text/plain": [
       "0.62753"
      ]
     },
     "execution_count": 79,
     "metadata": {},
     "output_type": "execute_result"
    }
   ],
   "source": [
    "# Amount, or weight of the edge\n",
    "random_techno_exchange.amount"
   ]
  },
  {
   "cell_type": "code",
   "execution_count": 80,
   "metadata": {
    "collapsed": false
   },
   "outputs": [
    {
     "data": {
      "text/plain": [
       "'boric acid, anhydrous, powder, at plant' (kilogram, RER, ['chemicals', 'inorganics'])"
      ]
     },
     "execution_count": 80,
     "metadata": {},
     "output_type": "execute_result"
    }
   ],
   "source": [
    "# Activity the exchange stems from\n",
    "random_techno_exchange.input"
   ]
  },
  {
   "cell_type": "code",
   "execution_count": 81,
   "metadata": {
    "collapsed": false
   },
   "outputs": [
    {
     "data": {
      "text/plain": [
       "'trimethyl borate, at plant' (kilogram, GLO, ['chemicals', 'organics'])"
      ]
     },
     "execution_count": 81,
     "metadata": {},
     "output_type": "execute_result"
    }
   ],
   "source": [
    "# Activity the exchange terminates in\n",
    "random_techno_exchange.output"
   ]
  },
  {
   "cell_type": "code",
   "execution_count": 82,
   "metadata": {
    "collapsed": false
   },
   "outputs": [
    {
     "data": {
      "text/plain": [
       "{'amount': 0.62753,\n",
       " 'categories': ('chemicals', 'inorganics'),\n",
       " 'comment': '(4,5,1,1,1,5); Stoechiometric calculation',\n",
       " 'input': ('ecoinvent 2.2', '453d53c912182233bebb8973c816321a'),\n",
       " 'loc': -0.46596380035406038,\n",
       " 'location': 'RER',\n",
       " 'name': 'boric acid, anhydrous, powder, at plant',\n",
       " 'negative': False,\n",
       " 'output': ('ecoinvent 2.2', '873af1f1d0c9d644bcbb2849866f82ed'),\n",
       " 'scale': 0.15977202280026254,\n",
       " 'type': 'technosphere',\n",
       " 'uncertainty type': 2,\n",
       " 'unit': 'kilogram'}"
      ]
     },
     "execution_count": 82,
     "metadata": {},
     "output_type": "execute_result"
    }
   ],
   "source": [
    "# Exchange as a dictionary\n",
    "random_techno_exchange.as_dict()"
   ]
  },
  {
   "cell_type": "markdown",
   "metadata": {},
   "source": [
    "Let's now look at a production exchange"
   ]
  },
  {
   "cell_type": "markdown",
   "metadata": {
    "solution2": "hidden",
    "solution2_first": true
   },
   "source": [
    "**Exercise:** Assign a biosphere flow to a variable, and check the following:  \n",
    "  - Is the output the same as for the technosphere exchange?  \n",
    "  - From what database does the biosphere exchange come from?  \n",
    "  - What is the amount of the exchange (i.e. the weight of the edge connecting the two activities)?"
   ]
  },
  {
   "cell_type": "code",
   "execution_count": 72,
   "metadata": {
    "collapsed": false,
    "solution2": "hidden"
   },
   "outputs": [
    {
     "data": {
      "text/plain": [
       "Exchange: 0.024 cubic meter 'Water, cooling, unspecified natural origin' (cubic meter, None, ('natural resource', 'in water')) to 'trimethyl borate, at plant' (kilogram, GLO, ['chemicals', 'organics'])>"
      ]
     },
     "execution_count": 72,
     "metadata": {},
     "output_type": "execute_result"
    }
   ],
   "source": [
    "# Assign the exchange to a variable:\n",
    "random_bio_exchange = [exc for exc in random_act.biosphere()][0]\n",
    "random_bio_exchange"
   ]
  },
  {
   "cell_type": "code",
   "execution_count": 74,
   "metadata": {
    "collapsed": false,
    "solution2": "hidden"
   },
   "outputs": [
    {
     "data": {
      "text/plain": [
       "'trimethyl borate, at plant' (kilogram, GLO, ['chemicals', 'organics'])"
      ]
     },
     "execution_count": 74,
     "metadata": {},
     "output_type": "execute_result"
    }
   ],
   "source": [
    "# Output of biosphere exchange\n",
    "random_bio_exchange.output"
   ]
  },
  {
   "cell_type": "code",
   "execution_count": 83,
   "metadata": {
    "collapsed": false,
    "solution2": "hidden"
   },
   "outputs": [
    {
     "data": {
      "text/plain": [
       "True"
      ]
     },
     "execution_count": 83,
     "metadata": {},
     "output_type": "execute_result"
    }
   ],
   "source": [
    "# Is it the same as the output of the technosphere exchange? It should be!\n",
    "random_bio_exchange.output == random_techno_exchange.output"
   ]
  },
  {
   "cell_type": "code",
   "execution_count": 89,
   "metadata": {
    "collapsed": false,
    "solution2": "hidden"
   },
   "outputs": [
    {
     "data": {
      "text/plain": [
       "'biosphere3'"
      ]
     },
     "execution_count": 89,
     "metadata": {},
     "output_type": "execute_result"
    }
   ],
   "source": [
    "# Database of the random biosphere exchange input \n",
    "# Remember, the key of an activity is a tuple consisting of the database name and its code\n",
    "bw.get_activity(random_bio_exchange.input).key[0]"
   ]
  },
  {
   "cell_type": "code",
   "execution_count": 84,
   "metadata": {
    "collapsed": false,
    "solution2": "hidden"
   },
   "outputs": [
    {
     "data": {
      "text/plain": [
       "0.024"
      ]
     },
     "execution_count": 84,
     "metadata": {},
     "output_type": "execute_result"
    }
   ],
   "source": [
    "# Amount of exchange\n",
    "random_bio_exchange.amount"
   ]
  },
  {
   "cell_type": "markdown",
   "metadata": {
    "editable": true
   },
   "source": [
    "#### Loaded LCI databases"
   ]
  },
  {
   "cell_type": "markdown",
   "metadata": {
    "deletable": true,
    "editable": true
   },
   "source": [
    "It is possible to load the entire database into a dictionary.  \n",
    "This greatly speeds up work if you need to iterate over all activities or exchanges. The resulting object is quite big, so you should do this only if the gain in efficiency is worth it."
   ]
  },
  {
   "cell_type": "code",
   "execution_count": null,
   "metadata": {
    "collapsed": false,
    "deletable": true,
    "editable": true
   },
   "outputs": [],
   "source": [
    "# Let's not do this in the seminar, ok?\n",
    "eidb_loaded = eidb.load()"
   ]
  },
  {
   "cell_type": "code",
   "execution_count": null,
   "metadata": {
    "collapsed": false
   },
   "outputs": [],
   "source": [
    "eidb_loaded"
   ]
  },
  {
   "cell_type": "markdown",
   "metadata": {
    "deletable": true,
    "editable": true
   },
   "source": [
    "## 2) My first LCA"
   ]
  },
  {
   "cell_type": "markdown",
   "metadata": {
    "deletable": true,
    "editable": true
   },
   "source": [
    "Brightway has a so-called LCA object.  \n",
    "It is instantiated using `LCA(args)`.  \n",
    "The only required argument is a functional unit, described by a dictionary with keys = activities and values = amounts (more [here](https://docs.brightwaylca.org/lca.html#specifying-a-functional-unit)).  \n",
    "A second argument that is often passed is an LCIA method, passed using the method tuple.  "
   ]
  },
  {
   "cell_type": "markdown",
   "metadata": {},
   "source": [
    "### 2.1) General syntax of LCA calculations"
   ]
  },
  {
   "cell_type": "markdown",
   "metadata": {},
   "source": [
    "Let's create our first LCA object using our random activity and our IPCC method.  "
   ]
  },
  {
   "cell_type": "code",
   "execution_count": 120,
   "metadata": {
    "collapsed": true
   },
   "outputs": [],
   "source": [
    "myFirstLCA_quick = bw.LCA({random_act:1}, ('IPCC 2013', 'climate change', 'GWP 100a'))"
   ]
  },
  {
   "cell_type": "markdown",
   "metadata": {},
   "source": [
    "The steps to get to the impact score are as follows:"
   ]
  },
  {
   "cell_type": "code",
   "execution_count": 121,
   "metadata": {
    "collapsed": false
   },
   "outputs": [
    {
     "data": {
      "text/plain": [
       "2.0080249967134645"
      ]
     },
     "execution_count": 121,
     "metadata": {},
     "output_type": "execute_result"
    }
   ],
   "source": [
    "myFirstLCA_quick.lci()    # Builds matrices, solves the system, generates an LCI matrix.\n",
    "myFirstLCA_quick.lcia()   # Characterization, i.e. the multiplication of the elements \n",
    "                          # of the LCI matrix with characterization factors from the chosen method\n",
    "myFirstLCA_quick.score    # Returns the score, i.e. the sum of the characterized inventory"
   ]
  },
  {
   "cell_type": "markdown",
   "metadata": {},
   "source": [
    "Let's not take a closer look at the LCA object and its methods/attributes. We'll do this by creating a new LCA object: "
   ]
  },
  {
   "cell_type": "code",
   "execution_count": 165,
   "metadata": {
    "collapsed": true
   },
   "outputs": [],
   "source": [
    "myFirstLCA = bw.LCA({random_act:1}, ('IPCC 2013', 'climate change', 'GWP 100a'))"
   ]
  },
  {
   "cell_type": "markdown",
   "metadata": {
    "deletable": true,
    "editable": true
   },
   "source": [
    "### 2.2) the `demand` attribute"
   ]
  },
  {
   "cell_type": "code",
   "execution_count": 123,
   "metadata": {
    "collapsed": false,
    "deletable": true,
    "editable": true
   },
   "outputs": [
    {
     "data": {
      "text/plain": [
       "{'trimethyl borate, at plant' (kilogram, GLO, ['chemicals', 'organics']): 1}"
      ]
     },
     "execution_count": 123,
     "metadata": {},
     "output_type": "execute_result"
    }
   ],
   "source": [
    "myFirstLCA.demand"
   ]
  },
  {
   "cell_type": "markdown",
   "metadata": {
    "deletable": true,
    "editable": true
   },
   "source": [
    "To access the actual activity from the demand, you would do this:"
   ]
  },
  {
   "cell_type": "code",
   "execution_count": 129,
   "metadata": {
    "collapsed": false,
    "deletable": true,
    "editable": true
   },
   "outputs": [
    {
     "data": {
      "text/plain": [
       "'trimethyl borate, at plant' (kilogram, GLO, ['chemicals', 'organics'])"
      ]
     },
     "execution_count": 129,
     "metadata": {},
     "output_type": "execute_result"
    }
   ],
   "source": [
    "list(myFirstLCA.demand.keys())[0]"
   ]
  },
  {
   "cell_type": "code",
   "execution_count": 130,
   "metadata": {
    "collapsed": false,
    "deletable": true,
    "editable": true
   },
   "outputs": [
    {
     "data": {
      "text/plain": [
       "True"
      ]
     },
     "execution_count": 130,
     "metadata": {},
     "output_type": "execute_result"
    }
   ],
   "source": [
    "demanded_act == random_act"
   ]
  },
  {
   "cell_type": "markdown",
   "metadata": {
    "deletable": true,
    "editable": true
   },
   "source": [
    "There are also other attributes that have simply not been built yet, such as the `demand_array` and the `score`. To generate them, we first need to actually build the matrices. This will be done when calling the `.lci()` method."
   ]
  },
  {
   "cell_type": "markdown",
   "metadata": {},
   "source": [
    "### 2.3) Reminder of the system that needs to be solved in calculating an LCI"
   ]
  },
  {
   "cell_type": "markdown",
   "metadata": {},
   "source": [
    "Before actually running the `.lci()` method, here's a quick refresher of the actual calculation that Brightway will need to do to calculate the inventory:  \n",
    "\n",
    "$g=BA^{-1}f$  \n",
    "\n",
    "where:  \n",
    "\n",
    "  - $A$ = the technosphere matrix  \n",
    "  - $B$ = the biosphere matrix (matrix with elementary flows)  \n",
    "  - $f$ = the final demand vector  \n",
    "  - $g$ = the inventory  "
   ]
  },
  {
   "cell_type": "markdown",
   "metadata": {
    "solution": "hidden",
    "solution2": "hidden",
    "solution2_first": true,
    "solution_first": true
   },
   "source": [
    "**Exercise:** Knowing what you do about the structure of Brightway (notably, activities and exchanges), what needs to happen to generate these matrices?"
   ]
  },
  {
   "cell_type": "markdown",
   "metadata": {
    "solution": "hidden",
    "solution2": "hidden"
   },
   "source": [
    "To consider:  \n",
    "  - how should the order of the rows and columns be determined?  \n",
    "  - how should we keep track of what is in each row and column?  \n",
    "  - The parameters in the matrices are sometimes actually probability distribution functions - how should we consider this uncertainty information?  \n",
    "  - The matrices are *sparse*, i.e. they are mostly made up of zeros. Should we consider this? Why? How?"
   ]
  },
  {
   "cell_type": "markdown",
   "metadata": {},
   "source": [
    "### 2.4) Building the matrices"
   ]
  },
  {
   "cell_type": "markdown",
   "metadata": {},
   "source": [
    "#### Structured arrays"
   ]
  },
  {
   "cell_type": "markdown",
   "metadata": {},
   "source": [
    "LCI data imported in Brightway is stored in the `databases.db` database, discussed above.  \n",
    "It is also stored in *structured text files* in the `intermediate` folder. These text files are not efficient to construct the matrices.  \n",
    "It is also stored in [numpy *structured arrays*](https://docs.scipy.org/doc/numpy/user/basics.rec.html). Here is a look at the  structured array for my ecoinvent 2.2 import (put in a pandas DataFrame because it looks nicer):  \n",
    "<img src=\"images\\structured_array_ecoinvent22.JPG\">"
   ]
  },
  {
   "cell_type": "markdown",
   "metadata": {
    "solution2": "hidden",
    "solution2_first": true
   },
   "source": [
    "**Exercise**(not core): Load the structured array to the ecoinvent database you are working with now."
   ]
  },
  {
   "cell_type": "code",
   "execution_count": null,
   "metadata": {
    "collapsed": true,
    "solution2": "hidden"
   },
   "outputs": [],
   "source": [
    "project_dir = bw.projects.dir\n",
    "#your_array_file_name = some_string\n",
    "your_structured_array = np.load(os.path.join(project_dir, 'processed', your_array_file_name))\n",
    "pd.DataFrame(your_structured_array).head()"
   ]
  },
  {
   "cell_type": "markdown",
   "metadata": {},
   "source": [
    "In this array:  \n",
    "  - `input` and `output` columns are integers that map to an activity. This mapping is found in the `mapping.pickle` file in the `project` directory and it looks something like this:"
   ]
  },
  {
   "cell_type": "code",
   "execution_count": 156,
   "metadata": {
    "collapsed": false
   },
   "outputs": [
    {
     "data": {
      "text/plain": [
       "{('ecoinvent 2.2', '96b383a4f490545bebb50aa5b7f138b1'): 21325,\n",
       " ('ecoinvent 2.2', '684feee04a93a13ad256a44c65f17beb'): 17996,\n",
       " ('ecoinvent 3.3 cutoff', '140a48ea4758be1f5ce655e51222a5c2'): 13324,\n",
       " ('ecoinvent 3.3 cutoff', 'a240bfd657041820e6d96343da0d5f3f'): 4810,\n",
       " ('ecoinvent 2.2', 'cdb298cdc72ae9257d9069d168debad0'): 18205,\n",
       " ('ecoinvent 3.3 cutoff', '92aae17a3f7bc9fd6da4faa4df4c1e43'): 5104,\n",
       " ('ecoinvent 2.2', '9dc526a5fbffd209974f22281aae88fe'): 18027,\n",
       " ('biosphere3', '495ff166-ce60-44d8-88d2-60d5c891e643'): 3933,\n",
       " ('ecoinvent 3.3 cutoff', 'adfb873bff82730799bdfd6834772db6'): 5191,\n",
       " ('biosphere3', '6b7a3386-4aa7-4e58-9450-41130dbfa099'): 484,\n",
       " ('ecoinvent 3.3 cutoff', 'ffaa0ad308404e173d39b4e182f5fddc'): 10768,\n",
       " ('ecoinvent 3.3 cutoff', '8bd587f165ad3cf71a0129a40b7f6c1b'): 11592,\n",
       " ('ecoinvent 3.3 cutoff', '4889f950bea437df6c5d249a2df26870'): 14375,\n",
       " ('ecoinvent 3.3 cutoff', 'e3505dfdd6a3f6fbbf4d15b458345914'): 15729,\n",
       " ('ecoinvent 3.3 cutoff', '589f5bbafa670c0b181f9460163dce8a'): 11335,\n",
       " ('ecoinvent 3.3 cutoff', 'd51ac0f83031e63192027001a712f2ff'): 4386,\n",
       " ('ecoinvent 3.3 cutoff', '799accc691f1858cd611ae88c4665e74'): 6384,\n",
       " ('ecoinvent 3.3 cutoff', 'de795c5023653bf5535c007aa0b9ca13'): 4260,\n",
       " ('ecoinvent 3.3 cutoff', '0b91ec54bda25c415ff511a413590ce2'): 8788,\n",
       " ('ecoinvent 3.3 cutoff', 'f978fa1d2f87541a3719914f56b863dd'): 14542,\n",
       " ('ecoinvent 2.2', 'decdbac26d1cf16e691be75d6db197e0'): 21241,\n",
       " ('ecoinvent 3.3 cutoff', '81a8808e1ea2a18b26fce0d3d72423f6'): 14189,\n",
       " ('ecoinvent 3.3 cutoff', '58a057456251c47796ddd732b73e9d9e'): 13226,\n",
       " ('ecoinvent 3.3 cutoff', 'ff477710b9888831786e6b031d0d9327'): 16588,\n",
       " ('ecoinvent 3.3 cutoff', '9eb1181d09fd112e56f454d7014c81bb'): 9830,\n",
       " ('biosphere3', 'd3260d0e-8203-4cbb-a45a-6a13131a5108'): 2910,\n",
       " ('ecoinvent 3.3 cutoff', '2c928df3325e0927822ddaa72607b9e7'): 15959,\n",
       " ('ecoinvent 2.2', '7f5e1f6c66835d36a518392467ad3bba'): 21269,\n",
       " ('ecoinvent 2.2', '35cff4b3d144c0fbbc154e447889bebb'): 17933,\n",
       " ('ecoinvent 3.3 cutoff', '3433f94a9846480b7e8e27107558aa28'): 16539,\n",
       " ('ecoinvent 3.3 cutoff', '2ee7ba4251a859fb6bf6735b47277ace'): 17015,\n",
       " ('ecoinvent 3.3 cutoff', 'ef0918a20ea0285e504e56f89c136ef2'): 12534,\n",
       " ('biosphere3', '0f8120d4-3365-4301-871c-b5d9716b008e'): 109,\n",
       " ('ecoinvent 2.2', '5116c358d1dcb96d9cf91983e942b0f2'): 19974,\n",
       " ('ecoinvent 3.3 cutoff', 'd4d678cbab360ebc7ce6cf4c57ea7d27'): 8048,\n",
       " ('ecoinvent 2.2', '5f7f54358b154b83b73e7d6a0ff19862'): 20825,\n",
       " ('ecoinvent 3.3 cutoff', '3bf4a8bc7080c7bebef62014b0b5004f'): 16694,\n",
       " ('ecoinvent 3.3 cutoff', 'fed4d8e4daf0bce61f28ce58ba7060fc'): 9015,\n",
       " ('ecoinvent 2.2', '5147d2adb38804271fc69bf9a7477723'): 20333,\n",
       " ('ecoinvent 2.2', '489ef3bdb7c07e91aaa53ac2ab229d2f'): 21564,\n",
       " ('ecoinvent 3.3 cutoff', 'ded57b8e4cf653bf9de3c35b2b8e57c7'): 5060,\n",
       " ('ecoinvent 3.3 cutoff', '284798bef1bbe0c17e96599feebf954f'): 14244,\n",
       " ('ecoinvent 3.3 cutoff', 'a18dc67c18f6f44036796a4c5a92aa7c'): 5358,\n",
       " ('ecoinvent 3.3 cutoff', 'c017b2374f589a3e8fb9d8ca8fc6e7d9'): 11188,\n",
       " ('biosphere3', '68be4a67-89e0-4cfe-a089-fa8706de230e'): 2565,\n",
       " ('biosphere3', 'e00fd1b8-6eb9-43c2-b6b1-2f6a7d37f981'): 3697,\n",
       " ('biosphere3', '38439e6a-ce6d-40cc-b78d-97c09d87e7d7'): 3290,\n",
       " ('ecoinvent 2.2', '43b16215d6842826e9e82bb129a81693'): 19082,\n",
       " ('biosphere3', 'f4d0a2c8-efef-4188-85da-5801097389a2'): 765,\n",
       " ('ecoinvent 2.2', 'a5ab9a6ea3b255567e9a7f352fbeb45d'): 21769,\n",
       " ('biosphere3', '928f64ab-0d84-4923-802f-1fa42ea251f2'): 3264,\n",
       " ('ecoinvent 3.3 cutoff', '5f222157827b1c55e2b869945697d487'): 5877,\n",
       " ('biosphere3', 'aa416529-bb87-40a1-bbbc-3772a7ff7848'): 1726,\n",
       " ('biosphere3', '1471acca-34ab-4e04-9bd6-e3825b20580f'): 2351,\n",
       " ('ecoinvent 3.3 cutoff', '58bad6b858c1709a54fc46b1804f6722'): 7045,\n",
       " ('ecoinvent 3.3 cutoff', '475dcb7e47940ee347ee7ae7dfca9024'): 14277,\n",
       " ('ecoinvent 3.3 cutoff', 'dd8af23d5530b791132815b9ea125d45'): 13591,\n",
       " ('ecoinvent 3.3 cutoff', '655d69b82ff55e7321df1686e5045dd5'): 15353,\n",
       " ('ecoinvent 3.3 cutoff', '10ad1991a3e21ad9d012f55abdec6a45'): 16544,\n",
       " ('ecoinvent 3.3 cutoff', 'cb2293a8b4609411912fe42517b48ab8'): 15522,\n",
       " ('ecoinvent 2.2', '7f5124d44d95990a38e28144d6614abe'): 19888,\n",
       " ('ecoinvent 3.3 cutoff', 'b42cb0654018218cb7755056eb5baa2b'): 10784,\n",
       " ('ecoinvent 3.3 cutoff', 'aac656914b8f9bb4dd1f028c1f351627'): 5021,\n",
       " ('ecoinvent 3.3 cutoff', '2461aac1ee876b1a72ec16c47b6263b5'): 4549,\n",
       " ('ecoinvent 2.2', '37655decb0256e840a2522854f915e7d'): 19447,\n",
       " ('ecoinvent 3.3 cutoff', '55c514deefc3c2acb51fbbc1412847b6'): 6658,\n",
       " ('ecoinvent 3.3 cutoff', 'cd9c7175f9aa656b0d830b0a8ecd1ddb'): 7063,\n",
       " ('ecoinvent 3.3 cutoff', 'd2d74c60fce44956058e56047b55e086'): 10668,\n",
       " ('biosphere3', '6d8bddf2-fb89-466b-bbb5-0a3b4ee5df81'): 3367,\n",
       " ('biosphere3', 'f563b90e-a300-4403-b278-d2fdcd73e5a7'): 2394,\n",
       " ('ecoinvent 3.3 cutoff', '9ede8dce1739240a5896d8f5020ee2d0'): 12581,\n",
       " ('ecoinvent 3.3 cutoff', '42e012deb783a6836bda93d889b25e93'): 7587,\n",
       " ('ecoinvent 3.3 cutoff', '7c7a4fe6ccb1cd01a72b6a30c449b75e'): 14778,\n",
       " ('ecoinvent 3.3 cutoff', '0d6e3c15980503e6b96bd58cca8a98ad'): 12824,\n",
       " ('ecoinvent 3.3 cutoff', 'bcf69b331807a66d35315d36c25a66c8'): 9673,\n",
       " ('ecoinvent 3.3 cutoff', 'd75f474d2836388399f65a8a6cfbfe09'): 12055,\n",
       " ('ecoinvent 2.2', '2f315cd89a6df76fa2642597429d4e20'): 19905,\n",
       " ('ecoinvent 3.3 cutoff', '14f1bd355804de2f17a4c4a0aef801cb'): 10392,\n",
       " ('biosphere3', 'b4604f84-4a09-412e-86ed-078533d9da5d'): 266,\n",
       " ('biosphere3', '0015ec22-72cb-4af1-8c7b-0ba0d041553c'): 991,\n",
       " ('ecoinvent 2.2', 'c48c57042671633b56b5961a01e1a6fa'): 20860,\n",
       " ('ecoinvent 2.2', '3822bd04b32439aa3d9f7593a0236702'): 21230,\n",
       " ('ecoinvent 2.2', 'c3e248898d8329f06e7d1254a3c29495'): 20301,\n",
       " ('ecoinvent 3.3 cutoff', 'c7656b0ad14f0a27485ad55fec98cf1b'): 16317,\n",
       " ('ecoinvent 3.3 cutoff', '17c06b04d62f0dcf638f695e4ee8c67e'): 16373,\n",
       " ('ecoinvent 3.3 cutoff', '5b13d4c6c0c3525a5408bd114137bf95'): 6946,\n",
       " ('ecoinvent 3.3 cutoff', '4ec7f0e056276b6339c91ca50b4e7449'): 7443,\n",
       " ('ecoinvent 3.3 cutoff', '900175648db1a395e4975b9d6b6d836a'): 11394,\n",
       " ('ecoinvent 3.3 cutoff', '0a220c259cffd2d11d6042b2aa22f53c'): 9490,\n",
       " ('ecoinvent 3.3 cutoff', '25e04be4329da83dc0c8ca0ae3d96333'): 17431,\n",
       " ('biosphere3', '2c9e7fba-dd57-4294-8a5e-2aa489930f69'): 847,\n",
       " ('ecoinvent 2.2', 'e0069db265342334be096a8c4c79b162'): 19957,\n",
       " ('ecoinvent 2.2', '9d02a91cb48c063f601744251d619a20'): 21693,\n",
       " ('ecoinvent 3.3 cutoff', 'bac24bab3eca581bf55926ee4dd657fd'): 15066,\n",
       " ('ecoinvent 3.3 cutoff', 'fa52dbe9d4458dd87250b0bc78bb6f97'): 10006,\n",
       " ('ecoinvent 2.2', 'e4893371f5469963009fe8d651b3ff89'): 20176,\n",
       " ('ecoinvent 3.3 cutoff', '4b27f8dfe462d1eb0ece9b6047f3559e'): 10188,\n",
       " ('ecoinvent 3.3 cutoff', '8a51c9b055602c82604fac8842994edf'): 9333,\n",
       " ('ecoinvent 2.2', 'c379086c689c3c0dd19555ed7d099cec'): 19789,\n",
       " ('ecoinvent 3.3 cutoff', '798980d8adf75df26e0a706a78ce36d2'): 8597,\n",
       " ('biosphere3', 'cb3265f8-49a0-4b09-9bd9-c374370c4cc4'): 1176,\n",
       " ('biosphere3', '8e0afcd9-9955-41d4-8ad0-397a38f82dca'): 393,\n",
       " ('ecoinvent 2.2', '0a9f2faf5d4bf293aa45b63a5d5e3972'): 20501,\n",
       " ('ecoinvent 2.2', '5e60d0febe195d5991de454e9ab551ab'): 19806,\n",
       " ('ecoinvent 2.2', '6233fbdd312a3af1b2a4b28de9ebe524'): 19204,\n",
       " ('ecoinvent 3.3 cutoff', '4bfca012460d36ed95dc17a7c9637a6b'): 5019,\n",
       " ('ecoinvent 3.3 cutoff', '0f8564223527b0eebe6d6ad0950ee648'): 7438,\n",
       " ('ecoinvent 3.3 cutoff', '8f94dc5389c288001eb1d980005fecde'): 13093,\n",
       " ('biosphere3', 'f9f1397d-ddd2-4568-9f32-6cac992f0c1e'): 1239,\n",
       " ('ecoinvent 3.3 cutoff', '72c9a6ac7bd483fedb52ed63640bc43b'): 7662,\n",
       " ('ecoinvent 2.2', '29f9f5007c0bc5d7393f6b1b1037b907'): 18308,\n",
       " ('biosphere3', '4764f5f1-69bc-4ebb-b7c6-6b54c251056e'): 772,\n",
       " ('ecoinvent 2.2', 'ec8dc91979da7002e06f9d07136f9468'): 21598,\n",
       " ('ecoinvent 2.2', '13981a52e6711bceef1644447fcde1c6'): 17983,\n",
       " ('biosphere3', '14ea575b-5caa-4958-acf7-0bcc47f9cadf'): 410,\n",
       " ('ecoinvent 3.3 cutoff', '32c29dfe518e90965473e141839c3abd'): 7815,\n",
       " ('ecoinvent 3.3 cutoff', 'e89362255ae2ff0f18222535191f41dd'): 4137,\n",
       " ('ecoinvent 3.3 cutoff', 'd2f6ab4bf678fd1e4b638b3defd8f7d5'): 5640,\n",
       " ('ecoinvent 3.3 cutoff', 'cdacc7e01bfa6dcf881a5fa42a6f927d'): 7406,\n",
       " ('ecoinvent 3.3 cutoff', 'cfebad52d6cffa6d3f5c3a68eb5d20f3'): 5160,\n",
       " ('biosphere3', 'ccb169c3-8aae-4727-89bb-a7dd122946f3'): 134,\n",
       " ('biosphere3', 'f87e0478-9ba4-4d6b-a1ca-5667d07f3465'): 983,\n",
       " ('biosphere3', '00acb9f0-1640-4f8c-89ef-d857e1428be0'): 2585,\n",
       " ('ecoinvent 3.3 cutoff', '2af41eafd3be987c9022ae7a8d7b0d51'): 16278,\n",
       " ('biosphere3', '82f2476e-988b-4d7a-bde6-5da9337d1f65'): 1731,\n",
       " ('ecoinvent 3.3 cutoff', '243407b79d10b7464a355657eaa07bbd'): 15628,\n",
       " ('ecoinvent 3.3 cutoff', '4ab30f3b546199d3c29a65bee05ec2d4'): 8663,\n",
       " ('biosphere3', 'fc2371dc-5bff-41f6-a155-697fbf727b56'): 2501,\n",
       " ('ecoinvent 3.3 cutoff', 'ce1f299c53d368d2ed165d341def00b1'): 9385,\n",
       " ('ecoinvent 3.3 cutoff', '3949561eb08f1eb6b60100cd2b9f21b3'): 12420,\n",
       " ('ecoinvent 3.3 cutoff', 'a5b06b65d06488fef178c576839b8195'): 12112,\n",
       " ('ecoinvent 2.2', 'fd58ee35bc0a1aa39ff61217792cdf3f'): 20638,\n",
       " ('ecoinvent 3.3 cutoff', '912b275bb080fea4ff30a2978883f893'): 9994,\n",
       " ('ecoinvent 2.2', '335ae643b51892d237bfba6cedb9b6fe'): 20506,\n",
       " ('biosphere3', '4cb5fe3d-123b-4ae3-8ead-e3825fddf58e'): 3005,\n",
       " ('ecoinvent 3.3 cutoff', '44c9c9f945b9813d40d59faa48eb9621'): 14121,\n",
       " ('ecoinvent 3.3 cutoff', '00b22b847b04e752c87fd8eefeb57ca8'): 5896,\n",
       " ('ecoinvent 2.2', 'cada6d284bcd7c8fb00f3fbe41a82f7f'): 21260,\n",
       " ('ecoinvent 2.2', '9fa7ac035bbc14d5984f05620f59b403'): 17882,\n",
       " ('biosphere3', 'c4028889-1082-4e18-a563-df3fa555828a'): 2956,\n",
       " ('ecoinvent 2.2', 'e3270620e02a8760edde15b36333f458'): 19715,\n",
       " ('ecoinvent 3.3 cutoff', 'ef973d224deb6f029699cbd49f91f270'): 17710,\n",
       " ('ecoinvent 3.3 cutoff', 'c7615d1d33c27639b480bff8563e345f'): 7021,\n",
       " ('biosphere3', 'a0544534-e298-46a9-bbd2-949902ac1487'): 2158,\n",
       " ('ecoinvent 3.3 cutoff', '2cec88956ff896e8cf8b4509f028c10a'): 16204,\n",
       " ('biosphere3', 'd3f5d0b9-0155-4800-9dbb-b0583948c8c6'): 2843,\n",
       " ('ecoinvent 3.3 cutoff', '66c63191fda245d6b6b9922af44e1a38'): 4296,\n",
       " ('ecoinvent 2.2', '0174d1df4413285eb3f4b3375a8d376c'): 21091,\n",
       " ('ecoinvent 3.3 cutoff', '1f2a2e16960eeeda044fef0b47509999'): 12394,\n",
       " ('biosphere3', '43a00521-4880-4891-8a5d-f8e0a64f5bce'): 660,\n",
       " ('biosphere3', '15f9ebbb-b1b5-4bf7-88c6-d99424f5eced'): 199,\n",
       " ('ecoinvent 2.2', '534221d7c956443e189e1b21693b6a74'): 18174,\n",
       " ('ecoinvent 3.3 cutoff', '34e3032040d276bca449cca4a3539974'): 10233,\n",
       " ('ecoinvent 3.3 cutoff', '44ca599dc1925de1f41d68576add4117'): 16227,\n",
       " ('ecoinvent 3.3 cutoff', 'fd8ca707604b7a1a97d8039ffea6413e'): 14559,\n",
       " ('ecoinvent 3.3 cutoff', '1efe6f6b6ef1de13b8fb2d63d2005dc3'): 17762,\n",
       " ('ecoinvent 2.2', 'd3f51b32c907ba0e005886df0b590a25'): 20291,\n",
       " ('ecoinvent 3.3 cutoff', '5448b006aa4884b11e6b0d5f08d69906'): 6173,\n",
       " ('ecoinvent 3.3 cutoff', '942d0596ae3ccc197d3cfe44726636b1'): 8946,\n",
       " ('ecoinvent 3.3 cutoff', '3a20e1d2db9011d41c0c7230e0cd40c7'): 17552,\n",
       " ('biosphere3', 'e70d3563-78c4-42cf-8cf3-5ac42c499589'): 729,\n",
       " ('ecoinvent 3.3 cutoff', '9e66fe56569b309463392bcb032a1df4'): 4903,\n",
       " ('ecoinvent 3.3 cutoff', 'a9924f58c2f06d0991df33e50409a815'): 8708,\n",
       " ('biosphere3', '904cd2c2-71ba-4fe5-b073-24a42301c94c'): 3317,\n",
       " ('ecoinvent 2.2', 'e8f25b90b3119e991f3aa3959fd29ee1'): 20058,\n",
       " ('ecoinvent 2.2', '21f4629d57d18c724de84c15e05dc3e4'): 18450,\n",
       " ('ecoinvent 3.3 cutoff', 'ae2538178e771a970ee11ce0aee7cd6d'): 8054,\n",
       " ('ecoinvent 2.2', 'bfa11b3b1acd14aa93178d64bbbf80f5'): 19508,\n",
       " ('ecoinvent 3.3 cutoff', '8c48902938af5ab80e7ccc065db3fc0f'): 6409,\n",
       " ('ecoinvent 3.3 cutoff', 'b1f5932309cb31ced01b95e7b4bba071'): 17007,\n",
       " ('ecoinvent 3.3 cutoff', '525cc75a2d7e24626ea74138eebd49e1'): 11132,\n",
       " ('ecoinvent 3.3 cutoff', 'c6115aad9ed99bf85f8d645ebf27f984'): 11723,\n",
       " ('ecoinvent 3.3 cutoff', '565ca9f538734dfcf082b435c91e7928'): 5506,\n",
       " ('ecoinvent 3.3 cutoff', 'febb25b550e7cb50626132539f7bb3d4'): 16496,\n",
       " ('ecoinvent 3.3 cutoff', '1e908a565855d66f3f0b8c8dc6547eca'): 14541,\n",
       " ('ecoinvent 3.3 cutoff', '55f8aa8aeb84d52c94d973d7b54c5cfe'): 15229,\n",
       " ('biosphere3', '73f834fe-b8e1-4600-933b-364668952321'): 3366,\n",
       " ('biosphere3', 'cc6a1abb-b123-4ca6-8f16-38209df609be'): 2205,\n",
       " ('ecoinvent 2.2', 'e4f6b25de65d456a8f2115b7df96b3d4'): 19637,\n",
       " ('ecoinvent 3.3 cutoff', '0cde054c1afab653ff706f051dc1e562'): 12098,\n",
       " ('ecoinvent 3.3 cutoff', '2d8d074004caf741df54df1e077fb476'): 11163,\n",
       " ('ecoinvent 3.3 cutoff', 'f4d888a1e6c1b3d0756f0a1622730a2f'): 6064,\n",
       " ('ecoinvent 2.2', 'd6fb4d3b9f83c38696d8d7b5dd1050aa'): 18369,\n",
       " ('ecoinvent 3.3 cutoff', '5685aac92aa8ab6608e33b718a157815'): 6525,\n",
       " ('ecoinvent 3.3 cutoff', '8331055e63ed8b8beb91de4754c219ed'): 5929,\n",
       " ('ecoinvent 3.3 cutoff', '9b9421de232c610f49432108ff43195b'): 8556,\n",
       " ('ecoinvent 3.3 cutoff', '21d558bc1c3aa462db53d16447b20ae4'): 6893,\n",
       " ('ecoinvent 3.3 cutoff', '13f0970cff9754bd8cfe1cea894642c7'): 14309,\n",
       " ('ecoinvent 2.2', 'b35faf5e0e6fb89617e14c72b8dbed77'): 19578,\n",
       " ('ecoinvent 2.2', '49ef333cabee8d2c0e08a4529fb9a460'): 21100,\n",
       " ('ecoinvent 2.2', 'b238c2590938eb504dfe806236df0fe5'): 19548,\n",
       " ('ecoinvent 2.2', '8b6dd149eb15ed9099a3a3c7a0c8120c'): 18394,\n",
       " ('ecoinvent 3.3 cutoff', '5d3aa3590719bc81811bf0ad3b1e7bf6'): 4905,\n",
       " ('ecoinvent 3.3 cutoff', 'a8519cf127fc77655b7b3992aa5f5b93'): 9812,\n",
       " ('biosphere3', '9197fa8a-1f9a-427b-91d3-113260ae6eb1'): 2920,\n",
       " ('biosphere3', '5189de76-6bbb-44ba-8c42-5714f1b4371f'): 1436,\n",
       " ('ecoinvent 3.3 cutoff', '2e131df01a94c8c46c980dc096dd8377'): 4842,\n",
       " ('ecoinvent 3.3 cutoff', 'e812a348402981470cd8fc119096e1a9'): 9780,\n",
       " ('ecoinvent 2.2', '358ae34391829a39eb2efe1e21f1cc59'): 21205,\n",
       " ('ecoinvent 3.3 cutoff', 'd74ce0341e1e8e497dea0af9dc7f74c2'): 8302,\n",
       " ('ecoinvent 3.3 cutoff', '87517b4c03fb83a28eec37d5c9529d5a'): 14155,\n",
       " ('ecoinvent 3.3 cutoff', 'ebc846adc9b82f584bab80c14d2611d3'): 7940,\n",
       " ('ecoinvent 3.3 cutoff', '9904ac0408740bda29a2006580fbec17'): 13345,\n",
       " ('biosphere3', '89ee008f-477e-4580-bd8e-8bf50fc9e080'): 1552,\n",
       " ('biosphere3', '6d7ac032-ed65-49b2-b621-d3922038cf27'): 1506,\n",
       " ('ecoinvent 2.2', '4082092b4b6504f2a2b6f46a1940e753'): 21904,\n",
       " ('ecoinvent 3.3 cutoff', '2446ea4f6d4188fd71f19bf5eb677a77'): 5987,\n",
       " ('biosphere3', 'c89708f7-cb6c-4691-b8cc-cf2cb03b14a6'): 3147,\n",
       " ('ecoinvent 3.3 cutoff', 'edbd4158b2814d698340898501b1e6d2'): 11535,\n",
       " ('ecoinvent 3.3 cutoff', '45dad4c19c25f4e7fc82b78770b20280'): 9062,\n",
       " ('ecoinvent 3.3 cutoff', '3f16303217d57fdcf31faa834fcf9fb2'): 5658,\n",
       " ('ecoinvent 3.3 cutoff', '162eab8e86e5b20ed31282377acddea3'): 8282,\n",
       " ('ecoinvent 2.2', '31894eb0fc23d68e1d65e66771c7f014'): 17862,\n",
       " ('ecoinvent 3.3 cutoff', '49a6b5da82cd83e560793478b3a97340'): 11361,\n",
       " ('ecoinvent 3.3 cutoff', '273b66b7d0bca9623c5dbb51b6271a1f'): 8050,\n",
       " ('biosphere3', 'b6edb30e-cdf4-48ab-95d5-4f52de17f68e'): 278,\n",
       " ('ecoinvent 2.2', '5e59cc1db2d32282a4cd76fc6ec00f15'): 21146,\n",
       " ('ecoinvent 2.2', '76931b7a09440e9306ea6297dff885cc'): 19005,\n",
       " ('ecoinvent 3.3 cutoff', 'a11b19c5b11a0046c183262fcb6a7235'): 4784,\n",
       " ('biosphere3', '8bbe0b4c-5c9c-4959-a878-572f680e428d'): 1262,\n",
       " ('ecoinvent 3.3 cutoff', '51b446bddd6107446dc2a67b690a30fb'): 12312,\n",
       " ('ecoinvent 3.3 cutoff', '8fcc2fee1bf2f1e0cba9ff0dd5e8cac3'): 6697,\n",
       " ('ecoinvent 2.2', '4921a1fff1415fb71c1c6f6f0e50c063'): 19133,\n",
       " ('ecoinvent 3.3 cutoff', '6cc80df17c2ce85abdca52709db00be1'): 6891,\n",
       " ('ecoinvent 3.3 cutoff', '44b6e5d605a82bbca86cb55751950d68'): 7461,\n",
       " ('ecoinvent 3.3 cutoff', '47778d3b0a07795e2e5177a06d784149'): 8816,\n",
       " ('biosphere3', '7529a948-b5ac-4eb9-8349-2a3677b8fe14'): 1539,\n",
       " ('ecoinvent 3.3 cutoff', 'daae23c2e4660cca5d2339177ae3f76b'): 10253,\n",
       " ('ecoinvent 3.3 cutoff', '98961af435f40e2f5d2099ce51978930'): 10607,\n",
       " ('ecoinvent 2.2', '0f5d20aa85bf487bcdff6e06f7928949'): 19482,\n",
       " ('ecoinvent 3.3 cutoff', '3660fca28aeff4b2cc34e40a74743599'): 16015,\n",
       " ('ecoinvent 3.3 cutoff', 'cd4e3dcdf5cb0b67ea982acb65a4c110'): 13266,\n",
       " ('ecoinvent 3.3 cutoff', 'f09969d6f87992f2874b2fa24e053aa7'): 15524,\n",
       " ('ecoinvent 2.2', 'b4ce86662526c5bc4f3343f2c57530a1'): 18443,\n",
       " ('ecoinvent 3.3 cutoff', '383469df9b482176c20cdb9edb583a76'): 15155,\n",
       " ('ecoinvent 2.2', '76dd5dcd41061d4c2774f40fd35e44d0'): 19050,\n",
       " ('biosphere3', '12840cef-c3b8-4ef2-b7d4-3a73dbd6a280'): 1959,\n",
       " ('biosphere3', 'd1679eda-eac2-4be4-876f-3be480c53dc4'): 1177,\n",
       " ('ecoinvent 3.3 cutoff', 'f2f21d3583d72288b8c4959efe376893'): 7803,\n",
       " ('ecoinvent 3.3 cutoff', '4dfb84a7d8d4509b0a8967ec03fcb454'): 10595,\n",
       " ('ecoinvent 2.2', '1e60b6520f52b8076f5a8c4bcae93eb7'): 18060,\n",
       " ('biosphere3', '97818104-9cc2-4323-97d5-c896ce171f86'): 3869,\n",
       " ('biosphere3', 'a65308df-73ac-4aa8-88f0-319743a50293'): 1673,\n",
       " ('biosphere3', '18fb2184-d78e-467f-9eac-116bd534739f'): 3197,\n",
       " ('ecoinvent 2.2', '6823e659041660c5c94b7a673575cfe0'): 18888,\n",
       " ('ecoinvent 3.3 cutoff', 'f01766a80040745eacb41133ab074a16'): 16346,\n",
       " ('biosphere3', 'ec8144d6-d123-43b1-9c17-a295422a0498'): 3825,\n",
       " ('ecoinvent 3.3 cutoff', '0dae33edafeee24f155afc4a0101adcc'): 7308,\n",
       " ('ecoinvent 3.3 cutoff', '62af7e52ee3cafe28de26025283acaf6'): 13156,\n",
       " ('biosphere3', '02a7b111-6538-4496-a7cc-e03ea5b649bf'): 1494,\n",
       " ('ecoinvent 3.3 cutoff', 'bdd4c1cfbb4958c2e87b4c2fc4388c2e'): 11823,\n",
       " ('ecoinvent 3.3 cutoff', '4e327c0d559a27090e75943c1c0c31ec'): 12542,\n",
       " ('ecoinvent 3.3 cutoff', '5d333e3911b22012de1fe9fcebcdaac1'): 13113,\n",
       " ('biosphere3', 'd761d96f-d236-4131-89c8-ad3269d02a6b'): 3863,\n",
       " ('ecoinvent 2.2', 'ca591d483348459a421968affdada87c'): 19594,\n",
       " ('ecoinvent 3.3 cutoff', '5ab6305ed207c5e5bf97b5184805544c'): 5481,\n",
       " ('biosphere3', 'f276d4ca-b1ad-4575-9442-e35b5e3b618b'): 3531,\n",
       " ('ecoinvent 2.2', '969f1a6354161938d04cb2b48a611cfb'): 20134,\n",
       " ('ecoinvent 3.3 cutoff', 'e55ff212a3f310206f97e43ad3cb279e'): 10196,\n",
       " ('ecoinvent 2.2', '6e064026781e8821523483dfa52c9e8d'): 21593,\n",
       " ('ecoinvent 3.3 cutoff', '4ea751d4cef1f9771de34aa83433f753'): 16949,\n",
       " ('ecoinvent 3.3 cutoff', '6e9a6fdb6cddc0c24674c2d07241dfe9'): 16214,\n",
       " ('biosphere3', '3a08acee-6c03-4335-b14f-4b51a2945a6f'): 2706,\n",
       " ('ecoinvent 3.3 cutoff', '875bebe34bc6378ecc0da95a490ac813'): 10181,\n",
       " ('ecoinvent 3.3 cutoff', '81cea3891cebef74f1c6195b82bd4914'): 10986,\n",
       " ('ecoinvent 3.3 cutoff', '61a79875eeee49e536f5e3babc3c51d7'): 8360,\n",
       " ('ecoinvent 2.2', '7f8c8f48faa5479dc5ec1966394a6444'): 19164,\n",
       " ('biosphere3', '1cb0b78b-6fd5-4193-8144-d47478920ced'): 705,\n",
       " ('ecoinvent 3.3 cutoff', 'ac6d213d811b807c12a1b08db52f2824'): 7622,\n",
       " ('biosphere3', '8cbaa905-41b0-4327-8403-bf1c8eb25429'): 3818,\n",
       " ('ecoinvent 3.3 cutoff', 'cb8cd93cbc92f5610982dcd990c9c84d'): 6870,\n",
       " ('ecoinvent 3.3 cutoff', '3cca8c5a716c59d9214b7569febcea92'): 9913,\n",
       " ('biosphere3', '3ca7403e-c960-4a4e-a649-ab68b42b65b8'): 2340,\n",
       " ('ecoinvent 3.3 cutoff', '47cc283ded39ccdbf51b831f0c342c05'): 12125,\n",
       " ('ecoinvent 3.3 cutoff', 'ba05274030d37255a577f76facc5aeb8'): 10866,\n",
       " ('ecoinvent 2.2', 'c1c234a6e083ff62de1919a2f9a1844e'): 21831,\n",
       " ('ecoinvent 3.3 cutoff', 'edc5fb1398ffdd2cd2134025c9d07562'): 12648,\n",
       " ('ecoinvent 3.3 cutoff', 'bf1c1ee1074cf5457583795dba7fbee4'): 17818,\n",
       " ('ecoinvent 3.3 cutoff', 'f5a567cdd68f68402ef9e7b8def7cabf'): 14625,\n",
       " ('ecoinvent 2.2', '120de44e3e2113ec20d354a23955ffe7'): 20000,\n",
       " ('ecoinvent 3.3 cutoff', '3d5cf825fb03181a7dd65c7eade9b98a'): 9819,\n",
       " ('biosphere3', '0015315d-a2b8-4b72-8e60-0d34a72e6de8'): 2648,\n",
       " ('ecoinvent 3.3 cutoff', '988bcc7797b900d0c847ad7f055cd970'): 13577,\n",
       " ('ecoinvent 3.3 cutoff', 'a7522ee190e782ee4219fe75bbda15aa'): 5824,\n",
       " ('ecoinvent 3.3 cutoff', '681e070065532c92148fbe2bda8ddb32'): 10961,\n",
       " ('ecoinvent 3.3 cutoff', '6a36dcf15eac209a071c8b969e036b9f'): 8523,\n",
       " ('ecoinvent 2.2', 'd871a2c0546c93c058e2699dabd0fc37'): 21677,\n",
       " ('ecoinvent 3.3 cutoff', '406a7d5f2c7af9ea1ec204ed37e766b7'): 15035,\n",
       " ('ecoinvent 3.3 cutoff', 'ac45876b4beee27a13c9a085f4431276'): 11784,\n",
       " ('ecoinvent 3.3 cutoff', 'b579672716c64cceffed40dfdbea672d'): 12054,\n",
       " ('ecoinvent 3.3 cutoff', '0c6e80ec4a387abaa7cf85e3d7c795d4'): 13203,\n",
       " ('ecoinvent 3.3 cutoff', 'ac29689c9a40732a5f384a8fc5e951f2'): 12916,\n",
       " ('ecoinvent 2.2', '335f6bc6e5b3bdff4443d0c813d5024b'): 18814,\n",
       " ('ecoinvent 3.3 cutoff', '40d6909b56b072aade465ab92618d264'): 16753,\n",
       " ('ecoinvent 3.3 cutoff', '3bc086e04f9251de0da4a9a300be82d7'): 15714,\n",
       " ('ecoinvent 3.3 cutoff', '48e57574dd934c60c5cae0a533910e0f'): 13801,\n",
       " ('ecoinvent 3.3 cutoff', 'cbba25090ab18bc122c9a1c587d6645f'): 12314,\n",
       " ('ecoinvent 3.3 cutoff', 'b7cceb9c7cacd5b551f70bcd198e88bd'): 6476,\n",
       " ('ecoinvent 3.3 cutoff', 'e46c22f8063715cb9af2254014258ecb'): 9589,\n",
       " ('ecoinvent 3.3 cutoff', 'b4611928c333d51522660ddfcc5aa790'): 5454,\n",
       " ('ecoinvent 3.3 cutoff', '663a502523bf904479ec81e0d2cde14b'): 6633,\n",
       " ('biosphere3', '2df5a2fe-1ab2-48e7-a9a6-1085703b17be'): 1252,\n",
       " ('ecoinvent 3.3 cutoff', '3912d01c9fde7ba124f89526e68cc134'): 4848,\n",
       " ('biosphere3', 'ec897705-c8d6-44da-b973-57d60e68a289'): 943,\n",
       " ('ecoinvent 3.3 cutoff', '4809a0118127566dca5954dd96b3bddc'): 4358,\n",
       " ('ecoinvent 2.2', 'ca314b5aaebae1da8cb04993cab28272'): 21895,\n",
       " ('biosphere3', 'cc05b490-fe4b-47ac-893c-951b0f359285'): 1628,\n",
       " ('ecoinvent 2.2', '05dc6a953329fd7027ae2c0a50902d02'): 20175,\n",
       " ('ecoinvent 3.3 cutoff', 'dc7646c5452b529f7ad30df7d9ac0ff3'): 11974,\n",
       " ('ecoinvent 2.2', '95b1167601ef58c3758fa9e718206e2d'): 19103,\n",
       " ('ecoinvent 3.3 cutoff', 'eebec1eb8feb8bc91930669987a8a024'): 4830,\n",
       " ('ecoinvent 3.3 cutoff', '4fe65b06ad86b8de003d95c2e4a085e1'): 8561,\n",
       " ('ecoinvent 2.2', '0c76508d8e5719cdab33e1326bc1c8cb'): 20337,\n",
       " ('ecoinvent 3.3 cutoff', 'd8c033fe4e12db32e055c23c47ec1d2d'): 10242,\n",
       " ('ecoinvent 3.3 cutoff', 'e70b014d6114b12ac7145a457f36c3f2'): 14360,\n",
       " ('ecoinvent 3.3 cutoff', '2467a23041ff82b7d6a06f351395a4fd'): 9716,\n",
       " ('biosphere3', '826677aa-8347-4494-85da-a26fe3e1e824'): 570,\n",
       " ('ecoinvent 3.3 cutoff', '5f1585ccc4d599eb2436e67f211ef9ea'): 17433,\n",
       " ('ecoinvent 3.3 cutoff', '04bbfcafec20569b4c1e99c5fd3eebe1'): 6191,\n",
       " ('ecoinvent 2.2', 'bef1c5409755165a3f1155c2df8fc7fa'): 20984,\n",
       " ('ecoinvent 2.2', '84d14034e3d1dbe192667e9b3d4d6a13'): 21035,\n",
       " ('ecoinvent 3.3 cutoff', '41a8a07d965474050c85f415ca81a84a'): 17416,\n",
       " ('ecoinvent 3.3 cutoff', '93cf814ceb5073391c139fe92f2258e7'): 5853,\n",
       " ('biosphere3', '79507960-3ff9-473b-9343-2dad237426e1'): 3263,\n",
       " ('biosphere3', 'eb71ce59-d412-4e1e-a496-06134cf9d3d3'): 2883,\n",
       " ('ecoinvent 3.3 cutoff', '01ab27a01e72e64cda38251659607baa'): 8677,\n",
       " ('biosphere3', 'ba1a3dcb-d53a-42fd-80f0-d09f3a12ffe2'): 207,\n",
       " ('ecoinvent 3.3 cutoff', 'af478f8070a1737325f9a949d27ee1cc'): 12259,\n",
       " ('ecoinvent 3.3 cutoff', '4f70ba553764a1fee62318445767d3e6'): 5414,\n",
       " ('ecoinvent 3.3 cutoff', '90755b306ab0daaa8b2fd9ed55863a88'): 11155,\n",
       " ('ecoinvent 2.2', '1a5e7b4f1dc5d5769c28f25217392b8c'): 18439,\n",
       " ('ecoinvent 3.3 cutoff', 'a0dc307d76d129cd43c8e5a7641c589c'): 4401,\n",
       " ('biosphere3', 'c7328f5c-abaa-4786-a9ef-6706a9108382'): 3120,\n",
       " ('biosphere3', 'faa118a7-50b6-4ea9-94bb-40a55a0e39f2'): 3337,\n",
       " ('biosphere3', '2563243b-9991-4fb4-bfe7-4239c25de7db'): 2540,\n",
       " ('ecoinvent 2.2', '83396ddfbc2fd399e60557a28eea7755'): 20861,\n",
       " ('ecoinvent 3.3 cutoff', 'd738a379c8be1645662e93daecd2e90b'): 14570,\n",
       " ('ecoinvent 3.3 cutoff', 'fc5eec8d8a1bc2461e8b202b6e73e110'): 17396,\n",
       " ('ecoinvent 3.3 cutoff', '36b0fe503e8b0831dba5c13119dc9210'): 8043,\n",
       " ('biosphere3', '5baed830-f676-4031-a036-8a9599bd7237'): 1837,\n",
       " ('biosphere3', 'a8a2f53b-c6d2-4302-a59f-502bd7e242fc'): 676,\n",
       " ('ecoinvent 3.3 cutoff', '0d2cafa2de94515fc6d12caa8d029b31'): 14228,\n",
       " ('biosphere3', 'd5e8cbd5-5b1f-4289-bdee-41f5b48b8732'): 1028,\n",
       " ('ecoinvent 2.2', 'f05b8488c6ac69af2980c030936a57be'): 19944,\n",
       " ('ecoinvent 3.3 cutoff', '3ae4e63dec517abe2d47ea357b080936'): 11126,\n",
       " ('ecoinvent 3.3 cutoff', 'ff27226d82ee8540aee6a921316296cb'): 8565,\n",
       " ('biosphere3', '0782d8ff-80e5-47a7-a2ba-3ba40ab60b60'): 1723,\n",
       " ('ecoinvent 2.2', '15dcdccb2478a171152ed2e8260a1e2b'): 18180,\n",
       " ('ecoinvent 3.3 cutoff', 'cae7713c648ea588944a1a7664acc386'): 17220,\n",
       " ('biosphere3', '91a067cc-543a-4d73-a0c0-feb1f8935756'): 1901,\n",
       " ('ecoinvent 3.3 cutoff', '183f4dd63c925140eb00fd64740f7ee1'): 9238,\n",
       " ('ecoinvent 3.3 cutoff', '27e645f44bddd097c71a3080a1825178'): 4444,\n",
       " ('ecoinvent 3.3 cutoff', '2cf9688bf90b622e3dee4791fb728ab8'): 16913,\n",
       " ('ecoinvent 3.3 cutoff', 'a8b55b5bbc554450ea8c387cf2936c39'): 8309,\n",
       " ('ecoinvent 3.3 cutoff', '235da8597a4cd01c871070620bdd7c0c'): 15358,\n",
       " ('ecoinvent 3.3 cutoff', 'aa8759adb7f2a420fb1ed156a2b4ddce'): 12501,\n",
       " ('ecoinvent 3.3 cutoff', '1a92aacc28428be38f62d8e36d840057'): 6556,\n",
       " ('ecoinvent 3.3 cutoff', 'ec641381685b1b64d1777e98578e6efb'): 13751,\n",
       " ('ecoinvent 3.3 cutoff', '65e342499c7df2cf2d58f4449b473e1d'): 4223,\n",
       " ('ecoinvent 2.2', '3646a502964e8766091835bcf026ef3f'): 18843,\n",
       " ('ecoinvent 3.3 cutoff', 'f225b379a0bee3ee90d836a970c2cc5d'): 5551,\n",
       " ('ecoinvent 3.3 cutoff', '73f6a512b173c3780bd221bf354c3ac8'): 13235,\n",
       " ('ecoinvent 3.3 cutoff', '6af3ae8d4f98beca54e0bf81910eb41e'): 9236,\n",
       " ('ecoinvent 3.3 cutoff', '1003ce4408cf507b4fa09a4476e2188b'): 4583,\n",
       " ('ecoinvent 3.3 cutoff', 'c6c8f4774fcf183732dd8a752b4960a2'): 11246,\n",
       " ('ecoinvent 3.3 cutoff', '2d4da555b30aade3d471eac1529f3dec'): 4138,\n",
       " ('biosphere3', '5dd25f86-58c2-49e9-8401-54e1750b85ad'): 3297,\n",
       " ('biosphere3', '44dd80c7-9960-4881-8431-939509b81f53'): 1630,\n",
       " ('ecoinvent 2.2', 'cb8163f55510c877a9c7efec2060333b'): 21922,\n",
       " ('ecoinvent 3.3 cutoff', '381ea6dada72932bad5d8eb445ff1a56'): 17203,\n",
       " ('ecoinvent 3.3 cutoff', '84dad5db77eb6439c23be0fca08bce56'): 7433,\n",
       " ('ecoinvent 3.3 cutoff', '951bdb423523244a1574c5c41887df52'): 9010,\n",
       " ('ecoinvent 2.2', '29f16183cdaca8d950e3a66a58f495d8'): 21428,\n",
       " ('biosphere3', '737857df-4504-4068-9a5f-67e9ff53ec30'): 331,\n",
       " ('ecoinvent 2.2', '07459350f56bcd9b563dd4337762bb92'): 19343,\n",
       " ('ecoinvent 3.3 cutoff', '0ced1e2a3b60964cb3e11ed745066b0f'): 13570,\n",
       " ('ecoinvent 3.3 cutoff', 'ee99a16c846a2a48cd9e6d66c3b86e24'): 13723,\n",
       " ('ecoinvent 3.3 cutoff', 'd2f2dfb0ba70379b3690269c85797e62'): 4293,\n",
       " ('ecoinvent 2.2', 'e16a62711a5214a3937b55e065e57444'): 20509,\n",
       " ('biosphere3', 'cf4eaf0f-9f17-4a0f-b42d-bb068c73c706'): 3345,\n",
       " ('ecoinvent 2.2', '9fb0cc15197a53f2c7632379597adc86'): 21405,\n",
       " ('ecoinvent 3.3 cutoff', '97ff5525d6261a5113a1d129bcc4fe1c'): 8311,\n",
       " ('ecoinvent 3.3 cutoff', 'b07aa94ac3127bffdcd38fe1fe895d45'): 9110,\n",
       " ('ecoinvent 3.3 cutoff', 'ffc96225475e19828bffab8d34089003'): 10757,\n",
       " ('ecoinvent 3.3 cutoff', '57183f42854d7e6b793392be716dcd17'): 16927,\n",
       " ('ecoinvent 2.2', 'b6f79bf02ecd731a0de798949d409f21'): 19992,\n",
       " ('ecoinvent 2.2', 'e7a76b924a134964f12f1f5128a28dbc'): 18302,\n",
       " ('ecoinvent 3.3 cutoff', '2f84ce1d9fe9d58e73fbe251b7797042'): 6664,\n",
       " ('ecoinvent 2.2', '324b280432258e49a95859af9fb921db'): 21702,\n",
       " ('ecoinvent 3.3 cutoff', '8dbc0f3d4e17c7ef0732359876aa33fd'): 8841,\n",
       " ('ecoinvent 2.2', '8fee3e4a99f7fa8f7a3fa96af65a3cf7'): 21925,\n",
       " ('ecoinvent 3.3 cutoff', 'dd4f8689d21620caf6d7ae6c25689959'): 12104,\n",
       " ('ecoinvent 3.3 cutoff', 'e2ae298ea6dcacaf6c9b69e16bee6979'): 15467,\n",
       " ('biosphere3', '02dd7309-b7c2-47bb-82c8-09345be9c2bb'): 726,\n",
       " ('ecoinvent 3.3 cutoff', '63722a2ccc40cf0ad4125a9c783e824f'): 14705,\n",
       " ('ecoinvent 3.3 cutoff', '7d9bcaec4bf802172b22aee76ba09ab5'): 16181,\n",
       " ('ecoinvent 3.3 cutoff', '260fa4b15131e1b4e0607c389f2b21c7'): 6944,\n",
       " ('ecoinvent 3.3 cutoff', '7d278f40cddc47e13814730adeddc2d6'): 7914,\n",
       " ('ecoinvent 3.3 cutoff', 'b9403f0d9c411a5e9ec04e60968d99d9'): 10080,\n",
       " ('biosphere3', '4530576f-7f93-4c43-b13e-8cd2da98f501'): 1495,\n",
       " ('ecoinvent 3.3 cutoff', '6c5c08a8f528842cf804cb7fc0819357'): 9707,\n",
       " ('ecoinvent 2.2', 'd01b548a1bd22f1c584ee5a5fe84849e'): 20864,\n",
       " ('biosphere3', 'bedc1f3e-71d2-4bb9-9699-c77603031f81'): 3008,\n",
       " ('ecoinvent 3.3 cutoff', 'c9107820d1203d9fa0af46180a500393'): 17682,\n",
       " ('ecoinvent 3.3 cutoff', '573aaeadd4c76bf3e890a9dfcf7a838d'): 14621,\n",
       " ('ecoinvent 2.2', 'dceae8fcd968f061581be0ad92e4bf0b'): 18355,\n",
       " ('ecoinvent 3.3 cutoff', 'b7c9cd59516b52f98a523daf9f990691'): 12132,\n",
       " ('ecoinvent 2.2', 'babaef44861ea9923ef19887d34eabf5'): 20418,\n",
       " ('ecoinvent 3.3 cutoff', 'aaa8b2836c1fcd5f11d2cf8a65ca4eed'): 12220,\n",
       " ('ecoinvent 3.3 cutoff', 'e8a238f95dc750482ee5cd2914d0b268'): 17267,\n",
       " ('ecoinvent 3.3 cutoff', 'a7bbd7baff4594803e5d54e53c7fe142'): 9945,\n",
       " ('biosphere3', '23b6a72b-f926-40e3-b88a-0fb565d36de1'): 3822,\n",
       " ('ecoinvent 2.2', '23f81b0c6a29e7f1bbb0a6c68f58a0b0'): 20610,\n",
       " ('ecoinvent 3.3 cutoff', '54f85f192b289265d47758204691747a'): 9172,\n",
       " ('ecoinvent 2.2', 'b0397534593b2e117dddc2c7c4a7881a'): 18842,\n",
       " ('biosphere3', 'b13777bb-a8b6-4be4-8f6b-675ac75f31b2'): 3091,\n",
       " ('ecoinvent 2.2', '9d9c38df9c6f78dee442a8be33e5821a'): 19292,\n",
       " ('ecoinvent 3.3 cutoff', '92405ab695ae11a4b45c2739c28fd5fa'): 8210,\n",
       " ('biosphere3', 'a212914e-f8ba-49eb-9ceb-63e286053f2d'): 2461,\n",
       " ('ecoinvent 3.3 cutoff', '25352f35a9031c48ea9dcc07c2013c17'): 5224,\n",
       " ('ecoinvent 3.3 cutoff', '25f4e10b49373b26eb5a9f1384e33e7d'): 7993,\n",
       " ('ecoinvent 3.3 cutoff', '92a73a49dc4fec1c1a49557986b992cd'): 7724,\n",
       " ('ecoinvent 3.3 cutoff', 'd0aa5f2cc225b0d0526d583bf161b465'): 4517,\n",
       " ('biosphere3', '4b841af5-7061-4e59-89d4-cace8bc364e1'): 1214,\n",
       " ('ecoinvent 3.3 cutoff', 'e6812ef967b0c8c64fbb3693bcbf4184'): 8345,\n",
       " ('ecoinvent 3.3 cutoff', '0d4f3ddf86e6a23a3dee5da1ea990dd0'): 6596,\n",
       " ('ecoinvent 2.2', 'd497555b394857bd615bf7b52f8818b8'): 20316,\n",
       " ('ecoinvent 2.2', '28c6e8782babb843b5a1d212b6f09437'): 18996,\n",
       " ('ecoinvent 2.2', 'cd94aaa02082c259a9f420ecec2c47d0'): 21290,\n",
       " ('biosphere3', 'e3dabe3a-e385-496d-8c84-288d45356c79'): 1611,\n",
       " ('biosphere3', '0ba582f8-3360-441a-a93c-ea15e87f7b0c'): 297,\n",
       " ('ecoinvent 3.3 cutoff', '43163f42465a6785244671f49532a967'): 13656,\n",
       " ('ecoinvent 2.2', '1cd2a763cfb1b857e5e5d4f9a1c762fe'): 20597,\n",
       " ('biosphere3', 'c8e5538f-17a1-4f62-aa64-39a91adb5cd3'): 2481,\n",
       " ('ecoinvent 3.3 cutoff', 'cb1656fcc4f86ce9b1216440575c719d'): 15151,\n",
       " ('biosphere3', 'ad66ad26-6fee-4457-b99b-ad8476062ca1'): 5,\n",
       " ('ecoinvent 3.3 cutoff', '0ab956294622ba9599f31c908ac35b9f'): 10849,\n",
       " ('ecoinvent 3.3 cutoff', '7290bd27307f08d288b7cf5825b9d0e2'): 5381,\n",
       " ('biosphere3', '20839113-fbf2-4d2f-bab8-66861f86bc60'): 1249,\n",
       " ('ecoinvent 3.3 cutoff', 'bb0fb8a0d4510beac115064ead678727'): 17593,\n",
       " ('ecoinvent 3.3 cutoff', '6d76f273908c576a4ab50e01f6e9789c'): 15046,\n",
       " ('ecoinvent 3.3 cutoff', '1a46d1b13978f3d170578e679771f835'): 6523,\n",
       " ('ecoinvent 3.3 cutoff', 'f96dbacb33c84a39873c210546c4eb31'): 15455,\n",
       " ('ecoinvent 2.2', '65c28aecf660cd3aec08b128b55b19a0'): 18372,\n",
       " ('ecoinvent 3.3 cutoff', 'b4221998a37850fe3b49f4c3fd9dbff4'): 16485,\n",
       " ('ecoinvent 2.2', '285140b9b06b53bf24a70bc1a22b7be6'): 21165,\n",
       " ('ecoinvent 3.3 cutoff', '1d1c58f0a87172c3d8cc1736d3e40084'): 8784,\n",
       " ('biosphere3', '8732d8b5-7f41-498c-be37-5bcd7a802ee6'): 3806,\n",
       " ('ecoinvent 3.3 cutoff', 'fa65fa15e253797d3754569de98153cb'): 14506,\n",
       " ('ecoinvent 2.2', '71a80d43e969804966eeeb70e4c483d9'): 19600,\n",
       " ('ecoinvent 3.3 cutoff', '7283433a3298b0f1a90f8a39676bfb09'): 5401,\n",
       " ('ecoinvent 3.3 cutoff', 'b346a8dd204532e15665a86e8f53205c'): 11279,\n",
       " ('ecoinvent 3.3 cutoff', '6bb5e928fe78e6482d039d642a4409ca'): 17569,\n",
       " ('ecoinvent 3.3 cutoff', '1e923a097025987abd34d99b12eee273'): 12981,\n",
       " ('ecoinvent 3.3 cutoff', '7b82fec735a73ab55205f0c7754eda7e'): 6354,\n",
       " ('ecoinvent 3.3 cutoff', 'baf6917265e94e0545955aeb58eeb25b'): 13863,\n",
       " ('biosphere3', 'a5e0860b-7e2b-4870-ae00-0ed150fb8ae3'): 3804,\n",
       " ('ecoinvent 3.3 cutoff', '3f3682ea75ef06119f35d37ee622b2e9'): 6015,\n",
       " ('biosphere3', 'd3e038e1-728c-4dea-ac30-c9abbbfcbc84'): 677,\n",
       " ('ecoinvent 3.3 cutoff', '3375ff53349cbe2969e6986f0593e41f'): 15013,\n",
       " ('ecoinvent 3.3 cutoff', '8dfe9feee5b4d1fccc99336c2ba6f1cc'): 16931,\n",
       " ('ecoinvent 2.2', '98eb4b1cfee2d1715f3157f409e26d5e'): 19812,\n",
       " ('ecoinvent 3.3 cutoff', '949240150d39c014b3fb9204e6bab0d0'): 13660,\n",
       " ('ecoinvent 3.3 cutoff', '0bf7b0d99d8ab5dcdea9498855f22b18'): 16447,\n",
       " ('ecoinvent 3.3 cutoff', '4c896e152f17c1d602f52bbaccdca25b'): 16906,\n",
       " ('ecoinvent 3.3 cutoff', 'ad6454b36da1774b99a9f2bd9a61e636'): 9601,\n",
       " ('ecoinvent 3.3 cutoff', 'a99e66430a9f3620c730316430a3d006'): 16813,\n",
       " ('ecoinvent 3.3 cutoff', '98f8e86d413f4eb88d50ed3cb4c54c92'): 11834,\n",
       " ('ecoinvent 3.3 cutoff', '9042841e5ea9c86d4d70f28e0bd6618b'): 13715,\n",
       " ('biosphere3', '1ec6c4b4-ee5f-4788-8683-c95a84d6d63c'): 178,\n",
       " ('ecoinvent 3.3 cutoff', '78085c32defbfcaea9de4e77fbb1a7ee'): 5748,\n",
       " ('biosphere3', 'e36fb756-d9a7-4b07-a6cb-a1d204b4c350'): 1718,\n",
       " ('ecoinvent 2.2', 'f51c32714d5d5fbceda24dcf96653ba0'): 18647,\n",
       " ('ecoinvent 3.3 cutoff', '3655a407398282f21c28c7e09893bc1f'): 7779,\n",
       " ('ecoinvent 2.2', 'ab5fba311f743e338a0b354b34c87253'): 19042,\n",
       " ('ecoinvent 2.2', 'a3d9aa6520471536e5d8462bcbbd372c'): 19205,\n",
       " ('biosphere3', '77f17646-cede-4a49-99dd-55950098b077'): 536,\n",
       " ('ecoinvent 2.2', '7cffc1cc9ac5e99cb1c7b23e0e861656'): 21813,\n",
       " ('ecoinvent 2.2', '4fda80619cf844945e1ed4384a66f87c'): 19387,\n",
       " ('ecoinvent 3.3 cutoff', '79424c3cfd5c50908b91b931c648ab7d'): 13129,\n",
       " ('ecoinvent 3.3 cutoff', 'b5b26c8f009e9c239c490f66dac2c01d'): 11977,\n",
       " ('biosphere3', '479edec6-763c-49fc-83f8-49780f08cf29'): 1531,\n",
       " ('ecoinvent 3.3 cutoff', '81d55f03d7a30a5c5c88fdfc2d211baa'): 4332,\n",
       " ('ecoinvent 3.3 cutoff', '240ae7ce074c7cd6981904caca149a03'): 15638,\n",
       " ('ecoinvent 3.3 cutoff', '464666d3406470dfb5f691007b0a987e'): 6743,\n",
       " ('biosphere3', '21501e81-6395-4404-9cd6-001c6a686fd1'): 397,\n",
       " ('biosphere3', '78457869-af20-404f-a3bf-bad384fc177b'): 463,\n",
       " ('ecoinvent 3.3 cutoff', '08df1d70a3db654ccc6db6f3a9b84494'): 16755,\n",
       " ('ecoinvent 3.3 cutoff', '1dca1ad0dd8cb23ea9fce650017ba284'): 15133,\n",
       " ('ecoinvent 3.3 cutoff', '5f0be9eb4bad1d1c7c4ae06866c68854'): 15693,\n",
       " ('ecoinvent 3.3 cutoff', '02098db2a536ce509f6e53906258b8ca'): 5094,\n",
       " ('ecoinvent 3.3 cutoff', '20d7412a72c2f3ad21201c60fff1b547'): 8673,\n",
       " ('ecoinvent 3.3 cutoff', 'db1f2be290ee1a1c81c9e168f8679235'): 7701,\n",
       " ('ecoinvent 3.3 cutoff', '138523b83ee4cca5fb6a8305be46b543'): 13623,\n",
       " ('ecoinvent 3.3 cutoff', '144413faeb37b9c7e62c3872f8078e5a'): 13871,\n",
       " ('ecoinvent 3.3 cutoff', '42b1c9408738694e13a8c8c3fa6100cf'): 10717,\n",
       " ('biosphere3', '64165202-4870-47d0-8602-b85e5d672865'): 3695,\n",
       " ('ecoinvent 3.3 cutoff', 'e1d2c9c80faad8688b80da670cc968f3'): 16852,\n",
       " ('biosphere3', '5fa05c4f-8766-41ff-9dd1-fa47c0b7ea48'): 828,\n",
       " ('ecoinvent 3.3 cutoff', '5249fd313c1f4fc5a2afa595868883b5'): 15930,\n",
       " ('ecoinvent 3.3 cutoff', '6179e34126ebd58857e62614132e5bfe'): 15703,\n",
       " ('biosphere3', '36c37c87-0dbf-4e30-83e9-288825e113b2'): 317,\n",
       " ('ecoinvent 3.3 cutoff', '7d428d7154cc93bb9277e983934d4f91'): 6483,\n",
       " ('ecoinvent 2.2', 'c1ef29d32fb3794288ca3460348190ba'): 18637,\n",
       " ('biosphere3', '71ddd53a-4720-49b5-86c9-9ab899365630'): 1846,\n",
       " ('ecoinvent 3.3 cutoff', '8b369950b053040e59cd25a7e13577d4'): 7081,\n",
       " ('biosphere3', 'bc069d24-fbbd-4c05-8b6e-4089dc8249ae'): 1946,\n",
       " ('ecoinvent 2.2', '1544c6d739481abef04993ad6cd51eeb'): 21213,\n",
       " ('ecoinvent 3.3 cutoff', 'c77277a60592f9b34816ad2ff7af9cf5'): 17069,\n",
       " ('ecoinvent 3.3 cutoff', '6e555d266ee0536aa03aeaa86977fb0f'): 7264,\n",
       " ('ecoinvent 3.3 cutoff', '0a93aeec5a09860ee32bac939b10d80b'): 7506,\n",
       " ('ecoinvent 2.2', '2e86edb4e73f19b5338cf7dedbb514b8'): 20605,\n",
       " ('ecoinvent 3.3 cutoff', '0c1fe800a4907db571eba6b452ebf3bc'): 7233,\n",
       " ('biosphere3', '5e07e604-b797-4718-9dc3-be6f4f3319e4'): 1350,\n",
       " ('biosphere3', '4a838a42-fa78-4b0a-92f9-588a3660809b'): 254,\n",
       " ('ecoinvent 3.3 cutoff', 'ab1d6a50f1ddf2dce21d9033577c6e1f'): 15173,\n",
       " ('ecoinvent 2.2', 'db52971b2b82b6824410ea1306719439'): 21335,\n",
       " ('ecoinvent 3.3 cutoff', '5877a97289a8f754188015c71ab0e6a0'): 5136,\n",
       " ('biosphere3', '478e8437-1c21-4032-8438-872a6b5ddcdf'): 440,\n",
       " ('ecoinvent 2.2', '6f6805e82cdde09ae25f282c5e7e3040'): 19572,\n",
       " ('ecoinvent 3.3 cutoff', 'e443ef7805a9bace001ac5c4da700ffc'): 4054,\n",
       " ('ecoinvent 3.3 cutoff', '89e755834f252ec53b5c6d5214a439cc'): 13060,\n",
       " ('ecoinvent 2.2', '8b91f1601923e2e4c708a80d5875b703'): 20404,\n",
       " ('ecoinvent 3.3 cutoff', '6c08001d3cfeab71a8087ecbaaa2785d'): 4157,\n",
       " ('ecoinvent 2.2', '91d92d05c8cde672a9cb8ae3e2d1a37e'): 19808,\n",
       " ('ecoinvent 3.3 cutoff', 'e4f57609a8d2f4c2b1fa22071b9902a4'): 8255,\n",
       " ('ecoinvent 3.3 cutoff', '2cfb58033cfe9f814be4214819790155'): 16631,\n",
       " ('ecoinvent 3.3 cutoff', '44723f73fe92245294c712b969f86a96'): 16922,\n",
       " ('ecoinvent 3.3 cutoff', '503e7aeaa2b79189fc9f441113c644e1'): 4719,\n",
       " ('ecoinvent 2.2', 'fd103f2dd642bc8d27e62a956541e968'): 21140,\n",
       " ('ecoinvent 3.3 cutoff', '6abf6b2e7ee7ecce13687aaf71f82537'): 12797,\n",
       " ('ecoinvent 3.3 cutoff', 'a06036c831c8681b771b6ac122473399'): 14174,\n",
       " ('ecoinvent 3.3 cutoff', '9f7520a0a3d491d5bcfceba9ad0fa300'): 13707,\n",
       " ('ecoinvent 3.3 cutoff', '9c5cae14a0a0c46261e4d18751d539b2'): 16095,\n",
       " ('ecoinvent 3.3 cutoff', '686c76212a6900c3d2497429a96d3442'): 5132,\n",
       " ('ecoinvent 2.2', '65177bf04972b46bd5b3ca47c227d2bb'): 18467,\n",
       " ('ecoinvent 2.2', '3058969ef6af164d7966d49bc9e48d04'): 18674,\n",
       " ('ecoinvent 2.2', '435f08fab9fbb6d73851fcee34adf836'): 17941,\n",
       " ('ecoinvent 3.3 cutoff', '1b976015df5fd3c00de2f9ccebdd8930'): 9001,\n",
       " ('ecoinvent 2.2', '2aca95f5baf104e79cca416cf00ec16e'): 20219,\n",
       " ('ecoinvent 3.3 cutoff', '2a5649fcb51179efc294f4cf86470d59'): 17464,\n",
       " ('biosphere3', '83cf77ca-867b-4eef-b0f0-78d71b3d91d5'): 415,\n",
       " ('ecoinvent 3.3 cutoff', '1371181620241a55d0969a106cc87d2e'): 13413,\n",
       " ('biosphere3', '6ce44f77-d181-4396-8fa2-2276eeeb4c08'): 3968,\n",
       " ('ecoinvent 3.3 cutoff', '192f18f45a1ebd34e6f6590f40e67d1c'): 11118,\n",
       " ('ecoinvent 3.3 cutoff', 'b2352f7d46a7916ca19eef1ae6832e8f'): 8531,\n",
       " ('ecoinvent 3.3 cutoff', '35ab90c1fe0a1c08f9d41e586bce6105'): 14111,\n",
       " ('ecoinvent 3.3 cutoff', '3e6db3cc5f0eb9234740cde0ee96c41f'): 9232,\n",
       " ('ecoinvent 3.3 cutoff', 'a34a67dbfc47c97eed1c1151ba03b27c'): 15996,\n",
       " ('biosphere3', '3be7ab07-a4fd-4d32-a31f-134d2c5b5143'): 3064,\n",
       " ('ecoinvent 2.2', '03d1dae757be4f47423fc8487fcd83ba'): 20838,\n",
       " ('ecoinvent 3.3 cutoff', '2830f8d025f5b59bbab0dcb8d4119e91'): 11640,\n",
       " ('ecoinvent 3.3 cutoff', 'a0699b86f58596e08270887b924f0ebd'): 9582,\n",
       " ('ecoinvent 3.3 cutoff', 'de0d859e9011a3ab6cb13c3deeb1c073'): 6203,\n",
       " ('ecoinvent 3.3 cutoff', '08945eb20aee7eb218699d3341dccb98'): 17328,\n",
       " ('biosphere3', 'fbebc389-bce6-4540-8869-50076139f370'): 589,\n",
       " ('biosphere3', '063a0cee-aa71-4ea6-85ca-045c74ca1a66'): 1981,\n",
       " ('ecoinvent 3.3 cutoff', 'a63016daba91484af28633ea19e334a6'): 14208,\n",
       " ('ecoinvent 3.3 cutoff', '79fb8e958e4e28683028cb7c271b0137'): 15997,\n",
       " ('ecoinvent 3.3 cutoff', 'f2dfbf6c4c2f4ba042406b69b803502d'): 13108,\n",
       " ('ecoinvent 3.3 cutoff', 'bcb70b04953e7c7f5fcc014aac389875'): 10288,\n",
       " ('biosphere3', 'ae7a3110-d355-4c01-8a92-02616b28ee29'): 962,\n",
       " ('ecoinvent 2.2', '355d0fd97b4eabde3a97df8bc28ef21d'): 19120,\n",
       " ('ecoinvent 3.3 cutoff', '379aac23015c9fee42ad94cad10b4deb'): 11639,\n",
       " ('biosphere3', 'e4e17609-7a80-455d-a4e3-88af8695f987'): 995,\n",
       " ('ecoinvent 3.3 cutoff', '7fd61e78be004d6d71c198a2c367cd1c'): 16771,\n",
       " ('ecoinvent 3.3 cutoff', '6fd3cc3495edd1062478e44ba7f42f51'): 7661,\n",
       " ('ecoinvent 3.3 cutoff', '90b4fdae69ad3d523c156e337a918458'): 16505,\n",
       " ('ecoinvent 3.3 cutoff', '6529f41000ff7046f98f3cdcd3c6dc84'): 13222,\n",
       " ('ecoinvent 3.3 cutoff', 'a76b9021e4ee840c5f76e29d9c347f9d'): 6455,\n",
       " ('ecoinvent 3.3 cutoff', '04b9269fe3a9b510db5965ccca63a1db'): 7248,\n",
       " ('biosphere3', 'c1ad9058-6019-4835-ab47-d3e3f35b94d9'): 735,\n",
       " ('ecoinvent 3.3 cutoff', 'ec5d0a0d2707c1315a037b10661c9ebc'): 11040,\n",
       " ('ecoinvent 3.3 cutoff', '25f30528374270cf4d0faef43997fece'): 5225,\n",
       " ('ecoinvent 3.3 cutoff', 'ec5fe99d85d91487afcddc7c9340619d'): 10265,\n",
       " ('ecoinvent 3.3 cutoff', '40894eab4cda3db4b07d684172c3e6fb'): 10659,\n",
       " ('ecoinvent 2.2', '6b0c6681ac310066cae566b27c9487cb'): 18778,\n",
       " ('ecoinvent 3.3 cutoff', '3297a2600cf48368b8c30a47513a04b6'): 12755,\n",
       " ('ecoinvent 3.3 cutoff', 'b6a95b54f2f3867abbc93c5952786b52'): 13550,\n",
       " ('ecoinvent 3.3 cutoff', 'ad904e744a318fc46a60dda62cb07705'): 16275,\n",
       " ('ecoinvent 3.3 cutoff', '5641663bcfb930ebace619b70d09b6b2'): 16844,\n",
       " ('ecoinvent 2.2', '26b95b8907651cf478a9136a5c9834b3'): 19460,\n",
       " ('ecoinvent 3.3 cutoff', '442c4af0d28c8bee6ccb3fe4bd12cc59'): 15180,\n",
       " ('biosphere3', '92ee2fc1-238c-465d-9887-418af42db9c7'): 924,\n",
       " ('ecoinvent 2.2', '6a61dcff126cda2d9910a4f5fe84a7e6'): 18235,\n",
       " ('ecoinvent 2.2', '42827f2aa807cc4dfcb58f8462d6c71b'): 18710,\n",
       " ('ecoinvent 3.3 cutoff', 'c29542f077e504b2305315e033c173c9'): 7221,\n",
       " ('biosphere3', 'f6e3282a-7111-49ca-bdc4-854b4b884d92'): 1113,\n",
       " ('ecoinvent 2.2', 'b43c9a5d17b5dd69da7f39e3786a7c5b'): 20071,\n",
       " ('ecoinvent 3.3 cutoff', 'f6913a268fdbca5f4fd9c92100df8d8c'): 6838,\n",
       " ('ecoinvent 3.3 cutoff', '5ae7d1cfe00c353001162505c0f176b4'): 6230,\n",
       " ('ecoinvent 3.3 cutoff', '43ad3ce829efba1d5c5a67bcfd889c38'): 11958,\n",
       " ('ecoinvent 3.3 cutoff', 'dc74159a499b718e0090536feb75eb5b'): 9348,\n",
       " ('ecoinvent 2.2', 'd652f253c1d687fba2ed91ce371f7db8'): 19217,\n",
       " ('ecoinvent 3.3 cutoff', '18379bdc4f9d0277b11017a006e9ac9f'): 16365,\n",
       " ('ecoinvent 3.3 cutoff', '0cf6d5e4ade60db3a1300cbdc4c51f74'): 7239,\n",
       " ('ecoinvent 3.3 cutoff', '86a1f8e465c5b8d7dba4343242e80ac6'): 11043,\n",
       " ('ecoinvent 3.3 cutoff', '2b987aeb34fbe690740e4ef350db6f0b'): 7631,\n",
       " ('ecoinvent 3.3 cutoff', 'cbcb432c1265958f87d9f8450c1e0481'): 10141,\n",
       " ('ecoinvent 3.3 cutoff', 'f20722ae1951c5699139e519d879e541'): 8158,\n",
       " ('ecoinvent 3.3 cutoff', '21a10515e2165e57095b390e31bf80b4'): 17386,\n",
       " ('ecoinvent 3.3 cutoff', '0ef2127a0a4ff68c03b815abc1891123'): 12348,\n",
       " ('ecoinvent 3.3 cutoff', '50e835dd89c5f4eae9f512462a3f665e'): 4297,\n",
       " ('ecoinvent 2.2', 'f7aa3c59a755d7323b87fe9849e89c01'): 20195,\n",
       " ('biosphere3', 'b79e26a0-88db-441f-b79b-508506e81b93'): 2979,\n",
       " ('ecoinvent 3.3 cutoff', 'be5650b652987deac2f23964c272c717'): 9130,\n",
       " ('ecoinvent 3.3 cutoff', '5a585872787970cfadf615b080f313cd'): 10932,\n",
       " ('ecoinvent 2.2', '4b64d09440bf8ef0b7a55e2ab4468d19'): 21446,\n",
       " ('ecoinvent 3.3 cutoff', '7b366848c9fb2cbacb66dc5208dfd061'): 17291,\n",
       " ('ecoinvent 3.3 cutoff', 'a3d4aa01e4bb5ef970a90fa94e31f8d2'): 4506,\n",
       " ('ecoinvent 3.3 cutoff', 'b09d2f7ad00543a54ce68a1cd5c50a87'): 4906,\n",
       " ('ecoinvent 3.3 cutoff', '306463642db66edce75f7fcc6575e267'): 16954,\n",
       " ('ecoinvent 3.3 cutoff', '6f1d8d9c14e57e973351fcf23ebec48c'): 7642,\n",
       " ('ecoinvent 3.3 cutoff', '3f6c660083c4e02a0c72e649ce7c4fbe'): 12221,\n",
       " ('ecoinvent 2.2', 'fc96b5fdd7c05a70bc8f58a2aad26ea7'): 18385,\n",
       " ('ecoinvent 3.3 cutoff', '2885fe0490b77417e70be683a1d9cf18'): 15863,\n",
       " ('ecoinvent 3.3 cutoff', 'aad2a8f11a00c946965c73e2b4203b9e'): 11133,\n",
       " ('ecoinvent 2.2', 'e4a930a8b71acaf43706ad0ddfebe9b8'): 20686,\n",
       " ('ecoinvent 2.2', '12413a56898fe688bfa2f09e7a31911b'): 18716,\n",
       " ('ecoinvent 3.3 cutoff', 'e2211dec1424b862ac358cf1a4b942d3'): 9528,\n",
       " ('ecoinvent 3.3 cutoff', 'b873049820bbf0568c3f04ced6a49d95'): 7031,\n",
       " ('ecoinvent 3.3 cutoff', 'b7b66306080d985631c50783a6880546'): 5337,\n",
       " ('ecoinvent 2.2', 'c9137d5b99b349255cccdebffb12a300'): 19306,\n",
       " ('ecoinvent 3.3 cutoff', '07b56f633131a0a2d14076970ac7b95f'): 6240,\n",
       " ('ecoinvent 3.3 cutoff', 'e0bd89ea687f9b72be395e33b82e15bd'): 8839,\n",
       " ('ecoinvent 3.3 cutoff', 'a3fe5da5c4df6d542458faa75023f445'): 8332,\n",
       " ('biosphere3', '1eaa9ea4-40b8-414a-b198-5626400372e1'): 544,\n",
       " ('biosphere3', '27f61651-96a5-45c7-9873-832626cf6905'): 276,\n",
       " ('ecoinvent 3.3 cutoff', 'cd24dd492db609c5bf1d992e2301644c'): 14855,\n",
       " ('ecoinvent 3.3 cutoff', 'd26a4a81a8ca5f9bfaecceea4a6f5831'): 9627,\n",
       " ('ecoinvent 2.2', 'ba0f90c72835f21b94603dbcd64f8b71'): 21855,\n",
       " ('ecoinvent 3.3 cutoff', '780811d0b7eb5eae3218c59e2b0ac46d'): 10211,\n",
       " ('ecoinvent 3.3 cutoff', '96008ab98b9a9fca8837af4b1adf2702'): 12580,\n",
       " ('ecoinvent 3.3 cutoff', '293c9f6562344d50a4dc526f0ff6d601'): 12021,\n",
       " ('ecoinvent 3.3 cutoff', '1317b6320b1d75c9f63b316d1e6f7aae'): 13110,\n",
       " ('ecoinvent 2.2', '0f2c1aad3e25d15fd111a8d72c31514e'): 18034,\n",
       " ('ecoinvent 3.3 cutoff', 'afac140960f586b929e878e49587b16a'): 13480,\n",
       " ('ecoinvent 3.3 cutoff', 'b1bfb791a5e49443c20f4d3dbb5889aa'): 10608,\n",
       " ('ecoinvent 3.3 cutoff', '9fc612d7c5fe302ff138a70714821803'): 13833,\n",
       " ('ecoinvent 3.3 cutoff', '8480ecd7e3afab9c97653caa9017a846'): 11680,\n",
       " ('ecoinvent 3.3 cutoff', '8f7e211f11d6dd5d14603c6e98c3f5d4'): 6874,\n",
       " ('ecoinvent 3.3 cutoff', '561f31c8b0b60c2811483690851f1ddd'): 12273,\n",
       " ('ecoinvent 2.2', '4e7e96c32462c9ebb8d86d6e9422e3ba'): 19091,\n",
       " ('biosphere3', '0e6489b3-cfcf-4563-9064-67637fc455de'): 2725,\n",
       " ('ecoinvent 3.3 cutoff', 'b6ab8073ff1d2bf7d3aaead0c005014c'): 15218,\n",
       " ('ecoinvent 3.3 cutoff', 'da843f24ee413770f3f80dfd8ebf6433'): 11212,\n",
       " ('ecoinvent 3.3 cutoff', 'd8f59d780a80d1b551914a4ad80a910e'): 8488,\n",
       " ('ecoinvent 2.2', 'a1a4bc672d7ba2b36546953c5203b6dd'): 18725,\n",
       " ('ecoinvent 3.3 cutoff', 'e5272825ed696a575fa7122b3d5299b1'): 9272,\n",
       " ('ecoinvent 3.3 cutoff', '638e68df20698ab52d8d91b3c731b1d2'): 14497,\n",
       " ('biosphere3', 'e1615e9d-73cb-416e-9c46-f7f1822e3232'): 1504,\n",
       " ('ecoinvent 3.3 cutoff', '9d12a45328380b344e911a6c1178db05'): 11061,\n",
       " ('ecoinvent 3.3 cutoff', '9a79784b217fd4d7698f89bf53ff0e0f'): 6773,\n",
       " ('ecoinvent 3.3 cutoff', '77e3f896e7ebb6daee944fbc9e68afe0'): 12436,\n",
       " ('ecoinvent 2.2', '5af6814eaf7c4b66945827af8bd1c58b'): 18475,\n",
       " ('ecoinvent 3.3 cutoff', '342f33148866774caceb102230e7335f'): 16185,\n",
       " ('ecoinvent 3.3 cutoff', 'e1917173c7255992993fccae1f062cc3'): 7560,\n",
       " ('biosphere3', 'b2dc8668-86de-4207-b20e-dc81dea63c98'): 1068,\n",
       " ('biosphere3', 'b1fedd38-0f13-4baa-a6e9-ccc453e5b2f5'): 1462,\n",
       " ('ecoinvent 2.2', 'bab89b852f0e06fd203ef9ea0bb88279'): 19244,\n",
       " ('biosphere3', '3b30d058-02ef-4ed2-b357-5fc1a45c63e7'): 1803,\n",
       " ('ecoinvent 2.2', '80b4c16b57f367c8e23f0fb048887287'): 18763,\n",
       " ('ecoinvent 3.3 cutoff', 'd59d288ce8db44f3374e30068cd9abd0'): 11965,\n",
       " ('biosphere3', '9a891f6c-937c-4226-9702-4a552973ae3f'): 1768,\n",
       " ('ecoinvent 3.3 cutoff', '670e15f7308463668fbb6e93f9ab0ebe'): 15319,\n",
       " ('ecoinvent 2.2', 'dc49dd145754216f3bbd9221acfee374'): 20330,\n",
       " ('ecoinvent 2.2', 'e6f1e32ee5bc84c61018088ba73ab0c8'): 18093,\n",
       " ('ecoinvent 3.3 cutoff', '5dde1809faeeb716dcd7f1e16049eb0a'): 9184,\n",
       " ('ecoinvent 3.3 cutoff', '5a8ccd995726ea4b58ee99be46bda9b1'): 6204,\n",
       " ('biosphere3', 'd40b90a8-c469-41ec-b5ea-f80386859a82'): 2169,\n",
       " ('ecoinvent 3.3 cutoff', 'd6b71adf217638d093c7ea28b2f3c7bd'): 7278,\n",
       " ('biosphere3', '3e07d825-a98e-4cdc-afa3-610fa7739261'): 25,\n",
       " ('ecoinvent 3.3 cutoff', '491c00d247153e92e53197afa009ab2b'): 8330,\n",
       " ('ecoinvent 3.3 cutoff', 'a65ae366ff8524dd73f43334be224dd7'): 13984,\n",
       " ('ecoinvent 3.3 cutoff', 'b84a19170b36c1b12ce326513a78e10f'): 10402,\n",
       " ('ecoinvent 3.3 cutoff', 'ab92886970fdbf3df1d992e87fa52f44'): 15668,\n",
       " ('biosphere3', '8f6f8a9b-a240-4f27-82e8-99340be4918f'): 1080,\n",
       " ('ecoinvent 3.3 cutoff', '00b9f14ed616c50a61a9c3da09e23791'): 9006,\n",
       " ('biosphere3', 'd22d803d-a281-4821-8a6c-e79b75641eae'): 3134,\n",
       " ('ecoinvent 3.3 cutoff', '3f8b9f42fb8bbe1f2fe61231681a8c79'): 14354,\n",
       " ('ecoinvent 2.2', '25fd9c88831c33fc0a8896b00be2b0c5'): 21716,\n",
       " ('ecoinvent 2.2', 'f44be3673bf175d31235f983d57b8a2d'): 21219,\n",
       " ('ecoinvent 3.3 cutoff', 'fbbb97c8c06b1e1bf8d55d96130871df'): 15448,\n",
       " ('ecoinvent 3.3 cutoff', '049561e33ad1ae0a2cac6ce74bece9e1'): 10438,\n",
       " ('ecoinvent 3.3 cutoff', 'b2ba6837dd7805b5f27d2a5eb3c0ff67'): 16246,\n",
       " ('ecoinvent 3.3 cutoff', '6b0ef39ecbd39a5929622ab794927c04'): 4159,\n",
       " ('biosphere3', 'e142b577-e934-4085-9a07-3983d4d92afb'): 1818,\n",
       " ('ecoinvent 3.3 cutoff', 'f505da60cee056d2e7400407ebdd76c6'): 14680,\n",
       " ('ecoinvent 3.3 cutoff', 'bab8caaead90a459172080ff127ec0c0'): 8126,\n",
       " ('ecoinvent 3.3 cutoff', 'be03d9a3c2a39fff39fa6e58080ab0ed'): 8383,\n",
       " ('ecoinvent 3.3 cutoff', 'ca22e35668f04106859f87b49bbcd189'): 12749,\n",
       " ('ecoinvent 3.3 cutoff', 'a637cdf6b15b1d1b4c690d4d57310420'): 15695,\n",
       " ('ecoinvent 3.3 cutoff', '7ab7e8b9b4d854c4e477ffecd15349a0'): 4408,\n",
       " ('ecoinvent 3.3 cutoff', 'cd8ba5d324b78687f12fdd6e9b722f11'): 4368,\n",
       " ('ecoinvent 2.2', 'a568e17d4ed4656dc93cd65567fd8004'): 18259,\n",
       " ('ecoinvent 2.2', 'e775673d2690538f11bbf16c9265370c'): 19768,\n",
       " ('ecoinvent 3.3 cutoff', '7bca770cd250e22c76d9c2a692bf9c1c'): 6096,\n",
       " ('ecoinvent 3.3 cutoff', '3fbc1d4e9f0dcc5954e0081c5475f7a8'): 9789,\n",
       " ('ecoinvent 3.3 cutoff', 'f4f354626f8aad07dba07fd9d8f9ddbb'): 14132,\n",
       " ('biosphere3', 'a88305cb-b50a-45fe-9646-f83fb2798b89'): 2280,\n",
       " ('ecoinvent 3.3 cutoff', '0a749bafe0e850ceeffe160720c3b1c8'): 8838,\n",
       " ('ecoinvent 2.2', '030b6ab6ab27a942935ea81ef1be3dd8'): 18875,\n",
       " ('ecoinvent 3.3 cutoff', '8706bb415c721a93a618d780b78e7cab'): 9711,\n",
       " ('ecoinvent 2.2', '61fdbb843da6a1e291ccaf5206f9f74d'): 18846,\n",
       " ('ecoinvent 3.3 cutoff', '6c316f9f8fd40e097b8f0ff3733fa000'): 17827,\n",
       " ('ecoinvent 3.3 cutoff', '543457153ce4cbea4a0201286145e53a'): 12005,\n",
       " ('ecoinvent 3.3 cutoff', '1c04a48029c83470a62d81dfb0fe16c7'): 17390,\n",
       " ('ecoinvent 3.3 cutoff', '2f290bd5cc6162e85fd1aba0ce1cff3d'): 12889,\n",
       " ('ecoinvent 3.3 cutoff', '6fa823ee7deb4da5565677b854647f36'): 5862,\n",
       " ('ecoinvent 3.3 cutoff', '6b44a3e130fa8df9f49320b15f389b0d'): 17250,\n",
       " ('ecoinvent 3.3 cutoff', 'cbf7e5e558a8c82eb29d284a4ba5fb22'): 14222,\n",
       " ('ecoinvent 3.3 cutoff', '7130051e1306978c568b3969bc5ba0fd'): 13884,\n",
       " ('ecoinvent 3.3 cutoff', '97338b668fafe72da284f74d040beb39'): 9139,\n",
       " ('ecoinvent 3.3 cutoff', '91a5c2e8c5f7e159c0dbfe60f388e38a'): 15458,\n",
       " ('biosphere3', 'ce2ceed1-2503-4566-8175-f4456dbac42b'): 1111,\n",
       " ('ecoinvent 3.3 cutoff', '461ecc3e7a9e95d859effa61f89748fa'): 17087,\n",
       " ('biosphere3', '57af157e-2054-407d-949b-8cc9c2aa4655'): 3603,\n",
       " ('ecoinvent 3.3 cutoff', 'a62ba4ba654af92ae3c134fcc6fc2089'): 6340,\n",
       " ('ecoinvent 3.3 cutoff', 'beffef6d9f456d852c3032af8eb91124'): 14448,\n",
       " ('ecoinvent 2.2', '59924d0a7aef135ee9ec450de04b8516'): 21411,\n",
       " ('ecoinvent 2.2', 'a07001ccafeff2b6bda3a98f8ddf4ff7'): 19796,\n",
       " ('ecoinvent 2.2', 'e91f0fe4a65bd4c444320a8726f68872'): 19208,\n",
       " ('ecoinvent 2.2', '368c08d09275ece6a3710f6d754ff11b'): 20334,\n",
       " ('ecoinvent 3.3 cutoff', 'dfe51fdc3cfd8da740b66bbee4f8b414'): 10850,\n",
       " ('ecoinvent 3.3 cutoff', '1f56521b28cb42b749d6cd742d83d0ad'): 17243,\n",
       " ('ecoinvent 3.3 cutoff', '8b514d0113e20c01711757e63f98af42'): 13020,\n",
       " ('biosphere3', '52a00fec-4289-485c-a56e-380de43e1b97'): 573,\n",
       " ('ecoinvent 3.3 cutoff', '11f632c012c20a77f82543bb2132bd69'): 5051,\n",
       " ('ecoinvent 3.3 cutoff', '3f623aeb11c32b9bd57bf3deb7f00210'): 17072,\n",
       " ('ecoinvent 3.3 cutoff', '5fdb9da2713d48c0d3fa22741cc445aa'): 16280,\n",
       " ('biosphere3', 'e1c597cc-14cb-4ebb-af07-7a93a5b77d34'): 2440,\n",
       " ('ecoinvent 3.3 cutoff', '25e08123a2c6460bce9767a7c4dfb2fd'): 10676,\n",
       " ('biosphere3', '591b0a62-8064-4697-86ed-47bfa1f8b5e6'): 3461,\n",
       " ('ecoinvent 3.3 cutoff', 'b42bca5a8a793ea71c325ea9b6081d79'): 16139,\n",
       " ('biosphere3', '7ae3e6e8-75e6-4566-b18f-6d848086c4e5'): 386,\n",
       " ('ecoinvent 3.3 cutoff', '7c1ac05a479bbf515a9f80f111430b53'): 5203,\n",
       " ('biosphere3', 'd9008a06-991c-4acc-a33e-5483ffd2491e'): 336,\n",
       " ('ecoinvent 3.3 cutoff', 'f270f70d3b6952b17990a552e2a41f3a'): 5139,\n",
       " ('ecoinvent 2.2', 'd6dc77e5dc4723c1f9bbb7d4fb7251cb'): 21733,\n",
       " ('ecoinvent 3.3 cutoff', '0907dca5300d94caed97a2e0427322c6'): 14361,\n",
       " ('ecoinvent 2.2', '75744716eccd02bf7df6cfcd102e9ab3'): 18426,\n",
       " ('ecoinvent 2.2', '75edccf63cdcae3221c7ea1dfddc1152'): 20052,\n",
       " ('ecoinvent 3.3 cutoff', '1f6f62f89be0c0d8941418fae35b8b76'): 9969,\n",
       " ('ecoinvent 3.3 cutoff', '420ff4eeb1d96d373fc4a328716f02a3'): 8326,\n",
       " ('ecoinvent 3.3 cutoff', '03c5d14ba4768d740a0bc0d444d214f3'): 7323,\n",
       " ('biosphere3', 'd73b27a2-81bd-4264-baa5-ce4aca3545be'): 3333,\n",
       " ('biosphere3', '519cd5d5-19f5-4684-9b12-41a7a9f5645b'): 2354,\n",
       " ('ecoinvent 2.2', '89053159ee02ccdf84e19f8c74749d53'): 18045,\n",
       " ('ecoinvent 3.3 cutoff', '57d5e58969e6e008fa7feb712aa0d312'): 8783,\n",
       " ('ecoinvent 2.2', '8ac3c4e4cf08e849e11741842c010af9'): 20343,\n",
       " ('ecoinvent 3.3 cutoff', '427ea5254fd64bedbe65f14e8db1a1bb'): 12879,\n",
       " ('biosphere3', '72958cbe-6609-46c2-bbfa-ee4ab826ca12'): 3918,\n",
       " ('ecoinvent 3.3 cutoff', '4d28f9514bea7a1a8ddbf1755c4af3be'): 14978,\n",
       " ('ecoinvent 3.3 cutoff', 'e9faf8b1a1541c0ffb2680adbb8abb3b'): 15756,\n",
       " ('ecoinvent 3.3 cutoff', '6136695580884a3aadee898c9050c48b'): 14257,\n",
       " ('ecoinvent 2.2', '28ea5186c775a4686307f9c555afc2eb'): 20035,\n",
       " ('ecoinvent 3.3 cutoff', 'b4634d83e4504772ad3ab1f55537c190'): 12261,\n",
       " ('ecoinvent 2.2', 'a2edda519cf3f4ad841739100f92e4fe'): 18922,\n",
       " ('ecoinvent 3.3 cutoff', '232b3e3cda7670147a5963067173cb7d'): 11903,\n",
       " ('ecoinvent 2.2', '4ccb493852b7d4b691be5eb5de188e17'): 21436,\n",
       " ('ecoinvent 2.2', 'cb3e93f0fc3bba78da4235bda41843f6'): 21550,\n",
       " ('ecoinvent 3.3 cutoff', '5050c667b8f9ace0464347b77ef3116d'): 6613,\n",
       " ('biosphere3', '22524a35-32c0-482a-82f7-49724ad1c595'): 1140,\n",
       " ('ecoinvent 3.3 cutoff', 'f924dc53454a40ee277c55a1942b406c'): 17765,\n",
       " ('ecoinvent 3.3 cutoff', '855a83210c2ad226281ca72dd3d1286e'): 15962,\n",
       " ('biosphere3', '0cdaaa7e-3c23-419d-8ad5-12dc93c2e1e3'): 1902,\n",
       " ('ecoinvent 3.3 cutoff', 'ba7885fff2148b08d49411aae81e7c58'): 6533,\n",
       " ('ecoinvent 2.2', 'ac5ad57713527fa82e759ca2324e10b6'): 18384,\n",
       " ('ecoinvent 3.3 cutoff', '9bfabddbbac6cda568da6788b181009c'): 13318,\n",
       " ('ecoinvent 3.3 cutoff', 'fc27bc2c2c17f1bdc62aa07ca9bc5c15'): 4503,\n",
       " ('ecoinvent 3.3 cutoff', '298b6198f0311deb2283c58f66642ad6'): 16465,\n",
       " ('biosphere3', '42901ad7-4be5-47d9-82cd-380ca34281c1'): 608,\n",
       " ('ecoinvent 3.3 cutoff', '0095ec32925dca4056fb80fad58526e8'): 10584,\n",
       " ('ecoinvent 3.3 cutoff', '1c17aeae1fe7f6bda53fc41298c62d35'): 9339,\n",
       " ('ecoinvent 2.2', 'bba9db02d23070b992488cef0d86a0cb'): 19655,\n",
       " ('ecoinvent 3.3 cutoff', '1326ff5447e16547aca91ee8e495a1e4'): 12593,\n",
       " ('ecoinvent 2.2', '6cd9955f1e8ac04acaba93574c18f383'): 20763,\n",
       " ('ecoinvent 2.2', 'ca9f9c6bb546af2dfdbdc9284011a92e'): 19455,\n",
       " ('biosphere3', '2ffd03dc-a8df-467d-a362-b1f9f3136abc'): 931,\n",
       " ('ecoinvent 2.2', 'ffbf5719871437c3312ee15056db3824'): 21721,\n",
       " ('ecoinvent 2.2', '1fbacf6c3e06c10dc52f263a88e31a10'): 18079,\n",
       " ('ecoinvent 3.3 cutoff', '48938d6370d8d35dc9d24b81e93738e3'): 15544,\n",
       " ('biosphere3', 'd21da01e-f96f-4db5-9746-7b70db8a1f2c'): 3298,\n",
       " ('biosphere3', '30533fd3-b19c-44fc-9a88-fb6b12409b47'): 835,\n",
       " ('ecoinvent 3.3 cutoff', '6fbd9e7a75e86729f0aac996b414723e'): 8450,\n",
       " ('ecoinvent 3.3 cutoff', 'f908c9941b17375cf4fcf9efde5fabe7'): 10867,\n",
       " ('ecoinvent 3.3 cutoff', '7a058bf2facc9d41f0b221bd68898e7c'): 13527,\n",
       " ('ecoinvent 3.3 cutoff', '51c0a7a8e3eab490eb470b142251b09e'): 8987,\n",
       " ('ecoinvent 3.3 cutoff', 'f182f3f4b9b84b84df88c43f798cb060'): 5886,\n",
       " ('biosphere3', 'aa87ecd1-b103-4f43-b8dc-d44785c43fd4'): 3273,\n",
       " ('ecoinvent 3.3 cutoff', '24fee8adcab460c8ef6f78fa955b76fc'): 7151,\n",
       " ('ecoinvent 3.3 cutoff', '7e92303ced1ff83883acc7e151983413'): 10770,\n",
       " ('ecoinvent 3.3 cutoff', '87e5b09b1f8896f33577121a0e8a3db3'): 8744,\n",
       " ('biosphere3', '8c888d2b-d608-4dac-bad5-1c2a17050838'): 1813,\n",
       " ('ecoinvent 3.3 cutoff', '0fad51fe25bb0db3d024f5a9e2bce171'): 17050,\n",
       " ('ecoinvent 3.3 cutoff', '0fae736e243d8e6dfaf3b3cdd50b4e0c'): 8712,\n",
       " ('ecoinvent 3.3 cutoff', '087613481651985aa3d4435f864915f3'): 17115,\n",
       " ('ecoinvent 3.3 cutoff', '6a9e8383834ee9f10899bfba4b52f0de'): 17848,\n",
       " ('biosphere3', '007de693-1d9e-40a5-a8b4-3d11bce8be9a'): 483,\n",
       " ('ecoinvent 2.2', 'e4506d9d34ec1b1e07b8e8c567715c04'): 21565,\n",
       " ('ecoinvent 3.3 cutoff', '9bf3324acabdc02b819bae3d72b90fbe'): 13022,\n",
       " ('biosphere3', 'b9291c72-4b1d-4275-8068-4c707dc3ce33'): 3908,\n",
       " ('ecoinvent 3.3 cutoff', '375d3b4eecc58e0f0964e92a7f1c8b78'): 9142,\n",
       " ('ecoinvent 3.3 cutoff', 'c48324b0792cfc7f26d053a10370dcb1'): 15103,\n",
       " ('ecoinvent 3.3 cutoff', '0b301198f8ea0051aeb9ed788fe2f263'): 15312,\n",
       " ('ecoinvent 2.2', '1f8bcae3afa5f388e561d50d8f2183f6'): 21306,\n",
       " ('biosphere3', '7f6cdfb5-f4ec-458f-9e57-c7e6849cfe99'): 3592,\n",
       " ('ecoinvent 3.3 cutoff', '62e103cac88e7d5955e046e769bd775d'): 17419,\n",
       " ('ecoinvent 2.2', '37cc44924c5d5ac221e900e9e701a4aa'): 19778,\n",
       " ('ecoinvent 2.2', '74f12366f684bbea33281e218dc789d8'): 19573,\n",
       " ('ecoinvent 3.3 cutoff', '77be4d4dcb1bf347ce0bceb907599e29'): 6659,\n",
       " ('ecoinvent 3.3 cutoff', 'd852f1c01638f324c902eb8a6d613359'): 11359,\n",
       " ('ecoinvent 3.3 cutoff', 'd98e7e50338613385ac73e7bee4c8b38'): 11576,\n",
       " ('ecoinvent 3.3 cutoff', 'a5cb485c67d749547443fc9d0b07b642'): 5867,\n",
       " ('biosphere3', '3d3321d4-8082-4e31-a4be-6c9789f8701d'): 4004,\n",
       " ('ecoinvent 3.3 cutoff', '0d5f9369821585f83e21f72971c016f5'): 8813,\n",
       " ('ecoinvent 3.3 cutoff', '82a9dbe446bfdc72a25f9e19a48e6901'): 15089,\n",
       " ('ecoinvent 3.3 cutoff', 'b3654bb562c09a0e5a6482cc7c2698a3'): 13125,\n",
       " ('ecoinvent 3.3 cutoff', '55a55980b72e57c8d7944e405cb51db6'): 8421,\n",
       " ('ecoinvent 3.3 cutoff', '5e52f16da8737a9185a733ad5e4010a6'): 12567,\n",
       " ('ecoinvent 3.3 cutoff', '55625d4ccefdacc7bc7edacc21bcce08'): 13211,\n",
       " ('ecoinvent 3.3 cutoff', 'b23e2c7b76af40d3493bf91dca1c4ec3'): 8431,\n",
       " ('ecoinvent 3.3 cutoff', 'b62cb21dbc0716a6c71a2ecf94392855'): 14931,\n",
       " ('biosphere3', '113746e5-66a9-4d8c-b72b-4a99e7fcd052'): 3867,\n",
       " ('biosphere3', '82688564-c9d5-43ab-876e-1eb16fd97130'): 392,\n",
       " ('ecoinvent 2.2', '4f16486f9b399c3827cbe9eb832121d4'): 18164,\n",
       " ('biosphere3', '525f6850-5f34-447c-9132-cde666d12b52'): 3192,\n",
       " ('ecoinvent 3.3 cutoff', '2838df40afd46a1b3f77d6255f4c5313'): 9109,\n",
       " ('ecoinvent 3.3 cutoff', '13fd47fe25f940ec2e72d8aa4f2d5c55'): 13594,\n",
       " ('ecoinvent 3.3 cutoff', '5068a15ae86c01adb76a6360ab771b8e'): 11554,\n",
       " ('ecoinvent 3.3 cutoff', 'dfea2473a4c5b53e532f7c17fb06acf7'): 9459,\n",
       " ('ecoinvent 3.3 cutoff', '6fee26f8227c439240774da307dd7379'): 4651,\n",
       " ('ecoinvent 3.3 cutoff', '34ae8493696c9c9a468e5f54024728e2'): 8264,\n",
       " ('biosphere3', 'd68ebacc-8799-48f8-aab6-d366b851690b'): 3207,\n",
       " ('ecoinvent 3.3 cutoff', '9896f45b70159b84f0395619ed74cbc3'): 15010,\n",
       " ('ecoinvent 3.3 cutoff', '07b07b95a9fd189a1606dc7b2799bf69'): 11910,\n",
       " ('ecoinvent 3.3 cutoff', '1c7c286f78ac55423ebed19f65ad96ec'): 11256,\n",
       " ('biosphere3', 'e5cbe371-d33e-46ef-a832-a176f5e28520'): 3363,\n",
       " ('ecoinvent 3.3 cutoff', '77f2747e9d470987676d7649cfb4aa86'): 12496,\n",
       " ('ecoinvent 3.3 cutoff', '175c497bc83fa460e33311d36c870284'): 4109,\n",
       " ('ecoinvent 3.3 cutoff', '7a5927462ad307f73ac39f90248ddb0d'): 13244,\n",
       " ('biosphere3', '981ea86a-b527-4e29-b092-f16d2cd57e45'): 1858,\n",
       " ('ecoinvent 3.3 cutoff', 'b6f75c994769c9f6e37af0ca3f22ce2c'): 16292,\n",
       " ('ecoinvent 2.2', '52fa7e0b87ad636edc47b09919866c4c'): 19282,\n",
       " ('ecoinvent 3.3 cutoff', '9ba5ec5ec2155b3f7bcb73afb5502beb'): 6386,\n",
       " ('ecoinvent 3.3 cutoff', '0258141f2c1cb182988817af8c591667'): 9805,\n",
       " ('ecoinvent 3.3 cutoff', 'da6dfad22f8255616bd9f812a6d4f5fb'): 5635,\n",
       " ('biosphere3', '1b4810ed-4537-4cca-83ef-5af8a04668a7'): 105,\n",
       " ('ecoinvent 2.2', '0b6c382a101ff0ec787cba76c0bef4e9'): 21696,\n",
       " ('ecoinvent 3.3 cutoff', '532a6060a42d97dd7e38552887c03222'): 17259,\n",
       " ('ecoinvent 3.3 cutoff', '552745771c22e6c0ac38c6a1ffed45a7'): 6084,\n",
       " ('ecoinvent 3.3 cutoff', 'd2050d3db4ce2285d4c5eed821fa6107'): 9132,\n",
       " ('ecoinvent 3.3 cutoff', 'b40011e870bcd74067d4ac8f52ce3b33'): 16909,\n",
       " ('biosphere3', 'fbd71c32-a7ce-4e35-a0c0-b52f2b84a772'): 3664,\n",
       " ('biosphere3', '80c83d84-1aad-489a-9c7f-1d65b7f84f45'): 516,\n",
       " ('biosphere3', 'b411ec8b-c60a-4235-a3b2-8bf8443cbc55'): 1129,\n",
       " ('ecoinvent 3.3 cutoff', '8f3d61eb90c6145e0ebf4e5e8f563f1f'): 16697,\n",
       " ('ecoinvent 2.2', '13e0a189dfa35b88fd773a1c32ee373a'): 20727,\n",
       " ('ecoinvent 3.3 cutoff', 'a82d15adb73033fc02178775637d1b63'): 6237,\n",
       " ('ecoinvent 3.3 cutoff', '636970154f90b0bea2de4a382a5fc62a'): 7776,\n",
       " ('biosphere3', 'aaa7a82f-7d09-48ed-8f08-8eb3c7eeb928'): 1231,\n",
       " ('ecoinvent 3.3 cutoff', '6fc3d103f9c6ae37c896ebf915606349'): 5450,\n",
       " ('biosphere3', '82f5987e-39bf-4055-8f4e-ea3a1882306f'): 1717,\n",
       " ('ecoinvent 3.3 cutoff', '8b8d556a38efb7e575a42f615b48b057'): 11675,\n",
       " ('ecoinvent 2.2', 'dff3f43f132a0ad5f6884b32ec89a550'): 19906,\n",
       " ('ecoinvent 3.3 cutoff', '529e320a912b98be6f947460e79614ae'): 11839,\n",
       " ('ecoinvent 3.3 cutoff', 'e93feeaf5a1cd14d96064cf4eaab5ccb'): 14944,\n",
       " ('ecoinvent 3.3 cutoff', '8977cfc7f56049ac15dbd6c2ad05ebbc'): 13702,\n",
       " ('ecoinvent 3.3 cutoff', 'a893196d93740b7c0cae8d739f6c5e4d'): 9502,\n",
       " ('ecoinvent 3.3 cutoff', '73c30eefa4656e6cee323d6ae75d932e'): 9712,\n",
       " ('ecoinvent 3.3 cutoff', '831d52c6b6e7bdd14a65cf800119f452'): 7608,\n",
       " ('ecoinvent 3.3 cutoff', '8b02a4c49e19b2b74341d623fcb081db'): 14613,\n",
       " ('ecoinvent 2.2', 'c4eb63bad7aad2467caa614bd4631c46'): 18566,\n",
       " ('biosphere3', '8dba66e2-0f2e-4038-84ef-1e40b4f573a6'): 697,\n",
       " ('ecoinvent 3.3 cutoff', '761e0ab17cbe8d64a0f99034ec21b8b8'): 14002,\n",
       " ('ecoinvent 3.3 cutoff', '00f2e8eb02f1e9ad4941f83b89e09c16'): 8449,\n",
       " ('biosphere3', '6eebb3c4-306f-4dc4-afb1-2c8fdf0c64ff'): 2306,\n",
       " ('ecoinvent 2.2', '2bdaca11e8122c845c4901462d43c5de'): 18337,\n",
       " ('ecoinvent 3.3 cutoff', '0ab54597e6211c0da02cc0367feb2169'): 4629,\n",
       " ('ecoinvent 3.3 cutoff', '9a35005c5f37bbb1e95c4dbe9ccd7e6d'): 7276,\n",
       " ('ecoinvent 3.3 cutoff', 'e56292c1d1c411564813faf22629ffb4'): 8606,\n",
       " ('ecoinvent 2.2', 'a40e5b4e92c07323885064880c76d4cc'): 21372,\n",
       " ('ecoinvent 3.3 cutoff', 'a8c7afade3a2eb87fe3bf4e60ee48525'): 12708,\n",
       " ('ecoinvent 2.2', '0ccb7253b217513787f46d278941df80'): 21591,\n",
       " ('biosphere3', 'cf2cfb56-f662-45cc-b124-3917573c37c0'): 4009,\n",
       " ('ecoinvent 2.2', 'a25560e7db3b31824ae401dfad367a19'): 20772,\n",
       " ('ecoinvent 3.3 cutoff', 'd907fd8d78c7047bc0716f7109fec6b2'): 14475,\n",
       " ('ecoinvent 3.3 cutoff', 'eae8c2ac26508517c2078a583282acd8'): 13788,\n",
       " ('ecoinvent 3.3 cutoff', 'ef4272ca86e6304f7d829788f1600426'): 16803,\n",
       " ('ecoinvent 3.3 cutoff', '1d56ad4f80600cfbbb87c4b8ffe2687f'): 5727,\n",
       " ('ecoinvent 3.3 cutoff', '03fd67091bf2a72b1bfb9103a705f7f3'): 9877,\n",
       " ('biosphere3', '16bb633b-6a05-4f1a-8bab-9f4c121df099'): 3129,\n",
       " ('ecoinvent 2.2', 'e69c4e182265e809a409c4f8fecf91fc'): 21382,\n",
       " ('ecoinvent 3.3 cutoff', '9d81aa33d862961ca816c57621f048ee'): 6132,\n",
       " ('biosphere3', '37c36adc-7728-4081-81f3-6cc2da7c9f9f'): 3953,\n",
       " ('ecoinvent 3.3 cutoff', '39f09d9e7290a63d032d1f7f69dcd13f'): 10057,\n",
       " ('ecoinvent 3.3 cutoff', '81b6162c95fa1a62c45384ef5f46f7d5'): 10386,\n",
       " ('ecoinvent 3.3 cutoff', '702c1322e3ca6e8c09bb45693325ce02'): 7383,\n",
       " ('ecoinvent 3.3 cutoff', 'ddb0e9bc1326da6a2d3da95df801091c'): 13569,\n",
       " ('ecoinvent 2.2', 'ca63f831b2ceccd010e0cf9a7c38f477'): 21689,\n",
       " ('ecoinvent 3.3 cutoff', '2ead9b26a6a76d1f9c9dffd7112afc58'): 9704,\n",
       " ('ecoinvent 3.3 cutoff', '76bb87560c898ad1b0c522f8730c54e1'): 8698,\n",
       " ('ecoinvent 2.2', '6047cb1c23efc177abda371738fdfb83'): 20813,\n",
       " ('ecoinvent 3.3 cutoff', '6403bb55e9e45e746357d5dcadff785c'): 11491,\n",
       " ('ecoinvent 3.3 cutoff', '041024fbbc3797d62566cf477dbfe858'): 10264,\n",
       " ('biosphere3', 'a6889a22-e99e-42ea-85cd-4a68d7975dcd'): 1042,\n",
       " ('ecoinvent 3.3 cutoff', '30d00fc8019856b34c300de7d7966cab'): 8822,\n",
       " ('ecoinvent 2.2', 'd3a759193d6c88a621fe6491716bd14e'): 18900,\n",
       " ('ecoinvent 3.3 cutoff', 'a63df59570638a0b2b3421c4d94b2adb'): 10209,\n",
       " ('ecoinvent 2.2', 'ccea1db53b4ad3be020eb42278f15de7'): 19489,\n",
       " ('biosphere3', '5d830756-4153-4cc9-ade4-69f8c19e150f'): 3149,\n",
       " ('ecoinvent 2.2', '65cea441147255d7a8c87a9487e93500'): 19022,\n",
       " ('ecoinvent 3.3 cutoff', '928822f81bdfb0f965bb7d2755c09a28'): 17533,\n",
       " ('ecoinvent 2.2', 'ea992d30cf35f3e8512eb963b907a94b'): 21209,\n",
       " ('ecoinvent 3.3 cutoff', '8d17af860c8b03785ead851146ea0d8e'): 7314,\n",
       " ('ecoinvent 3.3 cutoff', 'c27e659791134a475ccefb785be78724'): 7501,\n",
       " ('ecoinvent 3.3 cutoff', 'cfc030e933cf3a8f170b40671292a47b'): 12061,\n",
       " ('biosphere3', '08ebf986-d40a-4538-8aa7-21da2f99edf7'): 2732,\n",
       " ('ecoinvent 2.2', '315200b2a15fd31fa6a5882f9d47231c'): 21355,\n",
       " ('ecoinvent 2.2', '18a6c30e6eacc495800a9cc011349d52'): 19078,\n",
       " ('biosphere3', '432a3326-73f8-4752-bc4d-06b7b4b1243c'): 1550,\n",
       " ('biosphere3', '6366d4ec-5ffc-4488-be51-0c239cdf535d'): 2900,\n",
       " ('ecoinvent 3.3 cutoff', '47fd6c462834410f5e8ebd8adc3d79df'): 15001,\n",
       " ('ecoinvent 2.2', 'b22e0524c43f2e55f97dbdeb39101728'): 20930,\n",
       " ('ecoinvent 3.3 cutoff', '68374279f91c944da2bad7a30b9adddf'): 7183,\n",
       " ('biosphere3', '23dedce6-fc17-4ae8-9b91-6c0dca431adc'): 1686,\n",
       " ('ecoinvent 2.2', '1e81d6df5644b1c07cb902c0515358f6'): 21263,\n",
       " ('ecoinvent 3.3 cutoff', 'b5169cd15cdee8dfe3eb688fa1f58da4'): 17551,\n",
       " ('ecoinvent 3.3 cutoff', '36ef8dea70556ee2cc7bf64c15399884'): 12119,\n",
       " ('ecoinvent 3.3 cutoff', 'b780793c0d5bc4b16d9e0c03d6adb4b6'): 9657,\n",
       " ('ecoinvent 2.2', '41503496c7b33dbbac1e7ebb72e84732'): 20622,\n",
       " ('biosphere3', 'fe4613d7-1ed8-427d-9b06-c8e8f4f5e1b1'): 2668,\n",
       " ('ecoinvent 3.3 cutoff', '595da194278c3ee7a1721604c839477c'): 8455,\n",
       " ('biosphere3', '31a3e44c-4098-461e-aba2-f79540e05087'): 1847,\n",
       " ('ecoinvent 3.3 cutoff', '7362a9c31534cb89be4eb94b381ef1ce'): 14069,\n",
       " ('ecoinvent 3.3 cutoff', '8dc4cd7bb1341dde6a4469e37c42e0f7'): 8978,\n",
       " ('ecoinvent 3.3 cutoff', 'de205f78d709e0eb2b2a3758e4da50b6'): 16807,\n",
       " ('ecoinvent 3.3 cutoff', 'fe83fdcf38cf7bccf539cc7d81b1f90d'): 15240,\n",
       " ('biosphere3', '4ddc40ac-2b6a-4f7f-8f8a-db439b443263'): 3709,\n",
       " ('ecoinvent 3.3 cutoff', '5a67a47679035584acb87881368e82ff'): 7874,\n",
       " ('ecoinvent 3.3 cutoff', '072a5e17c937332f7afdf704412f005e'): 4692,\n",
       " ('ecoinvent 2.2', '3339927995484a719ac12282b693d3ee'): 18299,\n",
       " ('ecoinvent 3.3 cutoff', 'f07e259c9657827d53cd103f89d6a6c2'): 6029,\n",
       " ('ecoinvent 3.3 cutoff', 'f46f82fc0ed9f9d06bab6a10610eea01'): 6174,\n",
       " ('ecoinvent 3.3 cutoff', 'fb72263fa806d69d66cb5be5619ae5b4'): 8045,\n",
       " ('ecoinvent 3.3 cutoff', 'dc7902b7be115a5f924c1cad8b7128a6'): 6641,\n",
       " ('ecoinvent 2.2', 'ad8ab46c4b059f785540daf9c299271f'): 19582,\n",
       " ('ecoinvent 3.3 cutoff', '03580644b82946fb67ea7e02fc0cb190'): 5794,\n",
       " ('ecoinvent 3.3 cutoff', 'de45df6870b891036595301ec72bee89'): 15297,\n",
       " ('ecoinvent 3.3 cutoff', '0ffef4cb556835f045e7ed1e8ec56c47'): 15449,\n",
       " ('biosphere3', '714958de-a211-4a3c-8dce-848ccb79b094'): 1395,\n",
       " ('ecoinvent 2.2', '449ebada18cfc86032df677ad1bb99bd'): 19381,\n",
       " ('biosphere3', 'a76cf135-2be1-4e53-9423-9211acd100f1'): 795,\n",
       " ('ecoinvent 3.3 cutoff', '91153e00a4705df55c5a15a5780bfeda'): 14450,\n",
       " ('biosphere3', '20664d0e-24e3-4daa-8c5c-2ade6e0c2723'): 1372,\n",
       " ('ecoinvent 3.3 cutoff', '393e21c9a61c7db4c759c17921e98b11'): 9660,\n",
       " ('ecoinvent 2.2', '4d8adc58598689d9e85ad82596236f5e'): 20286,\n",
       " ('ecoinvent 3.3 cutoff', '11789b48ccd309f0f2a2e7eaf54b1739'): 6723,\n",
       " ('biosphere3', '02eb30a8-ed7c-456b-a1fe-2cdffea4fb8d'): 651,\n",
       " ('ecoinvent 3.3 cutoff', '19d985539d445ca8d7469b1496a2745f'): 12367,\n",
       " ('ecoinvent 3.3 cutoff', '1fc6683cc1284b9a3ceca09e654d56e3'): 5657,\n",
       " ('ecoinvent 3.3 cutoff', '73bbea6f569312b18f8fecb0add84fd6'): 4035,\n",
       " ('ecoinvent 3.3 cutoff', '3c98244fa105351668a21bec2f16c161'): 6948,\n",
       " ('ecoinvent 3.3 cutoff', '1fcaf8f713f4f125f0dc143c8538a6ea'): 4338,\n",
       " ('ecoinvent 3.3 cutoff', 'c11c553ff1614e64bd1db288e0239b43'): 11582,\n",
       " ('ecoinvent 3.3 cutoff', 'fd6697dcda2fce7f1aca7c3bcb6450d5'): 8457,\n",
       " ('ecoinvent 3.3 cutoff', '2306dcd7232425a1435e971ccfad065b'): 16070,\n",
       " ('biosphere3', 'e3a77fe9-4fa1-4977-93cf-3495b355817f'): 341,\n",
       " ('ecoinvent 3.3 cutoff', '737886f33d627c8aa13f9a145f26da79'): 4098,\n",
       " ('biosphere3', '7847f01b-edfa-4957-85f5-78983331b4bb'): 2615,\n",
       " ('ecoinvent 3.3 cutoff', '2296e0a85bab254f137f86b72da78f61'): 9444,\n",
       " ('ecoinvent 3.3 cutoff', '759d542d0769e38ec8fed8a0b9e2ce05'): 17642,\n",
       " ('biosphere3', 'b4f9a201-2a20-4f41-a572-eabc98c75e1b'): 748,\n",
       " ('biosphere3', '55640730-a22e-4972-8709-f05c560b2d8b'): 3568,\n",
       " ('ecoinvent 3.3 cutoff', 'e1ed5723bb1bbf67e7ada00f9e0a8440'): 9235,\n",
       " ('biosphere3', '7ee1a767-185e-444b-913d-6acbfdbab3bd'): 762,\n",
       " ('ecoinvent 3.3 cutoff', '24429fdbe00b186c4594b3b006801433'): 4855,\n",
       " ('ecoinvent 3.3 cutoff', 'e0f692d52191042b944eeec68a08be45'): 17511,\n",
       " ('ecoinvent 3.3 cutoff', 'f9a97b7c0385362a7fa450edaf0febfc'): 11934,\n",
       " ('ecoinvent 3.3 cutoff', 'e3154793086b5d97744f8697210e855e'): 9481,\n",
       " ('biosphere3', '641ba62d-63a4-451c-bff0-aa5c08965393'): 2266,\n",
       " ('ecoinvent 2.2', '93f48d57e68ddae5add65ef2803d983b'): 18535,\n",
       " ('biosphere3', 'ccc38b36-b24f-4630-a8b1-27eccb0b2dfc'): 1433,\n",
       " ('biosphere3', '23cb10a4-6228-4ce4-9fb5-7043bc31faec'): 656,\n",
       " ('ecoinvent 3.3 cutoff', 'ff62bf7cccca06c039b8fa9402cd5348'): 4145,\n",
       " ('ecoinvent 3.3 cutoff', '51037253429476129d9b9f9811b4648f'): 16162,\n",
       " ('ecoinvent 3.3 cutoff', '6153684875d52375046e53fbbde6c8e5'): 7042,\n",
       " ('ecoinvent 3.3 cutoff', '88353544b1fb0dd1949f6bf25b7307c0'): 4200,\n",
       " ('ecoinvent 3.3 cutoff', 'dad29f7842e70acc5cbc06943f49cbd2'): 17647,\n",
       " ('ecoinvent 2.2', '55b28dba2a6ac987088bb146d869770f'): 21378,\n",
       " ('ecoinvent 3.3 cutoff', '88aa98c81c1cd2b297b27f40a6b806f7'): 12305,\n",
       " ('biosphere3', 'ca793a60-fdf5-4e53-9d75-b279d4a7e7c4'): 3634,\n",
       " ('ecoinvent 3.3 cutoff', 'cd51bcdfa7cdc5b7b44543c55d0f8f3f'): 12313,\n",
       " ('biosphere3', '9e7d019f-c8c0-4631-9bbb-ced3e081c90d'): 1873,\n",
       " ('ecoinvent 2.2', '36e614cbb689e041ab8caf00a433a5f6'): 19365,\n",
       " ('ecoinvent 2.2', '51396e0cc6d4ba2b3b53ae891deeebf4'): 19099,\n",
       " ('ecoinvent 2.2', '50bf89b7155c929594719d054eaad931'): 18751,\n",
       " ('ecoinvent 3.3 cutoff', '3b1355438eb115601ad5b56aaaf95aa5'): 6574,\n",
       " ('ecoinvent 3.3 cutoff', '52b015734e1a8199d7dac679fea64bcb'): 7263,\n",
       " ('ecoinvent 3.3 cutoff', '1d7c2780f382af01b2ab1cc10df7939c'): 12084,\n",
       " ...}"
      ]
     },
     "execution_count": 156,
     "metadata": {},
     "output_type": "execute_result"
    }
   ],
   "source": [
    "pickle.load(open(os.path.join(project_dir, 'mapping.pickle'), 'rb'))"
   ]
  },
  {
   "cell_type": "markdown",
   "metadata": {},
   "source": [
    "  - `row` and `col`store *dummy* placeholder information about the location of the parameter in the matrices. \n",
    "  - the `type` indicates whether the exchange is a reference flow (`type`=0), technosphere exchange (`type`=1) or elementary flow (`type`=2).  \n",
    "  - the other columns deal with uncertainty data. We'll cover that later, but one can always read about these columns in the [`stats_arrays` documentation](http://stats-arrays.readthedocs.io/en/latest/)"
   ]
  },
  {
   "cell_type": "markdown",
   "metadata": {},
   "source": [
    "When the `.lci()` method is called, the structured arrayas are used to build matrices. The code responsible to do this is in the [`MatrixBuilder` class methods](https://bitbucket.org/cmutel/brightway2-calc/src/105e24e2d803c96773651ed73c43d850f9c23548/bw2calc/matrices.py?at=default&fileviewer=file-view-default). \n",
    "\n",
    "The method `MatrixBuilder.build_dictionary` is used to take input and output values, respectively, and figure out which rows and columns they correspond to. The actual code is succinct - only one line - but what it does is:\n",
    "  - Get all unique values, as each value will appear multiple times\n",
    "  - Sort these values\n",
    "  - Give them integer indices, starting with zero\n",
    "This information on row and column indices is sufficient to build matrices. These matrices are build in a [COOrdinate sparse matrix](https://docs.scipy.org/doc/scipy/reference/generated/scipy.sparse.coo_matrix.html) format, where, for each exchange, three values are required: row position, column position, and amount (the actual value). The sparse matrices are actually stored in [CSR format](https://docs.scipy.org/doc/scipy/reference/generated/scipy.sparse.csr_matrix.html#scipy.sparse.csr_matrix), but this is a detail.  \n",
    "\n",
    "Some more details are are found [here](https://docs.brightwaylca.org/lca.html#building-matrices).  "
   ]
  },
  {
   "cell_type": "markdown",
   "metadata": {},
   "source": [
    "Let's now finally run the `.lci()`."
   ]
  },
  {
   "cell_type": "code",
   "execution_count": 167,
   "metadata": {
    "collapsed": true
   },
   "outputs": [],
   "source": [
    "myFirstLCA.lci()"
   ]
  },
  {
   "cell_type": "markdown",
   "metadata": {},
   "source": [
    "Here's what the structured arrays *now* look like:  "
   ]
  },
  {
   "cell_type": "code",
   "execution_count": 163,
   "metadata": {
    "collapsed": false
   },
   "outputs": [
    {
     "data": {
      "text/html": [
       "<div>\n",
       "<table border=\"1\" class=\"dataframe\">\n",
       "  <thead>\n",
       "    <tr style=\"text-align: right;\">\n",
       "      <th></th>\n",
       "      <th>input</th>\n",
       "      <th>output</th>\n",
       "      <th>row</th>\n",
       "      <th>col</th>\n",
       "      <th>type</th>\n",
       "      <th>uncertainty_type</th>\n",
       "      <th>amount</th>\n",
       "      <th>loc</th>\n",
       "      <th>scale</th>\n",
       "      <th>shape</th>\n",
       "      <th>minimum</th>\n",
       "      <th>maximum</th>\n",
       "      <th>negative</th>\n",
       "    </tr>\n",
       "  </thead>\n",
       "  <tbody>\n",
       "    <tr>\n",
       "      <th>0</th>\n",
       "      <td>3</td>\n",
       "      <td>17912</td>\n",
       "      <td>0</td>\n",
       "      <td>51</td>\n",
       "      <td>2</td>\n",
       "      <td>2</td>\n",
       "      <td>6.005100e-03</td>\n",
       "      <td>-5.115146</td>\n",
       "      <td>0.808276</td>\n",
       "      <td>NaN</td>\n",
       "      <td>NaN</td>\n",
       "      <td>NaN</td>\n",
       "      <td>False</td>\n",
       "    </tr>\n",
       "    <tr>\n",
       "      <th>1</th>\n",
       "      <td>3</td>\n",
       "      <td>17932</td>\n",
       "      <td>0</td>\n",
       "      <td>71</td>\n",
       "      <td>2</td>\n",
       "      <td>2</td>\n",
       "      <td>4.151800e-07</td>\n",
       "      <td>-14.694553</td>\n",
       "      <td>0.231867</td>\n",
       "      <td>NaN</td>\n",
       "      <td>NaN</td>\n",
       "      <td>NaN</td>\n",
       "      <td>False</td>\n",
       "    </tr>\n",
       "    <tr>\n",
       "      <th>2</th>\n",
       "      <td>3</td>\n",
       "      <td>17935</td>\n",
       "      <td>0</td>\n",
       "      <td>74</td>\n",
       "      <td>2</td>\n",
       "      <td>2</td>\n",
       "      <td>1.420000e-11</td>\n",
       "      <td>-24.977779</td>\n",
       "      <td>1.667885</td>\n",
       "      <td>NaN</td>\n",
       "      <td>NaN</td>\n",
       "      <td>NaN</td>\n",
       "      <td>False</td>\n",
       "    </tr>\n",
       "    <tr>\n",
       "      <th>3</th>\n",
       "      <td>3</td>\n",
       "      <td>18062</td>\n",
       "      <td>0</td>\n",
       "      <td>201</td>\n",
       "      <td>2</td>\n",
       "      <td>2</td>\n",
       "      <td>9.109600e-11</td>\n",
       "      <td>-23.119106</td>\n",
       "      <td>0.804719</td>\n",
       "      <td>NaN</td>\n",
       "      <td>NaN</td>\n",
       "      <td>NaN</td>\n",
       "      <td>False</td>\n",
       "    </tr>\n",
       "    <tr>\n",
       "      <th>4</th>\n",
       "      <td>3</td>\n",
       "      <td>18123</td>\n",
       "      <td>0</td>\n",
       "      <td>262</td>\n",
       "      <td>2</td>\n",
       "      <td>2</td>\n",
       "      <td>1.530000e-08</td>\n",
       "      <td>-17.995413</td>\n",
       "      <td>1.033431</td>\n",
       "      <td>NaN</td>\n",
       "      <td>NaN</td>\n",
       "      <td>NaN</td>\n",
       "      <td>False</td>\n",
       "    </tr>\n",
       "  </tbody>\n",
       "</table>\n",
       "</div>"
      ],
      "text/plain": [
       "   input  output  row  col  type  uncertainty_type        amount        loc  \\\n",
       "0      3   17912    0   51     2                 2  6.005100e-03  -5.115146   \n",
       "1      3   17932    0   71     2                 2  4.151800e-07 -14.694553   \n",
       "2      3   17935    0   74     2                 2  1.420000e-11 -24.977779   \n",
       "3      3   18062    0  201     2                 2  9.109600e-11 -23.119106   \n",
       "4      3   18123    0  262     2                 2  1.530000e-08 -17.995413   \n",
       "\n",
       "      scale  shape  minimum  maximum negative  \n",
       "0  0.808276    NaN      NaN      NaN    False  \n",
       "1  0.231867    NaN      NaN      NaN    False  \n",
       "2  1.667885    NaN      NaN      NaN    False  \n",
       "3  0.804719    NaN      NaN      NaN    False  \n",
       "4  1.033431    NaN      NaN      NaN    False  "
      ]
     },
     "execution_count": 163,
     "metadata": {},
     "output_type": "execute_result"
    }
   ],
   "source": [
    "pd.DataFrame(myFirstLCA.bio_params).head(5) # Technosphere parameters are at myFirstLCA.tech_params"
   ]
  },
  {
   "cell_type": "markdown",
   "metadata": {},
   "source": [
    "We see that the row and col numbers are no longer dummy variables, but that they actually have real matrix indices."
   ]
  },
  {
   "cell_type": "markdown",
   "metadata": {},
   "source": [
    "#### Dictionaries that map between incides and activities"
   ]
  },
  {
   "cell_type": "markdown",
   "metadata": {},
   "source": [
    "One of the useful things that the `MatrixBuilder` produces are `dictionaries` that map row and column numbers to the keys of activities.  There are three such dictionaries, all directly accessible as attributes of the LCA object:\n",
    " - `activity_dict`: Columns in the technosphere matrix $A$ or biosphere matrix $B$\n",
    " - `product_dict` : Rows in the technosphere matrix $A$  \n",
    " - `biosphere_dict`: Rows in the biosphere matrix $B$"
   ]
  },
  {
   "cell_type": "markdown",
   "metadata": {},
   "source": [
    "Here what this dictionary looks like:"
   ]
  },
  {
   "cell_type": "code",
   "execution_count": 173,
   "metadata": {
    "collapsed": false
   },
   "outputs": [
    {
     "data": {
      "text/plain": [
       "{('ecoinvent 2.2', '9f6149b4ba7276bad53b445a1676c5fd'): 3197,\n",
       " ('ecoinvent 2.2', '0b244b122424eea7f1c087290cf9a474'): 842,\n",
       " ('ecoinvent 2.2', '4170fb0d4eff0e8861bc5efcba0311d7'): 497,\n",
       " ('ecoinvent 2.2', '96b383a4f490545bebb50aa5b7f138b1'): 3464,\n",
       " ('ecoinvent 2.2', '54b8a18dacd6e72c04902187253a3db4'): 638,\n",
       " ('ecoinvent 2.2', 'af8acee61af7cb550618734edb0946dd'): 3502,\n",
       " ('ecoinvent 2.2', '9a65855698a45c74081ed496485de4d1'): 3014,\n",
       " ('ecoinvent 2.2', '17057d57bbf4ac1bc56f46fe158885ae'): 2411,\n",
       " ('ecoinvent 2.2', '0645000eaaa45327a850a3a2520b634c'): 382,\n",
       " ('ecoinvent 2.2', 'b5f2304d9018914fb6bab3ea9c987deb'): 1509,\n",
       " ('ecoinvent 2.2', 'c817114feee1418b7ed69d860f9caa00'): 947,\n",
       " ('ecoinvent 2.2', 'e3771a7e38cc43b02ed68b96601e1fad'): 569,\n",
       " ('ecoinvent 2.2', '66cbe1c14993153f15c09ab517ea1162'): 3794,\n",
       " ('ecoinvent 2.2', 'cdb298cdc72ae9257d9069d168debad0'): 344,\n",
       " ('ecoinvent 2.2', 'c11f86776dc1a15bc60a7460ae8957c7'): 1118,\n",
       " ('ecoinvent 2.2', 'f421cb8cc34c4e37a272bbe196bb8ac3'): 274,\n",
       " ('ecoinvent 2.2', '89f1ec197f2fdbdcaaceccc9859747cc'): 1379,\n",
       " ('ecoinvent 2.2', '95b4baa61531984b7eed62346a5aff99'): 1648,\n",
       " ('ecoinvent 2.2', '337f34ea97fc47a598779591db4e15d2'): 3741,\n",
       " ('ecoinvent 2.2', 'e8d55c942055f92c8948ba7780ef1821'): 2688,\n",
       " ('ecoinvent 2.2', '02c32b9e2c36098f72889f7815a80751'): 3681,\n",
       " ('ecoinvent 2.2', '8fe48924118ae97b7a1c3d7c62faa3f6'): 2621,\n",
       " ('ecoinvent 2.2', 'aac6675a68292ef82fa4273631381318'): 3011,\n",
       " ('ecoinvent 2.2', 'f3cdeaf85de97250a4555f90375bb3f6'): 872,\n",
       " ('ecoinvent 2.2', 'c74564f34821dfd931e873365f3b3f57'): 1770,\n",
       " ('ecoinvent 2.2', 'abdc8125abba51189de07696dae86260'): 340,\n",
       " ('ecoinvent 2.2', '857a0c838b2e5fd4eca13b9e5e2a36d2'): 1790,\n",
       " ('ecoinvent 2.2', '32a7544c0cd6ee14e71be0d557d9f268'): 468,\n",
       " ('ecoinvent 2.2', '2f38a2c94b975060ba95580dcd6fca1d'): 1369,\n",
       " ('ecoinvent 2.2', '49c266d745ff98f741697b5ae975904c'): 1012,\n",
       " ('ecoinvent 2.2', '11991ec3e54f4e4dd1d530eb64952181'): 715,\n",
       " ('ecoinvent 2.2', 'd99b7a72a9ec9559d6008bd1ebd87030'): 1787,\n",
       " ('ecoinvent 2.2', '16c320807bfc93c739da73f520cae9d2'): 3850,\n",
       " ('ecoinvent 2.2', 'fad06fab1eb8fe54454b90c48470aa3f'): 2301,\n",
       " ('ecoinvent 2.2', '4bcad7c7ddceb13dc3082011a39e4331'): 3843,\n",
       " ('ecoinvent 2.2', '7516d45fd0d14703287aee2ee3da4dce'): 537,\n",
       " ('ecoinvent 2.2', 'ba4dac90d1292071fdd0476e486ab562'): 2441,\n",
       " ('ecoinvent 2.2', '72c660ef72ea07cddc9b8ec9a400689a'): 3228,\n",
       " ('ecoinvent 2.2', '1b3c80b39e7e975dc2a29f60afebe343'): 3877,\n",
       " ('ecoinvent 2.2', '4441ef116636260b40b8ac64677af19b'): 3317,\n",
       " ('ecoinvent 2.2', '9fa7ac035bbc14d5984f05620f59b403'): 21,\n",
       " ('ecoinvent 2.2', 'da8df3f20c60232f88fe373051b3f05e'): 3515,\n",
       " ('ecoinvent 2.2', '62df6ff54dc0e74e80f3ebfbb5f97024'): 2772,\n",
       " ('ecoinvent 2.2', '150c7ffbf01fb9298a676bd24dce5932'): 1596,\n",
       " ('ecoinvent 2.2', '1c1c3bd85c2b2e3acbb323a1869c12d3'): 3139,\n",
       " ('ecoinvent 2.2', 'd1fa3d4e699d875d637327f2802154c3'): 423,\n",
       " ('ecoinvent 2.2', '31b33f565b63ae01e6174e5d9ff72459'): 82,\n",
       " ('ecoinvent 2.2', 'd9de961ff6e825ba5457940c32200eb5'): 3928,\n",
       " ('ecoinvent 2.2', '3555c27380b505a5952ad629ddb727ae'): 2484,\n",
       " ('ecoinvent 2.2', '5b7d74b339f9601bbd7b1fd67f8a8520'): 2279,\n",
       " ('ecoinvent 2.2', '7f5e1f6c66835d36a518392467ad3bba'): 3408,\n",
       " ('ecoinvent 2.2', '35cff4b3d144c0fbbc154e447889bebb'): 72,\n",
       " ('ecoinvent 2.2', '61a056939335209b534c0ae4e6529ec1'): 1224,\n",
       " ('ecoinvent 2.2', 'fe51f0c761c8d6bdf7b6cf7cb8c416e5'): 1245,\n",
       " ('ecoinvent 2.2', 'c5bc73b26eea72588640973b57566136'): 1636,\n",
       " ('ecoinvent 2.2', '140007ca11519df54e8322f79c527f96'): 2935,\n",
       " ('ecoinvent 2.2', '9bc7d848252300b5fb37c683841f3a3d'): 2766,\n",
       " ('ecoinvent 2.2', '93f7c25847fdfa818f8a3cde1c6383b6'): 193,\n",
       " ('ecoinvent 2.2', '9f0c7d6c75ea8cc6d7ae4b0ae009b2ce'): 1084,\n",
       " ('ecoinvent 2.2', '9ed5ae7f5838114196ba5bf5731c4921'): 1108,\n",
       " ('ecoinvent 2.2', '1f7c69c0a53818319b2d78ab7481a29a'): 2000,\n",
       " ('ecoinvent 2.2', '8dbdd5e1b556c665205729868c0e34c2'): 913,\n",
       " ('ecoinvent 2.2', 'd8ccf80332adf50809b0f673715e3df0'): 276,\n",
       " ('ecoinvent 2.2', '5116c358d1dcb96d9cf91983e942b0f2'): 2113,\n",
       " ('ecoinvent 2.2', 'a2c52476db3c14db8ca05d0596ad408d'): 3562,\n",
       " ('ecoinvent 2.2', '2a2dd82a59b8b60d0cc0064c1d2c5cfb'): 955,\n",
       " ('ecoinvent 2.2', '0be4cb933e05caedf672df702541d39e'): 3685,\n",
       " ('ecoinvent 2.2', '8b4332bf7d33bf6b0c0921cc617c1f66'): 1843,\n",
       " ('ecoinvent 2.2', 'ecece53f3e97431e2f2525073c79b034'): 594,\n",
       " ('ecoinvent 2.2', '40f961a947c2fdae8cf3832d69384fb7'): 2073,\n",
       " ('ecoinvent 2.2', '2dbe2517870adb235444a59732ba66c4'): 3244,\n",
       " ('ecoinvent 2.2', '2f6cc9e25e8311d196ead8f0e54beeba'): 1455,\n",
       " ('ecoinvent 2.2', 'a972189429b7e2672a36265df9cfeed2'): 478,\n",
       " ('ecoinvent 2.2', '0e37d1050d812a9a6a65f818e18d8a83'): 2159,\n",
       " ('ecoinvent 2.2', '5147d2adb38804271fc69bf9a7477723'): 2472,\n",
       " ('ecoinvent 2.2', '489ef3bdb7c07e91aaa53ac2ab229d2f'): 3703,\n",
       " ('ecoinvent 2.2', '3a8ce3ce07bb2db776eb4ac0d4a10f54'): 1699,\n",
       " ('ecoinvent 2.2', '10079a773c38f48c29d34d8aed0f3493'): 3624,\n",
       " ('ecoinvent 2.2', '2b4aa8b26a8893ef85ce07f79b3eb759'): 2369,\n",
       " ('ecoinvent 2.2', 'cda8d5f8f0e90ead04199bd3ee2176d6'): 2016,\n",
       " ('ecoinvent 2.2', 'fbc3b161e96c7dcf4b8e6b718cbd3e00'): 1167,\n",
       " ('ecoinvent 2.2', 'f55b545dc3c6104c5665900530a890a7'): 3934,\n",
       " ('ecoinvent 2.2', 'ca4bf2b65147e38b77dd161fa11046f4'): 2011,\n",
       " ('ecoinvent 2.2', '0d0a0130796faf4b173e2844b9e0a03c'): 2586,\n",
       " ('ecoinvent 2.2', '45560bd9874552d2aebc61d1d7adc69e'): 2242,\n",
       " ('ecoinvent 2.2', '7af9f6c24f783bcc241acbe4bdf9bd98'): 8,\n",
       " ('ecoinvent 2.2', '16baf2ecf1a51b5dd05d850777f23059'): 1715,\n",
       " ('ecoinvent 2.2', '41fff434dd1775d6189e787b062b4440'): 1899,\n",
       " ('ecoinvent 2.2', '33aa2f1f19b1a9924daf873efc8ff62c'): 833,\n",
       " ('ecoinvent 2.2', '83b72ab6c1be852d0d0dafe4c4a6f09f'): 3284,\n",
       " ('ecoinvent 2.2', 'a661f2fdd387d32f45b063695f27caf6'): 3093,\n",
       " ('ecoinvent 2.2', '43b16215d6842826e9e82bb129a81693'): 1221,\n",
       " ('ecoinvent 2.2', '92e3e4af1124d05fab29904361785fab'): 1833,\n",
       " ('ecoinvent 2.2', '833385939ab964b838bf2ed9fbb64be8'): 2776,\n",
       " ('ecoinvent 2.2', '0b267f4dbfa479c80a9d61957b536092'): 1137,\n",
       " ('ecoinvent 2.2', '07c2134e79a1f117f99aac0931746403'): 435,\n",
       " ('ecoinvent 2.2', 'a5ab9a6ea3b255567e9a7f352fbeb45d'): 3908,\n",
       " ('ecoinvent 2.2', '91e47dc6b5effe2f7f02424f5b704b4c'): 2018,\n",
       " ('ecoinvent 2.2', '84ffa04a5b2514f78b3e729c7e14b48f'): 3257,\n",
       " ('ecoinvent 2.2', 'b4e9c504a4b7f6fd2cbfbb8c1917b996'): 1389,\n",
       " ('ecoinvent 2.2', '020183e36764db049d9721254ae15429'): 2320,\n",
       " ('ecoinvent 2.2', 'fbb3762c85ff07e05ef2688fd186da29'): 3937,\n",
       " ('ecoinvent 2.2', '32e167558e34fff1254d3299f34672a1'): 2528,\n",
       " ('ecoinvent 2.2', 'e9d7589a63d88011bec2c7797d02b9bf'): 896,\n",
       " ('ecoinvent 2.2', 'ceceaf7b1f319c2b640727edf5a12939'): 2130,\n",
       " ('ecoinvent 2.2', '31a9cd5af74bb58f4b3039fb27267578'): 3036,\n",
       " ('ecoinvent 2.2', 'c5f4986ef954fdbe48f1b6969d0b05f0'): 3846,\n",
       " ('ecoinvent 2.2', 'aa9e2e30b8a18a067ab6ba68fd5a707b'): 3956,\n",
       " ('ecoinvent 2.2', 'b228e1c551503037310aa5d264b2c2b6'): 4072,\n",
       " ('ecoinvent 2.2', '424aaa98d41b3b29d15c98baef15625e'): 3626,\n",
       " ('ecoinvent 2.2', '53144c404a9551372f71beb92e762c49'): 3339,\n",
       " ('ecoinvent 2.2', '577f563c7e4d25322b72a23a9823c5ff'): 677,\n",
       " ('ecoinvent 2.2', '7f5124d44d95990a38e28144d6614abe'): 2027,\n",
       " ('ecoinvent 2.2', 'ae84b372d3ce07196bae9f815eb41b7a'): 144,\n",
       " ('ecoinvent 2.2', '98b5f1eee799bac2ae26d543500c2ae2'): 1109,\n",
       " ('ecoinvent 2.2', 'b8a0fd858bb3d84f2fad9bb8975daebd'): 3789,\n",
       " ('ecoinvent 2.2', '26f80b4fec7fc2b8991ee86d1cb428d5'): 2799,\n",
       " ('ecoinvent 2.2', 'ec1df7b00b0237a999c0a7e8445f59eb'): 3863,\n",
       " ('ecoinvent 2.2', '913d668a8ff8ba028d94be12cae6077e'): 3893,\n",
       " ('ecoinvent 2.2', '37655decb0256e840a2522854f915e7d'): 1586,\n",
       " ('ecoinvent 2.2', 'b269ffe95da0cbb5bc988a8c10bf1e66'): 2824,\n",
       " ('ecoinvent 2.2', 'ab3b67de78d36f54a6ce71827b5e8031'): 2798,\n",
       " ('ecoinvent 2.2', '81ac54ef23b1847803416f7f42cb9edf'): 1390,\n",
       " ('ecoinvent 2.2', '6021bf6bc991f64f8f74d31439a99a68'): 943,\n",
       " ('ecoinvent 2.2', '52dbdd7972a4215a67113817eaf2db0b'): 3217,\n",
       " ('ecoinvent 2.2', 'acc95e22bd01075813366396b725ca20'): 3955,\n",
       " ('ecoinvent 2.2', '0ce36de661eedafed3f51d07cfe948eb'): 2656,\n",
       " ('ecoinvent 2.2', '487038475f4b6c8ce50a7c9342342854'): 2585,\n",
       " ('ecoinvent 2.2', 'd9f7ad8e631dbd7e80d83b8e5ae86920'): 63,\n",
       " ('ecoinvent 2.2', 'c6c92548ef48ce622f07a5bcd676f451'): 3177,\n",
       " ('ecoinvent 2.2', 'c5e907d254ba7eadb8c752fd9278817f'): 4071,\n",
       " ('ecoinvent 2.2', 'ba7cd9eb9a865604d247c8a71a0cadf1'): 2813,\n",
       " ('ecoinvent 2.2', '7edd1d986d0a363710d53dd39419bb21'): 3017,\n",
       " ('ecoinvent 2.2', 'dd171ee1879c027389e2e5de23f04c9a'): 751,\n",
       " ('ecoinvent 2.2', 'bd5fb2df9e96b96502c6564fa61f0897'): 3422,\n",
       " ('ecoinvent 2.2', '174a2edef613358056aefed69fd6c318'): 908,\n",
       " ('ecoinvent 2.2', '34b5d8d967f0d67e8e040dc519e0820f'): 2490,\n",
       " ('ecoinvent 2.2', 'c178255fd36a43c262af444e01a34393'): 1646,\n",
       " ('ecoinvent 2.2', '831a0c32f536d91a673c70ed5a79bc37'): 845,\n",
       " ('ecoinvent 2.2', '161c3f9d89821a60cbad555dd1d6de8f'): 246,\n",
       " ('ecoinvent 2.2', '3058969ef6af164d7966d49bc9e48d04'): 813,\n",
       " ('ecoinvent 2.2', '3822bd04b32439aa3d9f7593a0236702'): 3369,\n",
       " ('ecoinvent 2.2', '66754a2c77362224eba0ae23bc2a5a11'): 2605,\n",
       " ('ecoinvent 2.2', 'c3e248898d8329f06e7d1254a3c29495'): 2440,\n",
       " ('ecoinvent 2.2', '9170e3b9c0e8bfe152cfc377632bc9bb'): 1982,\n",
       " ('ecoinvent 2.2', '43850ec4f9004e13d0963381f05b36b5'): 244,\n",
       " ('ecoinvent 2.2', 'c6e1730a06d66ac3336d3aa046089d68'): 2466,\n",
       " ('ecoinvent 2.2', '7929e3a29edbcc92092e2724acfb6ebc'): 3667,\n",
       " ('ecoinvent 2.2', '4621444e16ec1d9a6f67ce6d4c970a46'): 1894,\n",
       " ('ecoinvent 2.2', '99ae2e382061a822c4706627ac33401b'): 93,\n",
       " ('ecoinvent 2.2', 'efcaaf7490e832b187aac8c0ae9316d4'): 1952,\n",
       " ('ecoinvent 2.2', '4776ffd88d35ab6c6fce40859a2e055b'): 1605,\n",
       " ('ecoinvent 2.2', '63c1275c5b93a6d03d409ec2ebdf4e91'): 2885,\n",
       " ('ecoinvent 2.2', 'f0b82806aab24e5bdbe299805fac613e'): 1962,\n",
       " ('ecoinvent 2.2', '40423b8d6eb6be8dacb96999a7438aea'): 2755,\n",
       " ('ecoinvent 2.2', 'a0c3a49ac524be49238da9a693e349e2'): 1836,\n",
       " ('ecoinvent 2.2', '0f8e174ca82f0bb1f460819d66a96802'): 2953,\n",
       " ('ecoinvent 2.2', 'efff3485ee101c62c44d432b0d4ff766'): 942,\n",
       " ('ecoinvent 2.2', '761302471befb86c0552736a675621ad'): 2850,\n",
       " ('ecoinvent 2.2', 'd6fb062536e888e95560c2e630348618'): 1996,\n",
       " ('ecoinvent 2.2', 'bc5b81042c2d626ea2ec6d12afae9c6e'): 1578,\n",
       " ('ecoinvent 2.2', '9536954d07ad233df648aedf652d3dc2'): 3310,\n",
       " ('ecoinvent 2.2', '62809e7de7c07cd5e9241ff7fa062a43'): 3332,\n",
       " ('ecoinvent 2.2', '530458fedc279c3413342b6922c0ae1b'): 3537,\n",
       " ('ecoinvent 2.2', '245842dd6fb08a7a470a566429b57e28'): 1632,\n",
       " ('ecoinvent 2.2', '1f0b5a307aad7d4c9435c12f10cd81cb'): 2653,\n",
       " ('ecoinvent 2.2', 'e4893371f5469963009fe8d651b3ff89'): 2315,\n",
       " ('ecoinvent 2.2', 'affb5f4897e5e2ef2741de5f7b552bdd'): 1462,\n",
       " ('ecoinvent 2.2', '7a0e5678ca2c1bfaee7c1912614f9931'): 2746,\n",
       " ('ecoinvent 2.2', 'c379086c689c3c0dd19555ed7d099cec'): 1928,\n",
       " ('ecoinvent 2.2', 'ebebea81d4baaaccae0fcae76938b757'): 3248,\n",
       " ('ecoinvent 2.2', 'cc064979c3b04412e756e2ca4f4f1732'): 487,\n",
       " ('ecoinvent 2.2', '3ee42e231a742a2562f2a940d9631b02'): 1120,\n",
       " ('ecoinvent 2.2', '05b6f8a075e9b74ed1a6a2e4b434f746'): 2868,\n",
       " ('ecoinvent 2.2', '06285390cd1d99e677af6ab8752b1f44'): 1342,\n",
       " ('ecoinvent 2.2', '5763416b734f9ffcaaf926166fa7a122'): 240,\n",
       " ('ecoinvent 2.2', 'e1d5fd9c27f0eecb5863b1ec7a47b6fd'): 1943,\n",
       " ('ecoinvent 2.2', 'e715f0ade7a53c7900b7c667037ac15e'): 1486,\n",
       " ('ecoinvent 2.2', '8e9dabf2e1c701ae554416f7e9104adc'): 3135,\n",
       " ('ecoinvent 2.2', '0a9f2faf5d4bf293aa45b63a5d5e3972'): 2640,\n",
       " ('ecoinvent 2.2', '5e60d0febe195d5991de454e9ab551ab'): 1945,\n",
       " ('ecoinvent 2.2', 'decdbac26d1cf16e691be75d6db197e0'): 3380,\n",
       " ('ecoinvent 2.2', '6233fbdd312a3af1b2a4b28de9ebe524'): 1343,\n",
       " ('ecoinvent 2.2', '40b33f2df726b174dec5fd2dcf3b3a83'): 2579,\n",
       " ('ecoinvent 2.2', '2bc3351ef8c2251b1515d166d51ad2c2'): 3453,\n",
       " ('ecoinvent 2.2', '2db14c979a3b06bdeb0f5cd32bbf9c0c'): 991,\n",
       " ('ecoinvent 2.2', '432f08b9fc514c2b1caa3bfa492128b6'): 555,\n",
       " ('ecoinvent 2.2', '0734bdde5a3d0979e4826ac11c2df989'): 585,\n",
       " ('ecoinvent 2.2', 'a37ddf01b057be6a1b651fbab0ac98b0'): 2326,\n",
       " ('ecoinvent 2.2', 'b05c23e2a2401599932c35df0d60b75d'): 678,\n",
       " ('ecoinvent 2.2', 'cd5fb87c200942a9f855a272d7e57846'): 1374,\n",
       " ('ecoinvent 2.2', '5f734e034cea941b471647a915968374'): 639,\n",
       " ('ecoinvent 2.2', '9a29aef042859dbfef0c826e8e5490ce'): 1360,\n",
       " ('ecoinvent 2.2', 'b9ea2a39933c89f2820229633df5baf2'): 828,\n",
       " ('ecoinvent 2.2', 'fee8eb419a4f654131a64baf029b4662'): 4048,\n",
       " ('ecoinvent 2.2', '29f9f5007c0bc5d7393f6b1b1037b907'): 447,\n",
       " ('ecoinvent 2.2', '9538e0ac7d7b5db9a551f7500842061f'): 3067,\n",
       " ('ecoinvent 2.2', '5418a41d3029c07d50e6839bcb9ea4d3'): 3356,\n",
       " ('ecoinvent 2.2', '1df143bf6256fee3a97a9b6f615b1c1c'): 155,\n",
       " ('ecoinvent 2.2', 'ec8dc91979da7002e06f9d07136f9468'): 3737,\n",
       " ('ecoinvent 2.2', '6b146eecfd36ed7b990e0bc6321156c6'): 1283,\n",
       " ('ecoinvent 2.2', '13981a52e6711bceef1644447fcde1c6'): 122,\n",
       " ('ecoinvent 2.2', '4ff065b1d8a294e90caaec1babbb2478'): 1323,\n",
       " ('ecoinvent 2.2', '305ff661550913c892f72d6181dcfc32'): 3205,\n",
       " ('ecoinvent 2.2', 'f98d3520e9fee6d032d2348ae83c8161'): 2869,\n",
       " ('ecoinvent 2.2', '9da2ed05eed3f77b138ebbc8b32847db'): 1562,\n",
       " ('ecoinvent 2.2', 'b86557aaeea27280e1121b6d1e22ad1e'): 3084,\n",
       " ('ecoinvent 2.2', '287d51d4efcdc542891820712ea5a9d1'): 1549,\n",
       " ('ecoinvent 2.2', 'e2ebb122053f4cfbf296dc0bb8fc17d6'): 1608,\n",
       " ('ecoinvent 2.2', 'c8a95cb2e33b0526610d197bcf8cf82d'): 1240,\n",
       " ('ecoinvent 2.2', '8b053a2732512cdfd352afe366ce3afb'): 3211,\n",
       " ('ecoinvent 2.2', 'd3c62432e6b0e394c04afd6c259d6956'): 605,\n",
       " ('ecoinvent 2.2', '6d2b47201beb74a74022f867992f6dbe'): 3322,\n",
       " ('ecoinvent 2.2', 'cc4115597f2c21903c3576401aa27f0c'): 3574,\n",
       " ('ecoinvent 2.2', 'a7020f83a9c47f73896f5fa89a90e693'): 139,\n",
       " ('ecoinvent 2.2', '20e6a9acab5dd1bdeedad6a91e462731'): 3300,\n",
       " ('ecoinvent 2.2', '43dc021644399e95cfcd10fdfb94a27e'): 2715,\n",
       " ('ecoinvent 2.2', '3cbd2a4ac0c55abdf0749dc48392d242'): 3604,\n",
       " ('ecoinvent 2.2', '3ea1db67e2c19db0d41be0435923b2f1'): 2932,\n",
       " ('ecoinvent 2.2', 'f1c7cfe9a91c4b6d0f6aa3694e27f5ac'): 3597,\n",
       " ('ecoinvent 2.2', '068fb5fa52c2ee215196a5b1ec496885'): 2759,\n",
       " ('ecoinvent 2.2', 'e339f79110a07e9d964e8eb449e6a99c'): 2353,\n",
       " ('ecoinvent 2.2', 'e90f5aaf474862fa090d909c76500ce3'): 328,\n",
       " ('ecoinvent 2.2', 'da51eeabcaf60e3fd26e792904915d93'): 357,\n",
       " ('ecoinvent 2.2', 'f6df81349f2f2c25ca8dd3a681f22df6'): 793,\n",
       " ('ecoinvent 2.2', '9631490f10c59a501fd358b9b759b76b'): 128,\n",
       " ('ecoinvent 2.2', '8185263752ca62db2d4ba97052caa9a6'): 3107,\n",
       " ('ecoinvent 2.2', '86b3e4c4af87fa3d5527fe05dd3af9cb'): 3608,\n",
       " ('ecoinvent 2.2', 'd1da117ca387b5006249b6ddcc0ac865'): 3753,\n",
       " ('ecoinvent 2.2', 'fd58ee35bc0a1aa39ff61217792cdf3f'): 2777,\n",
       " ('ecoinvent 2.2', 'ecbe970f2a688469972e2133197af640'): 12,\n",
       " ('ecoinvent 2.2', '335ae643b51892d237bfba6cedb9b6fe'): 2645,\n",
       " ('ecoinvent 2.2', 'cc9054ada7b76134385b45fad0025def'): 688,\n",
       " ('ecoinvent 2.2', 'a24ae226ffec7665a6bedf153247e9fb'): 507,\n",
       " ('ecoinvent 2.2', 'f27031bbc79688446eabe8ede1bb222c'): 3438,\n",
       " ('ecoinvent 2.2', '90282dafa982b293ebcfff8e7090d8dd'): 1673,\n",
       " ('ecoinvent 2.2', 'f3ad4b975812b4f851edb1d87b6a4215'): 3476,\n",
       " ('ecoinvent 2.2', 'cada6d284bcd7c8fb00f3fbe41a82f7f'): 3399,\n",
       " ('ecoinvent 2.2', 'bcb5c2b226d8abbc74d8e88c66e39bb9'): 3038,\n",
       " ('ecoinvent 2.2', '871dc0f04ae61a1623de6b438d15531b'): 327,\n",
       " ('ecoinvent 2.2', 'e3270620e02a8760edde15b36333f458'): 1854,\n",
       " ('ecoinvent 2.2', 'f36ed4ddd9763518b33edf34991f136a'): 3373,\n",
       " ('ecoinvent 2.2', 'b37a828ff3b21c2e8af679f343c28dcf'): 1803,\n",
       " ('ecoinvent 2.2', 'ed95ff944e3fee5286ce3736775cf107'): 452,\n",
       " ('ecoinvent 2.2', 'fc8aeeba56fc14ec0b6e1fa1bfebdf73'): 3769,\n",
       " ('ecoinvent 2.2', 'c731db8d8e862f20950a654d794f59e4'): 4020,\n",
       " ('ecoinvent 2.2', '5e48974bd58f084039ff66132607c65c'): 1897,\n",
       " ('ecoinvent 2.2', 'c2ff6ffd532415eda3eaf957b17b70a1'): 2103,\n",
       " ('ecoinvent 2.2', '8b7f9e078a5d46d0a96b6460c83a0f13'): 188,\n",
       " ('ecoinvent 2.2', 'b8ce65555676bd457e62b91d30883498'): 2889,\n",
       " ('ecoinvent 2.2', '534221d7c956443e189e1b21693b6a74'): 313,\n",
       " ('ecoinvent 2.2', 'b676be8f3a6e61b8e71f9a44eced6568'): 1869,\n",
       " ('ecoinvent 2.2', 'e24a7f92ab6c250031739441441b5cac'): 1412,\n",
       " ('ecoinvent 2.2', 'd4b8076d7e379d3285f048e868bd75cd'): 978,\n",
       " ('ecoinvent 2.2', '9ebe3d9266c4316e2028f82f1bc45d21'): 3842,\n",
       " ('ecoinvent 2.2', '9df1b7f6d4386dccf12fb551f310de35'): 1746,\n",
       " ('ecoinvent 2.2', 'd03820d95d1536214b7b84e16a872a76'): 457,\n",
       " ('ecoinvent 2.2', '14fa66b51395d0f35f4434f71b5c79f3'): 1939,\n",
       " ('ecoinvent 2.2', '4bea333af339e6e897910066e1403b93'): 1825,\n",
       " ('ecoinvent 2.2', 'c9d70f6b471050c0717d99bde5d674e1'): 620,\n",
       " ('ecoinvent 2.2', 'd3f51b32c907ba0e005886df0b590a25'): 2430,\n",
       " ('ecoinvent 2.2', '56223fa5df6a8f333b187af940f70462'): 1604,\n",
       " ('ecoinvent 2.2', 'b814f4c954aa815069bad202e64206af'): 2006,\n",
       " ('ecoinvent 2.2', '139606c2b4f495c43e5034a458cf3c8c'): 2423,\n",
       " ('ecoinvent 2.2', 'a53ad152eb4fda1e9e71b58d1dca51a5'): 1870,\n",
       " ('ecoinvent 2.2', '59a86d54a53f07c275ca532d628e443b'): 996,\n",
       " ('ecoinvent 2.2', '885af26d72a1e947f5879993fe9acfd7'): 2251,\n",
       " ('ecoinvent 2.2', 'e21db649ce1a6852818e7bc411498fdc'): 1706,\n",
       " ('ecoinvent 2.2', 'fe7b730d3be4bb542f9410dfb8165d6a'): 219,\n",
       " ('ecoinvent 2.2', '3fc7eca1fc56493bddcddc5ee33e57cf'): 329,\n",
       " ('ecoinvent 2.2', 'e8f25b90b3119e991f3aa3959fd29ee1'): 2197,\n",
       " ('ecoinvent 2.2', 'c44446e98fc1102e147d9e8066e25a97'): 2108,\n",
       " ('ecoinvent 2.2', '21f4629d57d18c724de84c15e05dc3e4'): 589,\n",
       " ('ecoinvent 2.2', 'ade8c7a1ff66317d62c4d0c5ce548093'): 1166,\n",
       " ('ecoinvent 2.2', 'c99dced85be964620ea257234db4a92e'): 2169,\n",
       " ('ecoinvent 2.2', '348bbf21c0ed8b18b3ab518c9b472c2d'): 1864,\n",
       " ('ecoinvent 2.2', 'bfa11b3b1acd14aa93178d64bbbf80f5'): 1647,\n",
       " ('ecoinvent 2.2', '3b203ec830956d5dabb1f384d7779d25'): 4023,\n",
       " ('ecoinvent 2.2', '640ea340f5cc56551256b4255b6a7a57'): 1404,\n",
       " ('ecoinvent 2.2', '775de7a7997c733c380ecf62684e0734'): 347,\n",
       " ('ecoinvent 2.2', 'f72b98de96795885fff800c3aa75fb76'): 2041,\n",
       " ('ecoinvent 2.2', '8cef255208d0aeb6aa3f3f83ae8f65e1'): 245,\n",
       " ('ecoinvent 2.2', '066cbcad3dc6c83cb6e6693bd0281368'): 3099,\n",
       " ('ecoinvent 2.2', 'c004f0af36769371e6d2281f0267f165'): 2922,\n",
       " ('ecoinvent 2.2', '5e98d668e093a5c2f9b18e57a6067282'): 3790,\n",
       " ('ecoinvent 2.2', 'c5634bf8f5cfbc89203f6149bb8a3acf'): 2636,\n",
       " ('ecoinvent 2.2', '71d3b114bf848c6ff221ffd66d9d95d0'): 3117,\n",
       " ('ecoinvent 2.2', 'a51132a7b9cdac1631b408d5606968a8'): 3564,\n",
       " ('ecoinvent 2.2', 'e68f62ecfa1559e7e7ca0bcda64bf6cd'): 2042,\n",
       " ('ecoinvent 2.2', 'd83f46f020c26cd60e654ac88e5ccedf'): 1795,\n",
       " ('ecoinvent 2.2', '074d454655f9f6a47dfa83a5dbbc9e6e'): 1019,\n",
       " ('ecoinvent 2.2', 'b802fe5ad453c9a254247dea99ce9455'): 3774,\n",
       " ('ecoinvent 2.2', '2f017c933b54d5155883a9d63e611401'): 2793,\n",
       " ('ecoinvent 2.2', '2962e014a70f9b7371d9bb5ee449658c'): 1162,\n",
       " ('ecoinvent 2.2', 'b56ac5dd938caf2d82c93e0b55cba932'): 2431,\n",
       " ('ecoinvent 2.2', '6b707cae5c64a0e7546ec418cef4e632'): 1026,\n",
       " ('ecoinvent 2.2', 'e4f6b25de65d456a8f2115b7df96b3d4'): 1776,\n",
       " ('ecoinvent 2.2', '360358eec6b69c13b49e1d3cee9b5310'): 2498,\n",
       " ('ecoinvent 2.2', '855475433d7841d992ab3ba9e83d8146'): 726,\n",
       " ('ecoinvent 2.2', 'd6fb4d3b9f83c38696d8d7b5dd1050aa'): 508,\n",
       " ('ecoinvent 2.2', '65ec54488b40dcaba0a23b0e01cacf61'): 3999,\n",
       " ('ecoinvent 2.2', '5bf82f1c860602cde4fe9711b2de0eaa'): 2075,\n",
       " ('ecoinvent 2.2', '6a328f4ebc826099747f8d68253ed9a2'): 2240,\n",
       " ('ecoinvent 2.2', '2f52c4f5df7e14af26aaecb2f8d73197'): 2710,\n",
       " ('ecoinvent 2.2', 'b1f32f4a6d87a99da0462f737c0f32fd'): 990,\n",
       " ('ecoinvent 2.2', '36686269d40955216a062f1db1223655'): 2568,\n",
       " ('ecoinvent 2.2', 'be7cdb8838fbfca1f5c876dd9e35abfd'): 458,\n",
       " ('ecoinvent 2.2', 'b35faf5e0e6fb89617e14c72b8dbed77'): 1717,\n",
       " ('ecoinvent 2.2', '9d65b9b4a5bb7f2b8dd67df0166f9342'): 3799,\n",
       " ('ecoinvent 2.2', '49ef333cabee8d2c0e08a4529fb9a460'): 3239,\n",
       " ('ecoinvent 2.2', 'b238c2590938eb504dfe806236df0fe5'): 1687,\n",
       " ('ecoinvent 2.2', '1ddd9d130a0334933218269f59204f79'): 1806,\n",
       " ('ecoinvent 2.2', 'e758b78e95bc6bd7b71c63361e292b00'): 177,\n",
       " ('ecoinvent 2.2', '39c435fcad44e0fa2c3cfef3f7f0a1b5'): 417,\n",
       " ('ecoinvent 2.2', '192524d0cedc5b2c91517342d9aac50c'): 3329,\n",
       " ('ecoinvent 2.2', 'a918a226aaca416ba9a3c2c912f9fbfc'): 3486,\n",
       " ('ecoinvent 2.2', '2fd9a3a8ca0e146e90b97fce835e5cf0'): 3102,\n",
       " ('ecoinvent 2.2', '8b6dd149eb15ed9099a3a3c7a0c8120c'): 533,\n",
       " ('ecoinvent 2.2', '35ee149971f97bce4bb9c19cedc1be3b'): 3680,\n",
       " ('ecoinvent 2.2', '8bbbebb188effd8ceb914482256454ba'): 549,\n",
       " ('ecoinvent 2.2', '52d1f59e41b26ef4c0c4895efef90ef6'): 800,\n",
       " ('ecoinvent 2.2', '21171de4972a6c84ed9ca50339b4e3d0'): 1924,\n",
       " ('ecoinvent 2.2', '4fb9fe36ecc32c421801759b46a2fab3'): 918,\n",
       " ('ecoinvent 2.2', 'df5c0c27e8d1c360029c070840fa5a31'): 197,\n",
       " ('ecoinvent 2.2', 'b77e267b2ae7ec3d4e13954d47d00470'): 3246,\n",
       " ('ecoinvent 2.2', 'b29b903441486d60c1db097bf858dce5'): 3759,\n",
       " ('ecoinvent 2.2', '358ae34391829a39eb2efe1e21f1cc59'): 3344,\n",
       " ('ecoinvent 2.2', '12197349b8bf50bf7e18bf8c117b5a43'): 2156,\n",
       " ('ecoinvent 2.2', '209f11963363e4b751cf1cf184b89127'): 3331,\n",
       " ('ecoinvent 2.2', '720c02a405d4fa01763544b5491e0462'): 1961,\n",
       " ('ecoinvent 2.2', '34c63e5926ab10c01b077e3505d0056b'): 1777,\n",
       " ('ecoinvent 2.2', 'f914a214d22cf86141734b934995f351'): 2280,\n",
       " ('ecoinvent 2.2', '9ef16ecfd15370042b797ca3d1025343'): 1690,\n",
       " ('ecoinvent 2.2', '142517f4d897b20433a87c7b14b0df69'): 3472,\n",
       " ('ecoinvent 2.2', 'd4e3c85336190c71f64298ad243088f4'): 1191,\n",
       " ('ecoinvent 2.2', '4509a8507939457b42382452180b9852'): 208,\n",
       " ('ecoinvent 2.2', 'bb919a873a490b651f3981f85e8afed5'): 2194,\n",
       " ('ecoinvent 2.2', '0fb6346202e7032a1fda8b06e1f3b0d9'): 2373,\n",
       " ('ecoinvent 2.2', '31894eb0fc23d68e1d65e66771c7f014'): 1,\n",
       " ('ecoinvent 2.2', '451ae4f06950ffc21675c763c54f3874'): 2351,\n",
       " ('ecoinvent 2.2', '8a4163aafbd1f42248046ba8b4fcd786'): 2674,\n",
       " ('ecoinvent 2.2', '399c0c790d0b47d402bb0e3e686e39a2'): 3428,\n",
       " ('ecoinvent 2.2', '4091a5f8af869df5f0fbe0e4d1178ac6'): 882,\n",
       " ('ecoinvent 2.2', '69f22ecf95f392d753a6a101f1d74967'): 3296,\n",
       " ('ecoinvent 2.2', '0177e636af1477b178d35dba2cefd6c1'): 1052,\n",
       " ('ecoinvent 2.2', '5e59cc1db2d32282a4cd76fc6ec00f15'): 3285,\n",
       " ('ecoinvent 2.2', '76931b7a09440e9306ea6297dff885cc'): 1144,\n",
       " ('ecoinvent 2.2', '6a2695080987e8468536ec51abf145bc'): 3034,\n",
       " ('ecoinvent 2.2', '7ce4329d66f16cc8fd2d7365e3bc859a'): 1053,\n",
       " ('ecoinvent 2.2', '1cd8bc6c2a1bdda83e2f6daaedee4cbc'): 3645,\n",
       " ('ecoinvent 2.2', 'a3a536f62390e8499e4d9fdabd190bcc'): 3075,\n",
       " ('ecoinvent 2.2', 'f7a88834de2f0be7d0098eea75ac2cfb'): 227,\n",
       " ('ecoinvent 2.2', '1e7fde9c59027e2e88458c9532eba3e9'): 3159,\n",
       " ('ecoinvent 2.2', '4921a1fff1415fb71c1c6f6f0e50c063'): 1272,\n",
       " ('ecoinvent 2.2', 'ae59bfbd916a81b0f4501b6539e260f1'): 3992,\n",
       " ('ecoinvent 2.2', '9fae813933c219b9fdf79563f26f247f'): 2227,\n",
       " ('ecoinvent 2.2', 'ead507fab1a18755487e98c265114bdc'): 3026,\n",
       " ('ecoinvent 2.2', '37fdd0271ab277231756699b08f18fa0'): 284,\n",
       " ('ecoinvent 2.2', '226643d70c1ecdbd80e69764d7586ffe'): 3820,\n",
       " ('ecoinvent 2.2', 'a9fc23c59d4cf953d2ddea348c56e57f'): 3894,\n",
       " ('ecoinvent 2.2', 'd68664ffe8a5a1920089b6f039682801'): 502,\n",
       " ('ecoinvent 2.2', '0b0d70bbea85dc4248719b4c117feead'): 3953,\n",
       " ('ecoinvent 2.2', '0f5d20aa85bf487bcdff6e06f7928949'): 1621,\n",
       " ('ecoinvent 2.2', 'bc06d52c278f8b112719dee48b9c956e'): 77,\n",
       " ('ecoinvent 2.2', 'b4ce86662526c5bc4f3343f2c57530a1'): 582,\n",
       " ('ecoinvent 2.2', '96dd306583e1cf823da9a112f2ad2229'): 3109,\n",
       " ('ecoinvent 2.2', '76dd5dcd41061d4c2774f40fd35e44d0'): 1189,\n",
       " ('ecoinvent 2.2', '5eac5b2ec449b34f9f93144b259d6ab7'): 2007,\n",
       " ('ecoinvent 2.2', '3072f4243b5b94035800d6f19f6f52dc'): 1570,\n",
       " ('ecoinvent 2.2', '87a61dd1c08772a48570ce711128c1ef'): 1852,\n",
       " ('ecoinvent 2.2', '2504c2520b68c75556fca947e643a661'): 369,\n",
       " ('ecoinvent 2.2', '150e53b772fe995fe5f46959d4e049e2'): 2998,\n",
       " ('ecoinvent 2.2', '1e60b6520f52b8076f5a8c4bcae93eb7'): 199,\n",
       " ('ecoinvent 2.2', '3b6aa33870cc4dc0f46dda753257f211'): 2488,\n",
       " ('ecoinvent 2.2', 'c554d37f973d1b499854bf094528d0cd'): 869,\n",
       " ('ecoinvent 2.2', '50fd13647bf8d81e0df5b64aa4248bfd'): 2786,\n",
       " ('ecoinvent 2.2', 'faf7439cf935e4c4680ad0e58c51599e'): 3065,\n",
       " ('ecoinvent 2.2', '149312a2d642d58280a951c9c1412113'): 3342,\n",
       " ('ecoinvent 2.2', 'c38f5de06f3a44a57c5b92f1591bb366'): 3616,\n",
       " ('ecoinvent 2.2', 'dca560e6599b08154e5a8ec6e2cebd1c'): 3583,\n",
       " ('ecoinvent 2.2', '6823e659041660c5c94b7a673575cfe0'): 1027,\n",
       " ('ecoinvent 2.2', 'cf57dae83ed08ed4806dd928f471c432'): 1064,\n",
       " ('ecoinvent 2.2', 'b27478f6ad57b69376a2e71c529da443'): 2548,\n",
       " ('ecoinvent 2.2', '870c2fc9ecfd59201557160da0080b21'): 885,\n",
       " ('ecoinvent 2.2', '14574436d8a15d09b7905035b85a1e6d'): 675,\n",
       " ('ecoinvent 2.2', 'd477d360ebd813e1f9848cf85240223c'): 2626,\n",
       " ('ecoinvent 2.2', '0dbb89f4deac22a0b44ead334134ab25'): 1062,\n",
       " ('ecoinvent 2.2', '8d0bc3cfb14fe7a5747eacd38cc4cb17'): 290,\n",
       " ('ecoinvent 2.2', 'a5b879a52e08f0fa39523412cdf98930'): 3844,\n",
       " ('ecoinvent 2.2', 'f5a01fc45190eda53778e8d68c6dbdf5'): 2904,\n",
       " ('ecoinvent 2.2', '1c09a7cd99205e95b9637c0587bade22'): 1143,\n",
       " ('ecoinvent 2.2', '69436cfa1f90afccf0e063df20453efb'): 449,\n",
       " ('ecoinvent 2.2', '3ca05a92b619bd5b7fb71350d398b594'): 165,\n",
       " ('ecoinvent 2.2', '3fb98193de637fcefec37234a93a1d3a'): 3677,\n",
       " ('ecoinvent 2.2', 'f3aa99e06f1fe610cd51b37765a1d7e0'): 2804,\n",
       " ('ecoinvent 2.2', '71b1836f489b8aee656a670541cc5811'): 680,\n",
       " ('ecoinvent 2.2', 'dba30509dd31496fd6e80627ab37bc5c'): 4032,\n",
       " ('ecoinvent 2.2', 'f363a71d2df71320945b5e80e91f4f41'): 516,\n",
       " ('ecoinvent 2.2', 'dfa5400356c89ecc2e34ffaea3234ad1'): 3095,\n",
       " ('ecoinvent 2.2', 'ca591d483348459a421968affdada87c'): 1733,\n",
       " ('ecoinvent 2.2', 'e7f4bac4063f9622accb360a27eba706'): 424,\n",
       " ('ecoinvent 2.2', '25cea457b628583fd63dfcc8152c2452'): 3836,\n",
       " ('ecoinvent 2.2', 'abbf295e5415013f9ea13ded91d02953'): 2898,\n",
       " ('ecoinvent 2.2', '89720eaa501ae7b8879b6fdf784e8e19'): 2965,\n",
       " ('ecoinvent 2.2', 'c13cc34d2a481fefa6cdb908b994203d'): 3897,\n",
       " ('ecoinvent 2.2', '5283368573659b3b35bdd8dfa13a8041'): 1888,\n",
       " ('ecoinvent 2.2', 'fde3478488b5fac2f0d19e0c303b8eed'): 1849,\n",
       " ('ecoinvent 2.2', '8dfc205068907e71971bf7ad86ac2fc7'): 649,\n",
       " ('ecoinvent 2.2', '6dedeb92662d95e2ccc3c9f1e4eb435f'): 3589,\n",
       " ('ecoinvent 2.2', '969f1a6354161938d04cb2b48a611cfb'): 2273,\n",
       " ('ecoinvent 2.2', '188638c85d6d611a8122fde2f0714068'): 2565,\n",
       " ('ecoinvent 2.2', '01d42abafeb9602756418625a517d977'): 3554,\n",
       " ('ecoinvent 2.2', 'b3f808067e98a23e24af09b92b6f9f6d'): 3633,\n",
       " ('ecoinvent 2.2', '42f8f014ea92fe8ce8244233f68c98fa'): 2873,\n",
       " ('ecoinvent 2.2', 'd16763389bc333d579fbd78313307df6'): 3655,\n",
       " ('ecoinvent 2.2', '47563c1c3f5284ba75e343f5431f0d7a'): 1063,\n",
       " ('ecoinvent 2.2', '5c5b7448072c6b05725cdbc4a34b5d42'): 396,\n",
       " ('ecoinvent 2.2', '6e064026781e8821523483dfa52c9e8d'): 3732,\n",
       " ('ecoinvent 2.2', '4c133e9f80ad92007e3006fef6a0957b'): 2398,\n",
       " ('ecoinvent 2.2', '0ecc408476fffe0563496debc86f4403'): 1155,\n",
       " ('ecoinvent 2.2', '87157c7e2a9e13c4f3e27f519b84d63e'): 2634,\n",
       " ('ecoinvent 2.2', '7f8c8f48faa5479dc5ec1966394a6444'): 1303,\n",
       " ('ecoinvent 2.2', '9e51fe0c9c96d9808fc0beb912f92304'): 2655,\n",
       " ('ecoinvent 2.2', 'f82ad45e649a97af90fa9e3245199c4a'): 280,\n",
       " ('ecoinvent 2.2', 'd971c8ed2b527d50b4a4f775daf06173'): 3643,\n",
       " ('ecoinvent 2.2', 'de189230e80c818d09b6fa38af20ff0e'): 345,\n",
       " ('ecoinvent 2.2', 'df5e933f2bb85c66d15382d6625a2ba1'): 1133,\n",
       " ('ecoinvent 2.2', '6606dd846f78711dbda6e4fb958c277b'): 3757,\n",
       " ('ecoinvent 2.2', '4ba7885631ea99453db3533de6c8ae63'): 3972,\n",
       " ('ecoinvent 2.2', 'd516a83af1947f52ba6c60600624fd9b'): 1136,\n",
       " ('ecoinvent 2.2', 'd32d277c88bee00639603b99c3d0c70b'): 707,\n",
       " ('ecoinvent 2.2', '19d20f4b7a7eb3704495ad3ba036c29d'): 774,\n",
       " ('ecoinvent 2.2', 'c1c234a6e083ff62de1919a2f9a1844e'): 3970,\n",
       " ('ecoinvent 2.2', '0dfe74aa413522f3ade74871055d09c4'): 2535,\n",
       " ('ecoinvent 2.2', '4d8adc58598689d9e85ad82596236f5e'): 2425,\n",
       " ('ecoinvent 2.2', 'bdd2431bd3a9af1a09cb2ab01ca94d42'): 2255,\n",
       " ('ecoinvent 2.2', '8349100a4e85d0abc554b720289fe765'): 1088,\n",
       " ('ecoinvent 2.2', '5e2301a7b6d0ff5c7bc4d6d8d517668e'): 3396,\n",
       " ('ecoinvent 2.2', 'c062187747038f9f5c24e247334f4359'): 1174,\n",
       " ('ecoinvent 2.2', '85f28bd5e5d382847bc4d255192f1195'): 3831,\n",
       " ('ecoinvent 2.2', 'a62152950568cf3d5799c797d33ad03c'): 1956,\n",
       " ('ecoinvent 2.2', 'e48b033eb50ae86b303c80146ae376a5'): 252,\n",
       " ('ecoinvent 2.2', '30341ebc202c758249ce5f5dc8b1e124'): 2243,\n",
       " ('ecoinvent 2.2', '9ab11d4dfca7a01213b51e4d3c35989a'): 1172,\n",
       " ('ecoinvent 2.2', '145e64f61771cd43c34915b54f0b20a8'): 1002,\n",
       " ('ecoinvent 2.2', 'a499e8a927234da1a20bb9c8fb4ddcb4'): 2500,\n",
       " ('ecoinvent 2.2', 'e6384acc713fa956b148ae8e4beebdd5'): 3341,\n",
       " ('ecoinvent 2.2', '51ee65a45b868f0aeec0374ab3a5967d'): 1999,\n",
       " ('ecoinvent 2.2', 'cd27404b03ed7fd517fb764f9d04118a'): 3268,\n",
       " ('ecoinvent 2.2', '4b24f3ce8f86d5b18d1ed472df48afc2'): 2121,\n",
       " ('ecoinvent 2.2', '86e96a3df74e712dd4f9f6359e9df8f9'): 1534,\n",
       " ('ecoinvent 2.2', '8a899de2888ebade9b249db9fa61321c'): 415,\n",
       " ('ecoinvent 2.2', '97d4a8e7ba4eb18bb7e01b1ee2df03ae'): 1682,\n",
       " ('ecoinvent 2.2', 'eed2bcc5da6c7f4bb94a571ac16d4fa2'): 3256,\n",
       " ('ecoinvent 2.2', '90a7f705978f0ed5639b188bbb53a2b3'): 697,\n",
       " ('ecoinvent 2.2', '3f3897f214832ba374e3ee9ef62ea478'): 2860,\n",
       " ('ecoinvent 2.2', '16694dff960341533cf1a182db396220'): 1785,\n",
       " ('ecoinvent 2.2', '64f5f334912d5d5628f98050fda8ea51'): 3418,\n",
       " ('ecoinvent 2.2', 'b71ccb9dffd6e1372074216eca39f01f'): 3225,\n",
       " ('ecoinvent 2.2', 'af6dc4cba3713180a117694561d02693'): 2920,\n",
       " ('ecoinvent 2.2', '4f9252e0284159aa38bb5a4f2798bbef'): 99,\n",
       " ('ecoinvent 2.2', 'a3b0a86fde7be11d1cf36dc46a8921e6'): 2846,\n",
       " ('ecoinvent 2.2', '9d8fee9442cec066be5c79da25140bae'): 3393,\n",
       " ('ecoinvent 2.2', '909ba57a157c917a2c218c1ca00e9d79'): 2842,\n",
       " ('ecoinvent 2.2', '5bcaf9905b49210274511bec22a2a943'): 375,\n",
       " ('ecoinvent 2.2', 'c9b2a3994359a702ad42c9c30e6288de'): 4026,\n",
       " ('ecoinvent 2.2', '52bcb2988f73a1edf05c64ff1bdb02e3'): 1705,\n",
       " ('ecoinvent 2.2', 'c08d239cf08803e40dcfbd6cbecc7011'): 2745,\n",
       " ('ecoinvent 2.2', '335f6bc6e5b3bdff4443d0c813d5024b'): 953,\n",
       " ('ecoinvent 2.2', '0296d3e0cdee119f48e8c816563814ed'): 3557,\n",
       " ('ecoinvent 2.2', '0cb0ac4b161eaa5949676f0f9e45da7d'): 3489,\n",
       " ('ecoinvent 2.2', 'e97dc50d8410829408d4808db970f865'): 1685,\n",
       " ('ecoinvent 2.2', '4fd692a735fc4b5432cac87a196d6f20'): 629,\n",
       " ('ecoinvent 2.2', '3447b2fd194c34763c2a92f8fbc339b3'): 3160,\n",
       " ('ecoinvent 2.2', '7b2cae0e22f6aebdac5a1ae04f970429'): 1771,\n",
       " ('ecoinvent 2.2', '1bc1a84fcdd56b4feb71a77f723edaf7'): 3780,\n",
       " ('ecoinvent 2.2', 'bb6c9317d55b34d185e8271765ced58e'): 359,\n",
       " ('ecoinvent 2.2', '15a3aff370eda8d7da5bd3cd3bfdb165'): 3878,\n",
       " ('ecoinvent 2.2', '6849ea8ea35cc93a53c24ee7d859606f'): 3030,\n",
       " ('ecoinvent 2.2', '1d720b9f4cc77ab2fe3e75b8009237f3'): 3294,\n",
       " ('ecoinvent 2.2', 'a9b8c4283cf81a8fe1a99e2616d82ce4'): 545,\n",
       " ('ecoinvent 2.2', '76204b726b442077bb4ab3ad0803e0ea'): 3295,\n",
       " ('ecoinvent 2.2', '3f5dd54d59fe8015dde20e20618abb61'): 3652,\n",
       " ('ecoinvent 2.2', '73430f794d58e100821550b031a868a9'): 2700,\n",
       " ('ecoinvent 2.2', '3bf9ac4ea0bac66be99b26fd94cf14de'): 1886,\n",
       " ('ecoinvent 2.2', 'a90567445b7e2c83794e51307c21b41e'): 3631,\n",
       " ('ecoinvent 2.2', '63843d18f32eeade602f4122032025fa'): 741,\n",
       " ('ecoinvent 2.2', '055b35485a34fa3f40fa43d620ee42a4'): 1273,\n",
       " ('ecoinvent 2.2', 'b6ad48ae39241c07f517b8a5a30805b5'): 1164,\n",
       " ('ecoinvent 2.2', '05146600b9c98c5b14f5cc6e8f08344e'): 1262,\n",
       " ('ecoinvent 2.2', 'ca314b5aaebae1da8cb04993cab28272'): 4034,\n",
       " ('ecoinvent 2.2', 'cc29f8f9a755103f941936b93f800c3e'): 1812,\n",
       " ('ecoinvent 2.2', 'abef7f8476368fb0e65cfeb6f044aa82'): 2817,\n",
       " ('ecoinvent 2.2', '6ff9f7654199a694180d2d0d6aa05844'): 3491,\n",
       " ('ecoinvent 2.2', '05dc6a953329fd7027ae2c0a50902d02'): 2314,\n",
       " ('ecoinvent 2.2', 'a640ebd156e97361fc9e9db814f66361'): 3345,\n",
       " ('ecoinvent 2.2', 'd9b3726e6f22a94dc59c0d3fbca71397'): 157,\n",
       " ('ecoinvent 2.2', '95b1167601ef58c3758fa9e718206e2d'): 1242,\n",
       " ('ecoinvent 2.2', '3b55f95b4222588ff0ec2cddb5517c9e'): 2590,\n",
       " ('ecoinvent 2.2', 'd4ca6889d1ed7351f296ad8c78f7c7fb'): 71,\n",
       " ('ecoinvent 2.2', '0c76508d8e5719cdab33e1326bc1c8cb'): 2476,\n",
       " ('ecoinvent 2.2', 'fbaca48230b737472a4bb4ce20fbda04'): 394,\n",
       " ('ecoinvent 2.2', '3ba5a2baea76ceee5f156c2333e581ba'): 1429,\n",
       " ('ecoinvent 2.2', '4ebaa72851ea15bea1e88033d9272534'): 3362,\n",
       " ('ecoinvent 2.2', 'b961144b1f563a39283e4b3b08470775'): 3170,\n",
       " ('ecoinvent 2.2', 'aff7161b1c460bfe96749e396d5b0180'): 2894,\n",
       " ('ecoinvent 2.2', '118069ed1245796f8b86242e92c14f54'): 3886,\n",
       " ('ecoinvent 2.2', '089d1db96f756a12e6a6d774fc00c72a'): 1241,\n",
       " ('ecoinvent 2.2', 'de5e2283cde1d390691e47679c3229a8'): 2782,\n",
       " ('ecoinvent 2.2', 'cac318e46bcaf05dfa88e159c4b7847c'): 2056,\n",
       " ('ecoinvent 2.2', 'e52d83fda9e02354fd976af98c5ddaab'): 1577,\n",
       " ('ecoinvent 2.2', 'e3eadd3032833ff49fd609e95862a701'): 645,\n",
       " ('ecoinvent 2.2', 'b0aa87b804898bc6d23617262a9c377e'): 1295,\n",
       " ('ecoinvent 2.2', '122bc95584866b51ebfc2591e1e7d27b'): 1660,\n",
       " ('ecoinvent 2.2', '10d5a2c6b41309df58745a860c8b5b62'): 170,\n",
       " ('ecoinvent 2.2', '5d19d69844ee9532bfb7349c9d57e354'): 1759,\n",
       " ('ecoinvent 2.2', 'e75465430c3dfbeda070cd9f54a9d7a7'): 3848,\n",
       " ('ecoinvent 2.2', '84d14034e3d1dbe192667e9b3d4d6a13'): 3174,\n",
       " ('ecoinvent 2.2', '209a1da248502641a18d60abc6d85dbc'): 3902,\n",
       " ('ecoinvent 2.2', 'd22d91a25ef3f1619297cfefaed48834'): 3394,\n",
       " ('ecoinvent 2.2', 'e7e8321332178ce04a4720e69439d880'): 2827,\n",
       " ('ecoinvent 2.2', '8959ecc199326653e7115f00d7c83033'): 1206,\n",
       " ('ecoinvent 2.2', '64cfe2b1ae2fc743f08467aa19650182'): 3919,\n",
       " ('ecoinvent 2.2', '45b693a0363599f0ed8204ca1b7de403'): 1948,\n",
       " ('ecoinvent 2.2', 'c91fbc4efe0d22d7b4ab97ef42f20936'): 1689,\n",
       " ('ecoinvent 2.2', '8d949382ae237e6cdfffadc193804e3f'): 535,\n",
       " ('ecoinvent 2.2', '9c5fcaa878771091931889deef41a9ed'): 2854,\n",
       " ('ecoinvent 2.2', '895711ab0cf9673c314dfc23b2be2795'): 299,\n",
       " ('ecoinvent 2.2', 'c907271a10b081ffc6cce2bf5328221e'): 3712,\n",
       " ('ecoinvent 2.2', '1a5e7b4f1dc5d5769c28f25217392b8c'): 578,\n",
       " ('ecoinvent 2.2', '2c0420844491127d3c192392c71beb42'): 1738,\n",
       " ('ecoinvent 2.2', '54885fd4e2aea4a82a2a5e37aec753b5'): 366,\n",
       " ('ecoinvent 2.2', '50873247c12b5dfb27532752dc9ce9c6'): 2580,\n",
       " ('ecoinvent 2.2', '6acc4b3aa2eb5e5d673de1af12d4e5b0'): 804,\n",
       " ('ecoinvent 2.2', '635247b965aa8068ecbf205902123b57'): 3859,\n",
       " ('ecoinvent 2.2', '83396ddfbc2fd399e60557a28eea7755'): 3000,\n",
       " ('ecoinvent 2.2', 'eaea0700a04b09239b0b4167532014bb'): 3070,\n",
       " ('ecoinvent 2.2', 'f161bd14ae6f6adc76de66b6eec208e9'): 979,\n",
       " ('ecoinvent 2.2', 'b22b9e7a90e0740b6a01c608d83d1b45'): 486,\n",
       " ('ecoinvent 2.2', 'd6f791ade0a11dca0f73ed29efc64a2d'): 2024,\n",
       " ('ecoinvent 2.2', '7ba3a42636d55ed1e31205ed0409c90e'): 2231,\n",
       " ('ecoinvent 2.2', '8e982ddf384d4abd3d7bfed923890053'): 1470,\n",
       " ('ecoinvent 2.2', '2437c0556316bdfa44e5efdfecb0f9fe'): 3512,\n",
       " ('ecoinvent 2.2', 'ef6a7d8300d5aaec95c6a19124fc063c'): 490,\n",
       " ('ecoinvent 2.2', 'f292775b8a0c489759abaa84880ee429'): 1247,\n",
       " ('ecoinvent 2.2', 'f05b8488c6ac69af2980c030936a57be'): 2083,\n",
       " ('ecoinvent 2.2', 'b228196055de25cb9a899dd5a746542a'): 3687,\n",
       " ('ecoinvent 2.2', 'db3e8f247cb2942e6a6e2a5e23853d48'): 2286,\n",
       " ('ecoinvent 2.2', 'b6f2e0801243394e43b184ee61752ed6'): 3452,\n",
       " ('ecoinvent 2.2', '15dcdccb2478a171152ed2e8260a1e2b'): 319,\n",
       " ('ecoinvent 2.2', 'df6ee5777e6fd3e86cf848ec9a803d05'): 3813,\n",
       " ('ecoinvent 2.2', 'fd714ea4ad1526eb38cc2c6e99256dee'): 2676,\n",
       " ('ecoinvent 2.2', '78e19ba795cedeeaa4c1686380f075b6'): 1940,\n",
       " ('ecoinvent 2.2', 'd58d695b5951d708e99851470f8aa282'): 2532,\n",
       " ('ecoinvent 2.2', 'a28683b942ab4a55bd57adeeaff14b26'): 2774,\n",
       " ('ecoinvent 2.2', '92669efee920ccf747456e558efae0ff'): 3594,\n",
       " ('ecoinvent 2.2', '22e39261d734ad0c9f50ab960e0c3e83'): 1879,\n",
       " ('ecoinvent 2.2', '5f9f2483249a4a3463c5166272f784f4'): 3977,\n",
       " ('ecoinvent 2.2', 'd9d619990b8c12bcc62633fe4797ec8d'): 3852,\n",
       " ('ecoinvent 2.2', 'ada08cb15826614e855579dc4dbd37b3'): 939,\n",
       " ('ecoinvent 2.2', '3646a502964e8766091835bcf026ef3f'): 982,\n",
       " ('ecoinvent 2.2', '4984a6868533b1471be3f709853475ab'): 3519,\n",
       " ('ecoinvent 2.2', '571f42003e1bd1ef969606366d68bf80'): 2347,\n",
       " ('ecoinvent 2.2', '836be83bee368e23c87d357499204c8f'): 2523,\n",
       " ('ecoinvent 2.2', 'c4abed5235146ebe93d93e96765a0ddb'): 2708,\n",
       " ('ecoinvent 2.2', '640ec581edfeadbc6dc664977aae04d8'): 314,\n",
       " ('ecoinvent 2.2', 'e8a5ba119313c9d86e7c18cfb4010ed0'): 2677,\n",
       " ('ecoinvent 2.2', 'f8c04ba160a157f24fad8972056a747f'): 3111,\n",
       " ('ecoinvent 2.2', '4e8e80cd49d6c33bf0c1963fc3afa806'): 3258,\n",
       " ('ecoinvent 2.2', '6c2115c9803448049d791ec1c093187c'): 2663,\n",
       " ('ecoinvent 2.2', 'c088d4affff6e2b60396e63a0bf40767'): 540,\n",
       " ('ecoinvent 2.2', 'de90c044daf10c562033256117516b8f'): 711,\n",
       " ('ecoinvent 2.2', '342c9d18e12837f6717336de27957f7f'): 115,\n",
       " ('ecoinvent 2.2', '356f93d680dafe3e15aa9c754befe0c8'): 2289,\n",
       " ('ecoinvent 2.2', 'dd8718545a815f4b2b3892608d5ea22d'): 1729,\n",
       " ('ecoinvent 2.2', '942696d83dda75b8e19a04f3f65e2a85'): 1441,\n",
       " ('ecoinvent 2.2', 'bbcfd3a4836f56b5fd695f44587145a9'): 331,\n",
       " ('ecoinvent 2.2', '29f16183cdaca8d950e3a66a58f495d8'): 3567,\n",
       " ('ecoinvent 2.2', 'd7f5c1d93631927930c52545e2f145f6'): 1640,\n",
       " ('ecoinvent 2.2', 'c0f215fd57634289a575c0f9b982b58c'): 920,\n",
       " ('ecoinvent 2.2', '0f260d2284f69fe6e96386b784908ec1'): 1350,\n",
       " ('ecoinvent 2.2', '07459350f56bcd9b563dd4337762bb92'): 1482,\n",
       " ('ecoinvent 2.2', '2e1b19c94823002d8393cddb7ff47320'): 1601,\n",
       " ('ecoinvent 2.2', '2621b2e2215ea545b8275dff8fa656b5'): 358,\n",
       " ('ecoinvent 2.2', '78e5bfb3f1871d15362dcf02ea3f0b3a'): 861,\n",
       " ('ecoinvent 2.2', 'b84c2f43c063b9edf21e6cb1a314e84d'): 637,\n",
       " ('ecoinvent 2.2', '03aeb5b54d3b1f23a7a0e82b983b3f54'): 1076,\n",
       " ('ecoinvent 2.2', 'f308d0a386c733ab75ce689b427f7edd'): 3222,\n",
       " ('ecoinvent 2.2', '5a348718f83a18568117d70ba5f2b7f9'): 3871,\n",
       " ('ecoinvent 2.2', 'e7e9f73a2230b988ec9f529752954598'): 2660,\n",
       " ('ecoinvent 2.2', '48a6f998061dc064e55a384199f18624'): 1235,\n",
       " ('ecoinvent 2.2', 'cc2741cc570cc269d1da89d3eae71427'): 871,\n",
       " ('ecoinvent 2.2', '3e255fa3f19a2938cbec2478e44c5cd5'): 742,\n",
       " ('ecoinvent 2.2', 'd3e59ece063ff8369708980552cf133a'): 3661,\n",
       " ('ecoinvent 2.2', '8322146f4f2e6afc545838a2a051deb8'): 2394,\n",
       " ('ecoinvent 2.2', '4ed7c2f2c53aea20b1131b09994fb02a'): 2068,\n",
       " ('ecoinvent 2.2', 'db043d8f1621a6ae764ade2bc2d375a8'): 2692,\n",
       " ('ecoinvent 2.2', '955e60a69101ef96a72e9397d8313379'): 3650,\n",
       " ('ecoinvent 2.2', '0685e8abb2734885d532c59ff4230211'): 1336,\n",
       " ('ecoinvent 2.2', '6e610a50374298d1ff00c442a20f461e'): 1902,\n",
       " ('ecoinvent 2.2', 'b1546d82102d27b81543c417cb34019c'): 83,\n",
       " ('ecoinvent 2.2', 'b6f99b10dfa09f27ace1bc8088e46691'): 1686,\n",
       " ('ecoinvent 2.2', '04f5ae0103b52a936e535f6963218a59'): 3941,\n",
       " ('ecoinvent 2.2', 'c385eb891ae2c0e7eda8488de5562e4b'): 2260,\n",
       " ('ecoinvent 2.2', '47818660eda10ead3a24546e8ff06622'): 3146,\n",
       " ('ecoinvent 2.2', 'cfc52ad6a567c8397f48942197b9af2e'): 320,\n",
       " ('ecoinvent 2.2', '724f1e50d5f2d8904c1b86731fd63b69'): 2564,\n",
       " ('ecoinvent 2.2', 'f06925011cbe2cdd952a7fd6e6904056'): 1253,\n",
       " ('ecoinvent 2.2', 'c1f23fee50292eff16da5dcb52caef3b'): 1906,\n",
       " ('ecoinvent 2.2', '3ccb5ac0ca91889a454c2d332a9a89a7'): 126,\n",
       " ('ecoinvent 2.2', 'e7a76b924a134964f12f1f5128a28dbc'): 441,\n",
       " ('ecoinvent 2.2', 'cb41beb3a77c1a9be99259a88d5e3b2b'): 2078,\n",
       " ('ecoinvent 2.2', '324b280432258e49a95859af9fb921db'): 3841,\n",
       " ('ecoinvent 2.2', 'f0130eedef34edb345c59b0e86a5797a'): 2637,\n",
       " ('ecoinvent 2.2', '64f6d365488c965e1293b3d612fd5146'): 26,\n",
       " ('ecoinvent 2.2', '9c7e3add9b93a550cae7ebbcc292ce30'): 150,\n",
       " ('ecoinvent 2.2', '8fee3e4a99f7fa8f7a3fa96af65a3cf7'): 4064,\n",
       " ('ecoinvent 2.2', 'b17c801a2304e85ac32d8a11aaca05d7'): 673,\n",
       " ('ecoinvent 2.2', 'e1424b1e14bfcfde6ac7eeb5ad38a623'): 3307,\n",
       " ('ecoinvent 2.2', '3688d91f78f69ba5fc4d55e6f90b1655'): 663,\n",
       " ('ecoinvent 2.2', '29bdcc0c0fe098b7a7d66f701ade256b'): 469,\n",
       " ('ecoinvent 2.2', '173cbd1d754c4a1d491219f8844cdb48'): 2354,\n",
       " ('ecoinvent 2.2', '440daad6f1c3e92a674a16403f6b4380'): 694,\n",
       " ('ecoinvent 2.2', 'f237fd234e7d3752bdb210738e245f22'): 3471,\n",
       " ('ecoinvent 2.2', '9ba3657652bfbdbb3dff20a1087999d0'): 670,\n",
       " ('ecoinvent 2.2', '5e068d9817a1bd53f75160497d039370'): 986,\n",
       " ('ecoinvent 2.2', 'c60ee618961fac3d52721a6d3832e395'): 3482,\n",
       " ('ecoinvent 2.2', '478ebdd21053c837017956e3c61affbc'): 1966,\n",
       " ('ecoinvent 2.2', '44d72b56a102b66905a4faced7245503'): 2948,\n",
       " ('ecoinvent 2.2', 'bd86fdc1614d73e5a58b504195d4c6ef'): 3372,\n",
       " ('ecoinvent 2.2', '5b40ebbc44feb3f310dc3b665156c12a'): 1591,\n",
       " ('ecoinvent 2.2', '83f0f53b7d9d0bb78cd2b530c95439ad'): 573,\n",
       " ('ecoinvent 2.2', '5fae7f9aa4b5afb1ff75695b4d125293'): 2087,\n",
       " ('ecoinvent 2.2', 'e384ba53adde5b6eb97e9bca2ac0d44c'): 395,\n",
       " ('ecoinvent 2.2', 'b6dcafa9300441e5813ba792d3c4a1c9'): 172,\n",
       " ('ecoinvent 2.2', '1450eec3c479ad9564f592df638004b9'): 2434,\n",
       " ('ecoinvent 2.2', 'b22a6393033ccc0fd1b09679e8eede9c'): 2192,\n",
       " ('ecoinvent 2.2', 'bee0fed5e821db8b9150a3385e597fa3'): 1180,\n",
       " ('ecoinvent 2.2', 'e2b2973c59b3befbeca26f8e143ffbce'): 1927,\n",
       " ('ecoinvent 2.2', 'c523e65bb91adcda7949493a47250d2d'): 966,\n",
       " ('ecoinvent 2.2', '36d0c36706b070192bcbc3f54d6a187e'): 2395,\n",
       " ('ecoinvent 2.2', 'babaef44861ea9923ef19887d34eabf5'): 2557,\n",
       " ('ecoinvent 2.2', '141fccb14a70eacd331a73a9d940a5a6'): 2470,\n",
       " ('ecoinvent 2.2', '78079490ee2c3fd51724730d83d78322'): 529,\n",
       " ('ecoinvent 2.2', 'e84f334ff85e272303f8bf36f55b046a'): 1722,\n",
       " ('ecoinvent 2.2', '190d8254b953eedd9f0a2a59a051380a'): 2030,\n",
       " ('ecoinvent 2.2', '1f541b6726f1fe22a5ae64cc7b286e34'): 2385,\n",
       " ('ecoinvent 2.2', 'fd0ac9226f3d580a3f3cd4e51fff6670'): 1290,\n",
       " ('ecoinvent 2.2', 'fcf559779454f1841cf30b585b8b95c2'): 1708,\n",
       " ('ecoinvent 2.2', 'fa6ea8e8511af1746f54d49a5714d266'): 2388,\n",
       " ('ecoinvent 2.2', 'f13039af74b7c36481e89c23b8430389'): 1726,\n",
       " ('ecoinvent 2.2', '6c13d2f3f9d209089f4dd43f7b0919cf'): 2031,\n",
       " ('ecoinvent 2.2', 'b0397534593b2e117dddc2c7c4a7881a'): 981,\n",
       " ('ecoinvent 2.2', '659163d5c37ff889ea6a0c004e478672'): 325,\n",
       " ('ecoinvent 2.2', '637e3caa3e2dccc00f0ca934314db726'): 950,\n",
       " ('ecoinvent 2.2', '9d9c38df9c6f78dee442a8be33e5821a'): 1431,\n",
       " ('ecoinvent 2.2', '6dfcae865965825428f488fe01f03147'): 1641,\n",
       " ('ecoinvent 2.2', '3c4a61469cc4a67995d2754866fa5457'): 2508,\n",
       " ('ecoinvent 2.2', '2518509c1ae60cff8170d9a6ee0679ef'): 2475,\n",
       " ('ecoinvent 2.2', '1699bd0d308c0adc53b99032de943d74'): 552,\n",
       " ('ecoinvent 2.2', 'd171577d3073e33e76a75e9c46254732'): 3181,\n",
       " ('ecoinvent 2.2', 'd497555b394857bd615bf7b52f8818b8'): 2455,\n",
       " ('ecoinvent 2.2', '28c6e8782babb843b5a1d212b6f09437'): 1135,\n",
       " ('ecoinvent 2.2', 'a8527ddd298bb45dc1cbf2828a249313'): 757,\n",
       " ('ecoinvent 2.2', '18831206d2bb843a208759f1de74e743'): 907,\n",
       " ('ecoinvent 2.2', '163a6d0e2da347b14e7f30c8325e6e96'): 1838,\n",
       " ('ecoinvent 2.2', 'cd94aaa02082c259a9f420ecec2c47d0'): 3429,\n",
       " ('ecoinvent 2.2', 'b9cb499f9ff990bbf0cef2b2e04ecee8'): 651,\n",
       " ('ecoinvent 2.2', '71a2cae4b02442f42acf7588a5bb1262'): 647,\n",
       " ('ecoinvent 2.2', 'f11da7e0ea87fb2a976ba82453fde6da'): 321,\n",
       " ('ecoinvent 2.2', 'bcad45e0c9832b8020bc7d41b9af9168'): 2570,\n",
       " ('ecoinvent 2.2', '778f0d4382c7f53cab93b9ce6e069a9e'): 301,\n",
       " ('ecoinvent 2.2', 'd4c8957ce20b0c0444e9f0b98000acfb'): 2730,\n",
       " ('ecoinvent 2.2', '1cd2a763cfb1b857e5e5d4f9a1c762fe'): 2736,\n",
       " ('ecoinvent 2.2', 'efae0c8a184b159063615d39aa893feb'): 2814,\n",
       " ('ecoinvent 2.2', '3f78663ae6c627bb93d26c75acb89d8a'): 945,\n",
       " ('ecoinvent 2.2', '8749b43ddb99a730bc437c1842cc510b'): 1840,\n",
       " ('ecoinvent 2.2', '10063e8bbc0f217a09bf85fd5aa77d3e'): 1335,\n",
       " ('ecoinvent 2.2', 'ddd452c493fad6132689330288ace8c6'): 876,\n",
       " ('ecoinvent 2.2', '229b84931aa1cd4101195fe3dea248d3'): 1258,\n",
       " ('ecoinvent 2.2', '667d1d2857fffa07b929cad26099d42f'): 3592,\n",
       " ('ecoinvent 2.2', '6ee3dfd46fd4941e8a96ae4552c2e4f0'): 2051,\n",
       " ('ecoinvent 2.2', 'ea1e182643722c9f172df231acbdc731'): 429,\n",
       " ('ecoinvent 2.2', '6fec3b62b78076adf9726e3bfffb7b21'): 3208,\n",
       " ('ecoinvent 2.2', '3019cbabc9f92ceb35e3c06da8c72be7'): 4010,\n",
       " ('ecoinvent 2.2', '21f5e4e8e0200778f721a5f075aa2849'): 2060,\n",
       " ('ecoinvent 2.2', 'c5b1b23106de563521d409efe8df7a3b'): 3735,\n",
       " ('ecoinvent 2.2', '8f0f5c19b903963a1f5c75fbdeaaa7d9'): 391,\n",
       " ('ecoinvent 2.2', 'aefe9d82f1fe06618bd6799c8375a617'): 2175,\n",
       " ('ecoinvent 2.2', '6db5573b1b4c4cafa6c80f37708d57b9'): 3381,\n",
       " ('ecoinvent 2.2', '87a48793e9c0e9df38dec8d5062ce701'): 1905,\n",
       " ('ecoinvent 2.2', '7c28dd87f816fb85a153fab7fa330ecb'): 2199,\n",
       " ('ecoinvent 2.2', 'bde4137f9eefbba4479acc6be81f1cc3'): 3323,\n",
       " ('ecoinvent 2.2', '216b50b049d8475b75181fbd20e4410c'): 1352,\n",
       " ('ecoinvent 2.2', '11f7f242eeccdb2ec1de5724d1f582b5'): 1531,\n",
       " ('ecoinvent 2.2', '7abb0c51ebe02ba2601b204992ef546b'): 1653,\n",
       " ('ecoinvent 2.2', '65c28aecf660cd3aec08b128b55b19a0'): 511,\n",
       " ('ecoinvent 2.2', 'ea8e1e987bc164e0a1020f1f6286a97d'): 1202,\n",
       " ('ecoinvent 2.2', '611795921d7ae90cbbd1a1fee90c8c4a'): 3706,\n",
       " ('ecoinvent 2.2', 'ec1035da4d7fbea7c714fbfbf3948174'): 3245,\n",
       " ('ecoinvent 2.2', 'b916977ce37a678c6671c8adb6ac1896'): 1587,\n",
       " ('ecoinvent 2.2', '4014bba7655493e17e670fb72959328b'): 2600,\n",
       " ('ecoinvent 2.2', '3805a4b230219fd83e629658a64479d3'): 1595,\n",
       " ('ecoinvent 2.2', '285140b9b06b53bf24a70bc1a22b7be6'): 3304,\n",
       " ('ecoinvent 2.2', 'a182e33fe0740abb046910154bec6c0f'): 880,\n",
       " ('ecoinvent 2.2', '926fd9247389e6fbb16ce07424d7f432'): 1443,\n",
       " ('ecoinvent 2.2', '3e1008ff16780d37de36603de428487e'): 2515,\n",
       " ('ecoinvent 2.2', '71a80d43e969804966eeeb70e4c483d9'): 1739,\n",
       " ('ecoinvent 2.2', '806c5c5143b66f9a9756182570123400'): 353,\n",
       " ('ecoinvent 2.2', '6f2edfd18af513bc8897568a41b308a3'): 3073,\n",
       " ('ecoinvent 2.2', 'f7938715894cfec3f4a1701ab55f95c4'): 2188,\n",
       " ('ecoinvent 2.2', 'a765f05aadacde91d64b7e2b5a53216b'): 2396,\n",
       " ('ecoinvent 2.2', '429accb8ddb37b6f557cc43bd5efa71c'): 4011,\n",
       " ('ecoinvent 2.2', 'ac5645149b355208033a7e798c0503ea'): 1915,\n",
       " ('ecoinvent 2.2', '7e9c49d6bd8429d902fb666887793f40'): 127,\n",
       " ('ecoinvent 2.2', '747811f7aae8e0dd35c5d003d0380cc0'): 3068,\n",
       " ('ecoinvent 2.2', '1a39a9d6432f294da00488662342a3ea'): 3330,\n",
       " ('ecoinvent 2.2', '5e6544502842d9005bd34efafc94245d'): 3891,\n",
       " ('ecoinvent 2.2', '3cfeb98b1f47b572af7e190c9cf140ba'): 1611,\n",
       " ('ecoinvent 2.2', 'e79ae75a4194c3399df687ef01060ebd'): 607,\n",
       " ('ecoinvent 2.2', 'f69abf9852c5b68f473de131bf57e875'): 2669,\n",
       " ('ecoinvent 2.2', '98eb4b1cfee2d1715f3157f409e26d5e'): 1951,\n",
       " ('ecoinvent 2.2', 'c3db272da7810c33922b99e4319deb52'): 608,\n",
       " ('ecoinvent 2.2', '80092b4e527c779c573ce278636718de'): 2467,\n",
       " ('ecoinvent 2.2', 'bc223c4efe11430f38e0f39357e27368'): 1541,\n",
       " ('ecoinvent 2.2', 'bc6dea82432ed88519c9255b05766021'): 3534,\n",
       " ('ecoinvent 2.2', 'ed8f94a3262ee5a992d7881833b51f44'): 877,\n",
       " ('ecoinvent 2.2', '8919589e48310c520471da2ff661bc00'): 1978,\n",
       " ('ecoinvent 2.2', 'b2059e21199fa638ff9431049f6f2dfd'): 2408,\n",
       " ('ecoinvent 2.2', '7aece52180cc341e24e4c7aac7118271'): 2942,\n",
       " ('ecoinvent 2.2', 'd3e3a1e130a7eeaa90c5cddb3e343df3'): 3298,\n",
       " ('ecoinvent 2.2', '9bce9ef094c25f24940d3d0e6d30b613'): 1695,\n",
       " ('ecoinvent 2.2', 'e4744b7227275505c2dad1166da27697'): 4009,\n",
       " ('ecoinvent 2.2', '03a05a1b4485e6640e02b85723ef3f58'): 2453,\n",
       " ('ecoinvent 2.2', '61f591763f030d6ed886d5cf559a83ba'): 633,\n",
       " ('ecoinvent 2.2', '4f5104d2e5ec73fe1f541729759266d7'): 4078,\n",
       " ('ecoinvent 2.2', 'd02e3e006d70d064ab09648e8802c917'): 1584,\n",
       " ('ecoinvent 2.2', 'f51c32714d5d5fbceda24dcf96653ba0'): 786,\n",
       " ('ecoinvent 2.2', '6f6805e82cdde09ae25f282c5e7e3040'): 1711,\n",
       " ('ecoinvent 2.2', 'c79f110488afda91f1fdadfd4a0e3773'): 1293,\n",
       " ('ecoinvent 2.2', 'ab5fba311f743e338a0b354b34c87253'): 1181,\n",
       " ('ecoinvent 2.2', 'fd897315659f76cba0f29c4280b74ff4'): 20,\n",
       " ('ecoinvent 2.2', '5044a3a9c3864a658d22517e7ee6a2f9'): 3219,\n",
       " ('ecoinvent 2.2', 'a3d9aa6520471536e5d8462bcbbd372c'): 1344,\n",
       " ('ecoinvent 2.2', '954c9d8be884c62107bbd25f9ca71540'): 1954,\n",
       " ('ecoinvent 2.2', '2d29aedad0dd464efb13e3702a1e24cb'): 1337,\n",
       " ('ecoinvent 2.2', '4fda80619cf844945e1ed4384a66f87c'): 1526,\n",
       " ('ecoinvent 2.2', '34e565b5f37ca9663be74f4f974572c7'): 1484,\n",
       " ('ecoinvent 2.2', '947e46102d1ec80c126929aa4781ee67'): 3173,\n",
       " ('ecoinvent 2.2', '6eaf49dde2a26a3057f1ff2c4b298c1f'): 3275,\n",
       " ('ecoinvent 2.2', 'fabe7da26ba2117d2d61d21368912fbd'): 48,\n",
       " ('ecoinvent 2.2', '7cbe8aaf33cbe963cfe9c71fe50da572'): 2737,\n",
       " ('ecoinvent 2.2', 'e7a5a0fdec55bc81d38e16086ad80bb2'): 2839,\n",
       " ('ecoinvent 2.2', '9474e77916f97e16425ecf2e34133990'): 931,\n",
       " ('ecoinvent 2.2', '2ada6b7078550353c11cdac01ce832fe'): 2872,\n",
       " ('ecoinvent 2.2', 'c765fe066d5a1dc4c3e9b335b0b97cd3'): 935,\n",
       " ('ecoinvent 2.2', '7267ad18c24213decf1c9428bca4914f'): 3674,\n",
       " ('ecoinvent 2.2', 'cb6c48b6c940004f31eb018628126269'): 485,\n",
       " ('ecoinvent 2.2', '80033c5b8777462ca464b42be6ac56f5'): 3775,\n",
       " ('ecoinvent 2.2', '7cc62f8cbb76018b540eba9036bf56be'): 3540,\n",
       " ('ecoinvent 2.2', '791e8ede2880c07b86f0ebd7b38d3cbe'): 1922,\n",
       " ('ecoinvent 2.2', 'f28b7bc98140ad6bae316846ce87db5e'): 1505,\n",
       " ('ecoinvent 2.2', '29c2caa0b6f3ef12153de4a7366e373e'): 1231,\n",
       " ('ecoinvent 2.2', '3d093462c814ebedca48cb6ea5b13d63'): 3727,\n",
       " ('ecoinvent 2.2', '308c7b075abd476277f74953473c22dd'): 546,\n",
       " ('ecoinvent 2.2', '8f3fb49bbe1b488ffcae92a85583da94'): 271,\n",
       " ('ecoinvent 2.2', 'dd6c42160ab83f148ddeb017b0cc0184'): 3242,\n",
       " ('ecoinvent 2.2', '4a3de31524f290245db249c2d71d7c08'): 3531,\n",
       " ('ecoinvent 2.2', 'f193eaf8953272cecf9f598d020af293'): 1013,\n",
       " ('ecoinvent 2.2', '1911605f44f0f70bc9cf1b4751a97a55'): 222,\n",
       " ('ecoinvent 2.2', 'c4650db38b768c68203af07cda518e58'): 2646,\n",
       " ('ecoinvent 2.2', '72e251d14083fbc92bad8ad20d0bcb37'): 1993,\n",
       " ('ecoinvent 2.2', '76b0896e2cfae9ec0e76de7bd65f4703'): 289,\n",
       " ('ecoinvent 2.2', '8afdddc74cbf1f0a512c69178cdef5f6'): 3666,\n",
       " ('ecoinvent 2.2', '0f26d8ad7eecffaeccfb03f83498eb48'): 1364,\n",
       " ('ecoinvent 2.2', '1049da34ba32dde1b859f370db6192e2'): 3223,\n",
       " ('ecoinvent 2.2', 'd868daa6f62cb7c86a3fa90285c89083'): 373,\n",
       " ('ecoinvent 2.2', '1ca2482cf5366087083e35dd44ce38d2'): 1406,\n",
       " ('ecoinvent 2.2', '0d1be9bb2a648cce91d7ae7830438825'): 3028,\n",
       " ('ecoinvent 2.2', '6c6e85044c0394b6a4a031e7050a2654'): 380,\n",
       " ('ecoinvent 2.2', '8eab7a2ccdcb36f8d5d27f5b3a79734c'): 1087,\n",
       " ('ecoinvent 2.2', '9682d8ee9bef704c992f3e515b14ca50'): 3200,\n",
       " ('ecoinvent 2.2', '84d479a301f741330d5135341041d74f'): 1129,\n",
       " ('ecoinvent 2.2', 'f11e98a94d3f2584bbc90d9b0a3bf580'): 450,\n",
       " ('ecoinvent 2.2', '98478afa341e283c47ff1dab814fe706'): 2607,\n",
       " ('ecoinvent 2.2', '1544c6d739481abef04993ad6cd51eeb'): 3352,\n",
       " ('ecoinvent 2.2', 'cd9833ece909fee81d6ad87d24434ee9'): 891,\n",
       " ('ecoinvent 2.2', 'a8eb1ff3ffeb7ce1e4880b5fcdafbdf2'): 217,\n",
       " ('ecoinvent 2.2', 'db813cc1cf15eae89fcf7b2c638ca9f2'): 1387,\n",
       " ('ecoinvent 2.2', '432f61486228f4d3ffbbbb4e4b096e26'): 1442,\n",
       " ('ecoinvent 2.2', '5f040bd0d8322e4b47ef1ea87f9d6a46'): 178,\n",
       " ('ecoinvent 2.2', 'eb83d68b71f717bdaef16efe8e03f856'): 1557,\n",
       " ('ecoinvent 2.2', '2af78ede33e9b491a64507717663bdbd'): 2742,\n",
       " ('ecoinvent 2.2', '51184cdab6436ca29ee25cde51175f19'): 3751,\n",
       " ('ecoinvent 2.2', 'd857b4a04ff398efcc1c0743a5867e89'): 1688,\n",
       " ('ecoinvent 2.2', '2e86edb4e73f19b5338cf7dedbb514b8'): 2744,\n",
       " ('ecoinvent 2.2', '4edb2a9d549435894686c47129f38318'): 2263,\n",
       " ('ecoinvent 2.2', '82f786a301e9dfbadc2077e565215fbc'): 696,\n",
       " ('ecoinvent 2.2', '38e873c0c69c1651ca5dd1a4100e3d8a'): 3260,\n",
       " ('ecoinvent 2.2', 'acb3a11f5d01b5f0852a01b98e08c140'): 2603,\n",
       " ('ecoinvent 2.2', 'db52971b2b82b6824410ea1306719439'): 3474,\n",
       " ('ecoinvent 2.2', '7e0bc9caeb0a4f73c6423014187e5c93'): 58,\n",
       " ('ecoinvent 2.2', 'ca67e74edf066b9f190a125dffec1861'): 1724,\n",
       " ('ecoinvent 2.2', 'ba8a8bac5f232efde5cae0cecc6a81dc'): 3060,\n",
       " ('ecoinvent 2.2', '841cb8f0aaad3dd435509aa935558ab8'): 3024,\n",
       " ('ecoinvent 2.2', '8b91f1601923e2e4c708a80d5875b703'): 2543,\n",
       " ('ecoinvent 2.2', '91d92d05c8cde672a9cb8ae3e2d1a37e'): 1947,\n",
       " ('ecoinvent 2.2', 'e5f275273b05f61fb6ec9dbfe9dccab2'): 2924,\n",
       " ('ecoinvent 2.2', '4fff2b2ebd7fb3c83a6ac8250c8f03e1'): 2797,\n",
       " ('ecoinvent 2.2', '6aa5a769de66f1aabb19855501647cf0'): 3504,\n",
       " ('ecoinvent 2.2', 'ae82d8bf701ce970fcd0f2b480ff1531'): 445,\n",
       " ('ecoinvent 2.2', 'd7df0e89997232d97ffed81aba8498ab'): 235,\n",
       " ('ecoinvent 2.2', '1a7446bdd805031efbba389473f41ee5'): 190,\n",
       " ('ecoinvent 2.2', 'caa376799541240fa36007d7e5c489ab'): 662,\n",
       " ('ecoinvent 2.2', 'aba8b7d81e5da9af781d5ad340719c1f'): 1010,\n",
       " ('ecoinvent 2.2', '126e60b794cbb4176efaf123f0d5dd00'): 324,\n",
       " ('ecoinvent 2.2', '6b580882ede57b07a2e0ed6abadf6b9e'): 1863,\n",
       " ('ecoinvent 2.2', '589d5f8a9eb3368dec65928319858ec2'): 3935,\n",
       " ('ecoinvent 2.2', 'cedac16ed26c6b21f8917a779f369580'): 3617,\n",
       " ('ecoinvent 2.2', 'ac937db1bde94b7addd3257f85985c49'): 3340,\n",
       " ('ecoinvent 2.2', '2c2bff11551a703cf84872348ed3b3c3'): 2787,\n",
       " ('ecoinvent 2.2', '0ba59ba2d017e7cb19d193dad10f1132'): 3596,\n",
       " ('ecoinvent 2.2', '7024bf696db08c9078177af3784dd4f7'): 2038,\n",
       " ('ecoinvent 2.2', 'dc1eb5a6958085666d164a761cba2b16'): 3857,\n",
       " ('ecoinvent 2.2', '6aee1df3e4b757c8a6c81befcaa8a643'): 883,\n",
       " ('ecoinvent 2.2', 'b6a162acba0b222fa3c3e9c67bb2debf'): 2877,\n",
       " ('ecoinvent 2.2', '8b3b81dff723527cf44ad7f6ab574a75'): 1433,\n",
       " ('ecoinvent 2.2', 'f55836b491d39bedda5876ef557b8521'): 522,\n",
       " ('ecoinvent 2.2', '4ddb7df96a57a85e0f27601d0715c6c7'): 3637,\n",
       " ('ecoinvent 2.2', '6b4828f2a1192ebd654c53770bb4249b'): 3382,\n",
       " ('ecoinvent 2.2', 'c1aa4fde7d68224e4331c820116664bd'): 1958,\n",
       " ('ecoinvent 2.2', '68ac8d8df61d28cf5df90c8a5e0f8f70'): 3186,\n",
       " ('ecoinvent 2.2', '4c7cc1f25a2db4d4fd625d20e9b21afe'): 1213,\n",
       " ('ecoinvent 2.2', '47d0e55e604f9f4c39b1eb27434f510f'): 3203,\n",
       " ('ecoinvent 2.2', '93fcc4bbc384e655b0a6b15664179c1a'): 3365,\n",
       " ('ecoinvent 2.2', '36d68d5addf03f5789458ae9bac9316d'): 1789,\n",
       " ('ecoinvent 2.2', '65177bf04972b46bd5b3ca47c227d2bb'): 606,\n",
       " ('ecoinvent 2.2', '483a95c24e857e171901db1d09732a40'): 265,\n",
       " ('ecoinvent 2.2', '13e17cea8a16a6ad0e62d4b6d2006c50'): 3326,\n",
       " ('ecoinvent 2.2', '435f08fab9fbb6d73851fcee34adf836'): 80,\n",
       " ('ecoinvent 2.2', 'dc35dbce21950ba2d0c3884774017a24'): 2366,\n",
       " ('ecoinvent 2.2', 'e46d0ade85f4ef2b8b4e05c497b7d034'): 1665,\n",
       " ('ecoinvent 2.2', '2aca95f5baf104e79cca416cf00ec16e'): 2358,\n",
       " ('ecoinvent 2.2', 'acbe53932d7580d76743af2e819d38b0'): 1450,\n",
       " ('ecoinvent 2.2', '5bdd0f0fe8a89ae3040de3e2776e5d9c'): 2365,\n",
       " ('ecoinvent 2.2', '90e0285e3f22fd91c1e15055b78b78d7'): 3913,\n",
       " ('ecoinvent 2.2', '9115cbe6ebd11b3bb837e7c3253463e0'): 439,\n",
       " ('ecoinvent 2.2', '7284ebb450e0d5e38538a85073da2df2'): 2805,\n",
       " ('ecoinvent 2.2', '062557ddb15b56841cbb24c419fe148f'): 1192,\n",
       " ('ecoinvent 2.2', '54156c50f9d6b517779d9b44f8cef110'): 2689,\n",
       " ('ecoinvent 2.2', 'ae81a33baeae65ad43587a057a298533'): 145,\n",
       " ('ecoinvent 2.2', '8474266a5a2f0e2416d98d05a7db4c68'): 3005,\n",
       " ('ecoinvent 2.2', '251f78023e49d2d7e9d239f55cac3fa3'): 2125,\n",
       " ('ecoinvent 2.2', '1c768f9323e4674615eccbfeaa5f8995'): 2489,\n",
       " ('ecoinvent 2.2', '9f04b833fffc649c8b71dcf45a5a4fd6'): 3627,\n",
       " ('ecoinvent 2.2', '03d1dae757be4f47423fc8487fcd83ba'): 2977,\n",
       " ('ecoinvent 2.2', 'baebc5b3eb75f24c2da90a27c91a5309'): 785,\n",
       " ('ecoinvent 2.2', '372f8c811c27f47e20fa135b57e93c98'): 3903,\n",
       " ('ecoinvent 2.2', '5b279828ac1fac933e0ea18fc9ed3ccd'): 2435,\n",
       " ('ecoinvent 2.2', 'd4c66f8935ddce5f5703c4e8c1558297'): 1475,\n",
       " ('ecoinvent 2.2', '0ba2b958d6a25ca447f6061dc47fbd32'): 1305,\n",
       " ('ecoinvent 2.2', 'c1c08eff50c292c0ee8f6905d4a061e2'): 1630,\n",
       " ('ecoinvent 2.2', 'fca94068fc4560ee8600c8915ea622c1'): 2461,\n",
       " ('ecoinvent 2.2', '7a49ebee3d4ee39241798f8b6f0de9e2'): 1465,\n",
       " ('ecoinvent 2.2', '7622cffcaf0f1120367eacea3a86c28d'): 3532,\n",
       " ('ecoinvent 2.2', 'f95cf2111d2936872ae4113549d34224'): 2402,\n",
       " ('ecoinvent 2.2', '6fbf92235e77bc62f2915c9f786655c7'): 89,\n",
       " ('ecoinvent 2.2', 'd930c4588e71772fb1eecf23e7feff2c'): 355,\n",
       " ('ecoinvent 2.2', '227c66e50f496a9ab51cb017210d436f'): 73,\n",
       " ('ecoinvent 2.2', '0ed22f9ed8f70252f0ffc2ad19e67e7f'): 2667,\n",
       " ('ecoinvent 2.2', '98cd624c2c5629f5e74598c99e0be249'): 653,\n",
       " ('ecoinvent 2.2', '5999e0a77e3e6268ea2453b9e42720a8'): 1232,\n",
       " ('ecoinvent 2.2', '355d0fd97b4eabde3a97df8bc28ef21d'): 1259,\n",
       " ('ecoinvent 2.2', '3793e103e68369faa954eb096a68dc40'): 3949,\n",
       " ('ecoinvent 2.2', '4a6f40264647455999a21baf57f2d94d'): 3772,\n",
       " ('ecoinvent 2.2', 'c4871b2ba374d55f31cd0f6f9fbecebd'): 167,\n",
       " ('ecoinvent 2.2', 'cdbb87e7b2f8375d2928a2b7d1674e9e'): 136,\n",
       " ('ecoinvent 2.2', '4ac78f67ad4d80f0f24defbadabea1e0'): 88,\n",
       " ('ecoinvent 2.2', '1a8c8d048e04e3ec030f5af63f5d5826'): 1169,\n",
       " ('ecoinvent 2.2', '559468e1e537a374f91aae736a52bbc8'): 2392,\n",
       " ('ecoinvent 2.2', '9b4c968a020044c6d60576bcca400c9a'): 1556,\n",
       " ('ecoinvent 2.2', '4d152b969c29785c004d8bcd1567c275'): 3506,\n",
       " ('ecoinvent 2.2', 'd36db568dc1535e76ead3887c32eecf5'): 666,\n",
       " ('ecoinvent 2.2', '20b53b2b23b84d927c01e3df352a6d29'): 1489,\n",
       " ('ecoinvent 2.2', '37df44b9e86d3eb3a608300cd72961dd'): 794,\n",
       " ('ecoinvent 2.2', 'f89a5ede33629c592de2d0147fa3be44'): 2533,\n",
       " ('ecoinvent 2.2', '0343304a200e52da33eae0fdcc611284'): 2127,\n",
       " ('ecoinvent 2.2', 'b6a1cc55cc4e31e2ebd3052ad0557b0b'): 1703,\n",
       " ('ecoinvent 2.2', '57e379d4209f51b668fba048f936d945'): 3416,\n",
       " ('ecoinvent 2.2', '4d98673493f1353b3c0c6dbf8091f33b'): 3713,\n",
       " ('ecoinvent 2.2', 'e4bbea6a0f9b55c4cc6f66b8c1899db2'): 3918,\n",
       " ('ecoinvent 2.2', 'a9cb260b001af19c8cdd2934f89dcae4'): 2382,\n",
       " ('ecoinvent 2.2', 'd1a09813a13281d30384e02bb2f11c98'): 1875,\n",
       " ('ecoinvent 2.2', '6b0c6681ac310066cae566b27c9487cb'): 917,\n",
       " ('ecoinvent 2.2', 'b08576a3ccb6fd6c93e9f37d6c3ec26d'): 2664,\n",
       " ('ecoinvent 2.2', 'f3ac02c8141230a583e98c347555fded'): 376,\n",
       " ('ecoinvent 2.2', '0bc2e6416f079443a34e6c3a3fd492cc'): 1797,\n",
       " ('ecoinvent 2.2', '809a2d38996ed2998c491713bbc8b440'): 2070,\n",
       " ('ecoinvent 2.2', '26b95b8907651cf478a9136a5c9834b3'): 1599,\n",
       " ('ecoinvent 2.2', '63c6639d65fc9ac6987caba981d80280'): 1215,\n",
       " ('ecoinvent 2.2', 'cf79f31296b656b43ea4db41d5350534'): 1110,\n",
       " ('ecoinvent 2.2', '4e7033957ac91f481ac3b2f752c7ba72'): 912,\n",
       " ('ecoinvent 2.2', '42827f2aa807cc4dfcb58f8462d6c71b'): 849,\n",
       " ('ecoinvent 2.2', '07a6425a12e231e6f634defbc54e9c33'): 2769,\n",
       " ('ecoinvent 2.2', '9b35e1d84762e553d577a77602185484'): 287,\n",
       " ('ecoinvent 2.2', 'f7e353e797be96158e6da22509456313'): 239,\n",
       " ('ecoinvent 2.2', '0700a55cd2cf6f0aaa9218d9edb61026'): 725,\n",
       " ('ecoinvent 2.2', '38c0572afa7676d9473a51079f91a369'): 1250,\n",
       " ('ecoinvent 2.2', 'b43c9a5d17b5dd69da7f39e3786a7c5b'): 2210,\n",
       " ('ecoinvent 2.2', 'bcf5e56f662cf53860fb83a9925e7a8d'): 3696,\n",
       " ('ecoinvent 2.2', '05f16e9b02c19a973bd0b6899daab336'): 2628,\n",
       " ('ecoinvent 2.2', '26ee0b43e28f7e1f49f2b66f94c7d82e'): 1100,\n",
       " ('ecoinvent 2.2', '3ac8eb51a9fdb8b6cf2a865d1a206578'): 3796,\n",
       " ('ecoinvent 2.2', '8db0e8e81df46437329678a429a6054a'): 2696,\n",
       " ('ecoinvent 2.2', 'a6ea82d2a367db778dc20390d7c84afe'): 2526,\n",
       " ('ecoinvent 2.2', '9e31a87c2fb6c1dc8df08a83e8dae942'): 174,\n",
       " ('ecoinvent 2.2', 'e1f7aeccd78dc3aa8debb4cded107883'): 1538,\n",
       " ('ecoinvent 2.2', 'c86884ee2fe3fe507d0ed92e2966b73b'): 3108,\n",
       " ('ecoinvent 2.2', 'd5f72ba3e8316c2091d50fa37047aaec'): 3051,\n",
       " ('ecoinvent 2.2', 'b79dbeb05a4ce0124f171b34d86697ba'): 400,\n",
       " ('ecoinvent 2.2', 'efa664b9a4b196111f5a46120f0545a1'): 1963,\n",
       " ('ecoinvent 2.2', '451348cf28bb2964113a0e8eff5c6a14'): 772,\n",
       " ('ecoinvent 2.2', '7dd44268c709c40063b545fb2f84bfa7'): 3808,\n",
       " ('ecoinvent 2.2', '960f66fd93ac0855794dc23787a20e9e'): 2856,\n",
       " ('ecoinvent 2.2', 'a59307095d02d8cc211c844a9d25b13c'): 2828,\n",
       " ('ecoinvent 2.2', 'd2a7b7db385b98461a34deb32a4d65bb'): 2633,\n",
       " ('ecoinvent 2.2', 'efc0abccba2a17a36910369abdc27b9d'): 33,\n",
       " ('ecoinvent 2.2', 'f7aa3c59a755d7323b87fe9849e89c01'): 2334,\n",
       " ('ecoinvent 2.2', 'd83126ff3af6e05e8991262f135aa645'): 2020,\n",
       " ('ecoinvent 2.2', '70c492f4998908fe8dcec6cff0f9310b'): 2367,\n",
       " ('ecoinvent 2.2', '41231e5bf2a03bcc0e84ad8e97979f56'): 3318,\n",
       " ('ecoinvent 2.2', '36235769de58b00e86d3520b835d583e'): 1565,\n",
       " ('ecoinvent 2.2', 'ca0481f885f6b22c3740a7facb28854f'): 2988,\n",
       " ('ecoinvent 2.2', 'a250f249bd469807fb1d69d0beed8d91'): 3487,\n",
       " ('ecoinvent 2.2', '74b758ef67f782eb1e63dfa1129149f8'): 4050,\n",
       " ('ecoinvent 2.2', '6bf9bdfb7428f5a73bdda1f0872fdeb3'): 1163,\n",
       " ('ecoinvent 2.2', '59a4e6565864f2b8e516ce813a09f113'): 2321,\n",
       " ('ecoinvent 2.2', '4b64d09440bf8ef0b7a55e2ab4468d19'): 3585,\n",
       " ('ecoinvent 2.2', '7dbf64720b7305ff6ae775e1020e769b'): 622,\n",
       " ('ecoinvent 2.2', 'e5faa260869048edbdbd8ed5dcd2a132'): 4041,\n",
       " ('ecoinvent 2.2', 'a9434712a972fd47eb0e20176fc7752c'): 3609,\n",
       " ('ecoinvent 2.2', '1427942d1f8e428b8a3f3e0c144bbefc'): 2206,\n",
       " ('ecoinvent 2.2', '95d5d4ae91f0d900f6e985f42f08289f'): 1354,\n",
       " ('ecoinvent 2.2', '7a0baf82c0d9084ef07a996bafd75507'): 2379,\n",
       " ('ecoinvent 2.2', 'f73cb246408eecbc0e124d791b14036d'): 2891,\n",
       " ('ecoinvent 2.2', '825b19db12c47ae9dcb2e2adb6be0740'): 3752,\n",
       " ('ecoinvent 2.2', 'fc96b5fdd7c05a70bc8f58a2aad26ea7'): 524,\n",
       " ('ecoinvent 2.2', 'f95ced8e422f0ad198a4830efa5b7837'): 3786,\n",
       " ('ecoinvent 2.2', 'e4a930a8b71acaf43706ad0ddfebe9b8'): 2825,\n",
       " ('ecoinvent 2.2', '885c156ea6d41696947f5e155c25f944'): 318,\n",
       " ('ecoinvent 2.2', 'fa959bfd9f737a2427b867d12e32ec39'): 25,\n",
       " ('ecoinvent 2.2', '98f39de6aa32ab5f9fd2246423a226bd'): 3456,\n",
       " ('ecoinvent 2.2', '12413a56898fe688bfa2f09e7a31911b'): 855,\n",
       " ('ecoinvent 2.2', '67dc8ca1d89203884ec7b91bb2fb9c64'): 1195,\n",
       " ('ecoinvent 2.2', 'ed8f1a17512b042d902e038027e2e51d'): 2265,\n",
       " ('ecoinvent 2.2', '7ac2c29cac3bd4e23e4ed2a0cf0db869'): 3763,\n",
       " ('ecoinvent 2.2', '1a359ebc47e9bb6d08f4a1ed55a30af2'): 844,\n",
       " ('ecoinvent 2.2', '612ff9484d8e960ebd27e8d367434230'): 3319,\n",
       " ('ecoinvent 2.2', '648a850051077df3aa68d9288f3147ef'): 3096,\n",
       " ('ecoinvent 2.2', '231e0f3b0801e978b3c54fb1f13f8fc4'): 3576,\n",
       " ('ecoinvent 2.2', 'c9137d5b99b349255cccdebffb12a300'): 1445,\n",
       " ('ecoinvent 2.2', '64cab23754b16664c63884066566c8fd'): 392,\n",
       " ('ecoinvent 2.2', '9c6feab31d1d72a13517da9928e367ca'): 96,\n",
       " ('ecoinvent 2.2', '72c39a21c0066e9fea87f9b69b3bd4dc'): 753,\n",
       " ('ecoinvent 2.2', 'a99c4988fb7e84edf3d33fb8c4217d72'): 1984,\n",
       " ('ecoinvent 2.2', '1654194b472a4de801e92f6f1086a938'): 1030,\n",
       " ('ecoinvent 2.2', '3008db0de48cf7175c415829dd26cbbf'): 1631,\n",
       " ('ecoinvent 2.2', 'ffbf5719871437c3312ee15056db3824'): 3860,\n",
       " ('ecoinvent 2.2', 'df891be79eb7f795b78d8dbc35bf9da6'): 2896,\n",
       " ('ecoinvent 2.2', '290445c079226392658d051c325fc1ed'): 2299,\n",
       " ('ecoinvent 2.2', 'ba0f90c72835f21b94603dbcd64f8b71'): 3994,\n",
       " ('ecoinvent 2.2', 'adcd90ce1bcb162c15777b93dc71b73d'): 3622,\n",
       " ('ecoinvent 2.2', '5421e27ba288f27de016e3025fc1814b'): 1652,\n",
       " ('ecoinvent 2.2', '146b801d064f80bdc3717f3dfbca9705'): 459,\n",
       " ('ecoinvent 2.2', '7f5cbf06a976587da50872ad7c43dc86'): 1314,\n",
       " ('ecoinvent 2.2', 'ecaf7ecbeeb5f4bf06a6dcf0f6014723'): 3303,\n",
       " ('ecoinvent 2.2', '5467795df8e4505b2dff5b8d3d4efd4d'): 2410,\n",
       " ('ecoinvent 2.2', 'abd506ddbc4cfedeca5b93d7dcf6de64'): 1817,\n",
       " ('ecoinvent 2.2', '5598478d8aee90c9b616a5fbbf7ca41b'): 1750,\n",
       " ('ecoinvent 2.2', '8e03b9ea68f7f021e195af0b4d9ceb0a'): 2520,\n",
       " ('ecoinvent 2.2', '0f2c1aad3e25d15fd111a8d72c31514e'): 173,\n",
       " ('ecoinvent 2.2', '90ea54743d6e9b8b2704df66c6b536cc'): 2204,\n",
       " ('ecoinvent 2.2', 'de64ed276a4eb88ff279171e8ffb101f'): 2052,\n",
       " ('ecoinvent 2.2', '6a57ac2cfef65d3fa06c4b6e5baa2730'): 3199,\n",
       " ('ecoinvent 2.2', '3f20345bceac891aa72c68b7efa22351'): 2958,\n",
       " ('ecoinvent 2.2', 'aec4509e500d4e73d783bc4d7eb0b6eb'): 1598,\n",
       " ('ecoinvent 2.2', '4e7e96c32462c9ebb8d86d6e9422e3ba'): 1230,\n",
       " ('ecoinvent 2.2', 'd6c8413cfc8f7c3579980210025f1481'): 54,\n",
       " ('ecoinvent 2.2', 'b65d006a1c1f452a6dc20e5bb2bdd659'): 1716,\n",
       " ('ecoinvent 2.2', '671c8f5362e6832da9ab785313e52f88'): 586,\n",
       " ('ecoinvent 2.2', 'd44d73281951f0983edb74921a701d8d'): 2522,\n",
       " ('ecoinvent 2.2', '1f5873107f4ef55d25ee9b6bbcf54e0f'): 283,\n",
       " ('ecoinvent 2.2', '287d34950d7c37c477d2bd283b26b4ad'): 1098,\n",
       " ('ecoinvent 2.2', 'a742fc465246f81cf51dfe5c15954f9d'): 1333,\n",
       " ('ecoinvent 2.2', 'b098e2fdbeed8b5bf502cfd240c2c5d2'): 1955,\n",
       " ('ecoinvent 2.2', '3b16e2540a06641e3b6655b74c6e8dd4'): 2343,\n",
       " ('ecoinvent 2.2', 'a1a4bc672d7ba2b36546953c5203b6dd'): 864,\n",
       " ('ecoinvent 2.2', '168947741aca75d2284f92e9c126d089'): 1288,\n",
       " ('ecoinvent 2.2', '8093be65fea830b1136e0bdd5cefef36'): 351,\n",
       " ('ecoinvent 2.2', '3bc9be8f47a4fb465ec3978a3cddf9a3'): 1233,\n",
       " ...}"
      ]
     },
     "execution_count": 173,
     "metadata": {},
     "output_type": "execute_result"
    }
   ],
   "source": [
    "myFirstLCA.activity_dict"
   ]
  },
  {
   "cell_type": "markdown",
   "metadata": {},
   "source": [
    "So, if I know the key to my activity (which, again,  is a `tuple` consisting of the database name and the activity code), I can read the column index (from `activity_dict`) or row index (from `product_dict` or `biosphere_dict` for the $A$ or $B$ matrices, respectively). \n",
    "\n",
    "Let's find out what column is associated with the activity that is producing our final demand as reference flow."
   ]
  },
  {
   "cell_type": "code",
   "execution_count": 182,
   "metadata": {
    "collapsed": false
   },
   "outputs": [
    {
     "name": "stdout",
     "output_type": "stream",
     "text": [
      "The column index for activity ('ecoinvent 2.2', '873af1f1d0c9d644bcbb2849866f82ed') is 2995\n"
     ]
    }
   ],
   "source": [
    "# Getting the key from the `demand`attribute:\n",
    "act_key = list(myFirstLCA.demand)[0].key\n",
    "# Getting the column number from the activity_dict:\n",
    "col_index = myFirstLCA.activity_dict[act_key]\n",
    "print(\"The column index for activity {} is {}\".format(act_key, col_index))"
   ]
  },
  {
   "cell_type": "markdown",
   "metadata": {},
   "source": [
    "While this is useful, it is often more useful to determine what a row or column in the matrices actually refers to. In these cases, we need a dictionary that maps row or column indices to activity keys, and not the opposite.  \n",
    "We can do this by reversing our dictionaries:"
   ]
  },
  {
   "cell_type": "code",
   "execution_count": 183,
   "metadata": {
    "collapsed": false
   },
   "outputs": [
    {
     "data": {
      "text/plain": [
       "{0: ('ecoinvent 2.2', '8609adf0a083959f2524cd2aad891f51'),\n",
       " 1: ('ecoinvent 2.2', '31894eb0fc23d68e1d65e66771c7f014'),\n",
       " 2: ('ecoinvent 2.2', '09d2c123a37ca00b3e1582d4dc35994f'),\n",
       " 3: ('ecoinvent 2.2', '4bc630232ab2ad4f025dc2d1d1ce735c'),\n",
       " 4: ('ecoinvent 2.2', 'd705bd6f5250730edd0a4bab1a04c7de'),\n",
       " 5: ('ecoinvent 2.2', '98150d2c16832da415d7819749d03fbc'),\n",
       " 6: ('ecoinvent 2.2', '18212e116c3223b74f1e6e575719d24d'),\n",
       " 7: ('ecoinvent 2.2', '66d83b77dff5d93199c5a7092c0d5a34'),\n",
       " 8: ('ecoinvent 2.2', '7af9f6c24f783bcc241acbe4bdf9bd98'),\n",
       " 9: ('ecoinvent 2.2', 'bd7b94cec97b65332b71c00c3d9af123'),\n",
       " 10: ('ecoinvent 2.2', '119ca61a751dd1d929ac1bf5231e7958'),\n",
       " 11: ('ecoinvent 2.2', '2a5a71c124b6b49ac3eafa584574a096'),\n",
       " 12: ('ecoinvent 2.2', 'ecbe970f2a688469972e2133197af640'),\n",
       " 13: ('ecoinvent 2.2', '0642b64c2ff903f46436eda35a62f508'),\n",
       " 14: ('ecoinvent 2.2', '973d538466133bbff4eff0dc9b3d863c'),\n",
       " 15: ('ecoinvent 2.2', 'cb15be9b4cb31e5b4e024d3df5d629e5'),\n",
       " 16: ('ecoinvent 2.2', '60a90384ea4a6b5ca542bed757c775a3'),\n",
       " 17: ('ecoinvent 2.2', '102af7380ea3ccf1291e79f5c2f315a6'),\n",
       " 18: ('ecoinvent 2.2', 'ad172f7656c5d96dbb32e227325b91d6'),\n",
       " 19: ('ecoinvent 2.2', '62b4d571092179cc577b4ed886f64811'),\n",
       " 20: ('ecoinvent 2.2', 'fd897315659f76cba0f29c4280b74ff4'),\n",
       " 21: ('ecoinvent 2.2', '9fa7ac035bbc14d5984f05620f59b403'),\n",
       " 22: ('ecoinvent 2.2', '44fd4784114c85bc9153c48f4db0a103'),\n",
       " 23: ('ecoinvent 2.2', '88e41bb074191932806be0f085074a30'),\n",
       " 24: ('ecoinvent 2.2', 'ad5536e0a5fcd6d416c8ed7a09e6ba19'),\n",
       " 25: ('ecoinvent 2.2', 'fa959bfd9f737a2427b867d12e32ec39'),\n",
       " 26: ('ecoinvent 2.2', '64f6d365488c965e1293b3d612fd5146'),\n",
       " 27: ('ecoinvent 2.2', '15b51b6024835146112ee3811031a8ed'),\n",
       " 28: ('ecoinvent 2.2', '8b998e2d0c106a3db76c61296865cdd8'),\n",
       " 29: ('ecoinvent 2.2', '2e78a93c0109b83c640072c53e216577'),\n",
       " 30: ('ecoinvent 2.2', 'f0fca1ecb034d0b2f9a66dbab7646b9a'),\n",
       " 31: ('ecoinvent 2.2', '3687febc2fb9e86dd3635dee84fdee49'),\n",
       " 32: ('ecoinvent 2.2', 'fc6446d29726d2ba8a980e3728523b8e'),\n",
       " 33: ('ecoinvent 2.2', 'efc0abccba2a17a36910369abdc27b9d'),\n",
       " 34: ('ecoinvent 2.2', 'f0c167d4a41c1f960d575c37f3e8a533'),\n",
       " 35: ('ecoinvent 2.2', '397851d37a9c81f07ad3fabd0f794aca'),\n",
       " 36: ('ecoinvent 2.2', '71b5422e81757d525a584446bf3d0ca0'),\n",
       " 37: ('ecoinvent 2.2', '666dc59a79dae0d8ebbafef8cae8ad20'),\n",
       " 38: ('ecoinvent 2.2', '2e5a71b0114be93103da5a9706055770'),\n",
       " 39: ('ecoinvent 2.2', '623f454d75292cf286cf6ac22fe6cefb'),\n",
       " 40: ('ecoinvent 2.2', '38c84dd78fa47d714a81ac5f33eba3ca'),\n",
       " 41: ('ecoinvent 2.2', 'ed315e1a42d133f62780e761324b50c7'),\n",
       " 42: ('ecoinvent 2.2', 'f643ab99b41fce901e8fd60ed4644251'),\n",
       " 43: ('ecoinvent 2.2', 'd639efd3dea31588f10d5967d082daf4'),\n",
       " 44: ('ecoinvent 2.2', '2044b19b7be6057463da044266db9690'),\n",
       " 45: ('ecoinvent 2.2', '79ece48c329c02b26ebb268636ebaaa9'),\n",
       " 46: ('ecoinvent 2.2', '938e644a3b169b47fad4a25c072b31f9'),\n",
       " 47: ('ecoinvent 2.2', 'fffdcf70ba06344bad9cec0a51416b6c'),\n",
       " 48: ('ecoinvent 2.2', 'fabe7da26ba2117d2d61d21368912fbd'),\n",
       " 49: ('ecoinvent 2.2', '29921be73c9af626e1fea5b25e63a5fd'),\n",
       " 50: ('ecoinvent 2.2', '9f09756d9a3aaca657c38a7c03a4cffa'),\n",
       " 51: ('ecoinvent 2.2', '93ce64b4962f917a0d9def831b9cd62a'),\n",
       " 52: ('ecoinvent 2.2', '0d79f0364cb44e94ff00c5cd4e057727'),\n",
       " 53: ('ecoinvent 2.2', 'c8b4fcf7f4f0dae875be78465dc94f33'),\n",
       " 54: ('ecoinvent 2.2', 'd6c8413cfc8f7c3579980210025f1481'),\n",
       " 55: ('ecoinvent 2.2', '3c59f42bff406862804d432c3b0eca4d'),\n",
       " 56: ('ecoinvent 2.2', '444a04e89192c407f7d3be38139054e4'),\n",
       " 57: ('ecoinvent 2.2', 'bad9a478e92c9d376b371549863d4ae8'),\n",
       " 58: ('ecoinvent 2.2', '7e0bc9caeb0a4f73c6423014187e5c93'),\n",
       " 59: ('ecoinvent 2.2', '4f7f31dfc0fc7b1287f967c92c071939'),\n",
       " 60: ('ecoinvent 2.2', 'd81ab02af6f9eccdaad81a8fc791ddc5'),\n",
       " 61: ('ecoinvent 2.2', '069783e0a17c6f1315c90d1b5533e27c'),\n",
       " 62: ('ecoinvent 2.2', '147b9644ca638ff5ade3fd5aa893212a'),\n",
       " 63: ('ecoinvent 2.2', 'd9f7ad8e631dbd7e80d83b8e5ae86920'),\n",
       " 64: ('ecoinvent 2.2', '1e6864ffe78388ab1c48210b47519693'),\n",
       " 65: ('ecoinvent 2.2', '634af78a9a25f2e71eec1a4ddf417431'),\n",
       " 66: ('ecoinvent 2.2', '28a2e85dbc807c1a7544bba1b0396e8a'),\n",
       " 67: ('ecoinvent 2.2', '6dcc1607c850b4e13239ae02f5998ab0'),\n",
       " 68: ('ecoinvent 2.2', '1a0c868436791eac8d7a034cb0853006'),\n",
       " 69: ('ecoinvent 2.2', '78d11ae9c505b20fca074ba2a7d9b309'),\n",
       " 70: ('ecoinvent 2.2', 'ec6a358d63081946213c1cf0f6a55d87'),\n",
       " 71: ('ecoinvent 2.2', 'd4ca6889d1ed7351f296ad8c78f7c7fb'),\n",
       " 72: ('ecoinvent 2.2', '35cff4b3d144c0fbbc154e447889bebb'),\n",
       " 73: ('ecoinvent 2.2', '227c66e50f496a9ab51cb017210d436f'),\n",
       " 74: ('ecoinvent 2.2', '0a07a71dd630c6df9d290ea36802f9c5'),\n",
       " 75: ('ecoinvent 2.2', 'decd549a4062885246b06bdde8f7a8ab'),\n",
       " 76: ('ecoinvent 2.2', 'd15be39fd79903ec5d3e6bb3798b76c2'),\n",
       " 77: ('ecoinvent 2.2', 'bc06d52c278f8b112719dee48b9c956e'),\n",
       " 78: ('ecoinvent 2.2', '8b4ff619ef1af22d6c813642b1ed2dcf'),\n",
       " 79: ('ecoinvent 2.2', 'bc2f71fd41ca96d845e09a042587e6ad'),\n",
       " 80: ('ecoinvent 2.2', '435f08fab9fbb6d73851fcee34adf836'),\n",
       " 81: ('ecoinvent 2.2', '0139ee9b2af0b6ddb6ace6c7aac49453'),\n",
       " 82: ('ecoinvent 2.2', '31b33f565b63ae01e6174e5d9ff72459'),\n",
       " 83: ('ecoinvent 2.2', 'b1546d82102d27b81543c417cb34019c'),\n",
       " 84: ('ecoinvent 2.2', 'c882838c9bec42e2628f05bcd85d23a9'),\n",
       " 85: ('ecoinvent 2.2', 'f48b0ad23481f73f5dcce32ae5215a33'),\n",
       " 86: ('ecoinvent 2.2', 'cb5c69512d77eaa9f3d2e4fabf75a73e'),\n",
       " 87: ('ecoinvent 2.2', '5e47f71c5cbea23adbf58a6b95fe4833'),\n",
       " 88: ('ecoinvent 2.2', '4ac78f67ad4d80f0f24defbadabea1e0'),\n",
       " 89: ('ecoinvent 2.2', '6fbf92235e77bc62f2915c9f786655c7'),\n",
       " 90: ('ecoinvent 2.2', 'fd495a49e0df27a5869b32ac4a8fa678'),\n",
       " 91: ('ecoinvent 2.2', 'fffa26e61620e95dca013ee190c43382'),\n",
       " 92: ('ecoinvent 2.2', 'fd0842acfb6cf845f4d11d537fd1148d'),\n",
       " 93: ('ecoinvent 2.2', '99ae2e382061a822c4706627ac33401b'),\n",
       " 94: ('ecoinvent 2.2', 'ceb508e9b60271583d8433933a3a11cb'),\n",
       " 95: ('ecoinvent 2.2', '8ee961f075f7c3ae1a7286946d095b5d'),\n",
       " 96: ('ecoinvent 2.2', '9c6feab31d1d72a13517da9928e367ca'),\n",
       " 97: ('ecoinvent 2.2', '73c46c905a12aac266e100bc90ed0d10'),\n",
       " 98: ('ecoinvent 2.2', 'bc2d612db33104adc0b8ea83f6be02ee'),\n",
       " 99: ('ecoinvent 2.2', '4f9252e0284159aa38bb5a4f2798bbef'),\n",
       " 100: ('ecoinvent 2.2', 'ed5b2e4dd5fc014f182274f92ae5de7c'),\n",
       " 101: ('ecoinvent 2.2', 'fab0a9f4cf92a6ae30c4d511c4ca6dde'),\n",
       " 102: ('ecoinvent 2.2', '0897e0b31458a805bf9824e76526cb0d'),\n",
       " 103: ('ecoinvent 2.2', 'b525a5eedc31d643d77271a7df763279'),\n",
       " 104: ('ecoinvent 2.2', '6a3bf7ac99a527ff9b0a4ca7541bf302'),\n",
       " 105: ('ecoinvent 2.2', '06b26aad75004d51193bec413c8204de'),\n",
       " 106: ('ecoinvent 2.2', 'd274d3498d37948114bbbbb07f94a969'),\n",
       " 107: ('ecoinvent 2.2', 'e704bea35d31497971701f8f77d74951'),\n",
       " 108: ('ecoinvent 2.2', '81f4b0a91f1f6e9b46fd56e9af04f894'),\n",
       " 109: ('ecoinvent 2.2', 'fe070a1e60b1f958003ddc0b33b9c8cc'),\n",
       " 110: ('ecoinvent 2.2', 'b26035b6ba58d3f26a87d0106ee659a4'),\n",
       " 111: ('ecoinvent 2.2', 'a663f2e8b018acca030438259052b9df'),\n",
       " 112: ('ecoinvent 2.2', '3799779b2724d625481417d54886a9a6'),\n",
       " 113: ('ecoinvent 2.2', '824dd6e2aa7f33cf9c33749798c00f28'),\n",
       " 114: ('ecoinvent 2.2', '250bf3b1bc82ebf76b6219c5bef8fde6'),\n",
       " 115: ('ecoinvent 2.2', '342c9d18e12837f6717336de27957f7f'),\n",
       " 116: ('ecoinvent 2.2', 'ba59b06709899c7f3b4c2dd6d6789212'),\n",
       " 117: ('ecoinvent 2.2', 'a65dbb3c9690be07c6d364bdc66b7f6c'),\n",
       " 118: ('ecoinvent 2.2', 'fe0a5e78c32830bb819fea4323a944fe'),\n",
       " 119: ('ecoinvent 2.2', 'c701b1856923974a07405546d57c21e6'),\n",
       " 120: ('ecoinvent 2.2', '0ad44822cb5f72e9c64566c625805010'),\n",
       " 121: ('ecoinvent 2.2', '0f80aa1bec5b575afa6716698f746aea'),\n",
       " 122: ('ecoinvent 2.2', '13981a52e6711bceef1644447fcde1c6'),\n",
       " 123: ('ecoinvent 2.2', 'aa5dcfe67d506e55af055f66894a05fa'),\n",
       " 124: ('ecoinvent 2.2', '517868e6ad2373c1cc593b1d774c835c'),\n",
       " 125: ('ecoinvent 2.2', '6093c0e7aa91983c643a400e689ebc00'),\n",
       " 126: ('ecoinvent 2.2', '3ccb5ac0ca91889a454c2d332a9a89a7'),\n",
       " 127: ('ecoinvent 2.2', '7e9c49d6bd8429d902fb666887793f40'),\n",
       " 128: ('ecoinvent 2.2', '9631490f10c59a501fd358b9b759b76b'),\n",
       " 129: ('ecoinvent 2.2', 'c515ddc922d77fbab5eeedeb63cda575'),\n",
       " 130: ('ecoinvent 2.2', '538394736b023999196bd128fc41ab6d'),\n",
       " 131: ('ecoinvent 2.2', '76d5d3b118abab8d6864a8a649b3c1d1'),\n",
       " 132: ('ecoinvent 2.2', '9fd92c4162db531655caa37a002c38bf'),\n",
       " 133: ('ecoinvent 2.2', '80c1eca51f386ffa21c6d1267ab99173'),\n",
       " 134: ('ecoinvent 2.2', '332474c61ebcea75973a12da8b1df4c4'),\n",
       " 135: ('ecoinvent 2.2', '684feee04a93a13ad256a44c65f17beb'),\n",
       " 136: ('ecoinvent 2.2', 'cdbb87e7b2f8375d2928a2b7d1674e9e'),\n",
       " 137: ('ecoinvent 2.2', 'dad8641d7d750a3b29ed9a3028ddfb84'),\n",
       " 138: ('ecoinvent 2.2', '7ae31c6d8d3177a774596aefc4eb63ac'),\n",
       " 139: ('ecoinvent 2.2', 'a7020f83a9c47f73896f5fa89a90e693'),\n",
       " 140: ('ecoinvent 2.2', '174d882e218ce211b389f9ed540e40e9'),\n",
       " 141: ('ecoinvent 2.2', '8ff9179601b93104e530f3a4ab5e13e7'),\n",
       " 142: ('ecoinvent 2.2', '5c092a6b49b01f46036247c4b854e888'),\n",
       " 143: ('ecoinvent 2.2', '0bed58d1ca9f03cbfe33558075736b5f'),\n",
       " 144: ('ecoinvent 2.2', 'ae84b372d3ce07196bae9f815eb41b7a'),\n",
       " 145: ('ecoinvent 2.2', 'ae81a33baeae65ad43587a057a298533'),\n",
       " 146: ('ecoinvent 2.2', '8bf0fa1d783c9a6a8ae3098dcc0eaeb4'),\n",
       " 147: ('ecoinvent 2.2', 'f66129aaa79b7070adbfd335aba09d96'),\n",
       " 148: ('ecoinvent 2.2', '5dc792840ec48ebcb9812b374756a0f3'),\n",
       " 149: ('ecoinvent 2.2', '8a92d9103bc7e4330333335a4a029f12'),\n",
       " 150: ('ecoinvent 2.2', '9c7e3add9b93a550cae7ebbcc292ce30'),\n",
       " 151: ('ecoinvent 2.2', '16eac925846022415cb2b93a867b769f'),\n",
       " 152: ('ecoinvent 2.2', 'e7f11bcfcf9bfc439e40629b28f0fa68'),\n",
       " 153: ('ecoinvent 2.2', '1ea12447cb316b76879679b7fb3b723e'),\n",
       " 154: ('ecoinvent 2.2', '3d173203393e71514299b91f074b04fa'),\n",
       " 155: ('ecoinvent 2.2', '1df143bf6256fee3a97a9b6f615b1c1c'),\n",
       " 156: ('ecoinvent 2.2', '040ff3158a651d8cfb2151a49429ee3d'),\n",
       " 157: ('ecoinvent 2.2', 'd9b3726e6f22a94dc59c0d3fbca71397'),\n",
       " 158: ('ecoinvent 2.2', '9bc5978acbe0f57d66479d8bfec853a7'),\n",
       " 159: ('ecoinvent 2.2', 'd6106a6efd343e4a7c0ef9e8fca10da0'),\n",
       " 160: ('ecoinvent 2.2', 'ebb3d462d754bcbec01d896a2367e790'),\n",
       " 161: ('ecoinvent 2.2', '19748843a0d4802dcb31869ef498ebbd'),\n",
       " 162: ('ecoinvent 2.2', '64d8115f255a0e6dd218546516054de1'),\n",
       " 163: ('ecoinvent 2.2', '1744867b8e1d0d6d6001e80912198d6d'),\n",
       " 164: ('ecoinvent 2.2', 'ce2a6e344c2c195b12c303875d56a004'),\n",
       " 165: ('ecoinvent 2.2', '3ca05a92b619bd5b7fb71350d398b594'),\n",
       " 166: ('ecoinvent 2.2', '9dc526a5fbffd209974f22281aae88fe'),\n",
       " 167: ('ecoinvent 2.2', 'c4871b2ba374d55f31cd0f6f9fbecebd'),\n",
       " 168: ('ecoinvent 2.2', 'bad64d7c5ad05b7bd7c7b8d274976929'),\n",
       " 169: ('ecoinvent 2.2', '551bcf7d17a257afcffdf9ddb6a383c8'),\n",
       " 170: ('ecoinvent 2.2', '10d5a2c6b41309df58745a860c8b5b62'),\n",
       " 171: ('ecoinvent 2.2', '6006a234ffc85c66f8d4351a8e149bc2'),\n",
       " 172: ('ecoinvent 2.2', 'b6dcafa9300441e5813ba792d3c4a1c9'),\n",
       " 173: ('ecoinvent 2.2', '0f2c1aad3e25d15fd111a8d72c31514e'),\n",
       " 174: ('ecoinvent 2.2', '9e31a87c2fb6c1dc8df08a83e8dae942'),\n",
       " 175: ('ecoinvent 2.2', '67de6dd147b53620e5861089650746fb'),\n",
       " 176: ('ecoinvent 2.2', '7f547a028f5f0d66ed880da5edf7a0e9'),\n",
       " 177: ('ecoinvent 2.2', 'e758b78e95bc6bd7b71c63361e292b00'),\n",
       " 178: ('ecoinvent 2.2', '5f040bd0d8322e4b47ef1ea87f9d6a46'),\n",
       " 179: ('ecoinvent 2.2', '63d398e58f6ece7f1fe6716f05256105'),\n",
       " 180: ('ecoinvent 2.2', '6d011c88b982dd5cca25cb8ce8303fdc'),\n",
       " 181: ('ecoinvent 2.2', '3f15fbac0786599470cc96d94e6717d7'),\n",
       " 182: ('ecoinvent 2.2', 'b1309f02888e7677e23c199866c10d57'),\n",
       " 183: ('ecoinvent 2.2', 'e90782cfff3feaebc8339d2a6c0c8451'),\n",
       " 184: ('ecoinvent 2.2', '89053159ee02ccdf84e19f8c74749d53'),\n",
       " 185: ('ecoinvent 2.2', '0a9b3cfea8c2cf4641bd67d1e7cf4447'),\n",
       " 186: ('ecoinvent 2.2', '25ddc7e76cf2c907b2ed111d78905385'),\n",
       " 187: ('ecoinvent 2.2', '25885dd9f06b00c5140c80b33e8430ad'),\n",
       " 188: ('ecoinvent 2.2', '8b7f9e078a5d46d0a96b6460c83a0f13'),\n",
       " 189: ('ecoinvent 2.2', '12e61df1a3c3a6c5b959f6087c602108'),\n",
       " 190: ('ecoinvent 2.2', '1a7446bdd805031efbba389473f41ee5'),\n",
       " 191: ('ecoinvent 2.2', '7bfe58c838219fa89a025b8018809478'),\n",
       " 192: ('ecoinvent 2.2', '1ad9f3fec4cfd209144da495b3960568'),\n",
       " 193: ('ecoinvent 2.2', '93f7c25847fdfa818f8a3cde1c6383b6'),\n",
       " 194: ('ecoinvent 2.2', 'c4fc744a8e2be195c93b6cec63050e57'),\n",
       " 195: ('ecoinvent 2.2', 'f6ebbc6ddb7addf9954bfc9e15253607'),\n",
       " 196: ('ecoinvent 2.2', 'd6970a706aa4d37a95ad5e59ea0ffbc5'),\n",
       " 197: ('ecoinvent 2.2', 'df5c0c27e8d1c360029c070840fa5a31'),\n",
       " 198: ('ecoinvent 2.2', 'e7afaffd3c9a7493cbfe5cee5ee4fad3'),\n",
       " 199: ('ecoinvent 2.2', '1e60b6520f52b8076f5a8c4bcae93eb7'),\n",
       " 200: ('ecoinvent 2.2', '9491f597d2810674eef438594e967197'),\n",
       " 201: ('ecoinvent 2.2', '7953cef96348f0ce0d9e644c6975d457'),\n",
       " 202: ('ecoinvent 2.2', '8b60ed2d585de53364f971010dec466a'),\n",
       " 203: ('ecoinvent 2.2', '1ac1187287def40144d9967f118bc8c2'),\n",
       " 204: ('ecoinvent 2.2', '297af2ca2415793cffba1f3f4a56acdf'),\n",
       " 205: ('ecoinvent 2.2', 'c0ff0664db972b6e7db2630dee3f49d2'),\n",
       " 206: ('ecoinvent 2.2', '992e2aad2b90c4332f4768024f64b97e'),\n",
       " 207: ('ecoinvent 2.2', 'b252aacfedb4a781e18e1e641f4c2b66'),\n",
       " 208: ('ecoinvent 2.2', '4509a8507939457b42382452180b9852'),\n",
       " 209: ('ecoinvent 2.2', '6503be9a57286474127710a971e96a16'),\n",
       " 210: ('ecoinvent 2.2', '4b57edd9b07c98341786d6d1f9e2da68'),\n",
       " 211: ('ecoinvent 2.2', '71732006e8a62d4b0870cd97b2494da7'),\n",
       " 212: ('ecoinvent 2.2', 'f27ae5500743a528a0439b834137cdbe'),\n",
       " 213: ('ecoinvent 2.2', 'b74eb72c2fbffaf1d828c6b862d5d049'),\n",
       " 214: ('ecoinvent 2.2', '2a18b62e70a61f7fef7207a1f44a75b9'),\n",
       " 215: ('ecoinvent 2.2', '9d1ea65c0829fe40206d0230ecea08e6'),\n",
       " 216: ('ecoinvent 2.2', 'ef76918e0d0cdf33cc8c5b7a19d02761'),\n",
       " 217: ('ecoinvent 2.2', 'a8eb1ff3ffeb7ce1e4880b5fcdafbdf2'),\n",
       " 218: ('ecoinvent 2.2', '1fbacf6c3e06c10dc52f263a88e31a10'),\n",
       " 219: ('ecoinvent 2.2', 'fe7b730d3be4bb542f9410dfb8165d6a'),\n",
       " 220: ('ecoinvent 2.2', '890533bfd49e6608a0be9d154ea2fcf1'),\n",
       " 221: ('ecoinvent 2.2', '02192395c783d6e69649481167cb31eb'),\n",
       " 222: ('ecoinvent 2.2', '1911605f44f0f70bc9cf1b4751a97a55'),\n",
       " 223: ('ecoinvent 2.2', '82b210a28347a54f0af567dfc4090b49'),\n",
       " 224: ('ecoinvent 2.2', '3be399f06f9ee1d4ba0f7bf7dad864cf'),\n",
       " 225: ('ecoinvent 2.2', '04433630d92b7836c3380777a7e4b22c'),\n",
       " 226: ('ecoinvent 2.2', '4fd7c95f67a126d46beb561226131eb2'),\n",
       " 227: ('ecoinvent 2.2', 'f7a88834de2f0be7d0098eea75ac2cfb'),\n",
       " 228: ('ecoinvent 2.2', 'd7c7e5e32d891d40f681451900943741'),\n",
       " 229: ('ecoinvent 2.2', 'edac81e810af33bb713bc9fa081ec213'),\n",
       " 230: ('ecoinvent 2.2', '7ea95363e23bcdded1878b7cf4a404be'),\n",
       " 231: ('ecoinvent 2.2', '3d9c8bf8558511bc94d18b2527968a32'),\n",
       " 232: ('ecoinvent 2.2', 'e6f1e32ee5bc84c61018088ba73ab0c8'),\n",
       " 233: ('ecoinvent 2.2', 'e1c90dd53de36b8b0862e4eb1b2b02c7'),\n",
       " 234: ('ecoinvent 2.2', '996182321832d0dddee5e4b55fb59e5a'),\n",
       " 235: ('ecoinvent 2.2', 'd7df0e89997232d97ffed81aba8498ab'),\n",
       " 236: ('ecoinvent 2.2', '05f8511c2ac1ddbb6ed8c7cbcb1cfc0a'),\n",
       " 237: ('ecoinvent 2.2', '41b79bbf59d8f9c92557cb9ece83c18e'),\n",
       " 238: ('ecoinvent 2.2', 'c16e68ff96c67264996abe4b318abdc9'),\n",
       " 239: ('ecoinvent 2.2', 'f7e353e797be96158e6da22509456313'),\n",
       " 240: ('ecoinvent 2.2', '5763416b734f9ffcaaf926166fa7a122'),\n",
       " 241: ('ecoinvent 2.2', 'dfef313535774057213bb24643f26de2'),\n",
       " 242: ('ecoinvent 2.2', 'fec0bc788e9a571ff7b2f2a844ad4cde'),\n",
       " 243: ('ecoinvent 2.2', '5e6ee9343517b916e5bd3fb957234d51'),\n",
       " 244: ('ecoinvent 2.2', '43850ec4f9004e13d0963381f05b36b5'),\n",
       " 245: ('ecoinvent 2.2', '8cef255208d0aeb6aa3f3f83ae8f65e1'),\n",
       " 246: ('ecoinvent 2.2', '161c3f9d89821a60cbad555dd1d6de8f'),\n",
       " 247: ('ecoinvent 2.2', '1146108c63153495759820109a794158'),\n",
       " 248: ('ecoinvent 2.2', '6a2b6e3c69cef831ff28ce4c2b868212'),\n",
       " 249: ('ecoinvent 2.2', 'da3ba22d3ca8a0e9d891ad744542f2d4'),\n",
       " 250: ('ecoinvent 2.2', 'b6e3ed39579b54e3d21555553cf8b2ff'),\n",
       " 251: ('ecoinvent 2.2', '085fbc5d4f6c7eb7b81b1e3ef950cd39'),\n",
       " 252: ('ecoinvent 2.2', 'e48b033eb50ae86b303c80146ae376a5'),\n",
       " 253: ('ecoinvent 2.2', '836dd57a9fceb73c14820e20e69de859'),\n",
       " 254: ('ecoinvent 2.2', '49234fdbef9feea4ff355cfa953ca718'),\n",
       " 255: ('ecoinvent 2.2', 'e42eef7b49c912d183f2364b234bec84'),\n",
       " 256: ('ecoinvent 2.2', '499f2f8857ca5f71cf946d051c348ec9'),\n",
       " 257: ('ecoinvent 2.2', 'a42e0edc5ef3f6163756491cd46c06ae'),\n",
       " 258: ('ecoinvent 2.2', 'c28f87c25e744f3fa0ec306cb58d4fe5'),\n",
       " 259: ('ecoinvent 2.2', 'ec3d11b2dbbbd72316d21f38feb3ee10'),\n",
       " 260: ('ecoinvent 2.2', 'dc2ccf56a8d7800a9861d9533019b0e2'),\n",
       " 261: ('ecoinvent 2.2', 'a6e67d97c19dc3042651ff2dbbbef7a1'),\n",
       " 262: ('ecoinvent 2.2', '23cc77da397e3b4620623d8909cd6c61'),\n",
       " 263: ('ecoinvent 2.2', 'e583b8050cd1d37512805b40d115aaf4'),\n",
       " 264: ('ecoinvent 2.2', '4d5975a30ab35ebed44187ab1650f316'),\n",
       " 265: ('ecoinvent 2.2', '483a95c24e857e171901db1d09732a40'),\n",
       " 266: ('ecoinvent 2.2', '08c7fd03a936666b242cbddda74e5a3e'),\n",
       " 267: ('ecoinvent 2.2', '481c7ca137201b7e19fbc32676334579'),\n",
       " 268: ('ecoinvent 2.2', '7874c50f3f9dac6c6e18d0b7772b01f7'),\n",
       " 269: ('ecoinvent 2.2', 'ee2b741a32bb151f85622d1287eb45b8'),\n",
       " 270: ('ecoinvent 2.2', '36c6ef7d5f8146198dedf7dd1a3a4ae1'),\n",
       " 271: ('ecoinvent 2.2', '8f3fb49bbe1b488ffcae92a85583da94'),\n",
       " 272: ('ecoinvent 2.2', '8e2318e390307befa8077b826e679e04'),\n",
       " 273: ('ecoinvent 2.2', '5a2131e3b95302faf1cf31a324f96697'),\n",
       " 274: ('ecoinvent 2.2', 'f421cb8cc34c4e37a272bbe196bb8ac3'),\n",
       " 275: ('ecoinvent 2.2', 'df53864087a0f65527c9628de2a4d2fa'),\n",
       " 276: ('ecoinvent 2.2', 'd8ccf80332adf50809b0f673715e3df0'),\n",
       " 277: ('ecoinvent 2.2', '0e21ef423f76fd958b37ee7c345cf7c2'),\n",
       " 278: ('ecoinvent 2.2', '184a64907df829c4edd28286c9b3ebba'),\n",
       " 279: ('ecoinvent 2.2', '5deb641661bc53854f0b2e2c4a7dcae8'),\n",
       " 280: ('ecoinvent 2.2', 'f82ad45e649a97af90fa9e3245199c4a'),\n",
       " 281: ('ecoinvent 2.2', '1cac9b53c6a3d24b8ed91f8149944ba2'),\n",
       " 282: ('ecoinvent 2.2', '597b934baf8da777c48521f000655c0e'),\n",
       " 283: ('ecoinvent 2.2', '1f5873107f4ef55d25ee9b6bbcf54e0f'),\n",
       " 284: ('ecoinvent 2.2', '37fdd0271ab277231756699b08f18fa0'),\n",
       " 285: ('ecoinvent 2.2', '85c86774e066d4b1747e302998d67bbf'),\n",
       " 286: ('ecoinvent 2.2', '8a14da03a7149232a4b2ce0bef64b268'),\n",
       " 287: ('ecoinvent 2.2', '9b35e1d84762e553d577a77602185484'),\n",
       " 288: ('ecoinvent 2.2', '586d5b4c051eb6171d8ad69daeca233f'),\n",
       " 289: ('ecoinvent 2.2', '76b0896e2cfae9ec0e76de7bd65f4703'),\n",
       " 290: ('ecoinvent 2.2', '8d0bc3cfb14fe7a5747eacd38cc4cb17'),\n",
       " 291: ('ecoinvent 2.2', '93535debe96a708cfa1106cb84f98fee'),\n",
       " 292: ('ecoinvent 2.2', 'f6b1d512402e05c6a010e4d0511fa1ca'),\n",
       " 293: ('ecoinvent 2.2', 'ee5f8d32f165468e463ad583aa968249'),\n",
       " 294: ('ecoinvent 2.2', '67df2f347347b5799d93eae974a21eef'),\n",
       " 295: ('ecoinvent 2.2', 'fd7fda18cf5ce247491632ee55848390'),\n",
       " 296: ('ecoinvent 2.2', '8b5c1f0cd9b35bfdf065cde5b519ccb0'),\n",
       " 297: ('ecoinvent 2.2', '185e43a1a8cee140693fa69c7835a327'),\n",
       " 298: ('ecoinvent 2.2', '119fab2e59e64630a1b458f4a81b17e2'),\n",
       " 299: ('ecoinvent 2.2', '895711ab0cf9673c314dfc23b2be2795'),\n",
       " 300: ('ecoinvent 2.2', 'ece3f4ce2e8084b7d451f804940f5137'),\n",
       " 301: ('ecoinvent 2.2', '778f0d4382c7f53cab93b9ce6e069a9e'),\n",
       " 302: ('ecoinvent 2.2', '7e4dd1ecba51e0c7a9d4d9413e26d593'),\n",
       " 303: ('ecoinvent 2.2', '4f16486f9b399c3827cbe9eb832121d4'),\n",
       " 304: ('ecoinvent 2.2', '50faf3672498ac6160e817c5472bfa8d'),\n",
       " 305: ('ecoinvent 2.2', 'caad6a3e17c390ce126e4159f12ee807'),\n",
       " 306: ('ecoinvent 2.2', 'ac48b663b20eaee71275bb10a628be1a'),\n",
       " 307: ('ecoinvent 2.2', '058de1ed76a77309d8ef9c97dfa7187e'),\n",
       " 308: ('ecoinvent 2.2', '28cd886d78efbeac8a11c891bb4188b1'),\n",
       " 309: ('ecoinvent 2.2', 'afa246182b999e5271ebda8d9966d22c'),\n",
       " 310: ('ecoinvent 2.2', '2cdf122ec24096dc4d750b09034f482d'),\n",
       " 311: ('ecoinvent 2.2', 'fa0eae228814389e26f657e680a44bd2'),\n",
       " 312: ('ecoinvent 2.2', '7a39fab5eb1f2be457c1df1738b33686'),\n",
       " 313: ('ecoinvent 2.2', '534221d7c956443e189e1b21693b6a74'),\n",
       " 314: ('ecoinvent 2.2', '640ec581edfeadbc6dc664977aae04d8'),\n",
       " 315: ('ecoinvent 2.2', '04642e5132af9468646bd54ad5adb85f'),\n",
       " 316: ('ecoinvent 2.2', '6f5b2b9b309d984d80b2b60434d400a6'),\n",
       " 317: ('ecoinvent 2.2', '0f6e406d7d5cf22e08a5c834b118f6bd'),\n",
       " 318: ('ecoinvent 2.2', '885c156ea6d41696947f5e155c25f944'),\n",
       " 319: ('ecoinvent 2.2', '15dcdccb2478a171152ed2e8260a1e2b'),\n",
       " 320: ('ecoinvent 2.2', 'cfc52ad6a567c8397f48942197b9af2e'),\n",
       " 321: ('ecoinvent 2.2', 'f11da7e0ea87fb2a976ba82453fde6da'),\n",
       " 322: ('ecoinvent 2.2', 'e31c6b55c4cb17ea0c9b708d89aac53e'),\n",
       " 323: ('ecoinvent 2.2', '845ac3c3d809f2f8552726abadbf276a'),\n",
       " 324: ('ecoinvent 2.2', '126e60b794cbb4176efaf123f0d5dd00'),\n",
       " 325: ('ecoinvent 2.2', '659163d5c37ff889ea6a0c004e478672'),\n",
       " 326: ('ecoinvent 2.2', '9d80f6f7eddb5557aae0ddccdcd50cc5'),\n",
       " 327: ('ecoinvent 2.2', '871dc0f04ae61a1623de6b438d15531b'),\n",
       " 328: ('ecoinvent 2.2', 'e90f5aaf474862fa090d909c76500ce3'),\n",
       " 329: ('ecoinvent 2.2', '3fc7eca1fc56493bddcddc5ee33e57cf'),\n",
       " 330: ('ecoinvent 2.2', 'bb1d74a55f9dceef15c0115fef76be07'),\n",
       " 331: ('ecoinvent 2.2', 'bbcfd3a4836f56b5fd695f44587145a9'),\n",
       " 332: ('ecoinvent 2.2', '3158be430c2138f7152fcf635d4d0c13'),\n",
       " 333: ('ecoinvent 2.2', 'f65dbbb6a80f76f95c556016d19e92be'),\n",
       " 334: ('ecoinvent 2.2', 'b683d440758f972770ed62428145c5c2'),\n",
       " 335: ('ecoinvent 2.2', '3a993b06a1cc875ff5cc0cff86adc430'),\n",
       " 336: ('ecoinvent 2.2', '655aa3f308ebe813e39fcff27a1132bd'),\n",
       " 337: ('ecoinvent 2.2', '4b7723057be2d4e57cfb44988eec3c81'),\n",
       " 338: ('ecoinvent 2.2', 'cc8c5d43271036f35ff2c3589aac5990'),\n",
       " 339: ('ecoinvent 2.2', '0179482ec36bab63ffd8848c22449431'),\n",
       " 340: ('ecoinvent 2.2', 'abdc8125abba51189de07696dae86260'),\n",
       " 341: ('ecoinvent 2.2', 'cd00c89b23f2088a1f1ed9525c718c77'),\n",
       " 342: ('ecoinvent 2.2', '7523159c273e8af7d7b1023fecc62e3b'),\n",
       " 343: ('ecoinvent 2.2', 'e837c5a403cb9b212dae5924ea0c0b1a'),\n",
       " 344: ('ecoinvent 2.2', 'cdb298cdc72ae9257d9069d168debad0'),\n",
       " 345: ('ecoinvent 2.2', 'de189230e80c818d09b6fa38af20ff0e'),\n",
       " 346: ('ecoinvent 2.2', 'cd23e143a7e4eacbce204e3d7d8fc6c5'),\n",
       " 347: ('ecoinvent 2.2', '775de7a7997c733c380ecf62684e0734'),\n",
       " 348: ('ecoinvent 2.2', 'bb6aa672ea128d91c7a798a7287d8278'),\n",
       " 349: ('ecoinvent 2.2', '4ffd9ad1502900ce35d43770af718367'),\n",
       " 350: ('ecoinvent 2.2', '8031a4ab903f8ef113c5c962e1271a85'),\n",
       " 351: ('ecoinvent 2.2', '8093be65fea830b1136e0bdd5cefef36'),\n",
       " 352: ('ecoinvent 2.2', 'ed18a4c6617574036dfac623169f452f'),\n",
       " 353: ('ecoinvent 2.2', '806c5c5143b66f9a9756182570123400'),\n",
       " 354: ('ecoinvent 2.2', '7f55cf4118d9ad2269d9fb24be2f2483'),\n",
       " 355: ('ecoinvent 2.2', 'd930c4588e71772fb1eecf23e7feff2c'),\n",
       " 356: ('ecoinvent 2.2', '31c4ba077fc0316e741d90515d27896a'),\n",
       " 357: ('ecoinvent 2.2', 'da51eeabcaf60e3fd26e792904915d93'),\n",
       " 358: ('ecoinvent 2.2', '2621b2e2215ea545b8275dff8fa656b5'),\n",
       " 359: ('ecoinvent 2.2', 'bb6c9317d55b34d185e8271765ced58e'),\n",
       " 360: ('ecoinvent 2.2', '09e674c545c4a341953e3d8fc63e289a'),\n",
       " 361: ('ecoinvent 2.2', '0fd4bf919f1895d4bb64ae62e9897476'),\n",
       " 362: ('ecoinvent 2.2', 'f947f346508143bc9a53c3b9bb8db6a5'),\n",
       " 363: ('ecoinvent 2.2', '9a23f08340aa76e3a229603b60bc5356'),\n",
       " 364: ('ecoinvent 2.2', 'c0ee937cd418a33d2e2b8c4c22c029bb'),\n",
       " 365: ('ecoinvent 2.2', 'e6e9a53ca15507ea71cd7b9144eb8ca6'),\n",
       " 366: ('ecoinvent 2.2', '54885fd4e2aea4a82a2a5e37aec753b5'),\n",
       " 367: ('ecoinvent 2.2', '1efc7eca88e904b3c99fbf5f749dc208'),\n",
       " 368: ('ecoinvent 2.2', 'fc5990ed6d4c2fb25eeb3ba1b2ec7150'),\n",
       " 369: ('ecoinvent 2.2', '2504c2520b68c75556fca947e643a661'),\n",
       " 370: ('ecoinvent 2.2', 'ea5488617bcaf2301f963b6e47e43fb9'),\n",
       " 371: ('ecoinvent 2.2', 'd61a93269a92306458694bab96b402d7'),\n",
       " 372: ('ecoinvent 2.2', '7ce88a908ddefa4f0d4fae5d2d6ae760'),\n",
       " 373: ('ecoinvent 2.2', 'd868daa6f62cb7c86a3fa90285c89083'),\n",
       " 374: ('ecoinvent 2.2', '6a61dcff126cda2d9910a4f5fe84a7e6'),\n",
       " 375: ('ecoinvent 2.2', '5bcaf9905b49210274511bec22a2a943'),\n",
       " 376: ('ecoinvent 2.2', 'f3ac02c8141230a583e98c347555fded'),\n",
       " 377: ('ecoinvent 2.2', 'beb73c4c17a47c0f762e545dc69858cf'),\n",
       " 378: ('ecoinvent 2.2', '4e9805af9b59c28974819308292d96db'),\n",
       " 379: ('ecoinvent 2.2', '0a94af70fd4fb79aafdc256213fba08e'),\n",
       " 380: ('ecoinvent 2.2', '6c6e85044c0394b6a4a031e7050a2654'),\n",
       " 381: ('ecoinvent 2.2', '76b987eeb762ee8a6057219e20916ed0'),\n",
       " 382: ('ecoinvent 2.2', '0645000eaaa45327a850a3a2520b634c'),\n",
       " 383: ('ecoinvent 2.2', 'b163aecc0f95bcd355e1b8226ea4a23f'),\n",
       " 384: ('ecoinvent 2.2', 'bf0402b1618784c077fabe7179ef2066'),\n",
       " 385: ('ecoinvent 2.2', 'f7e67afd522d4549dd6af5b2deeeaf22'),\n",
       " 386: ('ecoinvent 2.2', '075c19f49d2bdb362b98432f0bca29a3'),\n",
       " 387: ('ecoinvent 2.2', '526c9f2c0db5b171074811801706e0f3'),\n",
       " 388: ('ecoinvent 2.2', '1f0ea02c41d430a56258491109ef6140'),\n",
       " 389: ('ecoinvent 2.2', '8c11b883cf03fadeab33cf3ea56cabfe'),\n",
       " 390: ('ecoinvent 2.2', 'c65407718d7dc7e636229d8f664c5ec5'),\n",
       " 391: ('ecoinvent 2.2', '8f0f5c19b903963a1f5c75fbdeaaa7d9'),\n",
       " 392: ('ecoinvent 2.2', '64cab23754b16664c63884066566c8fd'),\n",
       " 393: ('ecoinvent 2.2', '5a846e97392cac793ff4841ec1d4e2b2'),\n",
       " 394: ('ecoinvent 2.2', 'fbaca48230b737472a4bb4ce20fbda04'),\n",
       " 395: ('ecoinvent 2.2', 'e384ba53adde5b6eb97e9bca2ac0d44c'),\n",
       " 396: ('ecoinvent 2.2', '5c5b7448072c6b05725cdbc4a34b5d42'),\n",
       " 397: ('ecoinvent 2.2', 'c5fcac9f05cea496ec7d493661ccb5bd'),\n",
       " 398: ('ecoinvent 2.2', 'a568e17d4ed4656dc93cd65567fd8004'),\n",
       " 399: ('ecoinvent 2.2', '4933753197cee678db3a8f7a0507ff1b'),\n",
       " 400: ('ecoinvent 2.2', 'b79dbeb05a4ce0124f171b34d86697ba'),\n",
       " 401: ('ecoinvent 2.2', 'd7f3bd592e0908fadd89d69c5fb29583'),\n",
       " 402: ('ecoinvent 2.2', 'f1e9c7d150bdfe59328707101c8eeb67'),\n",
       " 403: ('ecoinvent 2.2', '37d7da64b17a096b0e6c7a26e43bdf2b'),\n",
       " 404: ('ecoinvent 2.2', '590d7abbf11ce1f16947845f3ea69730'),\n",
       " 405: ('ecoinvent 2.2', 'ff134b72426f9f7ffdc65fed7972a286'),\n",
       " 406: ('ecoinvent 2.2', '0f6aef297f18eb2f06a74f73f08f7a1a'),\n",
       " 407: ('ecoinvent 2.2', 'e83447d32f973de917f154987757cc45'),\n",
       " 408: ('ecoinvent 2.2', 'a40198d2ef441486f27c8665caee8d4d'),\n",
       " 409: ('ecoinvent 2.2', '3b689a7d7d170b0e95c8fb5663b92c56'),\n",
       " 410: ('ecoinvent 2.2', 'df7299ef3b758e7178827b91da507217'),\n",
       " 411: ('ecoinvent 2.2', '888d03b11c9969a7200c51e0f6193de0'),\n",
       " 412: ('ecoinvent 2.2', '06f8fefafe591568c9ec311bb32a9580'),\n",
       " 413: ('ecoinvent 2.2', 'cd621da1d37e73e7bc52c5f8d65d0c20'),\n",
       " 414: ('ecoinvent 2.2', 'c86ab5f257f045853ffdad00c3792a12'),\n",
       " 415: ('ecoinvent 2.2', '8a899de2888ebade9b249db9fa61321c'),\n",
       " 416: ('ecoinvent 2.2', 'fc4e674723119d647e6e36710d607986'),\n",
       " 417: ('ecoinvent 2.2', '39c435fcad44e0fa2c3cfef3f7f0a1b5'),\n",
       " 418: ('ecoinvent 2.2', 'ade6561e3ec9ed2b1e8090f223334602'),\n",
       " 419: ('ecoinvent 2.2', '72f50529c60755d5971362d48e83e674'),\n",
       " 420: ('ecoinvent 2.2', 'a534d915634977a0d71b8b95f12c6150'),\n",
       " 421: ('ecoinvent 2.2', 'b8b1e69993f11ae92be2d1104aa45cae'),\n",
       " 422: ('ecoinvent 2.2', 'b5f993119ccbd322574ef2570d685a87'),\n",
       " 423: ('ecoinvent 2.2', 'd1fa3d4e699d875d637327f2802154c3'),\n",
       " 424: ('ecoinvent 2.2', 'e7f4bac4063f9622accb360a27eba706'),\n",
       " 425: ('ecoinvent 2.2', '3014d34db832411910b61df03cd78d90'),\n",
       " 426: ('ecoinvent 2.2', '6e2d8ab6f4739e0637a77101f2381569'),\n",
       " 427: ('ecoinvent 2.2', '68389b334e5098d5b11fda93fae226f2'),\n",
       " 428: ('ecoinvent 2.2', '9440fbb4685c8b4877c1bd096b65695f'),\n",
       " 429: ('ecoinvent 2.2', 'ea1e182643722c9f172df231acbdc731'),\n",
       " 430: ('ecoinvent 2.2', '684b64e9abd556c378d84d160a11be83'),\n",
       " 431: ('ecoinvent 2.2', '0f97fffecef94890934b7340393952f1'),\n",
       " 432: ('ecoinvent 2.2', 'a72ee2f1f9cf62aa0b455655af4e9c93'),\n",
       " 433: ('ecoinvent 2.2', '7d60c1518fcaafc81cb122cc1f8b8926'),\n",
       " 434: ('ecoinvent 2.2', '48f3c9d26a87e3a810b167a5c51a9bd3'),\n",
       " 435: ('ecoinvent 2.2', '07c2134e79a1f117f99aac0931746403'),\n",
       " 436: ('ecoinvent 2.2', '4bf6ae650a8d39983998ed944ee0bf51'),\n",
       " 437: ('ecoinvent 2.2', '052a083252118103af33955761fcc6d4'),\n",
       " 438: ('ecoinvent 2.2', '3339927995484a719ac12282b693d3ee'),\n",
       " 439: ('ecoinvent 2.2', '9115cbe6ebd11b3bb837e7c3253463e0'),\n",
       " 440: ('ecoinvent 2.2', '1720072b5708f3b7c6eedf12614d6ed2'),\n",
       " 441: ('ecoinvent 2.2', 'e7a76b924a134964f12f1f5128a28dbc'),\n",
       " 442: ('ecoinvent 2.2', '7864b9fb8c3c382909c6aacaff607ade'),\n",
       " 443: ('ecoinvent 2.2', '27fa0df59c63bd807cd79903924ce4db'),\n",
       " 444: ('ecoinvent 2.2', 'f126a63395ec53bae278b4f56c97c605'),\n",
       " 445: ('ecoinvent 2.2', 'ae82d8bf701ce970fcd0f2b480ff1531'),\n",
       " 446: ('ecoinvent 2.2', '3789025194fd6bf9f5c5c86e417ef123'),\n",
       " 447: ('ecoinvent 2.2', '29f9f5007c0bc5d7393f6b1b1037b907'),\n",
       " 448: ('ecoinvent 2.2', '0f27504e5829bf09fc4bda25ac29890d'),\n",
       " 449: ('ecoinvent 2.2', '69436cfa1f90afccf0e063df20453efb'),\n",
       " 450: ('ecoinvent 2.2', 'f11e98a94d3f2584bbc90d9b0a3bf580'),\n",
       " 451: ('ecoinvent 2.2', 'f3977c727be500585ed821f1d58083bf'),\n",
       " 452: ('ecoinvent 2.2', 'ed95ff944e3fee5286ce3736775cf107'),\n",
       " 453: ('ecoinvent 2.2', '39b34477dcf5131bdfe93e724cb2b871'),\n",
       " 454: ('ecoinvent 2.2', '92c0f0330a20b35803e3eda674b8c72a'),\n",
       " 455: ('ecoinvent 2.2', 'f80c2674b2a3ea5f51656576394ce212'),\n",
       " 456: ('ecoinvent 2.2', '1206cba2e542ac959e8bea409558f87b'),\n",
       " 457: ('ecoinvent 2.2', 'd03820d95d1536214b7b84e16a872a76'),\n",
       " 458: ('ecoinvent 2.2', 'be7cdb8838fbfca1f5c876dd9e35abfd'),\n",
       " 459: ('ecoinvent 2.2', '146b801d064f80bdc3717f3dfbca9705'),\n",
       " 460: ('ecoinvent 2.2', '581c0c71964c4458f4a63f5e1541cca6'),\n",
       " 461: ('ecoinvent 2.2', '9d91aba946f4bd8b2bab33ddef6bc347'),\n",
       " 462: ('ecoinvent 2.2', '41e6eac63549a24cc19350c71d01b0d6'),\n",
       " 463: ('ecoinvent 2.2', '5c3fd617b8c1b52d8632bc6529ff880f'),\n",
       " 464: ('ecoinvent 2.2', 'caf29350284fb879f9757f19ef168c48'),\n",
       " 465: ('ecoinvent 2.2', '6c83c7090535183d9edb76aec73a9d91'),\n",
       " 466: ('ecoinvent 2.2', 'b43eb9c7c0d34c2cfc6f4d07d2c2e01a'),\n",
       " 467: ('ecoinvent 2.2', 'f67b665421e92f8a9bcfd45f7b812bb6'),\n",
       " 468: ('ecoinvent 2.2', '32a7544c0cd6ee14e71be0d557d9f268'),\n",
       " 469: ('ecoinvent 2.2', '29bdcc0c0fe098b7a7d66f701ade256b'),\n",
       " 470: ('ecoinvent 2.2', '858490232b064dd1117b9386cb6a5248'),\n",
       " 471: ('ecoinvent 2.2', '77c808c47d0289507ac0a3b99537d1cc'),\n",
       " 472: ('ecoinvent 2.2', '3efb207cbd5826abb8b3bdc7dc60c329'),\n",
       " 473: ('ecoinvent 2.2', '36d837a6e19ee10e8ae5deed501ea76c'),\n",
       " 474: ('ecoinvent 2.2', '5fdf225f3e2c35db43fa627897f3d447'),\n",
       " 475: ('ecoinvent 2.2', '81b87b9385a16861de7fdaf8990a9c7e'),\n",
       " 476: ('ecoinvent 2.2', '2bdaca11e8122c845c4901462d43c5de'),\n",
       " 477: ('ecoinvent 2.2', 'aa5b1e5965df3f37eb0467ec5d85e8b6'),\n",
       " 478: ('ecoinvent 2.2', 'a972189429b7e2672a36265df9cfeed2'),\n",
       " 479: ('ecoinvent 2.2', '294ffde1fc7c56e4b8591c26e36bc9d0'),\n",
       " 480: ('ecoinvent 2.2', '681f78e52f78a4bf570c7af99587a1b5'),\n",
       " 481: ('ecoinvent 2.2', '7661ffd0a7538eb63509a29f31fcea57'),\n",
       " 482: ('ecoinvent 2.2', 'd85a35f26663e03432a657f4ee66684e'),\n",
       " 483: ('ecoinvent 2.2', '123c0f8d0944395657cfc28e6b2994b4'),\n",
       " 484: ('ecoinvent 2.2', '8f461b005b65c29b93f58466062d5ed2'),\n",
       " 485: ('ecoinvent 2.2', 'cb6c48b6c940004f31eb018628126269'),\n",
       " 486: ('ecoinvent 2.2', 'b22b9e7a90e0740b6a01c608d83d1b45'),\n",
       " 487: ('ecoinvent 2.2', 'cc064979c3b04412e756e2ca4f4f1732'),\n",
       " 488: ('ecoinvent 2.2', '9e0aa781524975bdf4f5c92a668c5eb8'),\n",
       " 489: ('ecoinvent 2.2', 'fd9e5ad68da304501b0da534a50b040a'),\n",
       " 490: ('ecoinvent 2.2', 'ef6a7d8300d5aaec95c6a19124fc063c'),\n",
       " 491: ('ecoinvent 2.2', 'e91d007fa06eda39a4148e5e11cbf032'),\n",
       " 492: ('ecoinvent 2.2', 'c028a331b2ce1cd30ce326c3ba284a62'),\n",
       " 493: ('ecoinvent 2.2', '39fe4eef9326a5da73d83020b0182839'),\n",
       " 494: ('ecoinvent 2.2', 'dceae8fcd968f061581be0ad92e4bf0b'),\n",
       " 495: ('ecoinvent 2.2', '88ce5f3bb00055826838734b9dd768f7'),\n",
       " 496: ('ecoinvent 2.2', '96593609d4c9b3b93cfa7ab1fe8976b3'),\n",
       " 497: ('ecoinvent 2.2', '4170fb0d4eff0e8861bc5efcba0311d7'),\n",
       " 498: ('ecoinvent 2.2', 'd9953ec9dbd91450d51f7b17477bf0d7'),\n",
       " 499: ('ecoinvent 2.2', '2cd07cad7a11abb0d39bf7132bc3cf7d'),\n",
       " 500: ('ecoinvent 2.2', 'b79edfe643b79b6a19a59008d0c32433'),\n",
       " 501: ('ecoinvent 2.2', '0fe1bf4b8b187bbea3895664cc4d35fc'),\n",
       " 502: ('ecoinvent 2.2', 'd68664ffe8a5a1920089b6f039682801'),\n",
       " 503: ('ecoinvent 2.2', 'eddd01750b4369a3617c9deac40e2f70'),\n",
       " 504: ('ecoinvent 2.2', '63512011ea38c92a139b9dec4f45f535'),\n",
       " 505: ('ecoinvent 2.2', '5a6116d95c5fa3193ed2b018fb377293'),\n",
       " 506: ('ecoinvent 2.2', '88346ee52a6e38ed16565173461cfef6'),\n",
       " 507: ('ecoinvent 2.2', 'a24ae226ffec7665a6bedf153247e9fb'),\n",
       " 508: ('ecoinvent 2.2', 'd6fb4d3b9f83c38696d8d7b5dd1050aa'),\n",
       " 509: ('ecoinvent 2.2', '2274001fec9d08a8c832ad10be09586e'),\n",
       " 510: ('ecoinvent 2.2', '43e0a94fe410aba99e86e883d9847689'),\n",
       " 511: ('ecoinvent 2.2', '65c28aecf660cd3aec08b128b55b19a0'),\n",
       " 512: ('ecoinvent 2.2', '345fa12c1a53b37089672f22d369734c'),\n",
       " 513: ('ecoinvent 2.2', '2701c9994dff596968be10369a25fc71'),\n",
       " 514: ('ecoinvent 2.2', 'a7e292075851329434ce8cf4b51c5b48'),\n",
       " 515: ('ecoinvent 2.2', 'ae0109eafe0d28b6f934606e28304434'),\n",
       " 516: ('ecoinvent 2.2', 'f363a71d2df71320945b5e80e91f4f41'),\n",
       " 517: ('ecoinvent 2.2', '8b9f54b67763c3006f190d03fb7351f8'),\n",
       " 518: ('ecoinvent 2.2', '8088c291abb203425d86ee83ffdafb7c'),\n",
       " 519: ('ecoinvent 2.2', 'fac58e7fc05bdc5c692c9acaceea5709'),\n",
       " 520: ('ecoinvent 2.2', 'bfefdac33eb24b41fa6f1267a6fd26c8'),\n",
       " 521: ('ecoinvent 2.2', '7fa9dfa629b8f71a8996c8e27ec4c248'),\n",
       " 522: ('ecoinvent 2.2', 'f55836b491d39bedda5876ef557b8521'),\n",
       " 523: ('ecoinvent 2.2', 'ac5ad57713527fa82e759ca2324e10b6'),\n",
       " 524: ('ecoinvent 2.2', 'fc96b5fdd7c05a70bc8f58a2aad26ea7'),\n",
       " 525: ('ecoinvent 2.2', '13870e478956a7c7c9eac7631d937eec'),\n",
       " 526: ('ecoinvent 2.2', 'bbcae68f4b8a307ffe134bcbfcf0d996'),\n",
       " 527: ('ecoinvent 2.2', '5e4f5dc86d9cd8695335f8f79758116b'),\n",
       " 528: ('ecoinvent 2.2', '2f2e985f30a89c22de4cd936cff4e030'),\n",
       " 529: ('ecoinvent 2.2', '78079490ee2c3fd51724730d83d78322'),\n",
       " 530: ('ecoinvent 2.2', 'f82dd8a318b85e7a5e29742ccb335acf'),\n",
       " 531: ('ecoinvent 2.2', 'f97903cccc13d7e9f04047c5c67f8cf7'),\n",
       " 532: ('ecoinvent 2.2', 'b8f3ce5aa768b39707347d2d4a3ca26a'),\n",
       " 533: ('ecoinvent 2.2', '8b6dd149eb15ed9099a3a3c7a0c8120c'),\n",
       " 534: ('ecoinvent 2.2', '3e35050d0c2d875926221be65ad79592'),\n",
       " 535: ('ecoinvent 2.2', '8d949382ae237e6cdfffadc193804e3f'),\n",
       " 536: ('ecoinvent 2.2', 'ff7572180b8901f4247238ce9badce14'),\n",
       " 537: ('ecoinvent 2.2', '7516d45fd0d14703287aee2ee3da4dce'),\n",
       " 538: ('ecoinvent 2.2', '6068694945876a175a3c75c094e5197a'),\n",
       " 539: ('ecoinvent 2.2', '9c3a7ad12f82f7f7eab9929af494b04a'),\n",
       " 540: ('ecoinvent 2.2', 'c088d4affff6e2b60396e63a0bf40767'),\n",
       " 541: ('ecoinvent 2.2', '041d7c95da3974b9fcbb09196c0c513b'),\n",
       " 542: ('ecoinvent 2.2', 'f2cb29b70558b2351a5414dbdaf68f33'),\n",
       " 543: ('ecoinvent 2.2', 'f7a3e37c0846bdd1fb0b045e4dd9791e'),\n",
       " 544: ('ecoinvent 2.2', '059c3c67f2f563434646c9b99741f66f'),\n",
       " 545: ('ecoinvent 2.2', 'a9b8c4283cf81a8fe1a99e2616d82ce4'),\n",
       " 546: ('ecoinvent 2.2', '308c7b075abd476277f74953473c22dd'),\n",
       " 547: ('ecoinvent 2.2', 'b342bd1a74c57843118b4e8919f2818e'),\n",
       " 548: ('ecoinvent 2.2', 'bfa28f591d218bdd865e49a80f2fd257'),\n",
       " 549: ('ecoinvent 2.2', '8bbbebb188effd8ceb914482256454ba'),\n",
       " 550: ('ecoinvent 2.2', 'a1127012a6230c5357e5d6a398161c07'),\n",
       " 551: ('ecoinvent 2.2', '946c6564e5f2fe2c5ea33a5d1d70d162'),\n",
       " 552: ('ecoinvent 2.2', '1699bd0d308c0adc53b99032de943d74'),\n",
       " 553: ('ecoinvent 2.2', 'b0e54709e80b5c52a399434605985bd4'),\n",
       " 554: ('ecoinvent 2.2', '257c281acf9c748b9eaff84846200cc6'),\n",
       " 555: ('ecoinvent 2.2', '432f08b9fc514c2b1caa3bfa492128b6'),\n",
       " 556: ('ecoinvent 2.2', '02fb5a93b27076534dcaef0858b6a42f'),\n",
       " 557: ('ecoinvent 2.2', 'd1aa888a16ab711e0a4b4a0b3ee56e6e'),\n",
       " 558: ('ecoinvent 2.2', '69377af886c61ae92319d88d791faca8'),\n",
       " 559: ('ecoinvent 2.2', '30a752bdf02386283faeb77866a70fc9'),\n",
       " 560: ('ecoinvent 2.2', '68bd303617d8ce7612e0de940fb9aeb3'),\n",
       " 561: ('ecoinvent 2.2', 'f15e8615f99414d9d50ce652fc828327'),\n",
       " 562: ('ecoinvent 2.2', 'b89fb46a0bf6b80747b2c200ebcc51ef'),\n",
       " 563: ('ecoinvent 2.2', 'c570d89db68ff8b2575310c8b516e62d'),\n",
       " 564: ('ecoinvent 2.2', '3ad8f9b14dfad2485237591369437996'),\n",
       " 565: ('ecoinvent 2.2', '75744716eccd02bf7df6cfcd102e9ab3'),\n",
       " 566: ('ecoinvent 2.2', 'b9800fa22f41cd31e322683f7cad7011'),\n",
       " 567: ('ecoinvent 2.2', 'd3d3286f9cb9d79acc34d08f03ba7d5f'),\n",
       " 568: ('ecoinvent 2.2', '9c0853853016146743f749cb70a5592b'),\n",
       " 569: ('ecoinvent 2.2', 'e3771a7e38cc43b02ed68b96601e1fad'),\n",
       " 570: ('ecoinvent 2.2', 'ed87caffc015b8eb5f8a13d4d4e2a60e'),\n",
       " 571: ('ecoinvent 2.2', 'c76794ce835c72888903fb6108c877e5'),\n",
       " 572: ('ecoinvent 2.2', 'b00b0fa5f8ad899f23f4d09de5bd8461'),\n",
       " 573: ('ecoinvent 2.2', '83f0f53b7d9d0bb78cd2b530c95439ad'),\n",
       " 574: ('ecoinvent 2.2', '4820195ef4c93d244ecaf7519507fc52'),\n",
       " 575: ('ecoinvent 2.2', '2224a0563aaf9662971658f1f1860323'),\n",
       " 576: ('ecoinvent 2.2', '4ca2782748bb7c4604cfdadc47b140fa'),\n",
       " 577: ('ecoinvent 2.2', '5d1cbb8c092094b6908c9a4b157d5b5d'),\n",
       " 578: ('ecoinvent 2.2', '1a5e7b4f1dc5d5769c28f25217392b8c'),\n",
       " 579: ('ecoinvent 2.2', '65f047c411f94f5d2928131e0e82f118'),\n",
       " 580: ('ecoinvent 2.2', '4e90879ea9437979741dacbdd01cf2aa'),\n",
       " 581: ('ecoinvent 2.2', '9478bfef600c0550a5853df87e1a73ad'),\n",
       " 582: ('ecoinvent 2.2', 'b4ce86662526c5bc4f3343f2c57530a1'),\n",
       " 583: ('ecoinvent 2.2', '0d7d81112b61c20bcb7b3510209881db'),\n",
       " 584: ('ecoinvent 2.2', '629d24c86d01e0f97ba72a08a6a30c99'),\n",
       " 585: ('ecoinvent 2.2', '0734bdde5a3d0979e4826ac11c2df989'),\n",
       " 586: ('ecoinvent 2.2', '671c8f5362e6832da9ab785313e52f88'),\n",
       " 587: ('ecoinvent 2.2', 'c809f46df6b16f293d44c39779e79d8f'),\n",
       " 588: ('ecoinvent 2.2', '4f5daaffb41a89d6dc02aaa8806f354e'),\n",
       " 589: ('ecoinvent 2.2', '21f4629d57d18c724de84c15e05dc3e4'),\n",
       " 590: ('ecoinvent 2.2', '9beb6276af4e705043c84dce0222ff97'),\n",
       " 591: ('ecoinvent 2.2', 'b54e05e77962bd64e0ace2ff7f66d7d4'),\n",
       " 592: ('ecoinvent 2.2', '99d2906d9533b8a191e280f0aa98a107'),\n",
       " 593: ('ecoinvent 2.2', '90657f8dae7752d12209df06bc972556'),\n",
       " 594: ('ecoinvent 2.2', 'ecece53f3e97431e2f2525073c79b034'),\n",
       " 595: ('ecoinvent 2.2', 'baa4630f9fbe08b1dc41e02c0bbf16db'),\n",
       " 596: ('ecoinvent 2.2', '250ca25a68ea133357d8b48208922f33'),\n",
       " 597: ('ecoinvent 2.2', 'f012a99ea48fca216d0034999a31eb10'),\n",
       " 598: ('ecoinvent 2.2', '3c5c24d8f55941fe48775ebfd0c1aa7e'),\n",
       " 599: ('ecoinvent 2.2', 'a4d348122df98204f151c81b66dfe60d'),\n",
       " 600: ('ecoinvent 2.2', '63bb36bea4ce3a9a36931ed70f073f5f'),\n",
       " 601: ('ecoinvent 2.2', 'c70cbb3bc0338448822d059e33bebd9c'),\n",
       " 602: ('ecoinvent 2.2', 'f25c211e7466e915e155d7720805667d'),\n",
       " 603: ('ecoinvent 2.2', '05096630b6a9937cb0b818a59945b3b0'),\n",
       " 604: ('ecoinvent 2.2', 'c4e5be1ebf864b44b99c0a1774983931'),\n",
       " 605: ('ecoinvent 2.2', 'd3c62432e6b0e394c04afd6c259d6956'),\n",
       " 606: ('ecoinvent 2.2', '65177bf04972b46bd5b3ca47c227d2bb'),\n",
       " 607: ('ecoinvent 2.2', 'e79ae75a4194c3399df687ef01060ebd'),\n",
       " 608: ('ecoinvent 2.2', 'c3db272da7810c33922b99e4319deb52'),\n",
       " 609: ('ecoinvent 2.2', 'c7ccff2f22c56edb8a247b168bb8d6a8'),\n",
       " 610: ('ecoinvent 2.2', 'cda4afd6608dd2c8f7332627abb66dd6'),\n",
       " 611: ('ecoinvent 2.2', '41dca2bb382bf47393bc499b0ad4464c'),\n",
       " 612: ('ecoinvent 2.2', '5c4fb994a96e059398585222a8ef0e1c'),\n",
       " 613: ('ecoinvent 2.2', 'ec981c39ad6020402510927dce564b4b'),\n",
       " 614: ('ecoinvent 2.2', '5af6814eaf7c4b66945827af8bd1c58b'),\n",
       " 615: ('ecoinvent 2.2', 'bbb4381258026bade3f6c2be6435f901'),\n",
       " 616: ('ecoinvent 2.2', 'e6b0e550e8df441c4f775a2fd3be425d'),\n",
       " 617: ('ecoinvent 2.2', '47741fb0b8b8e7b4b6238c18d1f6840e'),\n",
       " 618: ('ecoinvent 2.2', '1a0c667ae46a2398d7dff3b66f4645be'),\n",
       " 619: ('ecoinvent 2.2', 'e4d3b4132acf7ce7a08cc8bfd54414fa'),\n",
       " 620: ('ecoinvent 2.2', 'c9d70f6b471050c0717d99bde5d674e1'),\n",
       " 621: ('ecoinvent 2.2', '3470efdd08622ca511810fe9a162a5e7'),\n",
       " 622: ('ecoinvent 2.2', '7dbf64720b7305ff6ae775e1020e769b'),\n",
       " 623: ('ecoinvent 2.2', '266d5613e2b068b79f7d2b2d31a26747'),\n",
       " 624: ('ecoinvent 2.2', '8e150675bfcb530907c7360b43b00cb9'),\n",
       " 625: ('ecoinvent 2.2', '4c51e336e2c73b402bbe62b33d817618'),\n",
       " 626: ('ecoinvent 2.2', '6201e306aac2de8454752074df985361'),\n",
       " 627: ('ecoinvent 2.2', 'acd31037bd240843cfa59669c9d0e637'),\n",
       " 628: ('ecoinvent 2.2', 'cd7b50f17bfbe38d882630529a7f558d'),\n",
       " 629: ('ecoinvent 2.2', '4fd692a735fc4b5432cac87a196d6f20'),\n",
       " 630: ('ecoinvent 2.2', '6bfffaedadc1f13b2fc78ab881eb2f4b'),\n",
       " 631: ('ecoinvent 2.2', '721b14effdbbeee857c5917093e6548c'),\n",
       " 632: ('ecoinvent 2.2', '98ce08de5b23c14a6639e9f1da6406c6'),\n",
       " 633: ('ecoinvent 2.2', '61f591763f030d6ed886d5cf559a83ba'),\n",
       " 634: ('ecoinvent 2.2', '8a07fe94010eb3290410192ccb96a515'),\n",
       " 635: ('ecoinvent 2.2', '58b740d063f752b3522919ee705ce5b4'),\n",
       " 636: ('ecoinvent 2.2', '743199e3e3cb7835d8f61ef8a7fe3bef'),\n",
       " 637: ('ecoinvent 2.2', 'b84c2f43c063b9edf21e6cb1a314e84d'),\n",
       " 638: ('ecoinvent 2.2', '54b8a18dacd6e72c04902187253a3db4'),\n",
       " 639: ('ecoinvent 2.2', '5f734e034cea941b471647a915968374'),\n",
       " 640: ('ecoinvent 2.2', 'fddd21154835ed196f357522a058cd58'),\n",
       " 641: ('ecoinvent 2.2', '9788f0cf0bd5ed100b6f94d5831c8224'),\n",
       " 642: ('ecoinvent 2.2', '3afc903956bbf5f51700d50ac776c7d8'),\n",
       " 643: ('ecoinvent 2.2', '95ded8516948f8abcf32150b2beb6e03'),\n",
       " 644: ('ecoinvent 2.2', 'b34d54a0698e6eb32b6e286562970bf9'),\n",
       " 645: ('ecoinvent 2.2', 'e3eadd3032833ff49fd609e95862a701'),\n",
       " 646: ('ecoinvent 2.2', 'b63b1599ea33cdfd6592f6f30cc26fac'),\n",
       " 647: ('ecoinvent 2.2', '71a2cae4b02442f42acf7588a5bb1262'),\n",
       " 648: ('ecoinvent 2.2', 'd1f751c06ad519b4404c82e8df22eb5a'),\n",
       " 649: ('ecoinvent 2.2', '8dfc205068907e71971bf7ad86ac2fc7'),\n",
       " 650: ('ecoinvent 2.2', '67dfedbf7d94dd486fcaa3bcd315e2ec'),\n",
       " 651: ('ecoinvent 2.2', 'b9cb499f9ff990bbf0cef2b2e04ecee8'),\n",
       " 652: ('ecoinvent 2.2', 'c0b48f586e397bf3d4828fb3f070a55c'),\n",
       " 653: ('ecoinvent 2.2', '98cd624c2c5629f5e74598c99e0be249'),\n",
       " 654: ('ecoinvent 2.2', 'e30bd3e8473548a9b6cbae1c02aa453a'),\n",
       " 655: ('ecoinvent 2.2', '88c87e6b4616593e0beed0ab983c7fcc'),\n",
       " 656: ('ecoinvent 2.2', 'b974641f6caf1dc867dde8c27a0fb9cf'),\n",
       " 657: ('ecoinvent 2.2', 'e2b8c4163ba0fb8939bf0e3832890ba1'),\n",
       " 658: ('ecoinvent 2.2', 'bb6e9e8e5c86ade536d636ee6bb9c5ee'),\n",
       " 659: ('ecoinvent 2.2', '87007588d37e1dd2282c7732044a050c'),\n",
       " 660: ('ecoinvent 2.2', '7c30dd02e66c5d3e39b0f09fa5d0df52'),\n",
       " 661: ('ecoinvent 2.2', '2bdc2aa653797a089b63c29f207b244f'),\n",
       " 662: ('ecoinvent 2.2', 'caa376799541240fa36007d7e5c489ab'),\n",
       " 663: ('ecoinvent 2.2', '3688d91f78f69ba5fc4d55e6f90b1655'),\n",
       " 664: ('ecoinvent 2.2', 'e0c6ac691e9ebf0cac4ea772485945d8'),\n",
       " 665: ('ecoinvent 2.2', '7767e51d4a6489d4c28da4770e590603'),\n",
       " 666: ('ecoinvent 2.2', 'd36db568dc1535e76ead3887c32eecf5'),\n",
       " 667: ('ecoinvent 2.2', 'c3e9c96b6cf9441450ff2eccc4a28e14'),\n",
       " 668: ('ecoinvent 2.2', 'f49d3222b07ef8e1d960b7fe49d9149d'),\n",
       " 669: ('ecoinvent 2.2', '3fab34bf1a580d1f93cb22eba03221c2'),\n",
       " 670: ('ecoinvent 2.2', '9ba3657652bfbdbb3dff20a1087999d0'),\n",
       " 671: ('ecoinvent 2.2', '89e76b0f8203de8a9a2f25f7954c9f3a'),\n",
       " 672: ('ecoinvent 2.2', '6acb17dc73f1b1fd1d34e6c3fcce3be6'),\n",
       " 673: ('ecoinvent 2.2', 'b17c801a2304e85ac32d8a11aaca05d7'),\n",
       " 674: ('ecoinvent 2.2', '93f48d57e68ddae5add65ef2803d983b'),\n",
       " 675: ('ecoinvent 2.2', '14574436d8a15d09b7905035b85a1e6d'),\n",
       " 676: ('ecoinvent 2.2', '0917f9a1dc018258a183c183bc518196'),\n",
       " 677: ('ecoinvent 2.2', '577f563c7e4d25322b72a23a9823c5ff'),\n",
       " 678: ('ecoinvent 2.2', 'b05c23e2a2401599932c35df0d60b75d'),\n",
       " 679: ('ecoinvent 2.2', 'b0c2782c89e9332d59a03eed8fe9c658'),\n",
       " 680: ('ecoinvent 2.2', '71b1836f489b8aee656a670541cc5811'),\n",
       " 681: ('ecoinvent 2.2', '6b290f90c329bdf331afbd163dc87475'),\n",
       " 682: ('ecoinvent 2.2', '6e27f02474b2baa2f286a9cb685dc9e1'),\n",
       " 683: ('ecoinvent 2.2', '77a8c8631abaf3b70b78c8658fe0e6c6'),\n",
       " 684: ('ecoinvent 2.2', 'f9ff064fa6eab93cb6f8e5b095be369d'),\n",
       " 685: ('ecoinvent 2.2', '12255f323253ab424bfd04c96ee662a7'),\n",
       " 686: ('ecoinvent 2.2', 'b9299ff43e1ad242ebea4e0f06935f25'),\n",
       " 687: ('ecoinvent 2.2', '6da8041d4322f4d2878814c0b9f4772b'),\n",
       " 688: ('ecoinvent 2.2', 'cc9054ada7b76134385b45fad0025def'),\n",
       " 689: ('ecoinvent 2.2', 'bc774c6f78c9e058f4c35159e1b21ad5'),\n",
       " 690: ('ecoinvent 2.2', '586c3f8fe099f951ca582e92f7eed41a'),\n",
       " 691: ('ecoinvent 2.2', '004ee114924dcbc0733e20afa6a54147'),\n",
       " 692: ('ecoinvent 2.2', 'cfe753b355e2e136379686bd314ab982'),\n",
       " 693: ('ecoinvent 2.2', '53de0d7088c565239f45c738242471a5'),\n",
       " 694: ('ecoinvent 2.2', '440daad6f1c3e92a674a16403f6b4380'),\n",
       " 695: ('ecoinvent 2.2', '2587b2a79d066af2afb5a7768689bd45'),\n",
       " 696: ('ecoinvent 2.2', '82f786a301e9dfbadc2077e565215fbc'),\n",
       " 697: ('ecoinvent 2.2', '90a7f705978f0ed5639b188bbb53a2b3'),\n",
       " 698: ('ecoinvent 2.2', '612c2eb3dc007933c7e494f2ab4c4a92'),\n",
       " 699: ('ecoinvent 2.2', '8c52d98b56fbb11a8fafec4b8729fbe1'),\n",
       " 700: ('ecoinvent 2.2', 'ed66d8567a163d3b86b0670bec025cb3'),\n",
       " 701: ('ecoinvent 2.2', '259907295021f60f55ce11278373c8e7'),\n",
       " 702: ('ecoinvent 2.2', '29bc86b4ffacc63fac17bf897cb24e97'),\n",
       " 703: ('ecoinvent 2.2', 'abb9c7c1a80afe743cbb6a2ffc7d0268'),\n",
       " 704: ('ecoinvent 2.2', 'ace8fd365583ee2048f2e0ad26d1652f'),\n",
       " 705: ('ecoinvent 2.2', 'c4eb63bad7aad2467caa614bd4631c46'),\n",
       " 706: ('ecoinvent 2.2', '04456e6bc35153113fcff107efd233e9'),\n",
       " 707: ('ecoinvent 2.2', 'd32d277c88bee00639603b99c3d0c70b'),\n",
       " 708: ('ecoinvent 2.2', 'a16b76ec1f41ebf1277440e568765657'),\n",
       " 709: ('ecoinvent 2.2', '4e90e529bdb76e789e6659e8eb37bf84'),\n",
       " 710: ('ecoinvent 2.2', 'd0e1fe61bdd19359b1a3655705bdf38f'),\n",
       " 711: ('ecoinvent 2.2', 'de90c044daf10c562033256117516b8f'),\n",
       " 712: ('ecoinvent 2.2', '0569b62b4700438e3237681f433a8978'),\n",
       " 713: ('ecoinvent 2.2', 'b4543e3c20462bebef55f99c433593e5'),\n",
       " 714: ('ecoinvent 2.2', '563ff96b79d9ee0b2371bb2fdaa68f43'),\n",
       " 715: ('ecoinvent 2.2', '11991ec3e54f4e4dd1d530eb64952181'),\n",
       " 716: ('ecoinvent 2.2', '10b4213b74377760090a8700cfe7a5ec'),\n",
       " 717: ('ecoinvent 2.2', '68610f56cf9f41ad3627618ed9ecf49b'),\n",
       " 718: ('ecoinvent 2.2', '7d89f58a3da43d64dd38a3e6344beadb'),\n",
       " 719: ('ecoinvent 2.2', '98cfa8784bc5826065f618972b1d3de9'),\n",
       " 720: ('ecoinvent 2.2', '9ac290544024a5eb9247a92fe2a5da11'),\n",
       " 721: ('ecoinvent 2.2', 'acd5010d84b2c292df2db61afae8d58b'),\n",
       " 722: ('ecoinvent 2.2', '21346a7620f839221e76014af9567f6b'),\n",
       " 723: ('ecoinvent 2.2', '8c55acc8007cc60bf5d5f0cad5245866'),\n",
       " 724: ('ecoinvent 2.2', '6f7404225f4385fbb7c5a361eaf8fdc2'),\n",
       " 725: ('ecoinvent 2.2', '0700a55cd2cf6f0aaa9218d9edb61026'),\n",
       " 726: ('ecoinvent 2.2', '855475433d7841d992ab3ba9e83d8146'),\n",
       " 727: ('ecoinvent 2.2', '1a2f541a4d5138455e1b66511cb94448'),\n",
       " 728: ('ecoinvent 2.2', 'ee09666f49c0c73591f344ff8f8f546b'),\n",
       " 729: ('ecoinvent 2.2', 'd7fd683b5218f5b52c0954de29993ac4'),\n",
       " 730: ('ecoinvent 2.2', 'f626f2aa12155751bd0680ab9b0dd15f'),\n",
       " 731: ('ecoinvent 2.2', '16dc6a21bc4a1392d31a94cf562e44bf'),\n",
       " 732: ('ecoinvent 2.2', '0fa4dfc577d4353df608d62e7b01f331'),\n",
       " 733: ('ecoinvent 2.2', '6c078abd1b45a552255ab37e860356cb'),\n",
       " 734: ('ecoinvent 2.2', 'e5052719528c88f1528378d9c7a30426'),\n",
       " 735: ('ecoinvent 2.2', 'dac472b0cf197a7e2a408eb3acc04b82'),\n",
       " 736: ('ecoinvent 2.2', '39e59dd6de9552a966fad96d357b191f'),\n",
       " 737: ('ecoinvent 2.2', 'e26e716757d5f7a1524ec266febca329'),\n",
       " 738: ('ecoinvent 2.2', 'c0ca95d02080710f3dd38ebc6e6d3735'),\n",
       " 739: ('ecoinvent 2.2', '1ada1410a76b737cea1ae71e95a85ad9'),\n",
       " 740: ('ecoinvent 2.2', '6d25e54c1b09e221827e6188bfba708b'),\n",
       " 741: ('ecoinvent 2.2', '63843d18f32eeade602f4122032025fa'),\n",
       " 742: ('ecoinvent 2.2', '3e255fa3f19a2938cbec2478e44c5cd5'),\n",
       " 743: ('ecoinvent 2.2', '67a86bccb12d687c3e97edfa5bd0c7b5'),\n",
       " 744: ('ecoinvent 2.2', 'cc714cd13956348b2198674c9044b33e'),\n",
       " 745: ('ecoinvent 2.2', 'f4c83d7134b957fe61938512286a7c1e'),\n",
       " 746: ('ecoinvent 2.2', '8d46a030349ded1c2408832f662f7e26'),\n",
       " 747: ('ecoinvent 2.2', '4facb57bd4a8cc4dd0e94aaffe405679'),\n",
       " 748: ('ecoinvent 2.2', '7ab8df0e73c2fee6b9ddf3f3d6300298'),\n",
       " 749: ('ecoinvent 2.2', 'be509a40e9f460da89048a6710d69fe2'),\n",
       " 750: ('ecoinvent 2.2', '38cd83e3f73cfc34f9b2a4faa2b3e346'),\n",
       " 751: ('ecoinvent 2.2', 'dd171ee1879c027389e2e5de23f04c9a'),\n",
       " 752: ('ecoinvent 2.2', 'a4ccbebae5eef37105f1e6594498a58d'),\n",
       " 753: ('ecoinvent 2.2', '72c39a21c0066e9fea87f9b69b3bd4dc'),\n",
       " 754: ('ecoinvent 2.2', '622ef62e7a55e6902d192e7f8f23b7f9'),\n",
       " 755: ('ecoinvent 2.2', '913b8f8886f4ca4545dcd5bd1e39bafa'),\n",
       " 756: ('ecoinvent 2.2', '179278ef7ff40debfec0cf0f1a23d3fc'),\n",
       " 757: ('ecoinvent 2.2', 'a8527ddd298bb45dc1cbf2828a249313'),\n",
       " 758: ('ecoinvent 2.2', '3b8499cdbd8a456360d85679d7b3498c'),\n",
       " 759: ('ecoinvent 2.2', '70089eacc497b5cba41a33c5c71b8193'),\n",
       " 760: ('ecoinvent 2.2', 'e05fe8079fbbeda2031e86a55ce2236b'),\n",
       " 761: ('ecoinvent 2.2', '0c3a29266efb52796a4fab2f9abdba67'),\n",
       " 762: ('ecoinvent 2.2', '30916d4e7248a05e25aba1fe86835041'),\n",
       " 763: ('ecoinvent 2.2', '53a9bcbdf456d59f1b3e39b984a12102'),\n",
       " 764: ('ecoinvent 2.2', '2ba08d2c57b7a6fdda2d78ab1ec42e00'),\n",
       " 765: ('ecoinvent 2.2', '0db7f1c5547a196a494ffc751590fbb5'),\n",
       " 766: ('ecoinvent 2.2', '81a15ccf23093d85f63cf5fef1f1f450'),\n",
       " 767: ('ecoinvent 2.2', '41e6a4f34de8d6c260c3774d370756b4'),\n",
       " 768: ('ecoinvent 2.2', 'f04b4bd3db33a83b809403941865a4b3'),\n",
       " 769: ('ecoinvent 2.2', 'f103f5fe023a0eeba4f710cfcb4fc0f4'),\n",
       " 770: ('ecoinvent 2.2', 'aef83a90ffb3a144267f29b5ee9bca8b'),\n",
       " 771: ('ecoinvent 2.2', '6931b12b16991addd1a396fab5368f30'),\n",
       " 772: ('ecoinvent 2.2', '451348cf28bb2964113a0e8eff5c6a14'),\n",
       " 773: ('ecoinvent 2.2', '29f16200915e84d667359369b27fe54a'),\n",
       " 774: ('ecoinvent 2.2', '19d20f4b7a7eb3704495ad3ba036c29d'),\n",
       " 775: ('ecoinvent 2.2', '7b91e9d2a4355777efc831308cf08ee6'),\n",
       " 776: ('ecoinvent 2.2', 'c1ef29d32fb3794288ca3460348190ba'),\n",
       " 777: ('ecoinvent 2.2', '0ba6d475a1cc836e64010b1c3c8a2741'),\n",
       " 778: ('ecoinvent 2.2', '53573c1e1f42d8b14faf74a376fc681a'),\n",
       " 779: ('ecoinvent 2.2', 'a6ccb845842b91b2e4ff91899bf6769e'),\n",
       " 780: ('ecoinvent 2.2', 'b8d08d96949d1066d1bbe920f8be2430'),\n",
       " 781: ('ecoinvent 2.2', '35f96f89f931d00238e6059b546bd15b'),\n",
       " 782: ('ecoinvent 2.2', '61602b6ba0c1ae3e20740afcb8fe173c'),\n",
       " 783: ('ecoinvent 2.2', 'b75d50440cd22a4f627d7f039afe633a'),\n",
       " 784: ('ecoinvent 2.2', 'ab6f4f2d9765cd42d4e041c5596a580d'),\n",
       " 785: ('ecoinvent 2.2', 'baebc5b3eb75f24c2da90a27c91a5309'),\n",
       " 786: ('ecoinvent 2.2', 'f51c32714d5d5fbceda24dcf96653ba0'),\n",
       " 787: ('ecoinvent 2.2', '343c60da93cc3111a042d0d1207c72f0'),\n",
       " 788: ('ecoinvent 2.2', 'db3924ba82dd7956cdc54e94be5b5eb1'),\n",
       " 789: ('ecoinvent 2.2', 'd902edf21760a8a0713e9c709a77d068'),\n",
       " 790: ('ecoinvent 2.2', '8f3df006269f2c44b4e070fd7cd4bf88'),\n",
       " 791: ('ecoinvent 2.2', '6ee40c97ddad6066f4a60b0550791cab'),\n",
       " 792: ('ecoinvent 2.2', 'bc26c06b95ac428ac7d7292223753a60'),\n",
       " 793: ('ecoinvent 2.2', 'f6df81349f2f2c25ca8dd3a681f22df6'),\n",
       " 794: ('ecoinvent 2.2', '37df44b9e86d3eb3a608300cd72961dd'),\n",
       " 795: ('ecoinvent 2.2', '5ea571c3961e83ac4d577454700f49fe'),\n",
       " 796: ('ecoinvent 2.2', '5d51aeda972bd47b09449df2d303ba47'),\n",
       " 797: ('ecoinvent 2.2', '4a61f9cf83094cff6796111c9863e387'),\n",
       " 798: ('ecoinvent 2.2', '4fef937a4d1027c00e10b1309dc872df'),\n",
       " 799: ('ecoinvent 2.2', '5870e22ecbc47ea770d6d6b31e5ce333'),\n",
       " 800: ('ecoinvent 2.2', '52d1f59e41b26ef4c0c4895efef90ef6'),\n",
       " 801: ('ecoinvent 2.2', '6d5d8d82f90de11dd980d195475e2ce2'),\n",
       " 802: ('ecoinvent 2.2', '133343fb1ec37d07b8327597d800c563'),\n",
       " 803: ('ecoinvent 2.2', 'fb1c1e3ce92c9962cec2affacf747ce3'),\n",
       " 804: ('ecoinvent 2.2', '6acc4b3aa2eb5e5d673de1af12d4e5b0'),\n",
       " 805: ('ecoinvent 2.2', '093624267ddef9cfddea1194fbc07d77'),\n",
       " 806: ('ecoinvent 2.2', 'a1878ca4f3a1a51d20227a35b8cc9f35'),\n",
       " 807: ('ecoinvent 2.2', '592922de9ba6e8bdb3d89058927a32a8'),\n",
       " 808: ('ecoinvent 2.2', '5d8f898c8b85af5c5e14c8943f12f714'),\n",
       " 809: ('ecoinvent 2.2', '2e28c926cc3e2382b8252437dc03719a'),\n",
       " 810: ('ecoinvent 2.2', '63c34a51c08669af3950fa1206894b27'),\n",
       " 811: ('ecoinvent 2.2', 'fcf44a71d13c69f243345b67f4da6561'),\n",
       " 812: ('ecoinvent 2.2', '40d4f6b21af4aa97e4c9e5ca939f175f'),\n",
       " 813: ('ecoinvent 2.2', '3058969ef6af164d7966d49bc9e48d04'),\n",
       " 814: ('ecoinvent 2.2', '198f19c7a899175aa5427ae8596a1c84'),\n",
       " 815: ('ecoinvent 2.2', 'ef440be9abeb46a3b0e3e37e13db9ec6'),\n",
       " 816: ('ecoinvent 2.2', 'f15e26fee8628fa43701b593d448a6b0'),\n",
       " 817: ('ecoinvent 2.2', 'c1a3533d4988941e130adcf7b4ec0df1'),\n",
       " 818: ('ecoinvent 2.2', 'ffb77ca1fd7d11e84a437722b5422b0e'),\n",
       " 819: ('ecoinvent 2.2', '615f56adc06383dba3b283b85ea5df00'),\n",
       " 820: ('ecoinvent 2.2', '1ef7d4480eddcec06cb127420bb9c37c'),\n",
       " 821: ('ecoinvent 2.2', '589a77053956cfdf72e6816a1f9dba70'),\n",
       " 822: ('ecoinvent 2.2', '0773b88c3ed80dac258bb462ec36c36b'),\n",
       " 823: ('ecoinvent 2.2', 'c6e1d179043e309fc0d4bdc828d2963b'),\n",
       " 824: ('ecoinvent 2.2', 'a7193ccb378bfb09995245e33f04acc6'),\n",
       " 825: ('ecoinvent 2.2', 'dcd31eabeda6474924abef22b498362f'),\n",
       " 826: ('ecoinvent 2.2', '57fe098ace8a43f308f57c24013aa7fb'),\n",
       " 827: ('ecoinvent 2.2', '48806109fa5c64a7d0e1f1c2dcb04ff8'),\n",
       " 828: ('ecoinvent 2.2', 'b9ea2a39933c89f2820229633df5baf2'),\n",
       " 829: ('ecoinvent 2.2', 'e62a337a79635c0404f74d77d9abbe21'),\n",
       " 830: ('ecoinvent 2.2', '39ce65abd41c96beef14c47edb286cd2'),\n",
       " 831: ('ecoinvent 2.2', 'bb70686da6a910272ff2b8a7c194a29f'),\n",
       " 832: ('ecoinvent 2.2', '2e54ecd5e094518767c35f69d878d7bd'),\n",
       " 833: ('ecoinvent 2.2', '33aa2f1f19b1a9924daf873efc8ff62c'),\n",
       " 834: ('ecoinvent 2.2', '92d53093443987032d3834e1c8df9caf'),\n",
       " 835: ('ecoinvent 2.2', '6b4dea21b66496a9c23cee9f91dddd21'),\n",
       " 836: ('ecoinvent 2.2', '5e9dea466b9f041528337c5306399d25'),\n",
       " 837: ('ecoinvent 2.2', 'c3c9511d6abfc17419e7f48a21705888'),\n",
       " 838: ('ecoinvent 2.2', 'd323a86e19f0994527532aa12c8e76d5'),\n",
       " 839: ('ecoinvent 2.2', '69f0159c71c9827d79fee7ebe104f9dc'),\n",
       " 840: ('ecoinvent 2.2', 'b872a0fc8dccb67a71bd2eed49feb1db'),\n",
       " 841: ('ecoinvent 2.2', 'acceb2058ba253e150708227ee6690c0'),\n",
       " 842: ('ecoinvent 2.2', '0b244b122424eea7f1c087290cf9a474'),\n",
       " 843: ('ecoinvent 2.2', '6715d4df7e23788aafefe29ebfe2de2f'),\n",
       " 844: ('ecoinvent 2.2', '1a359ebc47e9bb6d08f4a1ed55a30af2'),\n",
       " 845: ('ecoinvent 2.2', '831a0c32f536d91a673c70ed5a79bc37'),\n",
       " 846: ('ecoinvent 2.2', 'da8f47da8a87576d05d9df5103a8cc5e'),\n",
       " 847: ('ecoinvent 2.2', '0eeb3aad18cc2049762a30ae0b3bdfee'),\n",
       " 848: ('ecoinvent 2.2', 'f58a80ac1a76f004954a72d9e5f3df62'),\n",
       " 849: ('ecoinvent 2.2', '42827f2aa807cc4dfcb58f8462d6c71b'),\n",
       " 850: ('ecoinvent 2.2', 'ee9911666f42aeaf896358fa363b50c9'),\n",
       " 851: ('ecoinvent 2.2', '2e7ebd227e59bbba17971eff528deb61'),\n",
       " 852: ('ecoinvent 2.2', 'a299defcdeab848a6d8936bef9fb808b'),\n",
       " 853: ('ecoinvent 2.2', 'd34fadf24df94438b88e44b40fd1408f'),\n",
       " 854: ('ecoinvent 2.2', '48044d3a95ebbb3d504585f2217bba82'),\n",
       " 855: ('ecoinvent 2.2', '12413a56898fe688bfa2f09e7a31911b'),\n",
       " 856: ('ecoinvent 2.2', '513c6850e65dadef9c55240921fb2831'),\n",
       " 857: ('ecoinvent 2.2', '05d74938b00f6502aac0bd67fe8e75b2'),\n",
       " 858: ('ecoinvent 2.2', 'fa27295fdefa194692858f8bb9850ac6'),\n",
       " 859: ('ecoinvent 2.2', '1741bfdd057976228ed7f72b4d630ecb'),\n",
       " 860: ('ecoinvent 2.2', '0893abe464eec5e42edc21afd646a593'),\n",
       " 861: ('ecoinvent 2.2', '78e5bfb3f1871d15362dcf02ea3f0b3a'),\n",
       " 862: ('ecoinvent 2.2', '8655c8e68eca20a7c0c7829e6fc4c8b4'),\n",
       " 863: ('ecoinvent 2.2', '267bca89a18dae84162d63f3a023b268'),\n",
       " 864: ('ecoinvent 2.2', 'a1a4bc672d7ba2b36546953c5203b6dd'),\n",
       " 865: ('ecoinvent 2.2', '5f5e1e7ac1387f95173d113abec5b79c'),\n",
       " 866: ('ecoinvent 2.2', '865e3adafb982ae8d746d6a08f0043f8'),\n",
       " 867: ('ecoinvent 2.2', '03f7dfef575ad785b76a5ffc793a65a5'),\n",
       " 868: ('ecoinvent 2.2', '18530567b650671fc7738355f58259b5'),\n",
       " 869: ('ecoinvent 2.2', 'c554d37f973d1b499854bf094528d0cd'),\n",
       " 870: ('ecoinvent 2.2', '702e922011b4d472fb21fda6e701a06e'),\n",
       " 871: ('ecoinvent 2.2', 'cc2741cc570cc269d1da89d3eae71427'),\n",
       " 872: ('ecoinvent 2.2', 'f3cdeaf85de97250a4555f90375bb3f6'),\n",
       " 873: ('ecoinvent 2.2', '15813e2397abc00043d022fe2d9f3dd1'),\n",
       " 874: ('ecoinvent 2.2', 'd068bf04a9320cb069921d26cf68f9f4'),\n",
       " 875: ('ecoinvent 2.2', '6dede9d4d19627186487e5ea41ff31da'),\n",
       " 876: ('ecoinvent 2.2', 'ddd452c493fad6132689330288ace8c6'),\n",
       " 877: ('ecoinvent 2.2', 'ed8f94a3262ee5a992d7881833b51f44'),\n",
       " 878: ('ecoinvent 2.2', 'b35f75aa80b36c95e7ea9cb6b635ccc5'),\n",
       " 879: ('ecoinvent 2.2', '03b0a1052171c2becd3dc9c4167016a7'),\n",
       " 880: ('ecoinvent 2.2', 'a182e33fe0740abb046910154bec6c0f'),\n",
       " 881: ('ecoinvent 2.2', '62d98e91f81cb96a6197b3006b8995ca'),\n",
       " 882: ('ecoinvent 2.2', '4091a5f8af869df5f0fbe0e4d1178ac6'),\n",
       " 883: ('ecoinvent 2.2', '6aee1df3e4b757c8a6c81befcaa8a643'),\n",
       " 884: ('ecoinvent 2.2', '52df88ffe2bc521c4ecbd931572407c7'),\n",
       " 885: ('ecoinvent 2.2', '870c2fc9ecfd59201557160da0080b21'),\n",
       " 886: ('ecoinvent 2.2', 'e2bffb7ef83ddfa6331d61ed87f7f3c5'),\n",
       " 887: ('ecoinvent 2.2', 'e12fd63b31d6b4d2961eaac86b490498'),\n",
       " 888: ('ecoinvent 2.2', '39e4a1dea5cc53341671e72ef667abf6'),\n",
       " 889: ('ecoinvent 2.2', '3b21adb79040e5ef688ef7a8c6acee6d'),\n",
       " 890: ('ecoinvent 2.2', '50bf89b7155c929594719d054eaad931'),\n",
       " 891: ('ecoinvent 2.2', 'cd9833ece909fee81d6ad87d24434ee9'),\n",
       " 892: ('ecoinvent 2.2', '346736d5efe01bae2e433e3dbf7ad0de'),\n",
       " 893: ('ecoinvent 2.2', '7165691f57cfa7414929fdbfd8bfbb7f'),\n",
       " 894: ('ecoinvent 2.2', 'f1c035d1cdb3b4dc364af0245f0a3cec'),\n",
       " 895: ('ecoinvent 2.2', '8a9e9977be108abe8e81ed89b9bf04de'),\n",
       " 896: ('ecoinvent 2.2', 'e9d7589a63d88011bec2c7797d02b9bf'),\n",
       " 897: ('ecoinvent 2.2', '89fead039828a860198e08ee67aeb6a3'),\n",
       " 898: ('ecoinvent 2.2', '958c6e9ace2b29ceba241c4ccaa5344e'),\n",
       " 899: ('ecoinvent 2.2', '08c22a5a88c73de07c3382ea6ef3e215'),\n",
       " 900: ('ecoinvent 2.2', 'd7409b56c75f5ad0f07b3699c5e8b960'),\n",
       " 901: ('ecoinvent 2.2', 'b304eaf042046bbee90a75178dbb167f'),\n",
       " 902: ('ecoinvent 2.2', '80b4c16b57f367c8e23f0fb048887287'),\n",
       " 903: ('ecoinvent 2.2', '421a6dade0ccfa8c516d58f333803337'),\n",
       " 904: ('ecoinvent 2.2', '4ba7a5b8a935024c1ca69c6cf79eeb64'),\n",
       " 905: ('ecoinvent 2.2', 'e2e243766136009e79b803f5fca892d2'),\n",
       " 906: ('ecoinvent 2.2', 'cdd6767a4ffe106cef0ff6806695ee45'),\n",
       " 907: ('ecoinvent 2.2', '18831206d2bb843a208759f1de74e743'),\n",
       " 908: ('ecoinvent 2.2', '174a2edef613358056aefed69fd6c318'),\n",
       " 909: ('ecoinvent 2.2', '99a24574336959d0051b084aba8cf21b'),\n",
       " 910: ('ecoinvent 2.2', '2918b177b08df7a65841a713f5630b2a'),\n",
       " 911: ('ecoinvent 2.2', 'b774a2c6ff47cc6936bbad4914e28d32'),\n",
       " 912: ('ecoinvent 2.2', '4e7033957ac91f481ac3b2f752c7ba72'),\n",
       " 913: ('ecoinvent 2.2', '8dbdd5e1b556c665205729868c0e34c2'),\n",
       " 914: ('ecoinvent 2.2', 'f0fc3fe91483bff20e2ffeff1f3e1569'),\n",
       " 915: ('ecoinvent 2.2', '1f6ae8fa32d1826b5668d2863bb8b697'),\n",
       " 916: ('ecoinvent 2.2', 'a9648478e5b55f0a00114d9a30b50567'),\n",
       " 917: ('ecoinvent 2.2', '6b0c6681ac310066cae566b27c9487cb'),\n",
       " 918: ('ecoinvent 2.2', '4fb9fe36ecc32c421801759b46a2fab3'),\n",
       " 919: ('ecoinvent 2.2', '2eecb8d151172e80c0a6780fa2e85ef2'),\n",
       " 920: ('ecoinvent 2.2', 'c0f215fd57634289a575c0f9b982b58c'),\n",
       " 921: ('ecoinvent 2.2', '546435e1dcb0f0673a510bf58293379e'),\n",
       " 922: ('ecoinvent 2.2', '5bbf2e66f2d75d60726974ac44ab4225'),\n",
       " 923: ('ecoinvent 2.2', '6fba373b0d36e14790161bb2e6759eeb'),\n",
       " 924: ('ecoinvent 2.2', 'daecc2573fc52ef860d7c0d6fe9c20f4'),\n",
       " 925: ('ecoinvent 2.2', '10e9314dcab1824437be5c575df92727'),\n",
       " 926: ('ecoinvent 2.2', '14555c3176bd894508085d1039aff42a'),\n",
       " 927: ('ecoinvent 2.2', 'bfbefb7a2bd9758a71ce17a0589fd15f'),\n",
       " 928: ('ecoinvent 2.2', '4edb2d0cac4b94e8392f0dc4ecbbbe3e'),\n",
       " 929: ('ecoinvent 2.2', '6c4e87b0d5ffb68ad0feb78f9f0d90b9'),\n",
       " 930: ('ecoinvent 2.2', '9b020c9f0263c5e94165ea2312befd05'),\n",
       " 931: ('ecoinvent 2.2', '9474e77916f97e16425ecf2e34133990'),\n",
       " 932: ('ecoinvent 2.2', 'cd1506fe61c988de3685415e9bafd120'),\n",
       " 933: ('ecoinvent 2.2', '5f65f711501a9a9d97388e1bdc758896'),\n",
       " 934: ('ecoinvent 2.2', '60915087342b1b1fa6914d9d4e684190'),\n",
       " 935: ('ecoinvent 2.2', 'c765fe066d5a1dc4c3e9b335b0b97cd3'),\n",
       " 936: ('ecoinvent 2.2', '3f167d18ea50f2d4fb1babffb2f69a44'),\n",
       " 937: ('ecoinvent 2.2', '5a2ae8c61c5c05b32d51e9a30115f8b3'),\n",
       " 938: ('ecoinvent 2.2', '110387d75ce549cf4700e16051e5acea'),\n",
       " 939: ('ecoinvent 2.2', 'ada08cb15826614e855579dc4dbd37b3'),\n",
       " 940: ('ecoinvent 2.2', '3bc48f7da1851ad3b8f4ca630af8aa25'),\n",
       " 941: ('ecoinvent 2.2', '1c9fc169280c5c782931c00127537ec3'),\n",
       " 942: ('ecoinvent 2.2', 'efff3485ee101c62c44d432b0d4ff766'),\n",
       " 943: ('ecoinvent 2.2', '6021bf6bc991f64f8f74d31439a99a68'),\n",
       " 944: ('ecoinvent 2.2', '3530be493f815ce83abeb2e6783abaf5'),\n",
       " 945: ('ecoinvent 2.2', '3f78663ae6c627bb93d26c75acb89d8a'),\n",
       " 946: ('ecoinvent 2.2', '518b10e6095c13976a92df0102fa39b4'),\n",
       " 947: ('ecoinvent 2.2', 'c817114feee1418b7ed69d860f9caa00'),\n",
       " 948: ('ecoinvent 2.2', '6e84167a47daaa3c3cf5651666929818'),\n",
       " 949: ('ecoinvent 2.2', '1c0fec6fa5f1a4c20b87a6e2b010c2ac'),\n",
       " 950: ('ecoinvent 2.2', '637e3caa3e2dccc00f0ca934314db726'),\n",
       " 951: ('ecoinvent 2.2', '7954b69c15a9f1b79c6f2c2e6143ba9d'),\n",
       " 952: ('ecoinvent 2.2', '77366fd0a27426ddafb922bacedb1387'),\n",
       " 953: ('ecoinvent 2.2', '335f6bc6e5b3bdff4443d0c813d5024b'),\n",
       " 954: ('ecoinvent 2.2', '5ed783b12b148649467bb9e7c68bec66'),\n",
       " 955: ('ecoinvent 2.2', '2a2dd82a59b8b60d0cc0064c1d2c5cfb'),\n",
       " 956: ('ecoinvent 2.2', '0686735fb4dc3e7ec1270c8daa01b642'),\n",
       " 957: ('ecoinvent 2.2', '2c2e7d7cc30a64dd75c893190846c13a'),\n",
       " 958: ('ecoinvent 2.2', 'f3f35375f91618766f12f33ecff5371f'),\n",
       " 959: ('ecoinvent 2.2', '65fe0bb7da8ad56b259ca64106c95a78'),\n",
       " 960: ('ecoinvent 2.2', 'f6e349075825fcedec63d25b524743a9'),\n",
       " 961: ('ecoinvent 2.2', '5e5cb721f9bf5f17836821d60b36447a'),\n",
       " 962: ('ecoinvent 2.2', '374b0767e528ca45798eefda775c0e44'),\n",
       " 963: ('ecoinvent 2.2', '9b7314353475e02f62c1411ba1a03750'),\n",
       " 964: ('ecoinvent 2.2', '40a91612f47f754b398d3e6f38d1515a'),\n",
       " 965: ('ecoinvent 2.2', '5ac899dca47f9849251307d78765b2ad'),\n",
       " 966: ('ecoinvent 2.2', 'c523e65bb91adcda7949493a47250d2d'),\n",
       " 967: ('ecoinvent 2.2', 'e8703ca3ba1b1c553974dccb089095e8'),\n",
       " 968: ('ecoinvent 2.2', '6969329cf65235887e7474984b2c8802'),\n",
       " 969: ('ecoinvent 2.2', 'f47e885e8a27ec7f99b954261cb0b97f'),\n",
       " 970: ('ecoinvent 2.2', '70b659c5e36dc1836a166cdb7f098dfd'),\n",
       " 971: ('ecoinvent 2.2', '6c1df4a088db8be64b452a0412b156b8'),\n",
       " 972: ('ecoinvent 2.2', '2670f1ecc70966c66ce5af4adc996622'),\n",
       " 973: ('ecoinvent 2.2', '340bc00b0771bd8e94de69791f2fd7cc'),\n",
       " 974: ('ecoinvent 2.2', '7b15f151c7bfd0ca64fbb74297172907'),\n",
       " 975: ('ecoinvent 2.2', '6711f6b21b968c5c33a0a168d1358da0'),\n",
       " 976: ('ecoinvent 2.2', '739117852f13955b143b8a5e08065a3d'),\n",
       " 977: ('ecoinvent 2.2', '1fb37078e9856e44ea2abd9ec93af290'),\n",
       " 978: ('ecoinvent 2.2', 'd4b8076d7e379d3285f048e868bd75cd'),\n",
       " 979: ('ecoinvent 2.2', 'f161bd14ae6f6adc76de66b6eec208e9'),\n",
       " 980: ('ecoinvent 2.2', 'da8f9bf8392c9c134eb5486ae69b5975'),\n",
       " 981: ('ecoinvent 2.2', 'b0397534593b2e117dddc2c7c4a7881a'),\n",
       " 982: ('ecoinvent 2.2', '3646a502964e8766091835bcf026ef3f'),\n",
       " 983: ('ecoinvent 2.2', 'c399b320ceba7533c3d14b84a6a29004'),\n",
       " 984: ('ecoinvent 2.2', 'bce6f4711062792fe4064d9a1cb6a606'),\n",
       " 985: ('ecoinvent 2.2', '61fdbb843da6a1e291ccaf5206f9f74d'),\n",
       " 986: ('ecoinvent 2.2', '5e068d9817a1bd53f75160497d039370'),\n",
       " 987: ('ecoinvent 2.2', '2eda1d074803543597d170ce8d8c6f74'),\n",
       " 988: ('ecoinvent 2.2', '2152afed223076f21b91150a9259fc90'),\n",
       " 989: ('ecoinvent 2.2', 'e4398704925bfc52021a8289f6f350ee'),\n",
       " 990: ('ecoinvent 2.2', 'b1f32f4a6d87a99da0462f737c0f32fd'),\n",
       " 991: ('ecoinvent 2.2', '2db14c979a3b06bdeb0f5cd32bbf9c0c'),\n",
       " 992: ('ecoinvent 2.2', '24b8aa1c273c7333389e084f839a8b49'),\n",
       " 993: ('ecoinvent 2.2', '6dab9e2b2a658ed9894834c91f014f3c'),\n",
       " 994: ('ecoinvent 2.2', '24d4152be3d2bf30f98132ad2cae29b4'),\n",
       " 995: ('ecoinvent 2.2', '56242f868166e60d68999befcd23f7d3'),\n",
       " 996: ('ecoinvent 2.2', '59a86d54a53f07c275ca532d628e443b'),\n",
       " 997: ('ecoinvent 2.2', 'b504230662510e574b3a3254d581ea59'),\n",
       " 998: ('ecoinvent 2.2', 'd2e95e31c979d57139a831ea2b254080'),\n",
       " 999: ('ecoinvent 2.2', '0ab6bb18a47f25dc257ee056c32c558a'),\n",
       " ...}"
      ]
     },
     "execution_count": 183,
     "metadata": {},
     "output_type": "execute_result"
    }
   ],
   "source": [
    "myFirstLCA_rev_activity_dict = {value:key for key, value in myFirstLCA.activity_dict.items()}\n",
    "myFirstLCA_rev_activity_dict"
   ]
  },
  {
   "cell_type": "markdown",
   "metadata": {},
   "source": [
    "As a convenience, Brightway offers a method that will generate the three reverse dictionaries simultaneously.  \n",
    "`.reverse_dict()` returns three reverse dicts (reverse activity dict,  reverse product dict,  reverse biosphere dict) *in that order*. The syntax for creating and assigning these reverse dicts is therefore: "
   ]
  },
  {
   "cell_type": "code",
   "execution_count": 184,
   "metadata": {
    "collapsed": true
   },
   "outputs": [],
   "source": [
    "myFirstLCA_rev_act_dict, myFirstLCA_rev_product_dict, myFirstLCA_rev_bio_dict = myFirstLCA.reverse_dict()"
   ]
  },
  {
   "cell_type": "markdown",
   "metadata": {},
   "source": [
    "#### $A$ and $B$ Matrices"
   ]
  },
  {
   "cell_type": "markdown",
   "metadata": {},
   "source": [
    "We can also access the matrices that were constructed. Let's look at the technosphere matrix ($A$).  \n",
    "The ** $A$ matrix**, with each element $a_{ij}$ provides information on the amount of input or output of product $i$ from activity $j$. When $i=j$, the element $a_{ij}$ is the *reference flow* for the activity described in the column."
   ]
  },
  {
   "cell_type": "code",
   "execution_count": 185,
   "metadata": {
    "collapsed": false
   },
   "outputs": [
    {
     "data": {
      "text/plain": [
       "<4087x4087 sparse matrix of type '<class 'numpy.float64'>'\n",
       "\twith 43045 stored elements in Compressed Sparse Row format>"
      ]
     },
     "execution_count": 185,
     "metadata": {},
     "output_type": "execute_result"
    }
   ],
   "source": [
    "myFirstLCA.technosphere_matrix"
   ]
  },
  {
   "cell_type": "markdown",
   "metadata": {},
   "source": [
    "I am told that the dimensions of the matrix is $n*n$ where $n$ is the number of activities in my product system, and that the amount of actually stored elements is much less than $n^2$ (because the matrix is *sparse* and zero values are not stored).  "
   ]
  },
  {
   "cell_type": "markdown",
   "metadata": {},
   "source": [
    "We can have an idea of what it stores by printing it out:"
   ]
  },
  {
   "cell_type": "code",
   "execution_count": 186,
   "metadata": {
    "collapsed": false
   },
   "outputs": [
    {
     "name": "stdout",
     "output_type": "stream",
     "text": [
      "  (0, 0)\t1.0\n",
      "  (0, 2288)\t-0.629999995232\n",
      "  (0, 2322)\t-1300.0\n",
      "  (0, 2480)\t-6.79479980469\n",
      "  (0, 2883)\t-281.359985352\n",
      "  (1, 1)\t1.0\n",
      "  (2, 2)\t1.0\n",
      "  (2, 1038)\t-3.78999999787e-12\n",
      "  (3, 3)\t1.0\n",
      "  (3, 140)\t-0.00435800012201\n",
      "  (3, 158)\t-0.00435800012201\n",
      "  (3, 190)\t-0.00258040009066\n",
      "  (3, 197)\t-0.0245140008628\n",
      "  (3, 555)\t-0.00435800012201\n",
      "  (3, 639)\t-0.0245140008628\n",
      "  (3, 968)\t-0.00435800012201\n",
      "  (3, 1704)\t-0.00258040009066\n",
      "  (3, 1820)\t-0.00435800012201\n",
      "  (3, 2034)\t-0.00435800012201\n",
      "  (3, 2148)\t-0.00435800012201\n",
      "  (3, 2241)\t-0.0245140008628\n",
      "  (3, 2696)\t-0.0245140008628\n",
      "  (3, 3116)\t-0.0245140008628\n",
      "  (3, 3181)\t-0.0245140008628\n",
      "  (3, 3260)\t-0.00435800012201\n",
      "  :\t:\n",
      "  (4080, 899)\t-4.26569997103e-08\n",
      "  (4080, 1342)\t-1.26049997107e-08\n",
      "  (4080, 3080)\t-1.89070004097e-09\n",
      "  (4080, 3283)\t-2.40889992398e-08\n",
      "  (4080, 4080)\t1.0\n",
      "  (4081, 2488)\t-1.13639998436\n",
      "  (4081, 4081)\t1.0\n",
      "  (4082, 4082)\t1.0\n",
      "  (4083, 9)\t-0.00447000004351\n",
      "  (4083, 902)\t-0.00499999988824\n",
      "  (4083, 1078)\t-0.00499999988824\n",
      "  (4083, 2305)\t-0.0219999998808\n",
      "  (4083, 2804)\t-2.0529999733\n",
      "  (4083, 3477)\t-0.00499999988824\n",
      "  (4083, 4083)\t1.0\n",
      "  (4084, 3357)\t-8.70100021362\n",
      "  (4084, 4084)\t1.0\n",
      "  (4085, 930)\t-2.6099998951\n",
      "  (4085, 1525)\t-1.0\n",
      "  (4085, 2785)\t-0.41400000453\n",
      "  (4085, 3243)\t-1.70000004768\n",
      "  (4085, 3624)\t-1.0\n",
      "  (4085, 4080)\t-1.0\n",
      "  (4085, 4085)\t1.0\n",
      "  (4086, 4086)\t1.0\n"
     ]
    }
   ],
   "source": [
    "print(myFirstLCA.technosphere_matrix)"
   ]
  },
  {
   "cell_type": "markdown",
   "metadata": {},
   "source": [
    "It therefore stores both the coordinates and the values (as expected).\n",
    "We can slice this matrix using coordinates. For example, let's say we wanted a view of the exchanges associated with the unit process providing our functional unit.  \n",
    "We already know found the column number for that activity: "
   ]
  },
  {
   "cell_type": "code",
   "execution_count": 187,
   "metadata": {
    "collapsed": false
   },
   "outputs": [
    {
     "name": "stdout",
     "output_type": "stream",
     "text": [
      "As a reminder, the column index for  ('ecoinvent 2.2', '873af1f1d0c9d644bcbb2849866f82ed') is  2995\n"
     ]
    }
   ],
   "source": [
    "print(\"As a reminder, the column index for  {} is  {}\".format(act_key, col_index))"
   ]
  },
  {
   "cell_type": "markdown",
   "metadata": {},
   "source": [
    "To return the whole column from the $A$ matrix, we therefore slice the $A$ matrix.  \n",
    "Python notes:  \n",
    "  - In Python, slicing is done using []\n",
    "  - We specify rows first, then columns  \n",
    "  - `:` refers to \"the whole row\" or \"the whole column\" (depending if it is passed first or second in the []) "
   ]
  },
  {
   "cell_type": "code",
   "execution_count": 188,
   "metadata": {
    "collapsed": false
   },
   "outputs": [
    {
     "data": {
      "text/plain": [
       "<4087x1 sparse matrix of type '<class 'numpy.float64'>'\n",
       "\twith 8 stored elements in Compressed Sparse Row format>"
      ]
     },
     "execution_count": 188,
     "metadata": {},
     "output_type": "execute_result"
    }
   ],
   "source": [
    "myColumn = myFirstLCA.technosphere_matrix[:, col_index]\n",
    "myColumn"
   ]
  },
  {
   "cell_type": "markdown",
   "metadata": {},
   "source": [
    "Printing this out gives:"
   ]
  },
  {
   "cell_type": "code",
   "execution_count": 189,
   "metadata": {
    "collapsed": false
   },
   "outputs": [
    {
     "name": "stdout",
     "output_type": "stream",
     "text": [
      "  (380, 0)\t-0.971660017967\n",
      "  (896, 0)\t-0.959510028362\n",
      "  (1145, 0)\t-4.00000005341e-10\n",
      "  (1327, 0)\t-0.00724999979138\n",
      "  (2871, 0)\t-0.15992000699\n",
      "  (2995, 0)\t1.0\n",
      "  (3048, 0)\t-0.627529978752\n",
      "  (3216, 0)\t-8.84000015259\n"
     ]
    }
   ],
   "source": [
    "print(myColumn)"
   ]
  },
  {
   "cell_type": "markdown",
   "metadata": {},
   "source": [
    "Not too useful: it would be better to get the *names* to these exchanges.  \n",
    "We need to do two things:  \n",
    "  - Get the indices from the CSR matrix (we can do this by converting it to a sparse matrix in `COOrdinate` format first)  \n",
    "  - Get the activity code for the each index (we can do this using the reverse of the `activity_dict`)  \n",
    "  - Use `get_activity` to access the actual names of the activities.  "
   ]
  },
  {
   "cell_type": "markdown",
   "metadata": {},
   "source": [
    "1) Converting the CSR matrix to a COO matrix:  "
   ]
  },
  {
   "cell_type": "code",
   "execution_count": 190,
   "metadata": {
    "collapsed": false
   },
   "outputs": [
    {
     "data": {
      "text/plain": [
       "<4087x1 sparse matrix of type '<class 'numpy.float64'>'\n",
       "\twith 8 stored elements in COOrdinate format>"
      ]
     },
     "execution_count": 190,
     "metadata": {},
     "output_type": "execute_result"
    }
   ],
   "source": [
    "myColumnCOO = myColumn.tocoo()\n",
    "myColumnCOO"
   ]
  },
  {
   "cell_type": "markdown",
   "metadata": {},
   "source": [
    "It is still a sparse matrix with the same number of elements, and it looks quite like the CSR version when we print it out:"
   ]
  },
  {
   "cell_type": "code",
   "execution_count": 191,
   "metadata": {
    "collapsed": false
   },
   "outputs": [
    {
     "name": "stdout",
     "output_type": "stream",
     "text": [
      "  (380, 0)\t-0.971660017967\n",
      "  (896, 0)\t-0.959510028362\n",
      "  (1145, 0)\t-4.00000005341e-10\n",
      "  (1327, 0)\t-0.00724999979138\n",
      "  (2871, 0)\t-0.15992000699\n",
      "  (2995, 0)\t1.0\n",
      "  (3048, 0)\t-0.627529978752\n",
      "  (3216, 0)\t-8.84000015259\n"
     ]
    }
   ],
   "source": [
    "print(myColumnCOO)"
   ]
  },
  {
   "cell_type": "markdown",
   "metadata": {},
   "source": [
    "However, we can directly access the rows and column indices using `row` and `col`:  "
   ]
  },
  {
   "cell_type": "code",
   "execution_count": 192,
   "metadata": {
    "collapsed": false
   },
   "outputs": [
    {
     "data": {
      "text/plain": [
       "array([ 380,  896, 1145, 1327, 2871, 2995, 3048, 3216])"
      ]
     },
     "execution_count": 192,
     "metadata": {},
     "output_type": "execute_result"
    }
   ],
   "source": [
    "myColumnCOO.row"
   ]
  },
  {
   "cell_type": "markdown",
   "metadata": {},
   "source": [
    "2) Get the activity code for each element using the **reverse** product dictionary we produced above:"
   ]
  },
  {
   "cell_type": "code",
   "execution_count": 193,
   "metadata": {
    "collapsed": false
   },
   "outputs": [
    {
     "data": {
      "text/plain": [
       "[('ecoinvent 2.2', '6c6e85044c0394b6a4a031e7050a2654'),\n",
       " ('ecoinvent 2.2', 'e9d7589a63d88011bec2c7797d02b9bf'),\n",
       " ('ecoinvent 2.2', '62454cb171e06deeb072c29c1926e179'),\n",
       " ('ecoinvent 2.2', '6946710e882c5eb727b6634d1164eb3b'),\n",
       " ('ecoinvent 2.2', 'fa22f0280be99958c34770e5ee1eda30'),\n",
       " ('ecoinvent 2.2', '873af1f1d0c9d644bcbb2849866f82ed'),\n",
       " ('ecoinvent 2.2', '453d53c912182233bebb8973c816321a'),\n",
       " ('ecoinvent 2.2', 'b3a8c1e3097459ea7cbbf77fc9842321')]"
      ]
     },
     "execution_count": 193,
     "metadata": {},
     "output_type": "execute_result"
    }
   ],
   "source": [
    "# Using a list comprehension:\n",
    "[myFirstLCA_rev_product_dict[i] for i in myColumnCOO.row]"
   ]
  },
  {
   "cell_type": "markdown",
   "metadata": {},
   "source": [
    "It would be even nicer to get the names for these:"
   ]
  },
  {
   "cell_type": "code",
   "execution_count": 195,
   "metadata": {
    "collapsed": false
   },
   "outputs": [
    {
     "data": {
      "text/plain": [
       "['methanol, at plant',\n",
       " 'transport, freight, rail',\n",
       " 'chemical plant, organics',\n",
       " 'electricity, medium voltage, production UCTE, at grid',\n",
       " 'transport, lorry >16t, fleet average',\n",
       " 'trimethyl borate, at plant',\n",
       " 'boric acid, anhydrous, powder, at plant',\n",
       " 'heat, natural gas, at industrial furnace >100kW']"
      ]
     },
     "execution_count": 195,
     "metadata": {},
     "output_type": "execute_result"
    }
   ],
   "source": [
    "names_of_my_inputs = [bw.get_activity(myFirstLCA_rev_product_dict[i])['name'] for i in myColumnCOO.row]\n",
    "names_of_my_inputs"
   ]
  },
  {
   "cell_type": "markdown",
   "metadata": {},
   "source": [
    "We can put these in a neat Pandas Series, with actual names and amounts:"
   ]
  },
  {
   "cell_type": "code",
   "execution_count": 196,
   "metadata": {
    "collapsed": false
   },
   "outputs": [
    {
     "data": {
      "text/plain": [
       "boric acid, anhydrous, powder, at plant                 -6.275300e-01\n",
       "chemical plant, organics                                -4.000000e-10\n",
       "electricity, medium voltage, production UCTE, at grid   -7.250000e-03\n",
       "heat, natural gas, at industrial furnace >100kW         -8.840000e+00\n",
       "methanol, at plant                                      -9.716600e-01\n",
       "transport, freight, rail                                -9.595100e-01\n",
       "transport, lorry >16t, fleet average                    -1.599200e-01\n",
       "trimethyl borate, at plant                               1.000000e+00\n",
       "Name: Nice series with information on exchanges in my foreground process, dtype: float64"
      ]
     },
     "execution_count": 196,
     "metadata": {},
     "output_type": "execute_result"
    }
   ],
   "source": [
    "# First create a dict with the information I want:\n",
    "myColumnAsDict = dict(zip(names_of_my_inputs,myColumnCOO.data))\n",
    "# Create Pandas Series from dict\n",
    "pd.Series(myColumnAsDict, name=\"Nice series with information on exchanges in my foreground process\")"
   ]
  },
  {
   "cell_type": "markdown",
   "metadata": {
    "solution": "hidden",
    "solution_first": true
   },
   "source": [
    "Alternative way to generate similar information without even looking at the matrices:"
   ]
  },
  {
   "cell_type": "code",
   "execution_count": 198,
   "metadata": {
    "collapsed": false,
    "solution": "hidden"
   },
   "outputs": [
    {
     "data": {
      "text/plain": [
       "boric acid, anhydrous, powder, at plant                  6.275300e-01\n",
       "chemical plant, organics                                 4.000000e-10\n",
       "electricity, medium voltage, production UCTE, at grid    7.250000e-03\n",
       "heat, natural gas, at industrial furnace >100kW          8.840000e+00\n",
       "methanol, at plant                                       9.716600e-01\n",
       "transport, freight, rail                                 9.595100e-01\n",
       "transport, lorry >16t, fleet average                     1.599200e-01\n",
       "Name: alternative way to generate exchanges, dtype: float64"
      ]
     },
     "execution_count": 198,
     "metadata": {},
     "output_type": "execute_result"
    }
   ],
   "source": [
    "pd.Series({bw.get_activity(exc.input)['name']:exc.amount for exc in random_act.technosphere()}, \n",
    "          name=\"alternative way to generate exchanges\")"
   ]
  },
  {
   "cell_type": "markdown",
   "metadata": {
    "solution": "hidden"
   },
   "source": [
    "Note the differences:  \n",
    "  - The reference flow is not there (activity.technosphere() only returns technoshere exchanges where the input is not equal to the output)  \n",
    "  - The values are positive, not negative (because the $A$ matrix is $I-Z$ where $Z$ contains the information on these inputs."
   ]
  },
  {
   "cell_type": "markdown",
   "metadata": {
    "solution2": "hidden",
    "solution2_first": true
   },
   "source": [
    "**Exercise**: Create a Pandas Series with the elementary flows of the activity supplying the reference flow for myFirstLCA."
   ]
  },
  {
   "cell_type": "code",
   "execution_count": 207,
   "metadata": {
    "collapsed": false,
    "solution2": "hidden"
   },
   "outputs": [
    {
     "data": {
      "text/plain": [
       "BOD5, Biological Oxygen Demand                0.006710\n",
       "Boron                                         0.005344\n",
       "COD, Chemical Oxygen Demand                   0.006710\n",
       "Carbon dioxide, fossil                        0.057717\n",
       "DOC, Dissolved Organic Carbon                 0.001750\n",
       "Heat, waste                                   0.026100\n",
       "Methanol                                      0.004664\n",
       "TOC, Total Organic Carbon                     0.001750\n",
       "Water, cooling, unspecified natural origin    0.024000\n",
       "dtype: float64"
      ]
     },
     "execution_count": 207,
     "metadata": {},
     "output_type": "execute_result"
    }
   ],
   "source": [
    "# Solution\n",
    "myBioColumn = myFirstLCA.biosphere_matrix[:, col_index]\n",
    "myBioValues = myBioColumn.tocoo().data\n",
    "myBioNames = [bw.get_activity(myFirstLCA_rev_bio_dict[row])['name'] for row in myBioColumn.tocoo().row]\n",
    "pd.Series(dict(zip(myBioNames, myBioValues)))"
   ]
  },
  {
   "cell_type": "markdown",
   "metadata": {},
   "source": [
    "#### Demand array $f$"
   ]
  },
  {
   "cell_type": "markdown",
   "metadata": {
    "deletable": true,
    "editable": true
   },
   "source": [
    "The demand array is the $f$ in $As=f$. \n",
    "It is an attribute of the LCA object:"
   ]
  },
  {
   "cell_type": "code",
   "execution_count": 208,
   "metadata": {
    "collapsed": false
   },
   "outputs": [
    {
     "data": {
      "text/plain": [
       "array([ 0.,  0.,  0., ...,  0.,  0.,  0.])"
      ]
     },
     "execution_count": 208,
     "metadata": {},
     "output_type": "execute_result"
    }
   ],
   "source": [
    "myFirstLCA.demand_array"
   ]
  },
  {
   "cell_type": "markdown",
   "metadata": {},
   "source": [
    "Looks like it is all zeros, but not so:"
   ]
  },
  {
   "cell_type": "code",
   "execution_count": 209,
   "metadata": {
    "collapsed": false
   },
   "outputs": [
    {
     "data": {
      "text/plain": [
       "1.0"
      ]
     },
     "execution_count": 209,
     "metadata": {},
     "output_type": "execute_result"
    }
   ],
   "source": [
    "myFirstLCA.demand_array.sum()"
   ]
  },
  {
   "cell_type": "markdown",
   "metadata": {},
   "source": [
    "So where is the one? We can know this by using our `activity_dict`."
   ]
  },
  {
   "cell_type": "code",
   "execution_count": 210,
   "metadata": {
    "collapsed": false
   },
   "outputs": [
    {
     "data": {
      "text/plain": [
       "('ecoinvent 2.2', '873af1f1d0c9d644bcbb2849866f82ed')"
      ]
     },
     "execution_count": 210,
     "metadata": {},
     "output_type": "execute_result"
    }
   ],
   "source": [
    "demand_database = list(myFirstLCA.demand.keys())[0]['database']\n",
    "demand_code = list(myFirstLCA.demand.keys())[0]['code']\n",
    "(demand_database, demand_code)"
   ]
  },
  {
   "cell_type": "code",
   "execution_count": 211,
   "metadata": {
    "collapsed": false
   },
   "outputs": [
    {
     "data": {
      "text/plain": [
       "2995"
      ]
     },
     "execution_count": 211,
     "metadata": {},
     "output_type": "execute_result"
    }
   ],
   "source": [
    "row_of_demand = myFirstLCA.activity_dict[(demand_database, demand_code)]\n",
    "row_of_demand # Row number of our demand vector containing the functional unit."
   ]
  },
  {
   "cell_type": "code",
   "execution_count": 212,
   "metadata": {
    "collapsed": false
   },
   "outputs": [
    {
     "data": {
      "text/plain": [
       "1.0"
      ]
     },
     "execution_count": 212,
     "metadata": {},
     "output_type": "execute_result"
    }
   ],
   "source": [
    "myFirstLCA.demand_array[row_of_demand]"
   ]
  },
  {
   "cell_type": "markdown",
   "metadata": {},
   "source": [
    "### 2.5) Solution to the inventory calculation"
   ]
  },
  {
   "cell_type": "markdown",
   "metadata": {},
   "source": [
    "We saw above how `.lci()` produced the $A$ and $B$ matrices.  \n",
    "`.lci()` also *solves* the equation $As=f$ and calculated the inventory by multiplying the solution to this equation by the biosphere matrix.  "
   ]
  },
  {
   "cell_type": "markdown",
   "metadata": {},
   "source": [
    "#### Supply array"
   ]
  },
  {
   "cell_type": "markdown",
   "metadata": {},
   "source": [
    "Vector containing the amount each activity will need to provide to meet the functional demand, i.e. $s=A^{-1}f$."
   ]
  },
  {
   "cell_type": "code",
   "execution_count": 213,
   "metadata": {
    "collapsed": false,
    "deletable": true,
    "editable": true
   },
   "outputs": [
    {
     "data": {
      "text/plain": [
       "array([  1.78015663e-03,   0.00000000e+00,   4.12823860e-13, ...,\n",
       "         0.00000000e+00,   9.21300857e-11,   0.00000000e+00])"
      ]
     },
     "execution_count": 213,
     "metadata": {},
     "output_type": "execute_result"
    }
   ],
   "source": [
    "myFirstLCA.supply_array"
   ]
  },
  {
   "cell_type": "code",
   "execution_count": 214,
   "metadata": {
    "collapsed": false
   },
   "outputs": [
    {
     "data": {
      "text/plain": [
       "(4087,)"
      ]
     },
     "execution_count": 214,
     "metadata": {},
     "output_type": "execute_result"
    }
   ],
   "source": [
    "myFirstLCA.supply_array.shape"
   ]
  },
  {
   "cell_type": "markdown",
   "metadata": {
    "deletable": true,
    "editable": true
   },
   "source": [
    "**Inventory matrix**  \n",
    "Contains the inventory *by activity* (i.e. not summed). In other words, we do not have $g=BA^{-1}f$, but rather $G=B diag(A^{-1}f)$"
   ]
  },
  {
   "cell_type": "code",
   "execution_count": 215,
   "metadata": {
    "collapsed": false
   },
   "outputs": [
    {
     "data": {
      "text/plain": [
       "<1584x4087 sparse matrix of type '<class 'numpy.float64'>'\n",
       "\twith 50126 stored elements in Compressed Sparse Row format>"
      ]
     },
     "execution_count": 215,
     "metadata": {},
     "output_type": "execute_result"
    }
   ],
   "source": [
    "myFirstLCA.inventory"
   ]
  },
  {
   "cell_type": "markdown",
   "metadata": {},
   "source": [
    "We can aggregate the LCI results along the columns (i.e. calculate the cradle-to-gate inventory):"
   ]
  },
  {
   "cell_type": "code",
   "execution_count": 222,
   "metadata": {
    "collapsed": false
   },
   "outputs": [
    {
     "data": {
      "text/plain": [
       "(1584, 1)"
      ]
     },
     "execution_count": 222,
     "metadata": {},
     "output_type": "execute_result"
    }
   ],
   "source": [
    "LCI_cradle_to_gate = myFirstLCA.inventory.sum(axis=1)\n",
    "LCI_cradle_to_gate.shape"
   ]
  },
  {
   "cell_type": "markdown",
   "metadata": {
    "solution2": "hidden",
    "solution2_first": true
   },
   "source": [
    "**Exercise:** Get the total (cradle-to-gate) emissions of nitrous oxide emitted to air in the \"urban air\" subcompartment."
   ]
  },
  {
   "cell_type": "code",
   "execution_count": 219,
   "metadata": {
    "collapsed": false,
    "solution2": "hidden"
   },
   "outputs": [
    {
     "data": {
      "text/plain": [
       "('biosphere3', '6dc1b46f-ee89-4495-95c4-b8a637bcd6cb')"
      ]
     },
     "execution_count": 219,
     "metadata": {},
     "output_type": "execute_result"
    }
   ],
   "source": [
    "NOx_act = [act for act in my_bio if 'Dinitrogen monoxide' in act['name']\n",
    "                       and 'urban air close to ground' in str(act['categories'])\n",
    "         ][0]\n",
    "NOx_act.key"
   ]
  },
  {
   "cell_type": "code",
   "execution_count": 220,
   "metadata": {
    "collapsed": false,
    "solution2": "hidden"
   },
   "outputs": [
    {
     "data": {
      "text/plain": [
       "1000"
      ]
     },
     "execution_count": 220,
     "metadata": {},
     "output_type": "execute_result"
    }
   ],
   "source": [
    "NOx_row = myFirstLCA.biosphere_dict[NOx_act]\n",
    "NOx_row"
   ]
  },
  {
   "cell_type": "code",
   "execution_count": 221,
   "metadata": {
    "collapsed": false,
    "solution2": "hidden"
   },
   "outputs": [
    {
     "data": {
      "text/plain": [
       "9.6336092680753789e-06"
      ]
     },
     "execution_count": 221,
     "metadata": {},
     "output_type": "execute_result"
    }
   ],
   "source": [
    "myFirstLCA.inventory[NOx_row, :].sum()"
   ]
  },
  {
   "cell_type": "markdown",
   "metadata": {},
   "source": [
    "### 2.7) LCIA"
   ]
  },
  {
   "cell_type": "markdown",
   "metadata": {},
   "source": [
    "The LCIA calculation is done via the `.lcia()` method."
   ]
  },
  {
   "cell_type": "code",
   "execution_count": 223,
   "metadata": {
    "collapsed": true,
    "deletable": true,
    "editable": true
   },
   "outputs": [],
   "source": [
    "myFirstLCA.lcia()"
   ]
  },
  {
   "cell_type": "markdown",
   "metadata": {
    "deletable": true,
    "editable": true
   },
   "source": [
    "A number of other matrices are now available:"
   ]
  },
  {
   "cell_type": "code",
   "execution_count": 266,
   "metadata": {
    "collapsed": false,
    "deletable": true,
    "editable": true
   },
   "outputs": [
    {
     "data": {
      "text/plain": [
       "<1584x1584 sparse matrix of type '<class 'numpy.float64'>'\n",
       "\twith 67 stored elements in Compressed Sparse Row format>"
      ]
     },
     "execution_count": 266,
     "metadata": {},
     "output_type": "execute_result"
    }
   ],
   "source": [
    "# Matrix of characterization factors:\n",
    "myFirstLCA.characterization_matrix"
   ]
  },
  {
   "cell_type": "code",
   "execution_count": 225,
   "metadata": {
    "collapsed": false,
    "deletable": true,
    "editable": true
   },
   "outputs": [
    {
     "data": {
      "text/plain": [
       "(1584, 1584)"
      ]
     },
     "execution_count": 225,
     "metadata": {},
     "output_type": "execute_result"
    }
   ],
   "source": [
    "myFirstLCA.characterization_matrix.shape"
   ]
  },
  {
   "cell_type": "code",
   "execution_count": 267,
   "metadata": {
    "collapsed": false,
    "deletable": true,
    "editable": true
   },
   "outputs": [
    {
     "data": {
      "text/plain": [
       "<1584x4087 sparse matrix of type '<class 'numpy.float64'>'\n",
       "\twith 2854 stored elements in Compressed Sparse Row format>"
      ]
     },
     "execution_count": 267,
     "metadata": {},
     "output_type": "execute_result"
    }
   ],
   "source": [
    "# Matrix of characterized inventory flows\n",
    "myFirstLCA.characterized_inventory"
   ]
  },
  {
   "cell_type": "markdown",
   "metadata": {
    "deletable": true,
    "editable": true
   },
   "source": [
    "The overall score is now an attribute of the LCA object: "
   ]
  },
  {
   "cell_type": "code",
   "execution_count": 227,
   "metadata": {
    "collapsed": false,
    "deletable": true,
    "editable": true
   },
   "outputs": [
    {
     "data": {
      "text/plain": [
       "2.0080249967134645"
      ]
     },
     "execution_count": 227,
     "metadata": {},
     "output_type": "execute_result"
    }
   ],
   "source": [
    "myFirstLCA.score"
   ]
  },
  {
   "cell_type": "markdown",
   "metadata": {},
   "source": [
    "We also could have determined what this score was by summing the elements of our `characterized_inventory` matrix:"
   ]
  },
  {
   "cell_type": "code",
   "execution_count": 228,
   "metadata": {
    "collapsed": false
   },
   "outputs": [
    {
     "data": {
      "text/plain": [
       "2.0080249967134645"
      ]
     },
     "execution_count": 228,
     "metadata": {},
     "output_type": "execute_result"
    }
   ],
   "source": [
    "myFirstLCA.characterized_inventory.sum()"
   ]
  },
  {
   "cell_type": "markdown",
   "metadata": {},
   "source": [
    "We could also have calculated it by multiplying the inventory and characterization factors ourselves:"
   ]
  },
  {
   "cell_type": "code",
   "execution_count": 270,
   "metadata": {
    "collapsed": false
   },
   "outputs": [
    {
     "data": {
      "text/plain": [
       "2.0080249967134645"
      ]
     },
     "execution_count": 270,
     "metadata": {},
     "output_type": "execute_result"
    }
   ],
   "source": [
    "(myFirstLCA.characterization_matrix * myFirstLCA.inventory).sum()"
   ]
  },
  {
   "cell_type": "markdown",
   "metadata": {},
   "source": [
    "We could also calculate the score by elementary flow (summing columns for each rows), irrespective of the unit process that produced it:"
   ]
  },
  {
   "cell_type": "code",
   "execution_count": 229,
   "metadata": {
    "collapsed": true
   },
   "outputs": [],
   "source": [
    "elementary_flow_contribution = myFirstLCA.characterized_inventory.sum(axis=1) #Axis is the dimension I want to sum over:"
   ]
  },
  {
   "cell_type": "code",
   "execution_count": 230,
   "metadata": {
    "collapsed": false
   },
   "outputs": [
    {
     "data": {
      "text/plain": [
       "(1584, 1)"
      ]
     },
     "execution_count": 230,
     "metadata": {},
     "output_type": "execute_result"
    }
   ],
   "source": [
    "elementary_flow_contribution.shape"
   ]
  },
  {
   "cell_type": "markdown",
   "metadata": {},
   "source": [
    "Notice that is has **two** dimensions. The result is in fact a one-dimensional matrix:"
   ]
  },
  {
   "cell_type": "code",
   "execution_count": 231,
   "metadata": {
    "collapsed": false
   },
   "outputs": [
    {
     "data": {
      "text/plain": [
       "numpy.matrixlib.defmatrix.matrix"
      ]
     },
     "execution_count": 231,
     "metadata": {},
     "output_type": "execute_result"
    }
   ],
   "source": [
    "type(elementary_flow_contribution)"
   ]
  },
  {
   "cell_type": "markdown",
   "metadata": {},
   "source": [
    "To convert it to an array (probably more useful for many purposes), you can use any of the following approaches:"
   ]
  },
  {
   "cell_type": "code",
   "execution_count": 232,
   "metadata": {
    "collapsed": false
   },
   "outputs": [
    {
     "data": {
      "text/plain": [
       "array([ 0.,  0.,  0., ...,  0.,  0.,  0.])"
      ]
     },
     "execution_count": 232,
     "metadata": {},
     "output_type": "execute_result"
    }
   ],
   "source": [
    "elementary_flow_contribution.A1 \n",
    "#np.squeeze(np.asarray(elementary_flow_contribution))\n",
    "#np.asarray(elementary_flow_contribution).reshape(-1)\n",
    "#np.array(elementary_flow_contribution).flatten()\n",
    "#np.array(elementary_flow_contribution).ravel()"
   ]
  },
  {
   "cell_type": "markdown",
   "metadata": {
    "solution2": "hidden",
    "solution2_first": true
   },
   "source": [
    "**Exercise:** Create a Pandas series that has the scores per unit process, sorted by value (contribution analysis)"
   ]
  },
  {
   "cell_type": "markdown",
   "metadata": {},
   "source": [
    "## 3) My second LCA: Comparative LCA"
   ]
  },
  {
   "cell_type": "markdown",
   "metadata": {},
   "source": [
    "Let's choose two activities to compare, say Swiss electricity produced from respectively a run-of-river hydropower plant and a wind turbine."
   ]
  },
  {
   "cell_type": "markdown",
   "metadata": {
    "solution2": "hidden",
    "solution2_first": true
   },
   "source": [
    "**Exercise**: assign the two activities to variables `hydro` and `wind` respectively."
   ]
  },
  {
   "cell_type": "code",
   "execution_count": 284,
   "metadata": {
    "collapsed": false,
    "solution2": "hidden"
   },
   "outputs": [
    {
     "data": {
      "text/plain": [
       "['electricity, at wind power plant' (kilowatt hour, CH, ['wind power', 'power plants']),\n",
       " 'electricity, at wind power plant Simplon 30kW' (kilowatt hour, CH, ['wind power', 'power plants']),\n",
       " 'electricity, at wind power plant Grenchenberg 150kW' (kilowatt hour, CH, ['wind power', 'power plants']),\n",
       " 'electricity, at wind power plant 800kW' (kilowatt hour, CH, ['wind power', 'power plants']),\n",
       " 'electricity, at wind power plant 600kW' (kilowatt hour, CH, ['wind power', 'power plants'])]"
      ]
     },
     "execution_count": 284,
     "metadata": {},
     "output_type": "execute_result"
    }
   ],
   "source": [
    "[act for act in eidb if \"wind\" in act['name'] and \"electricity\" in act['name'] and \"CH\" in act['location']]"
   ]
  },
  {
   "cell_type": "code",
   "execution_count": 285,
   "metadata": {
    "collapsed": false,
    "solution2": "hidden"
   },
   "outputs": [
    {
     "data": {
      "text/plain": [
       "'electricity, at wind power plant' (kilowatt hour, CH, ['wind power', 'power plants'])"
      ]
     },
     "execution_count": 285,
     "metadata": {},
     "output_type": "execute_result"
    }
   ],
   "source": [
    "wind = [act for act in eidb if \"wind\" in act['name'] and \"electricity\" in act['name']][0]\n",
    "wind"
   ]
  },
  {
   "cell_type": "code",
   "execution_count": 287,
   "metadata": {
    "collapsed": false,
    "solution2": "hidden"
   },
   "outputs": [
    {
     "data": {
      "text/plain": [
       "['electricity, hydropower, at run-of-river power plant' (kilowatt hour, CH, ['hydro power', 'power plants']),\n",
       " 'run-of-river hydropower plant' (unit, CH, ['hydro power', 'production of components'])]"
      ]
     },
     "execution_count": 287,
     "metadata": {},
     "output_type": "execute_result"
    }
   ],
   "source": [
    "[act for act in eidb if \"hydro\" in act['name'] and \"river\" in act['name'] and \"CH\" in act['location']]"
   ]
  },
  {
   "cell_type": "code",
   "execution_count": 295,
   "metadata": {
    "collapsed": false,
    "solution2": "hidden"
   },
   "outputs": [
    {
     "data": {
      "text/plain": [
       "'electricity, hydropower, at run-of-river power plant' (kilowatt hour, CH, ['hydro power', 'power plants'])"
      ]
     },
     "execution_count": 295,
     "metadata": {},
     "output_type": "execute_result"
    }
   ],
   "source": [
    "hydro = [act for act in eidb if \"hydro\" in act['name'] \n",
    "                     and \"river\" in act['name'] \n",
    "                     and \"CH\" in act['location']\n",
    "                     and \"components\" not in act['categories']\n",
    "                     ][0]\n",
    "hydro"
   ]
  },
  {
   "cell_type": "markdown",
   "metadata": {},
   "source": [
    "Let's also compare these according to their carbon footprint as measured with the IPCC method we already selected above:"
   ]
  },
  {
   "cell_type": "code",
   "execution_count": 296,
   "metadata": {
    "collapsed": false
   },
   "outputs": [
    {
     "data": {
      "text/plain": [
       "Brightway2 Method: IPCC 2013: climate change: GWP 100a"
      ]
     },
     "execution_count": 296,
     "metadata": {},
     "output_type": "execute_result"
    }
   ],
   "source": [
    "ipcc_2013_method"
   ]
  },
  {
   "cell_type": "markdown",
   "metadata": {},
   "source": [
    "#### One at a time approach:"
   ]
  },
  {
   "cell_type": "code",
   "execution_count": 299,
   "metadata": {
    "collapsed": false
   },
   "outputs": [
    {
     "data": {
      "text/plain": [
       "0.0036018318313357526"
      ]
     },
     "execution_count": 299,
     "metadata": {},
     "output_type": "execute_result"
    }
   ],
   "source": [
    "hydroLCA = bw.LCA({hydro:1}, ipcc_2013_method.name)\n",
    "hydroLCA.lci()\n",
    "hydroLCA.lcia()\n",
    "hydroLCA.score"
   ]
  },
  {
   "cell_type": "markdown",
   "metadata": {
    "solution2": "hidden",
    "solution2_first": true
   },
   "source": [
    "**Exercise:** Do the LCA for `wind`:"
   ]
  },
  {
   "cell_type": "code",
   "execution_count": 301,
   "metadata": {
    "collapsed": false,
    "solution2": "hidden"
   },
   "outputs": [
    {
     "data": {
      "text/plain": [
       "0.017826933504763415"
      ]
     },
     "execution_count": 301,
     "metadata": {},
     "output_type": "execute_result"
    }
   ],
   "source": [
    "windLCA = bw.LCA({wind:1}, ipcc_2013_method.name)\n",
    "windLCA.lci()\n",
    "windLCA.lcia()\n",
    "windLCA.score"
   ]
  },
  {
   "cell_type": "code",
   "execution_count": 307,
   "metadata": {
    "collapsed": false
   },
   "outputs": [
    {
     "name": "stdout",
     "output_type": "stream",
     "text": [
      "Hydro is preferable\n"
     ]
    }
   ],
   "source": [
    "#Compare results:\n",
    "if windLCA.score>hydroLCA.score:\n",
    "    print(\"Hydro is preferable\")\n",
    "elif windLCA.score<hydroLCA.score<0:\n",
    "    print(\"Wind is preferable\")\n",
    "else:\n",
    "    print(\"Both options have the same climate change indicator result\")"
   ]
  },
  {
   "cell_type": "markdown",
   "metadata": {},
   "source": [
    "Do one \"delta\" LCA:"
   ]
  },
  {
   "cell_type": "code",
   "execution_count": 302,
   "metadata": {
    "collapsed": false
   },
   "outputs": [
    {
     "data": {
      "text/plain": [
       "0.014225101673427554"
      ]
     },
     "execution_count": 302,
     "metadata": {},
     "output_type": "execute_result"
    }
   ],
   "source": [
    "deltaLCA = bw.LCA({wind:1, hydro:-1}, ipcc_2013_method.name)\n",
    "deltaLCA.lci()\n",
    "deltaLCA.lcia()\n",
    "deltaLCA.score"
   ]
  },
  {
   "cell_type": "code",
   "execution_count": 306,
   "metadata": {
    "collapsed": false
   },
   "outputs": [
    {
     "name": "stdout",
     "output_type": "stream",
     "text": [
      "Hydro is preferable\n"
     ]
    }
   ],
   "source": [
    "if deltaLCA.score>0:\n",
    "    print(\"Hydro is preferable\")\n",
    "elif deltaLCA.score<0:\n",
    "    print(\"Wind is preferable\")\n",
    "else:\n",
    "    print(\"Both options have the same climate change indicator result\")"
   ]
  },
  {
   "cell_type": "markdown",
   "metadata": {},
   "source": [
    "## 4) My third LCA - Multiple impact categories"
   ]
  },
  {
   "cell_type": "markdown",
   "metadata": {},
   "source": [
    "Say we want to evaluate the indicator results for our randomAct for all ILCD midpoint categories (with long-term emissions)."
   ]
  },
  {
   "cell_type": "code",
   "execution_count": 312,
   "metadata": {
    "collapsed": false
   },
   "outputs": [
    {
     "data": {
      "text/plain": [
       "[('ILCD 1.0.8 2016 midpoint', 'human health', 'non-carcinogenic effects'),\n",
       " ('ILCD 1.0.8 2016 midpoint', 'ecosystem quality', 'ionising radiation'),\n",
       " ('ILCD 1.0.8 2016 midpoint',\n",
       "  'ecosystem quality',\n",
       "  'freshwater eutrophication'),\n",
       " ('ILCD 1.0.8 2016 midpoint', 'resources', 'mineral, fossils and renewables'),\n",
       " ('ILCD 1.0.8 2016 midpoint', 'climate change', 'GWP 100a'),\n",
       " ('ILCD 1.0.8 2016 midpoint', 'resources', 'land use'),\n",
       " ('ILCD 1.0.8 2016 midpoint',\n",
       "  'human health',\n",
       "  'respiratory effects, inorganics'),\n",
       " ('ILCD 1.0.8 2016 midpoint',\n",
       "  'ecosystem quality',\n",
       "  'terrestrial eutrophication'),\n",
       " ('ILCD 1.0.8 2016 midpoint', 'ecosystem quality', 'freshwater ecotoxicity'),\n",
       " ('ILCD 1.0.8 2016 midpoint',\n",
       "  'ecosystem quality',\n",
       "  'freshwater and terrestrial acidification'),\n",
       " ('ILCD 1.0.8 2016 midpoint', 'human health', 'carcinogenic effects'),\n",
       " ('ILCD 1.0.8 2016 midpoint', 'human health', 'ionising radiation'),\n",
       " ('ILCD 1.0.8 2016 midpoint', 'ecosystem quality', 'marine eutrophication'),\n",
       " ('ILCD 1.0.8 2016 midpoint', 'human health', 'ozone layer depletion'),\n",
       " ('ILCD 1.0.8 2016 midpoint', 'human health', 'photochemical ozone creation')]"
      ]
     },
     "execution_count": 312,
     "metadata": {},
     "output_type": "execute_result"
    }
   ],
   "source": [
    "# Make a list of all impact method names (tuples):\n",
    "ILCD = [method for method in bw.methods if \"ILCD\" in str(method) and \"no LT\" not in str(method)]\n",
    "ILCD"
   ]
  },
  {
   "cell_type": "markdown",
   "metadata": {},
   "source": [
    "Simplest way: for loop, using `switch method`"
   ]
  },
  {
   "cell_type": "code",
   "execution_count": 255,
   "metadata": {
    "collapsed": false,
    "solution2": "hidden"
   },
   "outputs": [
    {
     "data": {
      "text/plain": [
       "['steel, converter, chromium steel 18/8, at plant',\n",
       " 'cathode, copper, primary copper production',\n",
       " 'nuclear power plant, pressure water reactor 1000MW',\n",
       " 'acrylonitrile from Sohio process, at plant',\n",
       " 'inverter, 500W, at plant',\n",
       " 'perlite, at mine',\n",
       " 'kraft paper, unbleached, at plant',\n",
       " 'electricity, lignite, at power plant',\n",
       " 'heat, at cogen 50kWe lean burn, allocation exergy',\n",
       " 'glass fibre, at plant',\n",
       " 'separator, lithium-ion battery, at plant',\n",
       " 'vinyl chloride, at plant',\n",
       " 'diesel, at regional storage',\n",
       " 'polyvinylchloride, suspension polymerised, at plant',\n",
       " 'disposal, lignite ash, 0% water, to opencast refill',\n",
       " 'bauxite, at mine',\n",
       " 'transport, lorry 16-32t, EURO5',\n",
       " 'mounting, surface mount technology, Pb-containing solder',\n",
       " 'uranium, enriched 3.8%, at USEC enrichment plant',\n",
       " 'disposal, facilities, chemical production',\n",
       " 'electricity, lignite, at power plant',\n",
       " 'transport, average train',\n",
       " 'natural gas, burned in boiler atm. low-NOx condensing non-modulating <100kW',\n",
       " 'air filter, decentralized unit, 250 m3/h, at plant',\n",
       " 'uranium, enriched 3.8%, at CNNC centrifuge enrichment plant',\n",
       " 'crude oil, at production',\n",
       " 'disposal, used mineral oil, 10% water, to hazardous waste incineration',\n",
       " 'sanitary landfill facility',\n",
       " 'Anode, lithium-ion battery, graphite, at plant',\n",
       " 'fodder loading, by self-loading trailer',\n",
       " 'biogas, from agricultural digestion, not covered, at storage',\n",
       " 'natural gas, burned in boiler condensing modulating >100kW',\n",
       " 'disposal, municipal solid waste, 22.9% water, to municipal incineration',\n",
       " 'disposal, building, door, outer, wood-glass, to final disposal',\n",
       " 'isohexane, at plant',\n",
       " 'naphtha, at regional storage',\n",
       " 'disposal, pollutants from rail ballast, 0% water, to residual material landfill',\n",
       " 'acrylic dispersion, 65% in H2O, at plant',\n",
       " 'disposal, building, concrete gravel, to recycling',\n",
       " 'disposal, vapour barrier, flame-retarded, 4.5% water, to municipal incineration',\n",
       " 'copper product manufacturing, average metal working',\n",
       " 'corn, at farm',\n",
       " 'uranium, enriched 3.8%, at EURODIF enrichment plant',\n",
       " 'facilities precious metal refinery',\n",
       " 'natural gas, high pressure, at consumer',\n",
       " 'electricity, hydropower, at power plant',\n",
       " 'electricity, bagasse, sugarcane, at sugar refinery',\n",
       " 'operation start, cogen unit 160kWe',\n",
       " 'disposal, emulsion paint remains, 0% water, to hazardous waste incineration',\n",
       " 'electricity, low voltage, at grid',\n",
       " 'electricity, medium voltage, production IE, at grid',\n",
       " 'gold, at refinery',\n",
       " 'rye grains IP, at farm',\n",
       " 'husked nuts harvesting, at farm',\n",
       " 'yarn, cotton, at plant',\n",
       " 'heat, at cogen 500kWe lean burn, allocation heat',\n",
       " 'lightweight concrete block, expanded perlite, at plant',\n",
       " 'electricity, low voltage, production CS, at grid',\n",
       " 'water supply network',\n",
       " 'rock wool, at plant',\n",
       " 'natural gas, burned in power plant',\n",
       " 'diethyl ether, at plant',\n",
       " 'disposal, emulsion paint, 0% water, to municipal incineration',\n",
       " 'electricity, hydropower, at run-of-river power plant',\n",
       " 'rutile, 95% titanium dioxide, at plant',\n",
       " 'tube insulation plant',\n",
       " 'hard coal, at mine',\n",
       " 'zinc oxide, at plant',\n",
       " 'printer, laser jet, b/w, at plant',\n",
       " 'heat, at cogen 200kWe diesel SCR, allocation energy',\n",
       " 'polystyrene, expandable, at plant',\n",
       " 'molybdenum concentrate, couple production Cu',\n",
       " 'disposal, lignite ash, 0% water, to opencast refill',\n",
       " 'adipic acid, at plant',\n",
       " 'disposal, hard coal ash from stove, 0% water, to sanitary landfill',\n",
       " 'disposal, wood ash mixture, pure, 0% water, to sanitary landfill',\n",
       " 'electricity, medium voltage, at grid',\n",
       " 'heat, at cogen with ignition biogas engine, agricultural covered, alloc. exergy',\n",
       " 'switch, toggle type, at plant',\n",
       " 'petrol, unleaded, at refinery',\n",
       " 'styrene-acrylonitrile copolymer, SAN, at plant',\n",
       " 'laser machining, metal, with CO2-laser, 4000W power',\n",
       " 'electricity, nuclear, at power plant pressure water reactor',\n",
       " 'electricity, consumer mix',\n",
       " 'disposal, passenger car, diesel EURO5, city car',\n",
       " 'mine, gold',\n",
       " 'heat, at hot water tank, solar+gas, flat plate, multiple dwelling',\n",
       " 'ammonium bicarbonate, at plant',\n",
       " 'disposal, lignite ash, 0% water, to opencast refill',\n",
       " 'electricity, low voltage, production NL, at grid',\n",
       " 'drilling, conventional, aluminium',\n",
       " 'electricity, low voltage, at grid',\n",
       " 'use, computer, laptop, videoconference, certified electricity mix',\n",
       " 'chlorine, gaseous, mercury cell, at plant',\n",
       " 'operation, regional train, SBB mix',\n",
       " 'heat, biogas, allocation exergy, at micro gas turbine 100kWe',\n",
       " 'bentonite, at mine',\n",
       " 'operation, tram track',\n",
       " 'industrial residue wood, GLT production, outdoor use, u=10%, at plant',\n",
       " 'refractory, high aluminium oxide, packed, at plant',\n",
       " 'ethanol, 95% in H2O, from sweet sorghum, at distillery',\n",
       " 'stretch blow moulding',\n",
       " 'transport, natural gas, offshore pipeline, long distance',\n",
       " 'use, network access devices, certified electricity',\n",
       " 'acetone cyanohydrin, at plant',\n",
       " 'operation, passenger car, rape seed methyl ester 5%',\n",
       " 'use, printer, laser jet, b/w, printing per h',\n",
       " 'petrol, unleaded, at refinery',\n",
       " 'sewer grid, class 2',\n",
       " 'electricity, at cogen ORC 1400kWth, wood, emission control, allocation heat',\n",
       " 'disposal, copper, 0% water, to municipal incineration',\n",
       " 'base plaster, at plant',\n",
       " 'facilities, chemical production',\n",
       " 'electricity, hard coal, at power plant',\n",
       " 'transport, aircraft, freight',\n",
       " 'plugs, inlet and outlet, for network cable, at plant',\n",
       " 'electricity, medium voltage, at grid',\n",
       " 'maize seed organic, at farm',\n",
       " 'dried roughage store, cold-air dried, conventional',\n",
       " 'waste paper, mixed, from public collection, for further treatment',\n",
       " 'use, computer, laptop, office use',\n",
       " 'sulphate pulp, TCF bleached, at plant',\n",
       " 'laser machining, metal, with YAG-laser, 30W power',\n",
       " 'pitch despergents, in paper production, at plant',\n",
       " 'solar system, flat plate collector, multiple dwelling, hot water',\n",
       " 'frit, for CRT tube production, at plant',\n",
       " 'port facilities',\n",
       " 'resource correction, PbZn, indium, negative',\n",
       " 'electricity, low voltage, production CH, at grid',\n",
       " 'Mini CHP plant, components for electricity only',\n",
       " 'crude coconut oil, at plant',\n",
       " 'disposal, plastic plaster, 0% water, to inert material landfill',\n",
       " 'metal working factory operation, heat energy from natural gas',\n",
       " 'nylon 66, glass-filled, at plant',\n",
       " 'dimethylamine, at plant',\n",
       " 'heptane, at plant',\n",
       " 'transport, lorry 3.5-20t, fleet average',\n",
       " 'treatment, ceramic production effluent, to wastewater treatment, class 3',\n",
       " 'electricity, lignite, at power plant',\n",
       " 'light fuel oil, burned in industrial furnace 1MW, non-modulating',\n",
       " 'bipyridylium-compounds, at regional storehouse',\n",
       " 'heavy fuel oil, burned in power plant',\n",
       " 'zinc coating, pieces',\n",
       " 'lime, hydrated, loose, at plant',\n",
       " 'fava beans IP, at feed mill',\n",
       " 'lime, hydrated, packed, at plant',\n",
       " 'operation, aircraft, passenger',\n",
       " 'sawn timber, softwood, raw, air dried, u=20%, at plant',\n",
       " 'zinc monosulphate, ZnSO4.H2O, at plant',\n",
       " 'electricity, nuclear, at power plant',\n",
       " 'transport, passenger car, petrol, EURO4',\n",
       " 'CD-ROM/DVD-ROM drive, laptop computer, at plant',\n",
       " 'hard coal, at mine',\n",
       " 'ventilation system, decentralized, 6 x 120 m3/h, steel ducts, with GHE',\n",
       " 'electricity, hydropower, at pumped storage power plant',\n",
       " 'silicon, solar grade, modified Siemens process, at plant',\n",
       " 'zircon, 50% zirconium, at plant',\n",
       " 'disposal, building, bitumen sheet, to final disposal',\n",
       " 'herbicides, at regional storehouse',\n",
       " 'disposal, building, emulsion paint on wood, to final disposal',\n",
       " 'roundwood, eucalyptus ssp. (SFM), under bark, u=50%, at forest road',\n",
       " 'sawn timber, softwood, raw, forest-debarked, u=70%, at plant',\n",
       " 'tied housing system, cattle, operation',\n",
       " 'natural gas, burned in power plant',\n",
       " 'phosphoryl chloride, at plant',\n",
       " 'transport, passenger car, petrol, fleet average 2010',\n",
       " 'use, computer, desktop, mix, office use',\n",
       " 'operation, lorry 7.5-16t, EURO5',\n",
       " 'construction work, cogen unit 160kWe',\n",
       " 'asbestos, crysotile type, at plant',\n",
       " 'operation, freight train',\n",
       " 'disposal, passenger car, electric, LiMn2O4, city car',\n",
       " 'transport, natural gas, pipeline, long distance',\n",
       " 'heat treatment, cold impact extrusion, steel',\n",
       " 'use, computer, laptop, standby/sleep mode',\n",
       " 'electricity mix',\n",
       " 'potassium sulphate, as K2O, at regional storehouse',\n",
       " 'solder, bar, Sn63Pb37, for electronics industry, at plant',\n",
       " 'dismantling, industrial devices, mechanically, at plant',\n",
       " 'natural gas, burned in gas motor, for storage',\n",
       " 'heat, at tube collector, one-family house, for combined system',\n",
       " 'electricity, high voltage, at grid',\n",
       " 'copper, primary, at refinery',\n",
       " 'cotton fibres, at farm',\n",
       " 'disposal, building, concrete gravel, to final disposal',\n",
       " 'ferromanganese, high-coal, 74.5% Mn, at regional storage',\n",
       " 'hardwood, standing, under bark, in forest',\n",
       " 'disposal, waste, Si waferprod., inorg, 9.4% water, to residual material landfill',\n",
       " '3kWp facade installation, multi-Si, laminated, integrated, at building',\n",
       " 'protein peas, organic, at farm',\n",
       " 'pesticide unspecified, at regional storehouse',\n",
       " 'sulphate pulp, ECF bleached, at plant',\n",
       " 'anodising, aluminium sheet',\n",
       " 'mine, gravel/sand',\n",
       " 'Disposal, power adapter, external, for laptop, to WEEE treatment',\n",
       " 'copper, primary, at refinery',\n",
       " 'disposal, paint, 0% water, to sanitary landfill',\n",
       " 'linuron, at regional storehouse',\n",
       " 'polymethyl methacrylate, sheet, at plant',\n",
       " 'disposal, lorry 16t',\n",
       " 'dried roughage store, non ventilated',\n",
       " 'coke oven gas, at plant',\n",
       " 'operation, lorry 20-28t, empty, fleet average',\n",
       " 'aircraft, passenger',\n",
       " 'electricity, hydropower, at power plant',\n",
       " 'production of carton board boxes, offset printing, at plant',\n",
       " 'solder production plant',\n",
       " 'glycerine, from palm oil, at esterification plant',\n",
       " 'selective coating, copper sheet, sputtering',\n",
       " 'concentrated lithium brine (6.7 %  Li), at plant',\n",
       " 'disposal, residues, mechanical treatment, CRT screen, in MSWI',\n",
       " 'copper, from combined metal production, at refinery',\n",
       " 'electricity, production mix photovoltaic, at plant',\n",
       " 'laser machining, metal, with YAG-laser, 500W power',\n",
       " 'electricity, hydropower, at pumped storage power plant',\n",
       " 'compressed air, average installation, <30kW, 10 bar gauge, at supply network',\n",
       " 'assembly, module cogen unit 160kWe',\n",
       " 'oriented strand board, at plant',\n",
       " 'ethoxylated alcohols (AE7), coconut oil, at plant',\n",
       " 'use, computer, desktop with CRT monitor, active mode',\n",
       " 'concrete, exacting, at plant',\n",
       " 'use, computer, desktop with CRT monitor, home use',\n",
       " 'naphtha, at regional storage',\n",
       " 'mounting, through-hole technology, Pb-containing solder',\n",
       " 'lithium, at plant',\n",
       " 'aluminium alloy, AlMg3, at plant',\n",
       " 'disposal, building, reinforced plaster board, to recycling',\n",
       " 'natural gas, burned in gas turbine',\n",
       " 'bitumen sealing, at plant',\n",
       " 'electricity, high voltage, production CENTREL, at grid',\n",
       " 'industrial residue wood, 3-layered LB production, softwood, u=20%, at plant',\n",
       " 'goods wagon',\n",
       " 'bagasse, from sugarcane, at sugar refinery',\n",
       " 'electricity, medium voltage, at grid',\n",
       " 'thermoforming, with calendering',\n",
       " 'irrigating',\n",
       " 'heat, light fuel oil, at boiler 100kW condensing, non-modulating',\n",
       " 'pea seed organic, at regional storehouse',\n",
       " 'green manure organic, until march',\n",
       " 'uranium, enriched 4.0% for pressure water reactor',\n",
       " 'natural gas, burned in power plant',\n",
       " 'glass cullets, mixed glass, for CRT glass production, at plant',\n",
       " 'hard coal supply mix',\n",
       " 'disposal, polystyrene, 0.2% water, to municipal incineration',\n",
       " 'rolling mill',\n",
       " 'electricity, medium voltage, production MK, at grid',\n",
       " 'refinery gas, at refinery',\n",
       " 'operation, freight train',\n",
       " 'electricity, high voltage, production HU, at grid',\n",
       " 'petrol, low-sulphur, at refinery',\n",
       " 'excavation, hydraulic digger',\n",
       " 'acetamide-anillide-compounds, at regional storehouse',\n",
       " 'transport, passenger car, diesel, EURO4',\n",
       " 'sinter, iron, at plant',\n",
       " 'disposal, municipal solid waste, 22.9% water, to sanitary landfill',\n",
       " 'magnesium sulphate, at plant',\n",
       " 'paper, wood-containing, LWC, at regional storage',\n",
       " 'pumice, at mine',\n",
       " 'electricity, production mix SK',\n",
       " 'planning, cogen unit Mini CHP plant',\n",
       " 'isoproturon, at regional storage',\n",
       " 'heat, light fuel oil, at boiler 100kW, non-modulating',\n",
       " 'disposal, uranium tailings, non-radioactive emissions',\n",
       " 'wood chips, from industry, softwood, burned in furnace 50kW',\n",
       " 'disposal, gypsum, 19.4% water, to inert material landfill',\n",
       " 'anode slime, silver and tellurium containing, primary copper production',\n",
       " 'electricity, low voltage, at grid',\n",
       " 'electricity, high voltage, at grid',\n",
       " 'industrial residue wood, LTE production, softwood, u=20%, at plant',\n",
       " 'barge tanker',\n",
       " 'electricity, oil, at power plant',\n",
       " 'fibre cement facing tile, large format, at plant',\n",
       " 'transistor, unspecified, at plant',\n",
       " 'boron trifluoride, at plant',\n",
       " 'electricity, PV, at 3kWp flat roof installation, single-Si',\n",
       " 'aluminium scrap, old, at plant',\n",
       " 'operation, freight train, diesel',\n",
       " 'transport, natural gas, pipeline, long distance',\n",
       " 'videoconference, laptop, participant',\n",
       " 'rye grains organic, at farm',\n",
       " 'operation, passenger car, methane, 96 vol-%, from biogas',\n",
       " 'electricity, hydropower, at pumped storage power plant',\n",
       " 'oil storage 3000l',\n",
       " 'brick, at plant',\n",
       " 'palm kernel meal, at oil mill',\n",
       " 'iron-nickel-chromium alloy, at plant',\n",
       " 'electricity, production mix CZ',\n",
       " 'excavation, skid-steer loader',\n",
       " 'limestone, at mine',\n",
       " 'disposal, lignite ash from stove, 0% water, to municipal incineration',\n",
       " 'intral, at plant',\n",
       " 'pulp plant',\n",
       " 'tin, at regional storage',\n",
       " 'indium, at regional storage',\n",
       " 'scrap preparation plant',\n",
       " 'antimony, at refinery',\n",
       " 'treatment, sewage whey digestion, to wastewater treatment, class 4',\n",
       " 'electricity, hard coal, at power plant',\n",
       " 'electricity, production mix CENTREL',\n",
       " '3-methyl-1-butanol, at plant',\n",
       " 'heat, at system cogen 160kWe Jakobsberg, allocation price',\n",
       " 'acetone from butane, at plant',\n",
       " 'sour gas, burned in gas turbine, production',\n",
       " 'disposal, wood ash mixture, pure, 0% water, to municipal incineration',\n",
       " 'diesel, burned in building machine',\n",
       " 'natural gas, production mix, at service station',\n",
       " 'disposal, filter dust Al electrolysis, 0% water, to residual material landfill',\n",
       " 'electricity, high voltage, production BE, at grid',\n",
       " 'silicone plant',\n",
       " 'logs, hardwood, burned in furnace 30kW',\n",
       " 'phtalamide-compounds, at regional storehouse',\n",
       " 'disposal, hard coal ash, 0% water, to residual material landfill',\n",
       " 'transport, passenger car, electric, LiMn2O4, city car',\n",
       " 'paper, woodfree, uncoated, at non-integrated mill',\n",
       " 'ethanol, 99.7% in H2O, from biomass, production US, at service station',\n",
       " 'natural gas, burned in gas turbine',\n",
       " 'molasses, from sugar beet, at sugar refinery',\n",
       " 'hydrogen, liquid, from chlorine electrolysis, production mix, at plant',\n",
       " 'compost, at plant',\n",
       " 'electricity, hydropower, at pumped storage power plant',\n",
       " 'SOx retained, in lignite flue gas desulphurisation',\n",
       " 'heat exchanger of cogen unit 160kWe',\n",
       " 'sawn timber, hardwood, planed, air / kiln dried, u=10%, at plant',\n",
       " 'formic acid, at plant',\n",
       " 'industrial wood, hardwood, under bark, u=80%, at forest road',\n",
       " 'heat, natural gas, allocation exergy, at SOFC-GT fuel cell 180kWe, future',\n",
       " 'disposal, building, waste wood, chrome preserved, to final disposal',\n",
       " 'grass from natural meadow intensive IP, at field',\n",
       " 'electricity, oil, at power plant',\n",
       " 'grain maize IP, at farm',\n",
       " 'disposal, hard coal ash, 0% water, to residual material landfill',\n",
       " 'electricity, medium voltage, production PT, at grid',\n",
       " 'cable, network cable, category 5, without plugs, at plant',\n",
       " 'lead, from combined metal production, at beneficiation',\n",
       " 'ilmenite, 54% titanium dioxide, at plant',\n",
       " 'electricity, production mix DE',\n",
       " 'electricity, hard coal, at power plant',\n",
       " 'thermal plaster, at plant',\n",
       " 'laser machining, metal, with CO2-laser, 5000W power',\n",
       " 'fraction 8, from naphtha, at plant',\n",
       " 'hardwood, allocation correction, 1',\n",
       " 'treatment, pig iron production effluent, to wastewater treatment, class 3',\n",
       " 'disposal, lignite ash, 0% water, to opencast refill',\n",
       " 'gypsum fibre board, at plant',\n",
       " 'natural gas, burned in power plant',\n",
       " 'sodium persulfate, at plant',\n",
       " 'carbon dioxide liquid, at plant',\n",
       " 'electricity mix',\n",
       " 'use, printer, laser jet, b/w, per kg printed paper',\n",
       " 'disposal, building, vapour barrier, flame-retarded, to final disposal',\n",
       " 'gold, from combined metal production, at beneficiation',\n",
       " 'electricity, high voltage, at grid',\n",
       " 'corrugated board, recycling fibre, single wall, at plant',\n",
       " 'transport, natural gas, onshore pipeline, long distance',\n",
       " 'transport, electric scooter, certified electricity',\n",
       " 'electricity, at wind power plant 800kW',\n",
       " 'methylcyclohexane, from naphtha, at plant',\n",
       " 'evacuated tube collector, at plant',\n",
       " 'diesel, burned in cogen 200kWe diesel SCR',\n",
       " 'vinasse, from sugarcane molasses, at sugar refinery',\n",
       " 'glass sorting site',\n",
       " 'operation, average train, SBB mix',\n",
       " 'electricity, production mix photovoltaic, at plant',\n",
       " 'electricity, nuclear, at power plant',\n",
       " 'ethanol, 95% in H2O, from wood, at distillery',\n",
       " 'potato starch, at plant',\n",
       " 'photovoltaic laminate, CdTe, mix, at regional storage',\n",
       " 'fatty alcohol, from palm oil, at plant',\n",
       " 'resin size, at plant',\n",
       " 'ferronickel, 25% Ni, at plant',\n",
       " 'hard coal supply mix',\n",
       " 'dioxane, at plant',\n",
       " 'oil mill',\n",
       " 'heat, biogas, allocation exergy, at SOFC-GT fuel cell 180kWe, future',\n",
       " 'phtalamide-compounds, at regional storehouse',\n",
       " 'turning, chromium steel, CNC, primarily roughing',\n",
       " 'deformation stroke, hot impact extrusion, steel',\n",
       " 'parathion, at regional storehouse',\n",
       " 'natural gas, production NL, at long-distance pipeline',\n",
       " 'electricity, nuclear, at power plant boiling water reactor',\n",
       " 'methanol, at plant',\n",
       " 'transport, passenger car, electric, LiMn2O4, certified electricity',\n",
       " 'concrete mixing plant',\n",
       " 'window frame, aluminium, U=1.6 W/m2K, at plant',\n",
       " 'wood chips, from forest, mixed, burned in furnace 300kW',\n",
       " 'use, computer, desktop with CRT monitor, active mode',\n",
       " 'polystyrene foam slab, 45% recycled, at plant',\n",
       " 'operation, passenger car, diesel, fleet average',\n",
       " 'heat, at cogen 200kWe lean burn, allocation energy',\n",
       " 'clinker, at plant',\n",
       " 'butyl acrylate, at plant',\n",
       " 'packaging glass, white, at plant',\n",
       " 'connector, PCI bus, at plant',\n",
       " 'potatoes organic, at farm',\n",
       " 'milling, cast iron, average',\n",
       " 'heat, at flat plate collector, one-family house, for hot water',\n",
       " 'metal working machine operation, average process heat',\n",
       " 'disposal, building, PVC sealing sheet, to final disposal',\n",
       " 'transport, electric scooter',\n",
       " 'heat, at cogen 6400kWth, wood, emission control, allocation energy',\n",
       " 'hard coal coke, at plant',\n",
       " 'sulphur hexafluoride, liquid, at plant',\n",
       " 'uranium, enriched 3.9%, at EURODIF enrichment plant',\n",
       " 'diesel, low-sulphur, at regional storage',\n",
       " 'wheat grains, at farm',\n",
       " 'water treatment plant, deionisation',\n",
       " 'disposal, plastic, industr. electronics, 15.3% water, to municipal incineration',\n",
       " 'disposal, spoil from lignite mining, in surface landfill',\n",
       " 'slurry store and processing, operation',\n",
       " 'disposal, air filter, decentralized unit, 180-250 m3/h',\n",
       " 'transport, trolleybus',\n",
       " 'fuel elements PWR, UO2 3.8% & MOX, at nuclear fuel fabrication plant',\n",
       " 'electricity, hydropower, at reservoir power plant',\n",
       " 'naphtha, at refinery',\n",
       " 'petroleum coke, at refinery',\n",
       " 'heat, at module cogen 160kWe Jakobsberg, allocation price',\n",
       " 'electricity, at cogen 1MWe lean burn, allocation exergy',\n",
       " 'ventilation duct, PE corrugated tube, DN 75, at plant',\n",
       " 'molybdenum concentrate, couple production Cu',\n",
       " 'compressed air, best installation, >30kW, 8 bar gauge, at supply network',\n",
       " 'epoxy resin insulator (SiO2), at plant',\n",
       " 'cobwork, at plant',\n",
       " 'metallization paste, front side, at plant',\n",
       " 'electricity, high voltage, production FR, at grid',\n",
       " 'silicon tetrahydride, at plant',\n",
       " 'cadmium, semiconductor-grade, at plant',\n",
       " 'fatty alcohol, petrochemical, at plant',\n",
       " 'heat, at cogen ORC 1400kWth, wood, emission control, allocation heat',\n",
       " 'heat, at system cogen 160kWe Jakobsberg, allocation electricity',\n",
       " 'clover seed IP, at farm',\n",
       " 'metallization paste, back side, aluminium, at plant',\n",
       " 'electricity, production mix photovoltaic, at plant',\n",
       " 'nickel, primary, from platinum group metal production',\n",
       " 'grain maize organic, at feed mill',\n",
       " 'printed wiring board, surface mounted, unspec., Pb containing, at plant',\n",
       " 'retention aids, in paper production, at plant',\n",
       " 'heat, unspecific, in chemical plant',\n",
       " 'heat, mixed logs, at furnace 100kW',\n",
       " 'funnel glass, CRT screen, at plant',\n",
       " 'paper, recycling, no deinking, at plant',\n",
       " 'industrial residue wood, softwood, forest-debarked, u=70%, at plant',\n",
       " 'cotton seed, at regional storehouse',\n",
       " 'radioactive waste, in interim storage conditioning',\n",
       " 'cogen unit ORC 1400kWth, wood burning, building',\n",
       " 'disposal, lorry 40t',\n",
       " 'sodium percarbonate, powder, at plant',\n",
       " 'electricity, lignite, at power plant',\n",
       " 'bagasse, from sweet sorghum, at distillery',\n",
       " 'stirling cogen unit 3kWe, wood pellets, future',\n",
       " 'disposal, glass, 0% water, to municipal incineration',\n",
       " 'electricity, at cogen 1MWe lean burn, allocation exergy',\n",
       " 'heat, at cogen 500kWe lean burn, allocation energy',\n",
       " 'electricity, production mix photovoltaic, at plant',\n",
       " 'resource correction, PbZn, cadmium, positive',\n",
       " 'drying, natural gas',\n",
       " 'resource correction, PbZn, lead, negative',\n",
       " 'maneb, at regional storehouse',\n",
       " 'electricity, medium voltage, at grid',\n",
       " 'wood chips, from forest, softwood, burned in furnace 300kW',\n",
       " 'natural gas, unprocessed, at extraction',\n",
       " 'diesel, at refinery',\n",
       " 'disposal, wood untreated, 20% water, to municipal incineration',\n",
       " 'natural gas, production DE, at long-distance pipeline',\n",
       " 'electricity, high voltage, production SI, at grid',\n",
       " 'potato seed organic, at regional storehouse',\n",
       " 'transport, regional train, SBB mix',\n",
       " 'welding, arc, aluminium',\n",
       " 'roof tile, at plant',\n",
       " 'final repository for nuclear waste LLW',\n",
       " 'molybdenum, at regional storage',\n",
       " 'heat, at cogen 160kWe lambda=1, allocation energy',\n",
       " 'operation, lorry 3.5-16t, fleet average',\n",
       " 'cogen unit 50kWe, components for heat only',\n",
       " 'heat, at cogen 1MWe lean burn, allocation heat',\n",
       " 'concrete roof tile, at plant',\n",
       " 'crude oil, used in drilling tests',\n",
       " 'soybean oil, at oil mill',\n",
       " 'wire drawing, copper',\n",
       " 'hard coal, at regional storage',\n",
       " 'heavy fuel oil, burned in power plant',\n",
       " 'electricity, hard coal, at power plant',\n",
       " 'electricity, hydropower, at power plant',\n",
       " 'use, computer, desktop with CRT monitor, standby/sleep mode',\n",
       " 'AKD sizer, in paper production, at plant',\n",
       " 'kerosene, at refinery',\n",
       " 'MnO2 powder, pyrometallurgical processing Li-ion batteries, at plant',\n",
       " 'heat, at cogen 200kWe lean burn, allocation heat',\n",
       " 'ventilation components factory',\n",
       " 'aluminium, production mix, at plant',\n",
       " 'industrial machine, heavy, unspecified, at plant',\n",
       " 'grass from natural meadow extensive IP, at field',\n",
       " 'molybdenum concentrate, couple production Cu',\n",
       " 'aluminium, secondary, from old scrap, at plant',\n",
       " 'disposal, exhaust air roof hood, steel, DN 400',\n",
       " 'electricity, production mix photovoltaic, at plant',\n",
       " 'beet chips, at fermentation plant',\n",
       " 'operation, freight train',\n",
       " 'recultivation, limestone mine',\n",
       " 'rape meal, at oil mill',\n",
       " 'transport, natural gas, pipeline, long distance',\n",
       " 'turning, chromium steel, CNC, primarily dressing',\n",
       " 'transport, passenger car, natural gas',\n",
       " 'cement cast plaster floor, at plant',\n",
       " 'metal product manufacturing, average metal working',\n",
       " 'Al fraction, mechanical treatment, CRT screen, at plant',\n",
       " 'electricity, natural gas, at power plant',\n",
       " 'agricultural machinery, tillage, production',\n",
       " 'electricity, medium voltage, at grid',\n",
       " 'disposal, lignite ash, 0% water, to opencast refill',\n",
       " 'natural gas, at production offshore',\n",
       " 'EDTA, ethylenediaminetetraacetic acid, at plant',\n",
       " 'electricity, biogas, allocation exergy, at micro gas turbine 100kWe',\n",
       " 'helium, at plant',\n",
       " '2,4-D, at regional storehouse',\n",
       " 'electricity, medium voltage, at grid',\n",
       " 'disposal, hard coal ash, 0% water, to residual material landfill',\n",
       " 'natural gas, burned in power plant',\n",
       " 'naphtha, APME mix, at refinery',\n",
       " 'hexafluorethane, at plant',\n",
       " 'transport, electric bicycle',\n",
       " 'polycarboxylates, 40% active substance, at plant',\n",
       " 'chloroacetic acid, at plant',\n",
       " 'natural gas, at production offshore',\n",
       " 'wheat grains organic, at farm',\n",
       " 'transport, passenger car, methanol',\n",
       " 'maintenance, lorry 40t',\n",
       " 'disposal, hard coal ash, 0% water, to residual material landfill',\n",
       " 'hexamethyldisilazane, at plant',\n",
       " 'crude oil, production RME, at long distance transport',\n",
       " 'locomotive',\n",
       " 'heat, hardwood chips from industry, at furnace 50kW',\n",
       " 'aluminium hydroxide, at plant',\n",
       " 'natural gas, production NO, at long-distance pipeline',\n",
       " 'transport, lorry >32t, EURO3',\n",
       " 'aluminium oxide, plant',\n",
       " 'ethyl acetate from butane, at plant',\n",
       " 'logs, softwood, burned in furnace 30kW',\n",
       " '[thio]carbamate-compounds, at regional storehouse',\n",
       " 'barley grains conventional, Barrois, at farm',\n",
       " 'dichloromethane, at plant',\n",
       " 'explosives, tovex, at plant',\n",
       " 'fluosilicic acid, 22% in H2O, at plant',\n",
       " 'operation, passenger car, diesel, EURO5',\n",
       " 'insulation spiral-seam duct, rockwool, DN 400, 30 mm, at plant',\n",
       " 'epoxy resin, liquid, at plant',\n",
       " 'nylon 66, at plant',\n",
       " 'electricity, natural gas, at power plant',\n",
       " 'logs, mixed, burned in furnace 100kW',\n",
       " 'electricity, nuclear, at power plant boiling water reactor',\n",
       " 'nuclear power plant, pressure water reactor 1000MW',\n",
       " 'disposal, silencer, steel, DN 315, 50 mm',\n",
       " 'electricity, high voltage, production UCTE, at grid',\n",
       " 'barley straw extensive, at farm',\n",
       " 'softwood, stand establishment / tending / site development, under bark',\n",
       " '3kWp slanted-roof installation, a-Si, laminated, integrated, on roof',\n",
       " 'nitro-compounds, at regional storehouse',\n",
       " 'pipeline, natural gas, high pressure distribution network',\n",
       " 'electricity, hydropower, at power plant',\n",
       " 'electricity, high voltage, at grid',\n",
       " 'rye straw conventional, at farm',\n",
       " 'hot impact extrusion, steel, 2 strokes',\n",
       " 'poor concrete, at plant',\n",
       " 'sorting plant for construction waste',\n",
       " 'electronic component machinery, unspecified',\n",
       " 'operation, passenger car, natural gas',\n",
       " 'electricity, high voltage, at grid',\n",
       " 'lignite, burned in power plant',\n",
       " 'heat storage 2000l, at plant',\n",
       " 'electricity, lignite, at power plant',\n",
       " 'blast furnace gas, burned in power plant',\n",
       " 'pendimethalin, at regional storage',\n",
       " 'distribution network, electricity, low voltage',\n",
       " 'crushing, rock',\n",
       " 'LCD module, at plant',\n",
       " 'mancozeb, at regional storage',\n",
       " 'crude oil, at production onshore',\n",
       " 'operation, transoceanic freight ship',\n",
       " 'solar collector glass tube, with silver mirror, at plant',\n",
       " 'steel, electric, chromium steel 18/8, at plant',\n",
       " 'nickel, secondary, from electronic and electric scrap recycling, at refinery',\n",
       " 'water, deionised, at plant',\n",
       " 'electricity, natural gas, at power plant',\n",
       " 'hard coal, at regional storage',\n",
       " 'milling, aluminium, dressing',\n",
       " 'natural gas, high pressure, at consumer',\n",
       " 'operation, coach',\n",
       " 'grass from natural meadow extensive organic, at field',\n",
       " 'water storage',\n",
       " 'anode plant',\n",
       " 'electricity, production mix photovoltaic, at plant',\n",
       " 'electricity, bagasse, sugarcane, at fermentation plant',\n",
       " 'kenaf stalks, from fibre production, at farm',\n",
       " 'van <3.5t',\n",
       " 'electricity, low voltage, production SI, at grid',\n",
       " 'acetone, liquid, at plant',\n",
       " 'tempering, flat glass',\n",
       " 'deep drawing, steel, 38000 kN press, single stroke operation',\n",
       " 'electricity, medium voltage, at grid',\n",
       " 'milking',\n",
       " 'electricity, hydropower, at pumped storage power plant',\n",
       " 'disposal, dust, unalloyed EAF steel, 15.4% water, to residual material landfill',\n",
       " 'heat, at cogen ORC 1400kWth, wood, emission control, allocation energy',\n",
       " 'gas power plant, 300MWe',\n",
       " 'roads, company, internal',\n",
       " 'operation, maintenance, port',\n",
       " 'natural gas, burned in gas turbine',\n",
       " 'disposal, textiles, soiled, 25% water, to municipal incineration',\n",
       " 'natural gas, at production onshore',\n",
       " 'heat, at heat pump 30kW, allocation heat',\n",
       " 'synthetic gas, from wood, at fluidized bed gasifier',\n",
       " 'supply air inlet, steel/SS, DN 75, at plant',\n",
       " 'crude oil, at production onshore',\n",
       " 'fosetyl-Al, at regional storage',\n",
       " 'maintenance, transoceanic freight ship',\n",
       " 'butane-1,4-diol, at plant',\n",
       " 'packaging glass, brown, at plant',\n",
       " 'clay, at mine',\n",
       " 'selective coating, stainless steel sheet, black chrome',\n",
       " 'hard coal, burned in power plant',\n",
       " 'disposal, building, glass sheet, to sorting plant',\n",
       " 'diammonium phosphate, as N, at regional storehouse',\n",
       " 'heat, at cogen 6400kWth, wood, emission control, allocation heat',\n",
       " 'rye grains extensive, at farm',\n",
       " 'heating, sanitary equipment cogen unit 160kWe',\n",
       " 'hard coal supply mix',\n",
       " 'anaerobic digestion plant, sewage sludge',\n",
       " 'stack PEM fuel cell 2kWe, future',\n",
       " 'platinum, at regional storage',\n",
       " 'vinasse, from sugarcane, at fermentation',\n",
       " 'nickel, 99.5%, at plant',\n",
       " 'fluosilicic acid, 22% in H2O, at plant',\n",
       " 'router, IP network, at server',\n",
       " 'electricity, medium voltage, at grid',\n",
       " 'rape oil, at oil mill',\n",
       " 'gas combined cycle power plant, 400MWe',\n",
       " 'disposal, waste, silicon wafer production, 0% water, to underground deposit',\n",
       " 'transport, natural gas, onshore pipeline, long distance',\n",
       " 'heat, natural gas, at industrial furnace low-NOx >100kW',\n",
       " 'ventilation of dwellings, central, 1 x 720 m3/h, PE ducts, with GHE',\n",
       " 'diuron, at regional storehouse',\n",
       " 'natural gas, burned in boiler atmospheric low-NOx non-modulating <100kW',\n",
       " 'industrial residue wood, from planing, hardwood, kiln dried, u=10%, at plant',\n",
       " 'fatty alcohol sulfate, mix, at plant',\n",
       " 'use, computer, desktop, with CRT monitor, office use',\n",
       " 'electricity, medium voltage, production FR, at grid',\n",
       " 'crude oil, production RME, at long distance transport',\n",
       " 'PEM fuel cell 2kWe, future',\n",
       " 'diphenylether-compounds, at regional storehouse',\n",
       " 'heavy fuel oil, burned in industrial furnace 1MW, non-modulating',\n",
       " 'disposal, digester sludge, to incineration, future, allocation price',\n",
       " 'isopropanol, at plant',\n",
       " 'drilling, CNC, steel',\n",
       " 'naphtha, at refinery',\n",
       " 'regional train',\n",
       " 'lead, from combined metal production, at refinery',\n",
       " 'paper, woodfree, uncoated, at integrated mill',\n",
       " 'electricity, lignite, at power plant',\n",
       " 'operation, long-distance train, SBB mix',\n",
       " 'use, computer, desktop with CRT monitor, off mode',\n",
       " 'hard coal, burned in power plant',\n",
       " 'wind power plant 150kW, fixed parts',\n",
       " 'disposal, building, reinforcement steel, to final disposal',\n",
       " 'disposal, building, reinforcement steel, to sorting plant',\n",
       " 'heat, softwood logs, at furnace 30kW',\n",
       " 'disposal, hard coal ash, 0% water, to residual material landfill',\n",
       " 'electricity, at Mini CHP plant, allocation energy',\n",
       " 'disposal, polypropylene, 15.9% water, to municipal incineration',\n",
       " 'Cu fraction, mechanical treatment, desktop computer, at plant',\n",
       " 'manual treatment plant, WEEE scrap',\n",
       " 'disposal, building, reinforced concrete, to sorting plant',\n",
       " 'disposal, sealing tape, aluminum/PE, 50 mm wide',\n",
       " 'disposal, treatment of printed wiring boards',\n",
       " 'operation, lorry >32t, EURO4',\n",
       " 'heavy fuel oil, burned in power plant',\n",
       " 'electric parts of Mini CHP plant',\n",
       " 'methanol, at regional storage',\n",
       " 'disposal, residue from cooling tower, 30% water, to sanitary landfill',\n",
       " 'heavy fuel oil, burned in refinery furnace',\n",
       " 'disposal, lignite ash from stove, 0% water, to sanitary landfill',\n",
       " 'biogas, from fat and oil, at agricultural co-fermentation, covered',\n",
       " 'o-dichlorobenzene, at plant',\n",
       " 'sodium perborate, monohydrate, powder, at plant',\n",
       " 'lime, hydraulic, at plant',\n",
       " 'natural gas, burned in gas turbine, for compressor station',\n",
       " 'silver, from combined gold-silver production, at refinery',\n",
       " 'medium density fibreboard, at plant',\n",
       " 'hydrochloric acid from benzene chlorination, at plant',\n",
       " 'maintenance, locomotive',\n",
       " 'selective coating, aluminium sheet, nickel pigmented aluminium oxide',\n",
       " 'hard coal briquette, burned in stove 5-15kW',\n",
       " 'ammonia, partial oxidation, liquid, at plant',\n",
       " 'cogen unit 1MWe, components for heat only',\n",
       " 'hard coal supply mix',\n",
       " 'disposal, cement, hydrated, 0% water, to residual material landfill',\n",
       " 'cold impact extrusion, steel, 1 stroke',\n",
       " 'disposal, overflow element, steel, approx. 40 m3/h',\n",
       " 'industrial furnace, natural gas',\n",
       " 'eucalyptus ssp., standing, under bark, u=50%, in plantation',\n",
       " 'milling, cast iron, large parts',\n",
       " 'operation, tram',\n",
       " 'rare-earth activated phosphors, from fluorescent lamps treatment, at plant',\n",
       " 'hydrogen, liquid, at plant',\n",
       " 'ethanol from ethylene, at plant',\n",
       " 'treatment, sewage, to wastewater treatment, class 1',\n",
       " 'roundwood, paraná pine (SFM), under bark, u=50%, at forest road',\n",
       " 'steam from direct oxidation of n-butane, at plant',\n",
       " 'cotton seed, at farm',\n",
       " 'benzene, at coke plant',\n",
       " 'electricity, high voltage, production FI, at grid',\n",
       " 'mine, gold and silver',\n",
       " 'feldspar, at plant',\n",
       " 'extrusion, plastic film',\n",
       " 'foam glass, at plant',\n",
       " 'concrete, exacting, with de-icing salt contact, at plant',\n",
       " 'photovoltaic panel, multi-Si, at plant',\n",
       " 'aluminium, secondary, from new scrap, at plant',\n",
       " 'maintenance SOFC fuel cell 125kWe, future',\n",
       " 'hard coal, at mine',\n",
       " 'milling, steel, average',\n",
       " 'crude oil, at production offshore',\n",
       " 'natural gas, burned in power plant',\n",
       " 'transport, natural gas, pipeline, long distance',\n",
       " 'sodium sulphate, powder, production mix, at plant',\n",
       " 'disposal, building, paint remains, to final disposal',\n",
       " 'generator Mini CHP plant',\n",
       " 'blasting',\n",
       " 'proteins, from grass, at fermentation',\n",
       " 'disposal, wood pole, chrome preserved, 20% water, to municipal incineration',\n",
       " 'operation, passenger car, diesel, EURO4',\n",
       " 'resource correction, PbZn, silver, negative',\n",
       " 'phthalic anhydride, at plant',\n",
       " 'calcium chloride, CaCl2, at regional storage',\n",
       " 'electricity, at cogen 1MWe lean burn, allocation heat',\n",
       " 'electricity, medium voltage, aluminium industry, at grid',\n",
       " 'hot impact extrusion, steel, 1 stroke',\n",
       " 'ethanol, 99.7% in H2O, from biomass, production BR, at service station',\n",
       " 'facade construction, mounted, at building',\n",
       " 'deformation stroke, cold impact extrusion, steel',\n",
       " 'electricity, production mix US',\n",
       " 'cable, printer cable, without plugs, at plant',\n",
       " 'mine, gold and silver',\n",
       " 'grass seed IP, at regional storehouse',\n",
       " 'compressed air, best generation, >30kW, 7 bar gauge, at compressor',\n",
       " 'ventilation equipment, Twl-700, at plant',\n",
       " 'uranium, enriched 3.0% at URENCO enrichment plant',\n",
       " 'disposal, plastic plaster, 0% water, to sanitary landfill',\n",
       " 'flat glass, uncoated, at plant',\n",
       " 'dismantling, LCD screen, mechanically, at plant',\n",
       " 'resource correction, PbZn, indium, positive',\n",
       " 'discharge, produced water, onshore',\n",
       " 'electricity, nuclear, at power plant',\n",
       " 'electricity, production mix photovoltaic, at plant',\n",
       " 'transformer, high voltage use, at plant',\n",
       " 'operation, lorry 20-28t, full, fleet average',\n",
       " 'electricity, hard coal, at power plant',\n",
       " 'pipeline, natural gas, long distance, low capacity, onshore',\n",
       " 'electricity mix',\n",
       " 'micro gas turbine 100kWe',\n",
       " 'wool, sheep, at farm',\n",
       " 'mounting, surface mount technology, Pb-free solder',\n",
       " 'heat pump, brine-water, 10kW',\n",
       " 'electricity, hydropower, at pumped storage power plant',\n",
       " 'operation, freight train, electricity',\n",
       " 'metolachlor, at regional storehouse',\n",
       " 'electricity, hard coal, at power plant',\n",
       " 'tillage, harrowing, by rotary harrow',\n",
       " 'anionic resin, at plant',\n",
       " 'heat, biowaste, at waste incineration plant, allocation price',\n",
       " 'disposal, polyvinylfluoride, 0.2% water, to municipal incineration',\n",
       " 'lead, secondary, at plant',\n",
       " 'light fuel oil, at refinery',\n",
       " 'fava beans IP, at farm',\n",
       " 'yarn production, bast fibres',\n",
       " 'crude oil, production RAF, at long distance transport',\n",
       " 'capacitor, unspecified, at plant',\n",
       " 'heat, hardwood chips from forest, at furnace 300kW',\n",
       " 'electricity mix',\n",
       " 'disposal, wire plastic, 3.55% water, to municipal incineration',\n",
       " 'maintenance, electric bicycle',\n",
       " 'stone meal, at regional storehouse',\n",
       " 'operation, passenger car, methanol',\n",
       " 'transmission network, electricity, medium voltage',\n",
       " 'electricity, natural gas, at power plant',\n",
       " 'printed wiring board, mounted, Laptop PC mainboard, at plant',\n",
       " 'wood pellets, u=10%, at storehouse',\n",
       " 'limestone, crushed, washed',\n",
       " 'ethoxylated alcohols, unspecified, at plant',\n",
       " 'hydrogen, liquid, membrane cell, at plant',\n",
       " 'drawing of pipes, steel',\n",
       " 'transport, freight, rail',\n",
       " 'milling, steel, large parts',\n",
       " 'soft solder, Sn97Cu3, at plant',\n",
       " 'trichloromethane, at plant',\n",
       " 'treatment, tube collector production effluent, to wastewater treatment, class 2',\n",
       " 'sweetening, natural gas',\n",
       " 'disposal, residues, mechanical treatment, desktop computer, in MSWI',\n",
       " '4-methyl-2-pentanone, at plant',\n",
       " 'paper, woodcontaining, LWC, at plant',\n",
       " 'ventilation equipment, KWL 250, at plant',\n",
       " 'use, network access devices',\n",
       " 'sawn timber, softwood, planed, kiln dried, at plant',\n",
       " 'electricity, at refinery',\n",
       " 'compressed air, optimised generation, <30kW, 12 bar gauge, at compressor',\n",
       " 'light fuel oil, burned in industrial furnace 1MW, non-modulating',\n",
       " 'wheat grains conventional, Barrois, at farm',\n",
       " 'drilling, conventional, brass',\n",
       " 'light clay brick, at plant',\n",
       " 'electricity, high voltage, SBB, at grid',\n",
       " 'electricity, hard coal, at power plant',\n",
       " 'electricity, hydropower, at pumped storage power plant',\n",
       " 'hard coal, burned in power plant',\n",
       " 'operation, barge tanker',\n",
       " 'natural gas, burned in gas motor, for storage',\n",
       " 'ethylene dichloride, at plant',\n",
       " 'disposal, building, plaster-cardboard sandwich, to final disposal',\n",
       " 'Fe fraction, mechanical treatment, shredder mat. of manual dismantling, at plant',\n",
       " 'photovoltaic laminate, ribbon-Si, at plant',\n",
       " 'warming, hot impact extrusion, steel',\n",
       " 'refinery',\n",
       " 'sodium dichromate, at plant',\n",
       " 'grass silage IP, at farm',\n",
       " 'fibreboard soft, latex bonded, at plant (u=7%)',\n",
       " 'natural gas, high pressure, at consumer',\n",
       " 'heat, at cogen, biogas agricultural mix, allocation exergy',\n",
       " 'electricity, hydropower, at pumped storage power plant',\n",
       " 'electronic component, unspecified, at plant',\n",
       " 'electricity, at cogen 1MWe lean burn, allocation energy',\n",
       " 'tram',\n",
       " 'electricity, low voltage, production HU, at grid',\n",
       " '3kWp slanted-roof installation, multi-Si, laminated, integrated, on roof',\n",
       " 'cement plant',\n",
       " 'electricity, production mix CN',\n",
       " 'electricity, medium voltage, production BG, at grid',\n",
       " 'polyols, at plant',\n",
       " 'long-distance train',\n",
       " 'rape oil, at oil mill',\n",
       " 'heat, hardwood logs, at wood heater 6kW',\n",
       " 'pellets, iron, at plant',\n",
       " 'cyclohexane, at plant',\n",
       " 'furnace, logs, hardwood, 100kW',\n",
       " 'turning, steel, conventional, primarily roughing',\n",
       " 'electricity, at cogen 160kWe lambda=1, allocation price',\n",
       " 'disposal, building, glazing 2-IV, U<1.1W/m2K, to final disposal',\n",
       " 'rape seed, at farm',\n",
       " 'disposal, building, plaster-cardboard sandwich, to recycling',\n",
       " 'packaging film, LDPE, at plant',\n",
       " 'casting, brass',\n",
       " 'disposal, dust, alloyed EAF steel, 15.4% water, to residual material landfill',\n",
       " 'electricity, medium voltage, production BE, at grid',\n",
       " 'transport, passenger car',\n",
       " 'transport, passenger car, diesel, EURO5',\n",
       " 'treatment, plywood production effluent, to wastewater treatment, class 3',\n",
       " 'disposal, nickel smelter slag, 0% water, to residual material landfill',\n",
       " 'precious metals from electric waste, in anode slime, at refinery',\n",
       " 'nuclear power plant, pressure water reactor 1000MW',\n",
       " 'corrugated board base paper, kraftliner, at plant',\n",
       " 'use, computer, desktop with LCD monitor, off mode',\n",
       " 'heat, borehole heat exchanger, brine-water heat pump 10kW, at heat radiator',\n",
       " 'titanium dioxide, production mix, at plant',\n",
       " 'control cabinet cogen unit 160kWe',\n",
       " 'Fe fraction, mechanical treatment, CRT screen, at plant',\n",
       " 'uranium open pit mine',\n",
       " 'ethanol, 95% in H2O, from sugarcane molasses, at sugar refinery',\n",
       " 'tantalum, powder, capacitor-grade, at regional storage',\n",
       " 'softwood, allocation correction, 3',\n",
       " 'polystyrene foam slab, 100% recycled, at plant',\n",
       " 'uranium, enriched 4.0%, at USEC enrichment plant',\n",
       " 'treatment, heat carrier liquid, 40% C3H8O2, to wastewater treatment, class 2',\n",
       " 'particle board, outdoor use, at plant',\n",
       " 'electricity, medium voltage, production CS, at grid',\n",
       " 'bisphenol A, powder, at plant',\n",
       " 'growth regluators, at regional storehouse',\n",
       " 'toner, black, powder, at plant',\n",
       " 'electricity, high voltage, production DK, at grid',\n",
       " 'disposal, raw sewage sludge, to municipal incineration',\n",
       " 'electricity, hydropower, at pumped storage power plant',\n",
       " 'methylchloride, at plant',\n",
       " 'transistor, SMD type, surface mounting, at plant',\n",
       " 'cogen unit 6400kWth, wood burning, components for electricity only',\n",
       " 'heat from waste, at municipal waste incineration plant',\n",
       " 'heat, at cogen with biogas engine, allocation exergy',\n",
       " 'electricity, at cogen ORC 1400kWth, wood, allocation heat',\n",
       " 'electricity, production mix photovoltaic, at plant',\n",
       " 'operation, passenger car, petrol, EURO5',\n",
       " 'wood preservative, creosote, at plant',\n",
       " 'heat, at air-water heat pump 10kW',\n",
       " 'disposal, ventilation equipment, decentralized, 180-250 m3/h',\n",
       " 'transport, crude oil pipeline, offshore',\n",
       " 'gas motor 206kW',\n",
       " 'quicklime, in pieces, loose, at plant',\n",
       " 'wastewater treatment plant, class 3',\n",
       " 'electricity, production mix photovoltaic, at plant',\n",
       " 'ammonium sulphate, as N, at regional storehouse',\n",
       " 'treatment, fibre board production effluent, to wastewater treatment, class 3',\n",
       " 'hard coal, burned in power plant',\n",
       " 'electricity mix',\n",
       " 'transport, freight, rail',\n",
       " 'laminating, foil, with acrylic binder',\n",
       " 'glass fibre reinforced plastic, polyamide, injection moulding, at plant',\n",
       " 'electricity, at cogen 200kWe diesel SCR, allocation exergy',\n",
       " 'hydrochloric acid, from Mannheim process, at plant',\n",
       " 'heat, light fuel oil, at industrial furnace 1MW',\n",
       " 'polystyrene, extruded (XPS) CO2 blown, at plant',\n",
       " 'hot impact extrusion, steel, 3 strokes',\n",
       " 'wood chips, from forest, softwood, burned in furnace 50kW',\n",
       " 'heat, at solar+gas heating, tube collector, one-family house, combined system',\n",
       " 'heat, pellets, allocation exergy, at stirling cogen unit 3kWe, future',\n",
       " 'plugs, inlet and outlet, for printer cable, at plant',\n",
       " 'metamitron, at regional storage',\n",
       " 'powder coating, aluminium sheet',\n",
       " 'disposal, building, glass sheet, to final disposal',\n",
       " 'ITO, sintered target, at plant',\n",
       " 'electricity mix, SBB',\n",
       " 'penta-erythritol, at plant',\n",
       " 'window frame, wood, U=1.5 W/m2K, at plant',\n",
       " 'lead, at regional storage',\n",
       " 'sodium dithionite, anhydrous, at plant',\n",
       " 'N-methyl-2-pyrrolidone, at plant',\n",
       " 'Fe fraction, mechanical treatment, printer, laser, at plant',\n",
       " 'battery, NiMH, rechargeable, prismatic, at plant',\n",
       " '3kWp flat roof installation, single-Si, on roof',\n",
       " 'electricity, hydropower, at power plant',\n",
       " 'provision, stubbed land',\n",
       " 'electricity, high voltage, production HR, at grid',\n",
       " 'cogen unit 1MWe, components for electricity only',\n",
       " 'disposal, green liquor dregs, 25% water, to residual material landfill',\n",
       " 'light fuel oil, burned in boiler 10kW, non-modulating',\n",
       " 'solder, paste, Sn63Pb37, for electronics industry, at plant',\n",
       " 'laser machining, metal, with YAG-laser, 40W power',\n",
       " 'cadmium sludge, from zinc electrolysis, at plant',\n",
       " 'cogen unit 1MWe, common components for heat+electricity',\n",
       " 'foam glass, at regional storage',\n",
       " 'ethanol, 95% in H2O, from sugar beets, at fermentation plant',\n",
       " 'magnesium oxide, at plant',\n",
       " 'disposal, building, polyethylene/polypropylene products, to final disposal',\n",
       " 'electricity, hydropower, at power plant',\n",
       " 'biogas, mix, at agricultural co-fermentation, covered',\n",
       " 'road vehicle plant',\n",
       " 'heat, mixed chips from forest, at furnace 1000kW',\n",
       " 'printed wiring board, through-hole, lead-free surface, at plant',\n",
       " 'natural gas, burned in gas turbine, for compressor station',\n",
       " 'electricity, medium voltage, at grid',\n",
       " 'wood chopping, mobile chopper, in forest',\n",
       " 'electricity, medium voltage, production NORDEL, at grid',\n",
       " 'heat, hardwood chips from forest, at furnace 1000kW',\n",
       " 'lime from lithium carbonate hydration',\n",
       " 'U enriched 3.8%, in fuel element for LWR, at nuclear fuel fabrication plant',\n",
       " 'heat, hard coal coke, at stove 5-15kW',\n",
       " 'ethoxylated alcohols (AE3), petrochemical, at plant',\n",
       " 'turning, brass, conventional, primarily dressing',\n",
       " 'solid unbleached board, SUB, at plant',\n",
       " 'spodumene, at plant',\n",
       " 'wood chips, from forest, hardwood, burned in furnace 1000kW',\n",
       " 'disposal, zinc in car shredder residue, 0% water, to municipal incineration',\n",
       " 'power saw, with catalytic converter',\n",
       " 'radioactive waste, in final repository for nuclear waste SF, HLW, and ILW',\n",
       " 'coke oven gas, burned in power plant',\n",
       " 'carboxymethyl cellulose, powder, at plant',\n",
       " 'transport, passenger car, petrol, EURO3',\n",
       " 'disposal, emulsion paint, 0% water, to inert material landfill',\n",
       " 'wastewater treatment plant, class 4',\n",
       " 'sulphate pulp, average, at regional storage',\n",
       " 'aluminium sulphate, powder, at plant',\n",
       " 'electricity, oil, at power plant',\n",
       " 'ash, bagasse, at fermentation plant',\n",
       " 'furnace, wood chips, mixed, 50kW',\n",
       " 'natural gas, from high pressure network (1-5 bar), at service station',\n",
       " 'hard coal supply mix',\n",
       " 'benzoic-compounds, at regional storehouse',\n",
       " 'haying, by rotary tedder',\n",
       " 'electricity, medium voltage, at grid',\n",
       " 'disposal, sludge from pulp and paper production, 25% water, to sanitary landfill',\n",
       " 'hard coal, burned in power plant',\n",
       " 'disposal, printer, laser jet, b/w, to WEEE treatment',\n",
       " 'plugs, inlet and outlet, for computer cable, at plant',\n",
       " 'production efforts, transistors',\n",
       " 'transport, freight, rail',\n",
       " 'uranium underground mine',\n",
       " 'dicamba, at regional storehouse',\n",
       " 'natural gas, burned in gas turbine, for compressor station',\n",
       " 'butene, mixed, at plant',\n",
       " 'chimney',\n",
       " 'folpet, at regional storage',\n",
       " 'electricity mix',\n",
       " 'electricity, production mix SI',\n",
       " 'spiral-seam duct, steel, DN 125, at plant',\n",
       " 'toner, colour, powder, at plant',\n",
       " 'deep drawing, steel, 3500 kN press, automode operation',\n",
       " 'disposal, railway track',\n",
       " 'expansion vessel 25l, at plant',\n",
       " 'transport, average train',\n",
       " 'transmission network, electricity, high voltage',\n",
       " 'hard coal supply mix',\n",
       " 'magnesium, at plant',\n",
       " 'heat, at heat pump 30kW, allocation price',\n",
       " 'praseodymium oxide, at plant',\n",
       " 'disposal, packaging cardboard, 19.6% water, to municipal incineration',\n",
       " 'electricity, low voltage, production FR, at grid',\n",
       " 'turning, aluminium, CNC, primarily dressing',\n",
       " 'pipeline, natural gas, low pressure distribution network',\n",
       " ...]"
      ]
     },
     "execution_count": 255,
     "metadata": {},
     "output_type": "execute_result"
    }
   ],
   "source": [
    "activity_names = [bw.get_activity(myFirstLCA_rev_activity_dict[col_index])['name'] for col_index in range(number_of_columns)]\n",
    "activity_names"
   ]
  },
  {
   "cell_type": "code",
   "execution_count": 325,
   "metadata": {
    "collapsed": false
   },
   "outputs": [
    {
     "name": "stdout",
     "output_type": "stream",
     "text": [
      "Score is 0.000000 CTUh for category ('ILCD 1.0.8 2016 midpoint', 'human health', 'non-carcinogenic effects')\n",
      "Score is 0.000001 mol N-Eq for category ('ILCD 1.0.8 2016 midpoint', 'ecosystem quality', 'ionising radiation')\n",
      "Score is 0.000453 kg P-Eq for category ('ILCD 1.0.8 2016 midpoint', 'ecosystem quality', 'freshwater eutrophication')\n",
      "Score is 0.000024 kg Sb-Eq for category ('ILCD 1.0.8 2016 midpoint', 'resources', 'mineral, fossils and renewables')\n",
      "Score is 1.974711 kg CO2-Eq for category ('ILCD 1.0.8 2016 midpoint', 'climate change', 'GWP 100a')\n",
      "Score is 3.636642 kg Soil Organic Carbon for category ('ILCD 1.0.8 2016 midpoint', 'resources', 'land use')\n",
      "Score is 0.001602 kg PM2.5-Eq for category ('ILCD 1.0.8 2016 midpoint', 'human health', 'respiratory effects, inorganics')\n",
      "Score is 0.016471 mol N-Eq for category ('ILCD 1.0.8 2016 midpoint', 'ecosystem quality', 'terrestrial eutrophication')\n",
      "Score is 8.559264 CTUh.m3.yr for category ('ILCD 1.0.8 2016 midpoint', 'ecosystem quality', 'freshwater ecotoxicity')\n",
      "Score is 0.017217 mol H+-Eq for category ('ILCD 1.0.8 2016 midpoint', 'ecosystem quality', 'freshwater and terrestrial acidification')\n",
      "Score is 0.000000 CTUh for category ('ILCD 1.0.8 2016 midpoint', 'human health', 'carcinogenic effects')\n",
      "Score is 0.251493 kg U235-Eq for category ('ILCD 1.0.8 2016 midpoint', 'human health', 'ionising radiation')\n",
      "Score is 0.001534 kg N-Eq for category ('ILCD 1.0.8 2016 midpoint', 'ecosystem quality', 'marine eutrophication')\n",
      "Score is 0.000000 kg CFC-11-Eq for category ('ILCD 1.0.8 2016 midpoint', 'human health', 'ozone layer depletion')\n",
      "Score is 0.006161 kg ethylene-Eq for category ('ILCD 1.0.8 2016 midpoint', 'human health', 'photochemical ozone creation')\n"
     ]
    }
   ],
   "source": [
    "myThirdLCA = bw.LCA({random_act:1}, ILCD[0]) # Do LCA with one impact category\n",
    "myThirdLCA.lci()\n",
    "myThirdLCA.lcia()\n",
    "for category in ILCD:\n",
    "    myThirdLCA.switch_method(category)\n",
    "    myThirdLCA.lcia()\n",
    "    print(\"Score is {:f} {} for category {}\".format(myThirdLCA.score, \n",
    "                                                 bw.Method(category).metadata['unit'],\n",
    "                                                 bw.Method(category).name)\n",
    "          )"
   ]
  },
  {
   "cell_type": "code",
   "execution_count": 263,
   "metadata": {
    "collapsed": false,
    "solution2": "hidden"
   },
   "outputs": [],
   "source": [
    "myFirstLCA_unitProcessContribution = myFirstLCA.characterized_inventory.sum(axis=0).A1\n",
    "myFirstLCA_unitProcessRelativeContribution = myFirstLCA_unitProcessContribution/myFirstLCA.score"
   ]
  },
  {
   "cell_type": "code",
   "execution_count": 265,
   "metadata": {
    "collapsed": false,
    "solution2": "hidden"
   },
   "outputs": [
    {
     "data": {
      "text/plain": [
       "natural gas, burned in industrial furnace >100kW                    0.300497\n",
       "natural gas, burned in industrial furnace low-NOx >100kW            0.209615\n",
       "diesel, burned in building machine                                  0.030230\n",
       "trimethyl borate, at plant                                          0.028743\n",
       "methanol, at plant                                                  0.014085\n",
       "operation, lorry >16t, fleet average                                0.013167\n",
       "drying, natural gas                                                 0.008013\n",
       "light fuel oil, burned in industrial furnace 1MW, non-modulating    0.007675\n",
       "lignite, burned in power plant                                      0.007003\n",
       "sweetening, natural gas                                             0.006098\n",
       "dtype: float64"
      ]
     },
     "execution_count": 265,
     "metadata": {},
     "output_type": "execute_result"
    }
   ],
   "source": [
    "pd.Series(dict(zip(activity_names, myFirstLCA_unitProcessRelativeContribution))).sort_values(ascending=False).head(10)"
   ]
  },
  {
   "cell_type": "markdown",
   "metadata": {},
   "source": [
    "## Revising my second and third LCA with `MultiLCA`"
   ]
  },
  {
   "cell_type": "markdown",
   "metadata": {},
   "source": [
    "The `MultiLCA` allows thecalculation of LCA results for multiple functional units and impact categories.  \n",
    "One simply needs to create a `calculation setup`, i.e. a named set of functional units and LCIA methods."
   ]
  },
  {
   "cell_type": "code",
   "execution_count": 326,
   "metadata": {
    "collapsed": false
   },
   "outputs": [
    {
     "data": {
      "text/plain": [
       "('ecoinvent 2.2', '74f12366f684bbea33281e218dc789d8')"
      ]
     },
     "execution_count": 326,
     "metadata": {},
     "output_type": "execute_result"
    }
   ],
   "source": [
    "wind.key"
   ]
  },
  {
   "cell_type": "markdown",
   "metadata": {},
   "source": [
    "Calculation setups: dictionary with lists of functional units and methods."
   ]
  },
  {
   "cell_type": "code",
   "execution_count": 344,
   "metadata": {
    "collapsed": true
   },
   "outputs": [],
   "source": [
    "list_functional_units = [{wind:1}, {hydro:1}]\n",
    "list_methods = ILCD"
   ]
  },
  {
   "cell_type": "code",
   "execution_count": 345,
   "metadata": {
    "collapsed": true
   },
   "outputs": [],
   "source": [
    "bw.calculation_setups['wind_vs_hydro'] = {'inv':list_functional_units, 'ia':list_methods}"
   ]
  },
  {
   "cell_type": "code",
   "execution_count": 346,
   "metadata": {
    "collapsed": false
   },
   "outputs": [
    {
     "data": {
      "text/plain": [
       "{'ia': [('ILCD 1.0.8 2016 midpoint',\n",
       "   'human health',\n",
       "   'non-carcinogenic effects'),\n",
       "  ('ILCD 1.0.8 2016 midpoint', 'ecosystem quality', 'ionising radiation'),\n",
       "  ('ILCD 1.0.8 2016 midpoint',\n",
       "   'ecosystem quality',\n",
       "   'freshwater eutrophication'),\n",
       "  ('ILCD 1.0.8 2016 midpoint', 'resources', 'mineral, fossils and renewables'),\n",
       "  ('ILCD 1.0.8 2016 midpoint', 'climate change', 'GWP 100a'),\n",
       "  ('ILCD 1.0.8 2016 midpoint', 'resources', 'land use'),\n",
       "  ('ILCD 1.0.8 2016 midpoint',\n",
       "   'human health',\n",
       "   'respiratory effects, inorganics'),\n",
       "  ('ILCD 1.0.8 2016 midpoint',\n",
       "   'ecosystem quality',\n",
       "   'terrestrial eutrophication'),\n",
       "  ('ILCD 1.0.8 2016 midpoint', 'ecosystem quality', 'freshwater ecotoxicity'),\n",
       "  ('ILCD 1.0.8 2016 midpoint',\n",
       "   'ecosystem quality',\n",
       "   'freshwater and terrestrial acidification'),\n",
       "  ('ILCD 1.0.8 2016 midpoint', 'human health', 'carcinogenic effects'),\n",
       "  ('ILCD 1.0.8 2016 midpoint', 'human health', 'ionising radiation'),\n",
       "  ('ILCD 1.0.8 2016 midpoint', 'ecosystem quality', 'marine eutrophication'),\n",
       "  ('ILCD 1.0.8 2016 midpoint', 'human health', 'ozone layer depletion'),\n",
       "  ('ILCD 1.0.8 2016 midpoint',\n",
       "   'human health',\n",
       "   'photochemical ozone creation')],\n",
       " 'inv': [{'electricity, at wind power plant' (kilowatt hour, CH, ['wind power', 'power plants']): 1},\n",
       "  {'electricity, hydropower, at run-of-river power plant' (kilowatt hour, CH, ['hydro power', 'power plants']): 1}]}"
      ]
     },
     "execution_count": 346,
     "metadata": {},
     "output_type": "execute_result"
    }
   ],
   "source": [
    "bw.calculation_setups['wind_vs_hydro']"
   ]
  },
  {
   "cell_type": "code",
   "execution_count": 347,
   "metadata": {
    "collapsed": false
   },
   "outputs": [],
   "source": [
    "myMultiLCA = bw.MultiLCA('wind_vs_hydro')"
   ]
  },
  {
   "cell_type": "code",
   "execution_count": 348,
   "metadata": {
    "collapsed": false
   },
   "outputs": [
    {
     "data": {
      "text/plain": [
       "(2, 15)"
      ]
     },
     "execution_count": 348,
     "metadata": {},
     "output_type": "execute_result"
    }
   ],
   "source": [
    "myMultiLCA.results.shape"
   ]
  },
  {
   "cell_type": "code",
   "execution_count": 349,
   "metadata": {
    "collapsed": false
   },
   "outputs": [
    {
     "data": {
      "text/plain": [
       "array([[  1.77319698e-08,   1.02307540e-08,   1.14578578e-05,\n",
       "          3.21582268e-06,   1.74056144e-02,   2.82421848e-01,\n",
       "          1.35756785e-05,   1.73311954e-04,   4.58678089e-01,\n",
       "          9.75865194e-05,   1.01403862e-08,   3.29056552e-03,\n",
       "          1.93852218e-05,   1.04088397e-09,   5.16756826e-05],\n",
       "       [  1.14582152e-09,   2.26674955e-09,   8.25956961e-07,\n",
       "          1.87445198e-07,   3.53597918e-03,   9.18348397e-03,\n",
       "          3.54495556e-06,   5.80411203e-05,   2.55941100e-02,\n",
       "          1.63953977e-05,   1.08214098e-09,   7.44576498e-04,\n",
       "          5.30679715e-06,   2.31385718e-10,   1.59901889e-05]])"
      ]
     },
     "execution_count": 349,
     "metadata": {},
     "output_type": "execute_result"
    }
   ],
   "source": [
    "myMultiLCA.results"
   ]
  },
  {
   "cell_type": "code",
   "execution_count": 353,
   "metadata": {
    "collapsed": false
   },
   "outputs": [
    {
     "data": {
      "text/html": [
       "<div>\n",
       "<table border=\"1\" class=\"dataframe\">\n",
       "  <thead>\n",
       "    <tr style=\"text-align: right;\">\n",
       "      <th></th>\n",
       "      <th>electricity, at wind power plant</th>\n",
       "      <th>electricity, hydropower, at run-of-river power plant</th>\n",
       "    </tr>\n",
       "  </thead>\n",
       "  <tbody>\n",
       "    <tr>\n",
       "      <th>(ILCD 1.0.8 2016 midpoint, human health, non-carcinogenic effects)</th>\n",
       "      <td>1.773197e-08</td>\n",
       "      <td>1.145822e-09</td>\n",
       "    </tr>\n",
       "    <tr>\n",
       "      <th>(ILCD 1.0.8 2016 midpoint, ecosystem quality, ionising radiation)</th>\n",
       "      <td>1.023075e-08</td>\n",
       "      <td>2.266750e-09</td>\n",
       "    </tr>\n",
       "    <tr>\n",
       "      <th>(ILCD 1.0.8 2016 midpoint, ecosystem quality, freshwater eutrophication)</th>\n",
       "      <td>1.145786e-05</td>\n",
       "      <td>8.259570e-07</td>\n",
       "    </tr>\n",
       "    <tr>\n",
       "      <th>(ILCD 1.0.8 2016 midpoint, resources, mineral, fossils and renewables)</th>\n",
       "      <td>3.215823e-06</td>\n",
       "      <td>1.874452e-07</td>\n",
       "    </tr>\n",
       "    <tr>\n",
       "      <th>(ILCD 1.0.8 2016 midpoint, climate change, GWP 100a)</th>\n",
       "      <td>1.740561e-02</td>\n",
       "      <td>3.535979e-03</td>\n",
       "    </tr>\n",
       "    <tr>\n",
       "      <th>(ILCD 1.0.8 2016 midpoint, resources, land use)</th>\n",
       "      <td>2.824218e-01</td>\n",
       "      <td>9.183484e-03</td>\n",
       "    </tr>\n",
       "    <tr>\n",
       "      <th>(ILCD 1.0.8 2016 midpoint, human health, respiratory effects, inorganics)</th>\n",
       "      <td>1.357568e-05</td>\n",
       "      <td>3.544956e-06</td>\n",
       "    </tr>\n",
       "    <tr>\n",
       "      <th>(ILCD 1.0.8 2016 midpoint, ecosystem quality, terrestrial eutrophication)</th>\n",
       "      <td>1.733120e-04</td>\n",
       "      <td>5.804112e-05</td>\n",
       "    </tr>\n",
       "    <tr>\n",
       "      <th>(ILCD 1.0.8 2016 midpoint, ecosystem quality, freshwater ecotoxicity)</th>\n",
       "      <td>4.586781e-01</td>\n",
       "      <td>2.559411e-02</td>\n",
       "    </tr>\n",
       "    <tr>\n",
       "      <th>(ILCD 1.0.8 2016 midpoint, ecosystem quality, freshwater and terrestrial acidification)</th>\n",
       "      <td>9.758652e-05</td>\n",
       "      <td>1.639540e-05</td>\n",
       "    </tr>\n",
       "    <tr>\n",
       "      <th>(ILCD 1.0.8 2016 midpoint, human health, carcinogenic effects)</th>\n",
       "      <td>1.014039e-08</td>\n",
       "      <td>1.082141e-09</td>\n",
       "    </tr>\n",
       "    <tr>\n",
       "      <th>(ILCD 1.0.8 2016 midpoint, human health, ionising radiation)</th>\n",
       "      <td>3.290566e-03</td>\n",
       "      <td>7.445765e-04</td>\n",
       "    </tr>\n",
       "    <tr>\n",
       "      <th>(ILCD 1.0.8 2016 midpoint, ecosystem quality, marine eutrophication)</th>\n",
       "      <td>1.938522e-05</td>\n",
       "      <td>5.306797e-06</td>\n",
       "    </tr>\n",
       "    <tr>\n",
       "      <th>(ILCD 1.0.8 2016 midpoint, human health, ozone layer depletion)</th>\n",
       "      <td>1.040884e-09</td>\n",
       "      <td>2.313857e-10</td>\n",
       "    </tr>\n",
       "    <tr>\n",
       "      <th>(ILCD 1.0.8 2016 midpoint, human health, photochemical ozone creation)</th>\n",
       "      <td>5.167568e-05</td>\n",
       "      <td>1.599019e-05</td>\n",
       "    </tr>\n",
       "  </tbody>\n",
       "</table>\n",
       "</div>"
      ],
      "text/plain": [
       "                                                    electricity, at wind power plant  \\\n",
       "(ILCD 1.0.8 2016 midpoint, human health, non-ca...                      1.773197e-08   \n",
       "(ILCD 1.0.8 2016 midpoint, ecosystem quality, i...                      1.023075e-08   \n",
       "(ILCD 1.0.8 2016 midpoint, ecosystem quality, f...                      1.145786e-05   \n",
       "(ILCD 1.0.8 2016 midpoint, resources, mineral, ...                      3.215823e-06   \n",
       "(ILCD 1.0.8 2016 midpoint, climate change, GWP ...                      1.740561e-02   \n",
       "(ILCD 1.0.8 2016 midpoint, resources, land use)                         2.824218e-01   \n",
       "(ILCD 1.0.8 2016 midpoint, human health, respir...                      1.357568e-05   \n",
       "(ILCD 1.0.8 2016 midpoint, ecosystem quality, t...                      1.733120e-04   \n",
       "(ILCD 1.0.8 2016 midpoint, ecosystem quality, f...                      4.586781e-01   \n",
       "(ILCD 1.0.8 2016 midpoint, ecosystem quality, f...                      9.758652e-05   \n",
       "(ILCD 1.0.8 2016 midpoint, human health, carcin...                      1.014039e-08   \n",
       "(ILCD 1.0.8 2016 midpoint, human health, ionisi...                      3.290566e-03   \n",
       "(ILCD 1.0.8 2016 midpoint, ecosystem quality, m...                      1.938522e-05   \n",
       "(ILCD 1.0.8 2016 midpoint, human health, ozone ...                      1.040884e-09   \n",
       "(ILCD 1.0.8 2016 midpoint, human health, photoc...                      5.167568e-05   \n",
       "\n",
       "                                                    electricity, hydropower, at run-of-river power plant  \n",
       "(ILCD 1.0.8 2016 midpoint, human health, non-ca...                                       1.145822e-09     \n",
       "(ILCD 1.0.8 2016 midpoint, ecosystem quality, i...                                       2.266750e-09     \n",
       "(ILCD 1.0.8 2016 midpoint, ecosystem quality, f...                                       8.259570e-07     \n",
       "(ILCD 1.0.8 2016 midpoint, resources, mineral, ...                                       1.874452e-07     \n",
       "(ILCD 1.0.8 2016 midpoint, climate change, GWP ...                                       3.535979e-03     \n",
       "(ILCD 1.0.8 2016 midpoint, resources, land use)                                          9.183484e-03     \n",
       "(ILCD 1.0.8 2016 midpoint, human health, respir...                                       3.544956e-06     \n",
       "(ILCD 1.0.8 2016 midpoint, ecosystem quality, t...                                       5.804112e-05     \n",
       "(ILCD 1.0.8 2016 midpoint, ecosystem quality, f...                                       2.559411e-02     \n",
       "(ILCD 1.0.8 2016 midpoint, ecosystem quality, f...                                       1.639540e-05     \n",
       "(ILCD 1.0.8 2016 midpoint, human health, carcin...                                       1.082141e-09     \n",
       "(ILCD 1.0.8 2016 midpoint, human health, ionisi...                                       7.445765e-04     \n",
       "(ILCD 1.0.8 2016 midpoint, ecosystem quality, m...                                       5.306797e-06     \n",
       "(ILCD 1.0.8 2016 midpoint, human health, ozone ...                                       2.313857e-10     \n",
       "(ILCD 1.0.8 2016 midpoint, human health, photoc...                                       1.599019e-05     "
      ]
     },
     "execution_count": 353,
     "metadata": {},
     "output_type": "execute_result"
    }
   ],
   "source": [
    "pd.DataFrame(index=ILCD, columns=[wind['name'], hydro['name']], data=myMultiLCA.results.T)"
   ]
  },
  {
   "cell_type": "markdown",
   "metadata": {},
   "source": [
    "You can also create \"fuller\" DataFrames. Here is with code from [here](http://stackoverflow.com/questions/42984831/create-a-dataframe-from-multilca-results-in-brightway2): "
   ]
  },
  {
   "cell_type": "code",
   "execution_count": 360,
   "metadata": {
    "collapsed": false
   },
   "outputs": [
    {
     "data": {
      "text/html": [
       "<div>\n",
       "<table border=\"1\" class=\"dataframe\">\n",
       "  <thead>\n",
       "    <tr style=\"text-align: right;\">\n",
       "      <th></th>\n",
       "      <th>0</th>\n",
       "      <th>1</th>\n",
       "    </tr>\n",
       "  </thead>\n",
       "  <tbody>\n",
       "    <tr>\n",
       "      <th>Database</th>\n",
       "      <td>ecoinvent 2.2</td>\n",
       "      <td>ecoinvent 2.2</td>\n",
       "    </tr>\n",
       "    <tr>\n",
       "      <th>Code</th>\n",
       "      <td>74f12366f684bbea33281e218dc789d8</td>\n",
       "      <td>20a88d5b4e6f2d56efc87399157c097c</td>\n",
       "    </tr>\n",
       "    <tr>\n",
       "      <th>Name</th>\n",
       "      <td>electricity, at wind power plant</td>\n",
       "      <td>electricity, hydropower, at run-of-river power...</td>\n",
       "    </tr>\n",
       "    <tr>\n",
       "      <th>Location</th>\n",
       "      <td>CH</td>\n",
       "      <td>CH</td>\n",
       "    </tr>\n",
       "    <tr>\n",
       "      <th>Unit</th>\n",
       "      <td>kilowatt hour</td>\n",
       "      <td>kilowatt hour</td>\n",
       "    </tr>\n",
       "    <tr>\n",
       "      <th>Amount</th>\n",
       "      <td>1</td>\n",
       "      <td>1</td>\n",
       "    </tr>\n",
       "    <tr>\n",
       "      <th>(ILCD 1.0.8 2016 midpoint, human health, non-carcinogenic effects)</th>\n",
       "      <td>1.7732e-08</td>\n",
       "      <td>1.14582e-09</td>\n",
       "    </tr>\n",
       "    <tr>\n",
       "      <th>(ILCD 1.0.8 2016 midpoint, ecosystem quality, ionising radiation)</th>\n",
       "      <td>1.02308e-08</td>\n",
       "      <td>2.26675e-09</td>\n",
       "    </tr>\n",
       "    <tr>\n",
       "      <th>(ILCD 1.0.8 2016 midpoint, ecosystem quality, freshwater eutrophication)</th>\n",
       "      <td>1.14579e-05</td>\n",
       "      <td>8.25957e-07</td>\n",
       "    </tr>\n",
       "    <tr>\n",
       "      <th>(ILCD 1.0.8 2016 midpoint, resources, mineral, fossils and renewables)</th>\n",
       "      <td>3.21582e-06</td>\n",
       "      <td>1.87445e-07</td>\n",
       "    </tr>\n",
       "    <tr>\n",
       "      <th>(ILCD 1.0.8 2016 midpoint, climate change, GWP 100a)</th>\n",
       "      <td>0.0174056</td>\n",
       "      <td>0.00353598</td>\n",
       "    </tr>\n",
       "    <tr>\n",
       "      <th>(ILCD 1.0.8 2016 midpoint, resources, land use)</th>\n",
       "      <td>0.282422</td>\n",
       "      <td>0.00918348</td>\n",
       "    </tr>\n",
       "    <tr>\n",
       "      <th>(ILCD 1.0.8 2016 midpoint, human health, respiratory effects, inorganics)</th>\n",
       "      <td>1.35757e-05</td>\n",
       "      <td>3.54496e-06</td>\n",
       "    </tr>\n",
       "    <tr>\n",
       "      <th>(ILCD 1.0.8 2016 midpoint, ecosystem quality, terrestrial eutrophication)</th>\n",
       "      <td>0.000173312</td>\n",
       "      <td>5.80411e-05</td>\n",
       "    </tr>\n",
       "    <tr>\n",
       "      <th>(ILCD 1.0.8 2016 midpoint, ecosystem quality, freshwater ecotoxicity)</th>\n",
       "      <td>0.458678</td>\n",
       "      <td>0.0255941</td>\n",
       "    </tr>\n",
       "    <tr>\n",
       "      <th>(ILCD 1.0.8 2016 midpoint, ecosystem quality, freshwater and terrestrial acidification)</th>\n",
       "      <td>9.75865e-05</td>\n",
       "      <td>1.63954e-05</td>\n",
       "    </tr>\n",
       "    <tr>\n",
       "      <th>(ILCD 1.0.8 2016 midpoint, human health, carcinogenic effects)</th>\n",
       "      <td>1.01404e-08</td>\n",
       "      <td>1.08214e-09</td>\n",
       "    </tr>\n",
       "    <tr>\n",
       "      <th>(ILCD 1.0.8 2016 midpoint, human health, ionising radiation)</th>\n",
       "      <td>0.00329057</td>\n",
       "      <td>0.000744576</td>\n",
       "    </tr>\n",
       "    <tr>\n",
       "      <th>(ILCD 1.0.8 2016 midpoint, ecosystem quality, marine eutrophication)</th>\n",
       "      <td>1.93852e-05</td>\n",
       "      <td>5.3068e-06</td>\n",
       "    </tr>\n",
       "    <tr>\n",
       "      <th>(ILCD 1.0.8 2016 midpoint, human health, ozone layer depletion)</th>\n",
       "      <td>1.04088e-09</td>\n",
       "      <td>2.31386e-10</td>\n",
       "    </tr>\n",
       "    <tr>\n",
       "      <th>(ILCD 1.0.8 2016 midpoint, human health, photochemical ozone creation)</th>\n",
       "      <td>5.16757e-05</td>\n",
       "      <td>1.59902e-05</td>\n",
       "    </tr>\n",
       "  </tbody>\n",
       "</table>\n",
       "</div>"
      ],
      "text/plain": [
       "                                                                                   0  \\\n",
       "Database                                                               ecoinvent 2.2   \n",
       "Code                                                74f12366f684bbea33281e218dc789d8   \n",
       "Name                                                electricity, at wind power plant   \n",
       "Location                                                                          CH   \n",
       "Unit                                                                   kilowatt hour   \n",
       "Amount                                                                             1   \n",
       "(ILCD 1.0.8 2016 midpoint, human health, non-ca...                        1.7732e-08   \n",
       "(ILCD 1.0.8 2016 midpoint, ecosystem quality, i...                       1.02308e-08   \n",
       "(ILCD 1.0.8 2016 midpoint, ecosystem quality, f...                       1.14579e-05   \n",
       "(ILCD 1.0.8 2016 midpoint, resources, mineral, ...                       3.21582e-06   \n",
       "(ILCD 1.0.8 2016 midpoint, climate change, GWP ...                         0.0174056   \n",
       "(ILCD 1.0.8 2016 midpoint, resources, land use)                             0.282422   \n",
       "(ILCD 1.0.8 2016 midpoint, human health, respir...                       1.35757e-05   \n",
       "(ILCD 1.0.8 2016 midpoint, ecosystem quality, t...                       0.000173312   \n",
       "(ILCD 1.0.8 2016 midpoint, ecosystem quality, f...                          0.458678   \n",
       "(ILCD 1.0.8 2016 midpoint, ecosystem quality, f...                       9.75865e-05   \n",
       "(ILCD 1.0.8 2016 midpoint, human health, carcin...                       1.01404e-08   \n",
       "(ILCD 1.0.8 2016 midpoint, human health, ionisi...                        0.00329057   \n",
       "(ILCD 1.0.8 2016 midpoint, ecosystem quality, m...                       1.93852e-05   \n",
       "(ILCD 1.0.8 2016 midpoint, human health, ozone ...                       1.04088e-09   \n",
       "(ILCD 1.0.8 2016 midpoint, human health, photoc...                       5.16757e-05   \n",
       "\n",
       "                                                                                                    1  \n",
       "Database                                                                                ecoinvent 2.2  \n",
       "Code                                                                 20a88d5b4e6f2d56efc87399157c097c  \n",
       "Name                                                electricity, hydropower, at run-of-river power...  \n",
       "Location                                                                                           CH  \n",
       "Unit                                                                                    kilowatt hour  \n",
       "Amount                                                                                              1  \n",
       "(ILCD 1.0.8 2016 midpoint, human health, non-ca...                                        1.14582e-09  \n",
       "(ILCD 1.0.8 2016 midpoint, ecosystem quality, i...                                        2.26675e-09  \n",
       "(ILCD 1.0.8 2016 midpoint, ecosystem quality, f...                                        8.25957e-07  \n",
       "(ILCD 1.0.8 2016 midpoint, resources, mineral, ...                                        1.87445e-07  \n",
       "(ILCD 1.0.8 2016 midpoint, climate change, GWP ...                                         0.00353598  \n",
       "(ILCD 1.0.8 2016 midpoint, resources, land use)                                            0.00918348  \n",
       "(ILCD 1.0.8 2016 midpoint, human health, respir...                                        3.54496e-06  \n",
       "(ILCD 1.0.8 2016 midpoint, ecosystem quality, t...                                        5.80411e-05  \n",
       "(ILCD 1.0.8 2016 midpoint, ecosystem quality, f...                                          0.0255941  \n",
       "(ILCD 1.0.8 2016 midpoint, ecosystem quality, f...                                        1.63954e-05  \n",
       "(ILCD 1.0.8 2016 midpoint, human health, carcin...                                        1.08214e-09  \n",
       "(ILCD 1.0.8 2016 midpoint, human health, ionisi...                                        0.000744576  \n",
       "(ILCD 1.0.8 2016 midpoint, ecosystem quality, m...                                         5.3068e-06  \n",
       "(ILCD 1.0.8 2016 midpoint, human health, ozone ...                                        2.31386e-10  \n",
       "(ILCD 1.0.8 2016 midpoint, human health, photoc...                                        1.59902e-05  "
      ]
     },
     "execution_count": 360,
     "metadata": {},
     "output_type": "execute_result"
    }
   ],
   "source": [
    "scores = pd.DataFrame(myMultiLCA.results, columns=myMultiLCA.methods)\n",
    "as_activities = [\n",
    "    (bw.get_activity(key), amount) \n",
    "    for dct in myMultiLCA.func_units \n",
    "    for key, amount in dct.items()\n",
    "]\n",
    "nicer_fu = pd.DataFrame(\n",
    "    [\n",
    "        (x['database'], x['code'], x['name'], x['location'], x['unit'], y) \n",
    "        for x, y in as_activities\n",
    "    ], \n",
    "    columns=('Database', 'Code', 'Name', 'Location', 'Unit', 'Amount')\n",
    ")\n",
    "pd.concat([nicer_fu, scores], axis=1).T"
   ]
  },
  {
   "cell_type": "markdown",
   "metadata": {},
   "source": [
    "You can even generate beautiful heatmaps like this in a relatively easy way, see example notebook [here](http://nbviewer.jupyter.org/urls/bitbucket.org/cmutel/brightway2/raw/default/notebooks/Using%20calculation%20setups.ipynb).\n",
    "\n",
    "<img src=\"images/multiLCA_heatmap.JPG\">"
   ]
  },
  {
   "cell_type": "markdown",
   "metadata": {},
   "source": [
    "Done with deterministic LCA using only existing database items!"
   ]
  }
 ],
 "metadata": {
  "kernelspec": {
   "display_name": "Python 3",
   "language": "python",
   "name": "python3"
  },
  "language_info": {
   "codemirror_mode": {
    "name": "ipython",
    "version": 3
   },
   "file_extension": ".py",
   "mimetype": "text/x-python",
   "name": "python",
   "nbconvert_exporter": "python",
   "pygments_lexer": "ipython3",
   "version": "3.5.2"
  },
  "widgets": {
   "state": {},
   "version": "1.1.2"
  }
 },
 "nbformat": 4,
 "nbformat_minor": 0
}
