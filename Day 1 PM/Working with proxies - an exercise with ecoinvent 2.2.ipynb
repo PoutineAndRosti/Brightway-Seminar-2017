{
 "cells": [
  {
   "cell_type": "markdown",
   "metadata": {
    "deletable": true,
    "editable": true
   },
   "source": [
    "# Brightway2 seminar\n",
    "Chris Mutel ([PSI](https://www.psi.ch/)), Pascal Lesage ([CIRAIG](http://www.ciraig.org/en/))"
   ]
  },
  {
   "cell_type": "markdown",
   "metadata": {
    "deletable": true,
    "editable": true
   },
   "source": [
    "## Day 1, afternoon  \n",
    "Session on working with `Activity` and ` Exchange` proxies "
   ]
  },
  {
   "cell_type": "markdown",
   "metadata": {
    "deletable": true,
    "editable": true
   },
   "source": [
    "### Learning objectives  \n",
    "  - Work with `Activity` and ` Exchange` proxies (copy, add, modify, delete)  "
   ]
  },
  {
   "cell_type": "markdown",
   "metadata": {
    "deletable": true,
    "editable": true
   },
   "source": [
    "**Exercise**: Create a new activity for blow moulding in the USA that is based on a copy of the activity `'stretch blow moulding`. It is to have the following modifications:  \n",
    "  - Its location is to be changed to \"US\" ==> changing an activity\n",
    "  - Its source of electricity is to be changed to medium voltage electricity from the US grid ==> changing an exchange  \n",
    "  - The waste heat elementary flow is to be deleted ==> Deleting an exchange  \n",
    "  - The cooling water is to come from the \"river\" subcompartment ==> Deleting and adding an exchange\n",
    "\n",
    "CHRIS: this may be fun, but probably would take too long.\n",
    "  - The Pedigree matrix scores for the exchanges are to be modified  \n",
    "  - The uncertainty is to be modified based on these modified Pedigree scores"
   ]
  },
  {
   "cell_type": "markdown",
   "metadata": {
    "deletable": true,
    "editable": true,
    "solution2": "shown",
    "solution2_first": true
   },
   "source": [
    "**Step 1**: Import Brightway as bw, open the seminar project and make a copy of the ecoinvent v2.2 database."
   ]
  },
  {
   "cell_type": "code",
   "execution_count": 1,
   "metadata": {
    "collapsed": true,
    "deletable": true,
    "editable": true,
    "solution2": "shown"
   },
   "outputs": [],
   "source": [
    "import brightway2 as bw"
   ]
  },
  {
   "cell_type": "code",
   "execution_count": 2,
   "metadata": {
    "collapsed": false,
    "deletable": true,
    "editable": true,
    "solution2": "shown"
   },
   "outputs": [],
   "source": [
    "bw.projects.set_current('bw2_seminar_2017')"
   ]
  },
  {
   "cell_type": "code",
   "execution_count": 3,
   "metadata": {
    "collapsed": false,
    "deletable": true,
    "editable": true,
    "solution2": "shown"
   },
   "outputs": [
    {
     "name": "stderr",
     "output_type": "stream",
     "text": [
      "Writing activities to SQLite3 database:\n",
      "0%                          100%\n",
      "[##############################] | ETA: 00:00:00\n",
      "Total time elapsed: 00:05:36\n"
     ]
    },
    {
     "name": "stdout",
     "output_type": "stream",
     "text": [
      "Title: Writing activities to SQLite3 database:\n",
      "  Started: 03/30/2017 23:11:56\n",
      "  Finished: 03/30/2017 23:17:32\n",
      "  Total time elapsed: 00:05:36\n",
      "  CPU %: 11.60\n",
      "  Memory %: 6.18\n"
     ]
    }
   ],
   "source": [
    "if 'ecoinvent 2.2 copy' not in bw.databases:\n",
    "    bw.Database('ecoinvent 2.2').copy('ecoinvent 2.2 copy')\n",
    "else:\n",
    "    print('A copy already exists')\n",
    "eidb = bw.Database('ecoinvent 2.2 copy')"
   ]
  },
  {
   "cell_type": "markdown",
   "metadata": {
    "deletable": true,
    "editable": true,
    "solution2": "shown",
    "solution2_first": true
   },
   "source": [
    "**Step 2**: Create a copy of the activity `'offset printing, per kg printed paper' (kilogram, CH, None)` and assign it to a variable.  "
   ]
  },
  {
   "cell_type": "code",
   "execution_count": 4,
   "metadata": {
    "collapsed": false,
    "deletable": true,
    "editable": true,
    "solution2": "shown"
   },
   "outputs": [
    {
     "data": {
      "text/plain": [
       "'stretch blow moulding' (kilogram, RER, ['plastics', 'processing'])"
      ]
     },
     "execution_count": 4,
     "metadata": {},
     "output_type": "execute_result"
    }
   ],
   "source": [
    "bm_RER = [act for act in eidb if 'stretch blow moulding' in act['name']][0]\n",
    "bm_RER"
   ]
  },
  {
   "cell_type": "code",
   "execution_count": 5,
   "metadata": {
    "collapsed": true,
    "deletable": true,
    "editable": true,
    "solution2": "shown"
   },
   "outputs": [],
   "source": [
    "bm_US = bm_RER.copy()"
   ]
  },
  {
   "cell_type": "markdown",
   "metadata": {
    "deletable": true,
    "editable": true,
    "solution2": "shown"
   },
   "source": [
    "Before we go on, let's get a sense of what the activity looks like and what exchanges are output into the activity."
   ]
  },
  {
   "cell_type": "code",
   "execution_count": 6,
   "metadata": {
    "collapsed": false,
    "deletable": true,
    "editable": true,
    "solution2": "shown"
   },
   "outputs": [
    {
     "data": {
      "text/plain": [
       "{'authors': [{'address': 'Lerchenfeldstrasse 5, 9014 St. Gallen',\n",
       "   'company': 'EMPA',\n",
       "   'country': 'CH',\n",
       "   'email': 'empa@ecoinvent.org',\n",
       "   'name': 'Roland Hischier'}],\n",
       " 'categories': ['plastics', 'processing'],\n",
       " 'code': '528f0f9235414af8acefda3176267acc',\n",
       " 'comment': '1 kg of this process equals 0.978 kg of strech blow moulded plastics.\\nThis process contains the auxillaries and energy demand for the mentioned convertion process of plastics. The converted amount of plastics is NOT included into the dataset.\\nLocation:  information from different European and Swiss converting companies\\nTechnology:  present technologies\\nTime period:  time to which data refer\\nProduction volume:  unknown\\nSampling:  company data\\nExtrapolations:  no extrapolation\\nUncertainty:  none',\n",
       " 'database': 'ecoinvent 2.2 copy',\n",
       " 'filename': 'E:\\\\datasets\\\\01855.XML',\n",
       " 'location': 'RER',\n",
       " 'name': 'stretch blow moulding',\n",
       " 'production amount': 1.0,\n",
       " 'type': 'process',\n",
       " 'unit': 'kilogram'}"
      ]
     },
     "execution_count": 6,
     "metadata": {},
     "output_type": "execute_result"
    }
   ],
   "source": [
    "bm_US.as_dict()"
   ]
  },
  {
   "cell_type": "code",
   "execution_count": null,
   "metadata": {
    "collapsed": false,
    "deletable": true,
    "editable": true,
    "solution2": "shown"
   },
   "outputs": [],
   "source": [
    "for exc in bm_US.exchanges():\n",
    "    print(exc.input['name'], exc['amount'], exc['unit'])"
   ]
  },
  {
   "cell_type": "markdown",
   "metadata": {
    "deletable": true,
    "editable": true,
    "solution2": "shown",
    "solution2_first": true
   },
   "source": [
    "**Step 3**: Just a check: make sure that the key of the activities are not the same"
   ]
  },
  {
   "cell_type": "code",
   "execution_count": 7,
   "metadata": {
    "collapsed": false,
    "deletable": true,
    "editable": true,
    "solution2": "shown"
   },
   "outputs": [
    {
     "data": {
      "text/plain": [
       "False"
      ]
     },
     "execution_count": 7,
     "metadata": {},
     "output_type": "execute_result"
    }
   ],
   "source": [
    "bm_RER.key == bm_US.key"
   ]
  },
  {
   "cell_type": "markdown",
   "metadata": {
    "deletable": true,
    "editable": true,
    "solution2": "shown",
    "solution2_first": true
   },
   "source": [
    "**Step 4**: Change the US activity's location to \"US\""
   ]
  },
  {
   "cell_type": "code",
   "execution_count": 8,
   "metadata": {
    "collapsed": true,
    "deletable": true,
    "editable": true,
    "solution2": "shown"
   },
   "outputs": [],
   "source": [
    "bm_US['location']=\"US\"\n",
    "bm_US.save()"
   ]
  },
  {
   "cell_type": "markdown",
   "metadata": {
    "deletable": true,
    "editable": true,
    "solution2": "shown",
    "solution2_first": true
   },
   "source": [
    "**Step 5**: Find the electricity exchange to be replaced in the US printing activity."
   ]
  },
  {
   "cell_type": "code",
   "execution_count": 9,
   "metadata": {
    "collapsed": false,
    "deletable": true,
    "editable": true,
    "solution2": "shown"
   },
   "outputs": [
    {
     "data": {
      "text/plain": [
       "Exchange: 2.55 kilowatt hour 'electricity, medium voltage, production UCTE, at grid' (kilowatt hour, UCTE, ['electricity', 'production mix']) to 'stretch blow moulding' (kilogram, US, ['plastics', 'processing'])>"
      ]
     },
     "execution_count": 9,
     "metadata": {},
     "output_type": "execute_result"
    }
   ],
   "source": [
    "electricity_input_exchange = [exc for exc in bm_US.technosphere() if \"electricity\" in exc['name']][0]\n",
    "electricity_input_exchange"
   ]
  },
  {
   "cell_type": "markdown",
   "metadata": {
    "deletable": true,
    "editable": true,
    "solution2": "shown",
    "solution2_first": true
   },
   "source": [
    "**Step 6**: Find the activity that this exchange needs to be relinked to."
   ]
  },
  {
   "cell_type": "code",
   "execution_count": 10,
   "metadata": {
    "collapsed": false,
    "deletable": true,
    "editable": true,
    "solution2": "shown"
   },
   "outputs": [
    {
     "data": {
      "text/plain": [
       "'electricity, medium voltage, at grid' (kilowatt hour, US, ['electricity', 'supply mix'])"
      ]
     },
     "execution_count": 10,
     "metadata": {},
     "output_type": "execute_result"
    }
   ],
   "source": [
    "US_elect=[act for act in eidb if 'electricity, medium voltage' in act['name']\n",
    "          and act['location']=='US'\n",
    "         ][0]\n",
    "US_elect"
   ]
  },
  {
   "cell_type": "markdown",
   "metadata": {
    "deletable": true,
    "editable": true,
    "solution2": "shown",
    "solution2_first": true
   },
   "source": [
    "**Step 7**: Relink the electricity input exchange to the US electricity:"
   ]
  },
  {
   "cell_type": "code",
   "execution_count": 11,
   "metadata": {
    "collapsed": false,
    "deletable": true,
    "editable": true,
    "solution2": "shown"
   },
   "outputs": [],
   "source": [
    "electricity_input_exchange.input = US_elect"
   ]
  },
  {
   "cell_type": "code",
   "execution_count": 12,
   "metadata": {
    "collapsed": false,
    "deletable": true,
    "editable": true,
    "solution2": "shown"
   },
   "outputs": [
    {
     "name": "stdout",
     "output_type": "stream",
     "text": [
      "electricity, medium voltage, production UCTE, at grid UCTE\n"
     ]
    }
   ],
   "source": [
    "for exc in bm_US.technosphere():\n",
    "    if \"electricity\" in exc.input['name']:\n",
    "        print(exc.input['name'], exc.input['location']) "
   ]
  },
  {
   "cell_type": "markdown",
   "metadata": {
    "deletable": true,
    "editable": true,
    "solution2": "shown",
    "solution2_first": true
   },
   "source": [
    "**Step 8**: Delete the waste heat elementary flow:"
   ]
  },
  {
   "cell_type": "code",
   "execution_count": 13,
   "metadata": {
    "collapsed": false,
    "deletable": true,
    "editable": true,
    "solution2": "shown"
   },
   "outputs": [
    {
     "data": {
      "text/plain": [
       "Exchange: 9.17 megajoule 'Heat, waste' (megajoule, None, ('air', 'urban air close to ground')) to 'stretch blow moulding' (kilogram, US, ['plastics', 'processing'])>"
      ]
     },
     "execution_count": 13,
     "metadata": {},
     "output_type": "execute_result"
    }
   ],
   "source": [
    "waste_heat = [exc for exc in bm_US.biosphere() if \"Heat, waste\" in exc['name']][0]\n",
    "waste_heat"
   ]
  },
  {
   "cell_type": "code",
   "execution_count": 14,
   "metadata": {
    "collapsed": true,
    "deletable": true,
    "editable": true,
    "solution2": "shown"
   },
   "outputs": [],
   "source": [
    "waste_heat.delete()"
   ]
  },
  {
   "cell_type": "markdown",
   "metadata": {
    "deletable": true,
    "editable": true,
    "solution2": "shown",
    "solution2_first": true
   },
   "source": [
    "**Step 9**: Create a new exchange for the water input from river and delete the old cooling water, unspecified"
   ]
  },
  {
   "cell_type": "code",
   "execution_count": 15,
   "metadata": {
    "collapsed": false,
    "deletable": true,
    "editable": true,
    "solution2": "shown"
   },
   "outputs": [
    {
     "data": {
      "text/plain": [
       "'Water, river' (cubic meter, None, ('natural resource', 'in water'))"
      ]
     },
     "execution_count": 15,
     "metadata": {},
     "output_type": "execute_result"
    }
   ],
   "source": [
    "[ef for ef in bw.Database('biosphere3') if \"river\" in ef['name']]  # To determine how best to return my activity\n",
    "river_water = [ef for ef in bw.Database('biosphere3') if \"Water, river\" in ef['name']][0]\n",
    "river_water"
   ]
  },
  {
   "cell_type": "code",
   "execution_count": 16,
   "metadata": {
    "collapsed": false,
    "deletable": true,
    "editable": true,
    "solution2": "shown"
   },
   "outputs": [
    {
     "data": {
      "text/plain": [
       "Exchange: 0.11 cubic meter 'Water, cooling, unspecified natural origin' (cubic meter, None, ('natural resource', 'in water')) to 'stretch blow moulding' (kilogram, US, ['plastics', 'processing'])>"
      ]
     },
     "execution_count": 16,
     "metadata": {},
     "output_type": "execute_result"
    }
   ],
   "source": [
    "# Also return the existing cooling water flow to \"steal\" some information from it\n",
    "old_cooling_water = [ef for ef in bm_US.biosphere() if \"cooling\" in ef['name']][0]\n",
    "old_cooling_water"
   ]
  },
  {
   "cell_type": "code",
   "execution_count": 17,
   "metadata": {
    "collapsed": false,
    "deletable": true,
    "editable": true,
    "solution2": "shown"
   },
   "outputs": [
    {
     "data": {
      "text/plain": [
       "{'amount': 0.11,\n",
       " 'categories': ['natural resource', 'in water'],\n",
       " 'comment': '(2,3,2,1,3,4); typical values, based on a European and a Swiss study',\n",
       " 'input': ('biosphere3', 'fc1c42ce-a759-49fa-b987-f1ec5e503db1'),\n",
       " 'loc': -2.2072749131897207,\n",
       " 'name': 'Water, cooling, unspecified natural origin',\n",
       " 'negative': False,\n",
       " 'output': ('ecoinvent 2.2 copy', '528f0f9235414af8acefda3176267acc'),\n",
       " 'scale': 0.13118213223374559,\n",
       " 'type': 'biosphere',\n",
       " 'uncertainty type': 2,\n",
       " 'unit': 'cubic meter'}"
      ]
     },
     "execution_count": 17,
     "metadata": {},
     "output_type": "execute_result"
    }
   ],
   "source": [
    "old_cooling_water.as_dict()"
   ]
  },
  {
   "cell_type": "code",
   "execution_count": 18,
   "metadata": {
    "collapsed": false,
    "deletable": true,
    "editable": true,
    "solution2": "shown"
   },
   "outputs": [],
   "source": [
    "new_water = bm_US.new_exchange(input=river_water.key,\n",
    "                   amount=old_cooling_water['amount'],\n",
    "                   unit=old_cooling_water['unit'],\n",
    "                   categories=old_cooling_water['categories'],\n",
    "                   type='biosphere')"
   ]
  },
  {
   "cell_type": "code",
   "execution_count": 19,
   "metadata": {
    "collapsed": true,
    "deletable": true,
    "editable": true,
    "solution2": "shown"
   },
   "outputs": [],
   "source": [
    "new_water.save()"
   ]
  },
  {
   "cell_type": "markdown",
   "metadata": {
    "deletable": true,
    "editable": true,
    "solution2": "shown"
   },
   "source": [
    "Then delete the old water input:"
   ]
  },
  {
   "cell_type": "code",
   "execution_count": 20,
   "metadata": {
    "collapsed": true,
    "deletable": true,
    "editable": true,
    "solution2": "shown"
   },
   "outputs": [],
   "source": [
    "old_cooling_water.delete()"
   ]
  },
  {
   "cell_type": "code",
   "execution_count": 21,
   "metadata": {
    "collapsed": true,
    "deletable": true,
    "editable": true,
    "solution2": "shown"
   },
   "outputs": [],
   "source": [
    "bm_US.save()"
   ]
  },
  {
   "cell_type": "markdown",
   "metadata": {
    "deletable": true,
    "editable": true
   },
   "source": [
    "**Final result:** "
   ]
  },
  {
   "cell_type": "code",
   "execution_count": 22,
   "metadata": {
    "collapsed": false,
    "deletable": true,
    "editable": true
   },
   "outputs": [
    {
     "name": "stdout",
     "output_type": "stream",
     "text": [
      "lubricating oil, at plant 0.00196 kilogram RER\n",
      "solid bleached board, SBB, at plant 0.0323 kilogram RER\n",
      "electricity, medium voltage, production UCTE, at grid 2.55 kilowatt hour UCTE\n",
      "packaging box production unit 1.43e-09 unit RER\n",
      "disposal, plastics, mixture, 15.3% water, to municipal incineration 0.0215 kilogram CH\n",
      "stretch blow moulding 1.0 kilogram US\n",
      "Water, river 0.11 cubic meter\n"
     ]
    }
   ],
   "source": [
    "for exc in bm_US.exchanges():\n",
    "    try:\n",
    "        print(exc.input['name'], exc['amount'], exc['unit'], exc.input['location'])\n",
    "    except:\n",
    "        print(exc.input['name'], exc['amount'], exc['unit'])"
   ]
  },
  {
   "cell_type": "code",
   "execution_count": null,
   "metadata": {
    "collapsed": true
   },
   "outputs": [],
   "source": []
  }
 ],
 "metadata": {
  "kernelspec": {
   "display_name": "Python 3",
   "language": "python",
   "name": "python3"
  },
  "language_info": {
   "codemirror_mode": {
    "name": "ipython",
    "version": 3
   },
   "file_extension": ".py",
   "mimetype": "text/x-python",
   "name": "python",
   "nbconvert_exporter": "python",
   "pygments_lexer": "ipython3",
   "version": "3.5.2"
  },
  "widgets": {
   "state": {},
   "version": "1.1.2"
  }
 },
 "nbformat": 4,
 "nbformat_minor": 0
}
