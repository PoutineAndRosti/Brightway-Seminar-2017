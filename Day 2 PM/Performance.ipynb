{
 "cells": [
  {
   "cell_type": "markdown",
   "metadata": {
    "deletable": true,
    "editable": true
   },
   "source": [
    "# Making Brightway2 faster\n",
    "\n",
    "In general, steps have been taken to make Brightway2 faster. For example, key functions to construct matrices were rewritten in the [Cython](http://cython.org/) library [bw2speedups](https://pypi.python.org/pypi/bw2speedups/2.1) (see [the blog post](https://chris.mutel.org/fast-dont-lie.html)). However, Python is a comfortable language, not a fast one, and there will often be opportunities to optimize key steps or algorithms.\n",
    "\n",
    "## Don't over-engineer things!\n",
    "\n",
    "Optimization can be a fun engineering exercise, but please make sure it it worth it! If you have to do a single operation that takes an hour, maybe it is worth spending that hour reading a paper. Now, if you had to do that operation a thousand times...\n",
    "\n",
    "## Timing\n",
    "\n",
    "Before we start looking into specifics about what makes things fast or slow, you should know about the magic command `%timeit`. There is also a magic command`%time`; you can read more about [timeit](https://docs.python.org/3/library/timeit.html#timeit.Timer.timeit) and [magic functions](http://ipython.readthedocs.io/en/stable/interactive/magics.html)."
   ]
  },
  {
   "cell_type": "code",
   "execution_count": null,
   "metadata": {
    "collapsed": true,
    "deletable": true,
    "editable": true
   },
   "outputs": [],
   "source": [
    "import numpy as np"
   ]
  },
  {
   "cell_type": "code",
   "execution_count": null,
   "metadata": {
    "collapsed": false,
    "deletable": true,
    "editable": true
   },
   "outputs": [],
   "source": [
    "%timeit sum(np.random.random(size=100000))"
   ]
  },
  {
   "cell_type": "code",
   "execution_count": null,
   "metadata": {
    "collapsed": false,
    "deletable": true,
    "editable": true
   },
   "outputs": [],
   "source": [
    "%timeit np.random.random(size=100000).sum()"
   ]
  },
  {
   "cell_type": "markdown",
   "metadata": {
    "deletable": true,
    "editable": true
   },
   "source": [
    "## Profiling\n",
    "\n",
    "The first step towards actually improving performance is to understand why things are slow. There are a number of Python profilers available:\n",
    "\n",
    "* [pyflame (linux only)](https://github.com/uber/pyflame)\n",
    "* [line_profiler](https://github.com/rkern/line_profiler)\n",
    "* [SnakeViz](https://jiffyclub.github.io/snakeviz/)\n",
    "* [memory_profiler](https://github.com/fabianp/memory_profiler)\n",
    "\n",
    "And a lot of tutorials if you search for Python profiling or Python performance."
   ]
  },
  {
   "cell_type": "code",
   "execution_count": null,
   "metadata": {
    "collapsed": false,
    "deletable": true,
    "editable": true
   },
   "outputs": [],
   "source": [
    "import brightway2 as bw"
   ]
  },
  {
   "cell_type": "code",
   "execution_count": null,
   "metadata": {
    "collapsed": false,
    "deletable": true,
    "editable": true
   },
   "outputs": [],
   "source": [
    "bw.projects.set_current(\"bw2_seminar_2017\")"
   ]
  },
  {
   "cell_type": "code",
   "execution_count": null,
   "metadata": {
    "collapsed": false,
    "deletable": true,
    "editable": true
   },
   "outputs": [],
   "source": [
    "bw.databases"
   ]
  },
  {
   "cell_type": "code",
   "execution_count": null,
   "metadata": {
    "collapsed": false,
    "deletable": true,
    "editable": true
   },
   "outputs": [],
   "source": [
    "config = {'demand': {bw.Database('ecoinvent 3.2 cutoff').random(): 1}, 'method': bw.methods.random()}"
   ]
  },
  {
   "cell_type": "markdown",
   "metadata": {
    "deletable": true,
    "editable": true
   },
   "source": [
    "Here is our profiling statement. With `%prun`, everything has to be on one line. This will popup a results screen.\n",
    "\n",
    "You can also run whole cells in the profiler with `%%prun`, e.g.\n",
    "\n",
    "    %%prun \n",
    "    import brightway2 as bw\n",
    "    config = {'demand': {bw.Database('ecoinvent').random(): 1}, 'method': bw.methods.random}\n",
    "    lca = bw.LCA(**config)\n",
    "    lca.lci()"
   ]
  },
  {
   "cell_type": "code",
   "execution_count": null,
   "metadata": {
    "collapsed": false,
    "deletable": true,
    "editable": true
   },
   "outputs": [],
   "source": [
    "%prun lca = bw.LCA(**config); lca.lci()"
   ]
  },
  {
   "cell_type": "markdown",
   "metadata": {
    "deletable": true,
    "editable": true
   },
   "source": [
    "We can also get a graphical profiling result using a neat utility called snakeviz. Let's install it:"
   ]
  },
  {
   "cell_type": "code",
   "execution_count": null,
   "metadata": {
    "collapsed": false,
    "deletable": true,
    "editable": true
   },
   "outputs": [],
   "source": [
    "!pip install snakeviz"
   ]
  },
  {
   "cell_type": "code",
   "execution_count": null,
   "metadata": {
    "collapsed": false,
    "deletable": true,
    "editable": true
   },
   "outputs": [],
   "source": [
    "%load_ext snakeviz"
   ]
  },
  {
   "cell_type": "code",
   "execution_count": null,
   "metadata": {
    "collapsed": false,
    "deletable": true,
    "editable": true
   },
   "outputs": [],
   "source": [
    "%snakeviz lca = bw.LCA(**config); lca.lci(); lca.lcia()"
   ]
  },
  {
   "cell_type": "markdown",
   "metadata": {
    "deletable": true,
    "editable": true
   },
   "source": [
    "The indexer takes the most time - basically nothing else matters. What is this indexer?\n",
    "\n",
    "[Here is the source code](https://bitbucket.org/cmutel/brightway2-speedups/src/86e800c3fa5ba922e539df3e722faaa7656d305d/bw2speedups/_indexer.pyx?at=default&fileviewer=file-view-default). If you need some help, [here is where it is used](https://bitbucket.org/cmutel/brightway2-calc/src/105e24e2d803c96773651ed73c43d850f9c23548/bw2calc/matrices.py?at=default&fileviewer=file-view-default#matrices.py-41). Let's discuss what this is used for."
   ]
  },
  {
   "cell_type": "markdown",
   "metadata": {
    "deletable": true,
    "editable": true
   },
   "source": [
    "## Speeding up individual LCA calculation runs\n",
    "\n",
    "What would be some strategies to speed this up? First, we need to decide if we do need to speed it up. Most of the time is spent in the initial startup, and any subsequent calculations will be quick:"
   ]
  },
  {
   "cell_type": "code",
   "execution_count": null,
   "metadata": {
    "collapsed": false,
    "deletable": true,
    "editable": true
   },
   "outputs": [],
   "source": [
    "%timeit [lca.redo_lci({bw.Database('ecoinvent 2.2').random(): 1}) for _ in range(10)]"
   ]
  },
  {
   "cell_type": "markdown",
   "metadata": {
    "deletable": true,
    "editable": true
   },
   "source": [
    "Hmm... that wasn't as fast as I thought it would be. Let's figure out what takes the time."
   ]
  },
  {
   "cell_type": "code",
   "execution_count": null,
   "metadata": {
    "collapsed": false,
    "deletable": true,
    "editable": true
   },
   "outputs": [],
   "source": [
    "%prun [lca.redo_lci({bw.Database('ecoinvent 2.2').random(): 1}) for _ in range(10)]"
   ]
  },
  {
   "cell_type": "markdown",
   "metadata": {
    "deletable": true,
    "editable": true
   },
   "source": [
    "Half the time is spent on the database cursor. What if we move the database object creation out of the loop?"
   ]
  },
  {
   "cell_type": "code",
   "execution_count": null,
   "metadata": {
    "collapsed": true,
    "deletable": true,
    "editable": true
   },
   "outputs": [],
   "source": [
    "db = bw.Database('ecoinvent 2.2')"
   ]
  },
  {
   "cell_type": "code",
   "execution_count": null,
   "metadata": {
    "collapsed": false,
    "deletable": true,
    "editable": true
   },
   "outputs": [],
   "source": [
    "%timeit [lca.redo_lci({db.random(): 1}) for _ in range(10)]"
   ]
  },
  {
   "cell_type": "markdown",
   "metadata": {
    "deletable": true,
    "editable": true
   },
   "source": [
    "Maybe `random` in general is slow on my machine? What is we iterate through the database?"
   ]
  },
  {
   "cell_type": "code",
   "execution_count": null,
   "metadata": {
    "collapsed": true,
    "deletable": true,
    "editable": true
   },
   "outputs": [],
   "source": [
    "db = iter(bw.Database('ecoinvent 2.2'))"
   ]
  },
  {
   "cell_type": "code",
   "execution_count": null,
   "metadata": {
    "collapsed": false,
    "deletable": true,
    "editable": true
   },
   "outputs": [],
   "source": [
    "%timeit [lca.redo_lci({next(db): 1}) for _ in range(10)]"
   ]
  },
  {
   "cell_type": "markdown",
   "metadata": {
    "deletable": true,
    "editable": true
   },
   "source": [
    "## Speeding up matrix indexing\n",
    "\n",
    "Back to our original question - is there a way to speed up indexing? We are already using Cython; we know that using Cython correctly can make things much better, but it is hard to see what could be changed in the code - we are basically doing a dictionary lookup, and Python dictionaries are pretty quick.\n",
    "\n",
    "As we are using sparse matrices, what about just using the integer ids from `bw2data` directly, instead of trying to order everything to start from row or column zero? The sparse matrix bits would not care at all, but we do have dense components in the demand and supply arrays, and if we had a large number of elements in our project - say, 10 copies of ecoinvent - then we would lose time allocating and manipulating larger arrays, though this shouldn't be too much of a problem. We would also lose any real possiblity of entering dense matrix land.\n",
    "\n",
    "However, actually implementing this is rather complicated, and so we leave it as an idea for the future.\n",
    "\n",
    "## Speeding up multiple LCA calculations\n",
    "\n",
    "When doing multiple LCA calculations, we can consider the setup step as a fixed cost, and instead focus on the time needed for each calculation. The library that `bw2calc` uses for matrix calculations already has a number of optimizations, including storing information on the factorization of the technosphere matrix. We won't be developing a new linear algebra library, but there is still room to make faster or slower choices, as we will see in a simple example.\n",
    "\n",
    "### Example of multiple calculations for multiple LCIA methods"
   ]
  },
  {
   "cell_type": "code",
   "execution_count": null,
   "metadata": {
    "collapsed": false,
    "deletable": true,
    "editable": true
   },
   "outputs": [],
   "source": [
    "db = iter(bw.Database('ecoinvent 2.2'))\n",
    "activities = [next(db) for _ in range(10)]\n",
    "methods = [bw.methods.random() for _ in range(10)]"
   ]
  },
  {
   "cell_type": "markdown",
   "metadata": {
    "deletable": true,
    "editable": true
   },
   "source": [
    "A simple approach - a new LCA for each object"
   ]
  },
  {
   "cell_type": "code",
   "execution_count": null,
   "metadata": {
    "collapsed": false,
    "deletable": true,
    "editable": true
   },
   "outputs": [],
   "source": [
    "def multiples_one():\n",
    "    results = np.zeros((10, 10))\n",
    "\n",
    "    for row, method in enumerate(methods):\n",
    "        lca = bw.LCA({activities[0]: 1}, method)\n",
    "        lca.lci()\n",
    "        lca.lcia()\n",
    "\n",
    "        for col, act in enumerate(activities):\n",
    "            lca.redo_lcia({act: 1})\n",
    "            results[row, col] = lca.score\n",
    "\n",
    "    return results"
   ]
  },
  {
   "cell_type": "code",
   "execution_count": null,
   "metadata": {
    "collapsed": false,
    "deletable": true,
    "editable": true
   },
   "outputs": [],
   "source": [
    "%timeit multiples_one()"
   ]
  },
  {
   "cell_type": "code",
   "execution_count": null,
   "metadata": {
    "collapsed": false,
    "deletable": true,
    "editable": true
   },
   "outputs": [],
   "source": [
    "%snakeviz multiples_one()"
   ]
  },
  {
   "cell_type": "markdown",
   "metadata": {
    "deletable": true,
    "editable": true
   },
   "source": [
    "Our old friend the indexer is again eating up most of the time.\n",
    "\n",
    "Let's try to keep the LCA object and use the `switch_method` call."
   ]
  },
  {
   "cell_type": "code",
   "execution_count": null,
   "metadata": {
    "collapsed": false,
    "deletable": true,
    "editable": true
   },
   "outputs": [],
   "source": [
    "def multiples_two():\n",
    "    results = np.zeros((10, 10))\n",
    "\n",
    "    lca = bw.LCA({activities[0]: 1}, methods[0])\n",
    "    lca.lci()\n",
    "    lca.lcia()\n",
    "\n",
    "    for row, method in enumerate(methods):\n",
    "        lca.switch_method(method)\n",
    "        for col, act in enumerate(activities):\n",
    "            lca.redo_lcia({act: 1})\n",
    "            results[row, col] = lca.score\n",
    "\n",
    "    return results"
   ]
  },
  {
   "cell_type": "code",
   "execution_count": null,
   "metadata": {
    "collapsed": false,
    "deletable": true,
    "editable": true
   },
   "outputs": [],
   "source": [
    "%timeit multiples_two()"
   ]
  },
  {
   "cell_type": "markdown",
   "metadata": {
    "deletable": true,
    "editable": true
   },
   "source": [
    "## Choice of Monte Carlo solver"
   ]
  },
  {
   "cell_type": "code",
   "execution_count": null,
   "metadata": {
    "collapsed": false,
    "deletable": true,
    "editable": true
   },
   "outputs": [],
   "source": [
    "from bw2calc.monte_carlo import DirectSolvingMonteCarloLCA, MonteCarloLCA"
   ]
  },
  {
   "cell_type": "code",
   "execution_count": null,
   "metadata": {
    "collapsed": false,
    "deletable": true,
    "editable": true
   },
   "outputs": [],
   "source": [
    "def iterative_mc():\n",
    "    lca = MonteCarloLCA({activities[0]: 1}, methods[0])\n",
    "    lca.load_data()\n",
    "\n",
    "    results = np.zeros((10, 10))\n",
    "\n",
    "    for row, act in enumerate(activities):\n",
    "        lca.build_demand_array({act: 1})\n",
    "        for col in range(10):\n",
    "            results[row, col] = next(lca)\n",
    "\n",
    "    return results"
   ]
  },
  {
   "cell_type": "code",
   "execution_count": null,
   "metadata": {
    "collapsed": false,
    "deletable": true,
    "editable": true
   },
   "outputs": [],
   "source": [
    "%timeit iterative_mc()"
   ]
  },
  {
   "cell_type": "code",
   "execution_count": null,
   "metadata": {
    "collapsed": false,
    "deletable": true,
    "editable": true
   },
   "outputs": [],
   "source": [
    "def direct_mc():\n",
    "    lca = DirectSolvingMonteCarloLCA({activities[0]: 1}, methods[0])\n",
    "    lca.load_data()\n",
    "\n",
    "    results = np.zeros((10, 10))\n",
    "\n",
    "    for row, act in enumerate(activities):\n",
    "        lca.build_demand_array({act: 1})\n",
    "        for col in range(10):\n",
    "            results[row, col] = next(lca)\n",
    "\n",
    "    return results"
   ]
  },
  {
   "cell_type": "code",
   "execution_count": null,
   "metadata": {
    "collapsed": false,
    "deletable": true,
    "editable": true
   },
   "outputs": [],
   "source": [
    "%timeit direct_mc()"
   ]
  },
  {
   "cell_type": "markdown",
   "metadata": {
    "deletable": true,
    "editable": true
   },
   "source": [
    "## Interacting with the database\n",
    "\n",
    "You have already seen that there are multiple levels of \"stuff\" in between what you type and the actual database. If you are using the default backend, then you would construct an `Activity` or an `Exchange` object:"
   ]
  },
  {
   "cell_type": "code",
   "execution_count": null,
   "metadata": {
    "collapsed": false,
    "deletable": true,
    "editable": true
   },
   "outputs": [],
   "source": [
    "db = bw.Database(\"ecoinvent 2.2\")"
   ]
  },
  {
   "cell_type": "code",
   "execution_count": null,
   "metadata": {
    "collapsed": false,
    "deletable": true,
    "editable": true
   },
   "outputs": [],
   "source": [
    "activity = db.random()\n",
    "type(activity)"
   ]
  },
  {
   "cell_type": "markdown",
   "metadata": {
    "deletable": true,
    "editable": true
   },
   "source": [
    "A Brightway `Activity` is an object defined in `bw2data`, and has a number of useful methods. However, it can't make changes directly to the database - for that, we use an object `ActivityDataset` that is based on the TODO[peewee ORM library](). Here is the code:\n",
    "\n",
    "    class ActivityDataset(Model):\n",
    "        data = PickleField()             # Canonical, except for other C fields\n",
    "        code = TextField()               # Canonical\n",
    "        database = TextField()           # Canonical\n",
    "        location = TextField(null=True)  # Reset from `data`\n",
    "        name = TextField(null=True)      # Reset from `data`\n",
    "        product = TextField(null=True)   # Reset from `data`\n",
    "        type = TextField(null=True)      # Reset from `data`\n"
   ]
  },
  {
   "cell_type": "code",
   "execution_count": null,
   "metadata": {
    "collapsed": false,
    "deletable": true,
    "editable": true
   },
   "outputs": [],
   "source": [
    "ad = activity._document\n",
    "ad, activity"
   ]
  },
  {
   "cell_type": "markdown",
   "metadata": {
    "deletable": true,
    "editable": true
   },
   "source": [
    "We can import these `ActivityDatasets` if we want to manipuate them:"
   ]
  },
  {
   "cell_type": "code",
   "execution_count": null,
   "metadata": {
    "collapsed": false,
    "deletable": true,
    "editable": true
   },
   "outputs": [],
   "source": [
    "from bw2data.backends.peewee.schema import ActivityDataset, ExchangeDataset"
   ]
  },
  {
   "cell_type": "markdown",
   "metadata": {
    "deletable": true,
    "editable": true
   },
   "source": [
    "Any time you want to interact with the database, i.e. by saving, loading, or deleting data, you have to write all data from `Activity._data` to `Activity._document`, which in turn will need to process the data needed to generate a SQL statement like this:\n",
    "\n",
    "     SELECT \"code\" FROM ActivityDataset WHERE \"database\" = 'ecoinvent' ORDER BY random() LIMIT 1;\n",
    "     \n",
    "We can manipulate data on three levels:\n",
    "\n",
    "* Using our normal `Activity` and `Exchange` methods: Normally fast enough, but not fast\n",
    "* Using `ActivityDataset` and `ExchangeDataset`: Faster\n",
    "* Writing raw SQL: Much faster, but can't manipulate data in `PickleFields`.\n",
    "\n",
    "Let's make a copy of ecoinvent that we can break. We want to test how fast we can change data:"
   ]
  },
  {
   "cell_type": "code",
   "execution_count": null,
   "metadata": {
    "collapsed": false,
    "deletable": true,
    "editable": true
   },
   "outputs": [],
   "source": [
    "db.copy(\"ecoinvent 2.2\")"
   ]
  },
  {
   "cell_type": "markdown",
   "metadata": {
    "deletable": true,
    "editable": true
   },
   "source": [
    "Let's first time how long it takes to half all exchanges for 100 datasets using our normal proxies:"
   ]
  },
  {
   "cell_type": "code",
   "execution_count": null,
   "metadata": {
    "collapsed": false,
    "deletable": true,
    "editable": true
   },
   "outputs": [],
   "source": [
    "from time import time"
   ]
  },
  {
   "cell_type": "code",
   "execution_count": null,
   "metadata": {
    "collapsed": false,
    "deletable": true,
    "editable": true
   },
   "outputs": [],
   "source": [
    "start = time()\n",
    "\n",
    "for i, act in enumerate(bw.Database(\"ecoinvent 2.2\")):\n",
    "    if i >= 100:\n",
    "        break\n",
    "        \n",
    "    for exchange in act.exchanges():\n",
    "        exchange['amount'] = exchange['amount'] / 2\n",
    "        exchange.save()\n",
    "        \n",
    "print((time() - start) / 60)"
   ]
  },
  {
   "cell_type": "markdown",
   "metadata": {
    "deletable": true,
    "editable": true
   },
   "source": [
    "Now with the Peewee models:"
   ]
  },
  {
   "cell_type": "code",
   "execution_count": null,
   "metadata": {
    "collapsed": false,
    "deletable": true,
    "editable": true
   },
   "outputs": [],
   "source": [
    "start = time()\n",
    "\n",
    "codes = ActivityDataset.select(ActivityDataset.code).where(\n",
    "    ActivityDataset.database == 'ecoinvent 2.2').limit(100)\n",
    "\n",
    "qs = ExchangeDataset.select().where(\n",
    "    (ExchangeDataset.input_database == 'ecoinvent 2.2') & \n",
    "    (ExchangeDataset.input_code << codes)\n",
    ")\n",
    "\n",
    "for ds in qs:\n",
    "    ds.data['amount'] = ds.data['amount'] * 0.5\n",
    "    ds.save()\n",
    "    \n",
    "print((time() - start) / 60)"
   ]
  },
  {
   "cell_type": "markdown",
   "metadata": {
    "deletable": true,
    "editable": true
   },
   "source": [
    "This is 3 times faster, but took me at least 3 times as long to write. Note that we **can't even do** this operation in raw SQL, as the `amount` field is stored in a Python pickle (binary data). However, we can do another destructive operation that shows how fast raw SQL can be:"
   ]
  },
  {
   "cell_type": "code",
   "execution_count": null,
   "metadata": {
    "collapsed": false,
    "deletable": true,
    "editable": true
   },
   "outputs": [],
   "source": [
    "import sqlite3\n",
    "from bw2data.backends.peewee import sqlite3_lci_db"
   ]
  },
  {
   "cell_type": "code",
   "execution_count": null,
   "metadata": {
    "collapsed": false,
    "deletable": true,
    "editable": true
   },
   "outputs": [],
   "source": [
    "def change_locations_plain():\n",
    "    for i, act in enumerate(bw.Database(\"ecoinvent 2.2\")):\n",
    "        if i >= 500:\n",
    "            return\n",
    "        act['location'] = 'plain brightway'\n",
    "        act.save()\n",
    "\n",
    "def change_locations_peewee():\n",
    "    ActivityDataset.update(location = 'peewee').where(\n",
    "        (ActivityDataset.database == 'ecoinvent 2.2') & \n",
    "        (ActivityDataset.select(ActivityDataset.code).where(ActivityDataset.database == 'ecoinvent 2.2').limit(500))\n",
    "    ).execute()\n",
    "\n",
    "def change_locations_sql():\n",
    "    STATEMENT = \"\"\"\n",
    "UPDATE ActivityDataset \n",
    "SET \"location\" = 'SQL' \n",
    "WHERE \"id\" IN (\n",
    "    SELECT \"id\" from ActivityDataset\n",
    "    WHERE \"database\" = 'ecoinvent 2.2'\n",
    "    LIMIT 500\n",
    ")\"\"\"\n",
    "\n",
    "    with sqlite3.connect(sqlite3_lci_db.database) as conn:\n",
    "        conn.execute(STATEMENT)"
   ]
  },
  {
   "cell_type": "code",
   "execution_count": null,
   "metadata": {
    "collapsed": false,
    "deletable": true,
    "editable": true
   },
   "outputs": [],
   "source": [
    "%time change_locations_plain()"
   ]
  },
  {
   "cell_type": "markdown",
   "metadata": {
    "deletable": true,
    "editable": true
   },
   "source": [
    "In addition to the Python mechanics, this operation is slow because each statement runs in a separate transaction, which also means the database indices are updated 500 times."
   ]
  },
  {
   "cell_type": "code",
   "execution_count": null,
   "metadata": {
    "collapsed": false,
    "deletable": true,
    "editable": true
   },
   "outputs": [],
   "source": [
    "%time change_locations_peewee()"
   ]
  },
  {
   "cell_type": "code",
   "execution_count": null,
   "metadata": {
    "collapsed": false,
    "deletable": true,
    "editable": true
   },
   "outputs": [],
   "source": [
    "%time change_locations_sql()"
   ]
  },
  {
   "cell_type": "code",
   "execution_count": null,
   "metadata": {
    "collapsed": true,
    "deletable": true,
    "editable": true
   },
   "outputs": [],
   "source": []
  }
 ],
 "metadata": {
  "kernelspec": {
   "display_name": "Python 3",
   "language": "python",
   "name": "python3"
  },
  "language_info": {
   "codemirror_mode": {
    "name": "ipython",
    "version": 3
   },
   "file_extension": ".py",
   "mimetype": "text/x-python",
   "name": "python",
   "nbconvert_exporter": "python",
   "pygments_lexer": "ipython3",
   "version": "3.6.1"
  },
  "toc": {
   "colors": {
    "hover_highlight": "#DAA520",
    "running_highlight": "#FF0000",
    "selected_highlight": "#FFD700"
   },
   "moveMenuLeft": true,
   "nav_menu": {
    "height": "190px",
    "width": "252px"
   },
   "navigate_menu": true,
   "number_sections": true,
   "sideBar": true,
   "threshold": 4,
   "toc_cell": false,
   "toc_section_display": "block",
   "toc_window_display": false,
   "widenNotebook": false
  }
 },
 "nbformat": 4,
 "nbformat_minor": 2
}
