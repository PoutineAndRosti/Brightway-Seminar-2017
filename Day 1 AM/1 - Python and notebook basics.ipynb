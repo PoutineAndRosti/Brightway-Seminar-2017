{
 "cells": [
  {
   "cell_type": "markdown",
   "metadata": {
    "deletable": true,
    "editable": true
   },
   "source": [
    "# Hi\n",
    "\n",
    "This is a Jupyter notebook. There are a number of projects like Jupyter, and they dive some pretty amazing power to do what Donald Knuth called [literate programming](https://en.wikipedia.org/wiki/Literate_programming).\n",
    "\n",
    "Jupyter notebooks can have code, text, images, and lots of fun other stuff. For example, here is a giant ball of stuff:\n",
    "\n",
    "![Complicated](https://chris.mutel.org/static/images/ecoinvent-small.png)\n",
    "\n",
    "This cell is in markdown, a text formatting language. [Here is a Markdown cheat sheet](https://github.com/adam-p/markdown-here/wiki/Markdown-Cheatsheet). \n",
    "\n",
    "Each cell can have it own formatting; you can change formatting with keyboard shortcuts or by selecting a format in the bar above.\n",
    "\n",
    "You can move up and down cells with the arrow keys. Hit <return> to edit a cell (or double-click the cell). In edit mode, the cell highlighting will change from blue to green. Edit this cell and add some text here:\n",
    "\n",
    "## Change me!\n",
    "\n",
    "Hit <esc> to exit edit mode."
   ]
  },
  {
   "cell_type": "markdown",
   "metadata": {},
   "source": [
    "# Keyboard shortcuts\n",
    "\n",
    "While in command mode (not in edit mode), click on `Help > Keyboard Shortcuts` to get an overview of the keyboard shortcuts. You can also find a quick `User Interface Tour` in the `Help` menu."
   ]
  },
  {
   "cell_type": "markdown",
   "metadata": {},
   "source": [
    "# Executing cells\n",
    "\n",
    "Executing a markdown cell will format the text; executing a Python will run the Python code. Use <shift + enter> to execute a single cell. Use the `Cell` menu to run multiple cells at once.\n",
    "\n",
    "You can also interrupt or restart a cell's execution. For example the following cell will never finish; you will have to interrupt or restart the kernel to stop it.\n",
    "\n",
    "*Exercise*: Run the following cell, and then interrupt it."
   ]
  },
  {
   "cell_type": "code",
   "execution_count": null,
   "metadata": {
    "collapsed": false
   },
   "outputs": [],
   "source": [
    "import time\n",
    "\n",
    "LINES = [\n",
    "    \"It just goes on and on my friends\",\n",
    "    \"Some people started singing it, not knowing what it was\",\n",
    "    \"And they'll continue singing it forever just because\",\n",
    "    \"This is the song that never ends...\\n\",\n",
    "]\n",
    "\n",
    "while True:\n",
    "    for line in LINES:\n",
    "        print(line)\n",
    "        time.sleep(0.5)"
   ]
  },
  {
   "cell_type": "markdown",
   "metadata": {},
   "source": [
    "# Clear cell outputs\n",
    "\n",
    "Use the menu item `Cell > Current Outputs` or `Cell > All Output` to clear noisy cell output.\n",
    "\n",
    "# Extensions\n",
    "\n",
    "We will look at this together.\n",
    "\n",
    "# More on Jupyter notebooks\n",
    "\n",
    "There is a lot more cool stuff about Jupyter notebooks, and more is being added every day!"
   ]
  },
  {
   "cell_type": "markdown",
   "metadata": {},
   "source": [
    "# Python\n",
    "\n",
    "Here are some basic data types in Python"
   ]
  },
  {
   "cell_type": "code",
   "execution_count": 6,
   "metadata": {
    "collapsed": false
   },
   "outputs": [
    {
     "data": {
      "text/plain": [
       "[int, float, str, bytes]"
      ]
     },
     "execution_count": 6,
     "metadata": {},
     "output_type": "execute_result"
    }
   ],
   "source": [
    "# Integers\n",
    "a = 1\n",
    "\n",
    "# Floating point numbers\n",
    "b = 3.1415926535897926433\n",
    "\n",
    "# Strings\n",
    "c = \"And she was like '🙈', and I was like '👽!'\"\n",
    "\n",
    "# Bytes\n",
    "d = b'\\xc3\\xa9\\xe0\\xaf\\xb2\\xe0\\xbe\\x84\\xe1\\x9d\\xb0\\xe3\\x8e\\xaf'\n",
    "\n",
    "# List\n",
    "e = [a, b, c, d]\n",
    "\n",
    "# Tuple\n",
    "f = (a, b, c, d)\n",
    "\n",
    "#List comprehenshion (makes a list)\n",
    "[type(x) for x in e]"
   ]
  },
  {
   "cell_type": "markdown",
   "metadata": {},
   "source": [
    "Strings and tuples are immutable - they can't be changed, only replaced."
   ]
  },
  {
   "cell_type": "code",
   "execution_count": null,
   "metadata": {
    "collapsed": true
   },
   "outputs": [],
   "source": [
    "a = \"1\"\n",
    "print(id(a))\n",
    "a += \"2\"\n",
    "print(id(a))"
   ]
  },
  {
   "cell_type": "markdown",
   "metadata": {},
   "source": [
    "Contrast with lists:"
   ]
  },
  {
   "cell_type": "code",
   "execution_count": 13,
   "metadata": {
    "collapsed": false
   },
   "outputs": [
    {
     "name": "stdout",
     "output_type": "stream",
     "text": [
      "4372756744\n",
      "4372756744\n"
     ]
    }
   ],
   "source": [
    "print(id(e))\n",
    "e.append(42)\n",
    "print(id(e))"
   ]
  },
  {
   "cell_type": "markdown",
   "metadata": {},
   "source": [
    "Both lists and tuples can indexed, but only lists can have values replaced by index"
   ]
  },
  {
   "cell_type": "code",
   "execution_count": 8,
   "metadata": {
    "collapsed": false
   },
   "outputs": [
    {
     "ename": "TypeError",
     "evalue": "'tuple' object does not support item assignment",
     "output_type": "error",
     "traceback": [
      "\u001b[0;31m---------------------------------------------------------------------------\u001b[0m",
      "\u001b[0;31mTypeError\u001b[0m                                 Traceback (most recent call last)",
      "\u001b[0;32m<ipython-input-8-7aadb01fe846>\u001b[0m in \u001b[0;36m<module>\u001b[0;34m()\u001b[0m\n\u001b[1;32m      1\u001b[0m \u001b[0me\u001b[0m\u001b[0;34m[\u001b[0m\u001b[0;36m0\u001b[0m\u001b[0;34m]\u001b[0m \u001b[0;34m=\u001b[0m \u001b[0;36m1\u001b[0m\u001b[0;34m\u001b[0m\u001b[0m\n\u001b[0;32m----> 2\u001b[0;31m \u001b[0mf\u001b[0m\u001b[0;34m[\u001b[0m\u001b[0;36m0\u001b[0m\u001b[0;34m]\u001b[0m \u001b[0;34m=\u001b[0m \u001b[0;36m1\u001b[0m\u001b[0;34m\u001b[0m\u001b[0m\n\u001b[0m",
      "\u001b[0;31mTypeError\u001b[0m: 'tuple' object does not support item assignment"
     ]
    }
   ],
   "source": [
    "e[0] = 1\n",
    "f[0] = 1"
   ]
  },
  {
   "cell_type": "markdown",
   "metadata": {},
   "source": [
    "Immutability is important, because it is a guarantee that the contents can't change.\n",
    "\n",
    "Python also has sets and dictionaries (hash tables)."
   ]
  },
  {
   "cell_type": "code",
   "execution_count": 10,
   "metadata": {
    "collapsed": false
   },
   "outputs": [
    {
     "data": {
      "text/plain": [
       "(set, dict)"
      ]
     },
     "execution_count": 10,
     "metadata": {},
     "output_type": "execute_result"
    }
   ],
   "source": [
    "# Set\n",
    "g = {0, 1, 2}\n",
    "\n",
    "# Dictionary\n",
    "h = {1: 2, \"foo\": \"bar\"}\n",
    "\n",
    "type(g), type(h)"
   ]
  },
  {
   "cell_type": "markdown",
   "metadata": {},
   "source": [
    "You can retrieve dictionary values by using their keys:"
   ]
  },
  {
   "cell_type": "code",
   "execution_count": null,
   "metadata": {
    "collapsed": true
   },
   "outputs": [],
   "source": [
    "print(h[1])\n",
    "h['Nope']"
   ]
  },
  {
   "cell_type": "markdown",
   "metadata": {},
   "source": [
    "You can also iterate over dictionaries:"
   ]
  },
  {
   "cell_type": "code",
   "execution_count": 12,
   "metadata": {
    "collapsed": false
   },
   "outputs": [
    {
     "name": "stdout",
     "output_type": "stream",
     "text": [
      "1 <class 'int'>\n",
      "foo <class 'str'>\n"
     ]
    }
   ],
   "source": [
    "for key in h:\n",
    "    print(key, type(key))"
   ]
  },
  {
   "cell_type": "markdown",
   "metadata": {},
   "source": [
    "You can also do set and dictionary comprehensions"
   ]
  },
  {
   "cell_type": "code",
   "execution_count": 15,
   "metadata": {
    "collapsed": false
   },
   "outputs": [
    {
     "data": {
      "text/plain": [
       "({'a', 'b', 'c', 'd'}, {1: 2, 'foo': 'bar'})"
      ]
     },
     "execution_count": 15,
     "metadata": {},
     "output_type": "execute_result"
    }
   ],
   "source": [
    "{x for x in 'abcd'}, {x: y for x, y in [(1, 2), ('foo', 'bar')]}"
   ]
  },
  {
   "cell_type": "markdown",
   "metadata": {},
   "source": [
    "# Functions\n",
    "\n",
    "Define functions with `def`. Functions should return something; otherwise they return `None`."
   ]
  },
  {
   "cell_type": "code",
   "execution_count": 16,
   "metadata": {
    "collapsed": false
   },
   "outputs": [
    {
     "data": {
      "text/plain": [
       "('something', None)"
      ]
     },
     "execution_count": 16,
     "metadata": {},
     "output_type": "execute_result"
    }
   ],
   "source": [
    "def foo():\n",
    "    return \"something\"\n",
    "\n",
    "def bar():\n",
    "    pass\n",
    "\n",
    "foo(), bar()"
   ]
  },
  {
   "cell_type": "markdown",
   "metadata": {},
   "source": [
    "Functions can take arguments:"
   ]
  },
  {
   "cell_type": "code",
   "execution_count": 17,
   "metadata": {
    "collapsed": false
   },
   "outputs": [
    {
     "data": {
      "text/plain": [
       "'WoooWooo'"
      ]
     },
     "execution_count": 17,
     "metadata": {},
     "output_type": "execute_result"
    }
   ],
   "source": [
    "def foo(arg):\n",
    "    return arg * 2\n",
    "\n",
    "foo(\"Wooo\")"
   ]
  },
  {
   "cell_type": "markdown",
   "metadata": {},
   "source": [
    "They can also take optional arguments:"
   ]
  },
  {
   "cell_type": "code",
   "execution_count": 18,
   "metadata": {
    "collapsed": false
   },
   "outputs": [
    {
     "name": "stdout",
     "output_type": "stream",
     "text": [
      "(1, 2)\n",
      "{'this': 'that'}\n"
     ]
    }
   ],
   "source": [
    "def foo(*args, **kwargs):\n",
    "    print(args)\n",
    "    print(kwargs)\n",
    "\n",
    "foo(1, 2, this='that')"
   ]
  },
  {
   "cell_type": "markdown",
   "metadata": {},
   "source": [
    "Of course, there is a lot more to learn, these are only the basics..."
   ]
  }
 ],
 "metadata": {
  "kernelspec": {
   "display_name": "Python 3",
   "language": "python",
   "name": "python3"
  },
  "language_info": {
   "codemirror_mode": {
    "name": "ipython",
    "version": 3
   },
   "file_extension": ".py",
   "mimetype": "text/x-python",
   "name": "python",
   "nbconvert_exporter": "python",
   "pygments_lexer": "ipython3",
   "version": "3.6.0"
  }
 },
 "nbformat": 4,
 "nbformat_minor": 2
}
