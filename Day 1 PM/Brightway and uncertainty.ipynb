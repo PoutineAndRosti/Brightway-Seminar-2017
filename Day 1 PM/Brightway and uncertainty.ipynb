{
 "cells": [
  {
   "cell_type": "markdown",
   "metadata": {},
   "source": [
    "# Brightway2 seminar\n",
    "Chris Mutel ([PSI](https://www.psi.ch/)), Pascal Lesage ([CIRAIG](http://www.ciraig.org/en/))"
   ]
  },
  {
   "cell_type": "markdown",
   "metadata": {},
   "source": [
    "## Day 1, afternoon\n",
    "### Session on uncertainty in Brightway"
   ]
  },
  {
   "cell_type": "markdown",
   "metadata": {},
   "source": [
    "### Learning objectives  \n",
    "  - Learn how uncertainty is represented in exchanges  \n",
    "  - Learn how to carry out a MonteCarloLCA  "
   ]
  },
  {
   "cell_type": "markdown",
   "metadata": {},
   "source": [
    "Standard inputs"
   ]
  },
  {
   "cell_type": "code",
   "execution_count": 1,
   "metadata": {
    "collapsed": true
   },
   "outputs": [],
   "source": [
    "import brightway2 as bw\n",
    "import numpy as np"
   ]
  },
  {
   "cell_type": "markdown",
   "metadata": {},
   "source": [
    "Open the seminar project:"
   ]
  },
  {
   "cell_type": "code",
   "execution_count": 2,
   "metadata": {
    "collapsed": false
   },
   "outputs": [],
   "source": [
    "bw.projects.set_current('bw2_seminar_2017')"
   ]
  },
  {
   "cell_type": "markdown",
   "metadata": {},
   "source": [
    "### 1) Uncertainty information in Brightway exchanges"
   ]
  },
  {
   "cell_type": "markdown",
   "metadata": {},
   "source": [
    "Uncertainty is stored at the level of the exchanges.  \n",
    "\n",
    "**Sample exchange from ecoinvent v3.3 (`lognormal`**)   \n",
    "Let's look at a random exchange from ecoinvent 3.3, from which we removed some fields that were not necessary for the purpose of discussing uncertainty :"
   ]
  },
  {
   "cell_type": "code",
   "execution_count": 3,
   "metadata": {
    "collapsed": false
   },
   "outputs": [],
   "source": [
    "some_exc_from_ecoinvent = {'name': 'ethylene, average',\n",
    "                           'type': 'technosphere',\n",
    "                           'amount': 0.23244,\n",
    "                           'unit': 'kilogram',\n",
    "                           'input': ('ecoinvent 3.3 cutoff', '14db59eea64e46a1e8332973f714a3ef'),\n",
    "                           'output': ('ecoinvent 3.3 cutoff', 'df875d1e65cd48bc1ac69b960e172e85'),\n",
    "                           'uncertainty type': 2,\n",
    "                           'loc': -1.459123151775232,\n",
    "                           'scale without pedigree': 0.1414213562373095,\n",
    "                           'scale': 0.2,\n",
    "                           'pedigree': {\n",
    "                               'completeness': 5,\n",
    "                               'further technological correlation': 1,\n",
    "                               'geographical correlation': 5,\n",
    "                               'reliability': 4,\n",
    "                               'temporal correlation': 3\n",
    "                           }\n",
    "                          }"
   ]
  },
  {
   "cell_type": "markdown",
   "metadata": {},
   "source": [
    "In this *specific* case, the *necessary* uncertainty of the exchange are described in the following fields:  \n",
    "  - **'uncertainty type'** : type of probability distribution function that the exchange follows. In this case, the exchange has an uncertainty type = 2, indicating it is a `lognormal`  distribution.  \n",
    "  - **'loc', 'scale'**: parameters of the lognormal distribution function, which are respectively the mean $\\mu$ and the standard deviation $\\sigma$ of the underlying normal distribution (more on this later).  \n",
    "  \n",
    "Other probability distributions functions (e.g. normal, triangular, etc.) can also be modelled, and will each have their own specific paramters (more on this later). \n",
    "\n",
    "Some *additional* uncertainty related information ('scale without pedigree', 'pedigree') are also there, but are not directly used in the calculation of the uncertainty. They are also specific to ecoinvent. "
   ]
  },
  {
   "cell_type": "markdown",
   "metadata": {},
   "source": [
    "Uncertainty in Brightway is dealt with using a Python package called `stats_arrays` (see [here](http://stats-arrays.readthedocs.io/en/latest/)), developed by Chris Mutel in the context of the development of Brightway but applicable to any stochastic model in Python. Let's import it. "
   ]
  },
  {
   "cell_type": "code",
   "execution_count": 4,
   "metadata": {
    "collapsed": true
   },
   "outputs": [],
   "source": [
    "import stats_arrays"
   ]
  },
  {
   "cell_type": "markdown",
   "metadata": {},
   "source": [
    "Before delving into the details of ` stats_arrays`, let's have a quick look at the uncertainty information above. \n",
    "As a reminder:   \n",
    "  - a random variable $X$ is a lognormal if its natural logarithm $ln(X)$ is normally distributed  \n",
    "  - the natural logarithm of the *median* of the lognormal distribution is equal to the median (=mean) of the underlying distribution  \n",
    "\n",
    "Taking the deterministic amount `amount` to be the median, we should have `loc` = `ln('amount')`. "
   ]
  },
  {
   "cell_type": "code",
   "execution_count": 5,
   "metadata": {
    "collapsed": false
   },
   "outputs": [
    {
     "data": {
      "text/plain": [
       "True"
      ]
     },
     "execution_count": 5,
     "metadata": {},
     "output_type": "execute_result"
    }
   ],
   "source": [
    "some_exc_from_ecoinvent['loc'] == np.log(some_exc_from_ecoinvent['amount'])"
   ]
  },
  {
   "cell_type": "markdown",
   "metadata": {},
   "source": [
    "The link between the geometric standard deviation ($GSD$) of $X$ and the standard deviation of $ln(X)$ ($/mu$) is:  $GSD=e^{\\mu}$. The $GSD^2$ og the sample exchange above is therefore:"
   ]
  },
  {
   "cell_type": "code",
   "execution_count": 6,
   "metadata": {
    "collapsed": false
   },
   "outputs": [
    {
     "data": {
      "text/plain": [
       "1.4918246976412703"
      ]
     },
     "execution_count": 6,
     "metadata": {},
     "output_type": "execute_result"
    }
   ],
   "source": [
    "GSD2 = np.exp(some_exc_from_ecoinvent['scale'])**2\n",
    "GSD2"
   ]
  },
  {
   "cell_type": "markdown",
   "metadata": {},
   "source": [
    "Approximately 95% of the values for the lognormally distributed parameter $X$ are between $median/GSD^2$ and $median*GSD^2$. In the example:  "
   ]
  },
  {
   "cell_type": "code",
   "execution_count": 7,
   "metadata": {
    "collapsed": false
   },
   "outputs": [
    {
     "name": "stdout",
     "output_type": "stream",
     "text": [
      "Approx. 95% of the values are in the range [0.155809191500524, 0.34675973271973687]\n"
     ]
    }
   ],
   "source": [
    "print(\"Approx. 95% of the values are in the range [{}, {}]\".format(some_exc_from_ecoinvent['amount']/GSD2, some_exc_from_ecoinvent['amount']*GSD2))"
   ]
  },
  {
   "cell_type": "markdown",
   "metadata": {},
   "source": [
    "In a Monte Carlo simulation, we would want to sample a large number of values for many random variables and recalculate results using these randomly sampled values. This is where `stats_arrays` comes in.  "
   ]
  },
  {
   "cell_type": "markdown",
   "metadata": {},
   "source": [
    "The `stats_arrays` methods requires parameter arrays for the random variables. These parameter arrays contain exactly seven paramters per random variable, and are stored as a Numpy structured array. These seven parameters are:  \n",
    " - 'loc' (first shape parameter of the distribution, related to the central tendency  \n",
    " - 'scale' (second shape parameter, related to the dispersion of the paramter)  \n",
    " - 'shape' (third shape parameter, related to the dispersion's skewness)  \n",
    " - 'minimum' (lower limit to the values that can be sampled. This can be a core parameter of the distribution (e.g. for the uniform distribution) of an optional parameter (e.g. for normal distributions for which negatove values are excluded).  \n",
    " - 'maximum' (upper limit to the values that can be sampled - see 'minimum'.  \n",
    " - 'negative' (an indication of whether the random variable is negative. useful for generating e.g. \"negative lognormals\".\n",
    " - 'uncertainty_type' Type of uncertainty (normal, lognormal, triangular, etc.)  \n",
    "\n",
    "The following table, taken from [here](http://stats-arrays.readthedocs.io/en/latest/), that states which paramters are required, which are optional and which are not relevant for the distribution functions explicitly modeled now in `stats_arrays`  \n",
    "<img src=\"images/stats_arrays_table.JPG\">"
   ]
  },
  {
   "cell_type": "markdown",
   "metadata": {},
   "source": [
    "One can create a stats array using the class method `stats_arrays.UncertaintyBase.from_dicts' "
   ]
  },
  {
   "cell_type": "code",
   "execution_count": 8,
   "metadata": {
    "collapsed": false
   },
   "outputs": [
    {
     "data": {
      "text/plain": [
       "array([(-1.459123151775232, 0.2, nan, nan, nan, False, 2),\n",
       "       (2.0, 0.5, nan, nan, nan, False, 3),\n",
       "       (1.5, nan, nan, 0.0, 10.0, False, 5)], \n",
       "      dtype=[('loc', '<f8'), ('scale', '<f8'), ('shape', '<f8'), ('minimum', '<f8'), ('maximum', '<f8'), ('negative', '?'), ('uncertainty_type', 'u1')])"
      ]
     },
     "execution_count": 8,
     "metadata": {},
     "output_type": "execute_result"
    }
   ],
   "source": [
    "# Creating a stats array for three random variables. \n",
    "my_uncertain_variables = stats_arrays.UncertaintyBase.from_dicts(\n",
    "    {'loc': some_exc_from_ecoinvent['loc'], \n",
    "     'scale': some_exc_from_ecoinvent['scale'], \n",
    "     'uncertainty_type': some_exc_from_ecoinvent['uncertainty type']},\n",
    "    {'loc': 2, 'scale': 0.5, 'uncertainty_type': stats_arrays.NormalUncertainty.id},\n",
    "    {'loc': 1.5, 'minimum': 0, 'maximum': 10, 'uncertainty_type': stats_arrays.TriangularUncertainty.id}\n",
    ")\n",
    "my_uncertain_variables"
   ]
  },
  {
   "cell_type": "markdown",
   "metadata": {},
   "source": [
    "One can then use the `stats_arrays.MCRandomNumberGenerator` to generate samples for the differnt variables, which is a generator for which we can use the `next` command:"
   ]
  },
  {
   "cell_type": "code",
   "execution_count": 9,
   "metadata": {
    "collapsed": true
   },
   "outputs": [],
   "source": [
    "my_rng = stats_arrays.MCRandomNumberGenerator(my_uncertain_variables)"
   ]
  },
  {
   "cell_type": "code",
   "execution_count": 10,
   "metadata": {
    "collapsed": false
   },
   "outputs": [
    {
     "data": {
      "text/plain": [
       "array([ 0.14446922,  3.0110584 ,  2.47628226])"
      ]
     },
     "execution_count": 10,
     "metadata": {},
     "output_type": "execute_result"
    }
   ],
   "source": [
    "# Using `next`:\n",
    "next(my_rng)"
   ]
  },
  {
   "cell_type": "code",
   "execution_count": 14,
   "metadata": {
    "collapsed": false
   },
   "outputs": [
    {
     "data": {
      "text/plain": [
       "array([[ 0.2013928 ,  1.77508965,  1.45560065],\n",
       "       [ 0.26307623,  1.59809165,  2.64335433],\n",
       "       [ 0.21434987,  2.59653097,  0.36204553],\n",
       "       [ 0.20059211,  2.24207089,  4.27351492],\n",
       "       [ 0.27247172,  1.32120266,  6.42717852],\n",
       "       [ 0.2223453 ,  2.26313795,  4.02522667],\n",
       "       [ 0.27595694,  2.11118213,  2.3128555 ],\n",
       "       [ 0.17926146,  2.29801956,  5.13987679],\n",
       "       [ 0.2030141 ,  2.59825691,  1.79198025],\n",
       "       [ 0.2030141 ,  2.59825691,  1.79198025]])"
      ]
     },
     "execution_count": 14,
     "metadata": {},
     "output_type": "execute_result"
    }
   ],
   "source": [
    "# Using `next` in a loop:\n",
    "np.array([my_rng.next() for _ in range(10)])"
   ]
  },
  {
   "cell_type": "markdown",
   "metadata": {},
   "source": [
    "## 2) Monte Carlo calculations in Brightway"
   ]
  },
  {
   "cell_type": "markdown",
   "metadata": {},
   "source": [
    "### General syntax"
   ]
  },
  {
   "cell_type": "code",
   "execution_count": 15,
   "metadata": {
    "collapsed": false
   },
   "outputs": [
    {
     "data": {
      "text/plain": [
       "'disposal, polystyrene, 0.2% water, to sanitary landfill' (kilogram, CH, ['waste management', 'sanitary landfill'])"
      ]
     },
     "execution_count": 15,
     "metadata": {},
     "output_type": "execute_result"
    }
   ],
   "source": [
    "random_act = bw.Database('ecoinvent 2.2').random()\n",
    "random_act"
   ]
  },
  {
   "cell_type": "code",
   "execution_count": 16,
   "metadata": {
    "collapsed": false
   },
   "outputs": [
    {
     "data": {
      "text/plain": [
       "[0.2266588766364485,\n",
       " 0.24330160744554438,\n",
       " 0.06985443727526659,\n",
       " 0.19042512526560224,\n",
       " 0.12386418104725405,\n",
       " 0.21290091507276002,\n",
       " 0.16209711722975312,\n",
       " 0.14210937537119828,\n",
       " 0.08964117254743804,\n",
       " 0.17755529437574913]"
      ]
     },
     "execution_count": 16,
     "metadata": {},
     "output_type": "execute_result"
    }
   ],
   "source": [
    "myFirstMonteCarlo = bw.MonteCarloLCA({random_act:1},  ('IPCC 2013', 'climate change', 'GWP 100a'))\n",
    "scores = [next(myFirstMonteCarlo) for _ in range(10)]\n",
    "scores"
   ]
  },
  {
   "cell_type": "markdown",
   "metadata": {},
   "source": [
    "### How it works  \n",
    "  - Matrices are built as in standard LCA (using the approach seen this morning `builder`)  \n",
    "  - The `MCRandomNumberGenerator` generates new values for all paramters in the $A$ and $B$ matrices (and for characterization factors if the LCA has an LCIA component, i.e. if `MonteCarloLCA` was instantiatied with a method).  \n",
    "  - For every subsequent iteration, matrices are rebuilt with new sampled values BUT same indices, cutting down on matrix building time  \n",
    "  - Rather than solving the system of linear equations directly, an *iterative solver* is used. This takes as an initial guess the solution found with the paramter values from the first Monte Carlo iteration.   "
   ]
  },
  {
   "cell_type": "markdown",
   "metadata": {},
   "source": [
    "### Monte Carlo using multiple impact assessment methods (no uncertainty on characterization factors)\n",
    "There is presently no method in Brightway that does MonteCarlo iterationswith multiple LCIA methods. This can be annoying since the results obtained for different impact categories are correlated (they depend on some of the same paramters from the $A$ and, to a smaller extent, $B$ matrix), but this correlation is lost when you need to do Monte Carlo simulations sequentially. \n",
    "There are two obvious solutions (and probably many other, not so obvious solutions):  "
   ]
  },
  {
   "cell_type": "markdown",
   "metadata": {},
   "source": [
    "**Solution 1**: One can store the $A$ and $B$ matrix values and reuse them. This is possible using the `ParameterVectorLCA` class of Monte Carlo, which generates a single array with all these parameters as well as sampled characterization factors. While not implemented, it would be possible to concatenate many such vectors (one per MonteCarlo iteration) and recalculate LCIA scores using matrices built using `ParameterVectorLCA.rebuild_all`."
   ]
  },
  {
   "cell_type": "markdown",
   "metadata": {},
   "source": [
    "**Solution 2**: If there is no uncertainy associated with the characterization factors, one can instead store characterization matrices and multiply the inventory resulting from MonteCarloLCA for each iteration.  "
   ]
  },
  {
   "cell_type": "markdown",
   "metadata": {
    "solution2": "shown",
    "solution2_first": true
   },
   "source": [
    "**Exercise**: Write a function that uses MonteCarloLCA and calculates arrays of scores for multiple impact categories. Test your function with a functional unit = {random_act:1}, list of methods = all ILCD methods (with long term emissions) and 1000 MOnte Carlo iterations.\n",
    "\n",
    "Step 1) Create a MonteCarloLCA object with some functional unit but no method. Run `.lci` to build the $A$ and $B$ matrices (and hence fix the indices of our matrices)  \n",
    "Step 2) Create a 'C_matrices' dictionary (empty for now), that will collect characterization factor matrices (C matrices). Keys will be the tuple representing the method name, and the values will be the actual matrices.  \n",
    "Step 3) Write a `for` loop that iterates over a list of method names and stores the method_name:C_matrix in the dictionary. Use `switch_method` to do this.  \n",
    "Once this dictionary is built:  \n",
    "Step 4): Create an empty array (`np.empty`) of dimension equal to the number of methods that will be considered (rows) by the number of iterations required (columns).  \n",
    "Step 5) Populate this array using a `for` loop over the number of MonteCarlo iterations required (use `next` to rebuild the $A$ and $B$ matrices). Include a nested `for` loop over the methods and multiply the characterization matrix with the inventory.  \n",
    "Step 6) Take all this code and structure it in a function that takes as arguments (1) the functional unit, (2) a list of method names and (3) the number of iterations."
   ]
  },
  {
   "cell_type": "code",
   "execution_count": 17,
   "metadata": {
    "collapsed": true,
    "solution2": "shown"
   },
   "outputs": [],
   "source": [
    "def multiImpactMonteCarloLCA(functional_unit, list_methods, iterations):\n",
    "    # Step 1\n",
    "    MC_lca = bw.MonteCarloLCA(functional_unit)\n",
    "    MC_lca.lci()\n",
    "    # Step 2\n",
    "    C_matrices = {}\n",
    "    # Step 3\n",
    "    for method in list_methods:\n",
    "        MC_lca.switch_method(method)\n",
    "        C_matrices[method] = MC_lca.characterization_matrix\n",
    "    # Step 4\n",
    "    results = np.empty((len(list_methods), iterations))\n",
    "    # Step 5\n",
    "    for iteration in range(iterations):\n",
    "        next(MC_lca)\n",
    "        for method_index, method in enumerate(list_methods):\n",
    "            results[method_index, iteration] = (C_matrices[method]*MC_lca.inventory).sum()\n",
    "    return results"
   ]
  },
  {
   "cell_type": "code",
   "execution_count": 18,
   "metadata": {
    "collapsed": false,
    "solution2": "shown"
   },
   "outputs": [],
   "source": [
    "ILCD = [method for method in bw.methods if \"ILCD\" in str(method) and \"no LT\" not in str(method)]\n",
    "fu = {random_act:1}\n",
    "iterations = 100"
   ]
  },
  {
   "cell_type": "code",
   "execution_count": 19,
   "metadata": {
    "collapsed": false,
    "solution2": "shown"
   },
   "outputs": [],
   "source": [
    "test_results = multiImpactMonteCarloLCA(fu, ILCD, iterations)"
   ]
  },
  {
   "cell_type": "code",
   "execution_count": 20,
   "metadata": {
    "collapsed": false,
    "solution2": "shown"
   },
   "outputs": [
    {
     "data": {
      "text/plain": [
       "array([[  8.24932399e-07,   3.56992710e-06,   5.99090789e-07, ...,\n",
       "          1.86062909e-06,   1.06484555e-06,   9.01210864e-07],\n",
       "       [  9.60372410e-06,   1.03202751e-05,   1.00134352e-05, ...,\n",
       "          7.65655170e-06,   1.57023553e-05,   1.31992180e-05],\n",
       "       [  5.06932810e-04,   4.15442109e-04,   3.89062868e-04, ...,\n",
       "          3.64524547e-04,   9.00374102e-04,   7.27372829e-04],\n",
       "       ..., \n",
       "       [  1.84721041e-03,   4.89652448e-04,   5.16206921e-04, ...,\n",
       "          8.86926518e-04,   8.16891137e-04,   8.56551544e-04],\n",
       "       [  2.44920458e-07,   9.00140326e-09,   2.95517100e-09, ...,\n",
       "          7.87446771e-09,   3.77496471e-09,   4.47373615e-09],\n",
       "       [  2.86973143e-04,   1.63116954e-04,   1.26046679e-04, ...,\n",
       "          1.46994836e-04,   2.64839430e-04,   2.73189221e-04]])"
      ]
     },
     "execution_count": 20,
     "metadata": {},
     "output_type": "execute_result"
    }
   ],
   "source": [
    "test_results"
   ]
  }
 ],
 "metadata": {
  "kernelspec": {
   "display_name": "Python 3",
   "language": "python",
   "name": "python3"
  },
  "language_info": {
   "codemirror_mode": {
    "name": "ipython",
    "version": 3
   },
   "file_extension": ".py",
   "mimetype": "text/x-python",
   "name": "python",
   "nbconvert_exporter": "python",
   "pygments_lexer": "ipython3",
   "version": "3.5.2"
  },
  "widgets": {
   "state": {},
   "version": "1.1.2"
  }
 },
 "nbformat": 4,
 "nbformat_minor": 2
}
