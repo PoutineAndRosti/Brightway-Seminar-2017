{
 "cells": [
  {
   "cell_type": "markdown",
   "metadata": {},
   "source": [
    "# Brightway2 seminar\n",
    "Chris Mutel ([PSI](https://www.psi.ch/)), Pascal Lesage ([CIRAIG](http://www.ciraig.org/en/))"
   ]
  },
  {
   "cell_type": "markdown",
   "metadata": {},
   "source": [
    "## Day 1, afternoon  \n",
    "Session on working with `Activity` and ` Exchange` proxies "
   ]
  },
  {
   "cell_type": "markdown",
   "metadata": {},
   "source": [
    "### Learning objectives  \n",
    "  - Work with `Activity` and ` Exchange` proxies (copy, add, modify, delete)  \n",
    "  - (OPTIONAL - CHRIS?) Calculate uncertainty based on Pedigree  "
   ]
  },
  {
   "cell_type": "markdown",
   "metadata": {},
   "source": [
    "**Exercise**: Create a new activity for offset printing in Quebec (CA-QC) that is based on a copy of the activity `'offset printing, per kg printed paper' (kilogram, CH, None)`. It is to have the following modifications:  \n",
    "  - Its location is to be changed to \"CA-QC\"  \n",
    "  - Its source of electricity is to be changed to electricity from the market for low-voltage electricity in CA-QC  \n",
    "  - Suppose the printing generates no waste. Its paper input needs to be set to 1kg, and its waste paper output needs to be deleted. \n",
    "\n",
    "CHRIS: this may be fun, but probably would take too long.\n",
    "  - The Pedigree matrix scores for the exchanges are to be modified  \n",
    "  - The uncertainty is to be modified based on these modified Pedigree scores"
   ]
  },
  {
   "cell_type": "markdown",
   "metadata": {},
   "source": [
    "**Step 1**: Import Brightway as bw, open the seminar project and make a copy of the ecoinvent v3.3 database (this step can be long, let's do it before the break)."
   ]
  },
  {
   "cell_type": "code",
   "execution_count": 1,
   "metadata": {
    "collapsed": true
   },
   "outputs": [],
   "source": [
    "import brightway2 as bw"
   ]
  },
  {
   "cell_type": "code",
   "execution_count": 2,
   "metadata": {
    "collapsed": false
   },
   "outputs": [],
   "source": [
    "bw.projects.set_current('bw2_seminar_2017')"
   ]
  },
  {
   "cell_type": "code",
   "execution_count": 3,
   "metadata": {
    "collapsed": false
   },
   "outputs": [
    {
     "name": "stderr",
     "output_type": "stream",
     "text": [
      "Writing activities to SQLite3 database:\n",
      "0%                          100%\n",
      "[##############################] | ETA: 00:00:00\n",
      "Total time elapsed: 00:21:24\n"
     ]
    },
    {
     "name": "stdout",
     "output_type": "stream",
     "text": [
      "Title: Writing activities to SQLite3 database:\n",
      "  Started: 03/27/2017 16:27:47\n",
      "  Finished: 03/27/2017 16:49:11\n",
      "  Total time elapsed: 00:21:24\n",
      "  CPU %: 12.20\n",
      "  Memory %: 22.40\n"
     ]
    }
   ],
   "source": [
    "if 'ecoinvent 3.3 cutoff copy' not in bw.databases:\n",
    "    bw.Database('ecoinvent 3.3 cutoff').copy('ecoinvent 3.3 cutoff copy')\n",
    "else:\n",
    "    print('A copy already exists')\n",
    "eidb = bw.Database('ecoinvent 3.3 cutoff copy')"
   ]
  },
  {
   "cell_type": "markdown",
   "metadata": {},
   "source": [
    "**Step 2**: Create a copy of the activity `'offset printing, per kg printed paper' (kilogram, CH, None)` and assign it to a variable.  "
   ]
  },
  {
   "cell_type": "code",
   "execution_count": 4,
   "metadata": {
    "collapsed": true
   },
   "outputs": [],
   "source": [
    "# Solution\n",
    "CH_printing = [act for act in eidb if \"offset printing\" in act['name'] if act['location']==\"CH\"][0]\n",
    "QC_printing = CH_printing.copy()"
   ]
  },
  {
   "cell_type": "markdown",
   "metadata": {},
   "source": [
    "**Step 3**: Just a check: make sure that the key of the activities are not the same"
   ]
  },
  {
   "cell_type": "code",
   "execution_count": 5,
   "metadata": {
    "collapsed": false
   },
   "outputs": [
    {
     "data": {
      "text/plain": [
       "False"
      ]
     },
     "execution_count": 5,
     "metadata": {},
     "output_type": "execute_result"
    }
   ],
   "source": [
    "CH_printing.key == QC_printing.key"
   ]
  },
  {
   "cell_type": "markdown",
   "metadata": {},
   "source": [
    "**Step 4**: Change the QC activity's location to \"CA-QC\""
   ]
  },
  {
   "cell_type": "code",
   "execution_count": 6,
   "metadata": {
    "collapsed": true
   },
   "outputs": [],
   "source": [
    "QC_printing['location']=\"CA-QC\"\n",
    "QC_printing.save()"
   ]
  },
  {
   "cell_type": "markdown",
   "metadata": {},
   "source": [
    "**Step 5**: Find the electricity exchange to be replaced in the Quebec printing activity."
   ]
  },
  {
   "cell_type": "code",
   "execution_count": 7,
   "metadata": {
    "collapsed": false
   },
   "outputs": [
    {
     "data": {
      "text/plain": [
       "Exchange: 0.719 kilowatt hour 'market for electricity, low voltage' (kilowatt hour, CH, None) to 'offset printing, per kg printed paper' (kilogram, CA-QC, None)>"
      ]
     },
     "execution_count": 7,
     "metadata": {},
     "output_type": "execute_result"
    }
   ],
   "source": [
    "electricity_input_exchange = [exc for exc in QC_printing.technosphere() if \"electricity\" in exc['name']][0]\n",
    "electricity_input_exchange"
   ]
  },
  {
   "cell_type": "markdown",
   "metadata": {},
   "source": [
    "**Step 6**: Find the activity that this exchange needs to be relinked to."
   ]
  },
  {
   "cell_type": "code",
   "execution_count": 8,
   "metadata": {
    "collapsed": false
   },
   "outputs": [],
   "source": [
    "qc_elect=[act for act in eidb \n",
    "                     if 'electricity' in act['name']\n",
    "                     if 'low voltage' in act['name']\n",
    "                     if 'market' in act['activity type']\n",
    "                     if act['location']=='CA-QC'\n",
    "                     ][0]"
   ]
  },
  {
   "cell_type": "code",
   "execution_count": 9,
   "metadata": {
    "collapsed": false
   },
   "outputs": [
    {
     "data": {
      "text/plain": [
       "'market for electricity, low voltage' (kilowatt hour, CA-QC, None)"
      ]
     },
     "execution_count": 9,
     "metadata": {},
     "output_type": "execute_result"
    }
   ],
   "source": [
    "qc_elect"
   ]
  },
  {
   "cell_type": "markdown",
   "metadata": {},
   "source": [
    "**Step 7**: Relink the electricity input exchange to the QC electricity:"
   ]
  },
  {
   "cell_type": "code",
   "execution_count": 10,
   "metadata": {
    "collapsed": true
   },
   "outputs": [],
   "source": [
    "electricity_input_exchange['input'] = qc_elect.key\n",
    "electricity_input_exchange.save()"
   ]
  },
  {
   "cell_type": "markdown",
   "metadata": {},
   "source": [
    "**Step 8**: Delete the waste paper output."
   ]
  },
  {
   "cell_type": "code",
   "execution_count": 11,
   "metadata": {
    "collapsed": false
   },
   "outputs": [
    {
     "data": {
      "text/plain": [
       "Exchange: -0.0882 kilogram 'market for waste paperboard' (kilogram, CH, None) to 'offset printing, per kg printed paper' (kilogram, CA-QC, None)>"
      ]
     },
     "execution_count": 11,
     "metadata": {},
     "output_type": "execute_result"
    }
   ],
   "source": [
    "waste_paper_output = [exc for exc in QC_printing.technosphere() if \"paper\" in exc['name'] if exc['amount']<0][0]\n",
    "waste_paper_output"
   ]
  },
  {
   "cell_type": "code",
   "execution_count": 12,
   "metadata": {
    "collapsed": true
   },
   "outputs": [],
   "source": [
    "waste_paper_output.delete()"
   ]
  },
  {
   "cell_type": "markdown",
   "metadata": {},
   "source": [
    "**Step 9**: Change the paper input amount to 1 kg."
   ]
  },
  {
   "cell_type": "code",
   "execution_count": 13,
   "metadata": {
    "collapsed": false
   },
   "outputs": [
    {
     "data": {
      "text/plain": [
       "Exchange: 1.39 kilogram 'market for paper, woodfree, coated' (kilogram, RER, None) to 'offset printing, per kg printed paper' (kilogram, CA-QC, None)>"
      ]
     },
     "execution_count": 13,
     "metadata": {},
     "output_type": "execute_result"
    }
   ],
   "source": [
    "paper_input = [exc for exc in QC_printing.technosphere() if \"paper, woodfree\" in exc['name']][0]\n",
    "paper_input"
   ]
  },
  {
   "cell_type": "code",
   "execution_count": 14,
   "metadata": {
    "collapsed": true
   },
   "outputs": [],
   "source": [
    "paper_input['amount']=1\n",
    "paper_input.save()"
   ]
  },
  {
   "cell_type": "code",
   "execution_count": 15,
   "metadata": {
    "collapsed": true
   },
   "outputs": [],
   "source": [
    "QC_printing.save()"
   ]
  },
  {
   "cell_type": "markdown",
   "metadata": {},
   "source": [
    "**Final result:** "
   ]
  },
  {
   "cell_type": "code",
   "execution_count": 16,
   "metadata": {
    "collapsed": false
   },
   "outputs": [
    {
     "name": "stdout",
     "output_type": "stream",
     "text": [
      "market for white spirit 0.00305 kilogram\n",
      "market for spent solvent mixture -0.0015 kilogram\n",
      "offset printing, per kg printed paper 1.0 kilogram\n",
      "market for waste emulsion paint -0.000282 kilogram\n",
      "market for corrugated board box 0.0882 kilogram\n",
      "market for ethylene glycol monoethyl ether 0.000524 kilogram\n",
      "market for printing ink, offset, without solvent, in 47.5% solution state 0.00927 kilogram\n",
      "market for acrylic dispersion, without water, in 65% solution state 0.00119 kilogram\n",
      "market for isopropanol 0.00218 kilogram\n",
      "market for industrial machine, heavy, unspecified 0.000218 kilogram\n",
      "market for sheet rolling, aluminium 0.0249 kilogram\n",
      "market for thermoforming, with calendering 0.000398 kilogram\n",
      "market for heat, district or industrial, natural gas 1.58 megajoule\n",
      "market for synthetic rubber 0.000179 kilogram\n",
      "market for paper, woodfree, coated 1 kilogram\n",
      "market for acrylic varnish, without water, in 87.5% solution state 0.000391 kilogram\n",
      "market for electricity, low voltage 0.719 kilowatt hour\n",
      "market for maize starch 0.000172 kilogram\n",
      "market for textile, woven cotton 0.000282 kilogram\n",
      "market for aluminium, wrought alloy 0.0249 kilogram\n",
      "waste paper, unsorted, Recycled Content cut-off -0.39 kilogram\n",
      "Propylene oxide 0.000182 kilogram\n",
      "Heptane 0.000948 kilogram\n",
      "Benzene, ethyl- 9.69e-05 kilogram\n",
      "2-Propanol 0.00218 kilogram\n",
      "Toluene 8.56e-05 kilogram\n",
      "Methanol 0.0001 kilogram\n",
      "Xylene 8.56e-05 kilogram\n"
     ]
    }
   ],
   "source": [
    "for exc in QC_printing.exchanges():\n",
    "    print(bw.get_activity(exc['input'])['name'], exc['amount'], exc['unit'])"
   ]
  },
  {
   "cell_type": "code",
   "execution_count": 17,
   "metadata": {
    "collapsed": false
   },
   "outputs": [
    {
     "name": "stdout",
     "output_type": "stream",
     "text": [
      "market for white spirit 0.00305 kilogram\n",
      "market for spent solvent mixture -0.0015 kilogram\n",
      "offset printing, per kg printed paper 1.0 kilogram\n",
      "market for waste emulsion paint -0.000282 kilogram\n",
      "market for corrugated board box 0.0882 kilogram\n",
      "market for ethylene glycol monoethyl ether 0.000524 kilogram\n",
      "market for waste paperboard -0.0882 kilogram\n",
      "market for printing ink, offset, without solvent, in 47.5% solution state 0.00927 kilogram\n",
      "market for acrylic dispersion, without water, in 65% solution state 0.00119 kilogram\n",
      "market for isopropanol 0.00218 kilogram\n",
      "market for industrial machine, heavy, unspecified 0.000218 kilogram\n",
      "market for sheet rolling, aluminium 0.0249 kilogram\n",
      "market for thermoforming, with calendering 0.000398 kilogram\n",
      "market for heat, district or industrial, natural gas 1.58 megajoule\n",
      "market for synthetic rubber 0.000179 kilogram\n",
      "market for paper, woodfree, coated 1.39 kilogram\n",
      "market for acrylic varnish, without water, in 87.5% solution state 0.000391 kilogram\n",
      "market for electricity, low voltage 0.719 kilowatt hour\n",
      "market for maize starch 0.000172 kilogram\n",
      "market for textile, woven cotton 0.000282 kilogram\n",
      "market for aluminium, wrought alloy 0.0249 kilogram\n",
      "waste paper, unsorted, Recycled Content cut-off -0.39 kilogram\n",
      "Propylene oxide 0.000182 kilogram\n",
      "Heptane 0.000948 kilogram\n",
      "Benzene, ethyl- 9.69e-05 kilogram\n",
      "2-Propanol 0.00218 kilogram\n",
      "Toluene 8.56e-05 kilogram\n",
      "Methanol 0.0001 kilogram\n",
      "Xylene 8.56e-05 kilogram\n"
     ]
    }
   ],
   "source": [
    "for exc in CH_printing.exchanges():\n",
    "    print(bw.get_activity(exc['input'])['name'], exc['amount'], exc['unit'])"
   ]
  },
  {
   "cell_type": "code",
   "execution_count": null,
   "metadata": {
    "collapsed": true
   },
   "outputs": [],
   "source": []
  }
 ],
 "metadata": {
  "kernelspec": {
   "display_name": "Python 3",
   "language": "python",
   "name": "python3"
  },
  "language_info": {
   "codemirror_mode": {
    "name": "ipython",
    "version": 3
   },
   "file_extension": ".py",
   "mimetype": "text/x-python",
   "name": "python",
   "nbconvert_exporter": "python",
   "pygments_lexer": "ipython3",
   "version": "3.5.2"
  },
  "widgets": {
   "state": {},
   "version": "1.1.2"
  }
 },
 "nbformat": 4,
 "nbformat_minor": 0
}
