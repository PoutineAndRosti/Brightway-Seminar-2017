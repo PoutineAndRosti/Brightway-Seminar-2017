{
 "cells": [
  {
   "cell_type": "markdown",
   "metadata": {
    "deletable": true,
    "editable": true
   },
   "source": [
    "# Integration\n",
    "\n",
    "Brightway is designed to be used with other models, though sometimes interaction is more difficult than it should be. In this notebook, we will build a basic model of vehicle energy demand, integrate it into Brightway, and then do some global sensitivity testing."
   ]
  },
  {
   "cell_type": "markdown",
   "metadata": {
    "deletable": true,
    "editable": true
   },
   "source": [
    "# A simple vehicle energy model\n",
    "\n",
    "This model is based on the work of Brian Cox. We used first principles from physics to estimate the electrical demand of an electric car.\n",
    "\n",
    "## Input parameters:\n",
    "\n",
    "* mass (kg): Mass of car and passengers\n",
    "* efficiency (kWh/kWh): Conversion efficiency of motor electricity inputs into kinetic energy\n",
    "* surface_area (m2): Frontal surface area of car\n",
    "* aux_power (kW): Average power draw of auxillary systems, e.g. heating, control\n",
    "* motor_power (kW): Max power of car motor\n",
    "* max_recup (kWh/kWh): Max fraction of braking energy that can be recuperated\n",
    "* min_recup_speed (km/h): Minimum speed at which braking recuperating system can operate\n",
    "* Cr: Rolling resistance coefficient\n",
    "* Cd: Aerodynamic resistance coefficient\n",
    "* geno_eff (kWh/kWh): Efficiency of recuperating generator\n",
    "\n",
    "Here are the static values for these coefficients:\n",
    "\n",
    "* mass (kg): 1300\n",
    "* efficiency (kWh/kWh): 0.85\n",
    "* surface_area (m2): 2.41\n",
    "* aux_power (kW): 0.721\n",
    "* motor_power (kW): 80\n",
    "* max_recup (kWh/kWh): 0.5\n",
    "* min_recup_speed (km/h): 10\n",
    "* Cr: 0.01\n",
    "* Cd: 0.3\n",
    "* geno_eff (kWh/kWh): 0.875\n",
    "\n",
    "Our model also has some random noise added, so there are no perfect linear relationships between any parameters and any input parameters. We can see this by varying the motor efficency:"
   ]
  },
  {
   "cell_type": "code",
   "execution_count": null,
   "metadata": {
    "collapsed": false,
    "deletable": true,
    "editable": true
   },
   "outputs": [],
   "source": [
    "%matplotlib inline"
   ]
  },
  {
   "cell_type": "code",
   "execution_count": null,
   "metadata": {
    "collapsed": false,
    "deletable": true,
    "editable": true
   },
   "outputs": [],
   "source": [
    "import numpy as np\n",
    "from car_model import energy_consumption\n",
    "import matplotlib.pyplot as plt"
   ]
  },
  {
   "cell_type": "code",
   "execution_count": null,
   "metadata": {
    "collapsed": false,
    "deletable": true,
    "editable": true
   },
   "outputs": [],
   "source": [
    "efficiencies = np.linspace(0.8, 0.9, 1000)\n",
    "results = np.array([energy_consumption(\n",
    "    1300, efficiency, 2.41, 0.721, 80, 0.5, 10, 0.01, 0.3, 0.875\n",
    "    ) for efficiency in efficiencies\n",
    "])"
   ]
  },
  {
   "cell_type": "code",
   "execution_count": null,
   "metadata": {
    "collapsed": false,
    "deletable": true,
    "editable": true
   },
   "outputs": [],
   "source": [
    "plt.scatter(efficiencies, results)"
   ]
  },
  {
   "cell_type": "markdown",
   "metadata": {
    "deletable": true,
    "editable": true
   },
   "source": [
    "We can see a different pattern for minimum speed for recuperative braking:"
   ]
  },
  {
   "cell_type": "code",
   "execution_count": null,
   "metadata": {
    "collapsed": false,
    "deletable": true,
    "editable": true
   },
   "outputs": [],
   "source": [
    "variables = np.linspace(0, 50, 1000)\n",
    "results = np.array([energy_consumption(\n",
    "    1300, 0.85, 2.41, 0.721, 80, 0.9, v, 0.01, 0.3, 0.875\n",
    "    ) for v in variables\n",
    "])"
   ]
  },
  {
   "cell_type": "code",
   "execution_count": null,
   "metadata": {
    "collapsed": false,
    "deletable": true,
    "editable": true
   },
   "outputs": [],
   "source": [
    "plt.scatter(variables, results)"
   ]
  },
  {
   "cell_type": "markdown",
   "metadata": {
    "deletable": true,
    "editable": true
   },
   "source": [
    "And a final pattern for surface area:"
   ]
  },
  {
   "cell_type": "code",
   "execution_count": null,
   "metadata": {
    "collapsed": false,
    "deletable": true,
    "editable": true
   },
   "outputs": [],
   "source": [
    "variables = np.linspace(1.5, 5, 1000)\n",
    "results = np.array([energy_consumption(\n",
    "    1300, 0.85, v, 0.721, 80, 0.5, 10, 0.01, 0.3, 0.875\n",
    "    ) for v in variables\n",
    "])"
   ]
  },
  {
   "cell_type": "code",
   "execution_count": null,
   "metadata": {
    "collapsed": false,
    "deletable": true,
    "editable": true
   },
   "outputs": [],
   "source": [
    "plt.scatter(variables, results)"
   ]
  },
  {
   "cell_type": "markdown",
   "metadata": {
    "deletable": true,
    "editable": true,
    "solution": "shown",
    "solution_first": true
   },
   "source": [
    "# Integration into Brightway\n",
    "\n",
    "There are a number of ways that a model can be integrated into, or linked with, Brightway. [More info and general concepts can be found in this blog post](https://chris.mutel.org/inventory-models.html). \n",
    "\n",
    "Taking Brightway outputs as input files for other programs is relatively simple, and you should already be able to imagine the main ways to do this. \n",
    "\n",
    "Incorporating the outputs of other models into Brightway is not so simple, and you already undestand enough of the structure of Brightway to see that this can happen on several levels. Can you think of three ways that model outputs could be incorprated into a Brightway calculation?"
   ]
  },
  {
   "cell_type": "markdown",
   "metadata": {
    "deletable": true,
    "editable": true,
    "solution": "shown"
   },
   "source": [
    "* You could import the output files and create new databases\n",
    "* You could import the output files, and write processed arrays directly\n",
    "* You could use the output files to modify processed arrays before they were used to build matrices\n",
    "* You could build matrices directly from the output files"
   ]
  },
  {
   "cell_type": "code",
   "execution_count": null,
   "metadata": {
    "collapsed": false,
    "deletable": true,
    "editable": true,
    "solution": "shown"
   },
   "outputs": [],
   "source": [
    "import brightway2 as bw"
   ]
  },
  {
   "cell_type": "markdown",
   "metadata": {
    "deletable": true,
    "editable": true
   },
   "source": [
    "In this notebook, we will run our model indepent of Brightway, and modify the parameter array used to construct the technosphere matrix. Therefore, you will need to understand the `mapping` dictionary and parameter arrays!"
   ]
  },
  {
   "cell_type": "code",
   "execution_count": null,
   "metadata": {
    "collapsed": false,
    "deletable": true,
    "editable": true
   },
   "outputs": [],
   "source": [
    "bw.projects.set_current(\"bw2_seminar_2017\")"
   ]
  },
  {
   "cell_type": "markdown",
   "metadata": {
    "deletable": true,
    "editable": true
   },
   "source": [
    "We start by importing a simple database that allows us to more easily modify the electricity consumption of a car."
   ]
  },
  {
   "cell_type": "code",
   "execution_count": null,
   "metadata": {
    "collapsed": false,
    "deletable": true,
    "editable": true
   },
   "outputs": [],
   "source": [
    "cars = bw.ExcelImporter(\"data/cars.xlsx\")\n",
    "cars.apply_strategies()\n",
    "cars.match_database(\"ecoinvent 2.2\", fields=['name', 'unit', 'location'])\n",
    "assert not cars.statistics()[-1]\n",
    "cars.write_database()"
   ]
  },
  {
   "cell_type": "markdown",
   "metadata": {
    "deletable": true,
    "editable": true
   },
   "source": [
    "The current value for electricity input to our functional unit is a dummy value of 0.5:"
   ]
  },
  {
   "cell_type": "code",
   "execution_count": null,
   "metadata": {
    "collapsed": false,
    "deletable": true,
    "editable": true
   },
   "outputs": [],
   "source": [
    "driving = bw.get_activity(('Electric cars', 'driving'))\n",
    "\n",
    "for ex in driving.technosphere():\n",
    "    print(ex)"
   ]
  },
  {
   "cell_type": "markdown",
   "metadata": {
    "deletable": true,
    "editable": true
   },
   "source": [
    "If we run our model with the default inputs, we get a different value:"
   ]
  },
  {
   "cell_type": "code",
   "execution_count": null,
   "metadata": {
    "collapsed": false,
    "deletable": true,
    "editable": true
   },
   "outputs": [],
   "source": [
    "energy_consumption(1300, 0.85, 2.41, 0.721, 80, 0.5, 10, 0.01, 0.3, 0.875)"
   ]
  },
  {
   "cell_type": "markdown",
   "metadata": {
    "deletable": true,
    "editable": true
   },
   "source": [
    "To use this modelled value during the LCA calculation, we could try to disassemble the process of turning processed arrays into the correct matrices. However, it will be much easier to take a shortcut. Let's look at the method `LCA.rebuild_technosphere_matrix`:\n",
    "\n",
    "    def rebuild_technosphere_matrix(self, vector):\n",
    "        \"\"\"Build a new technosphere matrix using the same row and column indices, but different values. Useful for Monte Carlo iteration or sensitivity analysis.\n",
    "\n",
    "        Args:\n",
    "            * *vector* (array): 1-dimensional NumPy array with length (# of technosphere parameters), in same order as ``self.tech_params``.\n",
    "\n",
    "        Doesn't return anything, but overwrites ``self.technosphere_matrix``.\n",
    "\n",
    "        \"\"\"\n",
    "        self.technosphere_matrix = MatrixBuilder.build_matrix(\n",
    "            self.tech_params, self._activity_dict, self._product_dict,\n",
    "            \"row\", \"col\",\n",
    "            new_data=TBMBuilder.fix_supply_use(self.tech_params, vector.copy())\n",
    "        )\n",
    "\n",
    "So, instead of doing something complicated, all we have to do is to find the relevant row in the `tech_params` array, change it, and then call `lci_calculation()` and `lcia()`."
   ]
  },
  {
   "cell_type": "code",
   "execution_count": null,
   "metadata": {
    "collapsed": false,
    "deletable": true,
    "editable": true
   },
   "outputs": [],
   "source": [
    "lca = bw.LCA(\n",
    "    {('Electric cars', 'driving'): 1}, \n",
    "    method=('ReCiPe Endpoint (E,A)', 'human health', 'particulate matter formation')\n",
    ")\n",
    "lca.lci()"
   ]
  },
  {
   "cell_type": "markdown",
   "metadata": {
    "deletable": true,
    "editable": true
   },
   "source": [
    "The activity and biosphere dictionaries already reference row and column values:"
   ]
  },
  {
   "cell_type": "code",
   "execution_count": null,
   "metadata": {
    "collapsed": false,
    "deletable": true,
    "editable": true
   },
   "outputs": [],
   "source": [
    "lca.activity_dict"
   ]
  },
  {
   "cell_type": "markdown",
   "metadata": {
    "deletable": true,
    "editable": true
   },
   "source": [
    "So we can iterate through the `tech_params` array and select the correct element:"
   ]
  },
  {
   "cell_type": "code",
   "execution_count": null,
   "metadata": {
    "collapsed": false,
    "deletable": true,
    "editable": true
   },
   "outputs": [],
   "source": [
    "row = lca.product_dict[('Electric cars', 'electricity')]\n",
    "col = lca.activity_dict[('Electric cars', 'driving')]\n",
    "\n",
    "our_row = []\n",
    "\n",
    "for i, obj in enumerate(lca.tech_params):\n",
    "    if obj['row'] == row and obj['col'] == col:\n",
    "        our_row.append(i)\n",
    "        \n",
    "assert len(our_row) == 1\n",
    "our_row = our_row[0]\n",
    "our_row"
   ]
  },
  {
   "cell_type": "markdown",
   "metadata": {
    "deletable": true,
    "editable": true
   },
   "source": [
    "Now we can substitute in our model value in the column `amount`:"
   ]
  },
  {
   "cell_type": "code",
   "execution_count": null,
   "metadata": {
    "collapsed": false,
    "deletable": true,
    "editable": true
   },
   "outputs": [],
   "source": [
    "lca.tech_params[our_row]['amount'] = energy_consumption(1300, 0.85, 2.41, 0.721, 80, 0.5, 10, 0.01, 0.3, 0.875)\n",
    "lca.rebuild_technosphere_matrix(lca.tech_params['amount'])"
   ]
  },
  {
   "cell_type": "code",
   "execution_count": null,
   "metadata": {
    "collapsed": false,
    "deletable": true,
    "editable": true
   },
   "outputs": [],
   "source": [
    "lca.lci_calculation()\n",
    "lca.lcia()\n",
    "lca.score"
   ]
  },
  {
   "cell_type": "markdown",
   "metadata": {
    "deletable": true,
    "editable": true
   },
   "source": [
    "To prove that we actually did somthing, let's redo the LCA without this change:"
   ]
  },
  {
   "cell_type": "code",
   "execution_count": null,
   "metadata": {
    "collapsed": false,
    "deletable": true,
    "editable": true
   },
   "outputs": [],
   "source": [
    "lca = bw.LCA({('Electric cars', 'driving'): 1}, method=('ReCiPe Endpoint (E,A)', 'human health', 'particulate matter formation'))\n",
    "lca.lci()\n",
    "lca.lcia()\n",
    "lca.score"
   ]
  },
  {
   "cell_type": "code",
   "execution_count": null,
   "metadata": {
    "collapsed": true,
    "deletable": true,
    "editable": true
   },
   "outputs": [],
   "source": []
  }
 ],
 "metadata": {
  "kernelspec": {
   "display_name": "Python 3",
   "language": "python",
   "name": "python3"
  },
  "language_info": {
   "codemirror_mode": {
    "name": "ipython",
    "version": 3
   },
   "file_extension": ".py",
   "mimetype": "text/x-python",
   "name": "python",
   "nbconvert_exporter": "python",
   "pygments_lexer": "ipython3",
   "version": "3.6.1"
  },
  "toc": {
   "colors": {
    "hover_highlight": "#DAA520",
    "running_highlight": "#FF0000",
    "selected_highlight": "#FFD700"
   },
   "moveMenuLeft": true,
   "nav_menu": {
    "height": "83px",
    "width": "252px"
   },
   "navigate_menu": true,
   "number_sections": true,
   "sideBar": true,
   "threshold": 4,
   "toc_cell": false,
   "toc_section_display": "block",
   "toc_window_display": false,
   "widenNotebook": false
  }
 },
 "nbformat": 4,
 "nbformat_minor": 2
}
