{
 "cells": [
  {
   "cell_type": "markdown",
   "metadata": {},
   "source": [
    "# New Requirements\n",
    "\n",
    "* arrow\n",
    "* future\n",
    "* bw2temporalis"
   ]
  },
  {
   "cell_type": "code",
   "execution_count": 1,
   "metadata": {
    "collapsed": false
   },
   "outputs": [
    {
     "name": "stderr",
     "output_type": "stream",
     "text": [
      "Warning: Interpreting naive datetime as local 2017-03-24 17:06:31.524736. Please add timezone info to timestamps.\n"
     ]
    }
   ],
   "source": [
    "import brightway2 as bw\n",
    "import bw2temporalis as t"
   ]
  },
  {
   "cell_type": "code",
   "execution_count": 2,
   "metadata": {
    "collapsed": false
   },
   "outputs": [
    {
     "name": "stderr",
     "output_type": "stream",
     "text": [
      "Warning: Interpreting naive datetime as local 2017-03-24 17:06:32.732541. Please add timezone info to timestamps.\n"
     ]
    }
   ],
   "source": [
    "bw.projects.set_current(\"bw2 seminar 2017 😄\")"
   ]
  },
  {
   "cell_type": "code",
   "execution_count": 3,
   "metadata": {
    "collapsed": false
   },
   "outputs": [
    {
     "name": "stderr",
     "output_type": "stream",
     "text": [
      "Warning: object of type <class 'float'> cannot be safely interpreted as an integer.\n",
      "Warning: object of type <class 'float'> cannot be safely interpreted as an integer.\n",
      "Warning: object of type <class 'float'> cannot be safely interpreted as an integer.\n",
      "Warning: object of type <class 'float'> cannot be safely interpreted as an integer.\n",
      "Warning: object of type <class 'float'> cannot be safely interpreted as an integer.\n",
      "Warning: object of type <class 'float'> cannot be safely interpreted as an integer.\n",
      "Warning: object of type <class 'float'> cannot be safely interpreted as an integer.\n",
      "Warning: object of type <class 'float'> cannot be safely interpreted as an integer.\n",
      "Warning: object of type <class 'float'> cannot be safely interpreted as an integer.\n",
      "Warning: object of type <class 'float'> cannot be safely interpreted as an integer.\n",
      "Warning: object of type <class 'float'> cannot be safely interpreted as an integer.\n",
      "Warning: object of type <class 'float'> cannot be safely interpreted as an integer.\n",
      "Warning: object of type <class 'float'> cannot be safely interpreted as an integer.\n",
      "Warning: object of type <class 'float'> cannot be safely interpreted as an integer.\n",
      "Warning: object of type <class 'float'> cannot be safely interpreted as an integer.\n",
      "Warning: object of type <class 'float'> cannot be safely interpreted as an integer.\n",
      "Warning: object of type <class 'float'> cannot be safely interpreted as an integer.\n",
      "Warning: object of type <class 'float'> cannot be safely interpreted as an integer.\n",
      "Warning: Interpreting naive datetime as local 2017-03-24 17:06:32.902022. Please add timezone info to timestamps.\n"
     ]
    }
   ],
   "source": [
    "t.create_cofire_methods()"
   ]
  },
  {
   "cell_type": "code",
   "execution_count": 5,
   "metadata": {
    "collapsed": false
   },
   "outputs": [
    {
     "data": {
      "text/plain": [
       "[('GTP', 'worst case'),\n",
       " ('GTP OP base', 'worst case'),\n",
       " ('GTP OP high', 'worst case'),\n",
       " ('GTP OP low', 'worst case'),\n",
       " ('IPCC 2013', 'climate change', 'GTP 100a'),\n",
       " ('IPCC 2013', 'climate change', 'GTP 20a'),\n",
       " ('IPCC 2013 no LT', 'climate change', 'GTP 100a'),\n",
       " ('IPCC 2013 no LT', 'climate change', 'GTP 20a'),\n",
       " ('Radiative Forcing', 'worst case')]"
      ]
     },
     "execution_count": 5,
     "metadata": {},
     "output_type": "execute_result"
    },
    {
     "name": "stderr",
     "output_type": "stream",
     "text": [
      "Warning: Interpreting naive datetime as local 2017-03-24 17:10:49.534639. Please add timezone info to timestamps.\n"
     ]
    }
   ],
   "source": [
    "sorted([x for x in bw.methods if ('GTP' in str(x) or 'Radiative' in str(x))])"
   ]
  },
  {
   "cell_type": "code",
   "execution_count": null,
   "metadata": {
    "collapsed": true
   },
   "outputs": [],
   "source": []
  }
 ],
 "metadata": {
  "kernelspec": {
   "display_name": "Python 3",
   "language": "python",
   "name": "python3"
  },
  "language_info": {
   "codemirror_mode": {
    "name": "ipython",
    "version": 3
   },
   "file_extension": ".py",
   "mimetype": "text/x-python",
   "name": "python",
   "nbconvert_exporter": "python",
   "pygments_lexer": "ipython3",
   "version": "3.6.0"
  }
 },
 "nbformat": 4,
 "nbformat_minor": 2
}
