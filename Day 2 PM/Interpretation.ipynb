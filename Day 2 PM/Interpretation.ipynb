{
 "cells": [
  {
   "cell_type": "markdown",
   "metadata": {
    "deletable": true,
    "editable": true
   },
   "source": [
    "# Interpretation\n",
    "\n",
    "The notebook shows some of the functionality of the [bw2analyzer](https://bitbucket.org/cmutel/brightway2-analyzer) library."
   ]
  },
  {
   "cell_type": "code",
   "execution_count": null,
   "metadata": {
    "collapsed": true,
    "deletable": true,
    "editable": true
   },
   "outputs": [],
   "source": [
    "import brightway2 as bw\n",
    "import bw2analyzer as bwa\n",
    "import pyprind\n",
    "import seaborn as sns\n",
    "import numpy as np"
   ]
  },
  {
   "cell_type": "code",
   "execution_count": null,
   "metadata": {
    "collapsed": false,
    "deletable": true,
    "editable": true
   },
   "outputs": [],
   "source": [
    "!conda install -y seaborn"
   ]
  },
  {
   "cell_type": "code",
   "execution_count": null,
   "metadata": {
    "collapsed": false,
    "deletable": true,
    "editable": true
   },
   "outputs": [],
   "source": [
    "bw.projects.set_current(\"bw2_seminar_2017\")"
   ]
  },
  {
   "cell_type": "markdown",
   "metadata": {
    "collapsed": true,
    "deletable": true,
    "editable": true
   },
   "source": [
    "Let's get inventory and a characterized inventory matrices, and make sure we have an LCIA score to interpret!"
   ]
  },
  {
   "cell_type": "code",
   "execution_count": null,
   "metadata": {
    "collapsed": false,
    "deletable": true,
    "editable": true
   },
   "outputs": [],
   "source": [
    "lca = bw.LCA({bw.Database('ecoinvent 2.2').random(): 1}, bw.methods.random())\n",
    "lca.lci()\n",
    "lca.lcia()\n",
    "lca.score"
   ]
  },
  {
   "cell_type": "markdown",
   "metadata": {
    "deletable": true,
    "editable": true
   },
   "source": [
    "# Contribution analysis\n",
    "\n",
    "Find the most damaging activities and biosphere flows.\n",
    "\n",
    "`annotated_top_processes` will return a list of tuples: ``(lca score, supply amount, activity name)``."
   ]
  },
  {
   "cell_type": "code",
   "execution_count": null,
   "metadata": {
    "collapsed": false,
    "deletable": true,
    "editable": true
   },
   "outputs": [],
   "source": [
    "ca = bwa.ContributionAnalysis()\n",
    "ca.annotated_top_processes(lca, limit=5)"
   ]
  },
  {
   "cell_type": "code",
   "execution_count": null,
   "metadata": {
    "collapsed": false,
    "deletable": true,
    "editable": true
   },
   "outputs": [],
   "source": [
    "lca.demand"
   ]
  },
  {
   "cell_type": "code",
   "execution_count": null,
   "metadata": {
    "collapsed": false,
    "deletable": true,
    "editable": true
   },
   "outputs": [],
   "source": [
    "lca.method"
   ]
  },
  {
   "cell_type": "markdown",
   "metadata": {
    "deletable": true,
    "editable": true
   },
   "source": [
    "We can also set a limit below one, which will filter by fraction of impact instead of number of activities; we can also return activity *keys* instead of names."
   ]
  },
  {
   "cell_type": "code",
   "execution_count": null,
   "metadata": {
    "collapsed": false,
    "deletable": true,
    "editable": true
   },
   "outputs": [],
   "source": [
    "ca = bwa.ContributionAnalysis()\n",
    "ca.annotated_top_processes(lca, names=False, limit=0.02, limit_type='percent')"
   ]
  },
  {
   "cell_type": "markdown",
   "metadata": {
    "deletable": true,
    "editable": true
   },
   "source": [
    "And of course we can do the same for elementary flows:"
   ]
  },
  {
   "cell_type": "code",
   "execution_count": null,
   "metadata": {
    "collapsed": false,
    "deletable": true,
    "editable": true
   },
   "outputs": [],
   "source": [
    "ca = bwa.ContributionAnalysis()\n",
    "ca.annotated_top_emissions(lca, limit=0.02, limit_type='percent')"
   ]
  },
  {
   "cell_type": "markdown",
   "metadata": {
    "deletable": true,
    "editable": true
   },
   "source": [
    "In addition to contribution analysis, we can also look at individual activities (columns) or flows (rows); you (should have) learned to do this already :)\n",
    "\n",
    "What is we want to group names together, i.e. to get the total impact for all \"phosphates\"? There isn't a built-in function for this, but it is relatively easy to do."
   ]
  },
  {
   "cell_type": "code",
   "execution_count": null,
   "metadata": {
    "collapsed": false,
    "deletable": true,
    "editable": true
   },
   "outputs": [],
   "source": [
    "from collections import defaultdict\n",
    "\n",
    "all_unique_names_and_their_keys = defaultdict(list)\n",
    "\n",
    "for flow in bw.Database(\"biosphere3\"):\n",
    "    if flow.key in lca.biosphere_dict:\n",
    "        all_unique_names_and_their_keys[flow['name']].append(flow.key)\n",
    "    \n",
    "all_unique_names_and_their_keys"
   ]
  },
  {
   "cell_type": "code",
   "execution_count": null,
   "metadata": {
    "collapsed": false,
    "deletable": true,
    "editable": true
   },
   "outputs": [],
   "source": [
    "all_unique_names_and_their_rows = {\n",
    "    name: [lca.biosphere_dict[key] for key in keys] \n",
    "    for name, keys in all_unique_names_and_their_keys.items()\n",
    "}\n",
    "\n",
    "all_unique_names_and_their_rows"
   ]
  },
  {
   "cell_type": "code",
   "execution_count": null,
   "metadata": {
    "collapsed": false,
    "deletable": true,
    "editable": true
   },
   "outputs": [],
   "source": [
    "all_unique_names_and_their_scores = {\n",
    "    name: [lca.characterized_inventory[row, :].sum() for row in rows]\n",
    "    for name, rows in all_unique_names_and_their_rows.items()\n",
    "}\n",
    "\n",
    "all_unique_names_and_their_scores"
   ]
  },
  {
   "cell_type": "markdown",
   "metadata": {
    "deletable": true,
    "editable": true
   },
   "source": [
    "Now I am going to switch the order, from `name, rows` to `total scores, name`, because I want to sort by the impact. I will also ignore zeros, as they are uninteresting in this context.\n",
    "\n",
    "By default, sorting will be smallest number first, so we say `reverse=True` to get highest number first."
   ]
  },
  {
   "cell_type": "code",
   "execution_count": null,
   "metadata": {
    "collapsed": false,
    "deletable": true,
    "editable": true
   },
   "outputs": [],
   "source": [
    "sorted_scores = sorted(\n",
    "    [(sum(scores), name) for name, scores in all_unique_names_and_their_scores.items()], \n",
    "    reverse=True\n",
    ")\n",
    "\n",
    "sorted_scores[:10]"
   ]
  },
  {
   "cell_type": "markdown",
   "metadata": {
    "deletable": true,
    "editable": true
   },
   "source": [
    "We can also encapsulate all this functionality in a single function (which should be added to `bw2analyzer`!)"
   ]
  },
  {
   "cell_type": "code",
   "execution_count": null,
   "metadata": {
    "collapsed": false,
    "deletable": true,
    "editable": true
   },
   "outputs": [],
   "source": [
    "from collections import defaultdict\n",
    "\n",
    "def top_emissions_by_name(lca, biosphere_database='biosphere3'):\n",
    "    names = defaultdict(list)\n",
    "\n",
    "    for flow in bw.Database(\"biosphere3\"):\n",
    "        if flow.key in lca.biosphere_dict:\n",
    "            names[flow['name']].append(\n",
    "                lca.characterized_inventory[lca.biosphere_dict[flow.key], :].sum()\n",
    "            )\n",
    "    \n",
    "    return sorted(\n",
    "        [(sum(scores), name) for name, scores in names.items()], \n",
    "        reverse=True\n",
    "    )"
   ]
  },
  {
   "cell_type": "code",
   "execution_count": null,
   "metadata": {
    "collapsed": false,
    "deletable": true,
    "editable": true
   },
   "outputs": [],
   "source": [
    "top_emissions_by_name(lca)[:5]"
   ]
  },
  {
   "cell_type": "markdown",
   "metadata": {
    "deletable": true,
    "editable": true
   },
   "source": [
    "# Graph the technosphere matrix"
   ]
  },
  {
   "cell_type": "code",
   "execution_count": null,
   "metadata": {
    "collapsed": true,
    "deletable": true,
    "editable": true
   },
   "outputs": [],
   "source": [
    "%matplotlib inline"
   ]
  },
  {
   "cell_type": "code",
   "execution_count": null,
   "metadata": {
    "collapsed": true,
    "deletable": true,
    "editable": true
   },
   "outputs": [],
   "source": [
    "from bw2analyzer.matrix_grapher import SparseMatrixGrapher"
   ]
  },
  {
   "cell_type": "code",
   "execution_count": null,
   "metadata": {
    "collapsed": false,
    "deletable": true,
    "editable": true
   },
   "outputs": [],
   "source": [
    "SparseMatrixGrapher(lca.biosphere_matrix).graph()"
   ]
  },
  {
   "cell_type": "code",
   "execution_count": null,
   "metadata": {
    "collapsed": false,
    "deletable": true,
    "editable": true
   },
   "outputs": [],
   "source": [
    " lca.technosphere_matrix"
   ]
  },
  {
   "cell_type": "markdown",
   "metadata": {
    "deletable": true,
    "editable": true
   },
   "source": [
    "Try to do this as well for the biosphere matrix and characterization matrix.\n",
    "\n",
    "We can also change the way the rows are ordered to be prettier:"
   ]
  },
  {
   "cell_type": "code",
   "execution_count": null,
   "metadata": {
    "collapsed": false,
    "deletable": true,
    "editable": true
   },
   "outputs": [],
   "source": [
    "SparseMatrixGrapher(lca.technosphere_matrix).ordered_graph()"
   ]
  },
  {
   "cell_type": "markdown",
   "metadata": {
    "collapsed": true,
    "deletable": true,
    "editable": true
   },
   "source": [
    "# Econometric indicators\n",
    "\n",
    "`bw2analyzer` provides the [Gini coefficient](https://en.wikipedia.org/wiki/Gini_coefficient), [Herfindahl index](https://en.wikipedia.org/wiki/Herfindahl_index), [Theil index](https://en.wikipedia.org/wiki/Herfindahl_index), and [Concentration ratio](https://en.wikipedia.org/wiki/Concentration_ratio).\n",
    "\n",
    "These indices can be applied to any matrix, or subsection of a matrix. Let's consider the Gini coefficent for all elements in the characterized inventory matrix. We will filter to only consider non-zero values."
   ]
  },
  {
   "cell_type": "code",
   "execution_count": null,
   "metadata": {
    "collapsed": false,
    "deletable": true,
    "editable": true
   },
   "outputs": [],
   "source": [
    "all_values_in_characterized_inventory = lca.characterized_inventory.data\n",
    "all_values_in_characterized_inventory.shape"
   ]
  },
  {
   "cell_type": "code",
   "execution_count": null,
   "metadata": {
    "collapsed": false,
    "deletable": true,
    "editable": true
   },
   "outputs": [],
   "source": [
    "non_zero_values = all_values_in_characterized_inventory != 0\n",
    "non_zero_values.sum()"
   ]
  },
  {
   "cell_type": "code",
   "execution_count": null,
   "metadata": {
    "collapsed": false,
    "deletable": true,
    "editable": true
   },
   "outputs": [],
   "source": [
    "bwa.econ.gini_coefficient(all_values_in_characterized_inventory[non_zero_values])"
   ]
  },
  {
   "cell_type": "markdown",
   "metadata": {
    "deletable": true,
    "editable": true
   },
   "source": [
    "This is quite typical in LCA, as most activities and flows do not contribute to a given impact category, either because they are not characterized, or because the activities have no biosphere flows at all.\n",
    "\n",
    "Let's also calculate our other econometric indices:"
   ]
  },
  {
   "cell_type": "code",
   "execution_count": null,
   "metadata": {
    "collapsed": false,
    "deletable": true,
    "editable": true
   },
   "outputs": [],
   "source": [
    "data = all_values_in_characterized_inventory[non_zero_values]\n",
    "\n",
    "bwa.econ.herfindahl_index(data), bwa.econ.theil_index(data), bwa.econ.concentration_ratio(data)"
   ]
  },
  {
   "cell_type": "markdown",
   "metadata": {
    "deletable": true,
    "editable": true
   },
   "source": [
    "Not much we can learn from that... what about if we examine everything in ecoinvent?"
   ]
  },
  {
   "cell_type": "code",
   "execution_count": null,
   "metadata": {
    "collapsed": false,
    "deletable": true,
    "editable": true
   },
   "outputs": [],
   "source": [
    "index_scores = {\n",
    "    'gini': [],\n",
    "    'concentration': [],\n",
    "    'theil': [],\n",
    "    'herfindahl': []\n",
    "}\n",
    "\n",
    "lca.switch_method(bw.methods.random())\n",
    "\n",
    "for act in pyprind.prog_bar(bw.Database(\"ecoinvent 2.2\")):\n",
    "    lca.redo_lcia({act: 1})\n",
    "    data = lca.characterized_inventory.data[lca.characterized_inventory.data != 0]\n",
    "    if not data.shape[0]:\n",
    "        continue\n",
    "    index_scores['gini'].append(bwa.econ.gini_coefficient(data))\n",
    "    index_scores['concentration'].append(bwa.econ.concentration_ratio(data))\n",
    "    index_scores['theil'].append(bwa.econ.theil_index(data))\n",
    "    index_scores['herfindahl'].append(bwa.econ.herfindahl_index(data))    "
   ]
  },
  {
   "cell_type": "code",
   "execution_count": null,
   "metadata": {
    "collapsed": false,
    "deletable": true,
    "editable": true
   },
   "outputs": [],
   "source": [
    "sns.distplot(index_scores['gini'])"
   ]
  },
  {
   "cell_type": "code",
   "execution_count": null,
   "metadata": {
    "collapsed": false,
    "deletable": true,
    "editable": true
   },
   "outputs": [],
   "source": [
    "sns.distplot(index_scores['concentration'])"
   ]
  },
  {
   "cell_type": "code",
   "execution_count": null,
   "metadata": {
    "collapsed": false,
    "deletable": true,
    "editable": true
   },
   "outputs": [],
   "source": [
    "sns.distplot(index_scores['theil'])"
   ]
  },
  {
   "cell_type": "code",
   "execution_count": null,
   "metadata": {
    "collapsed": false,
    "deletable": true,
    "editable": true
   },
   "outputs": [],
   "source": [
    "scores = np.array(index_scores['herfindahl'])\n",
    "filtered_herfindahl = scores[scores > 0]\n",
    "\n",
    "sns.distplot(filtered_herfindahl)"
   ]
  },
  {
   "cell_type": "code",
   "execution_count": null,
   "metadata": {
    "collapsed": true,
    "deletable": true,
    "editable": true
   },
   "outputs": [],
   "source": []
  }
 ],
 "metadata": {
  "kernelspec": {
   "display_name": "Python 3",
   "language": "python",
   "name": "python3"
  },
  "language_info": {
   "codemirror_mode": {
    "name": "ipython",
    "version": 3
   },
   "file_extension": ".py",
   "mimetype": "text/x-python",
   "name": "python",
   "nbconvert_exporter": "python",
   "pygments_lexer": "ipython3",
   "version": "3.6.1"
  },
  "toc": {
   "colors": {
    "hover_highlight": "#DAA520",
    "running_highlight": "#FF0000",
    "selected_highlight": "#FFD700"
   },
   "moveMenuLeft": true,
   "nav_menu": {
    "height": "83px",
    "width": "252px"
   },
   "navigate_menu": true,
   "number_sections": true,
   "sideBar": true,
   "threshold": 4,
   "toc_cell": false,
   "toc_section_display": "block",
   "toc_window_display": false,
   "widenNotebook": false
  }
 },
 "nbformat": 4,
 "nbformat_minor": 2
}
